{
 "cells": [
  {
   "cell_type": "markdown",
   "metadata": {},
   "source": [
    "**Задачи:**\n",
    "\n",
    "\n",
    "\n",
    "**Часть 1:**\n",
    "**Гипотезы\n",
    "\n",
    "\n",
    "* <a href='#ice'>Фреймворк ICE.</a>\n",
    "* <a href='#rice'>Фреймворк RICE.</a>\n",
    "* <a href='#result'>Выводы.</a>\n",
    "\n",
    "**Часть 2:**\n",
    "**Анализ А/В теста**\n",
    "\n",
    "* <a href='#1'>Построить график кумулятивной выручки по группам.</a>\n",
    "* <a href='#2'>Построить график кумулятивного среднего чека по группам.</a>\n",
    "* <a href='#3'>Построить график относительного изменения кумулятивного среднего чека группы B к группе A.<a/>\n",
    "* <a href='#4'>Построить график кумулятивного среднего количества заказов по группам.<a/> \n",
    "* <a href='#5'>Построить график относительного изменения кумулятивного среднего количества заказов группы B к группе A.<a/>\n",
    "* <a href='#6'>Построить точечный график количества заказов по пользователям.<a/>\n",
    "* <a href='#7'>Вывести 95-й и 99-й перцентили количества заказов на пользователя. Выбрать границу для определения аномальных пользователей.<a/>\n",
    "* <a href='#8'>Пстроить точечный график стоимостей заказов. <a/>\n",
    "* <a href='#9'>Вывести 95-й и 99-й перцентили стоимости заказов. Выбрать границу для определения аномальных заказов.<a/>\n",
    "* <a href='#10'>Посчитать статистическую значимость различий в среднем количестве заказов между группами по «сырым» данным.<a/>\n",
    "* <a href='#11'>Посчитать статистическую значимость различий в среднем чеке заказа между группами по «сырым» данным. <a/>\n",
    "* <a href='#12'>Посчитать статистическую значимость различий в среднем количестве заказов между группами по «очищенным» данным. <a/>\n",
    "* <a href='#13'>Посчитать статистическую значимость различий в среднем чеке заказа между группами по «очищенным» данным.<a/>\n",
    "* <a href='#14'>Выводы по АВ тесту<a/>"
   ]
  },
  {
   "cell_type": "markdown",
   "metadata": {},
   "source": [
    "**Импортируем необходимые для работы библиотеки**"
   ]
  },
  {
   "cell_type": "code",
   "execution_count": 1,
   "metadata": {},
   "outputs": [],
   "source": [
    "import pandas as pd\n",
    "import scipy.stats as stats\n",
    "import datetime as dt\n",
    "import numpy as np\n",
    "import matplotlib.pyplot as plt\n",
    "from pandas.plotting import register_matplotlib_converters\n",
    "import warnings"
   ]
  },
  {
   "cell_type": "markdown",
   "metadata": {},
   "source": [
    "# Часть 1."
   ]
  },
  {
   "cell_type": "markdown",
   "metadata": {},
   "source": [
    "**Загружаем данные с гипотезами**"
   ]
  },
  {
   "cell_type": "code",
   "execution_count": 2,
   "metadata": {},
   "outputs": [
    {
     "data": {
      "text/html": [
       "<div>\n",
       "<style scoped>\n",
       "    .dataframe tbody tr th:only-of-type {\n",
       "        vertical-align: middle;\n",
       "    }\n",
       "\n",
       "    .dataframe tbody tr th {\n",
       "        vertical-align: top;\n",
       "    }\n",
       "\n",
       "    .dataframe thead th {\n",
       "        text-align: right;\n",
       "    }\n",
       "</style>\n",
       "<table border=\"1\" class=\"dataframe\">\n",
       "  <thead>\n",
       "    <tr style=\"text-align: right;\">\n",
       "      <th></th>\n",
       "      <th>hypothesis</th>\n",
       "      <th>reach</th>\n",
       "      <th>impact</th>\n",
       "      <th>confidence</th>\n",
       "      <th>efforts</th>\n",
       "    </tr>\n",
       "  </thead>\n",
       "  <tbody>\n",
       "    <tr>\n",
       "      <th>0</th>\n",
       "      <td>Добавить два новых канала привлечения трафика,...</td>\n",
       "      <td>3</td>\n",
       "      <td>10</td>\n",
       "      <td>8</td>\n",
       "      <td>6</td>\n",
       "    </tr>\n",
       "    <tr>\n",
       "      <th>1</th>\n",
       "      <td>Запустить собственную службу доставки, что сок...</td>\n",
       "      <td>2</td>\n",
       "      <td>5</td>\n",
       "      <td>4</td>\n",
       "      <td>10</td>\n",
       "    </tr>\n",
       "    <tr>\n",
       "      <th>2</th>\n",
       "      <td>Добавить блоки рекомендаций товаров на сайт ин...</td>\n",
       "      <td>8</td>\n",
       "      <td>3</td>\n",
       "      <td>7</td>\n",
       "      <td>3</td>\n",
       "    </tr>\n",
       "    <tr>\n",
       "      <th>3</th>\n",
       "      <td>Изменить структура категорий, что увеличит кон...</td>\n",
       "      <td>8</td>\n",
       "      <td>3</td>\n",
       "      <td>3</td>\n",
       "      <td>8</td>\n",
       "    </tr>\n",
       "    <tr>\n",
       "      <th>4</th>\n",
       "      <td>Изменить цвет фона главной страницы, чтобы уве...</td>\n",
       "      <td>3</td>\n",
       "      <td>1</td>\n",
       "      <td>1</td>\n",
       "      <td>1</td>\n",
       "    </tr>\n",
       "    <tr>\n",
       "      <th>5</th>\n",
       "      <td>Добавить страницу отзывов клиентов о магазине,...</td>\n",
       "      <td>3</td>\n",
       "      <td>2</td>\n",
       "      <td>2</td>\n",
       "      <td>3</td>\n",
       "    </tr>\n",
       "    <tr>\n",
       "      <th>6</th>\n",
       "      <td>Показать на главной странице баннеры с актуаль...</td>\n",
       "      <td>5</td>\n",
       "      <td>3</td>\n",
       "      <td>8</td>\n",
       "      <td>3</td>\n",
       "    </tr>\n",
       "    <tr>\n",
       "      <th>7</th>\n",
       "      <td>Добавить форму подписки на все основные страни...</td>\n",
       "      <td>10</td>\n",
       "      <td>7</td>\n",
       "      <td>8</td>\n",
       "      <td>5</td>\n",
       "    </tr>\n",
       "    <tr>\n",
       "      <th>8</th>\n",
       "      <td>Запустить акцию, дающую скидку на товар в день...</td>\n",
       "      <td>1</td>\n",
       "      <td>9</td>\n",
       "      <td>9</td>\n",
       "      <td>5</td>\n",
       "    </tr>\n",
       "  </tbody>\n",
       "</table>\n",
       "</div>"
      ],
      "text/plain": [
       "                                          hypothesis  reach  impact  \\\n",
       "0  Добавить два новых канала привлечения трафика,...      3      10   \n",
       "1  Запустить собственную службу доставки, что сок...      2       5   \n",
       "2  Добавить блоки рекомендаций товаров на сайт ин...      8       3   \n",
       "3  Изменить структура категорий, что увеличит кон...      8       3   \n",
       "4  Изменить цвет фона главной страницы, чтобы уве...      3       1   \n",
       "5  Добавить страницу отзывов клиентов о магазине,...      3       2   \n",
       "6  Показать на главной странице баннеры с актуаль...      5       3   \n",
       "7  Добавить форму подписки на все основные страни...     10       7   \n",
       "8  Запустить акцию, дающую скидку на товар в день...      1       9   \n",
       "\n",
       "   confidence  efforts  \n",
       "0           8        6  \n",
       "1           4       10  \n",
       "2           7        3  \n",
       "3           3        8  \n",
       "4           1        1  \n",
       "5           2        3  \n",
       "6           8        3  \n",
       "7           8        5  \n",
       "8           9        5  "
      ]
     },
     "execution_count": 2,
     "metadata": {},
     "output_type": "execute_result"
    }
   ],
   "source": [
    "hypo = pd.read_csv('/datasets/hypothesis.csv')\n",
    "hypo.columns = [x.lower() for x in hypo.columns.values]\n",
    "hypo"
   ]
  },
  {
   "cell_type": "markdown",
   "metadata": {},
   "source": [
    "**Рассчитываем фреймворки ICE и RICE по формулам**"
   ]
  },
  {
   "cell_type": "code",
   "execution_count": 3,
   "metadata": {},
   "outputs": [],
   "source": [
    "hypo['ICE'] = hypo['impact'] * hypo['confidence'] / hypo['efforts']\n",
    "hypo['RICE'] = hypo['reach'] * hypo['impact'] * hypo['confidence'] / hypo['efforts']"
   ]
  },
  {
   "cell_type": "markdown",
   "metadata": {},
   "source": [
    "**Сортируем гипотезы по убыванию фреймворка ICE**<a id='ice'></a>"
   ]
  },
  {
   "cell_type": "code",
   "execution_count": 4,
   "metadata": {},
   "outputs": [
    {
     "data": {
      "text/html": [
       "<div>\n",
       "<style scoped>\n",
       "    .dataframe tbody tr th:only-of-type {\n",
       "        vertical-align: middle;\n",
       "    }\n",
       "\n",
       "    .dataframe tbody tr th {\n",
       "        vertical-align: top;\n",
       "    }\n",
       "\n",
       "    .dataframe thead th {\n",
       "        text-align: right;\n",
       "    }\n",
       "</style>\n",
       "<table border=\"1\" class=\"dataframe\">\n",
       "  <thead>\n",
       "    <tr style=\"text-align: right;\">\n",
       "      <th></th>\n",
       "      <th>hypothesis</th>\n",
       "      <th>reach</th>\n",
       "      <th>impact</th>\n",
       "      <th>confidence</th>\n",
       "      <th>efforts</th>\n",
       "      <th>ICE</th>\n",
       "      <th>RICE</th>\n",
       "    </tr>\n",
       "  </thead>\n",
       "  <tbody>\n",
       "    <tr>\n",
       "      <th>8</th>\n",
       "      <td>Запустить акцию, дающую скидку на товар в день...</td>\n",
       "      <td>1</td>\n",
       "      <td>9</td>\n",
       "      <td>9</td>\n",
       "      <td>5</td>\n",
       "      <td>16.200000</td>\n",
       "      <td>16.2</td>\n",
       "    </tr>\n",
       "    <tr>\n",
       "      <th>0</th>\n",
       "      <td>Добавить два новых канала привлечения трафика,...</td>\n",
       "      <td>3</td>\n",
       "      <td>10</td>\n",
       "      <td>8</td>\n",
       "      <td>6</td>\n",
       "      <td>13.333333</td>\n",
       "      <td>40.0</td>\n",
       "    </tr>\n",
       "    <tr>\n",
       "      <th>7</th>\n",
       "      <td>Добавить форму подписки на все основные страни...</td>\n",
       "      <td>10</td>\n",
       "      <td>7</td>\n",
       "      <td>8</td>\n",
       "      <td>5</td>\n",
       "      <td>11.200000</td>\n",
       "      <td>112.0</td>\n",
       "    </tr>\n",
       "    <tr>\n",
       "      <th>6</th>\n",
       "      <td>Показать на главной странице баннеры с актуаль...</td>\n",
       "      <td>5</td>\n",
       "      <td>3</td>\n",
       "      <td>8</td>\n",
       "      <td>3</td>\n",
       "      <td>8.000000</td>\n",
       "      <td>40.0</td>\n",
       "    </tr>\n",
       "    <tr>\n",
       "      <th>2</th>\n",
       "      <td>Добавить блоки рекомендаций товаров на сайт ин...</td>\n",
       "      <td>8</td>\n",
       "      <td>3</td>\n",
       "      <td>7</td>\n",
       "      <td>3</td>\n",
       "      <td>7.000000</td>\n",
       "      <td>56.0</td>\n",
       "    </tr>\n",
       "    <tr>\n",
       "      <th>1</th>\n",
       "      <td>Запустить собственную службу доставки, что сок...</td>\n",
       "      <td>2</td>\n",
       "      <td>5</td>\n",
       "      <td>4</td>\n",
       "      <td>10</td>\n",
       "      <td>2.000000</td>\n",
       "      <td>4.0</td>\n",
       "    </tr>\n",
       "    <tr>\n",
       "      <th>5</th>\n",
       "      <td>Добавить страницу отзывов клиентов о магазине,...</td>\n",
       "      <td>3</td>\n",
       "      <td>2</td>\n",
       "      <td>2</td>\n",
       "      <td>3</td>\n",
       "      <td>1.333333</td>\n",
       "      <td>4.0</td>\n",
       "    </tr>\n",
       "    <tr>\n",
       "      <th>3</th>\n",
       "      <td>Изменить структура категорий, что увеличит кон...</td>\n",
       "      <td>8</td>\n",
       "      <td>3</td>\n",
       "      <td>3</td>\n",
       "      <td>8</td>\n",
       "      <td>1.125000</td>\n",
       "      <td>9.0</td>\n",
       "    </tr>\n",
       "    <tr>\n",
       "      <th>4</th>\n",
       "      <td>Изменить цвет фона главной страницы, чтобы уве...</td>\n",
       "      <td>3</td>\n",
       "      <td>1</td>\n",
       "      <td>1</td>\n",
       "      <td>1</td>\n",
       "      <td>1.000000</td>\n",
       "      <td>3.0</td>\n",
       "    </tr>\n",
       "  </tbody>\n",
       "</table>\n",
       "</div>"
      ],
      "text/plain": [
       "                                          hypothesis  reach  impact  \\\n",
       "8  Запустить акцию, дающую скидку на товар в день...      1       9   \n",
       "0  Добавить два новых канала привлечения трафика,...      3      10   \n",
       "7  Добавить форму подписки на все основные страни...     10       7   \n",
       "6  Показать на главной странице баннеры с актуаль...      5       3   \n",
       "2  Добавить блоки рекомендаций товаров на сайт ин...      8       3   \n",
       "1  Запустить собственную службу доставки, что сок...      2       5   \n",
       "5  Добавить страницу отзывов клиентов о магазине,...      3       2   \n",
       "3  Изменить структура категорий, что увеличит кон...      8       3   \n",
       "4  Изменить цвет фона главной страницы, чтобы уве...      3       1   \n",
       "\n",
       "   confidence  efforts        ICE   RICE  \n",
       "8           9        5  16.200000   16.2  \n",
       "0           8        6  13.333333   40.0  \n",
       "7           8        5  11.200000  112.0  \n",
       "6           8        3   8.000000   40.0  \n",
       "2           7        3   7.000000   56.0  \n",
       "1           4       10   2.000000    4.0  \n",
       "5           2        3   1.333333    4.0  \n",
       "3           3        8   1.125000    9.0  \n",
       "4           1        1   1.000000    3.0  "
      ]
     },
     "execution_count": 4,
     "metadata": {},
     "output_type": "execute_result"
    }
   ],
   "source": [
    "hypo_ice = hypo.sort_values(by='ICE', ascending=False)\n",
    "hypo_ice"
   ]
  },
  {
   "cell_type": "markdown",
   "metadata": {},
   "source": [
    "**Сортируем гипотезы по убыванию фреймворка RICE**<a id='rice'></a>"
   ]
  },
  {
   "cell_type": "code",
   "execution_count": 5,
   "metadata": {},
   "outputs": [
    {
     "data": {
      "text/html": [
       "<div>\n",
       "<style scoped>\n",
       "    .dataframe tbody tr th:only-of-type {\n",
       "        vertical-align: middle;\n",
       "    }\n",
       "\n",
       "    .dataframe tbody tr th {\n",
       "        vertical-align: top;\n",
       "    }\n",
       "\n",
       "    .dataframe thead th {\n",
       "        text-align: right;\n",
       "    }\n",
       "</style>\n",
       "<table border=\"1\" class=\"dataframe\">\n",
       "  <thead>\n",
       "    <tr style=\"text-align: right;\">\n",
       "      <th></th>\n",
       "      <th>hypothesis</th>\n",
       "      <th>reach</th>\n",
       "      <th>impact</th>\n",
       "      <th>confidence</th>\n",
       "      <th>efforts</th>\n",
       "      <th>ICE</th>\n",
       "      <th>RICE</th>\n",
       "    </tr>\n",
       "  </thead>\n",
       "  <tbody>\n",
       "    <tr>\n",
       "      <th>7</th>\n",
       "      <td>Добавить форму подписки на все основные страни...</td>\n",
       "      <td>10</td>\n",
       "      <td>7</td>\n",
       "      <td>8</td>\n",
       "      <td>5</td>\n",
       "      <td>11.200000</td>\n",
       "      <td>112.0</td>\n",
       "    </tr>\n",
       "    <tr>\n",
       "      <th>2</th>\n",
       "      <td>Добавить блоки рекомендаций товаров на сайт ин...</td>\n",
       "      <td>8</td>\n",
       "      <td>3</td>\n",
       "      <td>7</td>\n",
       "      <td>3</td>\n",
       "      <td>7.000000</td>\n",
       "      <td>56.0</td>\n",
       "    </tr>\n",
       "    <tr>\n",
       "      <th>0</th>\n",
       "      <td>Добавить два новых канала привлечения трафика,...</td>\n",
       "      <td>3</td>\n",
       "      <td>10</td>\n",
       "      <td>8</td>\n",
       "      <td>6</td>\n",
       "      <td>13.333333</td>\n",
       "      <td>40.0</td>\n",
       "    </tr>\n",
       "    <tr>\n",
       "      <th>6</th>\n",
       "      <td>Показать на главной странице баннеры с актуаль...</td>\n",
       "      <td>5</td>\n",
       "      <td>3</td>\n",
       "      <td>8</td>\n",
       "      <td>3</td>\n",
       "      <td>8.000000</td>\n",
       "      <td>40.0</td>\n",
       "    </tr>\n",
       "    <tr>\n",
       "      <th>8</th>\n",
       "      <td>Запустить акцию, дающую скидку на товар в день...</td>\n",
       "      <td>1</td>\n",
       "      <td>9</td>\n",
       "      <td>9</td>\n",
       "      <td>5</td>\n",
       "      <td>16.200000</td>\n",
       "      <td>16.2</td>\n",
       "    </tr>\n",
       "    <tr>\n",
       "      <th>3</th>\n",
       "      <td>Изменить структура категорий, что увеличит кон...</td>\n",
       "      <td>8</td>\n",
       "      <td>3</td>\n",
       "      <td>3</td>\n",
       "      <td>8</td>\n",
       "      <td>1.125000</td>\n",
       "      <td>9.0</td>\n",
       "    </tr>\n",
       "    <tr>\n",
       "      <th>1</th>\n",
       "      <td>Запустить собственную службу доставки, что сок...</td>\n",
       "      <td>2</td>\n",
       "      <td>5</td>\n",
       "      <td>4</td>\n",
       "      <td>10</td>\n",
       "      <td>2.000000</td>\n",
       "      <td>4.0</td>\n",
       "    </tr>\n",
       "    <tr>\n",
       "      <th>5</th>\n",
       "      <td>Добавить страницу отзывов клиентов о магазине,...</td>\n",
       "      <td>3</td>\n",
       "      <td>2</td>\n",
       "      <td>2</td>\n",
       "      <td>3</td>\n",
       "      <td>1.333333</td>\n",
       "      <td>4.0</td>\n",
       "    </tr>\n",
       "    <tr>\n",
       "      <th>4</th>\n",
       "      <td>Изменить цвет фона главной страницы, чтобы уве...</td>\n",
       "      <td>3</td>\n",
       "      <td>1</td>\n",
       "      <td>1</td>\n",
       "      <td>1</td>\n",
       "      <td>1.000000</td>\n",
       "      <td>3.0</td>\n",
       "    </tr>\n",
       "  </tbody>\n",
       "</table>\n",
       "</div>"
      ],
      "text/plain": [
       "                                          hypothesis  reach  impact  \\\n",
       "7  Добавить форму подписки на все основные страни...     10       7   \n",
       "2  Добавить блоки рекомендаций товаров на сайт ин...      8       3   \n",
       "0  Добавить два новых канала привлечения трафика,...      3      10   \n",
       "6  Показать на главной странице баннеры с актуаль...      5       3   \n",
       "8  Запустить акцию, дающую скидку на товар в день...      1       9   \n",
       "3  Изменить структура категорий, что увеличит кон...      8       3   \n",
       "1  Запустить собственную службу доставки, что сок...      2       5   \n",
       "5  Добавить страницу отзывов клиентов о магазине,...      3       2   \n",
       "4  Изменить цвет фона главной страницы, чтобы уве...      3       1   \n",
       "\n",
       "   confidence  efforts        ICE   RICE  \n",
       "7           8        5  11.200000  112.0  \n",
       "2           7        3   7.000000   56.0  \n",
       "0           8        6  13.333333   40.0  \n",
       "6           8        3   8.000000   40.0  \n",
       "8           9        5  16.200000   16.2  \n",
       "3           3        8   1.125000    9.0  \n",
       "1           4       10   2.000000    4.0  \n",
       "5           2        3   1.333333    4.0  \n",
       "4           1        1   1.000000    3.0  "
      ]
     },
     "execution_count": 5,
     "metadata": {},
     "output_type": "execute_result"
    }
   ],
   "source": [
    "hypo_rice = hypo.sort_values(by='RICE', ascending=False)\n",
    "hypo_rice"
   ]
  },
  {
   "cell_type": "markdown",
   "metadata": {},
   "source": [
    "<a id='result'></a>\n",
    "**Гипотезы под номером 1, 3, 4, 5  в обоих фреймворках являются самыми неприоритетными, так как либо требуют больших затрат, либо не сильно повлияют на удовлетворение пользователем и не имеют уверенности в том, что это сработает.**\n",
    "\n",
    "**В то время как гипотезы с номерами 0, 2, 6, 7, 8 не требуют огромных затрат, отдел маркетинга уверен в том, что это сработает, окажет позитивное влияние влияние на пользователей (кроме 2 и 6 гипотезы)**\n",
    "\n",
    "**С переходом от фреймворка ICE к RICE, приоритетность гипотез немного меняется, из за того, что на нее влияет новый показатель 'reach'. в фреймворке RICE самыми приоритетными гипотезами (повлияющими почти на всех пользователей) будут 7 и 2, \n",
    "в ICE 8 и 0 (не требующие больших затрат, с позитивным влиянием на аудиторию и уверенностью отдела маркетинга).**"
   ]
  },
  {
   "cell_type": "markdown",
   "metadata": {},
   "source": [
    "# Часть 2."
   ]
  },
  {
   "cell_type": "markdown",
   "metadata": {},
   "source": [
    "**Импортируем данные о заказах и поветителях**"
   ]
  },
  {
   "cell_type": "code",
   "execution_count": 6,
   "metadata": {},
   "outputs": [],
   "source": [
    "orders = pd.read_csv('/datasets/orders.csv', sep=',')\n",
    "orders['date'] = orders['date'].map(\n",
    "    lambda x: dt.datetime.strptime(x, '%Y-%m-%d')\n",
    ")"
   ]
  },
  {
   "cell_type": "code",
   "execution_count": 7,
   "metadata": {},
   "outputs": [
    {
     "name": "stdout",
     "output_type": "stream",
     "text": [
      "<class 'pandas.core.frame.DataFrame'>\n",
      "RangeIndex: 1197 entries, 0 to 1196\n",
      "Data columns (total 5 columns):\n",
      " #   Column         Non-Null Count  Dtype         \n",
      "---  ------         --------------  -----         \n",
      " 0   transactionId  1197 non-null   int64         \n",
      " 1   visitorId      1197 non-null   int64         \n",
      " 2   date           1197 non-null   datetime64[ns]\n",
      " 3   revenue        1197 non-null   int64         \n",
      " 4   group          1197 non-null   object        \n",
      "dtypes: datetime64[ns](1), int64(3), object(1)\n",
      "memory usage: 46.9+ KB\n"
     ]
    }
   ],
   "source": [
    "orders.info()"
   ]
  },
  {
   "cell_type": "code",
   "execution_count": 8,
   "metadata": {},
   "outputs": [
    {
     "data": {
      "text/plain": [
       "transactionId    0\n",
       "visitorId        0\n",
       "date             0\n",
       "revenue          0\n",
       "group            0\n",
       "dtype: int64"
      ]
     },
     "execution_count": 8,
     "metadata": {},
     "output_type": "execute_result"
    }
   ],
   "source": [
    "orders.isna().sum()"
   ]
  },
  {
   "cell_type": "code",
   "execution_count": 9,
   "metadata": {},
   "outputs": [],
   "source": [
    "visitors = pd.read_csv('/datasets/visitors.csv', sep=',')\n",
    "visitors['date'] = visitors['date'].map(\n",
    "    lambda x: dt.datetime.strptime(x, '%Y-%m-%d')\n",
    ")\n"
   ]
  },
  {
   "cell_type": "code",
   "execution_count": 10,
   "metadata": {},
   "outputs": [
    {
     "name": "stdout",
     "output_type": "stream",
     "text": [
      "<class 'pandas.core.frame.DataFrame'>\n",
      "RangeIndex: 62 entries, 0 to 61\n",
      "Data columns (total 3 columns):\n",
      " #   Column    Non-Null Count  Dtype         \n",
      "---  ------    --------------  -----         \n",
      " 0   date      62 non-null     datetime64[ns]\n",
      " 1   group     62 non-null     object        \n",
      " 2   visitors  62 non-null     int64         \n",
      "dtypes: datetime64[ns](1), int64(1), object(1)\n",
      "memory usage: 1.6+ KB\n"
     ]
    }
   ],
   "source": [
    "visitors.info()"
   ]
  },
  {
   "cell_type": "code",
   "execution_count": 11,
   "metadata": {},
   "outputs": [
    {
     "data": {
      "text/plain": [
       "date        0\n",
       "group       0\n",
       "visitors    0\n",
       "dtype: int64"
      ]
     },
     "execution_count": 11,
     "metadata": {},
     "output_type": "execute_result"
    }
   ],
   "source": [
    "visitors.isna().sum()"
   ]
  },
  {
   "cell_type": "code",
   "execution_count": 12,
   "metadata": {},
   "outputs": [
    {
     "data": {
      "text/html": [
       "<div>\n",
       "<style scoped>\n",
       "    .dataframe tbody tr th:only-of-type {\n",
       "        vertical-align: middle;\n",
       "    }\n",
       "\n",
       "    .dataframe tbody tr th {\n",
       "        vertical-align: top;\n",
       "    }\n",
       "\n",
       "    .dataframe thead th {\n",
       "        text-align: right;\n",
       "    }\n",
       "</style>\n",
       "<table border=\"1\" class=\"dataframe\">\n",
       "  <thead>\n",
       "    <tr style=\"text-align: right;\">\n",
       "      <th></th>\n",
       "      <th>date</th>\n",
       "      <th>group</th>\n",
       "      <th>visitors</th>\n",
       "    </tr>\n",
       "  </thead>\n",
       "  <tbody>\n",
       "    <tr>\n",
       "      <th>0</th>\n",
       "      <td>2019-08-01</td>\n",
       "      <td>A</td>\n",
       "      <td>719</td>\n",
       "    </tr>\n",
       "    <tr>\n",
       "      <th>1</th>\n",
       "      <td>2019-08-02</td>\n",
       "      <td>A</td>\n",
       "      <td>619</td>\n",
       "    </tr>\n",
       "    <tr>\n",
       "      <th>2</th>\n",
       "      <td>2019-08-03</td>\n",
       "      <td>A</td>\n",
       "      <td>507</td>\n",
       "    </tr>\n",
       "    <tr>\n",
       "      <th>3</th>\n",
       "      <td>2019-08-04</td>\n",
       "      <td>A</td>\n",
       "      <td>717</td>\n",
       "    </tr>\n",
       "    <tr>\n",
       "      <th>4</th>\n",
       "      <td>2019-08-05</td>\n",
       "      <td>A</td>\n",
       "      <td>756</td>\n",
       "    </tr>\n",
       "  </tbody>\n",
       "</table>\n",
       "</div>"
      ],
      "text/plain": [
       "        date group  visitors\n",
       "0 2019-08-01     A       719\n",
       "1 2019-08-02     A       619\n",
       "2 2019-08-03     A       507\n",
       "3 2019-08-04     A       717\n",
       "4 2019-08-05     A       756"
      ]
     },
     "execution_count": 12,
     "metadata": {},
     "output_type": "execute_result"
    }
   ],
   "source": [
    "visitors.head()"
   ]
  },
  {
   "cell_type": "code",
   "execution_count": 13,
   "metadata": {},
   "outputs": [
    {
     "data": {
      "text/html": [
       "<div>\n",
       "<style scoped>\n",
       "    .dataframe tbody tr th:only-of-type {\n",
       "        vertical-align: middle;\n",
       "    }\n",
       "\n",
       "    .dataframe tbody tr th {\n",
       "        vertical-align: top;\n",
       "    }\n",
       "\n",
       "    .dataframe thead th {\n",
       "        text-align: right;\n",
       "    }\n",
       "</style>\n",
       "<table border=\"1\" class=\"dataframe\">\n",
       "  <thead>\n",
       "    <tr style=\"text-align: right;\">\n",
       "      <th></th>\n",
       "      <th>transactionId</th>\n",
       "      <th>visitorId</th>\n",
       "      <th>date</th>\n",
       "      <th>revenue</th>\n",
       "      <th>group</th>\n",
       "    </tr>\n",
       "  </thead>\n",
       "  <tbody>\n",
       "    <tr>\n",
       "      <th>0</th>\n",
       "      <td>3667963787</td>\n",
       "      <td>3312258926</td>\n",
       "      <td>2019-08-15</td>\n",
       "      <td>1650</td>\n",
       "      <td>B</td>\n",
       "    </tr>\n",
       "    <tr>\n",
       "      <th>1</th>\n",
       "      <td>2804400009</td>\n",
       "      <td>3642806036</td>\n",
       "      <td>2019-08-15</td>\n",
       "      <td>730</td>\n",
       "      <td>B</td>\n",
       "    </tr>\n",
       "    <tr>\n",
       "      <th>2</th>\n",
       "      <td>2961555356</td>\n",
       "      <td>4069496402</td>\n",
       "      <td>2019-08-15</td>\n",
       "      <td>400</td>\n",
       "      <td>A</td>\n",
       "    </tr>\n",
       "    <tr>\n",
       "      <th>3</th>\n",
       "      <td>3797467345</td>\n",
       "      <td>1196621759</td>\n",
       "      <td>2019-08-15</td>\n",
       "      <td>9759</td>\n",
       "      <td>B</td>\n",
       "    </tr>\n",
       "    <tr>\n",
       "      <th>4</th>\n",
       "      <td>2282983706</td>\n",
       "      <td>2322279887</td>\n",
       "      <td>2019-08-15</td>\n",
       "      <td>2308</td>\n",
       "      <td>B</td>\n",
       "    </tr>\n",
       "  </tbody>\n",
       "</table>\n",
       "</div>"
      ],
      "text/plain": [
       "   transactionId   visitorId       date  revenue group\n",
       "0     3667963787  3312258926 2019-08-15     1650     B\n",
       "1     2804400009  3642806036 2019-08-15      730     B\n",
       "2     2961555356  4069496402 2019-08-15      400     A\n",
       "3     3797467345  1196621759 2019-08-15     9759     B\n",
       "4     2282983706  2322279887 2019-08-15     2308     B"
      ]
     },
     "execution_count": 13,
     "metadata": {},
     "output_type": "execute_result"
    }
   ],
   "source": [
    "orders.head()"
   ]
  },
  {
   "cell_type": "code",
   "execution_count": 14,
   "metadata": {},
   "outputs": [
    {
     "data": {
      "text/plain": [
       "0"
      ]
     },
     "execution_count": 14,
     "metadata": {},
     "output_type": "execute_result"
    }
   ],
   "source": [
    "orders.duplicated().sum()"
   ]
  },
  {
   "cell_type": "code",
   "execution_count": 15,
   "metadata": {},
   "outputs": [
    {
     "data": {
      "text/plain": [
       "0"
      ]
     },
     "execution_count": 15,
     "metadata": {},
     "output_type": "execute_result"
    }
   ],
   "source": [
    "visitors.duplicated().sum()"
   ]
  },
  {
   "cell_type": "code",
   "execution_count": 16,
   "metadata": {},
   "outputs": [
    {
     "data": {
      "text/plain": [
       "array(['B', 'A'], dtype=object)"
      ]
     },
     "execution_count": 16,
     "metadata": {},
     "output_type": "execute_result"
    }
   ],
   "source": [
    "orders['group'].unique()"
   ]
  },
  {
   "cell_type": "code",
   "execution_count": 17,
   "metadata": {},
   "outputs": [
    {
     "data": {
      "text/plain": [
       "Timestamp('2019-08-01 00:00:00')"
      ]
     },
     "execution_count": 17,
     "metadata": {},
     "output_type": "execute_result"
    }
   ],
   "source": [
    "orders['date'].min()"
   ]
  },
  {
   "cell_type": "code",
   "execution_count": 18,
   "metadata": {},
   "outputs": [
    {
     "data": {
      "text/plain": [
       "Timestamp('2019-08-31 00:00:00')"
      ]
     },
     "execution_count": 18,
     "metadata": {},
     "output_type": "execute_result"
    }
   ],
   "source": [
    "orders['date'].max()"
   ]
  },
  {
   "cell_type": "code",
   "execution_count": 19,
   "metadata": {},
   "outputs": [
    {
     "data": {
      "text/html": [
       "<div>\n",
       "<style scoped>\n",
       "    .dataframe tbody tr th:only-of-type {\n",
       "        vertical-align: middle;\n",
       "    }\n",
       "\n",
       "    .dataframe tbody tr th {\n",
       "        vertical-align: top;\n",
       "    }\n",
       "\n",
       "    .dataframe thead th {\n",
       "        text-align: right;\n",
       "    }\n",
       "</style>\n",
       "<table border=\"1\" class=\"dataframe\">\n",
       "  <thead>\n",
       "    <tr style=\"text-align: right;\">\n",
       "      <th></th>\n",
       "      <th>transactionId</th>\n",
       "      <th>visitorId</th>\n",
       "      <th>date</th>\n",
       "      <th>revenue</th>\n",
       "    </tr>\n",
       "    <tr>\n",
       "      <th>group</th>\n",
       "      <th></th>\n",
       "      <th></th>\n",
       "      <th></th>\n",
       "      <th></th>\n",
       "    </tr>\n",
       "  </thead>\n",
       "  <tbody>\n",
       "    <tr>\n",
       "      <th>A</th>\n",
       "      <td>557</td>\n",
       "      <td>557</td>\n",
       "      <td>557</td>\n",
       "      <td>557</td>\n",
       "    </tr>\n",
       "    <tr>\n",
       "      <th>B</th>\n",
       "      <td>640</td>\n",
       "      <td>640</td>\n",
       "      <td>640</td>\n",
       "      <td>640</td>\n",
       "    </tr>\n",
       "  </tbody>\n",
       "</table>\n",
       "</div>"
      ],
      "text/plain": [
       "       transactionId  visitorId  date  revenue\n",
       "group                                         \n",
       "A                557        557   557      557\n",
       "B                640        640   640      640"
      ]
     },
     "execution_count": 19,
     "metadata": {},
     "output_type": "execute_result"
    }
   ],
   "source": [
    "orders.groupby('group').count()"
   ]
  },
  {
   "cell_type": "code",
   "execution_count": 20,
   "metadata": {},
   "outputs": [
    {
     "data": {
      "text/plain": [
       "group\n",
       "A    503\n",
       "B    586\n",
       "Name: visitorId, dtype: int64"
      ]
     },
     "execution_count": 20,
     "metadata": {},
     "output_type": "execute_result"
    }
   ],
   "source": [
    "# код ревьюера\n",
    "# кол-во уникальных покупателей в каждой группе\n",
    "orders.groupby('group')['visitorId'].nunique()"
   ]
  },
  {
   "cell_type": "code",
   "execution_count": 21,
   "metadata": {},
   "outputs": [
    {
     "data": {
      "text/plain": [
       "group\n",
       "A    18736\n",
       "B    18916\n",
       "Name: visitors, dtype: int64"
      ]
     },
     "execution_count": 21,
     "metadata": {},
     "output_type": "execute_result"
    }
   ],
   "source": [
    "# код ревьюера\n",
    "# кол-во визитов в каждой группе\n",
    "visitors.groupby('group')['visitors'].sum()"
   ]
  },
  {
   "cell_type": "code",
   "execution_count": 22,
   "metadata": {},
   "outputs": [
    {
     "data": {
      "text/html": [
       "<div>\n",
       "<style scoped>\n",
       "    .dataframe tbody tr th:only-of-type {\n",
       "        vertical-align: middle;\n",
       "    }\n",
       "\n",
       "    .dataframe tbody tr th {\n",
       "        vertical-align: top;\n",
       "    }\n",
       "\n",
       "    .dataframe thead th {\n",
       "        text-align: right;\n",
       "    }\n",
       "</style>\n",
       "<table border=\"1\" class=\"dataframe\">\n",
       "  <thead>\n",
       "    <tr style=\"text-align: right;\">\n",
       "      <th></th>\n",
       "      <th>date</th>\n",
       "      <th>visitors</th>\n",
       "    </tr>\n",
       "    <tr>\n",
       "      <th>group</th>\n",
       "      <th></th>\n",
       "      <th></th>\n",
       "    </tr>\n",
       "  </thead>\n",
       "  <tbody>\n",
       "    <tr>\n",
       "      <th>A</th>\n",
       "      <td>31</td>\n",
       "      <td>31</td>\n",
       "    </tr>\n",
       "    <tr>\n",
       "      <th>B</th>\n",
       "      <td>31</td>\n",
       "      <td>31</td>\n",
       "    </tr>\n",
       "  </tbody>\n",
       "</table>\n",
       "</div>"
      ],
      "text/plain": [
       "       date  visitors\n",
       "group                \n",
       "A        31        31\n",
       "B        31        31"
      ]
     },
     "execution_count": 22,
     "metadata": {},
     "output_type": "execute_result"
    }
   ],
   "source": [
    "visitors.groupby('group').count()"
   ]
  },
  {
   "cell_type": "markdown",
   "metadata": {},
   "source": [
    "В тесте участвуют две группы: А и В. Даты проведения теста: c 2019-08-01 по 2019-08-31. В группе A 557 пользователей, в группе В 640."
   ]
  },
  {
   "cell_type": "code",
   "execution_count": 61,
   "metadata": {},
   "outputs": [
    {
     "data": {
      "text/plain": [
       "58"
      ]
     },
     "execution_count": 61,
     "metadata": {},
     "output_type": "execute_result"
    }
   ],
   "source": [
    "len(orders.groupby('visitorId').agg({'group':'nunique'}).query('group == 2'))"
   ]
  },
  {
   "cell_type": "markdown",
   "metadata": {},
   "source": [
    "**58 пользователей, попавших в обе группы**"
   ]
  },
  {
   "cell_type": "markdown",
   "metadata": {},
   "source": [
    "**Группируем данные о заказах по дате и группе а/в тестирования**"
   ]
  },
  {
   "cell_type": "code",
   "execution_count": 23,
   "metadata": {},
   "outputs": [],
   "source": [
    "datesGroups = orders[['date','group']].drop_duplicates() "
   ]
  },
  {
   "cell_type": "markdown",
   "metadata": {},
   "source": [
    "**Аггрегируем данные, для сбора куммулятивных значений по датафреймам**"
   ]
  },
  {
   "cell_type": "code",
   "execution_count": 24,
   "metadata": {},
   "outputs": [],
   "source": [
    "ordersAggregated = datesGroups.apply(lambda x: orders[np.logical_and(orders['date'] <= x['date'], orders['group'] == x['group'])]\\\n",
    ".agg({'date' : 'max', 'group' : 'max', 'transactionId' : 'nunique', 'visitorId' : 'nunique', 'revenue' : 'sum'}), axis=1).sort_values(by=['date','group'])"
   ]
  },
  {
   "cell_type": "code",
   "execution_count": 25,
   "metadata": {},
   "outputs": [],
   "source": [
    "visitorsAggregated = datesGroups.apply(lambda x: visitors[np.logical_and(visitors['date'] <= x['date'], visitors['group'] == x['group'])].agg({'date' : 'max', 'group' : 'max', 'visitors' : 'sum'}), axis=1).sort_values(by=['date','group'])"
   ]
  },
  {
   "cell_type": "code",
   "execution_count": 26,
   "metadata": {},
   "outputs": [
    {
     "data": {
      "text/html": [
       "<div>\n",
       "<style scoped>\n",
       "    .dataframe tbody tr th:only-of-type {\n",
       "        vertical-align: middle;\n",
       "    }\n",
       "\n",
       "    .dataframe tbody tr th {\n",
       "        vertical-align: top;\n",
       "    }\n",
       "\n",
       "    .dataframe thead th {\n",
       "        text-align: right;\n",
       "    }\n",
       "</style>\n",
       "<table border=\"1\" class=\"dataframe\">\n",
       "  <thead>\n",
       "    <tr style=\"text-align: right;\">\n",
       "      <th></th>\n",
       "      <th>date</th>\n",
       "      <th>group</th>\n",
       "      <th>transactionId</th>\n",
       "      <th>visitorId</th>\n",
       "      <th>revenue</th>\n",
       "    </tr>\n",
       "  </thead>\n",
       "  <tbody>\n",
       "    <tr>\n",
       "      <th>55</th>\n",
       "      <td>2019-08-01</td>\n",
       "      <td>A</td>\n",
       "      <td>24</td>\n",
       "      <td>20</td>\n",
       "      <td>148579</td>\n",
       "    </tr>\n",
       "    <tr>\n",
       "      <th>66</th>\n",
       "      <td>2019-08-01</td>\n",
       "      <td>B</td>\n",
       "      <td>21</td>\n",
       "      <td>20</td>\n",
       "      <td>101217</td>\n",
       "    </tr>\n",
       "    <tr>\n",
       "      <th>175</th>\n",
       "      <td>2019-08-02</td>\n",
       "      <td>A</td>\n",
       "      <td>44</td>\n",
       "      <td>38</td>\n",
       "      <td>242401</td>\n",
       "    </tr>\n",
       "    <tr>\n",
       "      <th>173</th>\n",
       "      <td>2019-08-02</td>\n",
       "      <td>B</td>\n",
       "      <td>45</td>\n",
       "      <td>43</td>\n",
       "      <td>266748</td>\n",
       "    </tr>\n",
       "    <tr>\n",
       "      <th>291</th>\n",
       "      <td>2019-08-03</td>\n",
       "      <td>A</td>\n",
       "      <td>68</td>\n",
       "      <td>62</td>\n",
       "      <td>354874</td>\n",
       "    </tr>\n",
       "  </tbody>\n",
       "</table>\n",
       "</div>"
      ],
      "text/plain": [
       "          date group  transactionId  visitorId  revenue\n",
       "55  2019-08-01     A             24         20   148579\n",
       "66  2019-08-01     B             21         20   101217\n",
       "175 2019-08-02     A             44         38   242401\n",
       "173 2019-08-02     B             45         43   266748\n",
       "291 2019-08-03     A             68         62   354874"
      ]
     },
     "execution_count": 26,
     "metadata": {},
     "output_type": "execute_result"
    }
   ],
   "source": [
    "ordersAggregated.head()"
   ]
  },
  {
   "cell_type": "code",
   "execution_count": 27,
   "metadata": {},
   "outputs": [
    {
     "data": {
      "text/html": [
       "<div>\n",
       "<style scoped>\n",
       "    .dataframe tbody tr th:only-of-type {\n",
       "        vertical-align: middle;\n",
       "    }\n",
       "\n",
       "    .dataframe tbody tr th {\n",
       "        vertical-align: top;\n",
       "    }\n",
       "\n",
       "    .dataframe thead th {\n",
       "        text-align: right;\n",
       "    }\n",
       "</style>\n",
       "<table border=\"1\" class=\"dataframe\">\n",
       "  <thead>\n",
       "    <tr style=\"text-align: right;\">\n",
       "      <th></th>\n",
       "      <th>date</th>\n",
       "      <th>group</th>\n",
       "      <th>visitors</th>\n",
       "    </tr>\n",
       "  </thead>\n",
       "  <tbody>\n",
       "    <tr>\n",
       "      <th>55</th>\n",
       "      <td>2019-08-01</td>\n",
       "      <td>A</td>\n",
       "      <td>719</td>\n",
       "    </tr>\n",
       "    <tr>\n",
       "      <th>66</th>\n",
       "      <td>2019-08-01</td>\n",
       "      <td>B</td>\n",
       "      <td>713</td>\n",
       "    </tr>\n",
       "    <tr>\n",
       "      <th>175</th>\n",
       "      <td>2019-08-02</td>\n",
       "      <td>A</td>\n",
       "      <td>1338</td>\n",
       "    </tr>\n",
       "    <tr>\n",
       "      <th>173</th>\n",
       "      <td>2019-08-02</td>\n",
       "      <td>B</td>\n",
       "      <td>1294</td>\n",
       "    </tr>\n",
       "    <tr>\n",
       "      <th>291</th>\n",
       "      <td>2019-08-03</td>\n",
       "      <td>A</td>\n",
       "      <td>1845</td>\n",
       "    </tr>\n",
       "  </tbody>\n",
       "</table>\n",
       "</div>"
      ],
      "text/plain": [
       "          date group  visitors\n",
       "55  2019-08-01     A       719\n",
       "66  2019-08-01     B       713\n",
       "175 2019-08-02     A      1338\n",
       "173 2019-08-02     B      1294\n",
       "291 2019-08-03     A      1845"
      ]
     },
     "execution_count": 27,
     "metadata": {},
     "output_type": "execute_result"
    }
   ],
   "source": [
    "visitorsAggregated.head()"
   ]
  },
  {
   "cell_type": "markdown",
   "metadata": {},
   "source": [
    "**Получаем куммулятивный, объедененный датафрейм**"
   ]
  },
  {
   "cell_type": "code",
   "execution_count": 28,
   "metadata": {},
   "outputs": [],
   "source": [
    "cumulativeData = ordersAggregated.merge(visitorsAggregated, left_on=['date', 'group'], right_on=['date', 'group'])\n",
    "cumulativeData.columns = ['date', 'group', 'orders', 'buyers', 'revenue', 'visitors']"
   ]
  },
  {
   "cell_type": "code",
   "execution_count": 29,
   "metadata": {},
   "outputs": [
    {
     "data": {
      "text/html": [
       "<div>\n",
       "<style scoped>\n",
       "    .dataframe tbody tr th:only-of-type {\n",
       "        vertical-align: middle;\n",
       "    }\n",
       "\n",
       "    .dataframe tbody tr th {\n",
       "        vertical-align: top;\n",
       "    }\n",
       "\n",
       "    .dataframe thead th {\n",
       "        text-align: right;\n",
       "    }\n",
       "</style>\n",
       "<table border=\"1\" class=\"dataframe\">\n",
       "  <thead>\n",
       "    <tr style=\"text-align: right;\">\n",
       "      <th></th>\n",
       "      <th>date</th>\n",
       "      <th>group</th>\n",
       "      <th>orders</th>\n",
       "      <th>buyers</th>\n",
       "      <th>revenue</th>\n",
       "      <th>visitors</th>\n",
       "    </tr>\n",
       "  </thead>\n",
       "  <tbody>\n",
       "    <tr>\n",
       "      <th>0</th>\n",
       "      <td>2019-08-01</td>\n",
       "      <td>A</td>\n",
       "      <td>24</td>\n",
       "      <td>20</td>\n",
       "      <td>148579</td>\n",
       "      <td>719</td>\n",
       "    </tr>\n",
       "    <tr>\n",
       "      <th>1</th>\n",
       "      <td>2019-08-01</td>\n",
       "      <td>B</td>\n",
       "      <td>21</td>\n",
       "      <td>20</td>\n",
       "      <td>101217</td>\n",
       "      <td>713</td>\n",
       "    </tr>\n",
       "    <tr>\n",
       "      <th>2</th>\n",
       "      <td>2019-08-02</td>\n",
       "      <td>A</td>\n",
       "      <td>44</td>\n",
       "      <td>38</td>\n",
       "      <td>242401</td>\n",
       "      <td>1338</td>\n",
       "    </tr>\n",
       "    <tr>\n",
       "      <th>3</th>\n",
       "      <td>2019-08-02</td>\n",
       "      <td>B</td>\n",
       "      <td>45</td>\n",
       "      <td>43</td>\n",
       "      <td>266748</td>\n",
       "      <td>1294</td>\n",
       "    </tr>\n",
       "    <tr>\n",
       "      <th>4</th>\n",
       "      <td>2019-08-03</td>\n",
       "      <td>A</td>\n",
       "      <td>68</td>\n",
       "      <td>62</td>\n",
       "      <td>354874</td>\n",
       "      <td>1845</td>\n",
       "    </tr>\n",
       "  </tbody>\n",
       "</table>\n",
       "</div>"
      ],
      "text/plain": [
       "        date group  orders  buyers  revenue  visitors\n",
       "0 2019-08-01     A      24      20   148579       719\n",
       "1 2019-08-01     B      21      20   101217       713\n",
       "2 2019-08-02     A      44      38   242401      1338\n",
       "3 2019-08-02     B      45      43   266748      1294\n",
       "4 2019-08-03     A      68      62   354874      1845"
      ]
     },
     "execution_count": 29,
     "metadata": {},
     "output_type": "execute_result"
    }
   ],
   "source": [
    "cumulativeData.head()"
   ]
  },
  {
   "cell_type": "markdown",
   "metadata": {},
   "source": [
    "**Разделяем куммулятивные данные по группам A/B и строим график кумулятивной выручки по группам** <a id='1'></a>"
   ]
  },
  {
   "cell_type": "code",
   "execution_count": 30,
   "metadata": {},
   "outputs": [
    {
     "data": {
      "image/png": "[encoded data removed]",
      "text/plain": [
       "<Figure size 432x288 with 1 Axes>"
      ]
     },
     "metadata": {
      "needs_background": "light"
     },
     "output_type": "display_data"
    }
   ],
   "source": [
    "cumulativeA = cumulativeData[cumulativeData['group']=='A'][['date','revenue', 'orders']]\n",
    "\n",
    "cumulativeB = cumulativeData[cumulativeData['group']=='B'][['date','revenue', 'orders']]\n",
    "\n",
    "plt.plot(cumulativeA['date'], cumulativeA['revenue'], label='A')\n",
    "\n",
    "plt.plot(cumulativeB['date'], cumulativeB['revenue'], label='B')\n",
    "plt.title('Куммулятивная выручка в разрезе по группам')\n",
    "plt.xlabel('дата')\n",
    "plt.ylabel('выручка')\n",
    "plt.xticks(rotation = 45)\n",
    "plt.legend(); "
   ]
  },
  {
   "cell_type": "markdown",
   "metadata": {},
   "source": [
    "**На графике мы видим, что первые 5 дней выручка растет равномерно по обоим группам, после чего, лидировать начинает группа В, после чего группа В с 2019-08-18 по 2019-08-19 число резко растет, после чего начинает равномерный рост.**"
   ]
  },
  {
   "cell_type": "markdown",
   "metadata": {},
   "source": [
    "**Строим график среднего чека по группам.**<a id='2'></a>"
   ]
  },
  {
   "cell_type": "code",
   "execution_count": 31,
   "metadata": {},
   "outputs": [
    {
     "data": {
      "image/png": "[encoded data removed]",
      "text/plain": [
       "<Figure size 432x288 with 1 Axes>"
      ]
     },
     "metadata": {
      "needs_background": "light"
     },
     "output_type": "display_data"
    }
   ],
   "source": [
    "plt.plot(cumulativeA['date'], cumulativeA['revenue']/cumulativeA['orders'], label='A')\n",
    "plt.plot(cumulativeB['date'], cumulativeB['revenue']/cumulativeB['orders'], label='B')\n",
    "plt.xticks(rotation = 45)\n",
    "plt.title('Средний чек в разрезе по группам')\n",
    "plt.xlabel('дата')\n",
    "plt.ylabel('средний чек')\n",
    "plt.legend(); "
   ]
  },
  {
   "cell_type": "markdown",
   "metadata": {},
   "source": [
    "**По графику видно, что по началу СЧ группы А идет на спад, после чего начинает расти. В группе В так же видим резкий всплеск в с 18-е по 19-е число, после чего идет на спад. Возможно, всплеск вызван большим количеством заказов в эти дни, либо большой суммой заказов.**"
   ]
  },
  {
   "cell_type": "markdown",
   "metadata": {},
   "source": [
    "**Строим график относительного изменения кумулятивного среднего чека группы B к группе A.**<a id='3'></a>"
   ]
  },
  {
   "cell_type": "code",
   "execution_count": 56,
   "metadata": {},
   "outputs": [
    {
     "data": {
      "image/png": "[encoded data removed]",
      "text/plain": [
       "<Figure size 432x288 with 1 Axes>"
      ]
     },
     "metadata": {
      "needs_background": "light"
     },
     "output_type": "display_data"
    }
   ],
   "source": [
    "mergedCumulativeRevenue = cumulativeA.merge(cumulativeB, \n",
    "                                                   left_on='date', \n",
    "                                                   right_on='date', \n",
    "                                                   how='left',\n",
    "                                                   suffixes=['A', 'B'])\n",
    "plt.plot(mergedCumulativeRevenue['date'], \n",
    "         (mergedCumulativeRevenue['revenueB']/mergedCumulativeRevenue['ordersB'])/(mergedCumulativeRevenue['revenueA']/mergedCumulativeRevenue['ordersA'])-1)\n",
    "plt.axhline(y=0, color='black', linestyle='--') \n",
    "plt.xticks(rotation=45)\n",
    "plt.title('отношение среднего чека по группам')\n",
    "plt.xlabel('дата')\n",
    "plt.ylabel('отношение');"
   ]
  },
  {
   "cell_type": "markdown",
   "metadata": {},
   "source": [
    "**На графике отсношения среднего чека группы А к группе В, можно увидеть резкие скачки, если отношение среднего чека имеет такие перепады, вероятнее всего пользователь сделал крупный заказ**"
   ]
  },
  {
   "cell_type": "markdown",
   "metadata": {},
   "source": [
    "**Строим график кумулятивной конверсии по группам.**<a id='4'></a>"
   ]
  },
  {
   "cell_type": "code",
   "execution_count": 33,
   "metadata": {},
   "outputs": [
    {
     "data": {
      "image/png": "[encoded data removed]",
      "text/plain": [
       "<Figure size 432x288 with 1 Axes>"
      ]
     },
     "metadata": {
      "needs_background": "light"
     },
     "output_type": "display_data"
    }
   ],
   "source": [
    "\n",
    "cumulativeData['conversion'] = cumulativeData['orders']/cumulativeData['visitors']\n",
    "\n",
    "\n",
    "cumulativeconvA = cumulativeData[cumulativeData['group']=='A']\n",
    "\n",
    "\n",
    "cumulativeconvB = cumulativeData[cumulativeData['group']=='B']\n",
    "\n",
    "\n",
    "plt.plot(cumulativeconvA['date'], cumulativeconvA['conversion'], label='A')\n",
    "plt.plot(cumulativeconvB['date'], cumulativeconvB['conversion'], label='B')\n",
    "plt.xticks(rotation=45)\n",
    "plt.title('Конверсия по группам')\n",
    "plt.xlabel('дата')\n",
    "plt.ylabel('конверсия')\n",
    "plt.legend();"
   ]
  },
  {
   "cell_type": "markdown",
   "metadata": {},
   "source": [
    "**На графике видно, что в начале периода, конверсия пользователей  показывает резкий рост у обеих групп, после чего следует не менее резкий спад. После спада, у группы А, наблюдается стагнация с небольшими всплесками. У группы В - резкий взлет с последующим плавным падением.**"
   ]
  },
  {
   "cell_type": "markdown",
   "metadata": {},
   "source": [
    "**Строим график относительного изменения кумулятивного среднего количества заказов группы B к группе A.**<a id='5'></a>"
   ]
  },
  {
   "cell_type": "code",
   "execution_count": 34,
   "metadata": {},
   "outputs": [
    {
     "data": {
      "image/png": "[encoded data removed]",
      "text/plain": [
       "<Figure size 432x288 with 1 Axes>"
      ]
     },
     "metadata": {
      "needs_background": "light"
     },
     "output_type": "display_data"
    }
   ],
   "source": [
    "mergedCumulativeConversions = cumulativeconvA[['date','conversion']].merge(cumulativeconvB[['date','conversion']], \n",
    "                                                                           left_on='date', \n",
    "                                                                           right_on='date', \n",
    "                                                                           how='left', \n",
    "                                                                           suffixes=['A', 'B'])\n",
    "\n",
    "plt.plot(mergedCumulativeConversions['date'], mergedCumulativeConversions['conversionB']/mergedCumulativeConversions['conversionA']-1, label=\"Относительный прирост конверсии группы B относительно группы A\")\n",
    "plt.legend()\n",
    "\n",
    "plt.axhline(y=0, color='black', linestyle='--')\n",
    "plt.axhline(y=-0.1, color='grey', linestyle='--')\n",
    "plt.title('график отношения среднего количества заказов')\n",
    "plt.xlabel('дата')\n",
    "plt.ylabel('отношение')\n",
    "plt.xticks(rotation=45);"
   ]
  },
  {
   "cell_type": "markdown",
   "metadata": {},
   "source": [
    "**После 2019-08-05 прирост конверсии группы В преобладает над приростом группы А**"
   ]
  },
  {
   "cell_type": "code",
   "execution_count": 35,
   "metadata": {},
   "outputs": [],
   "source": [
    "ordersByUsers = (\n",
    "    orders.groupby('visitorId', as_index=False)\n",
    "    .agg({'transactionId': 'nunique'})\n",
    ")\n",
    "\n",
    "ordersByUsers.columns = ['visitorId', 'orders']"
   ]
  },
  {
   "cell_type": "markdown",
   "metadata": {},
   "source": [
    "**Строим точечный график количества заказов по пользователям.**<a id='6'></a>"
   ]
  },
  {
   "cell_type": "code",
   "execution_count": 57,
   "metadata": {},
   "outputs": [
    {
     "data": {
      "image/png": "[encoded data removed]",
      "text/plain": [
       "<Figure size 432x288 with 1 Axes>"
      ]
     },
     "metadata": {
      "needs_background": "light"
     },
     "output_type": "display_data"
    }
   ],
   "source": [
    "x_values = pd.Series(range(0,len(ordersByUsers)))\n",
    "\n",
    "plt.scatter(x_values, ordersByUsers['orders'])\n",
    "plt.title('график количества заказов по пользователям')\n",
    "plt.xlabel('кол-во пользователей')\n",
    "plt.ylabel('кол-во заказов');"
   ]
  },
  {
   "cell_type": "markdown",
   "metadata": {},
   "source": [
    "**На точечном графике можем наблюдать что в основном пользователи делают по одному заказу, но есть и редкие исключения, сделавшие по 11 заказов, возможно из за них был резкий рост выручки и конверсии в группе В. Для отчистки данных от выбросов необходимо узнать 95-ый и 99-ый перцентиль количества заказов на одного пользователя и выбрать границу для идентификации аномальных пользователей**"
   ]
  },
  {
   "cell_type": "markdown",
   "metadata": {},
   "source": [
    "**Считаем 95-й и 99-й перцентили количества заказов на пользователя.**<a id='7'></a>"
   ]
  },
  {
   "cell_type": "code",
   "execution_count": 37,
   "metadata": {},
   "outputs": [
    {
     "name": "stdout",
     "output_type": "stream",
     "text": [
      "[2. 2. 3. 4.]\n"
     ]
    }
   ],
   "source": [
    "print(np.percentile(ordersByUsers['orders'], [95,97,98,99]))"
   ]
  },
  {
   "cell_type": "markdown",
   "metadata": {},
   "source": [
    "**Посчитав 95, 97, 98 и 99 перцентиль, можно назвать пользователей аномальными, если они сделали больше 2 заказов.**"
   ]
  },
  {
   "cell_type": "markdown",
   "metadata": {},
   "source": [
    "**Строим точечный график стоимостей заказов.**<a id='8'></a>"
   ]
  },
  {
   "cell_type": "code",
   "execution_count": 58,
   "metadata": {},
   "outputs": [
    {
     "data": {
      "image/png": "[encoded data removed]",
      "text/plain": [
       "<Figure size 432x288 with 1 Axes>"
      ]
     },
     "metadata": {
      "needs_background": "light"
     },
     "output_type": "display_data"
    }
   ],
   "source": [
    "x_values = pd.Series(range(0,len(orders['revenue'])))\n",
    "plt.scatter(x_values, orders['revenue'])\n",
    "plt.title('точечны график стоимости заказов')\n",
    "plt.xlabel('пользователи')\n",
    "plt.ylabel('сумма'); "
   ]
  },
  {
   "cell_type": "markdown",
   "metadata": {},
   "source": [
    "**Считаем 95-й и 99-й перцентили стоимости заказов.**<a id='9'></a>"
   ]
  },
  {
   "cell_type": "code",
   "execution_count": 39,
   "metadata": {},
   "outputs": [
    {
     "name": "stdout",
     "output_type": "stream",
     "text": [
      "[28000.  35485.  44133.2 58233.2]\n"
     ]
    }
   ],
   "source": [
    "print(np.percentile(orders['revenue'], [95, 97, 98, 99])) "
   ]
  },
  {
   "cell_type": "markdown",
   "metadata": {},
   "source": [
    "**Пользователи, сделавшие заказов на сумму выше 44133, можно считать аномальными.**"
   ]
  },
  {
   "cell_type": "code",
   "execution_count": 40,
   "metadata": {},
   "outputs": [],
   "source": [
    "visitorsADaily = visitors[visitors['group'] == 'A'][['date', 'visitors']]\n",
    "visitorsADaily.columns = ['date', 'visitorsPerDateA']\n",
    "\n",
    "visitorsACummulative = visitorsADaily.apply(\n",
    "    lambda x: visitorsADaily[visitorsADaily['date'] <= x['date']].agg(\n",
    "        {'date': 'max', 'visitorsPerDateA': 'sum'}\n",
    "    ),\n",
    "    axis=1,\n",
    ")\n",
    "visitorsACummulative.columns = ['date', 'visitorsCummulativeA']\n",
    "\n",
    "visitorsBDaily = visitors[visitors['group'] == 'B'][['date', 'visitors']]\n",
    "visitorsBDaily.columns = ['date', 'visitorsPerDateB']\n",
    "\n",
    "visitorsBCummulative = visitorsBDaily.apply(\n",
    "    lambda x: visitorsBDaily[visitorsBDaily['date'] <= x['date']].agg(\n",
    "        {'date': 'max', 'visitorsPerDateB': 'sum'}\n",
    "    ),\n",
    "    axis=1,\n",
    ")\n",
    "visitorsBCummulative.columns = ['date', 'visitorsCummulativeB']\n"
   ]
  },
  {
   "cell_type": "code",
   "execution_count": 41,
   "metadata": {},
   "outputs": [],
   "source": [
    "ordersADaily = (\n",
    "    orders[orders['group'] == 'A'][['date', 'transactionId', 'visitorId', 'revenue']]\n",
    "    .groupby('date', as_index=False)\n",
    "    .agg({'transactionId': pd.Series.nunique, 'revenue': 'sum'})\n",
    ")\n",
    "ordersADaily.columns = ['date', 'ordersPerDateA', 'revenuePerDateA']\n",
    "\n",
    "ordersACummulative = ordersADaily.apply(\n",
    "    lambda x: ordersADaily[ordersADaily['date'] <= x['date']].agg(\n",
    "        {'date': 'max', 'ordersPerDateA': 'sum', 'revenuePerDateA': 'sum'}\n",
    "    ),\n",
    "    axis=1,\n",
    ").sort_values(by=['date'])\n",
    "ordersACummulative.columns = [\n",
    "    'date',\n",
    "    'ordersCummulativeA',\n",
    "    'revenueCummulativeA',\n",
    "]\n",
    "\n",
    "ordersBDaily = (\n",
    "    orders[orders['group'] == 'B'][['date', 'transactionId', 'visitorId', 'revenue']]\n",
    "    .groupby('date', as_index=False)\n",
    "    .agg({'transactionId': pd.Series.nunique, 'revenue': 'sum'})\n",
    ")\n",
    "ordersBDaily.columns = ['date', 'ordersPerDateB', 'revenuePerDateB']\n",
    "\n",
    "ordersBCummulative = ordersBDaily.apply(\n",
    "    lambda x: ordersBDaily[ordersBDaily['date'] <= x['date']].agg(\n",
    "        {'date': 'max', 'ordersPerDateB': 'sum', 'revenuePerDateB': 'sum'}\n",
    "    ),\n",
    "    axis=1,\n",
    ").sort_values(by=['date'])\n",
    "ordersBCummulative.columns = [\n",
    "    'date',\n",
    "    'ordersCummulativeB',\n",
    "    'revenueCummulativeB',\n",
    "]"
   ]
  },
  {
   "cell_type": "code",
   "execution_count": 42,
   "metadata": {},
   "outputs": [],
   "source": [
    "data = (\n",
    "    ordersADaily.merge(\n",
    "        ordersBDaily, left_on='date', right_on='date', how='left'\n",
    "    )\n",
    "    .merge(ordersACummulative, left_on='date', right_on='date', how='left')\n",
    "    .merge(ordersBCummulative, left_on='date', right_on='date', how='left')\n",
    "    .merge(visitorsADaily, left_on='date', right_on='date', how='left')\n",
    "    .merge(visitorsBDaily, left_on='date', right_on='date', how='left')\n",
    "    .merge(visitorsACummulative, left_on='date', right_on='date', how='left')\n",
    "    .merge(visitorsBCummulative, left_on='date', right_on='date', how='left')\n",
    ")"
   ]
  },
  {
   "cell_type": "code",
   "execution_count": 43,
   "metadata": {},
   "outputs": [
    {
     "name": "stdout",
     "output_type": "stream",
     "text": [
      "        date  ordersPerDateA  revenuePerDateA  ordersPerDateB  \\\n",
      "0 2019-08-01              24           148579              21   \n",
      "1 2019-08-02              20            93822              24   \n",
      "2 2019-08-03              24           112473              16   \n",
      "3 2019-08-04              16            70825              17   \n",
      "4 2019-08-05              25           124218              23   \n",
      "\n",
      "   revenuePerDateB  ordersCummulativeA  revenueCummulativeA  \\\n",
      "0           101217                  24               148579   \n",
      "1           165531                  44               242401   \n",
      "2           114248                  68               354874   \n",
      "3           108571                  84               425699   \n",
      "4            92428                 109               549917   \n",
      "\n",
      "   ordersCummulativeB  revenueCummulativeB  visitorsPerDateA  \\\n",
      "0                  21               101217               719   \n",
      "1                  45               266748               619   \n",
      "2                  61               380996               507   \n",
      "3                  78               489567               717   \n",
      "4                 101               581995               756   \n",
      "\n",
      "   visitorsPerDateB  visitorsCummulativeA  visitorsCummulativeB  \n",
      "0               713                   719                   713  \n",
      "1               581                  1338                  1294  \n",
      "2               509                  1845                  1803  \n",
      "3               770                  2562                  2573  \n",
      "4               707                  3318                  3280  \n"
     ]
    }
   ],
   "source": [
    "print(data.head())"
   ]
  },
  {
   "cell_type": "code",
   "execution_count": 44,
   "metadata": {},
   "outputs": [],
   "source": [
    "ordersByUsersA = (\n",
    "    orders[orders['group'] == 'A']\n",
    "    .groupby('visitorId', as_index=False)\n",
    "    .agg({'transactionId': pd.Series.nunique})\n",
    ")\n",
    "ordersByUsersA.columns = ['userId', 'orders']\n",
    "\n",
    "ordersByUsersB = (\n",
    "    orders[orders['group'] == 'B']\n",
    "    .groupby('visitorId', as_index=False)\n",
    "    .agg({'transactionId': pd.Series.nunique})\n",
    ")\n",
    "ordersByUsersB.columns = ['userId', 'orders'] "
   ]
  },
  {
   "cell_type": "code",
   "execution_count": 45,
   "metadata": {},
   "outputs": [],
   "source": [
    "pd.Series(0, index=np.arange(data['visitorsPerDateA'].sum() - len(ordersByUsersA['orders'])), name='orders')\n",
    "[ordersByUsersA['orders'],pd.Series(0, index=np.arange(data['visitorsPerDateA'].sum() - len(ordersByUsersA['orders'])), name='orders')] \n",
    "\n",
    "sampleA = pd.concat([ordersByUsersA['orders'],pd.Series(0, index=np.arange(data['visitorsPerDateA'].sum() - len(ordersByUsersA['orders'])), name='orders')],axis=0)\n",
    "\n",
    "sampleB = pd.concat([ordersByUsersB['orders'],pd.Series(0, index=np.arange(data['visitorsPerDateB'].sum() - len(ordersByUsersB['orders'])), name='orders')],axis=0)"
   ]
  },
  {
   "cell_type": "code",
   "execution_count": 46,
   "metadata": {},
   "outputs": [],
   "source": [
    "sampleA = pd.concat(\n",
    "    [\n",
    "        ordersByUsersA['orders'],\n",
    "        pd.Series(\n",
    "            0,\n",
    "            index=np.arange(\n",
    "                data['visitorsPerDateA'].sum() - len(ordersByUsersA['orders'])\n",
    "            ),\n",
    "            name='orders',\n",
    "        ),\n",
    "    ],\n",
    "    axis=0,\n",
    ")\n",
    "\n",
    "sampleB = pd.concat(\n",
    "    [\n",
    "        ordersByUsersB['orders'],\n",
    "        pd.Series(\n",
    "            0,\n",
    "            index=np.arange(\n",
    "                data['visitorsPerDateB'].sum() - len(ordersByUsersB['orders'])\n",
    "            ),\n",
    "            name='orders',\n",
    "        ),\n",
    "    ],\n",
    "    axis=0,\n",
    ")\n"
   ]
  },
  {
   "cell_type": "markdown",
   "metadata": {},
   "source": [
    "**Считаем статистическую значимость различий в среднем количестве заказов между группами по «сырым» данным.**<a id='10'></a>"
   ]
  },
  {
   "cell_type": "markdown",
   "metadata": {},
   "source": [
    "**H0: статистически значимых различий в среднем числе заказов между группами в исходных данных нет**\n",
    "\n",
    "**H1: статистически значимые различия в среднем числе заказов между группами в исходных данных есть**"
   ]
  },
  {
   "cell_type": "code",
   "execution_count": 47,
   "metadata": {},
   "outputs": [
    {
     "name": "stdout",
     "output_type": "stream",
     "text": [
      "0.01679 p-value\n",
      "0.13808 конверсия\n"
     ]
    }
   ],
   "source": [
    "print(\"{0:.5f}\".format(stats.mannwhitneyu(sampleA, sampleB)[1]), 'p-value')\n",
    "\n",
    "print(\"{0:.5f}\".format(sampleB.mean() / sampleA.mean() - 1), 'конверсия')\n"
   ]
  },
  {
   "cell_type": "markdown",
   "metadata": {},
   "source": [
    "**p-value меньше 0.05, гипотезу о том, что статистически значимых различий в среднем числе заказов между группами нет, отвергаем. Относительный выигрыш группы В равен 13.8%**"
   ]
  },
  {
   "cell_type": "markdown",
   "metadata": {},
   "source": [
    "**Считаем относительное различие среднего чека в группе по сырым данным.**<a id='11'></a>"
   ]
  },
  {
   "cell_type": "markdown",
   "metadata": {},
   "source": [
    "**H0: статистически значимых различий в среднем чеке между группами в исходных данных нет**"
   ]
  },
  {
   "cell_type": "markdown",
   "metadata": {},
   "source": [
    "**H1: статистически значимые различия в среднем чеке между группами в исходных данных есть**"
   ]
  },
  {
   "cell_type": "code",
   "execution_count": 48,
   "metadata": {},
   "outputs": [
    {
     "name": "stdout",
     "output_type": "stream",
     "text": [
      "0.729 p=value\n",
      "0.259 отношение среднего чека\n"
     ]
    }
   ],
   "source": [
    "print('{0:.3f}'.format(stats.mannwhitneyu(orders[orders['group']=='A']['revenue'], orders[orders['group']=='B']['revenue'])[1]), 'p=value')\n",
    "print('{0:.3f}'.format(orders[orders['group']=='B']['revenue'].mean()/orders[orders['group']=='A']['revenue'].mean()-1), 'отношение среднего чека')"
   ]
  },
  {
   "cell_type": "markdown",
   "metadata": {},
   "source": [
    "**P-value значительно больше 0.05, нулевую гипотезу не отвергаем.**\n",
    "\n",
    "**Средний чек группы В, выше СЧ группы А.**"
   ]
  },
  {
   "cell_type": "markdown",
   "metadata": {},
   "source": [
    "**Очищаем данные от выбросов, как мы помним по высчитанным перценталям, что аномальными пользователями будут те, кто сделал больше 2 заказов и сумма заказов больше 44133**"
   ]
  },
  {
   "cell_type": "code",
   "execution_count": 60,
   "metadata": {},
   "outputs": [],
   "source": [
    "usersWithManyOrders = pd.concat(\n",
    "    [\n",
    "        ordersByUsersA[ordersByUsersA['orders'] > np.percentile(ordersByUsers['orders'], [95,97,98,99])[1]]['userId'],\n",
    "        ordersByUsersB[ordersByUsersB['orders'] > np.percentile(ordersByUsers['orders'], [95,97,98,99])[1]]['userId']\n",
    "    ],\n",
    "    axis=0,\n",
    ")\n",
    "\n",
    "usersWithExpensiveOrders = orders[orders['revenue'] > np.percentile(orders['revenue'], [95, 98])[1]]['visitorId']\n",
    "abnormalUsers = (\n",
    "    pd.concat([usersWithManyOrders, usersWithExpensiveOrders], axis=0)\n",
    "    .drop_duplicates()\n",
    "    .sort_values()\n",
    ")"
   ]
  },
  {
   "cell_type": "code",
   "execution_count": 50,
   "metadata": {},
   "outputs": [
    {
     "data": {
      "text/plain": [
       "44133.199999999866"
      ]
     },
     "execution_count": 50,
     "metadata": {},
     "output_type": "execute_result"
    }
   ],
   "source": [
    "#код ревьюера\n",
    "#граница для суммы заказа\n",
    "np.percentile(orders['revenue'], [95, 98])[1]"
   ]
  },
  {
   "cell_type": "code",
   "execution_count": 51,
   "metadata": {},
   "outputs": [
    {
     "data": {
      "text/plain": [
       "2.0"
      ]
     },
     "execution_count": 51,
     "metadata": {},
     "output_type": "execute_result"
    }
   ],
   "source": [
    "#код ревьюера\n",
    "#граница для кол-ва заказов\n",
    "np.percentile(ordersByUsers['orders'], [95,97,98,99])[1]"
   ]
  },
  {
   "cell_type": "code",
   "execution_count": 52,
   "metadata": {},
   "outputs": [
    {
     "data": {
      "text/plain": [
       "(40,)"
      ]
     },
     "execution_count": 52,
     "metadata": {},
     "output_type": "execute_result"
    }
   ],
   "source": [
    "abnormalUsers = (\n",
    "    pd.concat([usersWithManyOrders, usersWithExpensiveOrders], axis=0)\n",
    "    .drop_duplicates()\n",
    "    .sort_values()\n",
    ")\n",
    "abnormalUsers.shape"
   ]
  },
  {
   "cell_type": "markdown",
   "metadata": {},
   "source": [
    "**Фильтруем данные и присваиваем переменным**"
   ]
  },
  {
   "cell_type": "code",
   "execution_count": 53,
   "metadata": {},
   "outputs": [],
   "source": [
    "sampleAFiltered = pd.concat(\n",
    "    [\n",
    "        ordersByUsersA[\n",
    "            np.logical_not(ordersByUsersA['userId'].isin(abnormalUsers))\n",
    "        ]['orders'],\n",
    "        pd.Series(\n",
    "            0,\n",
    "            index=np.arange(\n",
    "                data['visitorsPerDateA'].sum() - len(ordersByUsersA['orders'])\n",
    "            ),\n",
    "            name='orders',\n",
    "        ),\n",
    "    ],\n",
    "    axis=0,\n",
    ")\n",
    "\n",
    "sampleBFiltered = pd.concat(\n",
    "    [\n",
    "        ordersByUsersB[\n",
    "            np.logical_not(ordersByUsersB['userId'].isin(abnormalUsers))\n",
    "        ]['orders'],\n",
    "        pd.Series(\n",
    "            0,\n",
    "            index=np.arange(\n",
    "                data['visitorsPerDateB'].sum() - len(ordersByUsersB['orders'])\n",
    "            ),\n",
    "            name='orders',\n",
    "        ),\n",
    "    ],\n",
    "    axis=0,\n",
    ") \n"
   ]
  },
  {
   "cell_type": "markdown",
   "metadata": {},
   "source": [
    "**Считаем относительный прирост среднего числа заказов по очищенным данным**<a id='12'></a>"
   ]
  },
  {
   "cell_type": "markdown",
   "metadata": {},
   "source": [
    "**H0: статистически значимых различий в среднем числе заказов между группами в обработанных данных нет**"
   ]
  },
  {
   "cell_type": "markdown",
   "metadata": {},
   "source": [
    "**H1: статистически значимые различия в среднем числе заказов между группами в обработанных данных есть**"
   ]
  },
  {
   "cell_type": "code",
   "execution_count": 54,
   "metadata": {},
   "outputs": [
    {
     "name": "stdout",
     "output_type": "stream",
     "text": [
      "0.00740 p-value\n",
      "0.185 конверсия\n"
     ]
    }
   ],
   "source": [
    "print('{0:.5f}'.format(stats.mannwhitneyu(sampleAFiltered, sampleBFiltered)[1]), 'p-value')\n",
    "print('{0:.3f}'.format(sampleBFiltered.mean()/sampleAFiltered.mean()-1), 'конверсия') "
   ]
  },
  {
   "cell_type": "markdown",
   "metadata": {},
   "source": [
    "**По очищенным данным прирость среднего числа заказов у группы В 18.5%, p-value меньше 0.05, нулевую гипотезу отвергаем**"
   ]
  },
  {
   "cell_type": "markdown",
   "metadata": {},
   "source": [
    "**Считаем статистическую значимость различий в среднем чеке заказа между группами по «очищенным» данным**"
   ]
  },
  {
   "cell_type": "markdown",
   "metadata": {},
   "source": [
    "**H0: статистически значимых различий в среднем чеке между группами в обработанных данных нет**"
   ]
  },
  {
   "cell_type": "markdown",
   "metadata": {},
   "source": [
    "**H1: статистически значимые различия в среднем чеке между группами в обработанных данных есть**"
   ]
  },
  {
   "cell_type": "code",
   "execution_count": 55,
   "metadata": {},
   "outputs": [
    {
     "name": "stdout",
     "output_type": "stream",
     "text": [
      "0.994 p-value\n",
      "0.037 средний чек\n"
     ]
    }
   ],
   "source": [
    "print(\n",
    "    '{0:.3f}'.format(\n",
    "        stats.mannwhitneyu(\n",
    "            orders[\n",
    "                np.logical_and(\n",
    "                    orders['group'] == 'A',\n",
    "                    np.logical_not(orders['visitorId'].isin(abnormalUsers)),\n",
    "                )\n",
    "            ]['revenue'],\n",
    "            orders[\n",
    "                np.logical_and(\n",
    "                    orders['group'] == 'B',\n",
    "                    np.logical_not(orders['visitorId'].isin(abnormalUsers)),\n",
    "                )\n",
    "            ]['revenue'],\n",
    "        )[1]\n",
    "    ), 'p-value'\n",
    ")\n",
    "\n",
    "print(\n",
    "    \"{0:.3f}\".format(\n",
    "        orders[\n",
    "            np.logical_and(\n",
    "                orders['group'] == 'B',\n",
    "                np.logical_not(orders['visitorId'].isin(abnormalUsers)),\n",
    "            )\n",
    "        ]['revenue'].mean()\n",
    "        / orders[\n",
    "            np.logical_and(\n",
    "                orders['group'] == 'A',\n",
    "                np.logical_not(orders['visitorId'].isin(abnormalUsers)),\n",
    "            )\n",
    "        ]['revenue'].mean()\n",
    "        - 1\n",
    "    ), 'средний чек'\n",
    ") "
   ]
  },
  {
   "cell_type": "markdown",
   "metadata": {},
   "source": [
    "**p-value увеличилось, в очищенном датафрейме, у группы В не такая сильная разница между сегментами, p-value , p-value , намного больше 0.05, нулевую гипотезу не отвергаем**<a id='13'></a>"
   ]
  },
  {
   "cell_type": "markdown",
   "metadata": {},
   "source": [
    "# Выводы: <a id='14'></a>"
   ]
  },
  {
   "cell_type": "markdown",
   "metadata": {},
   "source": [
    "* Графики, построенные на основе сырых данных (выручка, средний чек и конверсия) показывают превосходство группы В над группой А по всем показателям. У группы В наблюдаются резки скачки на графиках. Возможно, что в группе В есть 'аномальный пользователь(пользователи)', которые мешают справедливой оценке проведенного теста.\n",
    "\n",
    "\n",
    "\n",
    "* На точечных графиках и по выведенным 95 - 99 перцентилям, можно действительно заметить, выбивающиеся из общей группы значения. За аномальные значения мы приняли людей, сделавших больше 2-ух заказов и с общей суммой заказа 44133 рубля.\n",
    "\n",
    "\n",
    "\n",
    "* на графиках отношения среднего чека и общего числа заказов группы В к группе А, можно наблюдать резкие и высокие скачки по среднему чеку и стабильное превосходство по среднему куммулятивному числу заказов группы А над группой В.\n",
    "\n",
    "\n",
    "\n",
    "* После разделения пользователей на группы по признаку принадлежности к группе тестирования, я посчитал статистическую значимость среднего количества заказов и статистическую значимость среднего чека **по полным данным**. \n",
    "-- по статистической значимости среднего количества заказов, группа В имеет относительный выигрыш в 13.8%\n",
    "-- по статистической значимости среднего чека = 25.9%\n",
    "\n",
    "\n",
    "\n",
    "* **После отчистки** аномальных пользователей, которых оказалось 40:\n",
    "-- по статистической значимости среднего количества заказов, группа В имеет относительный выигрыш в 18.5%\n",
    "-- по статистической значимости среднего чека = -0.01%\n",
    "\n",
    "\n",
    "\n",
    "* Сравнивая сырые и очищенные данные, можно заметить, что результаты отличаются. Аномальные пользователи действительно влияли на результат теста. Отношение среднего количества заказов группы В выросло, в то время как отношение среднего чека существенно снизилось. Тест показал, что группа В в среднем заказывает чаще, чем группа А, но проигрывает ей по среднему чеку.\n",
    "\n",
    "\n",
    "\n",
    "* Если смотреть на тест по сырым данным, то можно предположить что в тесте, группа В является успешной, но после отчистки мы увидели, что в группе В были выбросы, мешающие объективной оценке. Можно остановить тест, зафиксировав победу группы В по среднему количеству заказов, но отсутствие изменений по статистической значимости среднего чека."
   ]
  }
 ],
 "metadata": {
  "ExecuteTimeLog": [
   {
    "duration": 498,
    "start_time": "2022-10-25T14:23:11.390Z"
   },
   {
    "duration": 32,
    "start_time": "2022-10-25T14:23:19.717Z"
   },
   {
    "duration": 3,
    "start_time": "2022-10-25T14:24:54.355Z"
   },
   {
    "duration": 32,
    "start_time": "2022-10-25T14:24:54.806Z"
   },
   {
    "duration": 91,
    "start_time": "2022-10-25T14:29:55.113Z"
   },
   {
    "duration": 32,
    "start_time": "2022-10-25T14:32:14.753Z"
   },
   {
    "duration": 6,
    "start_time": "2022-10-25T14:32:31.852Z"
   },
   {
    "duration": 10,
    "start_time": "2022-10-25T14:32:37.736Z"
   },
   {
    "duration": 4,
    "start_time": "2022-10-25T14:34:15.817Z"
   },
   {
    "duration": 7,
    "start_time": "2022-10-25T14:34:26.298Z"
   },
   {
    "duration": 10,
    "start_time": "2022-10-25T14:34:36.643Z"
   },
   {
    "duration": 9,
    "start_time": "2022-10-25T14:34:46.560Z"
   },
   {
    "duration": 11,
    "start_time": "2022-10-25T14:35:02.102Z"
   },
   {
    "duration": 434,
    "start_time": "2022-10-25T14:35:51.292Z"
   },
   {
    "duration": 41,
    "start_time": "2022-10-25T14:35:51.728Z"
   },
   {
    "duration": 6,
    "start_time": "2022-10-25T14:35:51.771Z"
   },
   {
    "duration": 13,
    "start_time": "2022-10-25T14:35:51.778Z"
   },
   {
    "duration": 15,
    "start_time": "2022-10-25T14:35:51.793Z"
   },
   {
    "duration": 71,
    "start_time": "2022-10-25T14:43:06.438Z"
   },
   {
    "duration": 145,
    "start_time": "2022-10-25T14:43:09.686Z"
   },
   {
    "duration": 8,
    "start_time": "2022-10-25T14:43:10.105Z"
   },
   {
    "duration": 6,
    "start_time": "2022-10-25T14:43:21.543Z"
   },
   {
    "duration": 7,
    "start_time": "2022-10-25T14:43:26.592Z"
   },
   {
    "duration": 8,
    "start_time": "2022-10-25T14:43:31.137Z"
   },
   {
    "duration": 352,
    "start_time": "2022-10-25T16:34:27.163Z"
   },
   {
    "duration": 38,
    "start_time": "2022-10-25T16:34:27.517Z"
   },
   {
    "duration": 8,
    "start_time": "2022-10-25T16:34:27.557Z"
   },
   {
    "duration": 13,
    "start_time": "2022-10-25T16:34:27.567Z"
   },
   {
    "duration": 9,
    "start_time": "2022-10-25T16:34:27.581Z"
   },
   {
    "duration": 53,
    "start_time": "2022-10-25T16:34:27.592Z"
   },
   {
    "duration": 7,
    "start_time": "2022-10-25T16:34:27.647Z"
   },
   {
    "duration": 9,
    "start_time": "2022-10-25T16:34:27.655Z"
   },
   {
    "duration": 740,
    "start_time": "2022-10-26T13:34:04.950Z"
   },
   {
    "duration": 87,
    "start_time": "2022-10-26T13:51:21.037Z"
   },
   {
    "duration": 584,
    "start_time": "2022-10-26T13:51:39.523Z"
   },
   {
    "duration": 88,
    "start_time": "2022-10-26T13:51:40.110Z"
   },
   {
    "duration": 7,
    "start_time": "2022-10-26T13:51:40.199Z"
   },
   {
    "duration": 36,
    "start_time": "2022-10-26T13:51:40.207Z"
   },
   {
    "duration": 36,
    "start_time": "2022-10-26T13:51:40.251Z"
   },
   {
    "duration": 144,
    "start_time": "2022-10-26T13:51:40.295Z"
   },
   {
    "duration": 477,
    "start_time": "2022-10-26T13:51:40.442Z"
   },
   {
    "duration": 0,
    "start_time": "2022-10-26T13:51:40.921Z"
   },
   {
    "duration": 0,
    "start_time": "2022-10-26T13:51:40.923Z"
   },
   {
    "duration": 7,
    "start_time": "2022-10-26T13:52:31.035Z"
   },
   {
    "duration": 8,
    "start_time": "2022-10-26T13:52:33.235Z"
   },
   {
    "duration": 10,
    "start_time": "2022-10-26T13:54:17.097Z"
   },
   {
    "duration": 5,
    "start_time": "2022-10-26T13:54:35.192Z"
   },
   {
    "duration": 7,
    "start_time": "2022-10-26T13:54:38.647Z"
   },
   {
    "duration": 7,
    "start_time": "2022-10-26T13:54:44.770Z"
   },
   {
    "duration": 25,
    "start_time": "2022-10-26T13:59:06.808Z"
   },
   {
    "duration": 20,
    "start_time": "2022-10-26T13:59:50.446Z"
   },
   {
    "duration": 18,
    "start_time": "2022-10-26T14:01:21.758Z"
   },
   {
    "duration": 6,
    "start_time": "2022-10-26T14:02:26.775Z"
   },
   {
    "duration": 7,
    "start_time": "2022-10-26T14:02:27.342Z"
   },
   {
    "duration": 27,
    "start_time": "2022-10-26T14:02:27.923Z"
   },
   {
    "duration": 615,
    "start_time": "2022-10-26T14:04:53.101Z"
   },
   {
    "duration": 37,
    "start_time": "2022-10-26T14:04:53.718Z"
   },
   {
    "duration": 6,
    "start_time": "2022-10-26T14:04:53.756Z"
   },
   {
    "duration": 11,
    "start_time": "2022-10-26T14:04:53.764Z"
   },
   {
    "duration": 25,
    "start_time": "2022-10-26T14:04:53.776Z"
   },
   {
    "duration": 55,
    "start_time": "2022-10-26T14:04:53.803Z"
   },
   {
    "duration": 8,
    "start_time": "2022-10-26T14:04:53.859Z"
   },
   {
    "duration": 14,
    "start_time": "2022-10-26T14:04:53.868Z"
   },
   {
    "duration": 23,
    "start_time": "2022-10-26T14:04:53.883Z"
   },
   {
    "duration": 9,
    "start_time": "2022-10-26T14:04:53.908Z"
   },
   {
    "duration": 84,
    "start_time": "2022-10-26T14:04:53.919Z"
   },
   {
    "duration": 58,
    "start_time": "2022-10-26T14:10:49.414Z"
   },
   {
    "duration": 344,
    "start_time": "2022-10-26T14:11:38.446Z"
   },
   {
    "duration": 28,
    "start_time": "2022-10-26T14:12:34.743Z"
   },
   {
    "duration": 9,
    "start_time": "2022-10-26T14:12:38.047Z"
   },
   {
    "duration": 8,
    "start_time": "2022-10-26T14:12:39.645Z"
   },
   {
    "duration": 6,
    "start_time": "2022-10-26T14:12:43.016Z"
   },
   {
    "duration": 19,
    "start_time": "2022-10-26T14:13:39.321Z"
   },
   {
    "duration": 21,
    "start_time": "2022-10-26T14:25:36.911Z"
   },
   {
    "duration": 63,
    "start_time": "2022-10-26T14:25:50.949Z"
   },
   {
    "duration": 17,
    "start_time": "2022-10-26T14:25:51.348Z"
   },
   {
    "duration": 131,
    "start_time": "2022-10-26T15:16:14.310Z"
   },
   {
    "duration": 9,
    "start_time": "2022-10-26T15:16:34.591Z"
   },
   {
    "duration": 19,
    "start_time": "2022-10-26T15:17:42.526Z"
   },
   {
    "duration": 165,
    "start_time": "2022-10-26T15:18:11.653Z"
   },
   {
    "duration": 42,
    "start_time": "2022-10-27T13:52:38.841Z"
   },
   {
    "duration": 793,
    "start_time": "2022-10-27T13:52:47.775Z"
   },
   {
    "duration": 82,
    "start_time": "2022-10-27T13:52:48.570Z"
   },
   {
    "duration": 6,
    "start_time": "2022-10-27T13:52:48.653Z"
   },
   {
    "duration": 11,
    "start_time": "2022-10-27T13:52:48.660Z"
   },
   {
    "duration": 10,
    "start_time": "2022-10-27T13:52:48.672Z"
   },
   {
    "duration": 83,
    "start_time": "2022-10-27T13:52:48.683Z"
   },
   {
    "duration": 59,
    "start_time": "2022-10-27T13:52:48.768Z"
   },
   {
    "duration": 8,
    "start_time": "2022-10-27T13:52:48.828Z"
   },
   {
    "duration": 9,
    "start_time": "2022-10-27T13:52:48.838Z"
   },
   {
    "duration": 7,
    "start_time": "2022-10-27T13:52:48.849Z"
   },
   {
    "duration": 151,
    "start_time": "2022-10-27T13:52:48.858Z"
   },
   {
    "duration": 121,
    "start_time": "2022-10-27T13:52:49.010Z"
   },
   {
    "duration": 7,
    "start_time": "2022-10-27T13:52:49.133Z"
   },
   {
    "duration": 11,
    "start_time": "2022-10-27T13:52:49.141Z"
   },
   {
    "duration": 7,
    "start_time": "2022-10-27T13:52:49.154Z"
   },
   {
    "duration": 7,
    "start_time": "2022-10-27T13:52:54.015Z"
   },
   {
    "duration": 9,
    "start_time": "2022-10-27T13:53:50.591Z"
   },
   {
    "duration": 305,
    "start_time": "2022-10-27T13:55:09.348Z"
   },
   {
    "duration": 158,
    "start_time": "2022-10-27T13:57:53.931Z"
   },
   {
    "duration": 215,
    "start_time": "2022-10-27T13:58:03.698Z"
   },
   {
    "duration": 158,
    "start_time": "2022-10-27T14:08:42.951Z"
   },
   {
    "duration": 196,
    "start_time": "2022-10-27T14:08:57.996Z"
   },
   {
    "duration": 158,
    "start_time": "2022-10-27T14:19:22.186Z"
   },
   {
    "duration": 368,
    "start_time": "2022-10-27T14:20:10.055Z"
   },
   {
    "duration": 10,
    "start_time": "2022-10-27T20:28:57.300Z"
   },
   {
    "duration": 166,
    "start_time": "2022-10-27T20:30:41.178Z"
   },
   {
    "duration": 576,
    "start_time": "2022-10-27T20:34:14.829Z"
   },
   {
    "duration": 35,
    "start_time": "2022-10-27T20:34:15.407Z"
   },
   {
    "duration": 5,
    "start_time": "2022-10-27T20:34:15.443Z"
   },
   {
    "duration": 11,
    "start_time": "2022-10-27T20:34:15.449Z"
   },
   {
    "duration": 12,
    "start_time": "2022-10-27T20:34:15.462Z"
   },
   {
    "duration": 50,
    "start_time": "2022-10-27T20:34:15.475Z"
   },
   {
    "duration": 17,
    "start_time": "2022-10-27T20:34:15.527Z"
   },
   {
    "duration": 8,
    "start_time": "2022-10-27T20:34:15.545Z"
   },
   {
    "duration": 9,
    "start_time": "2022-10-27T20:34:15.555Z"
   },
   {
    "duration": 7,
    "start_time": "2022-10-27T20:34:15.565Z"
   },
   {
    "duration": 151,
    "start_time": "2022-10-27T20:34:15.573Z"
   },
   {
    "duration": 136,
    "start_time": "2022-10-27T20:34:15.726Z"
   },
   {
    "duration": 8,
    "start_time": "2022-10-27T20:34:15.865Z"
   },
   {
    "duration": 9,
    "start_time": "2022-10-27T20:34:15.876Z"
   },
   {
    "duration": 24,
    "start_time": "2022-10-27T20:34:15.887Z"
   },
   {
    "duration": 9,
    "start_time": "2022-10-27T20:34:15.913Z"
   },
   {
    "duration": 245,
    "start_time": "2022-10-27T20:34:15.924Z"
   },
   {
    "duration": 182,
    "start_time": "2022-10-27T20:34:16.171Z"
   },
   {
    "duration": 273,
    "start_time": "2022-10-27T20:34:16.354Z"
   },
   {
    "duration": 79,
    "start_time": "2022-10-27T20:34:16.629Z"
   },
   {
    "duration": 0,
    "start_time": "2022-10-27T20:34:16.710Z"
   },
   {
    "duration": 8,
    "start_time": "2022-10-27T20:34:23.959Z"
   },
   {
    "duration": 250,
    "start_time": "2022-10-27T20:34:27.023Z"
   },
   {
    "duration": 184,
    "start_time": "2022-10-27T20:59:16.720Z"
   },
   {
    "duration": 5,
    "start_time": "2022-10-27T20:59:58.491Z"
   },
   {
    "duration": 5,
    "start_time": "2022-10-27T21:00:16.146Z"
   },
   {
    "duration": 223,
    "start_time": "2022-10-27T21:01:05.781Z"
   },
   {
    "duration": 181,
    "start_time": "2022-10-27T21:01:44.703Z"
   },
   {
    "duration": 176,
    "start_time": "2022-10-27T21:02:04.546Z"
   },
   {
    "duration": 178,
    "start_time": "2022-10-27T21:02:28.318Z"
   },
   {
    "duration": 174,
    "start_time": "2022-10-27T21:07:25.450Z"
   },
   {
    "duration": 289,
    "start_time": "2022-10-27T21:09:48.318Z"
   },
   {
    "duration": 274,
    "start_time": "2022-10-27T21:10:07.946Z"
   },
   {
    "duration": 301,
    "start_time": "2022-10-27T21:17:52.784Z"
   },
   {
    "duration": 12,
    "start_time": "2022-10-27T21:32:13.223Z"
   },
   {
    "duration": 6,
    "start_time": "2022-10-27T21:32:21.723Z"
   },
   {
    "duration": 8,
    "start_time": "2022-10-27T21:32:26.034Z"
   },
   {
    "duration": 135,
    "start_time": "2022-10-27T21:32:41.614Z"
   },
   {
    "duration": 185,
    "start_time": "2022-10-27T21:33:01.697Z"
   },
   {
    "duration": 5,
    "start_time": "2022-10-28T01:14:46.281Z"
   },
   {
    "duration": 94,
    "start_time": "2022-10-28T01:20:28.549Z"
   },
   {
    "duration": 91,
    "start_time": "2022-10-28T01:20:35.427Z"
   },
   {
    "duration": 52,
    "start_time": "2022-10-28T14:15:39.691Z"
   },
   {
    "duration": 864,
    "start_time": "2022-10-28T14:15:49.920Z"
   },
   {
    "duration": 73,
    "start_time": "2022-10-28T14:15:50.787Z"
   },
   {
    "duration": 6,
    "start_time": "2022-10-28T14:15:50.862Z"
   },
   {
    "duration": 12,
    "start_time": "2022-10-28T14:15:50.870Z"
   },
   {
    "duration": 12,
    "start_time": "2022-10-28T14:15:50.883Z"
   },
   {
    "duration": 94,
    "start_time": "2022-10-28T14:15:50.897Z"
   },
   {
    "duration": 56,
    "start_time": "2022-10-28T14:15:50.993Z"
   },
   {
    "duration": 35,
    "start_time": "2022-10-28T14:15:51.051Z"
   },
   {
    "duration": 14,
    "start_time": "2022-10-28T14:15:51.088Z"
   },
   {
    "duration": 9,
    "start_time": "2022-10-28T14:15:51.105Z"
   },
   {
    "duration": 167,
    "start_time": "2022-10-28T14:15:51.116Z"
   },
   {
    "duration": 127,
    "start_time": "2022-10-28T14:15:51.284Z"
   },
   {
    "duration": 9,
    "start_time": "2022-10-28T14:15:51.412Z"
   },
   {
    "duration": 18,
    "start_time": "2022-10-28T14:15:51.422Z"
   },
   {
    "duration": 10,
    "start_time": "2022-10-28T14:15:51.442Z"
   },
   {
    "duration": 12,
    "start_time": "2022-10-28T14:15:51.453Z"
   },
   {
    "duration": 290,
    "start_time": "2022-10-28T14:15:51.467Z"
   },
   {
    "duration": 193,
    "start_time": "2022-10-28T14:15:51.758Z"
   },
   {
    "duration": 322,
    "start_time": "2022-10-28T14:15:51.953Z"
   },
   {
    "duration": 7,
    "start_time": "2022-10-28T14:15:52.277Z"
   },
   {
    "duration": 272,
    "start_time": "2022-10-28T14:15:52.285Z"
   },
   {
    "duration": 305,
    "start_time": "2022-10-28T14:15:52.558Z"
   },
   {
    "duration": 7,
    "start_time": "2022-10-28T14:15:52.865Z"
   },
   {
    "duration": 127,
    "start_time": "2022-10-28T14:15:52.874Z"
   },
   {
    "duration": 4,
    "start_time": "2022-10-28T14:15:53.003Z"
   },
   {
    "duration": 142,
    "start_time": "2022-10-28T14:17:43.823Z"
   },
   {
    "duration": 131,
    "start_time": "2022-10-28T14:17:49.007Z"
   },
   {
    "duration": 839,
    "start_time": "2022-10-28T14:18:11.938Z"
   },
   {
    "duration": 7,
    "start_time": "2022-10-28T14:19:23.737Z"
   },
   {
    "duration": 8,
    "start_time": "2022-10-28T14:19:30.814Z"
   },
   {
    "duration": 145,
    "start_time": "2022-10-28T14:21:11.036Z"
   },
   {
    "duration": 132,
    "start_time": "2022-10-28T14:21:17.840Z"
   },
   {
    "duration": 4,
    "start_time": "2022-10-28T14:22:13.677Z"
   },
   {
    "duration": 5,
    "start_time": "2022-10-28T14:22:18.645Z"
   },
   {
    "duration": 55,
    "start_time": "2022-10-28T14:44:45.176Z"
   },
   {
    "duration": 59,
    "start_time": "2022-10-28T14:45:39.835Z"
   },
   {
    "duration": 95,
    "start_time": "2022-10-28T14:50:15.948Z"
   },
   {
    "duration": 17,
    "start_time": "2022-10-28T14:50:49.001Z"
   },
   {
    "duration": 122,
    "start_time": "2022-10-28T14:52:18.641Z"
   },
   {
    "duration": 28,
    "start_time": "2022-10-28T14:53:02.293Z"
   },
   {
    "duration": 21,
    "start_time": "2022-10-28T15:15:41.776Z"
   },
   {
    "duration": 7,
    "start_time": "2022-10-28T15:15:48.456Z"
   },
   {
    "duration": 14,
    "start_time": "2022-10-28T15:25:58.789Z"
   },
   {
    "duration": 135,
    "start_time": "2022-10-28T15:26:44.034Z"
   },
   {
    "duration": 8,
    "start_time": "2022-10-28T15:27:08.021Z"
   },
   {
    "duration": 10,
    "start_time": "2022-10-28T15:28:09.354Z"
   },
   {
    "duration": 9,
    "start_time": "2022-10-28T15:28:21.934Z"
   },
   {
    "duration": 436,
    "start_time": "2022-10-28T15:28:44.774Z"
   },
   {
    "duration": 28,
    "start_time": "2022-10-28T15:28:48.893Z"
   },
   {
    "duration": 23,
    "start_time": "2022-10-28T16:27:52.707Z"
   },
   {
    "duration": 15,
    "start_time": "2022-10-29T00:49:45.935Z"
   },
   {
    "duration": 799,
    "start_time": "2022-10-29T00:52:32.298Z"
   },
   {
    "duration": 751,
    "start_time": "2022-10-29T00:53:34.237Z"
   },
   {
    "duration": 754,
    "start_time": "2022-10-29T00:55:33.071Z"
   },
   {
    "duration": 7,
    "start_time": "2022-10-29T00:57:02.577Z"
   },
   {
    "duration": 4,
    "start_time": "2022-10-29T00:58:42.280Z"
   },
   {
    "duration": 8,
    "start_time": "2022-10-29T01:00:09.164Z"
   },
   {
    "duration": 30,
    "start_time": "2022-10-29T01:00:37.919Z"
   },
   {
    "duration": 892,
    "start_time": "2022-10-29T01:01:14.480Z"
   },
   {
    "duration": 13,
    "start_time": "2022-10-29T01:02:00.048Z"
   },
   {
    "duration": 1166,
    "start_time": "2022-10-29T14:41:50.793Z"
   },
   {
    "duration": 161,
    "start_time": "2022-10-29T14:41:51.962Z"
   },
   {
    "duration": 7,
    "start_time": "2022-10-29T14:41:52.125Z"
   },
   {
    "duration": 13,
    "start_time": "2022-10-29T14:41:52.133Z"
   },
   {
    "duration": 14,
    "start_time": "2022-10-29T14:41:52.148Z"
   },
   {
    "duration": 90,
    "start_time": "2022-10-29T14:41:52.164Z"
   },
   {
    "duration": 65,
    "start_time": "2022-10-29T14:41:52.256Z"
   },
   {
    "duration": 10,
    "start_time": "2022-10-29T14:41:52.323Z"
   },
   {
    "duration": 9,
    "start_time": "2022-10-29T14:41:52.336Z"
   },
   {
    "duration": 10,
    "start_time": "2022-10-29T14:41:52.347Z"
   },
   {
    "duration": 178,
    "start_time": "2022-10-29T14:41:52.359Z"
   },
   {
    "duration": 121,
    "start_time": "2022-10-29T14:41:52.538Z"
   },
   {
    "duration": 33,
    "start_time": "2022-10-29T14:41:52.661Z"
   },
   {
    "duration": 9,
    "start_time": "2022-10-29T14:41:52.704Z"
   },
   {
    "duration": 12,
    "start_time": "2022-10-29T14:41:52.714Z"
   },
   {
    "duration": 38,
    "start_time": "2022-10-29T14:41:52.728Z"
   },
   {
    "duration": 270,
    "start_time": "2022-10-29T14:41:52.770Z"
   },
   {
    "duration": 178,
    "start_time": "2022-10-29T14:41:53.042Z"
   },
   {
    "duration": 273,
    "start_time": "2022-10-29T14:41:53.222Z"
   },
   {
    "duration": 7,
    "start_time": "2022-10-29T14:41:53.497Z"
   },
   {
    "duration": 190,
    "start_time": "2022-10-29T14:41:53.505Z"
   },
   {
    "duration": 291,
    "start_time": "2022-10-29T14:41:53.697Z"
   },
   {
    "duration": 7,
    "start_time": "2022-10-29T14:41:53.991Z"
   },
   {
    "duration": 104,
    "start_time": "2022-10-29T14:41:53.999Z"
   },
   {
    "duration": 4,
    "start_time": "2022-10-29T14:41:54.104Z"
   },
   {
    "duration": 130,
    "start_time": "2022-10-29T14:41:54.109Z"
   },
   {
    "duration": 5,
    "start_time": "2022-10-29T14:41:54.240Z"
   },
   {
    "duration": 107,
    "start_time": "2022-10-29T14:41:54.246Z"
   },
   {
    "duration": 113,
    "start_time": "2022-10-29T14:41:54.354Z"
   },
   {
    "duration": 38,
    "start_time": "2022-10-29T14:41:54.469Z"
   },
   {
    "duration": 9,
    "start_time": "2022-10-29T14:41:54.508Z"
   },
   {
    "duration": 150,
    "start_time": "2022-10-29T14:41:54.519Z"
   },
   {
    "duration": 24,
    "start_time": "2022-10-29T14:41:54.670Z"
   },
   {
    "duration": 9,
    "start_time": "2022-10-29T14:41:54.696Z"
   },
   {
    "duration": 24,
    "start_time": "2022-10-29T14:41:54.706Z"
   },
   {
    "duration": 10,
    "start_time": "2022-10-29T14:41:54.731Z"
   },
   {
    "duration": 7,
    "start_time": "2022-10-29T14:41:54.742Z"
   },
   {
    "duration": 5,
    "start_time": "2022-10-29T14:41:54.750Z"
   },
   {
    "duration": 9,
    "start_time": "2022-10-29T14:41:54.757Z"
   },
   {
    "duration": 30,
    "start_time": "2022-10-29T14:41:54.778Z"
   },
   {
    "duration": 18,
    "start_time": "2022-10-29T14:41:54.812Z"
   },
   {
    "duration": 10,
    "start_time": "2022-10-29T17:50:09.419Z"
   },
   {
    "duration": 86,
    "start_time": "2022-10-29T17:50:30.326Z"
   },
   {
    "duration": 12,
    "start_time": "2022-10-29T17:50:34.939Z"
   },
   {
    "duration": 8,
    "start_time": "2022-10-29T17:50:46.787Z"
   },
   {
    "duration": 7,
    "start_time": "2022-10-29T17:50:57.051Z"
   },
   {
    "duration": 10,
    "start_time": "2022-10-29T17:51:10.415Z"
   },
   {
    "duration": 7,
    "start_time": "2022-10-29T17:51:42.226Z"
   },
   {
    "duration": 1148,
    "start_time": "2022-10-31T12:24:15.874Z"
   },
   {
    "duration": 122,
    "start_time": "2022-10-31T12:24:17.025Z"
   },
   {
    "duration": 6,
    "start_time": "2022-10-31T12:24:17.149Z"
   },
   {
    "duration": 12,
    "start_time": "2022-10-31T12:24:17.157Z"
   },
   {
    "duration": 13,
    "start_time": "2022-10-31T12:24:17.171Z"
   },
   {
    "duration": 85,
    "start_time": "2022-10-31T12:24:17.186Z"
   },
   {
    "duration": 12,
    "start_time": "2022-10-31T12:24:17.273Z"
   },
   {
    "duration": 10,
    "start_time": "2022-10-31T12:24:17.287Z"
   },
   {
    "duration": 53,
    "start_time": "2022-10-31T12:24:17.298Z"
   },
   {
    "duration": 11,
    "start_time": "2022-10-31T12:24:17.354Z"
   },
   {
    "duration": 18,
    "start_time": "2022-10-31T12:24:17.366Z"
   },
   {
    "duration": 12,
    "start_time": "2022-10-31T12:24:17.385Z"
   },
   {
    "duration": 20,
    "start_time": "2022-10-31T12:24:17.399Z"
   },
   {
    "duration": 28,
    "start_time": "2022-10-31T12:24:17.420Z"
   },
   {
    "duration": 191,
    "start_time": "2022-10-31T12:24:17.449Z"
   },
   {
    "duration": 126,
    "start_time": "2022-10-31T12:24:17.642Z"
   },
   {
    "duration": 8,
    "start_time": "2022-10-31T12:24:17.770Z"
   },
   {
    "duration": 30,
    "start_time": "2022-10-31T12:24:17.780Z"
   },
   {
    "duration": 33,
    "start_time": "2022-10-31T12:24:17.812Z"
   },
   {
    "duration": 38,
    "start_time": "2022-10-31T12:24:17.846Z"
   },
   {
    "duration": 311,
    "start_time": "2022-10-31T12:24:17.885Z"
   },
   {
    "duration": 203,
    "start_time": "2022-10-31T12:24:18.198Z"
   },
   {
    "duration": 340,
    "start_time": "2022-10-31T12:24:18.403Z"
   },
   {
    "duration": 239,
    "start_time": "2022-10-31T12:24:18.745Z"
   },
   {
    "duration": 398,
    "start_time": "2022-10-31T12:24:18.987Z"
   },
   {
    "duration": 9,
    "start_time": "2022-10-31T12:24:19.386Z"
   },
   {
    "duration": 137,
    "start_time": "2022-10-31T12:24:19.396Z"
   },
   {
    "duration": 5,
    "start_time": "2022-10-31T12:24:19.538Z"
   },
   {
    "duration": 186,
    "start_time": "2022-10-31T12:24:19.545Z"
   },
   {
    "duration": 4,
    "start_time": "2022-10-31T12:24:19.733Z"
   },
   {
    "duration": 134,
    "start_time": "2022-10-31T12:24:19.738Z"
   },
   {
    "duration": 140,
    "start_time": "2022-10-31T12:24:19.874Z"
   },
   {
    "duration": 21,
    "start_time": "2022-10-31T12:24:20.016Z"
   },
   {
    "duration": 21,
    "start_time": "2022-10-31T12:24:20.038Z"
   },
   {
    "duration": 148,
    "start_time": "2022-10-31T12:24:20.061Z"
   },
   {
    "duration": 12,
    "start_time": "2022-10-31T12:24:20.211Z"
   },
   {
    "duration": 7,
    "start_time": "2022-10-31T12:24:20.225Z"
   },
   {
    "duration": 32,
    "start_time": "2022-10-31T12:24:20.233Z"
   },
   {
    "duration": 10,
    "start_time": "2022-10-31T12:24:20.267Z"
   },
   {
    "duration": 8,
    "start_time": "2022-10-31T12:24:20.279Z"
   },
   {
    "duration": 32,
    "start_time": "2022-10-31T12:24:20.289Z"
   },
   {
    "duration": 9,
    "start_time": "2022-10-31T12:24:20.323Z"
   },
   {
    "duration": 32,
    "start_time": "2022-10-31T12:24:20.334Z"
   },
   {
    "duration": 13,
    "start_time": "2022-10-31T12:24:20.368Z"
   },
   {
    "duration": 6,
    "start_time": "2022-10-31T12:24:25.067Z"
   },
   {
    "duration": 4,
    "start_time": "2022-10-31T12:25:59.137Z"
   },
   {
    "duration": 5,
    "start_time": "2022-10-31T12:27:56.804Z"
   },
   {
    "duration": 4,
    "start_time": "2022-10-31T12:29:16.145Z"
   },
   {
    "duration": 94,
    "start_time": "2022-10-31T13:39:25.562Z"
   },
   {
    "duration": 12,
    "start_time": "2022-10-31T13:39:33.659Z"
   },
   {
    "duration": 5,
    "start_time": "2022-10-31T13:39:48.348Z"
   },
   {
    "duration": 7,
    "start_time": "2022-10-31T13:44:22.115Z"
   },
   {
    "duration": 5,
    "start_time": "2022-10-31T13:44:25.692Z"
   },
   {
    "duration": 8,
    "start_time": "2022-10-31T13:44:27.602Z"
   },
   {
    "duration": 20,
    "start_time": "2022-10-31T13:44:31.303Z"
   },
   {
    "duration": 4,
    "start_time": "2022-10-31T13:48:24.010Z"
   },
   {
    "duration": 4,
    "start_time": "2022-10-31T13:48:33.589Z"
   },
   {
    "duration": 4,
    "start_time": "2022-10-31T13:48:46.275Z"
   },
   {
    "duration": 4,
    "start_time": "2022-10-31T13:50:27.644Z"
   },
   {
    "duration": 8,
    "start_time": "2022-10-31T13:52:21.832Z"
   },
   {
    "duration": 6,
    "start_time": "2022-10-31T13:52:22.339Z"
   },
   {
    "duration": 8,
    "start_time": "2022-10-31T13:52:27.285Z"
   },
   {
    "duration": 20,
    "start_time": "2022-10-31T13:52:32.253Z"
   },
   {
    "duration": 19,
    "start_time": "2022-10-31T13:52:55.163Z"
   },
   {
    "duration": 57,
    "start_time": "2022-10-31T15:24:57.464Z"
   },
   {
    "duration": 6,
    "start_time": "2022-10-31T16:35:34.159Z"
   },
   {
    "duration": 5,
    "start_time": "2022-10-31T16:35:57.557Z"
   },
   {
    "duration": 5,
    "start_time": "2022-10-31T16:44:07.721Z"
   },
   {
    "duration": 10,
    "start_time": "2022-10-31T18:52:10.282Z"
   },
   {
    "duration": 1357,
    "start_time": "2022-10-31T20:12:08.931Z"
   },
   {
    "duration": 145,
    "start_time": "2022-10-31T20:12:10.290Z"
   },
   {
    "duration": 8,
    "start_time": "2022-10-31T20:12:10.436Z"
   },
   {
    "duration": 13,
    "start_time": "2022-10-31T20:12:10.445Z"
   },
   {
    "duration": 12,
    "start_time": "2022-10-31T20:12:10.460Z"
   },
   {
    "duration": 112,
    "start_time": "2022-10-31T20:12:10.473Z"
   },
   {
    "duration": 14,
    "start_time": "2022-10-31T20:12:10.587Z"
   },
   {
    "duration": 13,
    "start_time": "2022-10-31T20:12:10.602Z"
   },
   {
    "duration": 65,
    "start_time": "2022-10-31T20:12:10.616Z"
   },
   {
    "duration": 11,
    "start_time": "2022-10-31T20:12:10.684Z"
   },
   {
    "duration": 8,
    "start_time": "2022-10-31T20:12:10.696Z"
   },
   {
    "duration": 10,
    "start_time": "2022-10-31T20:12:10.705Z"
   },
   {
    "duration": 11,
    "start_time": "2022-10-31T20:12:10.717Z"
   },
   {
    "duration": 7,
    "start_time": "2022-10-31T20:12:10.729Z"
   },
   {
    "duration": 174,
    "start_time": "2022-10-31T20:12:10.737Z"
   },
   {
    "duration": 134,
    "start_time": "2022-10-31T20:12:10.913Z"
   },
   {
    "duration": 9,
    "start_time": "2022-10-31T20:12:11.049Z"
   },
   {
    "duration": 25,
    "start_time": "2022-10-31T20:12:11.060Z"
   },
   {
    "duration": 15,
    "start_time": "2022-10-31T20:12:11.086Z"
   },
   {
    "duration": 35,
    "start_time": "2022-10-31T20:12:11.103Z"
   },
   {
    "duration": 278,
    "start_time": "2022-10-31T20:12:11.140Z"
   },
   {
    "duration": 215,
    "start_time": "2022-10-31T20:12:11.420Z"
   },
   {
    "duration": 378,
    "start_time": "2022-10-31T20:12:11.637Z"
   },
   {
    "duration": 223,
    "start_time": "2022-10-31T20:12:12.017Z"
   },
   {
    "duration": 311,
    "start_time": "2022-10-31T20:12:12.242Z"
   },
   {
    "duration": 7,
    "start_time": "2022-10-31T20:12:12.555Z"
   },
   {
    "duration": 128,
    "start_time": "2022-10-31T20:12:12.564Z"
   },
   {
    "duration": 5,
    "start_time": "2022-10-31T20:12:12.696Z"
   },
   {
    "duration": 161,
    "start_time": "2022-10-31T20:12:12.702Z"
   },
   {
    "duration": 5,
    "start_time": "2022-10-31T20:12:12.865Z"
   },
   {
    "duration": 113,
    "start_time": "2022-10-31T20:12:12.871Z"
   },
   {
    "duration": 123,
    "start_time": "2022-10-31T20:12:12.986Z"
   },
   {
    "duration": 27,
    "start_time": "2022-10-31T20:12:13.111Z"
   },
   {
    "duration": 7,
    "start_time": "2022-10-31T20:12:13.140Z"
   },
   {
    "duration": 152,
    "start_time": "2022-10-31T20:12:13.148Z"
   },
   {
    "duration": 8,
    "start_time": "2022-10-31T20:12:13.302Z"
   },
   {
    "duration": 15,
    "start_time": "2022-10-31T20:12:13.312Z"
   },
   {
    "duration": 26,
    "start_time": "2022-10-31T20:12:13.329Z"
   },
   {
    "duration": 11,
    "start_time": "2022-10-31T20:12:13.357Z"
   },
   {
    "duration": 14,
    "start_time": "2022-10-31T20:12:13.370Z"
   },
   {
    "duration": 10,
    "start_time": "2022-10-31T20:12:13.386Z"
   },
   {
    "duration": 9,
    "start_time": "2022-10-31T20:12:13.423Z"
   },
   {
    "duration": 28,
    "start_time": "2022-10-31T20:12:13.434Z"
   },
   {
    "duration": 15,
    "start_time": "2022-10-31T20:12:13.464Z"
   },
   {
    "duration": 49,
    "start_time": "2022-10-31T22:12:37.382Z"
   },
   {
    "duration": 1273,
    "start_time": "2022-10-31T22:12:44.611Z"
   },
   {
    "duration": 147,
    "start_time": "2022-10-31T22:12:45.887Z"
   },
   {
    "duration": 8,
    "start_time": "2022-10-31T22:12:46.035Z"
   },
   {
    "duration": 23,
    "start_time": "2022-10-31T22:12:46.045Z"
   },
   {
    "duration": 32,
    "start_time": "2022-10-31T22:12:46.070Z"
   },
   {
    "duration": 107,
    "start_time": "2022-10-31T22:12:46.103Z"
   },
   {
    "duration": 14,
    "start_time": "2022-10-31T22:12:46.212Z"
   },
   {
    "duration": 19,
    "start_time": "2022-10-31T22:12:46.228Z"
   },
   {
    "duration": 78,
    "start_time": "2022-10-31T22:12:46.249Z"
   },
   {
    "duration": 10,
    "start_time": "2022-10-31T22:12:46.329Z"
   },
   {
    "duration": 19,
    "start_time": "2022-10-31T22:12:46.341Z"
   },
   {
    "duration": 48,
    "start_time": "2022-10-31T22:12:46.362Z"
   },
   {
    "duration": 35,
    "start_time": "2022-10-31T22:12:46.411Z"
   },
   {
    "duration": 149,
    "start_time": "2022-10-31T22:12:46.448Z"
   },
   {
    "duration": 0,
    "start_time": "2022-10-31T22:12:46.599Z"
   },
   {
    "duration": 0,
    "start_time": "2022-10-31T22:12:46.600Z"
   },
   {
    "duration": 0,
    "start_time": "2022-10-31T22:12:46.602Z"
   },
   {
    "duration": 0,
    "start_time": "2022-10-31T22:12:46.603Z"
   },
   {
    "duration": 0,
    "start_time": "2022-10-31T22:12:46.604Z"
   },
   {
    "duration": 0,
    "start_time": "2022-10-31T22:12:46.605Z"
   },
   {
    "duration": 0,
    "start_time": "2022-10-31T22:12:46.605Z"
   },
   {
    "duration": 0,
    "start_time": "2022-10-31T22:12:46.606Z"
   },
   {
    "duration": 0,
    "start_time": "2022-10-31T22:12:46.608Z"
   },
   {
    "duration": 1,
    "start_time": "2022-10-31T22:12:46.609Z"
   },
   {
    "duration": 0,
    "start_time": "2022-10-31T22:12:46.611Z"
   },
   {
    "duration": 0,
    "start_time": "2022-10-31T22:12:46.612Z"
   },
   {
    "duration": 0,
    "start_time": "2022-10-31T22:12:46.633Z"
   },
   {
    "duration": 0,
    "start_time": "2022-10-31T22:12:46.634Z"
   },
   {
    "duration": 0,
    "start_time": "2022-10-31T22:12:46.636Z"
   },
   {
    "duration": 0,
    "start_time": "2022-10-31T22:12:46.638Z"
   },
   {
    "duration": 0,
    "start_time": "2022-10-31T22:12:46.639Z"
   },
   {
    "duration": 0,
    "start_time": "2022-10-31T22:12:46.640Z"
   },
   {
    "duration": 0,
    "start_time": "2022-10-31T22:12:46.641Z"
   },
   {
    "duration": 0,
    "start_time": "2022-10-31T22:12:46.642Z"
   },
   {
    "duration": 0,
    "start_time": "2022-10-31T22:12:46.643Z"
   },
   {
    "duration": 0,
    "start_time": "2022-10-31T22:12:46.645Z"
   },
   {
    "duration": 1,
    "start_time": "2022-10-31T22:12:46.646Z"
   },
   {
    "duration": 0,
    "start_time": "2022-10-31T22:12:46.648Z"
   },
   {
    "duration": 0,
    "start_time": "2022-10-31T22:12:46.649Z"
   },
   {
    "duration": 0,
    "start_time": "2022-10-31T22:12:46.651Z"
   },
   {
    "duration": 0,
    "start_time": "2022-10-31T22:12:46.652Z"
   },
   {
    "duration": 0,
    "start_time": "2022-10-31T22:12:46.654Z"
   },
   {
    "duration": 0,
    "start_time": "2022-10-31T22:12:46.655Z"
   },
   {
    "duration": 0,
    "start_time": "2022-10-31T22:12:46.657Z"
   },
   {
    "duration": 0,
    "start_time": "2022-10-31T22:12:46.658Z"
   },
   {
    "duration": 7,
    "start_time": "2022-10-31T22:13:04.388Z"
   },
   {
    "duration": 7,
    "start_time": "2022-10-31T22:13:21.419Z"
   },
   {
    "duration": 79,
    "start_time": "2022-10-31T22:16:41.548Z"
   },
   {
    "duration": 76,
    "start_time": "2022-10-31T22:16:49.515Z"
   },
   {
    "duration": 1107,
    "start_time": "2022-10-31T22:20:21.525Z"
   },
   {
    "duration": 95,
    "start_time": "2022-10-31T22:20:22.634Z"
   },
   {
    "duration": 7,
    "start_time": "2022-10-31T22:20:22.731Z"
   },
   {
    "duration": 39,
    "start_time": "2022-10-31T22:20:22.740Z"
   },
   {
    "duration": 19,
    "start_time": "2022-10-31T22:20:22.780Z"
   },
   {
    "duration": 57,
    "start_time": "2022-10-31T22:20:22.800Z"
   },
   {
    "duration": 12,
    "start_time": "2022-10-31T22:20:22.859Z"
   },
   {
    "duration": 9,
    "start_time": "2022-10-31T22:20:22.872Z"
   },
   {
    "duration": 19,
    "start_time": "2022-10-31T22:20:22.882Z"
   },
   {
    "duration": 11,
    "start_time": "2022-10-31T22:20:22.904Z"
   },
   {
    "duration": 13,
    "start_time": "2022-10-31T22:20:22.917Z"
   },
   {
    "duration": 10,
    "start_time": "2022-10-31T22:20:22.931Z"
   },
   {
    "duration": 14,
    "start_time": "2022-10-31T22:20:22.942Z"
   },
   {
    "duration": 6,
    "start_time": "2022-10-31T22:20:22.958Z"
   },
   {
    "duration": 5,
    "start_time": "2022-10-31T22:20:22.965Z"
   },
   {
    "duration": 101,
    "start_time": "2022-10-31T22:20:22.972Z"
   },
   {
    "duration": 7,
    "start_time": "2022-10-31T22:20:23.076Z"
   },
   {
    "duration": 194,
    "start_time": "2022-10-31T22:20:23.085Z"
   },
   {
    "duration": 145,
    "start_time": "2022-10-31T22:20:23.281Z"
   },
   {
    "duration": 26,
    "start_time": "2022-10-31T22:20:23.434Z"
   },
   {
    "duration": 15,
    "start_time": "2022-10-31T22:20:23.462Z"
   },
   {
    "duration": 51,
    "start_time": "2022-10-31T22:20:23.479Z"
   },
   {
    "duration": 22,
    "start_time": "2022-10-31T22:20:23.531Z"
   },
   {
    "duration": 327,
    "start_time": "2022-10-31T22:20:23.554Z"
   },
   {
    "duration": 223,
    "start_time": "2022-10-31T22:20:23.883Z"
   },
   {
    "duration": 329,
    "start_time": "2022-10-31T22:20:24.107Z"
   },
   {
    "duration": 234,
    "start_time": "2022-10-31T22:20:24.437Z"
   },
   {
    "duration": 315,
    "start_time": "2022-10-31T22:20:24.674Z"
   },
   {
    "duration": 7,
    "start_time": "2022-10-31T22:20:24.991Z"
   },
   {
    "duration": 139,
    "start_time": "2022-10-31T22:20:25.000Z"
   },
   {
    "duration": 4,
    "start_time": "2022-10-31T22:20:25.141Z"
   },
   {
    "duration": 154,
    "start_time": "2022-10-31T22:20:25.147Z"
   },
   {
    "duration": 5,
    "start_time": "2022-10-31T22:20:25.303Z"
   },
   {
    "duration": 109,
    "start_time": "2022-10-31T22:20:25.310Z"
   },
   {
    "duration": 136,
    "start_time": "2022-10-31T22:20:25.421Z"
   },
   {
    "duration": 21,
    "start_time": "2022-10-31T22:20:25.559Z"
   },
   {
    "duration": 7,
    "start_time": "2022-10-31T22:20:25.582Z"
   },
   {
    "duration": 184,
    "start_time": "2022-10-31T22:20:25.591Z"
   },
   {
    "duration": 8,
    "start_time": "2022-10-31T22:20:25.777Z"
   },
   {
    "duration": 7,
    "start_time": "2022-10-31T22:20:25.786Z"
   },
   {
    "duration": 39,
    "start_time": "2022-10-31T22:20:25.795Z"
   },
   {
    "duration": 12,
    "start_time": "2022-10-31T22:20:25.836Z"
   },
   {
    "duration": 18,
    "start_time": "2022-10-31T22:20:25.850Z"
   },
   {
    "duration": 22,
    "start_time": "2022-10-31T22:20:25.870Z"
   },
   {
    "duration": 20,
    "start_time": "2022-10-31T22:20:25.893Z"
   },
   {
    "duration": 44,
    "start_time": "2022-10-31T22:20:25.915Z"
   },
   {
    "duration": 16,
    "start_time": "2022-10-31T22:20:25.961Z"
   },
   {
    "duration": 215,
    "start_time": "2022-10-31T22:21:25.589Z"
   },
   {
    "duration": 246,
    "start_time": "2022-10-31T22:23:11.502Z"
   },
   {
    "duration": 73,
    "start_time": "2022-10-31T22:26:18.165Z"
   },
   {
    "duration": 393,
    "start_time": "2022-10-31T22:27:41.146Z"
   },
   {
    "duration": 220,
    "start_time": "2022-10-31T22:28:04.739Z"
   },
   {
    "duration": 165,
    "start_time": "2022-10-31T22:29:12.869Z"
   },
   {
    "duration": 132,
    "start_time": "2022-10-31T22:29:24.967Z"
   },
   {
    "duration": 24,
    "start_time": "2022-10-31T22:34:28.159Z"
   },
   {
    "duration": 23,
    "start_time": "2022-10-31T22:34:43.448Z"
   },
   {
    "duration": 78,
    "start_time": "2022-10-31T22:36:26.026Z"
   },
   {
    "duration": 13,
    "start_time": "2022-10-31T22:39:32.152Z"
   },
   {
    "duration": 10,
    "start_time": "2022-10-31T23:24:32.207Z"
   },
   {
    "duration": 11,
    "start_time": "2022-10-31T23:28:30.899Z"
   },
   {
    "duration": 22,
    "start_time": "2022-10-31T23:29:13.863Z"
   },
   {
    "duration": 20,
    "start_time": "2022-10-31T23:30:04.064Z"
   },
   {
    "duration": 62,
    "start_time": "2022-10-31T23:38:19.889Z"
   },
   {
    "duration": 5,
    "start_time": "2022-10-31T23:41:08.216Z"
   },
   {
    "duration": 5,
    "start_time": "2022-10-31T23:41:15.835Z"
   },
   {
    "duration": 7,
    "start_time": "2022-10-31T23:43:02.102Z"
   },
   {
    "duration": 11,
    "start_time": "2022-10-31T23:44:31.762Z"
   },
   {
    "duration": 63,
    "start_time": "2022-10-31T23:44:37.421Z"
   },
   {
    "duration": 67,
    "start_time": "2022-10-31T23:44:51.969Z"
   },
   {
    "duration": 4,
    "start_time": "2022-10-31T23:46:05.276Z"
   },
   {
    "duration": 7,
    "start_time": "2022-10-31T23:46:37.760Z"
   },
   {
    "duration": 5,
    "start_time": "2022-10-31T23:48:01.537Z"
   },
   {
    "duration": 6,
    "start_time": "2022-10-31T23:48:22.184Z"
   },
   {
    "duration": 4,
    "start_time": "2022-10-31T23:48:36.982Z"
   },
   {
    "duration": 4,
    "start_time": "2022-10-31T23:48:37.492Z"
   },
   {
    "duration": 10,
    "start_time": "2022-10-31T23:49:10.787Z"
   },
   {
    "duration": 9,
    "start_time": "2022-10-31T23:49:47.574Z"
   },
   {
    "duration": 8,
    "start_time": "2022-10-31T23:49:51.620Z"
   },
   {
    "duration": 1162,
    "start_time": "2022-10-31T23:56:30.495Z"
   },
   {
    "duration": 95,
    "start_time": "2022-10-31T23:56:31.658Z"
   },
   {
    "duration": 6,
    "start_time": "2022-10-31T23:56:31.756Z"
   },
   {
    "duration": 36,
    "start_time": "2022-10-31T23:56:31.764Z"
   },
   {
    "duration": 26,
    "start_time": "2022-10-31T23:56:31.803Z"
   },
   {
    "duration": 91,
    "start_time": "2022-10-31T23:56:31.831Z"
   },
   {
    "duration": 14,
    "start_time": "2022-10-31T23:56:31.923Z"
   },
   {
    "duration": 36,
    "start_time": "2022-10-31T23:56:31.939Z"
   },
   {
    "duration": 58,
    "start_time": "2022-10-31T23:56:31.978Z"
   },
   {
    "duration": 11,
    "start_time": "2022-10-31T23:56:32.040Z"
   },
   {
    "duration": 12,
    "start_time": "2022-10-31T23:56:32.053Z"
   },
   {
    "duration": 11,
    "start_time": "2022-10-31T23:56:32.067Z"
   },
   {
    "duration": 10,
    "start_time": "2022-10-31T23:56:32.080Z"
   },
   {
    "duration": 6,
    "start_time": "2022-10-31T23:56:32.092Z"
   },
   {
    "duration": 33,
    "start_time": "2022-10-31T23:56:32.100Z"
   },
   {
    "duration": 4,
    "start_time": "2022-10-31T23:56:32.135Z"
   },
   {
    "duration": 6,
    "start_time": "2022-10-31T23:56:32.141Z"
   },
   {
    "duration": 6,
    "start_time": "2022-10-31T23:56:32.149Z"
   },
   {
    "duration": 13,
    "start_time": "2022-10-31T23:56:32.157Z"
   },
   {
    "duration": 7,
    "start_time": "2022-10-31T23:56:32.172Z"
   },
   {
    "duration": 11,
    "start_time": "2022-10-31T23:56:32.181Z"
   },
   {
    "duration": 202,
    "start_time": "2022-10-31T23:56:32.194Z"
   },
   {
    "duration": 135,
    "start_time": "2022-10-31T23:56:32.398Z"
   },
   {
    "duration": 8,
    "start_time": "2022-10-31T23:56:32.535Z"
   },
   {
    "duration": 10,
    "start_time": "2022-10-31T23:56:32.544Z"
   },
   {
    "duration": 8,
    "start_time": "2022-10-31T23:56:32.556Z"
   },
   {
    "duration": 10,
    "start_time": "2022-10-31T23:56:32.565Z"
   },
   {
    "duration": 335,
    "start_time": "2022-10-31T23:56:32.579Z"
   },
   {
    "duration": 194,
    "start_time": "2022-10-31T23:56:32.915Z"
   },
   {
    "duration": 323,
    "start_time": "2022-10-31T23:56:33.111Z"
   },
   {
    "duration": 215,
    "start_time": "2022-10-31T23:56:33.436Z"
   },
   {
    "duration": 306,
    "start_time": "2022-10-31T23:56:33.653Z"
   },
   {
    "duration": 6,
    "start_time": "2022-10-31T23:56:33.961Z"
   },
   {
    "duration": 128,
    "start_time": "2022-10-31T23:56:33.968Z"
   },
   {
    "duration": 5,
    "start_time": "2022-10-31T23:56:34.098Z"
   },
   {
    "duration": 144,
    "start_time": "2022-10-31T23:56:34.105Z"
   },
   {
    "duration": 5,
    "start_time": "2022-10-31T23:56:34.250Z"
   },
   {
    "duration": 105,
    "start_time": "2022-10-31T23:56:34.257Z"
   },
   {
    "duration": 135,
    "start_time": "2022-10-31T23:56:34.364Z"
   },
   {
    "duration": 38,
    "start_time": "2022-10-31T23:56:34.501Z"
   },
   {
    "duration": 6,
    "start_time": "2022-10-31T23:56:34.541Z"
   },
   {
    "duration": 159,
    "start_time": "2022-10-31T23:56:34.549Z"
   },
   {
    "duration": 8,
    "start_time": "2022-10-31T23:56:34.710Z"
   },
   {
    "duration": 15,
    "start_time": "2022-10-31T23:56:34.720Z"
   },
   {
    "duration": 36,
    "start_time": "2022-10-31T23:56:34.736Z"
   },
   {
    "duration": 14,
    "start_time": "2022-10-31T23:56:34.774Z"
   },
   {
    "duration": 9,
    "start_time": "2022-10-31T23:56:34.790Z"
   },
   {
    "duration": 35,
    "start_time": "2022-10-31T23:56:34.801Z"
   },
   {
    "duration": 10,
    "start_time": "2022-10-31T23:56:34.838Z"
   },
   {
    "duration": 32,
    "start_time": "2022-10-31T23:56:34.851Z"
   },
   {
    "duration": 17,
    "start_time": "2022-10-31T23:56:34.885Z"
   },
   {
    "duration": 1147,
    "start_time": "2022-11-01T06:55:40.748Z"
   },
   {
    "duration": 140,
    "start_time": "2022-11-01T06:55:41.897Z"
   },
   {
    "duration": 6,
    "start_time": "2022-11-01T06:55:42.038Z"
   },
   {
    "duration": 13,
    "start_time": "2022-11-01T06:55:42.046Z"
   },
   {
    "duration": 11,
    "start_time": "2022-11-01T06:55:42.060Z"
   },
   {
    "duration": 85,
    "start_time": "2022-11-01T06:55:42.072Z"
   },
   {
    "duration": 12,
    "start_time": "2022-11-01T06:55:42.159Z"
   },
   {
    "duration": 8,
    "start_time": "2022-11-01T06:55:42.173Z"
   },
   {
    "duration": 61,
    "start_time": "2022-11-01T06:55:42.183Z"
   },
   {
    "duration": 11,
    "start_time": "2022-11-01T06:55:42.247Z"
   },
   {
    "duration": 8,
    "start_time": "2022-11-01T06:55:42.260Z"
   },
   {
    "duration": 10,
    "start_time": "2022-11-01T06:55:42.269Z"
   },
   {
    "duration": 11,
    "start_time": "2022-11-01T06:55:42.280Z"
   },
   {
    "duration": 7,
    "start_time": "2022-11-01T06:55:42.292Z"
   },
   {
    "duration": 7,
    "start_time": "2022-11-01T06:55:42.300Z"
   },
   {
    "duration": 6,
    "start_time": "2022-11-01T06:55:42.309Z"
   },
   {
    "duration": 7,
    "start_time": "2022-11-01T06:55:42.317Z"
   },
   {
    "duration": 5,
    "start_time": "2022-11-01T06:55:42.326Z"
   },
   {
    "duration": 9,
    "start_time": "2022-11-01T06:55:42.332Z"
   },
   {
    "duration": 7,
    "start_time": "2022-11-01T06:55:42.343Z"
   },
   {
    "duration": 7,
    "start_time": "2022-11-01T06:55:42.351Z"
   },
   {
    "duration": 186,
    "start_time": "2022-11-01T06:55:42.359Z"
   },
   {
    "duration": 128,
    "start_time": "2022-11-01T06:55:42.547Z"
   },
   {
    "duration": 10,
    "start_time": "2022-11-01T06:55:42.677Z"
   },
   {
    "duration": 8,
    "start_time": "2022-11-01T06:55:42.704Z"
   },
   {
    "duration": 9,
    "start_time": "2022-11-01T06:55:42.714Z"
   },
   {
    "duration": 18,
    "start_time": "2022-11-01T06:55:42.725Z"
   },
   {
    "duration": 280,
    "start_time": "2022-11-01T06:55:42.746Z"
   },
   {
    "duration": 191,
    "start_time": "2022-11-01T06:55:43.028Z"
   },
   {
    "duration": 299,
    "start_time": "2022-11-01T06:55:43.220Z"
   },
   {
    "duration": 191,
    "start_time": "2022-11-01T06:55:43.520Z"
   },
   {
    "duration": 296,
    "start_time": "2022-11-01T06:55:43.713Z"
   },
   {
    "duration": 5,
    "start_time": "2022-11-01T06:55:44.011Z"
   },
   {
    "duration": 107,
    "start_time": "2022-11-01T06:55:44.017Z"
   },
   {
    "duration": 4,
    "start_time": "2022-11-01T06:55:44.125Z"
   },
   {
    "duration": 117,
    "start_time": "2022-11-01T06:55:44.130Z"
   },
   {
    "duration": 4,
    "start_time": "2022-11-01T06:55:44.249Z"
   },
   {
    "duration": 94,
    "start_time": "2022-11-01T06:55:44.254Z"
   },
   {
    "duration": 106,
    "start_time": "2022-11-01T06:55:44.349Z"
   },
   {
    "duration": 19,
    "start_time": "2022-11-01T06:55:44.456Z"
   },
   {
    "duration": 7,
    "start_time": "2022-11-01T06:55:44.476Z"
   },
   {
    "duration": 130,
    "start_time": "2022-11-01T06:55:44.485Z"
   },
   {
    "duration": 7,
    "start_time": "2022-11-01T06:55:44.617Z"
   },
   {
    "duration": 6,
    "start_time": "2022-11-01T06:55:44.626Z"
   },
   {
    "duration": 21,
    "start_time": "2022-11-01T06:55:44.633Z"
   },
   {
    "duration": 9,
    "start_time": "2022-11-01T06:55:44.656Z"
   },
   {
    "duration": 7,
    "start_time": "2022-11-01T06:55:44.666Z"
   },
   {
    "duration": 32,
    "start_time": "2022-11-01T06:55:44.674Z"
   },
   {
    "duration": 9,
    "start_time": "2022-11-01T06:55:44.707Z"
   },
   {
    "duration": 22,
    "start_time": "2022-11-01T06:55:44.717Z"
   },
   {
    "duration": 12,
    "start_time": "2022-11-01T06:55:44.740Z"
   },
   {
    "duration": 6,
    "start_time": "2022-11-01T06:57:46.074Z"
   },
   {
    "duration": 7,
    "start_time": "2022-11-01T06:58:44.730Z"
   },
   {
    "duration": 104,
    "start_time": "2022-11-01T07:02:04.102Z"
   },
   {
    "duration": 11,
    "start_time": "2022-11-01T07:02:22.277Z"
   },
   {
    "duration": 4,
    "start_time": "2022-11-01T07:08:41.343Z"
   },
   {
    "duration": 4,
    "start_time": "2022-11-01T07:10:46.573Z"
   },
   {
    "duration": 9,
    "start_time": "2022-11-01T07:11:49.593Z"
   },
   {
    "duration": 1007,
    "start_time": "2022-11-01T07:35:47.590Z"
   },
   {
    "duration": 89,
    "start_time": "2022-11-01T07:35:48.598Z"
   },
   {
    "duration": 6,
    "start_time": "2022-11-01T07:35:48.688Z"
   },
   {
    "duration": 21,
    "start_time": "2022-11-01T07:35:48.695Z"
   },
   {
    "duration": 24,
    "start_time": "2022-11-01T07:35:48.717Z"
   },
   {
    "duration": 59,
    "start_time": "2022-11-01T07:35:48.743Z"
   },
   {
    "duration": 9,
    "start_time": "2022-11-01T07:35:48.804Z"
   },
   {
    "duration": 13,
    "start_time": "2022-11-01T07:35:48.815Z"
   },
   {
    "duration": 29,
    "start_time": "2022-11-01T07:35:48.830Z"
   },
   {
    "duration": 9,
    "start_time": "2022-11-01T07:35:48.861Z"
   },
   {
    "duration": 31,
    "start_time": "2022-11-01T07:35:48.872Z"
   },
   {
    "duration": 37,
    "start_time": "2022-11-01T07:35:48.904Z"
   },
   {
    "duration": 17,
    "start_time": "2022-11-01T07:35:48.943Z"
   },
   {
    "duration": 21,
    "start_time": "2022-11-01T07:35:48.961Z"
   },
   {
    "duration": 17,
    "start_time": "2022-11-01T07:35:48.983Z"
   },
   {
    "duration": 30,
    "start_time": "2022-11-01T07:35:49.001Z"
   },
   {
    "duration": 30,
    "start_time": "2022-11-01T07:35:49.033Z"
   },
   {
    "duration": 14,
    "start_time": "2022-11-01T07:35:49.065Z"
   },
   {
    "duration": 22,
    "start_time": "2022-11-01T07:35:49.080Z"
   },
   {
    "duration": 10,
    "start_time": "2022-11-01T07:35:49.103Z"
   },
   {
    "duration": 26,
    "start_time": "2022-11-01T07:35:49.114Z"
   },
   {
    "duration": 21,
    "start_time": "2022-11-01T07:35:49.141Z"
   },
   {
    "duration": 26,
    "start_time": "2022-11-01T07:35:49.163Z"
   },
   {
    "duration": 150,
    "start_time": "2022-11-01T07:35:49.191Z"
   },
   {
    "duration": 117,
    "start_time": "2022-11-01T07:35:49.343Z"
   },
   {
    "duration": 8,
    "start_time": "2022-11-01T07:35:49.461Z"
   },
   {
    "duration": 23,
    "start_time": "2022-11-01T07:35:49.470Z"
   },
   {
    "duration": 10,
    "start_time": "2022-11-01T07:35:49.496Z"
   },
   {
    "duration": 32,
    "start_time": "2022-11-01T07:35:49.507Z"
   },
   {
    "duration": 268,
    "start_time": "2022-11-01T07:35:49.541Z"
   },
   {
    "duration": 183,
    "start_time": "2022-11-01T07:35:49.811Z"
   },
   {
    "duration": 291,
    "start_time": "2022-11-01T07:35:49.996Z"
   },
   {
    "duration": 185,
    "start_time": "2022-11-01T07:35:50.289Z"
   },
   {
    "duration": 312,
    "start_time": "2022-11-01T07:35:50.476Z"
   },
   {
    "duration": 6,
    "start_time": "2022-11-01T07:35:50.789Z"
   },
   {
    "duration": 102,
    "start_time": "2022-11-01T07:35:50.796Z"
   },
   {
    "duration": 4,
    "start_time": "2022-11-01T07:35:50.905Z"
   },
   {
    "duration": 122,
    "start_time": "2022-11-01T07:35:50.911Z"
   },
   {
    "duration": 4,
    "start_time": "2022-11-01T07:35:51.034Z"
   },
   {
    "duration": 93,
    "start_time": "2022-11-01T07:35:51.039Z"
   },
   {
    "duration": 116,
    "start_time": "2022-11-01T07:35:51.133Z"
   },
   {
    "duration": 23,
    "start_time": "2022-11-01T07:35:51.251Z"
   },
   {
    "duration": 6,
    "start_time": "2022-11-01T07:35:51.275Z"
   },
   {
    "duration": 160,
    "start_time": "2022-11-01T07:35:51.282Z"
   },
   {
    "duration": 7,
    "start_time": "2022-11-01T07:35:51.444Z"
   },
   {
    "duration": 6,
    "start_time": "2022-11-01T07:35:51.452Z"
   },
   {
    "duration": 25,
    "start_time": "2022-11-01T07:35:51.460Z"
   },
   {
    "duration": 20,
    "start_time": "2022-11-01T07:35:51.487Z"
   },
   {
    "duration": 7,
    "start_time": "2022-11-01T07:35:51.508Z"
   },
   {
    "duration": 13,
    "start_time": "2022-11-01T07:35:51.516Z"
   },
   {
    "duration": 7,
    "start_time": "2022-11-01T07:35:51.530Z"
   },
   {
    "duration": 6,
    "start_time": "2022-11-01T07:35:51.538Z"
   },
   {
    "duration": 8,
    "start_time": "2022-11-01T07:35:51.545Z"
   },
   {
    "duration": 27,
    "start_time": "2022-11-01T07:35:51.555Z"
   },
   {
    "duration": 24,
    "start_time": "2022-11-01T07:35:51.584Z"
   },
   {
    "duration": 46,
    "start_time": "2022-11-01T13:28:41.748Z"
   },
   {
    "duration": 1152,
    "start_time": "2022-11-01T13:28:48.554Z"
   },
   {
    "duration": 137,
    "start_time": "2022-11-01T13:28:49.708Z"
   },
   {
    "duration": 6,
    "start_time": "2022-11-01T13:28:49.847Z"
   },
   {
    "duration": 17,
    "start_time": "2022-11-01T13:28:49.855Z"
   },
   {
    "duration": 22,
    "start_time": "2022-11-01T13:28:49.873Z"
   },
   {
    "duration": 80,
    "start_time": "2022-11-01T13:28:49.897Z"
   },
   {
    "duration": 10,
    "start_time": "2022-11-01T13:28:49.979Z"
   },
   {
    "duration": 8,
    "start_time": "2022-11-01T13:28:49.990Z"
   },
   {
    "duration": 65,
    "start_time": "2022-11-01T13:28:49.999Z"
   },
   {
    "duration": 10,
    "start_time": "2022-11-01T13:28:50.066Z"
   },
   {
    "duration": 8,
    "start_time": "2022-11-01T13:28:50.077Z"
   },
   {
    "duration": 10,
    "start_time": "2022-11-01T13:28:50.086Z"
   },
   {
    "duration": 10,
    "start_time": "2022-11-01T13:28:50.098Z"
   },
   {
    "duration": 7,
    "start_time": "2022-11-01T13:28:50.110Z"
   },
   {
    "duration": 7,
    "start_time": "2022-11-01T13:28:50.119Z"
   },
   {
    "duration": 7,
    "start_time": "2022-11-01T13:28:50.127Z"
   },
   {
    "duration": 7,
    "start_time": "2022-11-01T13:28:50.135Z"
   },
   {
    "duration": 12,
    "start_time": "2022-11-01T13:28:50.143Z"
   },
   {
    "duration": 23,
    "start_time": "2022-11-01T13:28:50.157Z"
   },
   {
    "duration": 8,
    "start_time": "2022-11-01T13:28:50.181Z"
   },
   {
    "duration": 5,
    "start_time": "2022-11-01T13:28:50.191Z"
   },
   {
    "duration": 11,
    "start_time": "2022-11-01T13:28:50.198Z"
   },
   {
    "duration": 7,
    "start_time": "2022-11-01T13:28:50.210Z"
   },
   {
    "duration": 173,
    "start_time": "2022-11-01T13:28:50.219Z"
   },
   {
    "duration": 123,
    "start_time": "2022-11-01T13:28:50.394Z"
   },
   {
    "duration": 8,
    "start_time": "2022-11-01T13:28:50.518Z"
   },
   {
    "duration": 13,
    "start_time": "2022-11-01T13:28:50.527Z"
   },
   {
    "duration": 8,
    "start_time": "2022-11-01T13:28:50.543Z"
   },
   {
    "duration": 21,
    "start_time": "2022-11-01T13:28:50.552Z"
   },
   {
    "duration": 255,
    "start_time": "2022-11-01T13:28:50.575Z"
   },
   {
    "duration": 173,
    "start_time": "2022-11-01T13:28:50.831Z"
   },
   {
    "duration": 281,
    "start_time": "2022-11-01T13:28:51.005Z"
   },
   {
    "duration": 183,
    "start_time": "2022-11-01T13:28:51.288Z"
   },
   {
    "duration": 304,
    "start_time": "2022-11-01T13:28:51.473Z"
   },
   {
    "duration": 7,
    "start_time": "2022-11-01T13:28:51.779Z"
   },
   {
    "duration": 106,
    "start_time": "2022-11-01T13:28:51.787Z"
   },
   {
    "duration": 4,
    "start_time": "2022-11-01T13:28:51.895Z"
   },
   {
    "duration": 125,
    "start_time": "2022-11-01T13:28:51.901Z"
   },
   {
    "duration": 4,
    "start_time": "2022-11-01T13:28:52.028Z"
   },
   {
    "duration": 92,
    "start_time": "2022-11-01T13:28:52.033Z"
   },
   {
    "duration": 138,
    "start_time": "2022-11-01T13:28:52.127Z"
   },
   {
    "duration": 25,
    "start_time": "2022-11-01T13:28:52.266Z"
   },
   {
    "duration": 20,
    "start_time": "2022-11-01T13:28:52.292Z"
   },
   {
    "duration": 125,
    "start_time": "2022-11-01T13:28:52.314Z"
   },
   {
    "duration": 7,
    "start_time": "2022-11-01T13:28:52.440Z"
   },
   {
    "duration": 31,
    "start_time": "2022-11-01T13:28:52.449Z"
   },
   {
    "duration": 49,
    "start_time": "2022-11-01T13:28:52.481Z"
   },
   {
    "duration": 20,
    "start_time": "2022-11-01T13:28:52.531Z"
   },
   {
    "duration": 17,
    "start_time": "2022-11-01T13:28:52.553Z"
   },
   {
    "duration": 24,
    "start_time": "2022-11-01T13:28:52.572Z"
   },
   {
    "duration": 21,
    "start_time": "2022-11-01T13:28:52.597Z"
   },
   {
    "duration": 11,
    "start_time": "2022-11-01T13:28:52.620Z"
   },
   {
    "duration": 21,
    "start_time": "2022-11-01T13:28:52.632Z"
   },
   {
    "duration": 51,
    "start_time": "2022-11-01T13:28:52.654Z"
   },
   {
    "duration": 42,
    "start_time": "2022-11-01T13:28:52.708Z"
   },
   {
    "duration": 256,
    "start_time": "2022-11-01T13:31:32.900Z"
   },
   {
    "duration": 116,
    "start_time": "2022-11-01T13:33:31.190Z"
   },
   {
    "duration": 206,
    "start_time": "2022-11-01T13:34:30.275Z"
   },
   {
    "duration": 294,
    "start_time": "2022-11-01T13:35:02.273Z"
   },
   {
    "duration": 13,
    "start_time": "2022-11-01T13:39:02.763Z"
   },
   {
    "duration": 10,
    "start_time": "2022-11-01T13:43:52.870Z"
   }
  ],
  "kernelspec": {
   "display_name": "Python 3",
   "language": "python",
   "name": "python3"
  },
  "language_info": {
   "codemirror_mode": {
    "name": "ipython",
    "version": 3
   },
   "file_extension": ".py",
   "mimetype": "text/x-python",
   "name": "python",
   "nbconvert_exporter": "python",
   "pygments_lexer": "ipython3",
   "version": "3.7.0"
  },
  "toc": {
   "base_numbering": 1,
   "nav_menu": {},
   "number_sections": true,
   "sideBar": true,
   "skip_h1_title": true,
   "title_cell": "Table of Contents",
   "title_sidebar": "Contents",
   "toc_cell": false,
   "toc_position": {},
   "toc_section_display": true,
   "toc_window_display": true
  }
 },
 "nbformat": 4,
 "nbformat_minor": 2
}
