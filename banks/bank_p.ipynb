{
 "cells": [
  {
   "cell_type": "markdown",
   "id": "c81daeeb",
   "metadata": {
    "deletable": false,
    "id": "c81daeeb"
   },
   "source": [
    "# Исследование надежности заемщиков\n"
   ]
  },
  {
   "cell_type": "markdown",
   "id": "744d7639",
   "metadata": {
    "deletable": false,
    "id": "744d7639"
   },
   "source": [
    "## Откройте таблицу и изучите общую информацию о данных"
   ]
  },
  {
   "cell_type": "markdown",
   "id": "e7a14c31",
   "metadata": {
    "deletable": false,
    "id": "e7a14c31"
   },
   "source": [
    "**Задание 1. Импортируйте библиотеку pandas. Считайте данные из csv-файла в датафрейм и сохраните в переменную `data`. Путь к файлу:**\n",
    "\n",
    "`/datasets/data.csv`"
   ]
  },
  {
   "cell_type": "code",
   "execution_count": 1,
   "id": "7bcf75c9",
   "metadata": {
    "deletable": false,
    "id": "7bcf75c9"
   },
   "outputs": [],
   "source": [
    "import pandas as pd\n",
    "\n",
    "try:\n",
    "    data = pd.read_csv('/datasets/data.csv')\n",
    "except:\n",
    "    data = pd.read_csv('https://code.s3.yandex.net/datasets/data.csv')"
   ]
  },
  {
   "cell_type": "markdown",
   "id": "b8038fe3",
   "metadata": {
    "deletable": false,
    "id": "b8038fe3"
   },
   "source": [
    "**Задание 2. Выведите первые 20 строчек датафрейма `data` на экран.**"
   ]
  },
  {
   "cell_type": "code",
   "execution_count": 2,
   "id": "2a7cab99",
   "metadata": {
    "deletable": false,
    "id": "2a7cab99",
    "outputId": "1a8f3ef2-d323-4ec2-ddf7-89670b5944c4"
   },
   "outputs": [
    {
     "data": {
      "text/html": [
       "<div>\n",
       "<style scoped>\n",
       "    .dataframe tbody tr th:only-of-type {\n",
       "        vertical-align: middle;\n",
       "    }\n",
       "\n",
       "    .dataframe tbody tr th {\n",
       "        vertical-align: top;\n",
       "    }\n",
       "\n",
       "    .dataframe thead th {\n",
       "        text-align: right;\n",
       "    }\n",
       "</style>\n",
       "<table border=\"1\" class=\"dataframe\">\n",
       "  <thead>\n",
       "    <tr style=\"text-align: right;\">\n",
       "      <th></th>\n",
       "      <th>children</th>\n",
       "      <th>days_employed</th>\n",
       "      <th>dob_years</th>\n",
       "      <th>education</th>\n",
       "      <th>education_id</th>\n",
       "      <th>family_status</th>\n",
       "      <th>family_status_id</th>\n",
       "      <th>gender</th>\n",
       "      <th>income_type</th>\n",
       "      <th>debt</th>\n",
       "      <th>total_income</th>\n",
       "      <th>purpose</th>\n",
       "    </tr>\n",
       "  </thead>\n",
       "  <tbody>\n",
       "    <tr>\n",
       "      <th>0</th>\n",
       "      <td>1</td>\n",
       "      <td>-8437.673028</td>\n",
       "      <td>42</td>\n",
       "      <td>высшее</td>\n",
       "      <td>0</td>\n",
       "      <td>женат / замужем</td>\n",
       "      <td>0</td>\n",
       "      <td>F</td>\n",
       "      <td>сотрудник</td>\n",
       "      <td>0</td>\n",
       "      <td>253875.639453</td>\n",
       "      <td>покупка жилья</td>\n",
       "    </tr>\n",
       "    <tr>\n",
       "      <th>1</th>\n",
       "      <td>1</td>\n",
       "      <td>-4024.803754</td>\n",
       "      <td>36</td>\n",
       "      <td>среднее</td>\n",
       "      <td>1</td>\n",
       "      <td>женат / замужем</td>\n",
       "      <td>0</td>\n",
       "      <td>F</td>\n",
       "      <td>сотрудник</td>\n",
       "      <td>0</td>\n",
       "      <td>112080.014102</td>\n",
       "      <td>приобретение автомобиля</td>\n",
       "    </tr>\n",
       "    <tr>\n",
       "      <th>2</th>\n",
       "      <td>0</td>\n",
       "      <td>-5623.422610</td>\n",
       "      <td>33</td>\n",
       "      <td>Среднее</td>\n",
       "      <td>1</td>\n",
       "      <td>женат / замужем</td>\n",
       "      <td>0</td>\n",
       "      <td>M</td>\n",
       "      <td>сотрудник</td>\n",
       "      <td>0</td>\n",
       "      <td>145885.952297</td>\n",
       "      <td>покупка жилья</td>\n",
       "    </tr>\n",
       "    <tr>\n",
       "      <th>3</th>\n",
       "      <td>3</td>\n",
       "      <td>-4124.747207</td>\n",
       "      <td>32</td>\n",
       "      <td>среднее</td>\n",
       "      <td>1</td>\n",
       "      <td>женат / замужем</td>\n",
       "      <td>0</td>\n",
       "      <td>M</td>\n",
       "      <td>сотрудник</td>\n",
       "      <td>0</td>\n",
       "      <td>267628.550329</td>\n",
       "      <td>дополнительное образование</td>\n",
       "    </tr>\n",
       "    <tr>\n",
       "      <th>4</th>\n",
       "      <td>0</td>\n",
       "      <td>340266.072047</td>\n",
       "      <td>53</td>\n",
       "      <td>среднее</td>\n",
       "      <td>1</td>\n",
       "      <td>гражданский брак</td>\n",
       "      <td>1</td>\n",
       "      <td>F</td>\n",
       "      <td>пенсионер</td>\n",
       "      <td>0</td>\n",
       "      <td>158616.077870</td>\n",
       "      <td>сыграть свадьбу</td>\n",
       "    </tr>\n",
       "    <tr>\n",
       "      <th>5</th>\n",
       "      <td>0</td>\n",
       "      <td>-926.185831</td>\n",
       "      <td>27</td>\n",
       "      <td>высшее</td>\n",
       "      <td>0</td>\n",
       "      <td>гражданский брак</td>\n",
       "      <td>1</td>\n",
       "      <td>M</td>\n",
       "      <td>компаньон</td>\n",
       "      <td>0</td>\n",
       "      <td>255763.565419</td>\n",
       "      <td>покупка жилья</td>\n",
       "    </tr>\n",
       "    <tr>\n",
       "      <th>6</th>\n",
       "      <td>0</td>\n",
       "      <td>-2879.202052</td>\n",
       "      <td>43</td>\n",
       "      <td>высшее</td>\n",
       "      <td>0</td>\n",
       "      <td>женат / замужем</td>\n",
       "      <td>0</td>\n",
       "      <td>F</td>\n",
       "      <td>компаньон</td>\n",
       "      <td>0</td>\n",
       "      <td>240525.971920</td>\n",
       "      <td>операции с жильем</td>\n",
       "    </tr>\n",
       "    <tr>\n",
       "      <th>7</th>\n",
       "      <td>0</td>\n",
       "      <td>-152.779569</td>\n",
       "      <td>50</td>\n",
       "      <td>СРЕДНЕЕ</td>\n",
       "      <td>1</td>\n",
       "      <td>женат / замужем</td>\n",
       "      <td>0</td>\n",
       "      <td>M</td>\n",
       "      <td>сотрудник</td>\n",
       "      <td>0</td>\n",
       "      <td>135823.934197</td>\n",
       "      <td>образование</td>\n",
       "    </tr>\n",
       "    <tr>\n",
       "      <th>8</th>\n",
       "      <td>2</td>\n",
       "      <td>-6929.865299</td>\n",
       "      <td>35</td>\n",
       "      <td>ВЫСШЕЕ</td>\n",
       "      <td>0</td>\n",
       "      <td>гражданский брак</td>\n",
       "      <td>1</td>\n",
       "      <td>F</td>\n",
       "      <td>сотрудник</td>\n",
       "      <td>0</td>\n",
       "      <td>95856.832424</td>\n",
       "      <td>на проведение свадьбы</td>\n",
       "    </tr>\n",
       "    <tr>\n",
       "      <th>9</th>\n",
       "      <td>0</td>\n",
       "      <td>-2188.756445</td>\n",
       "      <td>41</td>\n",
       "      <td>среднее</td>\n",
       "      <td>1</td>\n",
       "      <td>женат / замужем</td>\n",
       "      <td>0</td>\n",
       "      <td>M</td>\n",
       "      <td>сотрудник</td>\n",
       "      <td>0</td>\n",
       "      <td>144425.938277</td>\n",
       "      <td>покупка жилья для семьи</td>\n",
       "    </tr>\n",
       "    <tr>\n",
       "      <th>10</th>\n",
       "      <td>2</td>\n",
       "      <td>-4171.483647</td>\n",
       "      <td>36</td>\n",
       "      <td>высшее</td>\n",
       "      <td>0</td>\n",
       "      <td>женат / замужем</td>\n",
       "      <td>0</td>\n",
       "      <td>M</td>\n",
       "      <td>компаньон</td>\n",
       "      <td>0</td>\n",
       "      <td>113943.491460</td>\n",
       "      <td>покупка недвижимости</td>\n",
       "    </tr>\n",
       "    <tr>\n",
       "      <th>11</th>\n",
       "      <td>0</td>\n",
       "      <td>-792.701887</td>\n",
       "      <td>40</td>\n",
       "      <td>среднее</td>\n",
       "      <td>1</td>\n",
       "      <td>женат / замужем</td>\n",
       "      <td>0</td>\n",
       "      <td>F</td>\n",
       "      <td>сотрудник</td>\n",
       "      <td>0</td>\n",
       "      <td>77069.234271</td>\n",
       "      <td>покупка коммерческой недвижимости</td>\n",
       "    </tr>\n",
       "    <tr>\n",
       "      <th>12</th>\n",
       "      <td>0</td>\n",
       "      <td>NaN</td>\n",
       "      <td>65</td>\n",
       "      <td>среднее</td>\n",
       "      <td>1</td>\n",
       "      <td>гражданский брак</td>\n",
       "      <td>1</td>\n",
       "      <td>M</td>\n",
       "      <td>пенсионер</td>\n",
       "      <td>0</td>\n",
       "      <td>NaN</td>\n",
       "      <td>сыграть свадьбу</td>\n",
       "    </tr>\n",
       "    <tr>\n",
       "      <th>13</th>\n",
       "      <td>0</td>\n",
       "      <td>-1846.641941</td>\n",
       "      <td>54</td>\n",
       "      <td>неоконченное высшее</td>\n",
       "      <td>2</td>\n",
       "      <td>женат / замужем</td>\n",
       "      <td>0</td>\n",
       "      <td>F</td>\n",
       "      <td>сотрудник</td>\n",
       "      <td>0</td>\n",
       "      <td>130458.228857</td>\n",
       "      <td>приобретение автомобиля</td>\n",
       "    </tr>\n",
       "    <tr>\n",
       "      <th>14</th>\n",
       "      <td>0</td>\n",
       "      <td>-1844.956182</td>\n",
       "      <td>56</td>\n",
       "      <td>высшее</td>\n",
       "      <td>0</td>\n",
       "      <td>гражданский брак</td>\n",
       "      <td>1</td>\n",
       "      <td>F</td>\n",
       "      <td>компаньон</td>\n",
       "      <td>1</td>\n",
       "      <td>165127.911772</td>\n",
       "      <td>покупка жилой недвижимости</td>\n",
       "    </tr>\n",
       "    <tr>\n",
       "      <th>15</th>\n",
       "      <td>1</td>\n",
       "      <td>-972.364419</td>\n",
       "      <td>26</td>\n",
       "      <td>среднее</td>\n",
       "      <td>1</td>\n",
       "      <td>женат / замужем</td>\n",
       "      <td>0</td>\n",
       "      <td>F</td>\n",
       "      <td>сотрудник</td>\n",
       "      <td>0</td>\n",
       "      <td>116820.904450</td>\n",
       "      <td>строительство собственной недвижимости</td>\n",
       "    </tr>\n",
       "    <tr>\n",
       "      <th>16</th>\n",
       "      <td>0</td>\n",
       "      <td>-1719.934226</td>\n",
       "      <td>35</td>\n",
       "      <td>среднее</td>\n",
       "      <td>1</td>\n",
       "      <td>женат / замужем</td>\n",
       "      <td>0</td>\n",
       "      <td>F</td>\n",
       "      <td>сотрудник</td>\n",
       "      <td>0</td>\n",
       "      <td>289202.704229</td>\n",
       "      <td>недвижимость</td>\n",
       "    </tr>\n",
       "    <tr>\n",
       "      <th>17</th>\n",
       "      <td>0</td>\n",
       "      <td>-2369.999720</td>\n",
       "      <td>33</td>\n",
       "      <td>высшее</td>\n",
       "      <td>0</td>\n",
       "      <td>гражданский брак</td>\n",
       "      <td>1</td>\n",
       "      <td>M</td>\n",
       "      <td>сотрудник</td>\n",
       "      <td>0</td>\n",
       "      <td>90410.586745</td>\n",
       "      <td>строительство недвижимости</td>\n",
       "    </tr>\n",
       "    <tr>\n",
       "      <th>18</th>\n",
       "      <td>0</td>\n",
       "      <td>400281.136913</td>\n",
       "      <td>53</td>\n",
       "      <td>среднее</td>\n",
       "      <td>1</td>\n",
       "      <td>вдовец / вдова</td>\n",
       "      <td>2</td>\n",
       "      <td>F</td>\n",
       "      <td>пенсионер</td>\n",
       "      <td>0</td>\n",
       "      <td>56823.777243</td>\n",
       "      <td>на покупку подержанного автомобиля</td>\n",
       "    </tr>\n",
       "    <tr>\n",
       "      <th>19</th>\n",
       "      <td>0</td>\n",
       "      <td>-10038.818549</td>\n",
       "      <td>48</td>\n",
       "      <td>СРЕДНЕЕ</td>\n",
       "      <td>1</td>\n",
       "      <td>в разводе</td>\n",
       "      <td>3</td>\n",
       "      <td>F</td>\n",
       "      <td>сотрудник</td>\n",
       "      <td>0</td>\n",
       "      <td>242831.107982</td>\n",
       "      <td>на покупку своего автомобиля</td>\n",
       "    </tr>\n",
       "  </tbody>\n",
       "</table>\n",
       "</div>"
      ],
      "text/plain": [
       "    children  days_employed  dob_years            education  education_id  \\\n",
       "0          1   -8437.673028         42               высшее             0   \n",
       "1          1   -4024.803754         36              среднее             1   \n",
       "2          0   -5623.422610         33              Среднее             1   \n",
       "3          3   -4124.747207         32              среднее             1   \n",
       "4          0  340266.072047         53              среднее             1   \n",
       "5          0    -926.185831         27               высшее             0   \n",
       "6          0   -2879.202052         43               высшее             0   \n",
       "7          0    -152.779569         50              СРЕДНЕЕ             1   \n",
       "8          2   -6929.865299         35               ВЫСШЕЕ             0   \n",
       "9          0   -2188.756445         41              среднее             1   \n",
       "10         2   -4171.483647         36               высшее             0   \n",
       "11         0    -792.701887         40              среднее             1   \n",
       "12         0            NaN         65              среднее             1   \n",
       "13         0   -1846.641941         54  неоконченное высшее             2   \n",
       "14         0   -1844.956182         56               высшее             0   \n",
       "15         1    -972.364419         26              среднее             1   \n",
       "16         0   -1719.934226         35              среднее             1   \n",
       "17         0   -2369.999720         33               высшее             0   \n",
       "18         0  400281.136913         53              среднее             1   \n",
       "19         0  -10038.818549         48              СРЕДНЕЕ             1   \n",
       "\n",
       "       family_status  family_status_id gender income_type  debt  \\\n",
       "0    женат / замужем                 0      F   сотрудник     0   \n",
       "1    женат / замужем                 0      F   сотрудник     0   \n",
       "2    женат / замужем                 0      M   сотрудник     0   \n",
       "3    женат / замужем                 0      M   сотрудник     0   \n",
       "4   гражданский брак                 1      F   пенсионер     0   \n",
       "5   гражданский брак                 1      M   компаньон     0   \n",
       "6    женат / замужем                 0      F   компаньон     0   \n",
       "7    женат / замужем                 0      M   сотрудник     0   \n",
       "8   гражданский брак                 1      F   сотрудник     0   \n",
       "9    женат / замужем                 0      M   сотрудник     0   \n",
       "10   женат / замужем                 0      M   компаньон     0   \n",
       "11   женат / замужем                 0      F   сотрудник     0   \n",
       "12  гражданский брак                 1      M   пенсионер     0   \n",
       "13   женат / замужем                 0      F   сотрудник     0   \n",
       "14  гражданский брак                 1      F   компаньон     1   \n",
       "15   женат / замужем                 0      F   сотрудник     0   \n",
       "16   женат / замужем                 0      F   сотрудник     0   \n",
       "17  гражданский брак                 1      M   сотрудник     0   \n",
       "18    вдовец / вдова                 2      F   пенсионер     0   \n",
       "19         в разводе                 3      F   сотрудник     0   \n",
       "\n",
       "     total_income                                 purpose  \n",
       "0   253875.639453                           покупка жилья  \n",
       "1   112080.014102                 приобретение автомобиля  \n",
       "2   145885.952297                           покупка жилья  \n",
       "3   267628.550329              дополнительное образование  \n",
       "4   158616.077870                         сыграть свадьбу  \n",
       "5   255763.565419                           покупка жилья  \n",
       "6   240525.971920                       операции с жильем  \n",
       "7   135823.934197                             образование  \n",
       "8    95856.832424                   на проведение свадьбы  \n",
       "9   144425.938277                 покупка жилья для семьи  \n",
       "10  113943.491460                    покупка недвижимости  \n",
       "11   77069.234271       покупка коммерческой недвижимости  \n",
       "12            NaN                         сыграть свадьбу  \n",
       "13  130458.228857                 приобретение автомобиля  \n",
       "14  165127.911772              покупка жилой недвижимости  \n",
       "15  116820.904450  строительство собственной недвижимости  \n",
       "16  289202.704229                            недвижимость  \n",
       "17   90410.586745              строительство недвижимости  \n",
       "18   56823.777243      на покупку подержанного автомобиля  \n",
       "19  242831.107982            на покупку своего автомобиля  "
      ]
     },
     "execution_count": 2,
     "metadata": {},
     "output_type": "execute_result"
    }
   ],
   "source": [
    "data.head(20)"
   ]
  },
  {
   "cell_type": "markdown",
   "id": "1c12e233",
   "metadata": {
    "deletable": false,
    "id": "1c12e233"
   },
   "source": [
    "**Задание 3. Выведите основную информацию о датафрейме с помощью метода `info()`.**"
   ]
  },
  {
   "cell_type": "code",
   "execution_count": 3,
   "id": "2b757bca",
   "metadata": {
    "deletable": false,
    "id": "2b757bca",
    "outputId": "15376089-8dad-46c9-b520-c05248d43158"
   },
   "outputs": [
    {
     "name": "stdout",
     "output_type": "stream",
     "text": [
      "<class 'pandas.core.frame.DataFrame'>\n",
      "RangeIndex: 21525 entries, 0 to 21524\n",
      "Data columns (total 12 columns):\n",
      " #   Column            Non-Null Count  Dtype  \n",
      "---  ------            --------------  -----  \n",
      " 0   children          21525 non-null  int64  \n",
      " 1   days_employed     19351 non-null  float64\n",
      " 2   dob_years         21525 non-null  int64  \n",
      " 3   education         21525 non-null  object \n",
      " 4   education_id      21525 non-null  int64  \n",
      " 5   family_status     21525 non-null  object \n",
      " 6   family_status_id  21525 non-null  int64  \n",
      " 7   gender            21525 non-null  object \n",
      " 8   income_type       21525 non-null  object \n",
      " 9   debt              21525 non-null  int64  \n",
      " 10  total_income      19351 non-null  float64\n",
      " 11  purpose           21525 non-null  object \n",
      "dtypes: float64(2), int64(5), object(5)\n",
      "memory usage: 2.0+ MB\n"
     ]
    }
   ],
   "source": [
    "data.info()"
   ]
  },
  {
   "cell_type": "markdown",
   "id": "333ec665",
   "metadata": {
    "deletable": false,
    "id": "333ec665"
   },
   "source": [
    "## Предобработка данных"
   ]
  },
  {
   "cell_type": "markdown",
   "id": "02d92d53",
   "metadata": {
    "deletable": false,
    "id": "02d92d53"
   },
   "source": [
    "### Удаление пропусков"
   ]
  },
  {
   "cell_type": "markdown",
   "id": "cd84967c",
   "metadata": {
    "deletable": false,
    "id": "cd84967c"
   },
   "source": [
    "**Задание 4. Выведите количество пропущенных значений для каждого столбца. Используйте комбинацию двух методов.**"
   ]
  },
  {
   "cell_type": "code",
   "execution_count": 4,
   "id": "7f9b2309",
   "metadata": {
    "deletable": false,
    "id": "7f9b2309",
    "outputId": "81f4d817-781c-465c-ed15-91ce4446810d"
   },
   "outputs": [
    {
     "data": {
      "text/plain": [
       "children               0\n",
       "days_employed       2174\n",
       "dob_years              0\n",
       "education              0\n",
       "education_id           0\n",
       "family_status          0\n",
       "family_status_id       0\n",
       "gender                 0\n",
       "income_type            0\n",
       "debt                   0\n",
       "total_income        2174\n",
       "purpose                0\n",
       "dtype: int64"
      ]
     },
     "execution_count": 4,
     "metadata": {},
     "output_type": "execute_result"
    }
   ],
   "source": [
    "data.isna().sum()"
   ]
  },
  {
   "cell_type": "markdown",
   "id": "db86e27b",
   "metadata": {
    "deletable": false,
    "id": "db86e27b"
   },
   "source": [
    "**Задание 5. В двух столбцах есть пропущенные значения. Один из них — `days_employed`. Пропуски в этом столбце вы обработаете на следующем этапе. Другой столбец с пропущенными значениями — `total_income` — хранит данные о доходах. На сумму дохода сильнее всего влияет тип занятости, поэтому заполнить пропуски в этом столбце нужно медианным значением по каждому типу из столбца `income_type`. Например, у человека с типом занятости `сотрудник` пропуск в столбце `total_income` должен быть заполнен медианным доходом среди всех записей с тем же типом.**"
   ]
  },
  {
   "cell_type": "code",
   "execution_count": 5,
   "id": "42006a93",
   "metadata": {
    "deletable": false,
    "id": "42006a93"
   },
   "outputs": [],
   "source": [
    "for t in data['income_type'].unique():\n",
    "    data.loc[(data['income_type'] == t) & (data['total_income'].isna()), 'total_income'] = \\\n",
    "    data.loc[(data['income_type'] == t), 'total_income'].median()"
   ]
  },
  {
   "cell_type": "markdown",
   "id": "89da5ece",
   "metadata": {
    "deletable": false,
    "id": "89da5ece"
   },
   "source": [
    "### Обработка аномальных значений"
   ]
  },
  {
   "cell_type": "markdown",
   "id": "57964554",
   "metadata": {
    "deletable": false,
    "id": "57964554"
   },
   "source": [
    "**Задание 6. В данных могут встречаться артефакты (аномалии) — значения, которые не отражают действительность и появились по какой-то ошибке. таким артефактом будет отрицательное количество дней трудового стажа в столбце `days_employed`. Для реальных данных это нормально. Обработайте значения в этом столбце: замените все отрицательные значения положительными с помощью метода `abs()`.**"
   ]
  },
  {
   "cell_type": "code",
   "execution_count": 6,
   "id": "f6f055bf",
   "metadata": {
    "deletable": false,
    "id": "f6f055bf"
   },
   "outputs": [],
   "source": [
    "data['days_employed'] = data['days_employed'].abs()"
   ]
  },
  {
   "cell_type": "markdown",
   "id": "6107dd2f",
   "metadata": {
    "deletable": false,
    "id": "6107dd2f"
   },
   "source": [
    "**Задание 7. Для каждого типа занятости выведите медианное значение трудового стажа `days_employed` в днях.**"
   ]
  },
  {
   "cell_type": "code",
   "execution_count": 7,
   "id": "85a5faf6",
   "metadata": {
    "deletable": false,
    "id": "85a5faf6",
    "outputId": "801ef80e-522b-4668-f34e-565af7432bcf"
   },
   "outputs": [
    {
     "data": {
      "text/plain": [
       "income_type\n",
       "безработный        366413.652744\n",
       "в декрете            3296.759962\n",
       "госслужащий          2689.368353\n",
       "компаньон            1547.382223\n",
       "пенсионер          365213.306266\n",
       "предприниматель       520.848083\n",
       "сотрудник            1574.202821\n",
       "студент               578.751554\n",
       "Name: days_employed, dtype: float64"
      ]
     },
     "execution_count": 7,
     "metadata": {},
     "output_type": "execute_result"
    }
   ],
   "source": [
    "data.groupby('income_type')['days_employed'].agg('median')"
   ]
  },
  {
   "cell_type": "markdown",
   "id": "38d1a030",
   "metadata": {
    "deletable": false,
    "id": "38d1a030"
   },
   "source": [
    "У двух типов (безработные и пенсионеры) получатся аномально большие значения. Исправить такие значения сложно, поэтому оставьте их как есть. Тем более этот столбец не понадобится вам для исследования."
   ]
  },
  {
   "cell_type": "markdown",
   "id": "d8a9f147",
   "metadata": {
    "deletable": false,
    "id": "d8a9f147"
   },
   "source": [
    "**Задание 8. Выведите перечень уникальных значений столбца `children`.**"
   ]
  },
  {
   "cell_type": "code",
   "execution_count": 8,
   "id": "ef5056eb",
   "metadata": {
    "deletable": false,
    "id": "ef5056eb",
    "outputId": "6975b15c-7f95-4697-d16d-a0c79b657b03"
   },
   "outputs": [
    {
     "data": {
      "text/plain": [
       "array([ 1,  0,  3,  2, -1,  4, 20,  5])"
      ]
     },
     "execution_count": 8,
     "metadata": {},
     "output_type": "execute_result"
    }
   ],
   "source": [
    "data['children'].unique()"
   ]
  },
  {
   "cell_type": "markdown",
   "id": "40b9ebf2",
   "metadata": {
    "deletable": false,
    "id": "40b9ebf2"
   },
   "source": [
    "**Задание 9. В столбце `children` есть два аномальных значения. Удалите строки, в которых встречаются такие аномальные значения из датафрейма `data`.**"
   ]
  },
  {
   "cell_type": "code",
   "execution_count": 9,
   "id": "3ff9801d",
   "metadata": {
    "deletable": false,
    "id": "3ff9801d"
   },
   "outputs": [],
   "source": [
    "data = data[(data['children'] != -1) & (data['children'] != 20)]"
   ]
  },
  {
   "cell_type": "markdown",
   "id": "bbc4d0ce",
   "metadata": {
    "deletable": false,
    "id": "bbc4d0ce"
   },
   "source": [
    "**Задание 10. Ещё раз выведите перечень уникальных значений столбца `children`, чтобы убедиться, что артефакты удалены.**"
   ]
  },
  {
   "cell_type": "code",
   "execution_count": 10,
   "id": "ad4fa8b7",
   "metadata": {
    "deletable": false,
    "id": "ad4fa8b7",
    "outputId": "b2097101-d49d-44d9-901b-32a65c9463d1"
   },
   "outputs": [
    {
     "data": {
      "text/plain": [
       "array([1, 0, 3, 2, 4, 5])"
      ]
     },
     "execution_count": 10,
     "metadata": {},
     "output_type": "execute_result"
    }
   ],
   "source": [
    "data['children'].unique()"
   ]
  },
  {
   "cell_type": "markdown",
   "id": "75440b63",
   "metadata": {
    "deletable": false,
    "id": "75440b63"
   },
   "source": [
    "### Удаление пропусков (продолжение)"
   ]
  },
  {
   "cell_type": "markdown",
   "id": "f4ea573f",
   "metadata": {
    "deletable": false,
    "id": "f4ea573f"
   },
   "source": [
    "**Задание 11. Заполните пропуски в столбце `days_employed` медианными значениями по каждого типа занятости `income_type`.**"
   ]
  },
  {
   "cell_type": "code",
   "execution_count": 11,
   "id": "af6b1a7e",
   "metadata": {
    "deletable": false,
    "id": "af6b1a7e"
   },
   "outputs": [],
   "source": [
    "for t in data['income_type'].unique():\n",
    "    data.loc[(data['income_type'] == t) & (data['days_employed'].isna()), 'days_employed'] = \\\n",
    "    data.loc[(data['income_type'] == t), 'days_employed'].median()"
   ]
  },
  {
   "cell_type": "markdown",
   "id": "2753f40d",
   "metadata": {
    "deletable": false,
    "id": "2753f40d"
   },
   "source": [
    "**Задание 12. Убедитесь, что все пропуски заполнены. Проверьте себя и ещё раз выведите количество пропущенных значений для каждого столбца с помощью двух методов.**"
   ]
  },
  {
   "cell_type": "code",
   "execution_count": 12,
   "id": "55f78bc2",
   "metadata": {
    "deletable": false,
    "id": "55f78bc2",
    "outputId": "8da1e4e1-358e-4e87-98c9-f261bce0a7b2"
   },
   "outputs": [
    {
     "data": {
      "text/plain": [
       "children            0\n",
       "days_employed       0\n",
       "dob_years           0\n",
       "education           0\n",
       "education_id        0\n",
       "family_status       0\n",
       "family_status_id    0\n",
       "gender              0\n",
       "income_type         0\n",
       "debt                0\n",
       "total_income        0\n",
       "purpose             0\n",
       "dtype: int64"
      ]
     },
     "execution_count": 12,
     "metadata": {},
     "output_type": "execute_result"
    }
   ],
   "source": [
    "data.isna().sum()"
   ]
  },
  {
   "cell_type": "markdown",
   "id": "ddc81e43",
   "metadata": {
    "deletable": false,
    "id": "ddc81e43"
   },
   "source": [
    "### Изменение типов данных"
   ]
  },
  {
   "cell_type": "markdown",
   "id": "42d19d24",
   "metadata": {
    "deletable": false,
    "id": "42d19d24"
   },
   "source": [
    "**Задание 13. Замените вещественный тип данных в столбце `total_income` на целочисленный с помощью метода `astype()`.**"
   ]
  },
  {
   "cell_type": "code",
   "execution_count": 13,
   "id": "920b65ad",
   "metadata": {
    "deletable": false,
    "id": "920b65ad"
   },
   "outputs": [],
   "source": [
    "data['total_income'] = data['total_income'].astype(int)"
   ]
  },
  {
   "cell_type": "markdown",
   "id": "80c420ba",
   "metadata": {
    "deletable": false,
    "id": "80c420ba"
   },
   "source": [
    "### Обработка дубликатов"
   ]
  },
  {
   "cell_type": "markdown",
   "id": "dc587695",
   "metadata": {
    "deletable": false,
    "id": "dc587695"
   },
   "source": [
    "**Задание 14. Выведите на экран количество строк-дубликатов в данных. Если такие строки присутствуют, удалите их.**"
   ]
  },
  {
   "cell_type": "code",
   "execution_count": 14,
   "id": "3ee445e4",
   "metadata": {
    "deletable": false,
    "id": "3ee445e4",
    "outputId": "9684deba-1934-42d1-99e1-cda61740f822"
   },
   "outputs": [
    {
     "data": {
      "text/plain": [
       "54"
      ]
     },
     "execution_count": 14,
     "metadata": {},
     "output_type": "execute_result"
    }
   ],
   "source": [
    "data.duplicated().sum()"
   ]
  },
  {
   "cell_type": "code",
   "execution_count": 15,
   "id": "8575fe05",
   "metadata": {
    "deletable": false,
    "id": "8575fe05"
   },
   "outputs": [],
   "source": [
    "data = data.drop_duplicates()"
   ]
  },
  {
   "cell_type": "markdown",
   "id": "9771a76c",
   "metadata": {
    "deletable": false,
    "id": "9771a76c"
   },
   "source": [
    "**Задание 15. Обработайте неявные дубликаты в столбце `education`. В этом столбце есть одни и те же значения, но записанные по-разному: с использованием заглавных и строчных букв. Приведите их к нижнему регистру. Проверьте остальные столбцы.**"
   ]
  },
  {
   "cell_type": "code",
   "execution_count": 16,
   "id": "a9f8e2bf",
   "metadata": {
    "deletable": false,
    "id": "a9f8e2bf"
   },
   "outputs": [
    {
     "data": {
      "text/plain": [
       "0"
      ]
     },
     "execution_count": 16,
     "metadata": {},
     "output_type": "execute_result"
    }
   ],
   "source": [
    "data['education'] = data['education'].str.lower()\n",
    "\n",
    "data = data.drop_duplicates()\n",
    "data.duplicated().sum()"
   ]
  },
  {
   "cell_type": "markdown",
   "id": "9904cf55",
   "metadata": {
    "deletable": false,
    "id": "9904cf55"
   },
   "source": [
    "### Категоризация данных"
   ]
  },
  {
   "cell_type": "markdown",
   "id": "72fcc8a2",
   "metadata": {
    "deletable": false,
    "id": "72fcc8a2"
   },
   "source": [
    "**Задание 16. На основании диапазонов, указанных ниже, создайте в датафрейме `data` столбец `total_income_category` с категориями:**\n",
    "\n",
    "- 0–30000 — `'E'`;\n",
    "- 30001–50000 — `'D'`;\n",
    "- 50001–200000 — `'C'`;\n",
    "- 200001–1000000 — `'B'`;\n",
    "- 1000001 и выше — `'A'`.\n",
    "\n",
    "\n",
    "**Например, кредитополучателю с доходом 25000 нужно назначить категорию `'E'`, а клиенту, получающему 235000, — `'B'`. Используйте собственную функцию с именем `categorize_income()` и метод `apply()`.**"
   ]
  },
  {
   "cell_type": "code",
   "execution_count": 17,
   "id": "e1771346",
   "metadata": {
    "deletable": false,
    "id": "e1771346"
   },
   "outputs": [],
   "source": [
    "def categorize_income(income):\n",
    "    try:\n",
    "        if 0 <= income <= 30000:\n",
    "            return 'E'\n",
    "        elif 30001 <= income <= 50000:\n",
    "            return 'D'\n",
    "        elif 50001 <= income <= 200000:\n",
    "            return 'C'\n",
    "        elif 200001 <= income <= 1000000:\n",
    "            return 'B'\n",
    "        elif income >= 1000001:\n",
    "            return 'A'\n",
    "    except:\n",
    "        pass"
   ]
  },
  {
   "cell_type": "code",
   "execution_count": 18,
   "id": "d5f3586d",
   "metadata": {
    "deletable": false,
    "id": "d5f3586d"
   },
   "outputs": [],
   "source": [
    "data['total_income_category'] = data['total_income'].apply(categorize_income)"
   ]
  },
  {
   "cell_type": "markdown",
   "id": "dde49b5c",
   "metadata": {
    "deletable": false,
    "id": "dde49b5c"
   },
   "source": [
    "**Задание 17. Выведите на экран перечень уникальных целей взятия кредита из столбца `purpose`.**"
   ]
  },
  {
   "cell_type": "code",
   "execution_count": 19,
   "id": "f67ce9b3",
   "metadata": {
    "deletable": false,
    "id": "f67ce9b3",
    "outputId": "673c12d9-7d7e-4ae0-9812-c622c89dd244"
   },
   "outputs": [
    {
     "data": {
      "text/plain": [
       "array(['покупка жилья', 'приобретение автомобиля',\n",
       "       'дополнительное образование', 'сыграть свадьбу',\n",
       "       'операции с жильем', 'образование', 'на проведение свадьбы',\n",
       "       'покупка жилья для семьи', 'покупка недвижимости',\n",
       "       'покупка коммерческой недвижимости', 'покупка жилой недвижимости',\n",
       "       'строительство собственной недвижимости', 'недвижимость',\n",
       "       'строительство недвижимости', 'на покупку подержанного автомобиля',\n",
       "       'на покупку своего автомобиля',\n",
       "       'операции с коммерческой недвижимостью',\n",
       "       'строительство жилой недвижимости', 'жилье',\n",
       "       'операции со своей недвижимостью', 'автомобили',\n",
       "       'заняться образованием', 'сделка с подержанным автомобилем',\n",
       "       'получение образования', 'автомобиль', 'свадьба',\n",
       "       'получение дополнительного образования', 'покупка своего жилья',\n",
       "       'операции с недвижимостью', 'получение высшего образования',\n",
       "       'свой автомобиль', 'сделка с автомобилем',\n",
       "       'профильное образование', 'высшее образование',\n",
       "       'покупка жилья для сдачи', 'на покупку автомобиля', 'ремонт жилью',\n",
       "       'заняться высшим образованием'], dtype=object)"
      ]
     },
     "execution_count": 19,
     "metadata": {},
     "output_type": "execute_result"
    }
   ],
   "source": [
    "data['purpose'].unique()"
   ]
  },
  {
   "cell_type": "markdown",
   "id": "85d0aef0",
   "metadata": {
    "deletable": false,
    "id": "85d0aef0"
   },
   "source": [
    "**Задание 18. Создайте функцию, которая на основании данных из столбца `purpose` сформирует новый столбец `purpose_category`, в который войдут следующие категории:**\n",
    "\n",
    "- `'операции с автомобилем'`,\n",
    "- `'операции с недвижимостью'`,\n",
    "- `'проведение свадьбы'`,\n",
    "- `'получение образования'`.\n",
    "\n",
    "**Например, если в столбце `purpose` находится подстрока `'на покупку автомобиля'`, то в столбце `purpose_category` должна появиться строка `'операции с автомобилем'`.**\n",
    "\n",
    "**Используйте собственную функцию с именем `categorize_purpose()` и метод `apply()`. Изучите данные в столбце `purpose` и определите, какие подстроки помогут вам правильно определить категорию.**"
   ]
  },
  {
   "cell_type": "code",
   "execution_count": 20,
   "id": "e149fab4",
   "metadata": {
    "deletable": false,
    "id": "e149fab4"
   },
   "outputs": [],
   "source": [
    "def categorize_purpose(row):\n",
    "    try:\n",
    "        if 'автом' in row:\n",
    "            return 'операции с автомобилем'\n",
    "        elif 'жил' in row or 'недвиж' in row:\n",
    "            return 'операции с недвижимостью'\n",
    "        elif 'свад' in row:\n",
    "            return 'проведение свадьбы'\n",
    "        elif 'образов' in row:\n",
    "            return 'получение образования'\n",
    "    except:\n",
    "        return 'нет категории'"
   ]
  },
  {
   "cell_type": "code",
   "execution_count": 21,
   "id": "bf36e69b",
   "metadata": {
    "deletable": false,
    "id": "bf36e69b"
   },
   "outputs": [
    {
     "data": {
      "text/plain": [
       "75"
      ]
     },
     "execution_count": 21,
     "metadata": {},
     "output_type": "execute_result"
    }
   ],
   "source": [
    "data['purpose_category'] = data['purpose'].apply(categorize_purpose)\n",
    "data['dob_years'].max()"
   ]
  },
  {
   "cell_type": "markdown",
   "id": "09b242bf",
   "metadata": {
    "deletable": false,
    "editable": false,
    "id": "09b242bf"
   },
   "source": [
    "## Исследуйте данные и ответьте на вопросы"
   ]
  },
  {
   "cell_type": "code",
   "execution_count": 22,
   "id": "338b7420",
   "metadata": {},
   "outputs": [
    {
     "data": {
      "text/html": [
       "<div>\n",
       "<style scoped>\n",
       "    .dataframe tbody tr th:only-of-type {\n",
       "        vertical-align: middle;\n",
       "    }\n",
       "\n",
       "    .dataframe tbody tr th {\n",
       "        vertical-align: top;\n",
       "    }\n",
       "\n",
       "    .dataframe thead th {\n",
       "        text-align: right;\n",
       "    }\n",
       "</style>\n",
       "<table border=\"1\" class=\"dataframe\">\n",
       "  <thead>\n",
       "    <tr style=\"text-align: right;\">\n",
       "      <th></th>\n",
       "      <th>children</th>\n",
       "      <th>days_employed</th>\n",
       "      <th>dob_years</th>\n",
       "      <th>education</th>\n",
       "      <th>education_id</th>\n",
       "      <th>family_status</th>\n",
       "      <th>family_status_id</th>\n",
       "      <th>gender</th>\n",
       "      <th>income_type</th>\n",
       "      <th>debt</th>\n",
       "      <th>total_income</th>\n",
       "      <th>purpose</th>\n",
       "      <th>total_income_category</th>\n",
       "      <th>purpose_category</th>\n",
       "      <th>years</th>\n",
       "    </tr>\n",
       "  </thead>\n",
       "  <tbody>\n",
       "    <tr>\n",
       "      <th>21515</th>\n",
       "      <td>1</td>\n",
       "      <td>467.685130</td>\n",
       "      <td>28</td>\n",
       "      <td>среднее</td>\n",
       "      <td>1</td>\n",
       "      <td>женат / замужем</td>\n",
       "      <td>0</td>\n",
       "      <td>F</td>\n",
       "      <td>сотрудник</td>\n",
       "      <td>1</td>\n",
       "      <td>109486</td>\n",
       "      <td>заняться образованием</td>\n",
       "      <td>C</td>\n",
       "      <td>получение образования</td>\n",
       "      <td>граждане до 30 лет</td>\n",
       "    </tr>\n",
       "    <tr>\n",
       "      <th>21516</th>\n",
       "      <td>0</td>\n",
       "      <td>914.391429</td>\n",
       "      <td>42</td>\n",
       "      <td>высшее</td>\n",
       "      <td>0</td>\n",
       "      <td>женат / замужем</td>\n",
       "      <td>0</td>\n",
       "      <td>F</td>\n",
       "      <td>компаньон</td>\n",
       "      <td>0</td>\n",
       "      <td>322807</td>\n",
       "      <td>покупка своего жилья</td>\n",
       "      <td>B</td>\n",
       "      <td>операции с недвижимостью</td>\n",
       "      <td>граждане до 45 лет</td>\n",
       "    </tr>\n",
       "    <tr>\n",
       "      <th>21517</th>\n",
       "      <td>0</td>\n",
       "      <td>404.679034</td>\n",
       "      <td>42</td>\n",
       "      <td>высшее</td>\n",
       "      <td>0</td>\n",
       "      <td>гражданский брак</td>\n",
       "      <td>1</td>\n",
       "      <td>F</td>\n",
       "      <td>компаньон</td>\n",
       "      <td>0</td>\n",
       "      <td>178059</td>\n",
       "      <td>на покупку своего автомобиля</td>\n",
       "      <td>C</td>\n",
       "      <td>операции с автомобилем</td>\n",
       "      <td>граждане до 45 лет</td>\n",
       "    </tr>\n",
       "    <tr>\n",
       "      <th>21518</th>\n",
       "      <td>0</td>\n",
       "      <td>373995.710838</td>\n",
       "      <td>59</td>\n",
       "      <td>среднее</td>\n",
       "      <td>1</td>\n",
       "      <td>женат / замужем</td>\n",
       "      <td>0</td>\n",
       "      <td>F</td>\n",
       "      <td>пенсионер</td>\n",
       "      <td>0</td>\n",
       "      <td>153864</td>\n",
       "      <td>сделка с автомобилем</td>\n",
       "      <td>C</td>\n",
       "      <td>операции с автомобилем</td>\n",
       "      <td>граждане до 75 лет</td>\n",
       "    </tr>\n",
       "    <tr>\n",
       "      <th>21519</th>\n",
       "      <td>1</td>\n",
       "      <td>2351.431934</td>\n",
       "      <td>37</td>\n",
       "      <td>ученая степень</td>\n",
       "      <td>4</td>\n",
       "      <td>в разводе</td>\n",
       "      <td>3</td>\n",
       "      <td>M</td>\n",
       "      <td>сотрудник</td>\n",
       "      <td>0</td>\n",
       "      <td>115949</td>\n",
       "      <td>покупка коммерческой недвижимости</td>\n",
       "      <td>C</td>\n",
       "      <td>операции с недвижимостью</td>\n",
       "      <td>граждане до 45 лет</td>\n",
       "    </tr>\n",
       "    <tr>\n",
       "      <th>21520</th>\n",
       "      <td>1</td>\n",
       "      <td>4529.316663</td>\n",
       "      <td>43</td>\n",
       "      <td>среднее</td>\n",
       "      <td>1</td>\n",
       "      <td>гражданский брак</td>\n",
       "      <td>1</td>\n",
       "      <td>F</td>\n",
       "      <td>компаньон</td>\n",
       "      <td>0</td>\n",
       "      <td>224791</td>\n",
       "      <td>операции с жильем</td>\n",
       "      <td>B</td>\n",
       "      <td>операции с недвижимостью</td>\n",
       "      <td>граждане до 45 лет</td>\n",
       "    </tr>\n",
       "    <tr>\n",
       "      <th>21521</th>\n",
       "      <td>0</td>\n",
       "      <td>343937.404131</td>\n",
       "      <td>67</td>\n",
       "      <td>среднее</td>\n",
       "      <td>1</td>\n",
       "      <td>женат / замужем</td>\n",
       "      <td>0</td>\n",
       "      <td>F</td>\n",
       "      <td>пенсионер</td>\n",
       "      <td>0</td>\n",
       "      <td>155999</td>\n",
       "      <td>сделка с автомобилем</td>\n",
       "      <td>C</td>\n",
       "      <td>операции с автомобилем</td>\n",
       "      <td>граждане до 75 лет</td>\n",
       "    </tr>\n",
       "    <tr>\n",
       "      <th>21522</th>\n",
       "      <td>1</td>\n",
       "      <td>2113.346888</td>\n",
       "      <td>38</td>\n",
       "      <td>среднее</td>\n",
       "      <td>1</td>\n",
       "      <td>гражданский брак</td>\n",
       "      <td>1</td>\n",
       "      <td>M</td>\n",
       "      <td>сотрудник</td>\n",
       "      <td>1</td>\n",
       "      <td>89672</td>\n",
       "      <td>недвижимость</td>\n",
       "      <td>C</td>\n",
       "      <td>операции с недвижимостью</td>\n",
       "      <td>граждане до 45 лет</td>\n",
       "    </tr>\n",
       "    <tr>\n",
       "      <th>21523</th>\n",
       "      <td>3</td>\n",
       "      <td>3112.481705</td>\n",
       "      <td>38</td>\n",
       "      <td>среднее</td>\n",
       "      <td>1</td>\n",
       "      <td>женат / замужем</td>\n",
       "      <td>0</td>\n",
       "      <td>M</td>\n",
       "      <td>сотрудник</td>\n",
       "      <td>1</td>\n",
       "      <td>244093</td>\n",
       "      <td>на покупку своего автомобиля</td>\n",
       "      <td>B</td>\n",
       "      <td>операции с автомобилем</td>\n",
       "      <td>граждане до 45 лет</td>\n",
       "    </tr>\n",
       "    <tr>\n",
       "      <th>21524</th>\n",
       "      <td>2</td>\n",
       "      <td>1984.507589</td>\n",
       "      <td>40</td>\n",
       "      <td>среднее</td>\n",
       "      <td>1</td>\n",
       "      <td>женат / замужем</td>\n",
       "      <td>0</td>\n",
       "      <td>F</td>\n",
       "      <td>сотрудник</td>\n",
       "      <td>0</td>\n",
       "      <td>82047</td>\n",
       "      <td>на покупку автомобиля</td>\n",
       "      <td>C</td>\n",
       "      <td>операции с автомобилем</td>\n",
       "      <td>граждане до 45 лет</td>\n",
       "    </tr>\n",
       "  </tbody>\n",
       "</table>\n",
       "</div>"
      ],
      "text/plain": [
       "       children  days_employed  dob_years       education  education_id  \\\n",
       "21515         1     467.685130         28         среднее             1   \n",
       "21516         0     914.391429         42          высшее             0   \n",
       "21517         0     404.679034         42          высшее             0   \n",
       "21518         0  373995.710838         59         среднее             1   \n",
       "21519         1    2351.431934         37  ученая степень             4   \n",
       "21520         1    4529.316663         43         среднее             1   \n",
       "21521         0  343937.404131         67         среднее             1   \n",
       "21522         1    2113.346888         38         среднее             1   \n",
       "21523         3    3112.481705         38         среднее             1   \n",
       "21524         2    1984.507589         40         среднее             1   \n",
       "\n",
       "          family_status  family_status_id gender income_type  debt  \\\n",
       "21515   женат / замужем                 0      F   сотрудник     1   \n",
       "21516   женат / замужем                 0      F   компаньон     0   \n",
       "21517  гражданский брак                 1      F   компаньон     0   \n",
       "21518   женат / замужем                 0      F   пенсионер     0   \n",
       "21519         в разводе                 3      M   сотрудник     0   \n",
       "21520  гражданский брак                 1      F   компаньон     0   \n",
       "21521   женат / замужем                 0      F   пенсионер     0   \n",
       "21522  гражданский брак                 1      M   сотрудник     1   \n",
       "21523   женат / замужем                 0      M   сотрудник     1   \n",
       "21524   женат / замужем                 0      F   сотрудник     0   \n",
       "\n",
       "       total_income                            purpose total_income_category  \\\n",
       "21515        109486              заняться образованием                     C   \n",
       "21516        322807               покупка своего жилья                     B   \n",
       "21517        178059       на покупку своего автомобиля                     C   \n",
       "21518        153864               сделка с автомобилем                     C   \n",
       "21519        115949  покупка коммерческой недвижимости                     C   \n",
       "21520        224791                  операции с жильем                     B   \n",
       "21521        155999               сделка с автомобилем                     C   \n",
       "21522         89672                       недвижимость                     C   \n",
       "21523        244093       на покупку своего автомобиля                     B   \n",
       "21524         82047              на покупку автомобиля                     C   \n",
       "\n",
       "               purpose_category               years  \n",
       "21515     получение образования  граждане до 30 лет  \n",
       "21516  операции с недвижимостью  граждане до 45 лет  \n",
       "21517    операции с автомобилем  граждане до 45 лет  \n",
       "21518    операции с автомобилем  граждане до 75 лет  \n",
       "21519  операции с недвижимостью  граждане до 45 лет  \n",
       "21520  операции с недвижимостью  граждане до 45 лет  \n",
       "21521    операции с автомобилем  граждане до 75 лет  \n",
       "21522  операции с недвижимостью  граждане до 45 лет  \n",
       "21523    операции с автомобилем  граждане до 45 лет  \n",
       "21524    операции с автомобилем  граждане до 45 лет  "
      ]
     },
     "execution_count": 22,
     "metadata": {},
     "output_type": "execute_result"
    }
   ],
   "source": [
    "def years_categorize(years):\n",
    "    if 18 <= years <= 30:\n",
    "        return 'граждане до 30 лет'\n",
    "    elif 31 <= years <= 45:\n",
    "        return 'граждане до 45 лет'\n",
    "    elif 46 <= years <= 75:\n",
    "        return 'граждане до 75 лет'\n",
    "    \n",
    "data['years'] = data['dob_years'].apply(years_categorize)\n",
    "\n",
    "data.tail(10)"
   ]
  },
  {
   "cell_type": "markdown",
   "id": "c5d66278",
   "metadata": {
    "deletable": false,
    "editable": false,
    "id": "c5d66278"
   },
   "source": [
    "**Задание 19. Есть ли зависимость между количеством детей и возвратом кредита в срок?**"
   ]
  },
  {
   "cell_type": "code",
   "execution_count": 23,
   "id": "2cacfc4a",
   "metadata": {
    "id": "2cacfc4a"
   },
   "outputs": [
    {
     "data": {
      "text/html": [
       "<div>\n",
       "<style scoped>\n",
       "    .dataframe tbody tr th:only-of-type {\n",
       "        vertical-align: middle;\n",
       "    }\n",
       "\n",
       "    .dataframe tbody tr th {\n",
       "        vertical-align: top;\n",
       "    }\n",
       "\n",
       "    .dataframe thead tr th {\n",
       "        text-align: left;\n",
       "    }\n",
       "\n",
       "    .dataframe thead tr:last-of-type th {\n",
       "        text-align: right;\n",
       "    }\n",
       "</style>\n",
       "<table border=\"1\" class=\"dataframe\">\n",
       "  <thead>\n",
       "    <tr>\n",
       "      <th></th>\n",
       "      <th>count</th>\n",
       "      <th>sum</th>\n",
       "      <th>mean</th>\n",
       "    </tr>\n",
       "    <tr>\n",
       "      <th></th>\n",
       "      <th>debt</th>\n",
       "      <th>debt</th>\n",
       "      <th>debt</th>\n",
       "    </tr>\n",
       "    <tr>\n",
       "      <th>children</th>\n",
       "      <th></th>\n",
       "      <th></th>\n",
       "      <th></th>\n",
       "    </tr>\n",
       "  </thead>\n",
       "  <tbody>\n",
       "    <tr>\n",
       "      <th>0</th>\n",
       "      <td>14091</td>\n",
       "      <td>1063</td>\n",
       "      <td>0.075438</td>\n",
       "    </tr>\n",
       "    <tr>\n",
       "      <th>1</th>\n",
       "      <td>4808</td>\n",
       "      <td>444</td>\n",
       "      <td>0.092346</td>\n",
       "    </tr>\n",
       "    <tr>\n",
       "      <th>2</th>\n",
       "      <td>2052</td>\n",
       "      <td>194</td>\n",
       "      <td>0.094542</td>\n",
       "    </tr>\n",
       "    <tr>\n",
       "      <th>3</th>\n",
       "      <td>330</td>\n",
       "      <td>27</td>\n",
       "      <td>0.081818</td>\n",
       "    </tr>\n",
       "    <tr>\n",
       "      <th>4</th>\n",
       "      <td>41</td>\n",
       "      <td>4</td>\n",
       "      <td>0.097561</td>\n",
       "    </tr>\n",
       "    <tr>\n",
       "      <th>5</th>\n",
       "      <td>9</td>\n",
       "      <td>0</td>\n",
       "      <td>0.000000</td>\n",
       "    </tr>\n",
       "  </tbody>\n",
       "</table>\n",
       "</div>"
      ],
      "text/plain": [
       "          count   sum      mean\n",
       "           debt  debt      debt\n",
       "children                       \n",
       "0         14091  1063  0.075438\n",
       "1          4808   444  0.092346\n",
       "2          2052   194  0.094542\n",
       "3           330    27  0.081818\n",
       "4            41     4  0.097561\n",
       "5             9     0  0.000000"
      ]
     },
     "execution_count": 23,
     "metadata": {},
     "output_type": "execute_result"
    }
   ],
   "source": [
    "pivot_1 = data.pivot_table(index=['children'], values='debt', aggfunc=['count', 'sum', 'mean'])\n",
    "pivot_1"
   ]
  },
  {
   "cell_type": "code",
   "execution_count": 24,
   "id": "f5043253",
   "metadata": {},
   "outputs": [
    {
     "data": {
      "text/plain": [
       "children\n",
       "4    0.097561\n",
       "2    0.094542\n",
       "1    0.092346\n",
       "3    0.081818\n",
       "0    0.075438\n",
       "5    0.000000\n",
       "Name: (mean, debt), dtype: float64"
      ]
     },
     "execution_count": 24,
     "metadata": {},
     "output_type": "execute_result"
    }
   ],
   "source": [
    "pivot_1[('mean', 'debt')].sort_values(ascending=False)"
   ]
  },
  {
   "cell_type": "code",
   "execution_count": 25,
   "id": "5aaa351c",
   "metadata": {},
   "outputs": [
    {
     "data": {
      "text/plain": [
       "1191.0"
      ]
     },
     "execution_count": 25,
     "metadata": {},
     "output_type": "execute_result"
    }
   ],
   "source": [
    "pivot_1[('count', 'debt')].median()"
   ]
  },
  {
   "cell_type": "code",
   "execution_count": 26,
   "id": "ff33803d",
   "metadata": {},
   "outputs": [
    {
     "data": {
      "text/html": [
       "<div>\n",
       "<style scoped>\n",
       "    .dataframe tbody tr th:only-of-type {\n",
       "        vertical-align: middle;\n",
       "    }\n",
       "\n",
       "    .dataframe tbody tr th {\n",
       "        vertical-align: top;\n",
       "    }\n",
       "\n",
       "    .dataframe thead tr th {\n",
       "        text-align: left;\n",
       "    }\n",
       "\n",
       "    .dataframe thead tr:last-of-type th {\n",
       "        text-align: right;\n",
       "    }\n",
       "</style>\n",
       "<table border=\"1\" class=\"dataframe\">\n",
       "  <thead>\n",
       "    <tr>\n",
       "      <th></th>\n",
       "      <th>count</th>\n",
       "      <th>sum</th>\n",
       "      <th>mean</th>\n",
       "    </tr>\n",
       "    <tr>\n",
       "      <th></th>\n",
       "      <th>debt</th>\n",
       "      <th>debt</th>\n",
       "      <th>debt</th>\n",
       "    </tr>\n",
       "    <tr>\n",
       "      <th>children</th>\n",
       "      <th></th>\n",
       "      <th></th>\n",
       "      <th></th>\n",
       "    </tr>\n",
       "  </thead>\n",
       "  <tbody>\n",
       "    <tr>\n",
       "      <th>0</th>\n",
       "      <td>14091</td>\n",
       "      <td>1063</td>\n",
       "      <td>0.075438</td>\n",
       "    </tr>\n",
       "    <tr>\n",
       "      <th>1</th>\n",
       "      <td>4808</td>\n",
       "      <td>444</td>\n",
       "      <td>0.092346</td>\n",
       "    </tr>\n",
       "    <tr>\n",
       "      <th>2</th>\n",
       "      <td>2052</td>\n",
       "      <td>194</td>\n",
       "      <td>0.094542</td>\n",
       "    </tr>\n",
       "  </tbody>\n",
       "</table>\n",
       "</div>"
      ],
      "text/plain": [
       "          count   sum      mean\n",
       "           debt  debt      debt\n",
       "children                       \n",
       "0         14091  1063  0.075438\n",
       "1          4808   444  0.092346\n",
       "2          2052   194  0.094542"
      ]
     },
     "execution_count": 26,
     "metadata": {},
     "output_type": "execute_result"
    }
   ],
   "source": [
    "pivot_1_med = (pivot_1[pivot_1[('count', 'debt')] > 1191])\n",
    "pivot_1_med"
   ]
  },
  {
   "cell_type": "code",
   "execution_count": 27,
   "id": "ce2209db",
   "metadata": {},
   "outputs": [
    {
     "data": {
      "text/plain": [
       "children\n",
       "2    0.094542\n",
       "1    0.092346\n",
       "0    0.075438\n",
       "Name: (mean, debt), dtype: float64"
      ]
     },
     "execution_count": 27,
     "metadata": {},
     "output_type": "execute_result"
    }
   ],
   "source": [
    "pivot_1_med[('mean', 'debt')].sort_values(ascending=False)"
   ]
  },
  {
   "cell_type": "markdown",
   "id": "3a6b99ec",
   "metadata": {
    "deletable": false,
    "id": "3a6b99ec"
   },
   "source": [
    "**Вывод:** мы посчитали среднее количество должников на долю всех заемщиков, сгруппировав данные по количеству детей. После чего расположили их в порядке убывания. По отсортированным данным можно было бы сказать, что заемщики с 4-мя детьми самые проблемные, но я считаю, что общее количество заемщиков в этой категории слишком мало для объективного вывода. Для того, чтобы вывод был объективным, нам стоит установить 'планку' минимального числа заемщиков в общем. Для меня этой планкой будет медианное значение заемщиков (1191). Оставляем только те строчки, которые подходят под наши критерии объективности, 0, 1, и 2 ребенка. Уже по этим данным можно сделать вывод, что клиенты имеющие 1-го или 2-ух детей не сильно отличаются по количеству должников, а среди клиентов не имеющих детей вообще, должников гораздо меньше. Общий вывод: клиенты без детей обладают большей возможностью погашать кредит в срок"
   ]
  },
  {
   "cell_type": "markdown",
   "id": "97be82ca",
   "metadata": {
    "deletable": false,
    "editable": false,
    "id": "97be82ca"
   },
   "source": [
    "**Задание 20. Есть ли зависимость между семейным положением и возвратом кредита в срок?**"
   ]
  },
  {
   "cell_type": "code",
   "execution_count": 28,
   "id": "dc3f7ee8",
   "metadata": {
    "id": "dc3f7ee8"
   },
   "outputs": [
    {
     "data": {
      "text/html": [
       "<div>\n",
       "<style scoped>\n",
       "    .dataframe tbody tr th:only-of-type {\n",
       "        vertical-align: middle;\n",
       "    }\n",
       "\n",
       "    .dataframe tbody tr th {\n",
       "        vertical-align: top;\n",
       "    }\n",
       "\n",
       "    .dataframe thead tr th {\n",
       "        text-align: left;\n",
       "    }\n",
       "\n",
       "    .dataframe thead tr:last-of-type th {\n",
       "        text-align: right;\n",
       "    }\n",
       "</style>\n",
       "<table border=\"1\" class=\"dataframe\">\n",
       "  <thead>\n",
       "    <tr>\n",
       "      <th></th>\n",
       "      <th>count</th>\n",
       "      <th>sum</th>\n",
       "      <th>mean</th>\n",
       "    </tr>\n",
       "    <tr>\n",
       "      <th></th>\n",
       "      <th>debt</th>\n",
       "      <th>debt</th>\n",
       "      <th>debt</th>\n",
       "    </tr>\n",
       "    <tr>\n",
       "      <th>family_status</th>\n",
       "      <th></th>\n",
       "      <th></th>\n",
       "      <th></th>\n",
       "    </tr>\n",
       "  </thead>\n",
       "  <tbody>\n",
       "    <tr>\n",
       "      <th>Не женат / не замужем</th>\n",
       "      <td>2796</td>\n",
       "      <td>273</td>\n",
       "      <td>0.097639</td>\n",
       "    </tr>\n",
       "    <tr>\n",
       "      <th>в разводе</th>\n",
       "      <td>1189</td>\n",
       "      <td>84</td>\n",
       "      <td>0.070648</td>\n",
       "    </tr>\n",
       "    <tr>\n",
       "      <th>вдовец / вдова</th>\n",
       "      <td>951</td>\n",
       "      <td>63</td>\n",
       "      <td>0.066246</td>\n",
       "    </tr>\n",
       "    <tr>\n",
       "      <th>гражданский брак</th>\n",
       "      <td>4134</td>\n",
       "      <td>385</td>\n",
       "      <td>0.093130</td>\n",
       "    </tr>\n",
       "    <tr>\n",
       "      <th>женат / замужем</th>\n",
       "      <td>12261</td>\n",
       "      <td>927</td>\n",
       "      <td>0.075606</td>\n",
       "    </tr>\n",
       "  </tbody>\n",
       "</table>\n",
       "</div>"
      ],
      "text/plain": [
       "                       count  sum      mean\n",
       "                        debt debt      debt\n",
       "family_status                              \n",
       "Не женат / не замужем   2796  273  0.097639\n",
       "в разводе               1189   84  0.070648\n",
       "вдовец / вдова           951   63  0.066246\n",
       "гражданский брак        4134  385  0.093130\n",
       "женат / замужем        12261  927  0.075606"
      ]
     },
     "execution_count": 28,
     "metadata": {},
     "output_type": "execute_result"
    }
   ],
   "source": [
    "pivot_2 = data.pivot_table(index='family_status', values='debt', aggfunc=['count', 'sum', 'mean'])\n",
    "pivot_2"
   ]
  },
  {
   "cell_type": "code",
   "execution_count": 29,
   "id": "a8db789e",
   "metadata": {},
   "outputs": [
    {
     "data": {
      "text/plain": [
       "family_status\n",
       "Не женат / не замужем    0.097639\n",
       "гражданский брак         0.093130\n",
       "женат / замужем          0.075606\n",
       "в разводе                0.070648\n",
       "вдовец / вдова           0.066246\n",
       "Name: (mean, debt), dtype: float64"
      ]
     },
     "execution_count": 29,
     "metadata": {},
     "output_type": "execute_result"
    }
   ],
   "source": [
    "pivot_2[('mean', 'debt')].sort_values(ascending=False)"
   ]
  },
  {
   "cell_type": "markdown",
   "id": "1cef7837",
   "metadata": {
    "deletable": false,
    "id": "1cef7837"
   },
   "source": [
    "**Вывод:** из всей группы, с сильным превосходством по количеству заемщиков выделяется группа с семейным положением 'женат/замужем', но в рейтинге количества должников среди заемщиков, эта группа обладает неплохим показателем возврата кредита в срок. И стоит наравне с группами, обладающими минимальным показателем количества заемщиков. Проблемными категориями, являются клиенты с семейным положением 'не женат/не замужем' и 'гражданский брак' "
   ]
  },
  {
   "cell_type": "markdown",
   "id": "1e8b2fca",
   "metadata": {
    "deletable": false,
    "editable": false,
    "id": "1e8b2fca"
   },
   "source": [
    "**Задание 21. Есть ли зависимость между уровнем дохода и возвратом кредита в срок?**"
   ]
  },
  {
   "cell_type": "code",
   "execution_count": 30,
   "id": "cd7e3720",
   "metadata": {
    "id": "cd7e3720"
   },
   "outputs": [
    {
     "data": {
      "text/html": [
       "<div>\n",
       "<style scoped>\n",
       "    .dataframe tbody tr th:only-of-type {\n",
       "        vertical-align: middle;\n",
       "    }\n",
       "\n",
       "    .dataframe tbody tr th {\n",
       "        vertical-align: top;\n",
       "    }\n",
       "\n",
       "    .dataframe thead tr th {\n",
       "        text-align: left;\n",
       "    }\n",
       "\n",
       "    .dataframe thead tr:last-of-type th {\n",
       "        text-align: right;\n",
       "    }\n",
       "</style>\n",
       "<table border=\"1\" class=\"dataframe\">\n",
       "  <thead>\n",
       "    <tr>\n",
       "      <th></th>\n",
       "      <th>count</th>\n",
       "      <th>sum</th>\n",
       "      <th>mean</th>\n",
       "    </tr>\n",
       "    <tr>\n",
       "      <th></th>\n",
       "      <th>debt</th>\n",
       "      <th>debt</th>\n",
       "      <th>debt</th>\n",
       "    </tr>\n",
       "    <tr>\n",
       "      <th>total_income_category</th>\n",
       "      <th></th>\n",
       "      <th></th>\n",
       "      <th></th>\n",
       "    </tr>\n",
       "  </thead>\n",
       "  <tbody>\n",
       "    <tr>\n",
       "      <th>A</th>\n",
       "      <td>25</td>\n",
       "      <td>2</td>\n",
       "      <td>0.080000</td>\n",
       "    </tr>\n",
       "    <tr>\n",
       "      <th>B</th>\n",
       "      <td>5014</td>\n",
       "      <td>354</td>\n",
       "      <td>0.070602</td>\n",
       "    </tr>\n",
       "    <tr>\n",
       "      <th>C</th>\n",
       "      <td>15921</td>\n",
       "      <td>1353</td>\n",
       "      <td>0.084982</td>\n",
       "    </tr>\n",
       "    <tr>\n",
       "      <th>D</th>\n",
       "      <td>349</td>\n",
       "      <td>21</td>\n",
       "      <td>0.060172</td>\n",
       "    </tr>\n",
       "    <tr>\n",
       "      <th>E</th>\n",
       "      <td>22</td>\n",
       "      <td>2</td>\n",
       "      <td>0.090909</td>\n",
       "    </tr>\n",
       "  </tbody>\n",
       "</table>\n",
       "</div>"
      ],
      "text/plain": [
       "                       count   sum      mean\n",
       "                        debt  debt      debt\n",
       "total_income_category                       \n",
       "A                         25     2  0.080000\n",
       "B                       5014   354  0.070602\n",
       "C                      15921  1353  0.084982\n",
       "D                        349    21  0.060172\n",
       "E                         22     2  0.090909"
      ]
     },
     "execution_count": 30,
     "metadata": {},
     "output_type": "execute_result"
    }
   ],
   "source": [
    "pivot_3 = data.pivot_table(index='total_income_category', values='debt', aggfunc = ['count', 'sum', 'mean'])\n",
    "pivot_3"
   ]
  },
  {
   "cell_type": "code",
   "execution_count": 31,
   "id": "5882bde7",
   "metadata": {},
   "outputs": [
    {
     "data": {
      "text/plain": [
       "total_income_category\n",
       "E    0.090909\n",
       "C    0.084982\n",
       "A    0.080000\n",
       "B    0.070602\n",
       "D    0.060172\n",
       "Name: (mean, debt), dtype: float64"
      ]
     },
     "execution_count": 31,
     "metadata": {},
     "output_type": "execute_result"
    }
   ],
   "source": [
    "pivot_3[('mean', 'debt')].sort_values(ascending=False)"
   ]
  },
  {
   "cell_type": "code",
   "execution_count": 32,
   "id": "ad6a8e5e",
   "metadata": {},
   "outputs": [
    {
     "data": {
      "text/html": [
       "<div>\n",
       "<style scoped>\n",
       "    .dataframe tbody tr th:only-of-type {\n",
       "        vertical-align: middle;\n",
       "    }\n",
       "\n",
       "    .dataframe tbody tr th {\n",
       "        vertical-align: top;\n",
       "    }\n",
       "\n",
       "    .dataframe thead tr th {\n",
       "        text-align: left;\n",
       "    }\n",
       "\n",
       "    .dataframe thead tr:last-of-type th {\n",
       "        text-align: right;\n",
       "    }\n",
       "</style>\n",
       "<table border=\"1\" class=\"dataframe\">\n",
       "  <thead>\n",
       "    <tr>\n",
       "      <th></th>\n",
       "      <th>count</th>\n",
       "      <th>sum</th>\n",
       "      <th>mean</th>\n",
       "    </tr>\n",
       "    <tr>\n",
       "      <th></th>\n",
       "      <th>debt</th>\n",
       "      <th>debt</th>\n",
       "      <th>debt</th>\n",
       "    </tr>\n",
       "    <tr>\n",
       "      <th>total_income_category</th>\n",
       "      <th></th>\n",
       "      <th></th>\n",
       "      <th></th>\n",
       "    </tr>\n",
       "  </thead>\n",
       "  <tbody>\n",
       "    <tr>\n",
       "      <th>B</th>\n",
       "      <td>5014</td>\n",
       "      <td>354</td>\n",
       "      <td>0.070602</td>\n",
       "    </tr>\n",
       "    <tr>\n",
       "      <th>C</th>\n",
       "      <td>15921</td>\n",
       "      <td>1353</td>\n",
       "      <td>0.084982</td>\n",
       "    </tr>\n",
       "    <tr>\n",
       "      <th>D</th>\n",
       "      <td>349</td>\n",
       "      <td>21</td>\n",
       "      <td>0.060172</td>\n",
       "    </tr>\n",
       "  </tbody>\n",
       "</table>\n",
       "</div>"
      ],
      "text/plain": [
       "                       count   sum      mean\n",
       "                        debt  debt      debt\n",
       "total_income_category                       \n",
       "B                       5014   354  0.070602\n",
       "C                      15921  1353  0.084982\n",
       "D                        349    21  0.060172"
      ]
     },
     "execution_count": 32,
     "metadata": {},
     "output_type": "execute_result"
    }
   ],
   "source": [
    "pivot_3_sr = pivot_3[pivot_3[('count', 'debt')] > 300]\n",
    "pivot_3_sr"
   ]
  },
  {
   "cell_type": "code",
   "execution_count": 33,
   "id": "96f422f9",
   "metadata": {},
   "outputs": [
    {
     "data": {
      "text/plain": [
       "total_income_category\n",
       "C    0.084982\n",
       "B    0.070602\n",
       "D    0.060172\n",
       "Name: (mean, debt), dtype: float64"
      ]
     },
     "execution_count": 33,
     "metadata": {},
     "output_type": "execute_result"
    }
   ],
   "source": [
    "pivot_3_sr[('mean', 'debt')].sort_values(ascending=False)"
   ]
  },
  {
   "cell_type": "markdown",
   "id": "e8593def",
   "metadata": {
    "deletable": false,
    "id": "e8593def"
   },
   "source": [
    "**Вывод:** как и в группировке по количеству детей, здесь мы не можем сделать объективные выводы, поскольку в категориях А, Е и D очень маленький размах, но проводить исследование по двум строкам тоже некорректно. Поэтому выбирем 3 группы с наибольшим размахом среди заемщиков. Группа С превосходит другие группы по количеству должников, но если учитывать, что эта группа с самым большим размахом, то можно предположить, что количество должников со временем растет не равномерно в процентном соотношении. То есть не факт, что у категории В сохранилось текущее соотношение задолжников к заемщикам, если бы общее число заемщиков равнялось числу заемщиков категории С. Как мы видим, чем больше количество заемщиков, тем больше процент должников."
   ]
  },
  {
   "cell_type": "markdown",
   "id": "99ecbd1f",
   "metadata": {
    "deletable": false,
    "editable": false,
    "id": "99ecbd1f"
   },
   "source": [
    "**Задание 22. Как разные цели кредита влияют на его возврат в срок?**"
   ]
  },
  {
   "cell_type": "code",
   "execution_count": 34,
   "id": "2b687290",
   "metadata": {
    "id": "2b687290"
   },
   "outputs": [
    {
     "data": {
      "text/html": [
       "<div>\n",
       "<style scoped>\n",
       "    .dataframe tbody tr th:only-of-type {\n",
       "        vertical-align: middle;\n",
       "    }\n",
       "\n",
       "    .dataframe tbody tr th {\n",
       "        vertical-align: top;\n",
       "    }\n",
       "\n",
       "    .dataframe thead tr th {\n",
       "        text-align: left;\n",
       "    }\n",
       "\n",
       "    .dataframe thead tr:last-of-type th {\n",
       "        text-align: right;\n",
       "    }\n",
       "</style>\n",
       "<table border=\"1\" class=\"dataframe\">\n",
       "  <thead>\n",
       "    <tr>\n",
       "      <th></th>\n",
       "      <th>count</th>\n",
       "      <th>sum</th>\n",
       "      <th>mean</th>\n",
       "    </tr>\n",
       "    <tr>\n",
       "      <th></th>\n",
       "      <th>debt</th>\n",
       "      <th>debt</th>\n",
       "      <th>debt</th>\n",
       "    </tr>\n",
       "    <tr>\n",
       "      <th>purpose_category</th>\n",
       "      <th></th>\n",
       "      <th></th>\n",
       "      <th></th>\n",
       "    </tr>\n",
       "  </thead>\n",
       "  <tbody>\n",
       "    <tr>\n",
       "      <th>операции с автомобилем</th>\n",
       "      <td>4279</td>\n",
       "      <td>400</td>\n",
       "      <td>0.093480</td>\n",
       "    </tr>\n",
       "    <tr>\n",
       "      <th>операции с недвижимостью</th>\n",
       "      <td>10751</td>\n",
       "      <td>780</td>\n",
       "      <td>0.072551</td>\n",
       "    </tr>\n",
       "    <tr>\n",
       "      <th>получение образования</th>\n",
       "      <td>3988</td>\n",
       "      <td>369</td>\n",
       "      <td>0.092528</td>\n",
       "    </tr>\n",
       "    <tr>\n",
       "      <th>проведение свадьбы</th>\n",
       "      <td>2313</td>\n",
       "      <td>183</td>\n",
       "      <td>0.079118</td>\n",
       "    </tr>\n",
       "  </tbody>\n",
       "</table>\n",
       "</div>"
      ],
      "text/plain": [
       "                          count  sum      mean\n",
       "                           debt debt      debt\n",
       "purpose_category                              \n",
       "операции с автомобилем     4279  400  0.093480\n",
       "операции с недвижимостью  10751  780  0.072551\n",
       "получение образования      3988  369  0.092528\n",
       "проведение свадьбы         2313  183  0.079118"
      ]
     },
     "execution_count": 34,
     "metadata": {},
     "output_type": "execute_result"
    }
   ],
   "source": [
    "pivot_4 = data.pivot_table(index='purpose_category', values='debt', aggfunc = ['count', 'sum', 'mean'])\n",
    "pivot_4"
   ]
  },
  {
   "cell_type": "code",
   "execution_count": 35,
   "id": "4fcffe5b",
   "metadata": {},
   "outputs": [
    {
     "data": {
      "text/plain": [
       "purpose_category\n",
       "операции с автомобилем      0.093480\n",
       "получение образования       0.092528\n",
       "проведение свадьбы          0.079118\n",
       "операции с недвижимостью    0.072551\n",
       "Name: (mean, debt), dtype: float64"
      ]
     },
     "execution_count": 35,
     "metadata": {},
     "output_type": "execute_result"
    }
   ],
   "source": [
    "pivot_4[('mean', 'debt')].sort_values(ascending=False)"
   ]
  },
  {
   "cell_type": "markdown",
   "id": "b4bb2ce6",
   "metadata": {
    "deletable": false,
    "id": "b4bb2ce6"
   },
   "source": [
    "**Вывод:** сгруппировав данные по целям взятия кредита, нельзя сказать, что в какой то из групп данные являются необъективными. Можно только сравнить сколько проблемных заемщиков в каждой из них и выдвинуть гепотизы, которые объяснят способность или неспособность погашать кредит в срок по той или иной цели. Можно заметить, что клиенты, которые занимают деньги на проведение свадьбы и операции с недвижимостью, обладают большей способностью выплачивать кредит в срок. Можно предположить, что как правило, свадьбы окупаются и есть чем возвращать кредит в срок. По поводу тех, кто берет деньги на операции с недвижимостью, можно предположить, что большинство клиентов покупают на занятые деньги недвижимость c коммерческой целью, например: под сдачу или для расшириния бизнеса, то есть занимают деньги с рассчетом на то, что недвижимость будет приносить им деньги. \n",
    "\n",
    "И если недвижимость можно отнести в класс 'активов'(то что приносит деньги), то автомобиль является скорее 'пассивом', требующим постоянных вложений (бензина, ремонта) и не всегда заемщики могут вернуть кредит без просрочек. Те же, кто берут кредит на получение образования, могут являться студентами без большого капитала или же теми, кто из за отсутствия образования вынужден работать на низкооплачиваемой работе."
   ]
  },
  {
   "cell_type": "markdown",
   "id": "09c3ac4c",
   "metadata": {
    "deletable": false,
    "editable": false,
    "id": "09c3ac4c"
   },
   "source": [
    "**Задание 23. Приведите возможные причины появления пропусков в исходных данных.**"
   ]
  },
  {
   "cell_type": "markdown",
   "id": "9da2ceda",
   "metadata": {
    "deletable": false,
    "id": "9da2ceda"
   },
   "source": [
    "*Ответ:* В данном датасете были пропущены значения столбцов days employed (рабочий стаж) и total income (доход). Можно было бы сказать, что клиент просто решил не указывать информацию о доходах и рабочем стаже и что это и привело к появлению пропусков, но так как речь идет о банковской сфере, где количество дней трудового стажа и доход это важные показатели, то можно предположить, что пропуски возникли из за сбоев в системе или неправильно заполненых полей"
   ]
  },
  {
   "cell_type": "markdown",
   "id": "7b0487d6",
   "metadata": {
    "deletable": false,
    "editable": false,
    "id": "7b0487d6"
   },
   "source": [
    "**Задание 24. Объясните, почему заполнить пропуски медианным значением — лучшее решение для количественных переменных.**"
   ]
  },
  {
   "cell_type": "markdown",
   "id": "7ecf2b8e",
   "metadata": {
    "deletable": false,
    "id": "7ecf2b8e"
   },
   "source": [
    "*Ответ:* Заполнять пропуски средним значеним в количественных переменных некорректно, потому что в данных могут встречаться \"выбросы\" или аномальные, но тем не менее, прошедшие проверку рельностью, значения. Например: если к выборке из 9-ти человек с зарплатой ~ 30000 прибавить человека с зарплатой 500000, то среднее значение не будет отражать действительное положение дел о средней зарплате в данной выборке"
   ]
  },
  {
   "cell_type": "markdown",
   "id": "6db5255a",
   "metadata": {
    "deletable": false,
    "editable": false,
    "id": "6db5255a"
   },
   "source": [
    "## Общий вывод."
   ]
  },
  {
   "cell_type": "markdown",
   "id": "bad65432",
   "metadata": {
    "id": "bad65432"
   },
   "source": [
    "Процент должников по отношению ко всем заемщикам со временем может расти неравномерно. Больше заемщиков - больше шанс, что процент должников вырастет. Однако в группировке по семейному положению видны обратные результаты - большое количество заемщиков, но не самое большое количество должников среди них.\n",
    "\n",
    "Клиенты не имеющие детей вообще обладают большей способностью погашать кредиты. \n",
    "\n",
    "Клиенты, берущие кредит на операции связаные с недвижимостью или на проведение свадьбы чаще погашают кредиты в срок нежели клиенты, которые берут кредит на операции с автомобилем или на оплату образования"
   ]
  }
 ],
 "metadata": {
  "ExecuteTimeLog": [
   {
    "duration": 521,
    "start_time": "2022-07-25T09:06:04.423Z"
   },
   {
    "duration": 24,
    "start_time": "2022-07-25T09:06:08.118Z"
   },
   {
    "duration": 500,
    "start_time": "2022-07-25T09:07:10.771Z"
   },
   {
    "duration": 25,
    "start_time": "2022-07-25T09:07:11.274Z"
   },
   {
    "duration": 27,
    "start_time": "2022-07-25T09:07:11.301Z"
   },
   {
    "duration": 12,
    "start_time": "2022-07-25T09:07:11.332Z"
   },
   {
    "duration": 50,
    "start_time": "2022-07-25T09:07:11.346Z"
   },
   {
    "duration": 4,
    "start_time": "2022-07-25T09:07:11.398Z"
   },
   {
    "duration": 49,
    "start_time": "2022-07-25T09:07:11.404Z"
   },
   {
    "duration": 15,
    "start_time": "2022-07-25T09:07:11.455Z"
   },
   {
    "duration": 27,
    "start_time": "2022-07-25T09:07:11.472Z"
   },
   {
    "duration": 22,
    "start_time": "2022-07-25T09:07:11.504Z"
   },
   {
    "duration": 43,
    "start_time": "2022-07-25T09:07:11.528Z"
   },
   {
    "duration": 11,
    "start_time": "2022-07-25T09:07:11.572Z"
   },
   {
    "duration": 14,
    "start_time": "2022-07-25T09:07:11.585Z"
   },
   {
    "duration": 35,
    "start_time": "2022-07-25T09:07:11.600Z"
   },
   {
    "duration": 25,
    "start_time": "2022-07-25T09:07:11.636Z"
   },
   {
    "duration": 20,
    "start_time": "2022-07-25T09:07:11.663Z"
   },
   {
    "duration": 24,
    "start_time": "2022-07-25T09:07:11.685Z"
   },
   {
    "duration": 30,
    "start_time": "2022-07-25T09:07:11.711Z"
   },
   {
    "duration": 41,
    "start_time": "2022-07-25T09:07:11.743Z"
   },
   {
    "duration": 12,
    "start_time": "2022-07-25T09:07:11.785Z"
   },
   {
    "duration": 41,
    "start_time": "2022-07-25T09:07:11.799Z"
   },
   {
    "duration": 13,
    "start_time": "2022-07-25T09:07:11.842Z"
   },
   {
    "duration": 26,
    "start_time": "2022-07-25T09:07:11.857Z"
   },
   {
    "duration": 18,
    "start_time": "2022-07-25T09:07:11.885Z"
   },
   {
    "duration": 30,
    "start_time": "2022-07-25T09:07:11.905Z"
   },
   {
    "duration": 516,
    "start_time": "2022-07-25T09:09:02.311Z"
   },
   {
    "duration": 24,
    "start_time": "2022-07-25T09:09:02.829Z"
   },
   {
    "duration": 16,
    "start_time": "2022-07-25T09:09:02.857Z"
   },
   {
    "duration": 10,
    "start_time": "2022-07-25T09:09:02.875Z"
   },
   {
    "duration": 72,
    "start_time": "2022-07-25T09:09:02.887Z"
   },
   {
    "duration": 5,
    "start_time": "2022-07-25T09:09:02.961Z"
   },
   {
    "duration": 39,
    "start_time": "2022-07-25T09:09:02.968Z"
   },
   {
    "duration": 9,
    "start_time": "2022-07-25T09:09:03.009Z"
   },
   {
    "duration": 12,
    "start_time": "2022-07-25T09:09:03.021Z"
   },
   {
    "duration": 6,
    "start_time": "2022-07-25T09:09:03.034Z"
   },
   {
    "duration": 47,
    "start_time": "2022-07-25T09:09:03.042Z"
   },
   {
    "duration": 10,
    "start_time": "2022-07-25T09:09:03.091Z"
   },
   {
    "duration": 12,
    "start_time": "2022-07-25T09:09:03.102Z"
   },
   {
    "duration": 26,
    "start_time": "2022-07-25T09:09:03.115Z"
   },
   {
    "duration": 18,
    "start_time": "2022-07-25T09:09:03.142Z"
   },
   {
    "duration": 11,
    "start_time": "2022-07-25T09:09:03.162Z"
   },
   {
    "duration": 15,
    "start_time": "2022-07-25T09:09:03.175Z"
   },
   {
    "duration": 33,
    "start_time": "2022-07-25T09:09:03.192Z"
   },
   {
    "duration": 7,
    "start_time": "2022-07-25T09:09:03.227Z"
   },
   {
    "duration": 4,
    "start_time": "2022-07-25T09:09:03.236Z"
   },
   {
    "duration": 20,
    "start_time": "2022-07-25T09:09:03.242Z"
   },
   {
    "duration": 6,
    "start_time": "2022-07-25T09:09:03.263Z"
   },
   {
    "duration": 13,
    "start_time": "2022-07-25T09:09:03.271Z"
   },
   {
    "duration": 14,
    "start_time": "2022-07-25T09:09:03.287Z"
   },
   {
    "duration": 7,
    "start_time": "2022-07-25T09:09:03.304Z"
   },
   {
    "duration": 41,
    "start_time": "2022-07-25T09:09:36.870Z"
   },
   {
    "duration": 53,
    "start_time": "2022-07-25T09:10:36.789Z"
   },
   {
    "duration": 19,
    "start_time": "2022-07-25T09:12:04.189Z"
   },
   {
    "duration": 26,
    "start_time": "2022-07-25T09:13:04.470Z"
   },
   {
    "duration": 14,
    "start_time": "2022-07-25T09:15:18.548Z"
   },
   {
    "duration": 4,
    "start_time": "2022-07-25T09:28:06.369Z"
   },
   {
    "duration": 1398,
    "start_time": "2022-07-25T09:32:40.978Z"
   },
   {
    "duration": 117,
    "start_time": "2022-07-25T09:45:15.374Z"
   },
   {
    "duration": 4,
    "start_time": "2022-07-25T10:15:17.629Z"
   },
   {
    "duration": 11,
    "start_time": "2022-07-25T10:16:46.087Z"
   },
   {
    "duration": 11,
    "start_time": "2022-07-25T10:17:04.230Z"
   },
   {
    "duration": 30,
    "start_time": "2022-07-25T10:19:15.267Z"
   },
   {
    "duration": 16,
    "start_time": "2022-07-25T10:24:16.239Z"
   },
   {
    "duration": 4,
    "start_time": "2022-07-25T10:37:12.101Z"
   },
   {
    "duration": 25,
    "start_time": "2022-07-25T10:37:21.450Z"
   },
   {
    "duration": 31,
    "start_time": "2022-07-25T10:39:06.516Z"
   },
   {
    "duration": 27,
    "start_time": "2022-07-25T10:41:38.455Z"
   },
   {
    "duration": 29,
    "start_time": "2022-07-25T10:42:13.519Z"
   },
   {
    "duration": 28,
    "start_time": "2022-07-25T10:44:09.430Z"
   },
   {
    "duration": 32,
    "start_time": "2022-07-25T10:46:10.094Z"
   },
   {
    "duration": 31,
    "start_time": "2022-07-25T10:46:17.674Z"
   },
   {
    "duration": 27,
    "start_time": "2022-07-25T10:46:26.087Z"
   },
   {
    "duration": 28,
    "start_time": "2022-07-25T10:51:02.762Z"
   },
   {
    "duration": 33,
    "start_time": "2022-07-25T10:52:48.027Z"
   },
   {
    "duration": 70,
    "start_time": "2022-07-25T11:11:38.978Z"
   },
   {
    "duration": 11,
    "start_time": "2022-07-25T11:20:40.685Z"
   },
   {
    "duration": 24,
    "start_time": "2022-07-25T11:23:11.680Z"
   },
   {
    "duration": 56,
    "start_time": "2022-07-25T11:24:13.181Z"
   },
   {
    "duration": 42,
    "start_time": "2022-07-25T11:29:21.788Z"
   },
   {
    "duration": 29,
    "start_time": "2022-07-25T11:31:22.937Z"
   },
   {
    "duration": 22,
    "start_time": "2022-07-25T11:31:47.377Z"
   },
   {
    "duration": 33,
    "start_time": "2022-07-25T11:31:52.882Z"
   },
   {
    "duration": 25,
    "start_time": "2022-07-25T11:32:58.498Z"
   },
   {
    "duration": 40,
    "start_time": "2022-07-25T11:34:19.302Z"
   },
   {
    "duration": 32,
    "start_time": "2022-07-25T11:34:32.282Z"
   },
   {
    "duration": 25,
    "start_time": "2022-07-25T11:34:37.351Z"
   },
   {
    "duration": 49,
    "start_time": "2022-07-25T11:36:04.470Z"
   },
   {
    "duration": 1505,
    "start_time": "2022-07-25T11:36:25.011Z"
   },
   {
    "duration": 38,
    "start_time": "2022-07-25T11:45:48.716Z"
   },
   {
    "duration": 26,
    "start_time": "2022-07-25T11:46:33.797Z"
   },
   {
    "duration": 37,
    "start_time": "2022-07-25T11:46:38.713Z"
   },
   {
    "duration": 34,
    "start_time": "2022-07-25T11:46:48.444Z"
   },
   {
    "duration": 30,
    "start_time": "2022-07-25T11:47:15.681Z"
   },
   {
    "duration": 26,
    "start_time": "2022-07-25T11:48:25.914Z"
   },
   {
    "duration": 7,
    "start_time": "2022-07-25T11:48:28.944Z"
   },
   {
    "duration": 30,
    "start_time": "2022-07-25T11:49:01.799Z"
   },
   {
    "duration": 8,
    "start_time": "2022-07-25T11:49:04.955Z"
   },
   {
    "duration": 29,
    "start_time": "2022-07-25T11:50:42.018Z"
   },
   {
    "duration": 6,
    "start_time": "2022-07-25T11:50:44.644Z"
   },
   {
    "duration": 7,
    "start_time": "2022-07-25T11:50:53.616Z"
   },
   {
    "duration": 7,
    "start_time": "2022-07-25T11:51:24.154Z"
   },
   {
    "duration": 25,
    "start_time": "2022-07-25T11:58:37.557Z"
   },
   {
    "duration": 500,
    "start_time": "2022-07-25T11:58:59.419Z"
   },
   {
    "duration": 30,
    "start_time": "2022-07-25T11:58:59.922Z"
   },
   {
    "duration": 16,
    "start_time": "2022-07-25T11:58:59.954Z"
   },
   {
    "duration": 11,
    "start_time": "2022-07-25T11:58:59.973Z"
   },
   {
    "duration": 65,
    "start_time": "2022-07-25T11:58:59.985Z"
   },
   {
    "duration": 3,
    "start_time": "2022-07-25T11:59:00.052Z"
   },
   {
    "duration": 27,
    "start_time": "2022-07-25T11:59:00.057Z"
   },
   {
    "duration": 6,
    "start_time": "2022-07-25T11:59:00.086Z"
   },
   {
    "duration": 10,
    "start_time": "2022-07-25T11:59:00.094Z"
   },
   {
    "duration": 14,
    "start_time": "2022-07-25T11:59:00.108Z"
   },
   {
    "duration": 42,
    "start_time": "2022-07-25T11:59:00.124Z"
   },
   {
    "duration": 10,
    "start_time": "2022-07-25T11:59:00.168Z"
   },
   {
    "duration": 9,
    "start_time": "2022-07-25T11:59:00.180Z"
   },
   {
    "duration": 27,
    "start_time": "2022-07-25T11:59:00.190Z"
   },
   {
    "duration": 19,
    "start_time": "2022-07-25T11:59:00.218Z"
   },
   {
    "duration": 44,
    "start_time": "2022-07-25T11:59:00.239Z"
   },
   {
    "duration": 5,
    "start_time": "2022-07-25T11:59:00.284Z"
   },
   {
    "duration": 39,
    "start_time": "2022-07-25T11:59:00.290Z"
   },
   {
    "duration": 18,
    "start_time": "2022-07-25T11:59:00.331Z"
   },
   {
    "duration": 5,
    "start_time": "2022-07-25T11:59:00.351Z"
   },
   {
    "duration": 29,
    "start_time": "2022-07-25T11:59:00.357Z"
   },
   {
    "duration": 43,
    "start_time": "2022-07-25T11:59:00.388Z"
   },
   {
    "duration": 41,
    "start_time": "2022-07-25T11:59:00.433Z"
   },
   {
    "duration": 6,
    "start_time": "2022-07-25T11:59:00.476Z"
   },
   {
    "duration": 47,
    "start_time": "2022-07-25T11:59:00.483Z"
   },
   {
    "duration": 7,
    "start_time": "2022-07-25T11:59:00.532Z"
   },
   {
    "duration": 43,
    "start_time": "2022-07-25T11:59:00.541Z"
   },
   {
    "duration": 6,
    "start_time": "2022-07-25T11:59:00.589Z"
   },
   {
    "duration": 55,
    "start_time": "2022-07-25T11:59:00.597Z"
   },
   {
    "duration": 6,
    "start_time": "2022-07-25T11:59:00.654Z"
   },
   {
    "duration": 69,
    "start_time": "2022-07-25T12:02:40.266Z"
   },
   {
    "duration": 9,
    "start_time": "2022-07-25T12:03:04.927Z"
   },
   {
    "duration": 8,
    "start_time": "2022-07-25T12:04:39.770Z"
   },
   {
    "duration": 9,
    "start_time": "2022-07-25T12:05:18.146Z"
   },
   {
    "duration": 50,
    "start_time": "2022-07-25T12:07:18.355Z"
   },
   {
    "duration": 526,
    "start_time": "2022-07-25T12:07:22.602Z"
   },
   {
    "duration": 11,
    "start_time": "2022-07-25T12:07:26.094Z"
   },
   {
    "duration": 9,
    "start_time": "2022-07-25T12:07:34.174Z"
   },
   {
    "duration": 31,
    "start_time": "2022-07-25T12:07:46.459Z"
   },
   {
    "duration": 16,
    "start_time": "2022-07-25T12:08:46.648Z"
   },
   {
    "duration": 23,
    "start_time": "2022-07-25T12:08:57.354Z"
   },
   {
    "duration": 5,
    "start_time": "2022-07-25T12:10:03.575Z"
   },
   {
    "duration": 12,
    "start_time": "2022-07-25T12:10:30.604Z"
   },
   {
    "duration": 11,
    "start_time": "2022-07-25T12:11:44.754Z"
   },
   {
    "duration": 8,
    "start_time": "2022-07-25T12:12:13.414Z"
   },
   {
    "duration": 10,
    "start_time": "2022-07-25T12:12:23.820Z"
   },
   {
    "duration": 17,
    "start_time": "2022-07-25T12:12:44.716Z"
   },
   {
    "duration": 533,
    "start_time": "2022-07-25T12:12:51.998Z"
   },
   {
    "duration": 25,
    "start_time": "2022-07-25T12:12:52.533Z"
   },
   {
    "duration": 16,
    "start_time": "2022-07-25T12:12:52.560Z"
   },
   {
    "duration": 11,
    "start_time": "2022-07-25T12:12:52.577Z"
   },
   {
    "duration": 63,
    "start_time": "2022-07-25T12:12:52.590Z"
   },
   {
    "duration": 4,
    "start_time": "2022-07-25T12:12:52.654Z"
   },
   {
    "duration": 10,
    "start_time": "2022-07-25T12:12:52.660Z"
   },
   {
    "duration": 5,
    "start_time": "2022-07-25T12:12:52.672Z"
   },
   {
    "duration": 10,
    "start_time": "2022-07-25T12:12:52.678Z"
   },
   {
    "duration": 32,
    "start_time": "2022-07-25T12:12:52.691Z"
   },
   {
    "duration": 57,
    "start_time": "2022-07-25T12:12:52.726Z"
   },
   {
    "duration": 9,
    "start_time": "2022-07-25T12:12:52.785Z"
   },
   {
    "duration": 26,
    "start_time": "2022-07-25T12:12:52.796Z"
   },
   {
    "duration": 19,
    "start_time": "2022-07-25T12:12:52.825Z"
   },
   {
    "duration": 18,
    "start_time": "2022-07-25T12:12:52.846Z"
   },
   {
    "duration": 76,
    "start_time": "2022-07-25T12:12:52.866Z"
   },
   {
    "duration": 5,
    "start_time": "2022-07-25T12:12:52.944Z"
   },
   {
    "duration": 16,
    "start_time": "2022-07-25T12:12:52.951Z"
   },
   {
    "duration": 10,
    "start_time": "2022-07-25T12:12:52.969Z"
   },
   {
    "duration": 5,
    "start_time": "2022-07-25T12:12:52.981Z"
   },
   {
    "duration": 40,
    "start_time": "2022-07-25T12:12:52.988Z"
   },
   {
    "duration": 29,
    "start_time": "2022-07-25T12:12:53.029Z"
   },
   {
    "duration": 44,
    "start_time": "2022-07-25T12:12:53.060Z"
   },
   {
    "duration": 17,
    "start_time": "2022-07-25T12:12:53.106Z"
   },
   {
    "duration": 30,
    "start_time": "2022-07-25T12:12:53.125Z"
   },
   {
    "duration": 7,
    "start_time": "2022-07-25T12:12:53.157Z"
   },
   {
    "duration": 56,
    "start_time": "2022-07-25T12:12:53.166Z"
   },
   {
    "duration": 8,
    "start_time": "2022-07-25T12:12:53.227Z"
   },
   {
    "duration": 44,
    "start_time": "2022-07-25T12:12:53.237Z"
   },
   {
    "duration": 7,
    "start_time": "2022-07-25T12:12:53.283Z"
   },
   {
    "duration": 555,
    "start_time": "2022-07-26T09:14:36.844Z"
   },
   {
    "duration": 20,
    "start_time": "2022-07-26T09:14:37.401Z"
   },
   {
    "duration": 14,
    "start_time": "2022-07-26T09:14:37.422Z"
   },
   {
    "duration": 8,
    "start_time": "2022-07-26T09:14:37.438Z"
   },
   {
    "duration": 36,
    "start_time": "2022-07-26T09:14:37.448Z"
   },
   {
    "duration": 3,
    "start_time": "2022-07-26T09:14:37.486Z"
   },
   {
    "duration": 10,
    "start_time": "2022-07-26T09:14:37.490Z"
   },
   {
    "duration": 3,
    "start_time": "2022-07-26T09:14:37.502Z"
   },
   {
    "duration": 6,
    "start_time": "2022-07-26T09:14:37.507Z"
   },
   {
    "duration": 4,
    "start_time": "2022-07-26T09:14:37.517Z"
   },
   {
    "duration": 58,
    "start_time": "2022-07-26T09:14:37.522Z"
   },
   {
    "duration": 12,
    "start_time": "2022-07-26T09:14:37.581Z"
   },
   {
    "duration": 4,
    "start_time": "2022-07-26T09:14:37.595Z"
   },
   {
    "duration": 18,
    "start_time": "2022-07-26T09:14:37.600Z"
   },
   {
    "duration": 47,
    "start_time": "2022-07-26T09:14:37.619Z"
   },
   {
    "duration": 37,
    "start_time": "2022-07-26T09:14:37.668Z"
   },
   {
    "duration": 3,
    "start_time": "2022-07-26T09:14:37.707Z"
   },
   {
    "duration": 11,
    "start_time": "2022-07-26T09:14:37.712Z"
   },
   {
    "duration": 6,
    "start_time": "2022-07-26T09:14:37.724Z"
   },
   {
    "duration": 3,
    "start_time": "2022-07-26T09:14:37.732Z"
   },
   {
    "duration": 18,
    "start_time": "2022-07-26T09:14:37.752Z"
   },
   {
    "duration": 20,
    "start_time": "2022-07-26T09:14:37.772Z"
   },
   {
    "duration": 28,
    "start_time": "2022-07-26T09:14:37.793Z"
   },
   {
    "duration": 5,
    "start_time": "2022-07-26T09:14:37.823Z"
   },
   {
    "duration": 28,
    "start_time": "2022-07-26T09:14:37.859Z"
   },
   {
    "duration": 7,
    "start_time": "2022-07-26T09:14:37.889Z"
   },
   {
    "duration": 29,
    "start_time": "2022-07-26T09:14:37.897Z"
   },
   {
    "duration": 5,
    "start_time": "2022-07-26T09:14:37.929Z"
   },
   {
    "duration": 44,
    "start_time": "2022-07-26T09:14:37.935Z"
   },
   {
    "duration": 5,
    "start_time": "2022-07-26T09:14:37.980Z"
   },
   {
    "duration": 1060,
    "start_time": "2022-07-26T09:18:01.770Z"
   },
   {
    "duration": 28,
    "start_time": "2022-07-26T09:19:02.405Z"
   },
   {
    "duration": 14,
    "start_time": "2022-07-26T09:41:05.107Z"
   },
   {
    "duration": 13,
    "start_time": "2022-07-26T09:41:35.398Z"
   },
   {
    "duration": 12,
    "start_time": "2022-07-26T09:41:43.751Z"
   },
   {
    "duration": 19,
    "start_time": "2022-07-26T09:42:23.651Z"
   },
   {
    "duration": 8,
    "start_time": "2022-07-26T09:42:40.763Z"
   },
   {
    "duration": 13,
    "start_time": "2022-07-26T09:45:06.358Z"
   },
   {
    "duration": 5,
    "start_time": "2022-07-26T09:45:41.142Z"
   },
   {
    "duration": 6,
    "start_time": "2022-07-26T09:47:00.994Z"
   },
   {
    "duration": 3,
    "start_time": "2022-07-26T09:47:14.131Z"
   },
   {
    "duration": 33,
    "start_time": "2022-07-26T09:50:36.264Z"
   },
   {
    "duration": 35,
    "start_time": "2022-07-26T09:50:54.563Z"
   },
   {
    "duration": 9,
    "start_time": "2022-07-26T09:57:28.429Z"
   },
   {
    "duration": 32,
    "start_time": "2022-07-26T09:57:32.635Z"
   },
   {
    "duration": 5,
    "start_time": "2022-07-26T09:58:40.068Z"
   },
   {
    "duration": 9,
    "start_time": "2022-07-26T09:58:49.968Z"
   },
   {
    "duration": 6,
    "start_time": "2022-07-26T09:59:24.193Z"
   },
   {
    "duration": 5,
    "start_time": "2022-07-26T10:01:20.833Z"
   },
   {
    "duration": 8,
    "start_time": "2022-07-26T10:08:43.169Z"
   },
   {
    "duration": 13,
    "start_time": "2022-07-26T10:08:47.844Z"
   },
   {
    "duration": 5,
    "start_time": "2022-07-26T10:08:53.073Z"
   },
   {
    "duration": 24,
    "start_time": "2022-07-26T10:53:57.313Z"
   },
   {
    "duration": 7,
    "start_time": "2022-07-26T10:54:05.225Z"
   },
   {
    "duration": 76,
    "start_time": "2022-07-26T10:55:34.382Z"
   },
   {
    "duration": 603,
    "start_time": "2022-07-26T10:55:42.920Z"
   },
   {
    "duration": 7,
    "start_time": "2022-07-26T10:55:57.538Z"
   },
   {
    "duration": 9,
    "start_time": "2022-07-26T10:56:20.413Z"
   },
   {
    "duration": 199,
    "start_time": "2022-07-26T10:56:30.508Z"
   },
   {
    "duration": 5,
    "start_time": "2022-07-26T11:07:44.840Z"
   },
   {
    "duration": 93,
    "start_time": "2022-07-26T11:09:41.807Z"
   },
   {
    "duration": 26,
    "start_time": "2022-07-26T11:09:46.428Z"
   },
   {
    "duration": 207,
    "start_time": "2022-07-26T11:10:03.162Z"
   },
   {
    "duration": 78,
    "start_time": "2022-07-26T11:11:02.769Z"
   },
   {
    "duration": 81,
    "start_time": "2022-07-26T11:11:22.710Z"
   },
   {
    "duration": 443,
    "start_time": "2022-07-26T11:12:06.272Z"
   },
   {
    "duration": 19,
    "start_time": "2022-07-26T11:12:06.717Z"
   },
   {
    "duration": 12,
    "start_time": "2022-07-26T11:12:06.738Z"
   },
   {
    "duration": 8,
    "start_time": "2022-07-26T11:12:06.751Z"
   },
   {
    "duration": 29,
    "start_time": "2022-07-26T11:12:06.761Z"
   },
   {
    "duration": 3,
    "start_time": "2022-07-26T11:12:06.791Z"
   },
   {
    "duration": 9,
    "start_time": "2022-07-26T11:12:06.796Z"
   },
   {
    "duration": 4,
    "start_time": "2022-07-26T11:12:06.806Z"
   },
   {
    "duration": 9,
    "start_time": "2022-07-26T11:12:06.811Z"
   },
   {
    "duration": 32,
    "start_time": "2022-07-26T11:12:06.822Z"
   },
   {
    "duration": 33,
    "start_time": "2022-07-26T11:12:06.855Z"
   },
   {
    "duration": 9,
    "start_time": "2022-07-26T11:12:06.889Z"
   },
   {
    "duration": 4,
    "start_time": "2022-07-26T11:12:06.899Z"
   },
   {
    "duration": 18,
    "start_time": "2022-07-26T11:12:06.905Z"
   },
   {
    "duration": 37,
    "start_time": "2022-07-26T11:12:06.924Z"
   },
   {
    "duration": 37,
    "start_time": "2022-07-26T11:12:06.962Z"
   },
   {
    "duration": 3,
    "start_time": "2022-07-26T11:12:07.000Z"
   },
   {
    "duration": 15,
    "start_time": "2022-07-26T11:12:07.004Z"
   },
   {
    "duration": 4,
    "start_time": "2022-07-26T11:12:07.021Z"
   },
   {
    "duration": 4,
    "start_time": "2022-07-26T11:12:07.027Z"
   },
   {
    "duration": 27,
    "start_time": "2022-07-26T11:12:07.032Z"
   },
   {
    "duration": 20,
    "start_time": "2022-07-26T11:12:07.060Z"
   },
   {
    "duration": 27,
    "start_time": "2022-07-26T11:12:07.081Z"
   },
   {
    "duration": 5,
    "start_time": "2022-07-26T11:12:07.110Z"
   },
   {
    "duration": 6,
    "start_time": "2022-07-26T11:12:07.117Z"
   },
   {
    "duration": 11,
    "start_time": "2022-07-26T11:12:07.152Z"
   },
   {
    "duration": 8,
    "start_time": "2022-07-26T11:12:07.164Z"
   },
   {
    "duration": 33,
    "start_time": "2022-07-26T11:12:07.174Z"
   },
   {
    "duration": 5,
    "start_time": "2022-07-26T11:12:07.208Z"
   },
   {
    "duration": 40,
    "start_time": "2022-07-26T11:12:07.214Z"
   },
   {
    "duration": 5,
    "start_time": "2022-07-26T11:12:07.256Z"
   },
   {
    "duration": 29,
    "start_time": "2022-07-26T11:12:07.262Z"
   },
   {
    "duration": 5,
    "start_time": "2022-07-26T11:12:07.293Z"
   },
   {
    "duration": 70,
    "start_time": "2022-07-26T11:12:07.299Z"
   },
   {
    "duration": 440,
    "start_time": "2022-07-26T11:32:25.399Z"
   },
   {
    "duration": 23,
    "start_time": "2022-07-26T11:32:25.841Z"
   },
   {
    "duration": 15,
    "start_time": "2022-07-26T11:32:25.865Z"
   },
   {
    "duration": 9,
    "start_time": "2022-07-26T11:32:25.882Z"
   },
   {
    "duration": 33,
    "start_time": "2022-07-26T11:32:25.892Z"
   },
   {
    "duration": 3,
    "start_time": "2022-07-26T11:32:25.927Z"
   },
   {
    "duration": 8,
    "start_time": "2022-07-26T11:32:25.951Z"
   },
   {
    "duration": 11,
    "start_time": "2022-07-26T11:32:25.960Z"
   },
   {
    "duration": 7,
    "start_time": "2022-07-26T11:32:25.972Z"
   },
   {
    "duration": 4,
    "start_time": "2022-07-26T11:32:25.982Z"
   },
   {
    "duration": 41,
    "start_time": "2022-07-26T11:32:25.987Z"
   },
   {
    "duration": 31,
    "start_time": "2022-07-26T11:32:26.031Z"
   },
   {
    "duration": 8,
    "start_time": "2022-07-26T11:32:26.065Z"
   },
   {
    "duration": 26,
    "start_time": "2022-07-26T11:32:26.075Z"
   },
   {
    "duration": 22,
    "start_time": "2022-07-26T11:32:26.104Z"
   },
   {
    "duration": 77,
    "start_time": "2022-07-26T11:32:26.128Z"
   },
   {
    "duration": 5,
    "start_time": "2022-07-26T11:32:26.208Z"
   },
   {
    "duration": 19,
    "start_time": "2022-07-26T11:32:26.215Z"
   },
   {
    "duration": 17,
    "start_time": "2022-07-26T11:32:26.236Z"
   },
   {
    "duration": 3,
    "start_time": "2022-07-26T11:32:26.254Z"
   },
   {
    "duration": 11,
    "start_time": "2022-07-26T11:32:26.258Z"
   },
   {
    "duration": 19,
    "start_time": "2022-07-26T11:32:26.271Z"
   },
   {
    "duration": 27,
    "start_time": "2022-07-26T11:32:26.291Z"
   },
   {
    "duration": 38,
    "start_time": "2022-07-26T11:32:26.319Z"
   },
   {
    "duration": 11,
    "start_time": "2022-07-26T11:32:26.359Z"
   },
   {
    "duration": 22,
    "start_time": "2022-07-26T11:32:26.372Z"
   },
   {
    "duration": 7,
    "start_time": "2022-07-26T11:32:26.396Z"
   },
   {
    "duration": 34,
    "start_time": "2022-07-26T11:32:26.405Z"
   },
   {
    "duration": 5,
    "start_time": "2022-07-26T11:32:26.441Z"
   },
   {
    "duration": 31,
    "start_time": "2022-07-26T11:32:26.454Z"
   },
   {
    "duration": 5,
    "start_time": "2022-07-26T11:32:26.487Z"
   },
   {
    "duration": 31,
    "start_time": "2022-07-26T11:32:26.494Z"
   },
   {
    "duration": 5,
    "start_time": "2022-07-26T11:32:26.527Z"
   },
   {
    "duration": 21874,
    "start_time": "2022-07-26T11:32:26.553Z"
   },
   {
    "duration": 24,
    "start_time": "2022-07-26T11:32:48.429Z"
   },
   {
    "duration": 70,
    "start_time": "2022-07-26T11:35:29.293Z"
   },
   {
    "duration": 12,
    "start_time": "2022-07-26T11:35:41.922Z"
   },
   {
    "duration": 8,
    "start_time": "2022-07-26T11:35:57.703Z"
   },
   {
    "duration": 7,
    "start_time": "2022-07-26T11:36:33.459Z"
   },
   {
    "duration": 28,
    "start_time": "2022-07-26T11:36:58.012Z"
   },
   {
    "duration": 1478,
    "start_time": "2022-07-26T11:37:48.445Z"
   },
   {
    "duration": 1468,
    "start_time": "2022-07-26T11:38:00.774Z"
   },
   {
    "duration": 11,
    "start_time": "2022-07-26T11:38:46.018Z"
   },
   {
    "duration": 6,
    "start_time": "2022-07-26T11:38:54.959Z"
   },
   {
    "duration": 178,
    "start_time": "2022-07-26T11:39:34.140Z"
   },
   {
    "duration": 26,
    "start_time": "2022-07-26T11:40:01.735Z"
   },
   {
    "duration": 3,
    "start_time": "2022-07-26T11:41:20.543Z"
   },
   {
    "duration": 34,
    "start_time": "2022-07-26T11:41:29.054Z"
   },
   {
    "duration": 27,
    "start_time": "2022-07-26T11:41:50.196Z"
   },
   {
    "duration": 32,
    "start_time": "2022-07-26T11:42:08.907Z"
   },
   {
    "duration": 10,
    "start_time": "2022-07-26T13:15:37.691Z"
   },
   {
    "duration": 8,
    "start_time": "2022-07-26T13:16:46.017Z"
   },
   {
    "duration": 6,
    "start_time": "2022-07-26T13:41:27.178Z"
   },
   {
    "duration": 700,
    "start_time": "2022-07-26T17:03:00.469Z"
   },
   {
    "duration": 21,
    "start_time": "2022-07-26T17:03:01.171Z"
   },
   {
    "duration": 25,
    "start_time": "2022-07-26T17:03:01.194Z"
   },
   {
    "duration": 19,
    "start_time": "2022-07-26T17:03:01.221Z"
   },
   {
    "duration": 39,
    "start_time": "2022-07-26T17:03:01.242Z"
   },
   {
    "duration": 3,
    "start_time": "2022-07-26T17:03:01.283Z"
   },
   {
    "duration": 35,
    "start_time": "2022-07-26T17:03:01.287Z"
   },
   {
    "duration": 14,
    "start_time": "2022-07-26T17:03:01.324Z"
   },
   {
    "duration": 32,
    "start_time": "2022-07-26T17:03:01.339Z"
   },
   {
    "duration": 6,
    "start_time": "2022-07-26T17:03:01.373Z"
   },
   {
    "duration": 37,
    "start_time": "2022-07-26T17:03:01.381Z"
   },
   {
    "duration": 11,
    "start_time": "2022-07-26T17:03:01.420Z"
   },
   {
    "duration": 32,
    "start_time": "2022-07-26T17:03:01.433Z"
   },
   {
    "duration": 26,
    "start_time": "2022-07-26T17:03:01.467Z"
   },
   {
    "duration": 31,
    "start_time": "2022-07-26T17:03:01.495Z"
   },
   {
    "duration": 43,
    "start_time": "2022-07-26T17:03:01.527Z"
   },
   {
    "duration": 4,
    "start_time": "2022-07-26T17:03:01.572Z"
   },
   {
    "duration": 31,
    "start_time": "2022-07-26T17:03:01.577Z"
   },
   {
    "duration": 44,
    "start_time": "2022-07-26T17:03:01.610Z"
   },
   {
    "duration": 24,
    "start_time": "2022-07-26T17:03:01.656Z"
   },
   {
    "duration": 49,
    "start_time": "2022-07-26T17:03:01.682Z"
   },
   {
    "duration": 42,
    "start_time": "2022-07-26T17:03:01.733Z"
   },
   {
    "duration": 79,
    "start_time": "2022-07-26T17:03:01.778Z"
   },
   {
    "duration": 10,
    "start_time": "2022-07-26T17:03:01.859Z"
   },
   {
    "duration": 38,
    "start_time": "2022-07-26T17:03:01.871Z"
   },
   {
    "duration": 17,
    "start_time": "2022-07-26T17:03:01.911Z"
   },
   {
    "duration": 23,
    "start_time": "2022-07-26T17:03:01.930Z"
   },
   {
    "duration": 87,
    "start_time": "2022-07-26T17:03:01.956Z"
   },
   {
    "duration": 6,
    "start_time": "2022-07-26T17:03:02.044Z"
   },
   {
    "duration": 32,
    "start_time": "2022-07-26T17:03:02.051Z"
   },
   {
    "duration": 6,
    "start_time": "2022-07-26T17:03:02.084Z"
   },
   {
    "duration": 15,
    "start_time": "2022-07-26T17:03:02.091Z"
   },
   {
    "duration": 8,
    "start_time": "2022-07-26T17:03:02.108Z"
   },
   {
    "duration": 30,
    "start_time": "2022-07-26T17:03:02.117Z"
   },
   {
    "duration": 13,
    "start_time": "2022-07-26T17:03:02.149Z"
   },
   {
    "duration": 28,
    "start_time": "2022-07-26T17:11:43.277Z"
   },
   {
    "duration": 28,
    "start_time": "2022-07-26T17:11:47.966Z"
   },
   {
    "duration": 83,
    "start_time": "2022-07-26T17:12:16.912Z"
   },
   {
    "duration": 32,
    "start_time": "2022-07-26T17:12:24.807Z"
   },
   {
    "duration": 29,
    "start_time": "2022-07-26T17:12:30.852Z"
   },
   {
    "duration": 31,
    "start_time": "2022-07-26T17:12:33.459Z"
   },
   {
    "duration": 29,
    "start_time": "2022-07-26T17:12:35.852Z"
   },
   {
    "duration": 30,
    "start_time": "2022-07-26T17:12:37.694Z"
   },
   {
    "duration": 27,
    "start_time": "2022-07-26T17:12:48.876Z"
   },
   {
    "duration": 28,
    "start_time": "2022-07-26T17:12:52.559Z"
   },
   {
    "duration": 28,
    "start_time": "2022-07-26T17:12:59.213Z"
   },
   {
    "duration": 27,
    "start_time": "2022-07-26T17:13:08.712Z"
   },
   {
    "duration": 7,
    "start_time": "2022-07-26T17:13:14.261Z"
   },
   {
    "duration": 1813,
    "start_time": "2022-07-26T17:13:40.980Z"
   },
   {
    "duration": 1427,
    "start_time": "2022-07-26T17:13:53.819Z"
   },
   {
    "duration": 28,
    "start_time": "2022-07-26T17:13:59.097Z"
   },
   {
    "duration": 9,
    "start_time": "2022-07-26T17:13:59.362Z"
   },
   {
    "duration": 203,
    "start_time": "2022-07-26T17:14:05.524Z"
   },
   {
    "duration": 123,
    "start_time": "2022-07-26T17:14:23.486Z"
   },
   {
    "duration": 123,
    "start_time": "2022-07-26T17:14:28.508Z"
   },
   {
    "duration": 30,
    "start_time": "2022-07-26T17:14:49.440Z"
   },
   {
    "duration": 127,
    "start_time": "2022-07-26T17:14:53.148Z"
   },
   {
    "duration": 617,
    "start_time": "2022-07-26T19:23:02.413Z"
   },
   {
    "duration": 23,
    "start_time": "2022-07-26T19:23:03.031Z"
   },
   {
    "duration": 34,
    "start_time": "2022-07-26T19:23:03.055Z"
   },
   {
    "duration": 21,
    "start_time": "2022-07-26T19:23:03.091Z"
   },
   {
    "duration": 51,
    "start_time": "2022-07-26T19:23:03.114Z"
   },
   {
    "duration": 4,
    "start_time": "2022-07-26T19:23:03.166Z"
   },
   {
    "duration": 23,
    "start_time": "2022-07-26T19:23:03.171Z"
   },
   {
    "duration": 6,
    "start_time": "2022-07-26T19:23:03.195Z"
   },
   {
    "duration": 12,
    "start_time": "2022-07-26T19:23:03.203Z"
   },
   {
    "duration": 8,
    "start_time": "2022-07-26T19:23:03.217Z"
   },
   {
    "duration": 43,
    "start_time": "2022-07-26T19:23:03.227Z"
   },
   {
    "duration": 9,
    "start_time": "2022-07-26T19:23:03.271Z"
   },
   {
    "duration": 14,
    "start_time": "2022-07-26T19:23:03.282Z"
   },
   {
    "duration": 42,
    "start_time": "2022-07-26T19:23:03.298Z"
   },
   {
    "duration": 16,
    "start_time": "2022-07-26T19:23:03.341Z"
   },
   {
    "duration": 40,
    "start_time": "2022-07-26T19:23:03.358Z"
   },
   {
    "duration": 4,
    "start_time": "2022-07-26T19:23:03.400Z"
   },
   {
    "duration": 26,
    "start_time": "2022-07-26T19:23:03.405Z"
   },
   {
    "duration": 35,
    "start_time": "2022-07-26T19:23:03.432Z"
   },
   {
    "duration": 8,
    "start_time": "2022-07-26T19:23:03.468Z"
   },
   {
    "duration": 33,
    "start_time": "2022-07-26T19:23:03.477Z"
   },
   {
    "duration": 24,
    "start_time": "2022-07-26T19:23:03.512Z"
   },
   {
    "duration": 39,
    "start_time": "2022-07-26T19:23:03.537Z"
   },
   {
    "duration": 5,
    "start_time": "2022-07-26T19:23:03.578Z"
   },
   {
    "duration": 7,
    "start_time": "2022-07-26T19:23:03.584Z"
   },
   {
    "duration": 18,
    "start_time": "2022-07-26T19:23:03.593Z"
   },
   {
    "duration": 24,
    "start_time": "2022-07-26T19:23:03.613Z"
   },
   {
    "duration": 42,
    "start_time": "2022-07-26T19:23:03.638Z"
   },
   {
    "duration": 6,
    "start_time": "2022-07-26T19:23:03.682Z"
   },
   {
    "duration": 38,
    "start_time": "2022-07-26T19:23:03.689Z"
   },
   {
    "duration": 6,
    "start_time": "2022-07-26T19:23:03.728Z"
   },
   {
    "duration": 18,
    "start_time": "2022-07-26T19:23:03.735Z"
   },
   {
    "duration": 19,
    "start_time": "2022-07-26T19:23:03.755Z"
   },
   {
    "duration": 59,
    "start_time": "2022-07-26T19:23:03.776Z"
   },
   {
    "duration": 6,
    "start_time": "2022-07-26T19:23:03.836Z"
   },
   {
    "duration": 43,
    "start_time": "2022-07-26T19:23:03.843Z"
   },
   {
    "duration": 376,
    "start_time": "2022-07-26T19:23:03.888Z"
   }
  ],
  "colab": {
   "name": "dpp_template_part2.ipynb",
   "provenance": []
  },
  "kernelspec": {
   "display_name": "Python 3 (ipykernel)",
   "language": "python",
   "name": "python3"
  },
  "language_info": {
   "codemirror_mode": {
    "name": "ipython",
    "version": 3
   },
   "file_extension": ".py",
   "mimetype": "text/x-python",
   "name": "python",
   "nbconvert_exporter": "python",
   "pygments_lexer": "ipython3",
   "version": "3.8.9"
  },
  "toc": {
   "base_numbering": 1,
   "nav_menu": {},
   "number_sections": true,
   "sideBar": true,
   "skip_h1_title": true,
   "title_cell": "Table of Contents",
   "title_sidebar": "Contents",
   "toc_cell": false,
   "toc_position": {},
   "toc_section_display": true,
   "toc_window_display": false
  }
 },
 "nbformat": 4,
 "nbformat_minor": 5
}
