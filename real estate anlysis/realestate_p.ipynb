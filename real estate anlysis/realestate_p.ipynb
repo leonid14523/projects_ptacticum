{
 "cells": [
  {
   "cell_type": "markdown",
   "metadata": {},
   "source": [
    "# Исследование объявлений о продаже квартир\n",
    "\n",
    "В вашем распоряжении данные сервиса Яндекс.Недвижимость — архив объявлений о продаже квартир в Санкт-Петербурге и соседних населённых пунктов за несколько лет. Нужно научиться определять рыночную стоимость объектов недвижимости. Ваша задача — установить параметры. Это позволит построить автоматизированную систему: она отследит аномалии и мошенническую деятельность. \n",
    "\n",
    "По каждой квартире на продажу доступны два вида данных. Первые вписаны пользователем, вторые — получены автоматически на основе картографических данных. Например, расстояние до центра, аэропорта, ближайшего парка и водоёма. "
   ]
  },
  {
   "cell_type": "markdown",
   "metadata": {},
   "source": [
    "### Откройте файл с данными и изучите общую информацию. "
   ]
  },
  {
   "cell_type": "code",
   "execution_count": 1,
   "metadata": {
    "scrolled": false
   },
   "outputs": [
    {
     "data": {
      "text/html": [
       "<div>\n",
       "<style scoped>\n",
       "    .dataframe tbody tr th:only-of-type {\n",
       "        vertical-align: middle;\n",
       "    }\n",
       "\n",
       "    .dataframe tbody tr th {\n",
       "        vertical-align: top;\n",
       "    }\n",
       "\n",
       "    .dataframe thead th {\n",
       "        text-align: right;\n",
       "    }\n",
       "</style>\n",
       "<table border=\"1\" class=\"dataframe\">\n",
       "  <thead>\n",
       "    <tr style=\"text-align: right;\">\n",
       "      <th></th>\n",
       "      <th>total_images</th>\n",
       "      <th>last_price</th>\n",
       "      <th>total_area</th>\n",
       "      <th>first_day_exposition</th>\n",
       "      <th>rooms</th>\n",
       "      <th>ceiling_height</th>\n",
       "      <th>floors_total</th>\n",
       "      <th>living_area</th>\n",
       "      <th>floor</th>\n",
       "      <th>is_apartment</th>\n",
       "      <th>...</th>\n",
       "      <th>kitchen_area</th>\n",
       "      <th>balcony</th>\n",
       "      <th>locality_name</th>\n",
       "      <th>airports_nearest</th>\n",
       "      <th>cityCenters_nearest</th>\n",
       "      <th>parks_around3000</th>\n",
       "      <th>parks_nearest</th>\n",
       "      <th>ponds_around3000</th>\n",
       "      <th>ponds_nearest</th>\n",
       "      <th>days_exposition</th>\n",
       "    </tr>\n",
       "  </thead>\n",
       "  <tbody>\n",
       "    <tr>\n",
       "      <th>0</th>\n",
       "      <td>20</td>\n",
       "      <td>13000000.0</td>\n",
       "      <td>108.00</td>\n",
       "      <td>2019-03-07T00:00:00</td>\n",
       "      <td>3</td>\n",
       "      <td>2.70</td>\n",
       "      <td>16.0</td>\n",
       "      <td>51.00</td>\n",
       "      <td>8</td>\n",
       "      <td>NaN</td>\n",
       "      <td>...</td>\n",
       "      <td>25.00</td>\n",
       "      <td>NaN</td>\n",
       "      <td>Санкт-Петербург</td>\n",
       "      <td>18863.0</td>\n",
       "      <td>16028.0</td>\n",
       "      <td>1.0</td>\n",
       "      <td>482.0</td>\n",
       "      <td>2.0</td>\n",
       "      <td>755.0</td>\n",
       "      <td>NaN</td>\n",
       "    </tr>\n",
       "    <tr>\n",
       "      <th>1</th>\n",
       "      <td>7</td>\n",
       "      <td>3350000.0</td>\n",
       "      <td>40.40</td>\n",
       "      <td>2018-12-04T00:00:00</td>\n",
       "      <td>1</td>\n",
       "      <td>NaN</td>\n",
       "      <td>11.0</td>\n",
       "      <td>18.60</td>\n",
       "      <td>1</td>\n",
       "      <td>NaN</td>\n",
       "      <td>...</td>\n",
       "      <td>11.00</td>\n",
       "      <td>2.0</td>\n",
       "      <td>посёлок Шушары</td>\n",
       "      <td>12817.0</td>\n",
       "      <td>18603.0</td>\n",
       "      <td>0.0</td>\n",
       "      <td>NaN</td>\n",
       "      <td>0.0</td>\n",
       "      <td>NaN</td>\n",
       "      <td>81.0</td>\n",
       "    </tr>\n",
       "    <tr>\n",
       "      <th>2</th>\n",
       "      <td>10</td>\n",
       "      <td>5196000.0</td>\n",
       "      <td>56.00</td>\n",
       "      <td>2015-08-20T00:00:00</td>\n",
       "      <td>2</td>\n",
       "      <td>NaN</td>\n",
       "      <td>5.0</td>\n",
       "      <td>34.30</td>\n",
       "      <td>4</td>\n",
       "      <td>NaN</td>\n",
       "      <td>...</td>\n",
       "      <td>8.30</td>\n",
       "      <td>0.0</td>\n",
       "      <td>Санкт-Петербург</td>\n",
       "      <td>21741.0</td>\n",
       "      <td>13933.0</td>\n",
       "      <td>1.0</td>\n",
       "      <td>90.0</td>\n",
       "      <td>2.0</td>\n",
       "      <td>574.0</td>\n",
       "      <td>558.0</td>\n",
       "    </tr>\n",
       "    <tr>\n",
       "      <th>3</th>\n",
       "      <td>0</td>\n",
       "      <td>64900000.0</td>\n",
       "      <td>159.00</td>\n",
       "      <td>2015-07-24T00:00:00</td>\n",
       "      <td>3</td>\n",
       "      <td>NaN</td>\n",
       "      <td>14.0</td>\n",
       "      <td>NaN</td>\n",
       "      <td>9</td>\n",
       "      <td>NaN</td>\n",
       "      <td>...</td>\n",
       "      <td>NaN</td>\n",
       "      <td>0.0</td>\n",
       "      <td>Санкт-Петербург</td>\n",
       "      <td>28098.0</td>\n",
       "      <td>6800.0</td>\n",
       "      <td>2.0</td>\n",
       "      <td>84.0</td>\n",
       "      <td>3.0</td>\n",
       "      <td>234.0</td>\n",
       "      <td>424.0</td>\n",
       "    </tr>\n",
       "    <tr>\n",
       "      <th>4</th>\n",
       "      <td>2</td>\n",
       "      <td>10000000.0</td>\n",
       "      <td>100.00</td>\n",
       "      <td>2018-06-19T00:00:00</td>\n",
       "      <td>2</td>\n",
       "      <td>3.03</td>\n",
       "      <td>14.0</td>\n",
       "      <td>32.00</td>\n",
       "      <td>13</td>\n",
       "      <td>NaN</td>\n",
       "      <td>...</td>\n",
       "      <td>41.00</td>\n",
       "      <td>NaN</td>\n",
       "      <td>Санкт-Петербург</td>\n",
       "      <td>31856.0</td>\n",
       "      <td>8098.0</td>\n",
       "      <td>2.0</td>\n",
       "      <td>112.0</td>\n",
       "      <td>1.0</td>\n",
       "      <td>48.0</td>\n",
       "      <td>121.0</td>\n",
       "    </tr>\n",
       "    <tr>\n",
       "      <th>5</th>\n",
       "      <td>10</td>\n",
       "      <td>2890000.0</td>\n",
       "      <td>30.40</td>\n",
       "      <td>2018-09-10T00:00:00</td>\n",
       "      <td>1</td>\n",
       "      <td>NaN</td>\n",
       "      <td>12.0</td>\n",
       "      <td>14.40</td>\n",
       "      <td>5</td>\n",
       "      <td>NaN</td>\n",
       "      <td>...</td>\n",
       "      <td>9.10</td>\n",
       "      <td>NaN</td>\n",
       "      <td>городской посёлок Янино-1</td>\n",
       "      <td>NaN</td>\n",
       "      <td>NaN</td>\n",
       "      <td>NaN</td>\n",
       "      <td>NaN</td>\n",
       "      <td>NaN</td>\n",
       "      <td>NaN</td>\n",
       "      <td>55.0</td>\n",
       "    </tr>\n",
       "    <tr>\n",
       "      <th>6</th>\n",
       "      <td>6</td>\n",
       "      <td>3700000.0</td>\n",
       "      <td>37.30</td>\n",
       "      <td>2017-11-02T00:00:00</td>\n",
       "      <td>1</td>\n",
       "      <td>NaN</td>\n",
       "      <td>26.0</td>\n",
       "      <td>10.60</td>\n",
       "      <td>6</td>\n",
       "      <td>NaN</td>\n",
       "      <td>...</td>\n",
       "      <td>14.40</td>\n",
       "      <td>1.0</td>\n",
       "      <td>посёлок Парголово</td>\n",
       "      <td>52996.0</td>\n",
       "      <td>19143.0</td>\n",
       "      <td>0.0</td>\n",
       "      <td>NaN</td>\n",
       "      <td>0.0</td>\n",
       "      <td>NaN</td>\n",
       "      <td>155.0</td>\n",
       "    </tr>\n",
       "    <tr>\n",
       "      <th>7</th>\n",
       "      <td>5</td>\n",
       "      <td>7915000.0</td>\n",
       "      <td>71.60</td>\n",
       "      <td>2019-04-18T00:00:00</td>\n",
       "      <td>2</td>\n",
       "      <td>NaN</td>\n",
       "      <td>24.0</td>\n",
       "      <td>NaN</td>\n",
       "      <td>22</td>\n",
       "      <td>NaN</td>\n",
       "      <td>...</td>\n",
       "      <td>18.90</td>\n",
       "      <td>2.0</td>\n",
       "      <td>Санкт-Петербург</td>\n",
       "      <td>23982.0</td>\n",
       "      <td>11634.0</td>\n",
       "      <td>0.0</td>\n",
       "      <td>NaN</td>\n",
       "      <td>0.0</td>\n",
       "      <td>NaN</td>\n",
       "      <td>NaN</td>\n",
       "    </tr>\n",
       "    <tr>\n",
       "      <th>8</th>\n",
       "      <td>20</td>\n",
       "      <td>2900000.0</td>\n",
       "      <td>33.16</td>\n",
       "      <td>2018-05-23T00:00:00</td>\n",
       "      <td>1</td>\n",
       "      <td>NaN</td>\n",
       "      <td>27.0</td>\n",
       "      <td>15.43</td>\n",
       "      <td>26</td>\n",
       "      <td>NaN</td>\n",
       "      <td>...</td>\n",
       "      <td>8.81</td>\n",
       "      <td>NaN</td>\n",
       "      <td>посёлок Мурино</td>\n",
       "      <td>NaN</td>\n",
       "      <td>NaN</td>\n",
       "      <td>NaN</td>\n",
       "      <td>NaN</td>\n",
       "      <td>NaN</td>\n",
       "      <td>NaN</td>\n",
       "      <td>189.0</td>\n",
       "    </tr>\n",
       "    <tr>\n",
       "      <th>9</th>\n",
       "      <td>18</td>\n",
       "      <td>5400000.0</td>\n",
       "      <td>61.00</td>\n",
       "      <td>2017-02-26T00:00:00</td>\n",
       "      <td>3</td>\n",
       "      <td>2.50</td>\n",
       "      <td>9.0</td>\n",
       "      <td>43.60</td>\n",
       "      <td>7</td>\n",
       "      <td>NaN</td>\n",
       "      <td>...</td>\n",
       "      <td>6.50</td>\n",
       "      <td>2.0</td>\n",
       "      <td>Санкт-Петербург</td>\n",
       "      <td>50898.0</td>\n",
       "      <td>15008.0</td>\n",
       "      <td>0.0</td>\n",
       "      <td>NaN</td>\n",
       "      <td>0.0</td>\n",
       "      <td>NaN</td>\n",
       "      <td>289.0</td>\n",
       "    </tr>\n",
       "    <tr>\n",
       "      <th>10</th>\n",
       "      <td>5</td>\n",
       "      <td>5050000.0</td>\n",
       "      <td>39.60</td>\n",
       "      <td>2017-11-16T00:00:00</td>\n",
       "      <td>1</td>\n",
       "      <td>2.67</td>\n",
       "      <td>12.0</td>\n",
       "      <td>20.30</td>\n",
       "      <td>3</td>\n",
       "      <td>NaN</td>\n",
       "      <td>...</td>\n",
       "      <td>8.50</td>\n",
       "      <td>NaN</td>\n",
       "      <td>Санкт-Петербург</td>\n",
       "      <td>38357.0</td>\n",
       "      <td>13878.0</td>\n",
       "      <td>1.0</td>\n",
       "      <td>310.0</td>\n",
       "      <td>2.0</td>\n",
       "      <td>553.0</td>\n",
       "      <td>137.0</td>\n",
       "    </tr>\n",
       "    <tr>\n",
       "      <th>11</th>\n",
       "      <td>9</td>\n",
       "      <td>3300000.0</td>\n",
       "      <td>44.00</td>\n",
       "      <td>2018-08-27T00:00:00</td>\n",
       "      <td>2</td>\n",
       "      <td>NaN</td>\n",
       "      <td>5.0</td>\n",
       "      <td>31.00</td>\n",
       "      <td>4</td>\n",
       "      <td>False</td>\n",
       "      <td>...</td>\n",
       "      <td>6.00</td>\n",
       "      <td>1.0</td>\n",
       "      <td>Ломоносов</td>\n",
       "      <td>48252.0</td>\n",
       "      <td>51677.0</td>\n",
       "      <td>0.0</td>\n",
       "      <td>NaN</td>\n",
       "      <td>0.0</td>\n",
       "      <td>NaN</td>\n",
       "      <td>7.0</td>\n",
       "    </tr>\n",
       "    <tr>\n",
       "      <th>12</th>\n",
       "      <td>10</td>\n",
       "      <td>3890000.0</td>\n",
       "      <td>54.00</td>\n",
       "      <td>2016-06-30T00:00:00</td>\n",
       "      <td>2</td>\n",
       "      <td>NaN</td>\n",
       "      <td>5.0</td>\n",
       "      <td>30.00</td>\n",
       "      <td>5</td>\n",
       "      <td>NaN</td>\n",
       "      <td>...</td>\n",
       "      <td>9.00</td>\n",
       "      <td>0.0</td>\n",
       "      <td>Сертолово</td>\n",
       "      <td>NaN</td>\n",
       "      <td>NaN</td>\n",
       "      <td>NaN</td>\n",
       "      <td>NaN</td>\n",
       "      <td>NaN</td>\n",
       "      <td>NaN</td>\n",
       "      <td>90.0</td>\n",
       "    </tr>\n",
       "    <tr>\n",
       "      <th>13</th>\n",
       "      <td>20</td>\n",
       "      <td>3550000.0</td>\n",
       "      <td>42.80</td>\n",
       "      <td>2017-07-01T00:00:00</td>\n",
       "      <td>2</td>\n",
       "      <td>2.56</td>\n",
       "      <td>5.0</td>\n",
       "      <td>27.00</td>\n",
       "      <td>5</td>\n",
       "      <td>NaN</td>\n",
       "      <td>...</td>\n",
       "      <td>5.20</td>\n",
       "      <td>1.0</td>\n",
       "      <td>Петергоф</td>\n",
       "      <td>37868.0</td>\n",
       "      <td>33058.0</td>\n",
       "      <td>1.0</td>\n",
       "      <td>294.0</td>\n",
       "      <td>3.0</td>\n",
       "      <td>298.0</td>\n",
       "      <td>366.0</td>\n",
       "    </tr>\n",
       "    <tr>\n",
       "      <th>14</th>\n",
       "      <td>1</td>\n",
       "      <td>4400000.0</td>\n",
       "      <td>36.00</td>\n",
       "      <td>2016-06-23T00:00:00</td>\n",
       "      <td>1</td>\n",
       "      <td>NaN</td>\n",
       "      <td>6.0</td>\n",
       "      <td>17.00</td>\n",
       "      <td>1</td>\n",
       "      <td>NaN</td>\n",
       "      <td>...</td>\n",
       "      <td>8.00</td>\n",
       "      <td>0.0</td>\n",
       "      <td>Пушкин</td>\n",
       "      <td>20782.0</td>\n",
       "      <td>30759.0</td>\n",
       "      <td>0.0</td>\n",
       "      <td>NaN</td>\n",
       "      <td>1.0</td>\n",
       "      <td>96.0</td>\n",
       "      <td>203.0</td>\n",
       "    </tr>\n",
       "  </tbody>\n",
       "</table>\n",
       "<p>15 rows × 22 columns</p>\n",
       "</div>"
      ],
      "text/plain": [
       "    total_images  last_price  total_area first_day_exposition  rooms  \\\n",
       "0             20  13000000.0      108.00  2019-03-07T00:00:00      3   \n",
       "1              7   3350000.0       40.40  2018-12-04T00:00:00      1   \n",
       "2             10   5196000.0       56.00  2015-08-20T00:00:00      2   \n",
       "3              0  64900000.0      159.00  2015-07-24T00:00:00      3   \n",
       "4              2  10000000.0      100.00  2018-06-19T00:00:00      2   \n",
       "5             10   2890000.0       30.40  2018-09-10T00:00:00      1   \n",
       "6              6   3700000.0       37.30  2017-11-02T00:00:00      1   \n",
       "7              5   7915000.0       71.60  2019-04-18T00:00:00      2   \n",
       "8             20   2900000.0       33.16  2018-05-23T00:00:00      1   \n",
       "9             18   5400000.0       61.00  2017-02-26T00:00:00      3   \n",
       "10             5   5050000.0       39.60  2017-11-16T00:00:00      1   \n",
       "11             9   3300000.0       44.00  2018-08-27T00:00:00      2   \n",
       "12            10   3890000.0       54.00  2016-06-30T00:00:00      2   \n",
       "13            20   3550000.0       42.80  2017-07-01T00:00:00      2   \n",
       "14             1   4400000.0       36.00  2016-06-23T00:00:00      1   \n",
       "\n",
       "    ceiling_height  floors_total  living_area  floor is_apartment  ...  \\\n",
       "0             2.70          16.0        51.00      8          NaN  ...   \n",
       "1              NaN          11.0        18.60      1          NaN  ...   \n",
       "2              NaN           5.0        34.30      4          NaN  ...   \n",
       "3              NaN          14.0          NaN      9          NaN  ...   \n",
       "4             3.03          14.0        32.00     13          NaN  ...   \n",
       "5              NaN          12.0        14.40      5          NaN  ...   \n",
       "6              NaN          26.0        10.60      6          NaN  ...   \n",
       "7              NaN          24.0          NaN     22          NaN  ...   \n",
       "8              NaN          27.0        15.43     26          NaN  ...   \n",
       "9             2.50           9.0        43.60      7          NaN  ...   \n",
       "10            2.67          12.0        20.30      3          NaN  ...   \n",
       "11             NaN           5.0        31.00      4        False  ...   \n",
       "12             NaN           5.0        30.00      5          NaN  ...   \n",
       "13            2.56           5.0        27.00      5          NaN  ...   \n",
       "14             NaN           6.0        17.00      1          NaN  ...   \n",
       "\n",
       "    kitchen_area  balcony              locality_name  airports_nearest  \\\n",
       "0          25.00      NaN            Санкт-Петербург           18863.0   \n",
       "1          11.00      2.0             посёлок Шушары           12817.0   \n",
       "2           8.30      0.0            Санкт-Петербург           21741.0   \n",
       "3            NaN      0.0            Санкт-Петербург           28098.0   \n",
       "4          41.00      NaN            Санкт-Петербург           31856.0   \n",
       "5           9.10      NaN  городской посёлок Янино-1               NaN   \n",
       "6          14.40      1.0          посёлок Парголово           52996.0   \n",
       "7          18.90      2.0            Санкт-Петербург           23982.0   \n",
       "8           8.81      NaN             посёлок Мурино               NaN   \n",
       "9           6.50      2.0            Санкт-Петербург           50898.0   \n",
       "10          8.50      NaN            Санкт-Петербург           38357.0   \n",
       "11          6.00      1.0                  Ломоносов           48252.0   \n",
       "12          9.00      0.0                  Сертолово               NaN   \n",
       "13          5.20      1.0                   Петергоф           37868.0   \n",
       "14          8.00      0.0                     Пушкин           20782.0   \n",
       "\n",
       "   cityCenters_nearest  parks_around3000  parks_nearest  ponds_around3000  \\\n",
       "0              16028.0               1.0          482.0               2.0   \n",
       "1              18603.0               0.0            NaN               0.0   \n",
       "2              13933.0               1.0           90.0               2.0   \n",
       "3               6800.0               2.0           84.0               3.0   \n",
       "4               8098.0               2.0          112.0               1.0   \n",
       "5                  NaN               NaN            NaN               NaN   \n",
       "6              19143.0               0.0            NaN               0.0   \n",
       "7              11634.0               0.0            NaN               0.0   \n",
       "8                  NaN               NaN            NaN               NaN   \n",
       "9              15008.0               0.0            NaN               0.0   \n",
       "10             13878.0               1.0          310.0               2.0   \n",
       "11             51677.0               0.0            NaN               0.0   \n",
       "12                 NaN               NaN            NaN               NaN   \n",
       "13             33058.0               1.0          294.0               3.0   \n",
       "14             30759.0               0.0            NaN               1.0   \n",
       "\n",
       "    ponds_nearest  days_exposition  \n",
       "0           755.0              NaN  \n",
       "1             NaN             81.0  \n",
       "2           574.0            558.0  \n",
       "3           234.0            424.0  \n",
       "4            48.0            121.0  \n",
       "5             NaN             55.0  \n",
       "6             NaN            155.0  \n",
       "7             NaN              NaN  \n",
       "8             NaN            189.0  \n",
       "9             NaN            289.0  \n",
       "10          553.0            137.0  \n",
       "11            NaN              7.0  \n",
       "12            NaN             90.0  \n",
       "13          298.0            366.0  \n",
       "14           96.0            203.0  \n",
       "\n",
       "[15 rows x 22 columns]"
      ]
     },
     "execution_count": 1,
     "metadata": {},
     "output_type": "execute_result"
    }
   ],
   "source": [
    "import matplotlib.pyplot as plt\n",
    "import pandas as pd\n",
    "data = pd.read_csv('/datasets/real_estate_data.csv', sep='\\t')\n",
    "data.head(15)"
   ]
  },
  {
   "cell_type": "code",
   "execution_count": 2,
   "metadata": {},
   "outputs": [
    {
     "name": "stdout",
     "output_type": "stream",
     "text": [
      "<class 'pandas.core.frame.DataFrame'>\n",
      "RangeIndex: 23699 entries, 0 to 23698\n",
      "Data columns (total 22 columns):\n",
      " #   Column                Non-Null Count  Dtype  \n",
      "---  ------                --------------  -----  \n",
      " 0   total_images          23699 non-null  int64  \n",
      " 1   last_price            23699 non-null  float64\n",
      " 2   total_area            23699 non-null  float64\n",
      " 3   first_day_exposition  23699 non-null  object \n",
      " 4   rooms                 23699 non-null  int64  \n",
      " 5   ceiling_height        14504 non-null  float64\n",
      " 6   floors_total          23613 non-null  float64\n",
      " 7   living_area           21796 non-null  float64\n",
      " 8   floor                 23699 non-null  int64  \n",
      " 9   is_apartment          2775 non-null   object \n",
      " 10  studio                23699 non-null  bool   \n",
      " 11  open_plan             23699 non-null  bool   \n",
      " 12  kitchen_area          21421 non-null  float64\n",
      " 13  balcony               12180 non-null  float64\n",
      " 14  locality_name         23650 non-null  object \n",
      " 15  airports_nearest      18157 non-null  float64\n",
      " 16  cityCenters_nearest   18180 non-null  float64\n",
      " 17  parks_around3000      18181 non-null  float64\n",
      " 18  parks_nearest         8079 non-null   float64\n",
      " 19  ponds_around3000      18181 non-null  float64\n",
      " 20  ponds_nearest         9110 non-null   float64\n",
      " 21  days_exposition       20518 non-null  float64\n",
      "dtypes: bool(2), float64(14), int64(3), object(3)\n",
      "memory usage: 3.7+ MB\n"
     ]
    }
   ],
   "source": [
    "data.info()"
   ]
  },
  {
   "cell_type": "code",
   "execution_count": 3,
   "metadata": {},
   "outputs": [
    {
     "data": {
      "text/plain": [
       "array([[<AxesSubplot:title={'center':'total_images'}>,\n",
       "        <AxesSubplot:title={'center':'last_price'}>,\n",
       "        <AxesSubplot:title={'center':'total_area'}>,\n",
       "        <AxesSubplot:title={'center':'rooms'}>],\n",
       "       [<AxesSubplot:title={'center':'ceiling_height'}>,\n",
       "        <AxesSubplot:title={'center':'floors_total'}>,\n",
       "        <AxesSubplot:title={'center':'living_area'}>,\n",
       "        <AxesSubplot:title={'center':'floor'}>],\n",
       "       [<AxesSubplot:title={'center':'kitchen_area'}>,\n",
       "        <AxesSubplot:title={'center':'balcony'}>,\n",
       "        <AxesSubplot:title={'center':'airports_nearest'}>,\n",
       "        <AxesSubplot:title={'center':'cityCenters_nearest'}>],\n",
       "       [<AxesSubplot:title={'center':'parks_around3000'}>,\n",
       "        <AxesSubplot:title={'center':'parks_nearest'}>,\n",
       "        <AxesSubplot:title={'center':'ponds_around3000'}>,\n",
       "        <AxesSubplot:title={'center':'ponds_nearest'}>],\n",
       "       [<AxesSubplot:title={'center':'days_exposition'}>, <AxesSubplot:>,\n",
       "        <AxesSubplot:>, <AxesSubplot:>]], dtype=object)"
      ]
     },
     "execution_count": 3,
     "metadata": {},
     "output_type": "execute_result"
    },
    {
     "data": {
      "image/png": "[encoded data removed]",
      "text/plain": [
       "<Figure size 1080x1440 with 20 Axes>"
      ]
     },
     "metadata": {
      "needs_background": "light"
     },
     "output_type": "display_data"
    }
   ],
   "source": [
    "data.hist(figsize=(15, 20))"
   ]
  },
  {
   "cell_type": "markdown",
   "metadata": {},
   "source": [
    "### выводим на экран количество пропусков в данных"
   ]
  },
  {
   "cell_type": "code",
   "execution_count": 4,
   "metadata": {},
   "outputs": [
    {
     "data": {
      "text/plain": [
       "total_images                0\n",
       "last_price                  0\n",
       "total_area                  0\n",
       "first_day_exposition        0\n",
       "rooms                       0\n",
       "ceiling_height           9195\n",
       "floors_total               86\n",
       "living_area              1903\n",
       "floor                       0\n",
       "is_apartment            20924\n",
       "studio                      0\n",
       "open_plan                   0\n",
       "kitchen_area             2278\n",
       "balcony                 11519\n",
       "locality_name              49\n",
       "airports_nearest         5542\n",
       "cityCenters_nearest      5519\n",
       "parks_around3000         5518\n",
       "parks_nearest           15620\n",
       "ponds_around3000         5518\n",
       "ponds_nearest           14589\n",
       "days_exposition          3181\n",
       "dtype: int64"
      ]
     },
     "execution_count": 4,
     "metadata": {},
     "output_type": "execute_result"
    }
   ],
   "source": [
    "data.isna().sum()"
   ]
  },
  {
   "cell_type": "markdown",
   "metadata": {},
   "source": [
    "### изменяем типы данных где нету пропусков и дополняем данные столбацами по ценовой категории и локальной категории"
   ]
  },
  {
   "cell_type": "code",
   "execution_count": 5,
   "metadata": {},
   "outputs": [],
   "source": [
    "data['first_day_exposition'] = pd.to_datetime(data['first_day_exposition'], format='%Y-%m-%dT%H:%M:%S')"
   ]
  },
  {
   "cell_type": "code",
   "execution_count": 6,
   "metadata": {},
   "outputs": [],
   "source": [
    "data['last_price'] = data['last_price'].astype('int') #привели цену к типу инт"
   ]
  },
  {
   "cell_type": "code",
   "execution_count": 7,
   "metadata": {},
   "outputs": [],
   "source": [
    "data['price'] = data['last_price'] / 1000"
   ]
  },
  {
   "cell_type": "code",
   "execution_count": 8,
   "metadata": {},
   "outputs": [
    {
     "data": {
      "text/plain": [
       "count     23699.000000\n",
       "mean       6541.532723\n",
       "std       10887.008378\n",
       "min          12.000000\n",
       "25%        3400.000000\n",
       "50%        4650.000000\n",
       "75%        6800.000000\n",
       "max      763000.000000\n",
       "Name: price, dtype: float64"
      ]
     },
     "execution_count": 8,
     "metadata": {},
     "output_type": "execute_result"
    }
   ],
   "source": [
    "data['price'] = data['price'].astype('int')\n",
    "data['price'].describe()"
   ]
  },
  {
   "cell_type": "code",
   "execution_count": 9,
   "metadata": {},
   "outputs": [],
   "source": [
    "#функция для деления на ценовые категории\n",
    "def price_cat(price):\n",
    "    if price <= 5000:\n",
    "        return 'C'\n",
    "    if 5001 <= price <= 20000:\n",
    "        return 'B'\n",
    "    if 20001 <= price <= data['price'].max():\n",
    "        return 'A'\n",
    "    \n",
    "data['price_category'] = data['price'].apply(price_cat)"
   ]
  },
  {
   "cell_type": "markdown",
   "metadata": {},
   "source": [
    "#форматируем названия населенных пунктов\n",
    "data['locality_name'] = data['locality_name'].str.lower()"
   ]
  },
  {
   "cell_type": "code",
   "execution_count": 10,
   "metadata": {},
   "outputs": [],
   "source": [
    "#удаляем строчки в стобце с названиями населенных пунктов и количество этажей, так как пропуски данных <1%\n",
    "data = data.dropna(subset=['locality_name', 'floors_total']).reset_index(drop=True)"
   ]
  },
  {
   "cell_type": "code",
   "execution_count": 11,
   "metadata": {},
   "outputs": [],
   "source": [
    "#функция возвращающая тип населенного пункта\n",
    "def locality_cat(name):\n",
    "    if 'деревня' in name:\n",
    "        return 'деревня'\n",
    "    if 'поселок' in name or 'посёлок' in name:\n",
    "        return 'поселок'\n",
    "    else:\n",
    "        return 'город'\n",
    "data['locality_category'] = data['locality_name'].apply(locality_cat)"
   ]
  },
  {
   "cell_type": "code",
   "execution_count": 12,
   "metadata": {
    "scrolled": false
   },
   "outputs": [
    {
     "data": {
      "text/plain": [
       "price_category\n",
       "A      704\n",
       "B     9498\n",
       "C    13363\n",
       "Name: price_category, dtype: int64"
      ]
     },
     "execution_count": 12,
     "metadata": {},
     "output_type": "execute_result"
    }
   ],
   "source": [
    "#число объявлений для каждой ценовой категории\n",
    "data_count_price = data.groupby('price_category')['price_category'].count()\n",
    "data_count_price"
   ]
  },
  {
   "cell_type": "code",
   "execution_count": 13,
   "metadata": {},
   "outputs": [
    {
     "data": {
      "text/plain": [
       "locality_category\n",
       "город      19971\n",
       "деревня      944\n",
       "поселок     2650\n",
       "Name: locality_category, dtype: int64"
      ]
     },
     "execution_count": 13,
     "metadata": {},
     "output_type": "execute_result"
    }
   ],
   "source": [
    "#число объявлений для каждой ценовой категории\n",
    "data_count_price = data.groupby('locality_category')['locality_category'].count()\n",
    "data_count_price"
   ]
  },
  {
   "cell_type": "code",
   "execution_count": 14,
   "metadata": {},
   "outputs": [
    {
     "data": {
      "text/plain": [
       "total_images              0\n",
       "last_price                0\n",
       "total_area                0\n",
       "first_day_exposition      0\n",
       "rooms                     0\n",
       "ceiling_height          433\n",
       "floors_total              0\n",
       "living_area              92\n",
       "floor                     0\n",
       "is_apartment            830\n",
       "studio                    0\n",
       "open_plan                 0\n",
       "kitchen_area            127\n",
       "balcony                 419\n",
       "locality_name             0\n",
       "airports_nearest        944\n",
       "cityCenters_nearest     944\n",
       "parks_around3000        944\n",
       "parks_nearest           944\n",
       "ponds_around3000        944\n",
       "ponds_nearest           944\n",
       "days_exposition         110\n",
       "price                     0\n",
       "price_category            0\n",
       "locality_category         0\n",
       "dtype: int64"
      ]
     },
     "execution_count": 14,
     "metadata": {},
     "output_type": "execute_result"
    }
   ],
   "source": [
    "data_village = data[data['locality_category'] == 'деревня']\n",
    "data_village.isna().sum()"
   ]
  },
  {
   "cell_type": "markdown",
   "metadata": {},
   "source": [
    "Видим, что количество пропусков в стобцах (аеропорт, парки и тд) совпадают с количеством строк с категорией 'деревня', вероятно эти пропуски остались из за незаполненных параметров, можно заменить на 0\n"
   ]
  },
  {
   "cell_type": "markdown",
   "metadata": {},
   "source": [
    "Пропуски могли появится всвязи с технической ошибкой, человеческим фактором (невнимательностью) или с нежелением человека указывать какой то из параметров (как например не указывать число балконов из за их остутсвия). В данных, в которых мог возникнуть пропуск из за нежелания вносить число/значение в параметр за остуствием того в квартире/доме мы можем заполнить пропуски нулями. В данных с количественными переменными мы можем заполнить пропуски медианным значением или медианным по категории. В некоторых категориальных переменных, таких как название населенного пунка мы не можем подобрать среднее или медианное значение, поэтому с моей точки зрения их можно удалить, так как пропусков в этом столбце всего 49. Зато этот столбец богат на неочевидные дубликаты."
   ]
  },
  {
   "cell_type": "markdown",
   "metadata": {},
   "source": [
    "# Заполняем пропуски в данных"
   ]
  },
  {
   "cell_type": "code",
   "execution_count": 15,
   "metadata": {},
   "outputs": [
    {
     "data": {
      "text/plain": [
       "array([  2.7 ,    nan,   3.03,   2.5 ,   2.67,   2.56,   3.05,   2.75,\n",
       "         2.6 ,   2.9 ,   2.8 ,   2.55,   3.  ,   2.65,   3.2 ,   2.61,\n",
       "         3.25,   3.45,   2.77,   2.85,   2.64,   2.57,   4.15,   3.5 ,\n",
       "         3.3 ,   2.71,   4.  ,   2.47,   2.73,   2.84,   3.1 ,   2.34,\n",
       "         3.4 ,   3.06,   2.72,   2.54,   2.51,   2.78,   2.76,  25.  ,\n",
       "         2.58,   3.7 ,   2.52,   5.2 ,   2.87,   2.66,   2.59,   2.  ,\n",
       "         2.45,   3.6 ,   2.92,   3.11,   3.13,   3.8 ,   3.15,   3.55,\n",
       "         3.16,   3.62,   3.12,   2.53,   2.74,   2.96,   2.46,   5.3 ,\n",
       "         5.  ,   2.79,   2.95,   4.06,   2.94,   3.82,   3.54,   3.53,\n",
       "         2.83,   4.7 ,   2.4 ,   3.38,   3.01,   5.6 ,   3.65,   3.9 ,\n",
       "         3.18,   3.35,   2.3 ,   3.57,   2.48,   2.62,   2.82,   3.98,\n",
       "         2.63,   3.83,   3.52,   3.95,   3.75,   2.88,   3.67,   3.87,\n",
       "         3.66,   3.85,   3.86,   4.19,   3.24,   4.8 ,   4.5 ,   4.2 ,\n",
       "         3.36,  32.  ,   3.08,   3.68,   3.07,   3.37,   3.09,   8.  ,\n",
       "         3.26,   3.34,   2.81,   3.44,   2.97,   3.14,   4.37,   2.68,\n",
       "         3.22,   3.27,  27.  ,   4.1 ,   2.93,   3.46,  24.  ,   3.47,\n",
       "         3.33,   3.63,   3.32,  26.  ,   1.2 ,   8.3 ,   2.98,   2.86,\n",
       "         3.17,   4.4 ,   3.28,   3.04,   4.45,   5.5 ,   3.84,   3.23,\n",
       "         3.02,   3.21,   3.43,   3.78,   4.3 ,   3.39,   2.69,   3.31,\n",
       "         4.65,   3.56,   2.2 ,   3.51,   3.93,   3.42,   2.99,   3.49,\n",
       "        14.  ,   4.14,   2.91,   3.88,   1.75,   4.25,   3.29,  20.  ,\n",
       "         2.25,   3.76,   3.69,   6.  ,  22.6 ,   2.89,   3.58,   5.8 ,\n",
       "        27.5 ,   2.49,   4.9 ,   3.48,  10.3 ,   1.  , 100.  ,   3.59])"
      ]
     },
     "execution_count": 15,
     "metadata": {},
     "output_type": "execute_result"
    }
   ],
   "source": [
    "data['ceiling_height'].unique()"
   ]
  },
  {
   "cell_type": "markdown",
   "metadata": {},
   "source": [
    "Некоторые значения (начиная от 10 метров), можем считать аномальными и написанными случайно, вероятно, что эти значения в действительности в 10 раз меньше"
   ]
  },
  {
   "cell_type": "code",
   "execution_count": 16,
   "metadata": {},
   "outputs": [],
   "source": [
    "#корректируем выбросы с высокими потолками\n",
    "data.loc[data['ceiling_height'] > 10, 'ceiling_height'] /= 10\n",
    "ceiling_med = data['ceiling_height'].median()\n",
    "data['ceiling_height'] = data['ceiling_height'].fillna(ceiling_med)"
   ]
  },
  {
   "cell_type": "code",
   "execution_count": 17,
   "metadata": {},
   "outputs": [
    {
     "data": {
      "text/plain": [
       "array([2.7 , 2.65, 3.03, 2.5 , 2.67, 2.56, 3.05, 2.75, 2.6 , 2.9 , 2.8 ,\n",
       "       2.55, 3.  , 3.2 , 2.61, 3.25, 3.45, 2.77, 2.85, 2.64, 2.57, 4.15,\n",
       "       3.5 , 3.3 , 2.71, 4.  , 2.47, 2.73, 2.84, 3.1 , 2.34, 3.4 , 3.06,\n",
       "       2.72, 2.54, 2.51, 2.78, 2.76, 2.58, 3.7 , 2.52, 2.87, 2.66, 2.59,\n",
       "       2.45, 3.6 , 2.92, 3.11, 3.13, 3.8 , 3.15, 3.55, 3.16, 3.62, 3.12,\n",
       "       2.53, 2.74, 2.96, 2.46, 2.79, 2.95, 4.06, 2.94, 3.82, 3.54, 3.53,\n",
       "       2.83, 2.4 , 3.38, 3.01, 3.65, 3.9 , 3.18, 3.35, 2.3 , 3.57, 2.48,\n",
       "       2.62, 2.82, 3.98, 2.63, 3.83, 3.52, 3.95, 3.75, 2.88, 3.67, 3.87,\n",
       "       3.66, 3.85, 3.86, 4.19, 3.24, 4.2 , 3.36, 3.08, 3.68, 3.07, 3.37,\n",
       "       3.09, 3.26, 3.34, 2.81, 3.44, 2.97, 3.14, 4.37, 2.68, 3.22, 3.27,\n",
       "       4.1 , 2.93, 3.46, 3.47, 3.33, 3.63, 3.32, 2.98, 2.86, 3.17, 4.4 ,\n",
       "       3.28, 3.04, 4.45, 3.84, 3.23, 3.02, 3.21, 3.43, 3.78, 4.3 , 3.39,\n",
       "       2.69, 3.31, 3.56, 2.2 , 3.51, 3.93, 3.42, 2.99, 3.49, 4.14, 2.91,\n",
       "       3.88, 4.25, 3.29, 2.25, 3.76, 3.69, 2.26, 2.89, 3.58, 2.49, 3.48,\n",
       "       3.59])"
      ]
     },
     "execution_count": 17,
     "metadata": {},
     "output_type": "execute_result"
    }
   ],
   "source": [
    "#удалим небольшое количество данных (отчистим данные от потолков до 2-ух и больше 4.5 метров)\n",
    "data = data.loc[(data['ceiling_height'] > 2) & (data['ceiling_height'] < 4.5)]\n",
    "data['ceiling_height'].unique()"
   ]
  },
  {
   "cell_type": "code",
   "execution_count": 18,
   "metadata": {},
   "outputs": [
    {
     "name": "stdout",
     "output_type": "stream",
     "text": [
      "0.938894543810322\n",
      "0.6082560205541719\n"
     ]
    }
   ],
   "source": [
    "print(data['living_area'].corr(data['total_area']))\n",
    "print(data['kitchen_area'].corr(data['total_area']))"
   ]
  },
  {
   "cell_type": "markdown",
   "metadata": {},
   "source": [
    "Значения площади кухни и жилого помещения неплохо коррелируется со значением всей площади, поэтому пропуски значений в столбцах (living_area, kitchen_area) можно заполнить медианными значениями отношения кухни/жилого помещения ко всей площади."
   ]
  },
  {
   "cell_type": "code",
   "execution_count": 19,
   "metadata": {},
   "outputs": [],
   "source": [
    "#отношение кухни и жилой площади к всей площади\n",
    "data_kit_med = ((data['kitchen_area'] / data['total_area']) * 100).median()\n",
    "data_liv_med = ((data['living_area'] / data['total_area']) * 100).median()\n",
    "data['kitchen_area'] = data['kitchen_area'].fillna(data_kit_med)\n",
    "data['living_area'] = data['living_area'].fillna(data_liv_med)"
   ]
  },
  {
   "cell_type": "code",
   "execution_count": 20,
   "metadata": {},
   "outputs": [
    {
     "name": "stdout",
     "output_type": "stream",
     "text": [
      "17.235494880546074\n",
      "56.81818181818182\n"
     ]
    }
   ],
   "source": [
    "print(data_kit_med)\n",
    "print(data_liv_med)"
   ]
  },
  {
   "cell_type": "markdown",
   "metadata": {},
   "source": [
    "### Значения полностью зависящие от территориальной расположенности лучше заполнить медианной по территориальному признаку "
   ]
  },
  {
   "cell_type": "code",
   "execution_count": 21,
   "metadata": {},
   "outputs": [
    {
     "name": "stderr",
     "output_type": "stream",
     "text": [
      "/opt/conda/lib/python3.9/site-packages/numpy/lib/nanfunctions.py:1117: RuntimeWarning: Mean of empty slice\n",
      "  return np.nanmean(a, axis, out=out, keepdims=keepdims)\n",
      "/opt/conda/lib/python3.9/site-packages/numpy/lib/nanfunctions.py:1117: RuntimeWarning: Mean of empty slice\n",
      "  return np.nanmean(a, axis, out=out, keepdims=keepdims)\n"
     ]
    }
   ],
   "source": [
    "#заполняем дальность до парка медианным значением\n",
    "for i in data['locality_category'].unique():\n",
    "    data.loc[(data['locality_category'] == i) & (data['parks_nearest'].isna()), 'parks_nearest'] = \\\n",
    "    data.loc[(data['locality_category'] == i), 'parks_nearest'].median() \n",
    "\n",
    "#заполняем дальность до пруда медианным значением\n",
    "for i in data['locality_category'].unique():\n",
    "    data.loc[(data['locality_category'] == i) & (data['ponds_nearest'].isna()), 'ponds_nearest'] = \\\n",
    "    data.loc[(data['locality_category'] == i), 'ponds_nearest'].median()     "
   ]
  },
  {
   "cell_type": "code",
   "execution_count": 22,
   "metadata": {},
   "outputs": [
    {
     "name": "stderr",
     "output_type": "stream",
     "text": [
      "/opt/conda/lib/python3.9/site-packages/numpy/lib/nanfunctions.py:1117: RuntimeWarning: Mean of empty slice\n",
      "  return np.nanmean(a, axis, out=out, keepdims=keepdims)\n",
      "/opt/conda/lib/python3.9/site-packages/numpy/lib/nanfunctions.py:1117: RuntimeWarning: Mean of empty slice\n",
      "  return np.nanmean(a, axis, out=out, keepdims=keepdims)\n"
     ]
    }
   ],
   "source": [
    "#заполняем количество парков в радиусе 3000м медианным значением\n",
    "for i in data['locality_category'].unique():\n",
    "    data.loc[(data['locality_category'] == i) & (data['parks_around3000'].isna()), 'parks_around3000'] = \\\n",
    "    data.loc[(data['locality_category'] == i), 'parks_around3000'].median() \n",
    "\n",
    "#заполняем количество прудов в радиусе 3000м медианным значением\n",
    "for i in data['locality_category'].unique():\n",
    "    data.loc[(data['locality_category'] == i) & (data['ponds_around3000'].isna()), 'ponds_around3000'] = \\\n",
    "    data.loc[(data['locality_category'] == i), 'ponds_around3000'].median()   "
   ]
  },
  {
   "cell_type": "code",
   "execution_count": 23,
   "metadata": {},
   "outputs": [
    {
     "name": "stderr",
     "output_type": "stream",
     "text": [
      "/opt/conda/lib/python3.9/site-packages/numpy/lib/nanfunctions.py:1117: RuntimeWarning: Mean of empty slice\n",
      "  return np.nanmean(a, axis, out=out, keepdims=keepdims)\n",
      "/opt/conda/lib/python3.9/site-packages/numpy/lib/nanfunctions.py:1117: RuntimeWarning: Mean of empty slice\n",
      "  return np.nanmean(a, axis, out=out, keepdims=keepdims)\n"
     ]
    }
   ],
   "source": [
    "#заполняем дальность до аеропорта медианным значением\n",
    "for i in data['locality_category'].unique():\n",
    "    data.loc[(data['locality_category'] == i) & (data['airports_nearest'].isna()), 'airports_nearest'] = \\\n",
    "    data.loc[(data['locality_category'] == i), 'airports_nearest'].median() \n",
    "\n",
    "#заполняем дальность до центра города медианным значением\n",
    "for i in data['locality_category'].unique():\n",
    "    data.loc[(data['locality_category'] == i) & (data['cityCenters_nearest'].isna()), 'cityCenters_nearest'] = \\\n",
    "    data.loc[(data['locality_category'] == i), 'cityCenters_nearest'].median()   \n",
    "      "
   ]
  },
  {
   "cell_type": "code",
   "execution_count": 24,
   "metadata": {},
   "outputs": [
    {
     "name": "stdout",
     "output_type": "stream",
     "text": [
      "95.0\n"
     ]
    }
   ],
   "source": [
    "#заполняем значения с количеством дней расположения объявления\n",
    "exposition_med = data['days_exposition'].median()\n",
    "print(exposition_med)\n",
    "data['days_exposition'] = data['days_exposition'].fillna(exposition_med)"
   ]
  },
  {
   "cell_type": "code",
   "execution_count": 25,
   "metadata": {
    "scrolled": true
   },
   "outputs": [
    {
     "name": "stdout",
     "output_type": "stream",
     "text": [
      "[0 2 1 5 4 3]\n"
     ]
    }
   ],
   "source": [
    "#заполняем балконы нулями и переводим в тип 'int'\n",
    "data['balcony'] = data['balcony'].fillna(0)\n",
    "data['balcony'] = data['balcony'].astype('int')\n",
    "print(data['balcony'].unique())"
   ]
  },
  {
   "cell_type": "code",
   "execution_count": 26,
   "metadata": {},
   "outputs": [],
   "source": [
    "#заполняем пропуски в апартаментах\n",
    "data.loc[data['is_apartment'].isna(), 'is_apartment'] = False\n",
    "data['is_apartment'] = data['is_apartment'].astype('int')"
   ]
  },
  {
   "cell_type": "code",
   "execution_count": 27,
   "metadata": {},
   "outputs": [
    {
     "data": {
      "text/plain": [
       "0"
      ]
     },
     "execution_count": 27,
     "metadata": {},
     "output_type": "execute_result"
    }
   ],
   "source": [
    "data.duplicated().sum()\n"
   ]
  },
  {
   "cell_type": "markdown",
   "metadata": {},
   "source": [
    "### Посчитайте и добавьте в таблицу новые столбцы"
   ]
  },
  {
   "cell_type": "code",
   "execution_count": 28,
   "metadata": {},
   "outputs": [],
   "source": [
    "#цена за квадратый метр\n",
    "data['one_metr_price'] = data['total_area'] / data['price']"
   ]
  },
  {
   "cell_type": "code",
   "execution_count": 29,
   "metadata": {},
   "outputs": [],
   "source": [
    "#функция записывает тип этажа (первый, последний, другой)\n",
    "def level(row):\n",
    "    if row['floor'] == 1:\n",
    "        return 'первый'\n",
    "    if row['floor'] == row['floors_total']:\n",
    "        return 'последний'\n",
    "    else:\n",
    "        return 'другой'\n",
    "        \n",
    "data['floor_type'] = data.apply(level, axis=1)"
   ]
  },
  {
   "cell_type": "code",
   "execution_count": 30,
   "metadata": {},
   "outputs": [],
   "source": [
    "#столбцы с днем недели, месяцом, годом\n",
    "data['weekday'] = data['first_day_exposition'].dt.weekday\n",
    "data['month'] = data['first_day_exposition'].dt.month\n",
    "data['year'] = data['first_day_exposition'].dt.year"
   ]
  },
  {
   "cell_type": "code",
   "execution_count": 31,
   "metadata": {},
   "outputs": [],
   "source": [
    "data = data.dropna()"
   ]
  },
  {
   "cell_type": "code",
   "execution_count": 32,
   "metadata": {},
   "outputs": [],
   "source": [
    "#расстояние до центра города в километрах\n",
    "data['km_cityCenters'] = data['cityCenters_nearest'] / 1000\n",
    "data['km_cityCenters'] = data['km_cityCenters'].astype('int')"
   ]
  },
  {
   "cell_type": "code",
   "execution_count": 33,
   "metadata": {},
   "outputs": [
    {
     "data": {
      "text/plain": [
       "0    16\n",
       "1    18\n",
       "2    13\n",
       "3     6\n",
       "4     8\n",
       "Name: km_cityCenters, dtype: int64"
      ]
     },
     "execution_count": 33,
     "metadata": {},
     "output_type": "execute_result"
    }
   ],
   "source": [
    "data['km_cityCenters'].head()"
   ]
  },
  {
   "cell_type": "code",
   "execution_count": 34,
   "metadata": {},
   "outputs": [],
   "source": [
    "data['floors_total'] = data['floors_total'].astype('int')\n",
    "data['airports_nearest'] = data['airports_nearest'].astype('int')\n",
    "data['cityCenters_nearest'] = data['cityCenters_nearest'].astype('int')\n",
    "data['parks_around3000'] = data['parks_around3000'].astype('int')\n",
    "data['parks_nearest'] = data['parks_nearest'].astype('int')\n",
    "data['ponds_around3000'] = data['ponds_around3000'].astype('int')\n",
    "data['ponds_nearest'] = data['ponds_nearest'].astype('int')\n",
    "data['days_exposition'] = data['days_exposition'].astype('int')"
   ]
  },
  {
   "cell_type": "code",
   "execution_count": 35,
   "metadata": {},
   "outputs": [
    {
     "name": "stdout",
     "output_type": "stream",
     "text": [
      "total_images            0\n",
      "last_price              0\n",
      "total_area              0\n",
      "first_day_exposition    0\n",
      "rooms                   0\n",
      "ceiling_height          0\n",
      "floors_total            0\n",
      "living_area             0\n",
      "floor                   0\n",
      "is_apartment            0\n",
      "studio                  0\n",
      "open_plan               0\n",
      "kitchen_area            0\n",
      "balcony                 0\n",
      "locality_name           0\n",
      "airports_nearest        0\n",
      "cityCenters_nearest     0\n",
      "parks_around3000        0\n",
      "parks_nearest           0\n",
      "ponds_around3000        0\n",
      "ponds_nearest           0\n",
      "days_exposition         0\n",
      "price                   0\n",
      "price_category          0\n",
      "locality_category       0\n",
      "one_metr_price          0\n",
      "floor_type              0\n",
      "weekday                 0\n",
      "month                   0\n",
      "year                    0\n",
      "km_cityCenters          0\n",
      "dtype: int64\n"
     ]
    }
   ],
   "source": [
    "print(data.isna().sum())"
   ]
  },
  {
   "cell_type": "markdown",
   "metadata": {},
   "source": [
    "# Задания"
   ]
  },
  {
   "cell_type": "markdown",
   "metadata": {},
   "source": [
    "### описание параметров"
   ]
  },
  {
   "cell_type": "markdown",
   "metadata": {},
   "source": [
    "#### общая площадь"
   ]
  },
  {
   "cell_type": "code",
   "execution_count": 36,
   "metadata": {},
   "outputs": [
    {
     "name": "stdout",
     "output_type": "stream",
     "text": [
      "count    22580.000000\n",
      "mean        60.679356\n",
      "std         35.808990\n",
      "min         12.000000\n",
      "25%         40.000000\n",
      "50%         52.000000\n",
      "75%         70.000000\n",
      "max        900.000000\n",
      "Name: total_area, dtype: float64\n"
     ]
    },
    {
     "data": {
      "text/plain": [
       "<AxesSubplot:>"
      ]
     },
     "execution_count": 36,
     "metadata": {},
     "output_type": "execute_result"
    },
    {
     "data": {
      "image/png": "[encoded data removed]",
      "text/plain": [
       "<Figure size 432x288 with 1 Axes>"
      ]
     },
     "metadata": {
      "needs_background": "light"
     },
     "output_type": "display_data"
    }
   ],
   "source": [
    "print(data['total_area'].describe())\n",
    "data['total_area'].hist()"
   ]
  },
  {
   "cell_type": "code",
   "execution_count": 37,
   "metadata": {},
   "outputs": [
    {
     "name": "stdout",
     "output_type": "stream",
     "text": [
      "222\n",
      "179\n"
     ]
    }
   ],
   "source": [
    "data_total = data[data['total_area'] >= 200]\n",
    "print(len(data_total))\n",
    "print(len(data_total[data_total['price_category'] == 'A']))"
   ]
  },
  {
   "cell_type": "markdown",
   "metadata": {},
   "source": [
    "Среднее и медиана различаются, но не сильно, квартир с площадью 200 - 900 кв.м. гораздо меньше чем остальных, но при близком изучени мы видим, что это довольно дорогие квартиры класса 'А' (по моей классификации), с большим количеством комнат. К тому же, после поисков в гугле квартир с площадью 900кв.м., можно сказать, что такие действительно есть в продаже, а значит как минимум проверку реальностью они прошли"
   ]
  },
  {
   "cell_type": "markdown",
   "metadata": {},
   "source": [
    "#### жилая площадь"
   ]
  },
  {
   "cell_type": "code",
   "execution_count": 38,
   "metadata": {},
   "outputs": [
    {
     "data": {
      "text/plain": [
       "count    22580.000000\n",
       "mean        36.424169\n",
       "std         22.021580\n",
       "min          2.000000\n",
       "25%         19.300000\n",
       "50%         31.300000\n",
       "75%         46.200000\n",
       "max        409.700000\n",
       "Name: living_area, dtype: float64"
      ]
     },
     "execution_count": 38,
     "metadata": {},
     "output_type": "execute_result"
    },
    {
     "data": {
      "image/png": "[encoded data removed]",
      "text/plain": [
       "<Figure size 432x288 with 1 Axes>"
      ]
     },
     "metadata": {
      "needs_background": "light"
     },
     "output_type": "display_data"
    }
   ],
   "source": [
    "data['living_area'].hist()\n",
    "data['living_area'].describe()"
   ]
  },
  {
   "cell_type": "markdown",
   "metadata": {},
   "source": [
    "Среднее и медиана тоже различаются не сильно, но есть странное минимальное значение в 2кв.м. Информация из интернета говорит, что: \"Согласно действующим СНиПам, минимальная площадь комнаты должна быть не менее 8 квадратных метров.\" Посмотрим, сколько значений жилой площади меньше 8кв.м. (Таких квартир всего 8, можно было удалить, но 8 значений не должны сильно влиять на данные)"
   ]
  },
  {
   "cell_type": "code",
   "execution_count": 39,
   "metadata": {},
   "outputs": [
    {
     "name": "stdout",
     "output_type": "stream",
     "text": [
      "8\n"
     ]
    }
   ],
   "source": [
    "print(len(data[data['living_area'] < 8]))"
   ]
  },
  {
   "cell_type": "markdown",
   "metadata": {},
   "source": [
    "#### площадь кухонь"
   ]
  },
  {
   "cell_type": "code",
   "execution_count": 40,
   "metadata": {},
   "outputs": [
    {
     "data": {
      "text/plain": [
       "count    22580.000000\n",
       "mean        11.190274\n",
       "std          5.986552\n",
       "min          1.300000\n",
       "25%          7.200000\n",
       "50%         10.000000\n",
       "75%         13.500000\n",
       "max        112.000000\n",
       "Name: kitchen_area, dtype: float64"
      ]
     },
     "execution_count": 40,
     "metadata": {},
     "output_type": "execute_result"
    },
    {
     "data": {
      "image/png": "[encoded data removed]",
      "text/plain": [
       "<Figure size 432x288 with 1 Axes>"
      ]
     },
     "metadata": {
      "needs_background": "light"
     },
     "output_type": "display_data"
    }
   ],
   "source": [
    "data['kitchen_area'].hist()\n",
    "data['kitchen_area'].describe()"
   ]
  },
  {
   "cell_type": "markdown",
   "metadata": {},
   "source": [
    "Медиана и среднее не почти не отличаются, выбросов нет, средняя площадь кухни - 10 кв.м."
   ]
  },
  {
   "cell_type": "markdown",
   "metadata": {},
   "source": [
    "#### цена"
   ]
  },
  {
   "cell_type": "code",
   "execution_count": 41,
   "metadata": {},
   "outputs": [
    {
     "data": {
      "text/plain": [
       "count    2.258000e+04\n",
       "mean     6.642443e+06\n",
       "std      1.096908e+07\n",
       "min      1.219000e+04\n",
       "25%      3.500000e+06\n",
       "50%      4.700000e+06\n",
       "75%      6.900000e+06\n",
       "max      7.630000e+08\n",
       "Name: last_price, dtype: float64"
      ]
     },
     "execution_count": 41,
     "metadata": {},
     "output_type": "execute_result"
    },
    {
     "data": {
      "image/png": "[encoded data removed]",
      "text/plain": [
       "<Figure size 432x288 with 1 Axes>"
      ]
     },
     "metadata": {
      "needs_background": "light"
     },
     "output_type": "display_data"
    }
   ],
   "source": [
    "data['last_price'].hist()\n",
    "data['last_price'].describe()"
   ]
  },
  {
   "cell_type": "markdown",
   "metadata": {},
   "source": [
    "#### количество комнат"
   ]
  },
  {
   "cell_type": "code",
   "execution_count": 42,
   "metadata": {},
   "outputs": [
    {
     "data": {
      "text/plain": [
       "count    22580.000000\n",
       "mean         2.084765\n",
       "std          1.082818\n",
       "min          0.000000\n",
       "25%          1.000000\n",
       "50%          2.000000\n",
       "75%          3.000000\n",
       "max         19.000000\n",
       "Name: rooms, dtype: float64"
      ]
     },
     "execution_count": 42,
     "metadata": {},
     "output_type": "execute_result"
    },
    {
     "data": {
      "image/png": "[encoded data removed]",
      "text/plain": [
       "<Figure size 432x288 with 1 Axes>"
      ]
     },
     "metadata": {
      "needs_background": "light"
     },
     "output_type": "display_data"
    }
   ],
   "source": [
    "data['rooms'].hist()\n",
    "data['rooms'].describe()"
   ]
  },
  {
   "cell_type": "markdown",
   "metadata": {},
   "source": [
    "Среднее и медиана совпадают, в данных нет выбросов. Данные говорят о том, что чаще всего встречаются квартиры с 2-мя комнатами"
   ]
  },
  {
   "cell_type": "markdown",
   "metadata": {},
   "source": [
    "#### высота потолков"
   ]
  },
  {
   "cell_type": "code",
   "execution_count": 43,
   "metadata": {},
   "outputs": [
    {
     "data": {
      "text/plain": [
       "count    22580.000000\n",
       "mean         2.697152\n",
       "std          0.213779\n",
       "min          2.200000\n",
       "25%          2.600000\n",
       "50%          2.650000\n",
       "75%          2.700000\n",
       "max          4.450000\n",
       "Name: ceiling_height, dtype: float64"
      ]
     },
     "execution_count": 43,
     "metadata": {},
     "output_type": "execute_result"
    },
    {
     "data": {
      "image/png": "[encoded data removed]",
      "text/plain": [
       "<Figure size 432x288 with 1 Axes>"
      ]
     },
     "metadata": {
      "needs_background": "light"
     },
     "output_type": "display_data"
    }
   ],
   "source": [
    "data['ceiling_height'].hist()\n",
    "data['ceiling_height'].describe()"
   ]
  },
  {
   "cell_type": "markdown",
   "metadata": {},
   "source": [
    "На этапе предобработки мы отсекли потолки ниже 2 и выше 4.5, средняя высота потолков 2.6. Среднее равно медиане"
   ]
  },
  {
   "cell_type": "markdown",
   "metadata": {},
   "source": [
    "#### этаж"
   ]
  },
  {
   "cell_type": "code",
   "execution_count": 44,
   "metadata": {},
   "outputs": [
    {
     "data": {
      "text/plain": [
       "count    22580.000000\n",
       "mean         5.875598\n",
       "std          4.859656\n",
       "min          1.000000\n",
       "25%          2.000000\n",
       "50%          4.000000\n",
       "75%          8.000000\n",
       "max         33.000000\n",
       "Name: floor, dtype: float64"
      ]
     },
     "execution_count": 44,
     "metadata": {},
     "output_type": "execute_result"
    },
    {
     "data": {
      "image/png": "[encoded data removed]",
      "text/plain": [
       "<Figure size 432x288 with 1 Axes>"
      ]
     },
     "metadata": {
      "needs_background": "light"
     },
     "output_type": "display_data"
    }
   ],
   "source": [
    "data['floor'].hist()\n",
    "data['floor'].describe()"
   ]
  },
  {
   "cell_type": "markdown",
   "metadata": {},
   "source": [
    "Медиана и среднее почти одинаково, подавляющее количество этажей в обьявлениях около 5, возможно из за того, что в городах и тем более поселках, квартиры являются сталинками (4-7 этажей)"
   ]
  },
  {
   "cell_type": "markdown",
   "metadata": {},
   "source": [
    "#### всего этажей"
   ]
  },
  {
   "cell_type": "code",
   "execution_count": 45,
   "metadata": {},
   "outputs": [
    {
     "data": {
      "text/plain": [
       "count    22580.000000\n",
       "mean        10.674314\n",
       "std          6.566604\n",
       "min          1.000000\n",
       "25%          5.000000\n",
       "50%          9.000000\n",
       "75%         16.000000\n",
       "max         60.000000\n",
       "Name: floors_total, dtype: float64"
      ]
     },
     "execution_count": 45,
     "metadata": {},
     "output_type": "execute_result"
    },
    {
     "data": {
      "image/png": "[encoded data removed]",
      "text/plain": [
       "<Figure size 432x288 with 1 Axes>"
      ]
     },
     "metadata": {
      "needs_background": "light"
     },
     "output_type": "display_data"
    }
   ],
   "source": [
    "data['floors_total'].hist()\n",
    "data['floors_total'].describe()"
   ]
  },
  {
   "cell_type": "markdown",
   "metadata": {},
   "source": [
    "Медиана и среднее почти не отличаются, большое количество общей этажности от 1 - 17, это объясняется информацией из интернета:\"Наибольшая доля жилищного строительства в России сегодня приходится на дома высотой 13—17 этажей: они составляют 27% от всей площади строящегося жилья.\""
   ]
  },
  {
   "cell_type": "code",
   "execution_count": 46,
   "metadata": {},
   "outputs": [
    {
     "data": {
      "text/plain": [
       "count      22580\n",
       "unique         3\n",
       "top       другой\n",
       "freq       16648\n",
       "Name: floor_type, dtype: object"
      ]
     },
     "execution_count": 46,
     "metadata": {},
     "output_type": "execute_result"
    },
    {
     "data": {
      "image/png": "[encoded data removed]",
      "text/plain": [
       "<Figure size 432x288 with 1 Axes>"
      ]
     },
     "metadata": {
      "needs_background": "light"
     },
     "output_type": "display_data"
    }
   ],
   "source": [
    "data['floor_type'].hist()\n",
    "data['floor_type'].describe()"
   ]
  },
  {
   "cell_type": "markdown",
   "metadata": {},
   "source": [
    "Больше всего значений с типом 'другой', значений с типом 'первый' и 'последний' в районе 2700 и 3000"
   ]
  },
  {
   "cell_type": "markdown",
   "metadata": {},
   "source": [
    "#### Расстояние до центра города"
   ]
  },
  {
   "cell_type": "code",
   "execution_count": 47,
   "metadata": {},
   "outputs": [
    {
     "data": {
      "text/plain": [
       "count    22580.000000\n",
       "mean        14.048937\n",
       "std          7.976312\n",
       "min          0.000000\n",
       "25%         10.000000\n",
       "50%         12.000000\n",
       "75%         16.000000\n",
       "max         65.000000\n",
       "Name: km_cityCenters, dtype: float64"
      ]
     },
     "execution_count": 47,
     "metadata": {},
     "output_type": "execute_result"
    },
    {
     "data": {
      "image/png": "[encoded data removed]",
      "text/plain": [
       "<Figure size 432x288 with 1 Axes>"
      ]
     },
     "metadata": {
      "needs_background": "light"
     },
     "output_type": "display_data"
    }
   ],
   "source": [
    "data['km_cityCenters'].hist()\n",
    "data['km_cityCenters'].describe()"
   ]
  },
  {
   "cell_type": "code",
   "execution_count": 48,
   "metadata": {},
   "outputs": [
    {
     "data": {
      "text/html": [
       "<div>\n",
       "<style scoped>\n",
       "    .dataframe tbody tr th:only-of-type {\n",
       "        vertical-align: middle;\n",
       "    }\n",
       "\n",
       "    .dataframe tbody tr th {\n",
       "        vertical-align: top;\n",
       "    }\n",
       "\n",
       "    .dataframe thead th {\n",
       "        text-align: right;\n",
       "    }\n",
       "</style>\n",
       "<table border=\"1\" class=\"dataframe\">\n",
       "  <thead>\n",
       "    <tr style=\"text-align: right;\">\n",
       "      <th></th>\n",
       "      <th>total_images</th>\n",
       "      <th>last_price</th>\n",
       "      <th>total_area</th>\n",
       "      <th>first_day_exposition</th>\n",
       "      <th>rooms</th>\n",
       "      <th>ceiling_height</th>\n",
       "      <th>floors_total</th>\n",
       "      <th>living_area</th>\n",
       "      <th>floor</th>\n",
       "      <th>is_apartment</th>\n",
       "      <th>...</th>\n",
       "      <th>days_exposition</th>\n",
       "      <th>price</th>\n",
       "      <th>price_category</th>\n",
       "      <th>locality_category</th>\n",
       "      <th>one_metr_price</th>\n",
       "      <th>floor_type</th>\n",
       "      <th>weekday</th>\n",
       "      <th>month</th>\n",
       "      <th>year</th>\n",
       "      <th>km_cityCenters</th>\n",
       "    </tr>\n",
       "  </thead>\n",
       "  <tbody>\n",
       "    <tr>\n",
       "      <th>489</th>\n",
       "      <td>18</td>\n",
       "      <td>95000000</td>\n",
       "      <td>216.0</td>\n",
       "      <td>2017-12-05</td>\n",
       "      <td>4</td>\n",
       "      <td>3.00</td>\n",
       "      <td>5</td>\n",
       "      <td>86.0</td>\n",
       "      <td>4</td>\n",
       "      <td>0</td>\n",
       "      <td>...</td>\n",
       "      <td>14</td>\n",
       "      <td>95000</td>\n",
       "      <td>A</td>\n",
       "      <td>город</td>\n",
       "      <td>0.002274</td>\n",
       "      <td>другой</td>\n",
       "      <td>1</td>\n",
       "      <td>12</td>\n",
       "      <td>2017</td>\n",
       "      <td>0</td>\n",
       "    </tr>\n",
       "    <tr>\n",
       "      <th>657</th>\n",
       "      <td>3</td>\n",
       "      <td>49950000</td>\n",
       "      <td>483.9</td>\n",
       "      <td>2017-10-04</td>\n",
       "      <td>7</td>\n",
       "      <td>3.20</td>\n",
       "      <td>6</td>\n",
       "      <td>312.5</td>\n",
       "      <td>4</td>\n",
       "      <td>0</td>\n",
       "      <td>...</td>\n",
       "      <td>391</td>\n",
       "      <td>49950</td>\n",
       "      <td>A</td>\n",
       "      <td>город</td>\n",
       "      <td>0.009688</td>\n",
       "      <td>другой</td>\n",
       "      <td>2</td>\n",
       "      <td>10</td>\n",
       "      <td>2017</td>\n",
       "      <td>0</td>\n",
       "    </tr>\n",
       "    <tr>\n",
       "      <th>746</th>\n",
       "      <td>9</td>\n",
       "      <td>29500000</td>\n",
       "      <td>188.8</td>\n",
       "      <td>2017-03-04</td>\n",
       "      <td>7</td>\n",
       "      <td>2.70</td>\n",
       "      <td>2</td>\n",
       "      <td>119.3</td>\n",
       "      <td>1</td>\n",
       "      <td>0</td>\n",
       "      <td>...</td>\n",
       "      <td>246</td>\n",
       "      <td>29500</td>\n",
       "      <td>A</td>\n",
       "      <td>город</td>\n",
       "      <td>0.006400</td>\n",
       "      <td>первый</td>\n",
       "      <td>5</td>\n",
       "      <td>3</td>\n",
       "      <td>2017</td>\n",
       "      <td>0</td>\n",
       "    </tr>\n",
       "    <tr>\n",
       "      <th>1081</th>\n",
       "      <td>16</td>\n",
       "      <td>75000000</td>\n",
       "      <td>323.0</td>\n",
       "      <td>2017-07-10</td>\n",
       "      <td>5</td>\n",
       "      <td>4.00</td>\n",
       "      <td>5</td>\n",
       "      <td>255.7</td>\n",
       "      <td>4</td>\n",
       "      <td>0</td>\n",
       "      <td>...</td>\n",
       "      <td>259</td>\n",
       "      <td>75000</td>\n",
       "      <td>A</td>\n",
       "      <td>город</td>\n",
       "      <td>0.004307</td>\n",
       "      <td>другой</td>\n",
       "      <td>0</td>\n",
       "      <td>7</td>\n",
       "      <td>2017</td>\n",
       "      <td>0</td>\n",
       "    </tr>\n",
       "    <tr>\n",
       "      <th>1099</th>\n",
       "      <td>0</td>\n",
       "      <td>7970000</td>\n",
       "      <td>63.0</td>\n",
       "      <td>2018-02-09</td>\n",
       "      <td>3</td>\n",
       "      <td>2.65</td>\n",
       "      <td>5</td>\n",
       "      <td>35.0</td>\n",
       "      <td>3</td>\n",
       "      <td>0</td>\n",
       "      <td>...</td>\n",
       "      <td>15</td>\n",
       "      <td>7970</td>\n",
       "      <td>B</td>\n",
       "      <td>город</td>\n",
       "      <td>0.007905</td>\n",
       "      <td>другой</td>\n",
       "      <td>4</td>\n",
       "      <td>2</td>\n",
       "      <td>2018</td>\n",
       "      <td>0</td>\n",
       "    </tr>\n",
       "    <tr>\n",
       "      <th>...</th>\n",
       "      <td>...</td>\n",
       "      <td>...</td>\n",
       "      <td>...</td>\n",
       "      <td>...</td>\n",
       "      <td>...</td>\n",
       "      <td>...</td>\n",
       "      <td>...</td>\n",
       "      <td>...</td>\n",
       "      <td>...</td>\n",
       "      <td>...</td>\n",
       "      <td>...</td>\n",
       "      <td>...</td>\n",
       "      <td>...</td>\n",
       "      <td>...</td>\n",
       "      <td>...</td>\n",
       "      <td>...</td>\n",
       "      <td>...</td>\n",
       "      <td>...</td>\n",
       "      <td>...</td>\n",
       "      <td>...</td>\n",
       "      <td>...</td>\n",
       "    </tr>\n",
       "    <tr>\n",
       "      <th>21453</th>\n",
       "      <td>13</td>\n",
       "      <td>12300000</td>\n",
       "      <td>120.0</td>\n",
       "      <td>2018-09-21</td>\n",
       "      <td>4</td>\n",
       "      <td>3.10</td>\n",
       "      <td>4</td>\n",
       "      <td>78.0</td>\n",
       "      <td>4</td>\n",
       "      <td>0</td>\n",
       "      <td>...</td>\n",
       "      <td>95</td>\n",
       "      <td>12300</td>\n",
       "      <td>B</td>\n",
       "      <td>город</td>\n",
       "      <td>0.009756</td>\n",
       "      <td>последний</td>\n",
       "      <td>4</td>\n",
       "      <td>9</td>\n",
       "      <td>2018</td>\n",
       "      <td>0</td>\n",
       "    </tr>\n",
       "    <tr>\n",
       "      <th>21911</th>\n",
       "      <td>3</td>\n",
       "      <td>7200000</td>\n",
       "      <td>72.0</td>\n",
       "      <td>2017-12-21</td>\n",
       "      <td>2</td>\n",
       "      <td>3.07</td>\n",
       "      <td>3</td>\n",
       "      <td>44.9</td>\n",
       "      <td>2</td>\n",
       "      <td>0</td>\n",
       "      <td>...</td>\n",
       "      <td>89</td>\n",
       "      <td>7200</td>\n",
       "      <td>B</td>\n",
       "      <td>город</td>\n",
       "      <td>0.010000</td>\n",
       "      <td>другой</td>\n",
       "      <td>3</td>\n",
       "      <td>12</td>\n",
       "      <td>2017</td>\n",
       "      <td>0</td>\n",
       "    </tr>\n",
       "    <tr>\n",
       "      <th>22405</th>\n",
       "      <td>10</td>\n",
       "      <td>8000000</td>\n",
       "      <td>72.7</td>\n",
       "      <td>2018-02-02</td>\n",
       "      <td>3</td>\n",
       "      <td>3.05</td>\n",
       "      <td>4</td>\n",
       "      <td>40.5</td>\n",
       "      <td>4</td>\n",
       "      <td>0</td>\n",
       "      <td>...</td>\n",
       "      <td>199</td>\n",
       "      <td>8000</td>\n",
       "      <td>B</td>\n",
       "      <td>город</td>\n",
       "      <td>0.009088</td>\n",
       "      <td>последний</td>\n",
       "      <td>4</td>\n",
       "      <td>2</td>\n",
       "      <td>2018</td>\n",
       "      <td>0</td>\n",
       "    </tr>\n",
       "    <tr>\n",
       "      <th>22407</th>\n",
       "      <td>11</td>\n",
       "      <td>9000000</td>\n",
       "      <td>69.5</td>\n",
       "      <td>2017-06-27</td>\n",
       "      <td>4</td>\n",
       "      <td>2.70</td>\n",
       "      <td>4</td>\n",
       "      <td>50.3</td>\n",
       "      <td>4</td>\n",
       "      <td>0</td>\n",
       "      <td>...</td>\n",
       "      <td>21</td>\n",
       "      <td>9000</td>\n",
       "      <td>B</td>\n",
       "      <td>город</td>\n",
       "      <td>0.007722</td>\n",
       "      <td>последний</td>\n",
       "      <td>1</td>\n",
       "      <td>6</td>\n",
       "      <td>2017</td>\n",
       "      <td>0</td>\n",
       "    </tr>\n",
       "    <tr>\n",
       "      <th>22774</th>\n",
       "      <td>4</td>\n",
       "      <td>19500000</td>\n",
       "      <td>190.0</td>\n",
       "      <td>2017-04-27</td>\n",
       "      <td>6</td>\n",
       "      <td>2.65</td>\n",
       "      <td>4</td>\n",
       "      <td>159.6</td>\n",
       "      <td>3</td>\n",
       "      <td>0</td>\n",
       "      <td>...</td>\n",
       "      <td>87</td>\n",
       "      <td>19500</td>\n",
       "      <td>B</td>\n",
       "      <td>город</td>\n",
       "      <td>0.009744</td>\n",
       "      <td>другой</td>\n",
       "      <td>3</td>\n",
       "      <td>4</td>\n",
       "      <td>2017</td>\n",
       "      <td>0</td>\n",
       "    </tr>\n",
       "  </tbody>\n",
       "</table>\n",
       "<p>86 rows × 31 columns</p>\n",
       "</div>"
      ],
      "text/plain": [
       "       total_images  last_price  total_area first_day_exposition  rooms  \\\n",
       "489              18    95000000       216.0           2017-12-05      4   \n",
       "657               3    49950000       483.9           2017-10-04      7   \n",
       "746               9    29500000       188.8           2017-03-04      7   \n",
       "1081             16    75000000       323.0           2017-07-10      5   \n",
       "1099              0     7970000        63.0           2018-02-09      3   \n",
       "...             ...         ...         ...                  ...    ...   \n",
       "21453            13    12300000       120.0           2018-09-21      4   \n",
       "21911             3     7200000        72.0           2017-12-21      2   \n",
       "22405            10     8000000        72.7           2018-02-02      3   \n",
       "22407            11     9000000        69.5           2017-06-27      4   \n",
       "22774             4    19500000       190.0           2017-04-27      6   \n",
       "\n",
       "       ceiling_height  floors_total  living_area  floor  is_apartment  ...  \\\n",
       "489              3.00             5         86.0      4             0  ...   \n",
       "657              3.20             6        312.5      4             0  ...   \n",
       "746              2.70             2        119.3      1             0  ...   \n",
       "1081             4.00             5        255.7      4             0  ...   \n",
       "1099             2.65             5         35.0      3             0  ...   \n",
       "...               ...           ...          ...    ...           ...  ...   \n",
       "21453            3.10             4         78.0      4             0  ...   \n",
       "21911            3.07             3         44.9      2             0  ...   \n",
       "22405            3.05             4         40.5      4             0  ...   \n",
       "22407            2.70             4         50.3      4             0  ...   \n",
       "22774            2.65             4        159.6      3             0  ...   \n",
       "\n",
       "       days_exposition  price  price_category  locality_category  \\\n",
       "489                 14  95000               A              город   \n",
       "657                391  49950               A              город   \n",
       "746                246  29500               A              город   \n",
       "1081               259  75000               A              город   \n",
       "1099                15   7970               B              город   \n",
       "...                ...    ...             ...                ...   \n",
       "21453               95  12300               B              город   \n",
       "21911               89   7200               B              город   \n",
       "22405              199   8000               B              город   \n",
       "22407               21   9000               B              город   \n",
       "22774               87  19500               B              город   \n",
       "\n",
       "      one_metr_price  floor_type  weekday  month  year  km_cityCenters  \n",
       "489         0.002274      другой        1     12  2017               0  \n",
       "657         0.009688      другой        2     10  2017               0  \n",
       "746         0.006400      первый        5      3  2017               0  \n",
       "1081        0.004307      другой        0      7  2017               0  \n",
       "1099        0.007905      другой        4      2  2018               0  \n",
       "...              ...         ...      ...    ...   ...             ...  \n",
       "21453       0.009756   последний        4      9  2018               0  \n",
       "21911       0.010000      другой        3     12  2017               0  \n",
       "22405       0.009088   последний        4      2  2018               0  \n",
       "22407       0.007722   последний        1      6  2017               0  \n",
       "22774       0.009744      другой        3      4  2017               0  \n",
       "\n",
       "[86 rows x 31 columns]"
      ]
     },
     "execution_count": 48,
     "metadata": {},
     "output_type": "execute_result"
    }
   ],
   "source": [
    "data_p = data[data['km_cityCenters'] < 0.200000]\n",
    "data_p"
   ]
  },
  {
   "cell_type": "markdown",
   "metadata": {},
   "source": [
    "Среднее почти не отличается от медианы. Квартир расположенных от центра города от 0 до 7 км меньше чем квартир которые сдаются от 7 до 12 км"
   ]
  },
  {
   "cell_type": "markdown",
   "metadata": {},
   "source": [
    "#### Расстояние до аеропорта"
   ]
  },
  {
   "cell_type": "code",
   "execution_count": 49,
   "metadata": {},
   "outputs": [
    {
     "data": {
      "text/plain": [
       "count    22580.00000\n",
       "mean     28301.68822\n",
       "std      11334.07827\n",
       "min          0.00000\n",
       "25%      20609.25000\n",
       "50%      26835.00000\n",
       "75%      35099.00000\n",
       "max      84869.00000\n",
       "Name: airports_nearest, dtype: float64"
      ]
     },
     "execution_count": 49,
     "metadata": {},
     "output_type": "execute_result"
    },
    {
     "data": {
      "image/png": "[encoded data removed]",
      "text/plain": [
       "<Figure size 432x288 with 1 Axes>"
      ]
     },
     "metadata": {
      "needs_background": "light"
     },
     "output_type": "display_data"
    }
   ],
   "source": [
    "data['airports_nearest'].hist()\n",
    "data['airports_nearest'].describe()"
   ]
  },
  {
   "cell_type": "code",
   "execution_count": 50,
   "metadata": {},
   "outputs": [
    {
     "data": {
      "text/html": [
       "<div>\n",
       "<style scoped>\n",
       "    .dataframe tbody tr th:only-of-type {\n",
       "        vertical-align: middle;\n",
       "    }\n",
       "\n",
       "    .dataframe tbody tr th {\n",
       "        vertical-align: top;\n",
       "    }\n",
       "\n",
       "    .dataframe thead th {\n",
       "        text-align: right;\n",
       "    }\n",
       "</style>\n",
       "<table border=\"1\" class=\"dataframe\">\n",
       "  <thead>\n",
       "    <tr style=\"text-align: right;\">\n",
       "      <th></th>\n",
       "      <th>total_images</th>\n",
       "      <th>last_price</th>\n",
       "      <th>total_area</th>\n",
       "      <th>first_day_exposition</th>\n",
       "      <th>rooms</th>\n",
       "      <th>ceiling_height</th>\n",
       "      <th>floors_total</th>\n",
       "      <th>living_area</th>\n",
       "      <th>floor</th>\n",
       "      <th>is_apartment</th>\n",
       "      <th>...</th>\n",
       "      <th>days_exposition</th>\n",
       "      <th>price</th>\n",
       "      <th>price_category</th>\n",
       "      <th>locality_category</th>\n",
       "      <th>one_metr_price</th>\n",
       "      <th>floor_type</th>\n",
       "      <th>weekday</th>\n",
       "      <th>month</th>\n",
       "      <th>year</th>\n",
       "      <th>km_cityCenters</th>\n",
       "    </tr>\n",
       "  </thead>\n",
       "  <tbody>\n",
       "    <tr>\n",
       "      <th>20968</th>\n",
       "      <td>0</td>\n",
       "      <td>7000000</td>\n",
       "      <td>34.7</td>\n",
       "      <td>2018-09-23</td>\n",
       "      <td>1</td>\n",
       "      <td>2.7</td>\n",
       "      <td>9</td>\n",
       "      <td>19.8</td>\n",
       "      <td>3</td>\n",
       "      <td>0</td>\n",
       "      <td>...</td>\n",
       "      <td>60</td>\n",
       "      <td>7000</td>\n",
       "      <td>B</td>\n",
       "      <td>город</td>\n",
       "      <td>0.004957</td>\n",
       "      <td>другой</td>\n",
       "      <td>6</td>\n",
       "      <td>9</td>\n",
       "      <td>2018</td>\n",
       "      <td>22</td>\n",
       "    </tr>\n",
       "  </tbody>\n",
       "</table>\n",
       "<p>1 rows × 31 columns</p>\n",
       "</div>"
      ],
      "text/plain": [
       "       total_images  last_price  total_area first_day_exposition  rooms  \\\n",
       "20968             0     7000000        34.7           2018-09-23      1   \n",
       "\n",
       "       ceiling_height  floors_total  living_area  floor  is_apartment  ...  \\\n",
       "20968             2.7             9         19.8      3             0  ...   \n",
       "\n",
       "       days_exposition  price  price_category  locality_category  \\\n",
       "20968               60   7000               B              город   \n",
       "\n",
       "      one_metr_price  floor_type  weekday  month  year  km_cityCenters  \n",
       "20968       0.004957      другой        6      9  2018              22  \n",
       "\n",
       "[1 rows x 31 columns]"
      ]
     },
     "execution_count": 50,
     "metadata": {},
     "output_type": "execute_result"
    }
   ],
   "source": [
    "data_q = data[data['airports_nearest'] == 0]\n",
    "data_q"
   ]
  },
  {
   "cell_type": "markdown",
   "metadata": {},
   "source": [
    "У одного объявления расстояние до аэропорта равно 0, вряд ли это действительно так, вероятно продавец просто забыл рассчитать и вписать этот параметр. медиана и среднее примерно одинаково"
   ]
  },
  {
   "cell_type": "markdown",
   "metadata": {},
   "source": [
    "#### расстояние до ближайшего парка"
   ]
  },
  {
   "cell_type": "code",
   "execution_count": 51,
   "metadata": {},
   "outputs": [
    {
     "data": {
      "text/plain": [
       "count    22580.000000\n",
       "mean       495.506776\n",
       "std        217.239531\n",
       "min          1.000000\n",
       "25%        454.000000\n",
       "50%        454.000000\n",
       "75%        524.000000\n",
       "max       3190.000000\n",
       "Name: parks_nearest, dtype: float64"
      ]
     },
     "execution_count": 51,
     "metadata": {},
     "output_type": "execute_result"
    },
    {
     "data": {
      "image/png": "[encoded data removed]",
      "text/plain": [
       "<Figure size 432x288 with 1 Axes>"
      ]
     },
     "metadata": {
      "needs_background": "light"
     },
     "output_type": "display_data"
    }
   ],
   "source": [
    "data['parks_nearest'].hist()\n",
    "data['parks_nearest'].describe()"
   ]
  },
  {
   "cell_type": "code",
   "execution_count": 52,
   "metadata": {},
   "outputs": [
    {
     "data": {
      "text/html": [
       "<div>\n",
       "<style scoped>\n",
       "    .dataframe tbody tr th:only-of-type {\n",
       "        vertical-align: middle;\n",
       "    }\n",
       "\n",
       "    .dataframe tbody tr th {\n",
       "        vertical-align: top;\n",
       "    }\n",
       "\n",
       "    .dataframe thead th {\n",
       "        text-align: right;\n",
       "    }\n",
       "</style>\n",
       "<table border=\"1\" class=\"dataframe\">\n",
       "  <thead>\n",
       "    <tr style=\"text-align: right;\">\n",
       "      <th></th>\n",
       "      <th>total_images</th>\n",
       "      <th>last_price</th>\n",
       "      <th>total_area</th>\n",
       "      <th>first_day_exposition</th>\n",
       "      <th>rooms</th>\n",
       "      <th>ceiling_height</th>\n",
       "      <th>floors_total</th>\n",
       "      <th>living_area</th>\n",
       "      <th>floor</th>\n",
       "      <th>is_apartment</th>\n",
       "      <th>...</th>\n",
       "      <th>days_exposition</th>\n",
       "      <th>price</th>\n",
       "      <th>price_category</th>\n",
       "      <th>locality_category</th>\n",
       "      <th>one_metr_price</th>\n",
       "      <th>floor_type</th>\n",
       "      <th>weekday</th>\n",
       "      <th>month</th>\n",
       "      <th>year</th>\n",
       "      <th>km_cityCenters</th>\n",
       "    </tr>\n",
       "  </thead>\n",
       "  <tbody>\n",
       "    <tr>\n",
       "      <th>14539</th>\n",
       "      <td>8</td>\n",
       "      <td>3770000</td>\n",
       "      <td>45.4</td>\n",
       "      <td>2019-03-20</td>\n",
       "      <td>2</td>\n",
       "      <td>2.65</td>\n",
       "      <td>9</td>\n",
       "      <td>28.43</td>\n",
       "      <td>2</td>\n",
       "      <td>0</td>\n",
       "      <td>...</td>\n",
       "      <td>42</td>\n",
       "      <td>3770</td>\n",
       "      <td>C</td>\n",
       "      <td>город</td>\n",
       "      <td>0.012042</td>\n",
       "      <td>другой</td>\n",
       "      <td>2</td>\n",
       "      <td>3</td>\n",
       "      <td>2019</td>\n",
       "      <td>16</td>\n",
       "    </tr>\n",
       "  </tbody>\n",
       "</table>\n",
       "<p>1 rows × 31 columns</p>\n",
       "</div>"
      ],
      "text/plain": [
       "       total_images  last_price  total_area first_day_exposition  rooms  \\\n",
       "14539             8     3770000        45.4           2019-03-20      2   \n",
       "\n",
       "       ceiling_height  floors_total  living_area  floor  is_apartment  ...  \\\n",
       "14539            2.65             9        28.43      2             0  ...   \n",
       "\n",
       "       days_exposition  price  price_category  locality_category  \\\n",
       "14539               42   3770               C              город   \n",
       "\n",
       "      one_metr_price  floor_type  weekday  month  year  km_cityCenters  \n",
       "14539       0.012042      другой        2      3  2019              16  \n",
       "\n",
       "[1 rows x 31 columns]"
      ]
     },
     "execution_count": 52,
     "metadata": {},
     "output_type": "execute_result"
    }
   ],
   "source": [
    "data_park = data[data['parks_nearest'] == 1]\n",
    "data_park"
   ]
  },
  {
   "cell_type": "markdown",
   "metadata": {},
   "source": [
    "Медиана и среднее примерно одинаковы, в одном объялении расстояние до парка 1метр, вряд ли дом построен в парке, возможно ошибка при заполнении параметра"
   ]
  },
  {
   "cell_type": "markdown",
   "metadata": {},
   "source": [
    "#### день и месяц"
   ]
  },
  {
   "cell_type": "code",
   "execution_count": 53,
   "metadata": {},
   "outputs": [
    {
     "data": {
      "text/plain": [
       "count    22580.000000\n",
       "mean         2.567050\n",
       "std          1.787352\n",
       "min          0.000000\n",
       "25%          1.000000\n",
       "50%          3.000000\n",
       "75%          4.000000\n",
       "max          6.000000\n",
       "Name: weekday, dtype: float64"
      ]
     },
     "execution_count": 53,
     "metadata": {},
     "output_type": "execute_result"
    },
    {
     "data": {
      "image/png": "[encoded data removed]",
      "text/plain": [
       "<Figure size 504x504 with 1 Axes>"
      ]
     },
     "metadata": {
      "needs_background": "light"
     },
     "output_type": "display_data"
    }
   ],
   "source": [
    "data['weekday'].hist(figsize= (7, 7))\n",
    "data['weekday'].describe()"
   ]
  },
  {
   "cell_type": "markdown",
   "metadata": {},
   "source": [
    "В большей степени объявления публикуются с понедельника по пятницу, в субботу и воскресение публикуются в два раза меньше"
   ]
  },
  {
   "cell_type": "code",
   "execution_count": 54,
   "metadata": {},
   "outputs": [
    {
     "data": {
      "text/plain": [
       "count    22580.000000\n",
       "mean         6.404030\n",
       "std          3.486334\n",
       "min          1.000000\n",
       "25%          3.000000\n",
       "50%          6.000000\n",
       "75%         10.000000\n",
       "max         12.000000\n",
       "Name: month, dtype: float64"
      ]
     },
     "execution_count": 54,
     "metadata": {},
     "output_type": "execute_result"
    },
    {
     "data": {
      "image/png": "[encoded data removed]",
      "text/plain": [
       "<Figure size 432x288 with 1 Axes>"
      ]
     },
     "metadata": {
      "needs_background": "light"
     },
     "output_type": "display_data"
    }
   ],
   "source": [
    "data['month'].hist()\n",
    "data['month'].describe()"
   ]
  },
  {
   "cell_type": "markdown",
   "metadata": {},
   "source": [
    "Больше всего объявлений публикуются зимой"
   ]
  },
  {
   "cell_type": "code",
   "execution_count": 55,
   "metadata": {},
   "outputs": [
    {
     "data": {
      "text/plain": [
       "count    22580.000000\n",
       "mean      2017.375819\n",
       "std          1.039731\n",
       "min       2014.000000\n",
       "25%       2017.000000\n",
       "50%       2017.000000\n",
       "75%       2018.000000\n",
       "max       2019.000000\n",
       "Name: year, dtype: float64"
      ]
     },
     "execution_count": 55,
     "metadata": {},
     "output_type": "execute_result"
    },
    {
     "data": {
      "image/png": "[encoded data removed]",
      "text/plain": [
       "<Figure size 432x288 with 1 Axes>"
      ]
     },
     "metadata": {
      "needs_background": "light"
     },
     "output_type": "display_data"
    }
   ],
   "source": [
    "data['year'].hist()\n",
    "data['year'].describe()"
   ]
  },
  {
   "cell_type": "markdown",
   "metadata": {},
   "source": [
    "С каждым годом, количество публикаций в год увеличивается, возможно это связано с тем, что с каждым годом, все больше людей узнает о платформе для размещения объявлений."
   ]
  },
  {
   "cell_type": "markdown",
   "metadata": {},
   "source": [
    "количество объявлений с 15 по 19 год выросло."
   ]
  },
  {
   "cell_type": "code",
   "execution_count": 56,
   "metadata": {
    "scrolled": false
   },
   "outputs": [
    {
     "data": {
      "text/plain": [
       "count    22580.000000\n",
       "mean       168.689770\n",
       "std        206.209963\n",
       "min          1.000000\n",
       "25%         45.000000\n",
       "50%         95.000000\n",
       "75%        197.000000\n",
       "max       1572.000000\n",
       "Name: days_exposition, dtype: float64"
      ]
     },
     "execution_count": 56,
     "metadata": {},
     "output_type": "execute_result"
    },
    {
     "data": {
      "image/png": "[encoded data removed]",
      "text/plain": [
       "<Figure size 720x720 with 1 Axes>"
      ]
     },
     "metadata": {
      "needs_background": "light"
     },
     "output_type": "display_data"
    }
   ],
   "source": [
    "data['days_exposition'].hist(bins=70, figsize=(10, 10))\n",
    "data['days_exposition'].describe()"
   ]
  },
  {
   "cell_type": "markdown",
   "metadata": {},
   "source": [
    "- Большое количество объявлений 'висит' на сайте около 95 - 100 дней. На гистограмме виден выброс в районе 95-100, Большое количество значений в этом диапозоне влияет на большой разрыв между средним и медианой. Максимальное значение 1580. Вероятно, большие значения имеют место быть, так как продавец может установить большую (несправедливую цену) при скудных параметрах, как в плане площади, так и в параметрах зависящих от территориальной расположенности. Среднее 169, медиана 95"
   ]
  },
  {
   "cell_type": "markdown",
   "metadata": {},
   "source": [
    "# Факторы влияющие на полную стоимость"
   ]
  },
  {
   "cell_type": "code",
   "execution_count": 57,
   "metadata": {},
   "outputs": [],
   "source": [
    "data_scatter = data[data['price'] < 100000]"
   ]
  },
  {
   "cell_type": "markdown",
   "metadata": {},
   "source": [
    "Сократим выборку для построения граффика, чтобы убрать ценовые выбросы"
   ]
  },
  {
   "cell_type": "code",
   "execution_count": 58,
   "metadata": {},
   "outputs": [
    {
     "data": {
      "text/plain": [
       "<AxesSubplot:xlabel='total_area', ylabel='price'>"
      ]
     },
     "execution_count": 58,
     "metadata": {},
     "output_type": "execute_result"
    },
    {
     "data": {
      "image/png": "[encoded data removed]",
      "text/plain": [
       "<Figure size 720x720 with 1 Axes>"
      ]
     },
     "metadata": {
      "needs_background": "light"
     },
     "output_type": "display_data"
    }
   ],
   "source": [
    "data_scatter.plot(x='total_area', y='price', kind='scatter', figsize=(10, 10))"
   ]
  },
  {
   "cell_type": "code",
   "execution_count": 59,
   "metadata": {},
   "outputs": [
    {
     "name": "stdout",
     "output_type": "stream",
     "text": [
      "0.6499969011991683\n"
     ]
    }
   ],
   "source": [
    "print((data['price']).corr(data['total_area']))"
   ]
  },
  {
   "cell_type": "markdown",
   "metadata": {},
   "source": [
    "диаграмма показывае, что с ростом жилой площади растет и цена, корреляция - 0.65"
   ]
  },
  {
   "cell_type": "markdown",
   "metadata": {},
   "source": [
    "### жилая площадь"
   ]
  },
  {
   "cell_type": "code",
   "execution_count": 60,
   "metadata": {},
   "outputs": [
    {
     "data": {
      "text/plain": [
       "<AxesSubplot:xlabel='price', ylabel='living_area'>"
      ]
     },
     "execution_count": 60,
     "metadata": {},
     "output_type": "execute_result"
    },
    {
     "data": {
      "image/png": "[encoded data removed]",
      "text/plain": [
       "<Figure size 576x576 with 1 Axes>"
      ]
     },
     "metadata": {
      "needs_background": "light"
     },
     "output_type": "display_data"
    }
   ],
   "source": [
    "data_scatter.plot(x='price', y='living_area', kind='scatter', figsize=(8, 8))"
   ]
  },
  {
   "cell_type": "code",
   "execution_count": 61,
   "metadata": {},
   "outputs": [
    {
     "name": "stdout",
     "output_type": "stream",
     "text": [
      "0.5201400525177746\n"
     ]
    }
   ],
   "source": [
    "print(data['living_area'].corr(data['price']))"
   ]
  },
  {
   "cell_type": "markdown",
   "metadata": {},
   "source": [
    "На диаграмме видно, что с ростом жилой площади растет и цена, но не с такой большой корреляцией (0.5) как вся плоащдь"
   ]
  },
  {
   "cell_type": "markdown",
   "metadata": {},
   "source": [
    "### кухня"
   ]
  },
  {
   "cell_type": "code",
   "execution_count": 62,
   "metadata": {},
   "outputs": [
    {
     "data": {
      "text/plain": [
       "<AxesSubplot:xlabel='price', ylabel='kitchen_area'>"
      ]
     },
     "execution_count": 62,
     "metadata": {},
     "output_type": "execute_result"
    },
    {
     "data": {
      "image/png": "[encoded data removed]",
      "text/plain": [
       "<Figure size 576x576 with 1 Axes>"
      ]
     },
     "metadata": {
      "needs_background": "light"
     },
     "output_type": "display_data"
    }
   ],
   "source": [
    "data_scatter.plot(x='price', y='kitchen_area', kind='scatter', figsize=(8, 8))"
   ]
  },
  {
   "cell_type": "code",
   "execution_count": 63,
   "metadata": {},
   "outputs": [
    {
     "name": "stdout",
     "output_type": "stream",
     "text": [
      "0.4160955987046591\n"
     ]
    }
   ],
   "source": [
    "print(data['kitchen_area'].corr(data['price']))"
   ]
  },
  {
   "cell_type": "markdown",
   "metadata": {},
   "source": [
    "Корреляция - 0.4, тем не менее мы видим прогрессию цены вместе с площадью кухни"
   ]
  },
  {
   "cell_type": "markdown",
   "metadata": {},
   "source": [
    "### количество комнат"
   ]
  },
  {
   "cell_type": "code",
   "execution_count": 64,
   "metadata": {},
   "outputs": [
    {
     "data": {
      "text/plain": [
       "<AxesSubplot:xlabel='price', ylabel='rooms'>"
      ]
     },
     "execution_count": 64,
     "metadata": {},
     "output_type": "execute_result"
    },
    {
     "data": {
      "image/png": "[encoded data removed]",
      "text/plain": [
       "<Figure size 576x576 with 1 Axes>"
      ]
     },
     "metadata": {
      "needs_background": "light"
     },
     "output_type": "display_data"
    }
   ],
   "source": [
    "data_scatter.plot(x='price', y='rooms', kind='scatter', figsize=(8, 8))"
   ]
  },
  {
   "cell_type": "code",
   "execution_count": 65,
   "metadata": {},
   "outputs": [
    {
     "name": "stdout",
     "output_type": "stream",
     "text": [
      "0.3603833410276938\n"
     ]
    }
   ],
   "source": [
    "print(data['price'].corr(data['rooms']))"
   ]
  },
  {
   "cell_type": "markdown",
   "metadata": {},
   "source": [
    "Корреляция 0.36, линии комнат на гистограмме с ростом количества комнат становятся длиней и стремятся вправо, от 5 комнат и больше, видно, что коррелция теряется"
   ]
  },
  {
   "cell_type": "markdown",
   "metadata": {},
   "source": [
    "### тип этажа"
   ]
  },
  {
   "cell_type": "code",
   "execution_count": 66,
   "metadata": {},
   "outputs": [
    {
     "data": {
      "text/plain": [
       "<AxesSubplot:xlabel='price', ylabel='floor_type'>"
      ]
     },
     "execution_count": 66,
     "metadata": {},
     "output_type": "execute_result"
    },
    {
     "data": {
      "image/png": "[encoded data removed]",
      "text/plain": [
       "<Figure size 576x576 with 1 Axes>"
      ]
     },
     "metadata": {
      "needs_background": "light"
     },
     "output_type": "display_data"
    }
   ],
   "source": [
    "data_scatter.plot(x='price', y='floor_type',kind='scatter', figsize=(8, 8))"
   ]
  },
  {
   "cell_type": "code",
   "execution_count": 67,
   "metadata": {},
   "outputs": [
    {
     "name": "stdout",
     "output_type": "stream",
     "text": [
      "floor_type\n",
      "другой       16648\n",
      "первый        2770\n",
      "последний     3162\n",
      "Name: floor_type, dtype: int64\n"
     ]
    }
   ],
   "source": [
    "print(data.groupby('floor_type')['floor_type'].count())"
   ]
  },
  {
   "cell_type": "markdown",
   "metadata": {},
   "source": [
    "График показывает, что у типа этажа 'другой' больше корреляция с ценой, но надо учитывать, что в этом типе в разы больше значений "
   ]
  },
  {
   "cell_type": "markdown",
   "metadata": {},
   "source": [
    "### даты размещения"
   ]
  },
  {
   "cell_type": "code",
   "execution_count": 68,
   "metadata": {},
   "outputs": [
    {
     "data": {
      "text/plain": [
       "<AxesSubplot:xlabel='price', ylabel='first_day_exposition'>"
      ]
     },
     "execution_count": 68,
     "metadata": {},
     "output_type": "execute_result"
    },
    {
     "data": {
      "image/png": "[encoded data removed]",
      "text/plain": [
       "<Figure size 576x576 with 1 Axes>"
      ]
     },
     "metadata": {
      "needs_background": "light"
     },
     "output_type": "display_data"
    }
   ],
   "source": [
    "data_scatter.plot(x='price', y='first_day_exposition', kind='scatter', figsize=(8, 8))"
   ]
  },
  {
   "cell_type": "code",
   "execution_count": 69,
   "metadata": {},
   "outputs": [
    {
     "name": "stdout",
     "output_type": "stream",
     "text": [
      "0.010184294591555856\n",
      "0.00234615382674312\n",
      "-0.04441974361670204\n"
     ]
    }
   ],
   "source": [
    "print(data['price'].corr(data['first_day_exposition'].dt.day))\n",
    "print(data['price'].corr(data['first_day_exposition'].dt.month))\n",
    "print(data['price'].corr(data['first_day_exposition'].dt.year))"
   ]
  },
  {
   "cell_type": "markdown",
   "metadata": {},
   "source": [
    "Даты публикации не имеют корреляции вообще"
   ]
  },
  {
   "cell_type": "code",
   "execution_count": 70,
   "metadata": {},
   "outputs": [],
   "source": [
    "# оставляем только названия населенных пунктов\n",
    "data.loc[:,'locality_name'] = data.loc[:,'locality_name'].replace('поселок городского типа ', '', regex=True)\n",
    "data.loc[:,'locality_name'] = data.loc[:,'locality_name'].replace('посёлок городского типа ', '', regex=True)\n",
    "data.loc[:,'locality_name'] = data.loc[:,'locality_name'].replace('поселок ', '', regex=True)\n",
    "data.loc[:,'locality_name'] = data.loc[:,'locality_name'].replace('посёлок ', '', regex=True)\n",
    "data.loc[:,'locality_name'] = data.loc[:,'locality_name'].replace('городской ', '', regex=True)\n",
    "data.loc[:,'locality_name'] = data.loc[:,'locality_name'].replace('пок ', '', regex=True)\n",
    "data.loc[:,'locality_name'] = data.loc[:,'locality_name'].replace('деревня ', '', regex=True)\n",
    "data.loc[:,'locality_name'] = data.loc[:,'locality_name'].replace('при железнодорожной станции ', '', regex=True)\n",
    "data.loc[:,'locality_name'] = data.loc[:,'locality_name'].replace('коттеджный ', '', regex=True)\n",
    "data.loc[:,'locality_name'] = data.loc[:,'locality_name'].replace('садоводческое некоммерческое товарищество ', '', regex=True)\n",
    "data.loc[:,'locality_name'] = data.loc[:,'locality_name'].replace('садовое товарищество ', '', regex=True)\n",
    "data.loc[:,'locality_name'] = data.loc[:,'locality_name'].replace('станции ', '', regex=True)"
   ]
  },
  {
   "cell_type": "code",
   "execution_count": 71,
   "metadata": {},
   "outputs": [
    {
     "data": {
      "text/plain": [
       "array(['Санкт-Петербург', 'Шушары', 'Янино-1', 'Парголово', 'Мурино',\n",
       "       'Ломоносов', 'Сертолово', 'Петергоф', 'Пушкин', 'Коммунар',\n",
       "       'Колпино', 'Красный Бор', 'Гатчина', 'Выборг', 'Кронштадт',\n",
       "       'Кировск', 'Металлострой', 'Лебяжье', 'Сиверский', 'Молодцово',\n",
       "       'Кузьмоловский', 'Новая Ропша', 'Павловск', 'Всеволожск', 'Волхов',\n",
       "       'Кингисепп', 'Приозерск', 'Сестрорецк', 'Аннино', 'Ефимовский',\n",
       "       'Плодовое', 'Торковичи', 'Первомайское', 'Красное Село',\n",
       "       'Понтонный', 'Сясьстрой', 'Новый Свет', 'Сланцы', 'село Путилово',\n",
       "       'Ивангород', 'Шлиссельбург', 'Никольское', 'Зеленогорск',\n",
       "       'Сосновый Бор', 'Кудрово', 'Романовка', 'Бугры', 'Рощино',\n",
       "       'Кириши', 'Луга', 'Волосово', 'Отрадное', 'село Павлово', 'Оредеж',\n",
       "       'село Копорье', 'Молодёжное', 'Тихвин', 'Победа', 'Синявино',\n",
       "       'Тосно', 'Стрельна', 'Бокситогорск', 'Александровская', 'Пикалёво',\n",
       "       'Терволово', 'Советский', 'Подпорожье', 'Петровское', 'Токсово',\n",
       "       'Сельцо', 'Вырица', 'Тельмана', 'Севастьяново', 'Большая Ижора',\n",
       "       'Павлово', 'Новогорелово', 'Лесогорский', 'Цвелодубово', 'Рахья',\n",
       "       'Заводской', 'Новоселье', 'Приморск', 'Фёдоровское',\n",
       "       'Новая Ладога', 'Зимитицы', 'Барышево', 'имени Свердлова',\n",
       "       'Рябово', 'Корнево', 'Поляны', 'Мга', 'Елизаветино', 'Кузнечное',\n",
       "       'Запорожское', 'Мичуринское', 'имени Морозова', 'Песочный',\n",
       "       'Сосново', 'Ильичёво', 'Тайцы', 'Вещево', 'село Паша', 'Ульяновка',\n",
       "       'Дубровка', 'Войсковицы', 'Ропша', 'Приладожский', 'Щеглово',\n",
       "       'Гаврилово', 'Лодейное Поле', 'Никольский', 'Петро-Славянка',\n",
       "       'Назия', 'Репино', 'Углово', 'Старая Малукса', 'Сапёрный',\n",
       "       'Семрино', 'Глажево', 'Кобринское', 'Приветнинское', 'Цвылёво',\n",
       "       'Мельниково', 'Пудость', 'Усть-Луга', 'Светогорск', 'Любань',\n",
       "       'Селезнёво', 'Каменногорск', 'Глебычево', 'Жилпосёлок',\n",
       "       'Войскорово', 'село Никольское', 'Стеклянный', 'Важины',\n",
       "       'Мыза-Ивановка', 'село Русско-Высоцкое', 'Форносово',\n",
       "       'село Старая Ладога', 'Житково', 'Виллози', 'Сумино',\n",
       "       'Возрождение', 'Кикерино', 'Пригородный', 'Торфяное', 'Будогощь',\n",
       "       'Суходолье', 'Красная Долина', 'Дружная Горка', 'Лисий Нос',\n",
       "       'село Рождествено', 'Левашово', 'Лесная Поляна', 'Жилгородок',\n",
       "       'Новый Учхоз', 'Гончарово', 'Почап', 'Сапёрное',\n",
       "       'Платформа 69-й километр', 'Каложицы', 'Белоостров', 'Алексеевка',\n",
       "       'Серебрянский', 'Лукаши', 'Кингисеппский', 'Ушаки',\n",
       "       'Форт Красная Горка', 'Громово', 'Коммунары', 'Починок',\n",
       "       'Вознесенье', 'Гладкое', 'Тёсово-4', 'Коробицыно', 'Кобралово',\n",
       "       'Кондратьево', 'Счастье', 'Семиозерье', 'Лесное', 'Совхозный',\n",
       "       'Ленинское', 'Суйда', 'Свирь', 'Перово', 'Высоцк', 'Гарболово',\n",
       "       'село Шум', 'Котельский', 'Лужайка', 'Красносельское',\n",
       "       'Кивеннапа Север', 'Ромашки', 'Плоское', 'Кирпичное', 'Шугозеро',\n",
       "       'Пушное', 'Садко', 'Усть-Ижора', 'Свирьстрой', 'Калитино',\n",
       "       'Высокоключевой', 'Пансионат Зелёный Бор', 'Рабитицы',\n",
       "       'Дружноселье', 'Пчевжа', 'Володарское', 'Дзержинского'],\n",
       "      dtype=object)"
      ]
     },
     "execution_count": 71,
     "metadata": {},
     "output_type": "execute_result"
    }
   ],
   "source": [
    "data['locality_name'].unique()"
   ]
  },
  {
   "cell_type": "code",
   "execution_count": 72,
   "metadata": {},
   "outputs": [
    {
     "data": {
      "text/html": [
       "<div>\n",
       "<style scoped>\n",
       "    .dataframe tbody tr th:only-of-type {\n",
       "        vertical-align: middle;\n",
       "    }\n",
       "\n",
       "    .dataframe tbody tr th {\n",
       "        vertical-align: top;\n",
       "    }\n",
       "\n",
       "    .dataframe thead th {\n",
       "        text-align: right;\n",
       "    }\n",
       "</style>\n",
       "<table border=\"1\" class=\"dataframe\">\n",
       "  <thead>\n",
       "    <tr style=\"text-align: right;\">\n",
       "      <th></th>\n",
       "      <th>count</th>\n",
       "      <th>mean</th>\n",
       "    </tr>\n",
       "    <tr>\n",
       "      <th>locality_name</th>\n",
       "      <th></th>\n",
       "      <th></th>\n",
       "    </tr>\n",
       "  </thead>\n",
       "  <tbody>\n",
       "    <tr>\n",
       "      <th>Санкт-Петербург</th>\n",
       "      <td>15624</td>\n",
       "      <td>0.010110</td>\n",
       "    </tr>\n",
       "    <tr>\n",
       "      <th>Мурино</th>\n",
       "      <td>586</td>\n",
       "      <td>0.011983</td>\n",
       "    </tr>\n",
       "    <tr>\n",
       "      <th>Шушары</th>\n",
       "      <td>439</td>\n",
       "      <td>0.013123</td>\n",
       "    </tr>\n",
       "    <tr>\n",
       "      <th>Всеволожск</th>\n",
       "      <td>397</td>\n",
       "      <td>0.015338</td>\n",
       "    </tr>\n",
       "    <tr>\n",
       "      <th>Пушкин</th>\n",
       "      <td>369</td>\n",
       "      <td>0.010046</td>\n",
       "    </tr>\n",
       "    <tr>\n",
       "      <th>Колпино</th>\n",
       "      <td>338</td>\n",
       "      <td>0.013590</td>\n",
       "    </tr>\n",
       "    <tr>\n",
       "      <th>Парголово</th>\n",
       "      <td>327</td>\n",
       "      <td>0.011567</td>\n",
       "    </tr>\n",
       "    <tr>\n",
       "      <th>Гатчина</th>\n",
       "      <td>307</td>\n",
       "      <td>0.015616</td>\n",
       "    </tr>\n",
       "    <tr>\n",
       "      <th>Выборг</th>\n",
       "      <td>234</td>\n",
       "      <td>0.018191</td>\n",
       "    </tr>\n",
       "    <tr>\n",
       "      <th>Петергоф</th>\n",
       "      <td>201</td>\n",
       "      <td>0.012173</td>\n",
       "    </tr>\n",
       "  </tbody>\n",
       "</table>\n",
       "</div>"
      ],
      "text/plain": [
       "                 count      mean\n",
       "locality_name                   \n",
       "Санкт-Петербург  15624  0.010110\n",
       "Мурино             586  0.011983\n",
       "Шушары             439  0.013123\n",
       "Всеволожск         397  0.015338\n",
       "Пушкин             369  0.010046\n",
       "Колпино            338  0.013590\n",
       "Парголово          327  0.011567\n",
       "Гатчина            307  0.015616\n",
       "Выборг             234  0.018191\n",
       "Петергоф           201  0.012173"
      ]
     },
     "execution_count": 72,
     "metadata": {},
     "output_type": "execute_result"
    }
   ],
   "source": [
    "data_gr = data.pivot_table(index='locality_name', values='one_metr_price', aggfunc=['count', 'mean'])\n",
    "data_gr.columns=['count', 'mean']\n",
    "data_gr = data_gr.sort_values('count', ascending=False).head(10)\n",
    "data_gr"
   ]
  },
  {
   "cell_type": "code",
   "execution_count": 73,
   "metadata": {},
   "outputs": [
    {
     "name": "stdout",
     "output_type": "stream",
     "text": [
      "               count      mean\n",
      "locality_name                 \n",
      "Выборг           234  0.018191\n",
      "               count      mean\n",
      "locality_name                 \n",
      "Пушкин           369  0.010046\n"
     ]
    }
   ],
   "source": [
    "print(data_gr.query('mean == mean.max()'))\n",
    "print(data_gr.query('mean == mean.min()'))"
   ]
  },
  {
   "cell_type": "markdown",
   "metadata": {},
   "source": [
    "Среди 10 городов с самым большим количеством объявлений, городом с самой высокой ценой за квадратный метр стал Выборг.\n",
    "А с самой низкой ценой за квадратный метр, стал г.Пушкин"
   ]
  },
  {
   "cell_type": "code",
   "execution_count": 74,
   "metadata": {},
   "outputs": [
    {
     "data": {
      "text/html": [
       "<div>\n",
       "<style scoped>\n",
       "    .dataframe tbody tr th:only-of-type {\n",
       "        vertical-align: middle;\n",
       "    }\n",
       "\n",
       "    .dataframe tbody tr th {\n",
       "        vertical-align: top;\n",
       "    }\n",
       "\n",
       "    .dataframe thead th {\n",
       "        text-align: right;\n",
       "    }\n",
       "</style>\n",
       "<table border=\"1\" class=\"dataframe\">\n",
       "  <thead>\n",
       "    <tr style=\"text-align: right;\">\n",
       "      <th></th>\n",
       "      <th>total_images</th>\n",
       "      <th>last_price</th>\n",
       "      <th>total_area</th>\n",
       "      <th>first_day_exposition</th>\n",
       "      <th>rooms</th>\n",
       "      <th>ceiling_height</th>\n",
       "      <th>floors_total</th>\n",
       "      <th>living_area</th>\n",
       "      <th>floor</th>\n",
       "      <th>is_apartment</th>\n",
       "      <th>...</th>\n",
       "      <th>days_exposition</th>\n",
       "      <th>price</th>\n",
       "      <th>price_category</th>\n",
       "      <th>locality_category</th>\n",
       "      <th>one_metr_price</th>\n",
       "      <th>floor_type</th>\n",
       "      <th>weekday</th>\n",
       "      <th>month</th>\n",
       "      <th>year</th>\n",
       "      <th>km_cityCenters</th>\n",
       "    </tr>\n",
       "  </thead>\n",
       "  <tbody>\n",
       "    <tr>\n",
       "      <th>0</th>\n",
       "      <td>20</td>\n",
       "      <td>13000000</td>\n",
       "      <td>108.0</td>\n",
       "      <td>2019-03-07</td>\n",
       "      <td>3</td>\n",
       "      <td>2.70</td>\n",
       "      <td>16</td>\n",
       "      <td>51.000000</td>\n",
       "      <td>8</td>\n",
       "      <td>0</td>\n",
       "      <td>...</td>\n",
       "      <td>95</td>\n",
       "      <td>13000</td>\n",
       "      <td>B</td>\n",
       "      <td>город</td>\n",
       "      <td>0.008308</td>\n",
       "      <td>другой</td>\n",
       "      <td>3</td>\n",
       "      <td>3</td>\n",
       "      <td>2019</td>\n",
       "      <td>16</td>\n",
       "    </tr>\n",
       "    <tr>\n",
       "      <th>2</th>\n",
       "      <td>10</td>\n",
       "      <td>5196000</td>\n",
       "      <td>56.0</td>\n",
       "      <td>2015-08-20</td>\n",
       "      <td>2</td>\n",
       "      <td>2.65</td>\n",
       "      <td>5</td>\n",
       "      <td>34.300000</td>\n",
       "      <td>4</td>\n",
       "      <td>0</td>\n",
       "      <td>...</td>\n",
       "      <td>558</td>\n",
       "      <td>5196</td>\n",
       "      <td>B</td>\n",
       "      <td>город</td>\n",
       "      <td>0.010778</td>\n",
       "      <td>другой</td>\n",
       "      <td>3</td>\n",
       "      <td>8</td>\n",
       "      <td>2015</td>\n",
       "      <td>13</td>\n",
       "    </tr>\n",
       "    <tr>\n",
       "      <th>3</th>\n",
       "      <td>0</td>\n",
       "      <td>64900000</td>\n",
       "      <td>159.0</td>\n",
       "      <td>2015-07-24</td>\n",
       "      <td>3</td>\n",
       "      <td>2.65</td>\n",
       "      <td>14</td>\n",
       "      <td>56.818182</td>\n",
       "      <td>9</td>\n",
       "      <td>0</td>\n",
       "      <td>...</td>\n",
       "      <td>424</td>\n",
       "      <td>64900</td>\n",
       "      <td>A</td>\n",
       "      <td>город</td>\n",
       "      <td>0.002450</td>\n",
       "      <td>другой</td>\n",
       "      <td>4</td>\n",
       "      <td>7</td>\n",
       "      <td>2015</td>\n",
       "      <td>6</td>\n",
       "    </tr>\n",
       "    <tr>\n",
       "      <th>4</th>\n",
       "      <td>2</td>\n",
       "      <td>10000000</td>\n",
       "      <td>100.0</td>\n",
       "      <td>2018-06-19</td>\n",
       "      <td>2</td>\n",
       "      <td>3.03</td>\n",
       "      <td>14</td>\n",
       "      <td>32.000000</td>\n",
       "      <td>13</td>\n",
       "      <td>0</td>\n",
       "      <td>...</td>\n",
       "      <td>121</td>\n",
       "      <td>10000</td>\n",
       "      <td>B</td>\n",
       "      <td>город</td>\n",
       "      <td>0.010000</td>\n",
       "      <td>другой</td>\n",
       "      <td>1</td>\n",
       "      <td>6</td>\n",
       "      <td>2018</td>\n",
       "      <td>8</td>\n",
       "    </tr>\n",
       "    <tr>\n",
       "      <th>7</th>\n",
       "      <td>5</td>\n",
       "      <td>7915000</td>\n",
       "      <td>71.6</td>\n",
       "      <td>2019-04-18</td>\n",
       "      <td>2</td>\n",
       "      <td>2.65</td>\n",
       "      <td>24</td>\n",
       "      <td>56.818182</td>\n",
       "      <td>22</td>\n",
       "      <td>0</td>\n",
       "      <td>...</td>\n",
       "      <td>95</td>\n",
       "      <td>7915</td>\n",
       "      <td>B</td>\n",
       "      <td>город</td>\n",
       "      <td>0.009046</td>\n",
       "      <td>другой</td>\n",
       "      <td>3</td>\n",
       "      <td>4</td>\n",
       "      <td>2019</td>\n",
       "      <td>11</td>\n",
       "    </tr>\n",
       "  </tbody>\n",
       "</table>\n",
       "<p>5 rows × 31 columns</p>\n",
       "</div>"
      ],
      "text/plain": [
       "   total_images  last_price  total_area first_day_exposition  rooms  \\\n",
       "0            20    13000000       108.0           2019-03-07      3   \n",
       "2            10     5196000        56.0           2015-08-20      2   \n",
       "3             0    64900000       159.0           2015-07-24      3   \n",
       "4             2    10000000       100.0           2018-06-19      2   \n",
       "7             5     7915000        71.6           2019-04-18      2   \n",
       "\n",
       "   ceiling_height  floors_total  living_area  floor  is_apartment  ...  \\\n",
       "0            2.70            16    51.000000      8             0  ...   \n",
       "2            2.65             5    34.300000      4             0  ...   \n",
       "3            2.65            14    56.818182      9             0  ...   \n",
       "4            3.03            14    32.000000     13             0  ...   \n",
       "7            2.65            24    56.818182     22             0  ...   \n",
       "\n",
       "   days_exposition  price  price_category  locality_category one_metr_price  \\\n",
       "0               95  13000               B              город       0.008308   \n",
       "2              558   5196               B              город       0.010778   \n",
       "3              424  64900               A              город       0.002450   \n",
       "4              121  10000               B              город       0.010000   \n",
       "7               95   7915               B              город       0.009046   \n",
       "\n",
       "   floor_type  weekday  month  year  km_cityCenters  \n",
       "0      другой        3      3  2019              16  \n",
       "2      другой        3      8  2015              13  \n",
       "3      другой        4      7  2015               6  \n",
       "4      другой        1      6  2018               8  \n",
       "7      другой        3      4  2019              11  \n",
       "\n",
       "[5 rows x 31 columns]"
      ]
     },
     "execution_count": 74,
     "metadata": {},
     "output_type": "execute_result"
    }
   ],
   "source": [
    "data_spb = data[data['locality_name'] == 'Санкт-Петербург']\n",
    "data_spb = data_spb[data_spb['price'] < 150000]\n",
    "data_spb.head()"
   ]
  },
  {
   "cell_type": "code",
   "execution_count": 75,
   "metadata": {},
   "outputs": [
    {
     "data": {
      "text/plain": [
       "<AxesSubplot:xlabel='price', ylabel='km_cityCenters'>"
      ]
     },
     "execution_count": 75,
     "metadata": {},
     "output_type": "execute_result"
    },
    {
     "data": {
      "image/png": "[encoded data removed]",
      "text/plain": [
       "<Figure size 432x288 with 1 Axes>"
      ]
     },
     "metadata": {
      "needs_background": "light"
     },
     "output_type": "display_data"
    }
   ],
   "source": [
    "\n",
    "data_spb['km_cityCenters'] = data_spb['km_cityCenters'].astype('int')\n",
    "data_spb.plot(kind='scatter', x='price', y='km_cityCenters')"
   ]
  },
  {
   "cell_type": "code",
   "execution_count": 76,
   "metadata": {},
   "outputs": [
    {
     "data": {
      "text/plain": [
       "<AxesSubplot:>"
      ]
     },
     "execution_count": 76,
     "metadata": {},
     "output_type": "execute_result"
    },
    {
     "data": {
      "image/png": "[encoded data removed]",
      "text/plain": [
       "<Figure size 432x288 with 1 Axes>"
      ]
     },
     "metadata": {
      "needs_background": "light"
     },
     "output_type": "display_data"
    }
   ],
   "source": [
    "data_spb['km_cityCenters'].hist()"
   ]
  },
  {
   "cell_type": "code",
   "execution_count": 77,
   "metadata": {},
   "outputs": [
    {
     "data": {
      "text/html": [
       "<div>\n",
       "<style scoped>\n",
       "    .dataframe tbody tr th:only-of-type {\n",
       "        vertical-align: middle;\n",
       "    }\n",
       "\n",
       "    .dataframe tbody tr th {\n",
       "        vertical-align: top;\n",
       "    }\n",
       "\n",
       "    .dataframe thead th {\n",
       "        text-align: right;\n",
       "    }\n",
       "</style>\n",
       "<table border=\"1\" class=\"dataframe\">\n",
       "  <thead>\n",
       "    <tr style=\"text-align: right;\">\n",
       "      <th></th>\n",
       "      <th>price</th>\n",
       "    </tr>\n",
       "    <tr>\n",
       "      <th>km_cityCenters</th>\n",
       "      <th></th>\n",
       "    </tr>\n",
       "  </thead>\n",
       "  <tbody>\n",
       "    <tr>\n",
       "      <th>0</th>\n",
       "      <td>20202.833333</td>\n",
       "    </tr>\n",
       "    <tr>\n",
       "      <th>1</th>\n",
       "      <td>16020.192308</td>\n",
       "    </tr>\n",
       "    <tr>\n",
       "      <th>2</th>\n",
       "      <td>14429.019672</td>\n",
       "    </tr>\n",
       "    <tr>\n",
       "      <th>3</th>\n",
       "      <td>11712.817658</td>\n",
       "    </tr>\n",
       "    <tr>\n",
       "      <th>4</th>\n",
       "      <td>13283.686667</td>\n",
       "    </tr>\n",
       "    <tr>\n",
       "      <th>5</th>\n",
       "      <td>13705.464474</td>\n",
       "    </tr>\n",
       "    <tr>\n",
       "      <th>6</th>\n",
       "      <td>13340.825806</td>\n",
       "    </tr>\n",
       "    <tr>\n",
       "      <th>7</th>\n",
       "      <td>11793.444444</td>\n",
       "    </tr>\n",
       "    <tr>\n",
       "      <th>8</th>\n",
       "      <td>8420.888889</td>\n",
       "    </tr>\n",
       "    <tr>\n",
       "      <th>9</th>\n",
       "      <td>6426.382824</td>\n",
       "    </tr>\n",
       "    <tr>\n",
       "      <th>10</th>\n",
       "      <td>6372.433297</td>\n",
       "    </tr>\n",
       "    <tr>\n",
       "      <th>11</th>\n",
       "      <td>5965.771368</td>\n",
       "    </tr>\n",
       "    <tr>\n",
       "      <th>12</th>\n",
       "      <td>6353.676003</td>\n",
       "    </tr>\n",
       "    <tr>\n",
       "      <th>13</th>\n",
       "      <td>6018.401722</td>\n",
       "    </tr>\n",
       "    <tr>\n",
       "      <th>14</th>\n",
       "      <td>5757.872255</td>\n",
       "    </tr>\n",
       "    <tr>\n",
       "      <th>15</th>\n",
       "      <td>5541.343796</td>\n",
       "    </tr>\n",
       "    <tr>\n",
       "      <th>16</th>\n",
       "      <td>5520.067935</td>\n",
       "    </tr>\n",
       "    <tr>\n",
       "      <th>17</th>\n",
       "      <td>4872.353167</td>\n",
       "    </tr>\n",
       "    <tr>\n",
       "      <th>18</th>\n",
       "      <td>5349.017341</td>\n",
       "    </tr>\n",
       "    <tr>\n",
       "      <th>19</th>\n",
       "      <td>4678.743902</td>\n",
       "    </tr>\n",
       "    <tr>\n",
       "      <th>20</th>\n",
       "      <td>6393.036145</td>\n",
       "    </tr>\n",
       "    <tr>\n",
       "      <th>21</th>\n",
       "      <td>5183.215385</td>\n",
       "    </tr>\n",
       "    <tr>\n",
       "      <th>22</th>\n",
       "      <td>5425.496403</td>\n",
       "    </tr>\n",
       "    <tr>\n",
       "      <th>23</th>\n",
       "      <td>4126.866667</td>\n",
       "    </tr>\n",
       "    <tr>\n",
       "      <th>24</th>\n",
       "      <td>3862.227273</td>\n",
       "    </tr>\n",
       "    <tr>\n",
       "      <th>25</th>\n",
       "      <td>4048.492308</td>\n",
       "    </tr>\n",
       "    <tr>\n",
       "      <th>26</th>\n",
       "      <td>3575.000000</td>\n",
       "    </tr>\n",
       "    <tr>\n",
       "      <th>27</th>\n",
       "      <td>8300.000000</td>\n",
       "    </tr>\n",
       "    <tr>\n",
       "      <th>28</th>\n",
       "      <td>4910.500000</td>\n",
       "    </tr>\n",
       "    <tr>\n",
       "      <th>29</th>\n",
       "      <td>3833.333333</td>\n",
       "    </tr>\n",
       "  </tbody>\n",
       "</table>\n",
       "</div>"
      ],
      "text/plain": [
       "                       price\n",
       "km_cityCenters              \n",
       "0               20202.833333\n",
       "1               16020.192308\n",
       "2               14429.019672\n",
       "3               11712.817658\n",
       "4               13283.686667\n",
       "5               13705.464474\n",
       "6               13340.825806\n",
       "7               11793.444444\n",
       "8                8420.888889\n",
       "9                6426.382824\n",
       "10               6372.433297\n",
       "11               5965.771368\n",
       "12               6353.676003\n",
       "13               6018.401722\n",
       "14               5757.872255\n",
       "15               5541.343796\n",
       "16               5520.067935\n",
       "17               4872.353167\n",
       "18               5349.017341\n",
       "19               4678.743902\n",
       "20               6393.036145\n",
       "21               5183.215385\n",
       "22               5425.496403\n",
       "23               4126.866667\n",
       "24               3862.227273\n",
       "25               4048.492308\n",
       "26               3575.000000\n",
       "27               8300.000000\n",
       "28               4910.500000\n",
       "29               3833.333333"
      ]
     },
     "execution_count": 77,
     "metadata": {},
     "output_type": "execute_result"
    }
   ],
   "source": [
    "data_spb_metr = data_spb.pivot_table(index='km_cityCenters', values='price')\n",
    "data_spb_metr"
   ]
  },
  {
   "cell_type": "code",
   "execution_count": 78,
   "metadata": {},
   "outputs": [
    {
     "data": {
      "image/png": "[encoded data removed]",
      "text/plain": [
       "<Figure size 432x288 with 1 Axes>"
      ]
     },
     "metadata": {
      "needs_background": "light"
     },
     "output_type": "display_data"
    }
   ],
   "source": [
    "data_spb_metr.plot(style='o-', title = 'Заголовок')\n",
    "plt.show()"
   ]
  },
  {
   "cell_type": "markdown",
   "metadata": {},
   "source": [
    "Для удобства я отбросил квартиры с высокими ценами, их там несколько штук. Сделал сводную таблицу по километрах и вывел среднюю цену для каждого.\n",
    "\n",
    "Вывод: конечно в соседних индексах можно заметить, что значения могут не особо менятся, а некоторые даже растут с удалением от центра, но общая тенденция на всей 'дистанции'  - квартиры дешевеют."
   ]
  },
  {
   "cell_type": "markdown",
   "metadata": {},
   "source": [
    "**Общий вывод:**\n",
    "- Самым важным фактором в ценообразовании квартиры влияют параметры связанные с площадью. Корреляция всей площади по отношению к росту цены равна 0.65\n",
    "\n",
    "- По мере удаления от центра города, цена за 1 км постепенно снижается, но самый резкий спад значений наблюдается в районе от 7 до 8 километров от центра. Так же можно увидеть выброс на 27-ом километре (8300).\n",
    "\n",
    "- Если разбить населенные пункты на группы и искать пропущенные значения для каждой, можно заметить, что в группе 'деревня' все значения связанные с аэропортами, парками, прудами и расстоянием от центра  - пропущены. Возможно продавцы просто не вписывают эти значения тк вблизи нету атрибутов соответсвующих этим параметрам.\n",
    "\n",
    "- При проверке прошу заметить, что я сделал новый столбец price в котором значения last_price поделил на 1000, мне так удобней было\n",
    "\n",
    "- С большим отрывом, больше всего объявлений из города Санкт-Петербург\n",
    "\n",
    "- Пропуски в данных могли возикнуть из за незаполненых параметров при публикации объявления"
   ]
  },
  {
   "cell_type": "markdown",
   "metadata": {},
   "source": [
    "**Чек-лист готовности проекта**\n",
    "\n",
    "Поставьте 'x' в выполненных пунктах. Далее нажмите Shift+Enter."
   ]
  },
  {
   "cell_type": "markdown",
   "metadata": {},
   "source": [
    "- [x]  открыт файл\n",
    "- [x]  файлы изучены (выведены первые строки, метод `info()`, гистограммы и т.д.)\n",
    "- [x]  определены пропущенные значения\n",
    "- [x]  заполнены пропущенные значения там, где это возможно\n",
    "- [x]  есть пояснение, какие пропущенные значения обнаружены\n",
    "- [x]  изменены типы данных\n",
    "- [x]  есть пояснение, в каких столбцах изменены типы и почему\n",
    "- [x]  устранены неявные дубликаты в названиях населённых пунктов\n",
    "- [x]  устранены редкие и выбивающиеся значения (аномалии) во всех столбцах\n",
    "- [x]  посчитано и добавлено в таблицу: цена одного квадратного метра\n",
    "- [x]  посчитано и добавлено в таблицу: день публикации объявления (0 - понедельник, 1 - вторник и т.д.)\n",
    "- [x]  посчитано и добавлено в таблицу: месяц публикации объявления\n",
    "- [x]  посчитано и добавлено в таблицу: год публикации объявления\n",
    "- [x]  посчитано и добавлено в таблицу: тип этажа квартиры (значения — «первый», «последний», «другой»)\n",
    "- [x]  посчитано и добавлено в таблицу: расстояние в км до центра города\n",
    "- [x]  изучены и описаны следующие параметры:\n",
    "        - общая площадь;\n",
    "        - жилая площадь;\n",
    "        - площадь кухни;\n",
    "        - цена объекта;\n",
    "        - количество комнат;\n",
    "        - высота потолков;\n",
    "        - этаж квартиры;\n",
    "        - тип этажа квартиры («первый», «последний», «другой»);\n",
    "        - общее количество этажей в доме;\n",
    "        - расстояние до центра города в метрах;\n",
    "        - расстояние до ближайшего аэропорта;\n",
    "        - расстояние до ближайшего парка;\n",
    "        - день и месяц публикации объявления\n",
    "- [x]  построены гистограммы для каждого параметра\n",
    "- [x]  выполнено задание: \"Изучите, как быстро продавались квартиры (столбец days_exposition). Этот параметр показывает, сколько дней «висело» каждое объявление.\n",
    "    - Постройте гистограмму.\n",
    "    - Посчитайте среднее и медиану.\n",
    "    - В ячейке типа markdown опишите, сколько обычно занимает продажа. Какие продажи можно считать быстрыми, а какие — необычно долгими?\"\n",
    "- [x]  выполнено задание: \"Какие факторы больше всего влияют на общую (полную) стоимость объекта? Постройте графики, которые покажут зависимость цены от указанных ниже параметров. Для подготовки данных перед визуализацией вы можете использовать сводные таблицы.\"\n",
    "        - общей площади;\n",
    "        - жилой площади;\n",
    "        - площади кухни;\n",
    "        - количество комнат;\n",
    "        - типа этажа, на котором расположена квартира (первый, последний, другой);\n",
    "        - даты размещения (день недели, месяц, год);\n",
    "- [x]  выполнено задание: \"Посчитайте среднюю цену одного квадратного метра в 10 населённых пунктах с наибольшим числом объявлений. Выделите населённые пункты с самой высокой и низкой стоимостью квадратного метра. Эти данные можно найти по имени в столбце `locality_name`.\"\n",
    "- [x]  выполнено задание: \"Ранее вы посчитали расстояние до центра в километрах. Теперь выделите квартиры в Санкт-Петербурге с помощью столбца `locality_name` и вычислите среднюю цену каждого километра. Опишите, как стоимость объектов зависит от расстояния до центра города.\"\n",
    "- [x]  в каждом этапе есть промежуточные выводы\n",
    "- [x]  есть общий вывод"
   ]
  },
  {
   "cell_type": "code",
   "execution_count": null,
   "metadata": {},
   "outputs": [],
   "source": []
  }
 ],
 "metadata": {
  "ExecuteTimeLog": [
   {
    "duration": 559,
    "start_time": "2022-08-02T15:56:28.425Z"
   },
   {
    "duration": 81,
    "start_time": "2022-08-02T15:56:46.944Z"
   },
   {
    "duration": 79,
    "start_time": "2022-08-02T15:57:00.048Z"
   },
   {
    "duration": 133,
    "start_time": "2022-08-02T15:57:06.552Z"
   },
   {
    "duration": 100,
    "start_time": "2022-08-02T15:57:14.325Z"
   },
   {
    "duration": 15,
    "start_time": "2022-08-02T15:57:46.949Z"
   },
   {
    "duration": 13,
    "start_time": "2022-08-02T15:58:57.126Z"
   },
   {
    "duration": 98,
    "start_time": "2022-08-02T15:59:17.526Z"
   },
   {
    "duration": 13,
    "start_time": "2022-08-02T15:59:18.525Z"
   },
   {
    "duration": 573,
    "start_time": "2022-08-02T15:59:25.723Z"
   },
   {
    "duration": 12,
    "start_time": "2022-08-02T15:59:26.298Z"
   },
   {
    "duration": 13,
    "start_time": "2022-08-02T15:59:58.031Z"
   },
   {
    "duration": 55,
    "start_time": "2022-08-02T16:00:37.577Z"
   },
   {
    "duration": 2372,
    "start_time": "2022-08-02T16:00:43.342Z"
   },
   {
    "duration": 19,
    "start_time": "2022-08-02T16:02:54.047Z"
   },
   {
    "duration": 8,
    "start_time": "2022-08-02T16:03:04.730Z"
   },
   {
    "duration": 78,
    "start_time": "2022-08-03T12:40:14.269Z"
   },
   {
    "duration": 56,
    "start_time": "2022-08-03T12:44:09.788Z"
   },
   {
    "duration": 1341,
    "start_time": "2022-08-03T12:44:18.575Z"
   },
   {
    "duration": 17,
    "start_time": "2022-08-03T12:44:19.918Z"
   },
   {
    "duration": 2413,
    "start_time": "2022-08-03T12:44:19.937Z"
   },
   {
    "duration": 10,
    "start_time": "2022-08-03T12:44:22.352Z"
   },
   {
    "duration": 604,
    "start_time": "2022-08-03T12:44:22.364Z"
   },
   {
    "duration": 23,
    "start_time": "2022-08-03T12:45:36.324Z"
   },
   {
    "duration": 35,
    "start_time": "2022-08-03T12:45:47.123Z"
   },
   {
    "duration": 1969,
    "start_time": "2022-08-03T14:34:35.066Z"
   },
   {
    "duration": 523,
    "start_time": "2022-08-03T14:34:51.745Z"
   },
   {
    "duration": 14,
    "start_time": "2022-08-03T14:34:52.270Z"
   },
   {
    "duration": 2316,
    "start_time": "2022-08-03T14:34:52.286Z"
   },
   {
    "duration": 20,
    "start_time": "2022-08-03T14:34:54.611Z"
   },
   {
    "duration": 83,
    "start_time": "2022-08-03T14:34:54.633Z"
   },
   {
    "duration": 1244,
    "start_time": "2022-08-03T14:34:54.725Z"
   },
   {
    "duration": 6,
    "start_time": "2022-08-03T14:35:41.145Z"
   },
   {
    "duration": 9,
    "start_time": "2022-08-03T15:07:07.970Z"
   },
   {
    "duration": 6,
    "start_time": "2022-08-03T15:08:06.332Z"
   },
   {
    "duration": 4,
    "start_time": "2022-08-03T15:08:57.968Z"
   },
   {
    "duration": 18,
    "start_time": "2022-08-03T15:09:08.425Z"
   },
   {
    "duration": 11,
    "start_time": "2022-08-03T15:10:51.852Z"
   },
   {
    "duration": 4,
    "start_time": "2022-08-03T15:11:00.092Z"
   },
   {
    "duration": 1011,
    "start_time": "2022-08-03T15:13:57.847Z"
   },
   {
    "duration": 108,
    "start_time": "2022-08-03T15:14:09.451Z"
   },
   {
    "duration": 55,
    "start_time": "2022-08-03T15:14:31.253Z"
   },
   {
    "duration": 34,
    "start_time": "2022-08-03T15:15:56.933Z"
   },
   {
    "duration": 569,
    "start_time": "2022-08-03T15:16:15.984Z"
   },
   {
    "duration": 13,
    "start_time": "2022-08-03T15:16:16.555Z"
   },
   {
    "duration": 2291,
    "start_time": "2022-08-03T15:16:16.570Z"
   },
   {
    "duration": 9,
    "start_time": "2022-08-03T15:16:18.864Z"
   },
   {
    "duration": 40,
    "start_time": "2022-08-03T15:16:18.875Z"
   },
   {
    "duration": 152,
    "start_time": "2022-08-03T15:16:18.917Z"
   },
   {
    "duration": 25,
    "start_time": "2022-08-03T15:16:19.071Z"
   },
   {
    "duration": 12,
    "start_time": "2022-08-03T15:16:45.134Z"
   },
   {
    "duration": 25,
    "start_time": "2022-08-03T15:17:24.922Z"
   },
   {
    "duration": 11,
    "start_time": "2022-08-03T15:17:27.964Z"
   },
   {
    "duration": 20,
    "start_time": "2022-08-03T15:17:38.642Z"
   },
   {
    "duration": 11,
    "start_time": "2022-08-03T15:18:36.635Z"
   },
   {
    "duration": 20,
    "start_time": "2022-08-03T15:18:38.077Z"
   },
   {
    "duration": 82,
    "start_time": "2022-08-03T15:19:36.354Z"
   },
   {
    "duration": 4,
    "start_time": "2022-08-03T15:20:09.862Z"
   },
   {
    "duration": 21,
    "start_time": "2022-08-03T15:20:11.225Z"
   },
   {
    "duration": 23,
    "start_time": "2022-08-03T15:20:19.333Z"
   },
   {
    "duration": 535,
    "start_time": "2022-08-03T15:20:28.561Z"
   },
   {
    "duration": 42,
    "start_time": "2022-08-03T15:20:29.098Z"
   },
   {
    "duration": 2396,
    "start_time": "2022-08-03T15:20:29.142Z"
   },
   {
    "duration": 10,
    "start_time": "2022-08-03T15:20:31.540Z"
   },
   {
    "duration": 38,
    "start_time": "2022-08-03T15:20:31.552Z"
   },
   {
    "duration": 47,
    "start_time": "2022-08-03T15:20:31.592Z"
   },
   {
    "duration": 7,
    "start_time": "2022-08-03T15:22:40.234Z"
   },
   {
    "duration": 23,
    "start_time": "2022-08-03T15:22:47.052Z"
   },
   {
    "duration": 12,
    "start_time": "2022-08-03T15:24:15.846Z"
   },
   {
    "duration": 45,
    "start_time": "2022-08-03T15:24:21.483Z"
   },
   {
    "duration": 81,
    "start_time": "2022-08-03T15:24:34.395Z"
   },
   {
    "duration": 100,
    "start_time": "2022-08-03T15:25:20.933Z"
   },
   {
    "duration": 11,
    "start_time": "2022-08-03T15:25:30.850Z"
   },
   {
    "duration": 36,
    "start_time": "2022-08-03T15:26:08.188Z"
   },
   {
    "duration": 70,
    "start_time": "2022-08-03T15:26:32.589Z"
   },
   {
    "duration": 168,
    "start_time": "2022-08-03T15:26:52.159Z"
   },
   {
    "duration": 12,
    "start_time": "2022-08-03T15:27:52.265Z"
   },
   {
    "duration": 9,
    "start_time": "2022-08-03T15:28:40.681Z"
   },
   {
    "duration": 8,
    "start_time": "2022-08-03T15:29:10.443Z"
   },
   {
    "duration": 11,
    "start_time": "2022-08-03T15:29:13.883Z"
   },
   {
    "duration": 82,
    "start_time": "2022-08-03T15:53:01.703Z"
   },
   {
    "duration": 51,
    "start_time": "2022-08-03T15:54:53.329Z"
   },
   {
    "duration": 354,
    "start_time": "2022-08-03T15:55:18.196Z"
   },
   {
    "duration": 391,
    "start_time": "2022-08-03T15:56:05.565Z"
   },
   {
    "duration": 461,
    "start_time": "2022-08-03T15:56:55.784Z"
   },
   {
    "duration": 336,
    "start_time": "2022-08-03T15:58:09.125Z"
   },
   {
    "duration": 4,
    "start_time": "2022-08-03T16:10:35.666Z"
   },
   {
    "duration": 20,
    "start_time": "2022-08-03T16:12:01.024Z"
   },
   {
    "duration": 12,
    "start_time": "2022-08-03T16:12:11.024Z"
   },
   {
    "duration": 6,
    "start_time": "2022-08-03T16:12:17.272Z"
   },
   {
    "duration": 6,
    "start_time": "2022-08-03T16:12:58.488Z"
   },
   {
    "duration": 11,
    "start_time": "2022-08-03T16:13:25.632Z"
   },
   {
    "duration": 23,
    "start_time": "2022-08-03T16:13:29.323Z"
   },
   {
    "duration": 7,
    "start_time": "2022-08-03T16:14:00.897Z"
   },
   {
    "duration": 580,
    "start_time": "2022-08-03T16:14:50.661Z"
   },
   {
    "duration": 15,
    "start_time": "2022-08-03T16:14:51.246Z"
   },
   {
    "duration": 2392,
    "start_time": "2022-08-03T16:14:51.262Z"
   },
   {
    "duration": 10,
    "start_time": "2022-08-03T16:14:53.656Z"
   },
   {
    "duration": 48,
    "start_time": "2022-08-03T16:14:53.667Z"
   },
   {
    "duration": 10,
    "start_time": "2022-08-03T16:14:53.733Z"
   },
   {
    "duration": 1317,
    "start_time": "2022-08-03T16:14:53.744Z"
   },
   {
    "duration": 0,
    "start_time": "2022-08-03T16:14:55.063Z"
   },
   {
    "duration": 0,
    "start_time": "2022-08-03T16:14:55.064Z"
   },
   {
    "duration": 593,
    "start_time": "2022-08-03T16:15:10.125Z"
   },
   {
    "duration": 21,
    "start_time": "2022-08-03T16:15:10.720Z"
   },
   {
    "duration": 2380,
    "start_time": "2022-08-03T16:15:10.747Z"
   },
   {
    "duration": 13,
    "start_time": "2022-08-03T16:15:13.138Z"
   },
   {
    "duration": 29,
    "start_time": "2022-08-03T16:15:13.152Z"
   },
   {
    "duration": 5,
    "start_time": "2022-08-03T16:15:13.183Z"
   },
   {
    "duration": 67,
    "start_time": "2022-08-03T16:15:13.190Z"
   },
   {
    "duration": 15,
    "start_time": "2022-08-03T16:15:13.259Z"
   },
   {
    "duration": 9,
    "start_time": "2022-08-03T16:24:04.930Z"
   },
   {
    "duration": 9,
    "start_time": "2022-08-03T16:24:13.671Z"
   },
   {
    "duration": 383,
    "start_time": "2022-08-03T16:29:46.003Z"
   },
   {
    "duration": 14,
    "start_time": "2022-08-03T16:31:49.790Z"
   },
   {
    "duration": 284,
    "start_time": "2022-08-03T16:32:12.579Z"
   },
   {
    "duration": 10,
    "start_time": "2022-08-03T16:32:48.423Z"
   },
   {
    "duration": 609,
    "start_time": "2022-08-03T16:33:15.974Z"
   },
   {
    "duration": 8,
    "start_time": "2022-08-03T16:34:25.125Z"
   },
   {
    "duration": 16,
    "start_time": "2022-08-03T16:34:36.134Z"
   },
   {
    "duration": 8,
    "start_time": "2022-08-03T16:35:13.437Z"
   },
   {
    "duration": 33,
    "start_time": "2022-08-03T16:38:29.189Z"
   },
   {
    "duration": 240,
    "start_time": "2022-08-03T16:39:41.422Z"
   },
   {
    "duration": 14,
    "start_time": "2022-08-03T16:40:54.822Z"
   },
   {
    "duration": 9,
    "start_time": "2022-08-03T16:41:14.156Z"
   },
   {
    "duration": 8,
    "start_time": "2022-08-03T16:42:03.669Z"
   },
   {
    "duration": 532,
    "start_time": "2022-08-03T16:42:11.938Z"
   },
   {
    "duration": 14,
    "start_time": "2022-08-03T16:42:12.472Z"
   },
   {
    "duration": 2271,
    "start_time": "2022-08-03T16:42:12.487Z"
   },
   {
    "duration": 11,
    "start_time": "2022-08-03T16:42:14.760Z"
   },
   {
    "duration": 60,
    "start_time": "2022-08-03T16:42:14.773Z"
   },
   {
    "duration": 8,
    "start_time": "2022-08-03T16:42:14.835Z"
   },
   {
    "duration": 9,
    "start_time": "2022-08-03T16:42:14.845Z"
   },
   {
    "duration": 9,
    "start_time": "2022-08-03T16:42:14.856Z"
   },
   {
    "duration": 68,
    "start_time": "2022-08-03T16:47:34.072Z"
   },
   {
    "duration": 21,
    "start_time": "2022-08-03T16:47:40.360Z"
   },
   {
    "duration": 32,
    "start_time": "2022-08-03T16:47:49.977Z"
   },
   {
    "duration": 37,
    "start_time": "2022-08-03T16:48:06.988Z"
   },
   {
    "duration": 12,
    "start_time": "2022-08-03T16:48:25.872Z"
   },
   {
    "duration": 22,
    "start_time": "2022-08-03T16:48:32.566Z"
   },
   {
    "duration": 151,
    "start_time": "2022-08-03T16:49:58.666Z"
   },
   {
    "duration": 203,
    "start_time": "2022-08-03T16:50:04.548Z"
   },
   {
    "duration": 5,
    "start_time": "2022-08-03T16:51:02.976Z"
   },
   {
    "duration": 100,
    "start_time": "2022-08-03T16:58:28.568Z"
   },
   {
    "duration": 10,
    "start_time": "2022-08-03T17:02:22.645Z"
   },
   {
    "duration": 201,
    "start_time": "2022-08-03T17:02:33.021Z"
   },
   {
    "duration": 138,
    "start_time": "2022-08-03T17:02:52.021Z"
   },
   {
    "duration": 11,
    "start_time": "2022-08-03T17:06:11.259Z"
   },
   {
    "duration": 697,
    "start_time": "2022-08-03T17:06:21.762Z"
   },
   {
    "duration": 5,
    "start_time": "2022-08-03T17:06:42.850Z"
   },
   {
    "duration": 17,
    "start_time": "2022-08-03T17:07:16.892Z"
   },
   {
    "duration": 1191,
    "start_time": "2022-08-04T08:38:02.424Z"
   },
   {
    "duration": 19,
    "start_time": "2022-08-04T08:38:03.617Z"
   },
   {
    "duration": 2180,
    "start_time": "2022-08-04T08:38:03.638Z"
   },
   {
    "duration": 11,
    "start_time": "2022-08-04T08:38:05.820Z"
   },
   {
    "duration": 48,
    "start_time": "2022-08-04T08:38:05.833Z"
   },
   {
    "duration": 6,
    "start_time": "2022-08-04T08:38:05.883Z"
   },
   {
    "duration": 110,
    "start_time": "2022-08-04T08:38:05.891Z"
   },
   {
    "duration": 0,
    "start_time": "2022-08-04T08:38:06.003Z"
   },
   {
    "duration": 6,
    "start_time": "2022-08-04T08:39:34.920Z"
   },
   {
    "duration": 6,
    "start_time": "2022-08-04T08:39:47.837Z"
   },
   {
    "duration": 6,
    "start_time": "2022-08-04T08:39:50.396Z"
   },
   {
    "duration": 6,
    "start_time": "2022-08-04T08:42:34.222Z"
   },
   {
    "duration": 8,
    "start_time": "2022-08-04T08:42:38.439Z"
   },
   {
    "duration": 164,
    "start_time": "2022-08-04T08:42:59.514Z"
   },
   {
    "duration": 215,
    "start_time": "2022-08-04T08:43:14.749Z"
   },
   {
    "duration": 134,
    "start_time": "2022-08-04T08:43:28.786Z"
   },
   {
    "duration": 119,
    "start_time": "2022-08-04T08:43:34.746Z"
   },
   {
    "duration": 157,
    "start_time": "2022-08-04T08:44:09.063Z"
   },
   {
    "duration": 146,
    "start_time": "2022-08-04T08:44:22.754Z"
   },
   {
    "duration": 8,
    "start_time": "2022-08-04T08:44:57.857Z"
   },
   {
    "duration": 93,
    "start_time": "2022-08-04T08:50:04.432Z"
   },
   {
    "duration": 90,
    "start_time": "2022-08-04T08:50:08.954Z"
   },
   {
    "duration": 10,
    "start_time": "2022-08-04T08:52:10.582Z"
   },
   {
    "duration": 783,
    "start_time": "2022-08-04T08:52:23.320Z"
   },
   {
    "duration": 22,
    "start_time": "2022-08-04T08:52:24.106Z"
   },
   {
    "duration": 2070,
    "start_time": "2022-08-04T08:52:24.139Z"
   },
   {
    "duration": 10,
    "start_time": "2022-08-04T08:52:26.211Z"
   },
   {
    "duration": 33,
    "start_time": "2022-08-04T08:52:26.222Z"
   },
   {
    "duration": 5,
    "start_time": "2022-08-04T08:52:26.257Z"
   },
   {
    "duration": 12,
    "start_time": "2022-08-04T08:52:26.263Z"
   },
   {
    "duration": 85,
    "start_time": "2022-08-04T08:52:26.277Z"
   },
   {
    "duration": 0,
    "start_time": "2022-08-04T08:52:26.364Z"
   },
   {
    "duration": 10,
    "start_time": "2022-08-04T08:53:41.828Z"
   },
   {
    "duration": 6,
    "start_time": "2022-08-04T08:56:14.068Z"
   },
   {
    "duration": 9,
    "start_time": "2022-08-04T09:01:55.124Z"
   },
   {
    "duration": 5,
    "start_time": "2022-08-04T09:02:07.014Z"
   },
   {
    "duration": 69,
    "start_time": "2022-08-04T09:04:51.661Z"
   },
   {
    "duration": 11,
    "start_time": "2022-08-04T09:05:23.112Z"
   },
   {
    "duration": 14,
    "start_time": "2022-08-04T09:06:45.170Z"
   },
   {
    "duration": 9,
    "start_time": "2022-08-04T09:07:25.525Z"
   },
   {
    "duration": 11,
    "start_time": "2022-08-04T09:07:29.884Z"
   },
   {
    "duration": 10,
    "start_time": "2022-08-04T09:07:53.381Z"
   },
   {
    "duration": 9,
    "start_time": "2022-08-04T09:07:58.588Z"
   },
   {
    "duration": 10,
    "start_time": "2022-08-04T09:09:05.289Z"
   },
   {
    "duration": 10,
    "start_time": "2022-08-04T09:09:31.728Z"
   },
   {
    "duration": 14,
    "start_time": "2022-08-04T09:10:56.352Z"
   },
   {
    "duration": 149,
    "start_time": "2022-08-04T09:12:06.750Z"
   },
   {
    "duration": 9,
    "start_time": "2022-08-04T09:12:44.238Z"
   },
   {
    "duration": 9,
    "start_time": "2022-08-04T09:13:03.116Z"
   },
   {
    "duration": 733,
    "start_time": "2022-08-04T09:13:36.145Z"
   },
   {
    "duration": 27,
    "start_time": "2022-08-04T09:13:36.880Z"
   },
   {
    "duration": 2052,
    "start_time": "2022-08-04T09:13:36.909Z"
   },
   {
    "duration": 11,
    "start_time": "2022-08-04T09:13:38.964Z"
   },
   {
    "duration": 54,
    "start_time": "2022-08-04T09:13:38.977Z"
   },
   {
    "duration": 8,
    "start_time": "2022-08-04T09:13:39.033Z"
   },
   {
    "duration": 43,
    "start_time": "2022-08-04T09:13:39.043Z"
   },
   {
    "duration": 12,
    "start_time": "2022-08-04T09:13:39.088Z"
   },
   {
    "duration": 19,
    "start_time": "2022-08-04T09:13:39.102Z"
   },
   {
    "duration": 79,
    "start_time": "2022-08-04T09:19:27.774Z"
   },
   {
    "duration": 76,
    "start_time": "2022-08-04T09:20:52.223Z"
   },
   {
    "duration": 8,
    "start_time": "2022-08-04T09:21:05.142Z"
   },
   {
    "duration": 8,
    "start_time": "2022-08-04T09:25:53.370Z"
   },
   {
    "duration": 723,
    "start_time": "2022-08-04T09:30:57.680Z"
   },
   {
    "duration": 15,
    "start_time": "2022-08-04T09:30:58.405Z"
   },
   {
    "duration": 2015,
    "start_time": "2022-08-04T09:30:58.422Z"
   },
   {
    "duration": 13,
    "start_time": "2022-08-04T09:31:00.439Z"
   },
   {
    "duration": 36,
    "start_time": "2022-08-04T09:31:00.454Z"
   },
   {
    "duration": 6,
    "start_time": "2022-08-04T09:31:00.492Z"
   },
   {
    "duration": 13,
    "start_time": "2022-08-04T09:31:00.499Z"
   },
   {
    "duration": 34,
    "start_time": "2022-08-04T09:31:00.513Z"
   },
   {
    "duration": 11,
    "start_time": "2022-08-04T09:31:00.549Z"
   },
   {
    "duration": 81,
    "start_time": "2022-08-04T09:44:39.569Z"
   },
   {
    "duration": 8,
    "start_time": "2022-08-04T09:46:19.711Z"
   },
   {
    "duration": 13,
    "start_time": "2022-08-04T09:47:00.953Z"
   },
   {
    "duration": 9,
    "start_time": "2022-08-04T09:47:14.253Z"
   },
   {
    "duration": 292,
    "start_time": "2022-08-04T09:47:58.159Z"
   },
   {
    "duration": 10,
    "start_time": "2022-08-04T09:48:48.809Z"
   },
   {
    "duration": 9,
    "start_time": "2022-08-04T09:50:16.334Z"
   },
   {
    "duration": 6,
    "start_time": "2022-08-04T09:51:53.845Z"
   },
   {
    "duration": 2257,
    "start_time": "2022-08-04T09:51:58.204Z"
   },
   {
    "duration": 738,
    "start_time": "2022-08-04T09:52:41.449Z"
   },
   {
    "duration": 16,
    "start_time": "2022-08-04T09:52:42.189Z"
   },
   {
    "duration": 1977,
    "start_time": "2022-08-04T09:52:42.207Z"
   },
   {
    "duration": 10,
    "start_time": "2022-08-04T09:52:44.186Z"
   },
   {
    "duration": 30,
    "start_time": "2022-08-04T09:52:44.198Z"
   },
   {
    "duration": 5,
    "start_time": "2022-08-04T09:52:44.230Z"
   },
   {
    "duration": 7,
    "start_time": "2022-08-04T09:52:44.237Z"
   },
   {
    "duration": 7,
    "start_time": "2022-08-04T09:52:44.246Z"
   },
   {
    "duration": 11,
    "start_time": "2022-08-04T09:58:11.480Z"
   },
   {
    "duration": 966,
    "start_time": "2022-08-04T10:00:04.941Z"
   },
   {
    "duration": 15,
    "start_time": "2022-08-04T10:00:05.909Z"
   },
   {
    "duration": 2003,
    "start_time": "2022-08-04T10:00:05.926Z"
   },
   {
    "duration": 10,
    "start_time": "2022-08-04T10:00:07.931Z"
   },
   {
    "duration": 32,
    "start_time": "2022-08-04T10:00:07.943Z"
   },
   {
    "duration": 6,
    "start_time": "2022-08-04T10:00:07.976Z"
   },
   {
    "duration": 13,
    "start_time": "2022-08-04T10:00:07.984Z"
   },
   {
    "duration": 9,
    "start_time": "2022-08-04T10:00:07.999Z"
   },
   {
    "duration": 30,
    "start_time": "2022-08-04T10:00:08.010Z"
   },
   {
    "duration": 8,
    "start_time": "2022-08-04T10:01:04.304Z"
   },
   {
    "duration": 10,
    "start_time": "2022-08-04T10:07:14.937Z"
   },
   {
    "duration": 8,
    "start_time": "2022-08-04T10:10:02.823Z"
   },
   {
    "duration": 44,
    "start_time": "2022-08-04T10:20:02.156Z"
   },
   {
    "duration": 8,
    "start_time": "2022-08-04T10:20:31.964Z"
   },
   {
    "duration": 709,
    "start_time": "2022-08-04T10:22:43.297Z"
   },
   {
    "duration": 16,
    "start_time": "2022-08-04T10:22:44.009Z"
   },
   {
    "duration": 1979,
    "start_time": "2022-08-04T10:22:44.026Z"
   },
   {
    "duration": 10,
    "start_time": "2022-08-04T10:22:46.007Z"
   },
   {
    "duration": 29,
    "start_time": "2022-08-04T10:22:46.019Z"
   },
   {
    "duration": 5,
    "start_time": "2022-08-04T10:22:46.050Z"
   },
   {
    "duration": 7,
    "start_time": "2022-08-04T10:22:46.057Z"
   },
   {
    "duration": 7,
    "start_time": "2022-08-04T10:22:46.066Z"
   },
   {
    "duration": 47,
    "start_time": "2022-08-04T10:27:49.418Z"
   },
   {
    "duration": 6,
    "start_time": "2022-08-04T10:27:57.544Z"
   },
   {
    "duration": 10,
    "start_time": "2022-08-04T10:28:03.947Z"
   },
   {
    "duration": 9,
    "start_time": "2022-08-04T10:28:09.982Z"
   },
   {
    "duration": 1266,
    "start_time": "2022-08-04T10:28:29.830Z"
   },
   {
    "duration": 6,
    "start_time": "2022-08-04T10:28:37.815Z"
   },
   {
    "duration": 6,
    "start_time": "2022-08-04T10:28:39.932Z"
   },
   {
    "duration": 168,
    "start_time": "2022-08-04T10:29:23.583Z"
   },
   {
    "duration": 10,
    "start_time": "2022-08-04T10:29:43.246Z"
   },
   {
    "duration": 4,
    "start_time": "2022-08-04T10:33:08.321Z"
   },
   {
    "duration": 4,
    "start_time": "2022-08-04T10:33:25.816Z"
   },
   {
    "duration": 10,
    "start_time": "2022-08-04T10:38:50.979Z"
   },
   {
    "duration": 1521,
    "start_time": "2022-08-04T10:40:20.113Z"
   },
   {
    "duration": 35,
    "start_time": "2022-08-04T10:40:33.409Z"
   },
   {
    "duration": 9,
    "start_time": "2022-08-04T10:54:30.982Z"
   },
   {
    "duration": 152,
    "start_time": "2022-08-04T10:54:47.112Z"
   },
   {
    "duration": 152,
    "start_time": "2022-08-04T10:55:01.793Z"
   },
   {
    "duration": 163,
    "start_time": "2022-08-04T11:30:15.725Z"
   },
   {
    "duration": 157,
    "start_time": "2022-08-04T11:30:49.350Z"
   },
   {
    "duration": 165,
    "start_time": "2022-08-04T11:31:22.107Z"
   },
   {
    "duration": 10,
    "start_time": "2022-08-04T11:31:39.023Z"
   },
   {
    "duration": 232,
    "start_time": "2022-08-04T11:33:56.607Z"
   },
   {
    "duration": 9,
    "start_time": "2022-08-04T11:34:31.241Z"
   },
   {
    "duration": 161,
    "start_time": "2022-08-04T11:35:12.790Z"
   },
   {
    "duration": 185,
    "start_time": "2022-08-04T11:35:27.429Z"
   },
   {
    "duration": 164,
    "start_time": "2022-08-04T11:35:35.608Z"
   },
   {
    "duration": 175,
    "start_time": "2022-08-04T11:35:41.709Z"
   },
   {
    "duration": 256,
    "start_time": "2022-08-04T11:35:53.962Z"
   },
   {
    "duration": 147,
    "start_time": "2022-08-04T11:36:22.730Z"
   },
   {
    "duration": 23,
    "start_time": "2022-08-04T11:37:12.770Z"
   },
   {
    "duration": 163,
    "start_time": "2022-08-04T11:37:35.516Z"
   },
   {
    "duration": 217,
    "start_time": "2022-08-04T11:38:39.778Z"
   },
   {
    "duration": 172,
    "start_time": "2022-08-04T11:38:53.065Z"
   },
   {
    "duration": 698,
    "start_time": "2022-08-04T11:41:12.583Z"
   },
   {
    "duration": 15,
    "start_time": "2022-08-04T11:41:13.284Z"
   },
   {
    "duration": 2016,
    "start_time": "2022-08-04T11:41:13.301Z"
   },
   {
    "duration": 25,
    "start_time": "2022-08-04T11:41:15.320Z"
   },
   {
    "duration": 36,
    "start_time": "2022-08-04T11:41:15.346Z"
   },
   {
    "duration": 5,
    "start_time": "2022-08-04T11:41:15.384Z"
   },
   {
    "duration": 16,
    "start_time": "2022-08-04T11:41:15.391Z"
   },
   {
    "duration": 172,
    "start_time": "2022-08-04T11:41:15.409Z"
   },
   {
    "duration": 7,
    "start_time": "2022-08-04T11:41:15.583Z"
   },
   {
    "duration": 141,
    "start_time": "2022-08-04T11:41:56.089Z"
   },
   {
    "duration": 155,
    "start_time": "2022-08-04T11:42:36.060Z"
   },
   {
    "duration": 68,
    "start_time": "2022-08-04T11:48:51.829Z"
   },
   {
    "duration": 95,
    "start_time": "2022-08-04T11:49:09.546Z"
   },
   {
    "duration": 345,
    "start_time": "2022-08-04T11:49:26.406Z"
   },
   {
    "duration": 251,
    "start_time": "2022-08-04T11:49:41.441Z"
   },
   {
    "duration": 329,
    "start_time": "2022-08-04T11:50:20.824Z"
   },
   {
    "duration": 250,
    "start_time": "2022-08-04T11:50:27.329Z"
   },
   {
    "duration": 250,
    "start_time": "2022-08-04T11:50:32.540Z"
   },
   {
    "duration": 181,
    "start_time": "2022-08-04T11:50:42.690Z"
   },
   {
    "duration": 747,
    "start_time": "2022-08-04T11:50:51.746Z"
   },
   {
    "duration": 16,
    "start_time": "2022-08-04T11:50:52.495Z"
   },
   {
    "duration": 1956,
    "start_time": "2022-08-04T11:50:52.513Z"
   },
   {
    "duration": 11,
    "start_time": "2022-08-04T11:50:54.472Z"
   },
   {
    "duration": 30,
    "start_time": "2022-08-04T11:50:54.485Z"
   },
   {
    "duration": 6,
    "start_time": "2022-08-04T11:50:54.517Z"
   },
   {
    "duration": 8,
    "start_time": "2022-08-04T11:50:54.525Z"
   },
   {
    "duration": 166,
    "start_time": "2022-08-04T11:50:54.535Z"
   },
   {
    "duration": 145,
    "start_time": "2022-08-04T11:50:54.703Z"
   },
   {
    "duration": 8,
    "start_time": "2022-08-04T11:50:54.850Z"
   },
   {
    "duration": 10,
    "start_time": "2022-08-04T11:53:41.786Z"
   },
   {
    "duration": 897,
    "start_time": "2022-08-04T12:29:23.969Z"
   },
   {
    "duration": 146,
    "start_time": "2022-08-04T12:29:48.254Z"
   },
   {
    "duration": 162,
    "start_time": "2022-08-04T12:29:56.316Z"
   },
   {
    "duration": 162,
    "start_time": "2022-08-04T12:32:26.959Z"
   },
   {
    "duration": 236,
    "start_time": "2022-08-04T12:33:09.038Z"
   },
   {
    "duration": 325,
    "start_time": "2022-08-04T12:33:38.945Z"
   },
   {
    "duration": 201,
    "start_time": "2022-08-04T12:35:08.676Z"
   },
   {
    "duration": 185,
    "start_time": "2022-08-04T12:35:24.028Z"
   },
   {
    "duration": 191,
    "start_time": "2022-08-04T12:44:57.583Z"
   },
   {
    "duration": 184,
    "start_time": "2022-08-04T12:45:25.222Z"
   },
   {
    "duration": 693,
    "start_time": "2022-08-04T12:45:41.684Z"
   },
   {
    "duration": 16,
    "start_time": "2022-08-04T12:45:42.379Z"
   },
   {
    "duration": 1948,
    "start_time": "2022-08-04T12:45:42.397Z"
   },
   {
    "duration": 12,
    "start_time": "2022-08-04T12:45:44.348Z"
   },
   {
    "duration": 31,
    "start_time": "2022-08-04T12:45:44.363Z"
   },
   {
    "duration": 219,
    "start_time": "2022-08-04T12:45:44.396Z"
   },
   {
    "duration": 211,
    "start_time": "2022-08-04T12:45:44.617Z"
   },
   {
    "duration": 2,
    "start_time": "2022-08-04T12:45:44.830Z"
   },
   {
    "duration": 8,
    "start_time": "2022-08-04T12:45:44.833Z"
   },
   {
    "duration": 7,
    "start_time": "2022-08-04T12:45:44.842Z"
   },
   {
    "duration": 12,
    "start_time": "2022-08-04T12:45:44.850Z"
   },
   {
    "duration": 204,
    "start_time": "2022-08-04T12:46:26.377Z"
   },
   {
    "duration": 712,
    "start_time": "2022-08-04T12:47:57.082Z"
   },
   {
    "duration": 16,
    "start_time": "2022-08-04T12:47:57.796Z"
   },
   {
    "duration": 2048,
    "start_time": "2022-08-04T12:47:57.813Z"
   },
   {
    "duration": 10,
    "start_time": "2022-08-04T12:47:59.863Z"
   },
   {
    "duration": 34,
    "start_time": "2022-08-04T12:47:59.874Z"
   },
   {
    "duration": 192,
    "start_time": "2022-08-04T12:47:59.909Z"
   },
   {
    "duration": 205,
    "start_time": "2022-08-04T12:48:00.104Z"
   },
   {
    "duration": 7,
    "start_time": "2022-08-04T12:48:00.311Z"
   },
   {
    "duration": 18,
    "start_time": "2022-08-04T12:48:00.320Z"
   },
   {
    "duration": 3,
    "start_time": "2022-08-04T12:48:00.341Z"
   },
   {
    "duration": 65,
    "start_time": "2022-08-04T12:48:00.345Z"
   },
   {
    "duration": 40,
    "start_time": "2022-08-04T12:48:00.411Z"
   },
   {
    "duration": 9,
    "start_time": "2022-08-04T12:48:48.260Z"
   },
   {
    "duration": 168,
    "start_time": "2022-08-04T12:50:11.474Z"
   },
   {
    "duration": 195,
    "start_time": "2022-08-04T12:50:26.216Z"
   },
   {
    "duration": 178,
    "start_time": "2022-08-04T12:50:42.046Z"
   },
   {
    "duration": 294,
    "start_time": "2022-08-04T12:52:30.198Z"
   },
   {
    "duration": 9,
    "start_time": "2022-08-04T12:52:50.017Z"
   },
   {
    "duration": 99,
    "start_time": "2022-08-04T12:59:07.748Z"
   },
   {
    "duration": 181,
    "start_time": "2022-08-04T12:59:14.813Z"
   },
   {
    "duration": 207,
    "start_time": "2022-08-04T12:59:44.295Z"
   },
   {
    "duration": 200,
    "start_time": "2022-08-04T13:00:10.733Z"
   },
   {
    "duration": 4,
    "start_time": "2022-08-04T13:00:49.964Z"
   },
   {
    "duration": 778,
    "start_time": "2022-08-04T13:00:59.674Z"
   },
   {
    "duration": 22,
    "start_time": "2022-08-04T13:01:00.458Z"
   },
   {
    "duration": 1975,
    "start_time": "2022-08-04T13:01:00.482Z"
   },
   {
    "duration": 10,
    "start_time": "2022-08-04T13:01:02.459Z"
   },
   {
    "duration": 38,
    "start_time": "2022-08-04T13:01:02.470Z"
   },
   {
    "duration": 5,
    "start_time": "2022-08-04T13:01:02.510Z"
   },
   {
    "duration": 210,
    "start_time": "2022-08-04T13:01:02.517Z"
   },
   {
    "duration": 186,
    "start_time": "2022-08-04T13:01:02.728Z"
   },
   {
    "duration": 192,
    "start_time": "2022-08-04T13:01:02.915Z"
   },
   {
    "duration": 3,
    "start_time": "2022-08-04T13:01:03.109Z"
   },
   {
    "duration": 5,
    "start_time": "2022-08-04T13:01:03.114Z"
   },
   {
    "duration": 6,
    "start_time": "2022-08-04T13:01:03.121Z"
   },
   {
    "duration": 7,
    "start_time": "2022-08-04T13:01:03.139Z"
   },
   {
    "duration": 5,
    "start_time": "2022-08-04T13:05:57.149Z"
   },
   {
    "duration": 186,
    "start_time": "2022-08-04T13:06:40.819Z"
   },
   {
    "duration": 3,
    "start_time": "2022-08-04T13:07:19.975Z"
   },
   {
    "duration": 793,
    "start_time": "2022-08-04T13:09:25.344Z"
   },
   {
    "duration": 20,
    "start_time": "2022-08-04T13:09:26.139Z"
   },
   {
    "duration": 2072,
    "start_time": "2022-08-04T13:09:26.161Z"
   },
   {
    "duration": 15,
    "start_time": "2022-08-04T13:09:28.235Z"
   },
   {
    "duration": 36,
    "start_time": "2022-08-04T13:09:28.252Z"
   },
   {
    "duration": 199,
    "start_time": "2022-08-04T13:09:28.289Z"
   },
   {
    "duration": 3,
    "start_time": "2022-08-04T13:09:28.489Z"
   },
   {
    "duration": 5,
    "start_time": "2022-08-04T13:09:28.494Z"
   },
   {
    "duration": 10,
    "start_time": "2022-08-04T13:09:28.501Z"
   },
   {
    "duration": 6,
    "start_time": "2022-08-04T13:09:28.512Z"
   },
   {
    "duration": 9,
    "start_time": "2022-08-04T13:09:28.519Z"
   },
   {
    "duration": 12,
    "start_time": "2022-08-04T13:09:28.529Z"
   },
   {
    "duration": 175,
    "start_time": "2022-08-04T13:12:24.647Z"
   },
   {
    "duration": 3,
    "start_time": "2022-08-04T13:12:25.826Z"
   },
   {
    "duration": 703,
    "start_time": "2022-08-04T13:12:38.271Z"
   },
   {
    "duration": 20,
    "start_time": "2022-08-04T13:12:38.976Z"
   },
   {
    "duration": 1970,
    "start_time": "2022-08-04T13:12:38.999Z"
   },
   {
    "duration": 10,
    "start_time": "2022-08-04T13:12:40.970Z"
   },
   {
    "duration": 31,
    "start_time": "2022-08-04T13:12:40.982Z"
   },
   {
    "duration": 185,
    "start_time": "2022-08-04T13:12:41.014Z"
   },
   {
    "duration": 3,
    "start_time": "2022-08-04T13:12:41.200Z"
   },
   {
    "duration": 5,
    "start_time": "2022-08-04T13:12:41.205Z"
   },
   {
    "duration": 5,
    "start_time": "2022-08-04T13:12:41.211Z"
   },
   {
    "duration": 4,
    "start_time": "2022-08-04T13:12:41.217Z"
   },
   {
    "duration": 5,
    "start_time": "2022-08-04T13:12:41.223Z"
   },
   {
    "duration": 16,
    "start_time": "2022-08-04T13:12:41.238Z"
   },
   {
    "duration": 708,
    "start_time": "2022-08-04T13:17:52.147Z"
   },
   {
    "duration": 16,
    "start_time": "2022-08-04T13:17:52.857Z"
   },
   {
    "duration": 1925,
    "start_time": "2022-08-04T13:17:52.875Z"
   },
   {
    "duration": 10,
    "start_time": "2022-08-04T13:17:54.801Z"
   },
   {
    "duration": 31,
    "start_time": "2022-08-04T13:17:54.813Z"
   },
   {
    "duration": 3,
    "start_time": "2022-08-04T13:17:54.845Z"
   },
   {
    "duration": 5,
    "start_time": "2022-08-04T13:17:54.849Z"
   },
   {
    "duration": 10,
    "start_time": "2022-08-04T13:17:54.856Z"
   },
   {
    "duration": 4,
    "start_time": "2022-08-04T13:17:54.868Z"
   },
   {
    "duration": 9,
    "start_time": "2022-08-04T13:17:54.874Z"
   },
   {
    "duration": 155,
    "start_time": "2022-08-04T13:28:32.833Z"
   },
   {
    "duration": 152,
    "start_time": "2022-08-04T13:29:08.197Z"
   },
   {
    "duration": 130,
    "start_time": "2022-08-04T13:29:13.416Z"
   },
   {
    "duration": 146,
    "start_time": "2022-08-04T13:29:19.648Z"
   },
   {
    "duration": 257,
    "start_time": "2022-08-04T13:29:40.257Z"
   },
   {
    "duration": 317,
    "start_time": "2022-08-04T13:29:46.427Z"
   },
   {
    "duration": 274,
    "start_time": "2022-08-04T13:30:00.430Z"
   },
   {
    "duration": 10,
    "start_time": "2022-08-04T13:30:44.122Z"
   },
   {
    "duration": 10,
    "start_time": "2022-08-04T13:31:14.250Z"
   },
   {
    "duration": 10,
    "start_time": "2022-08-04T13:31:20.338Z"
   },
   {
    "duration": 10,
    "start_time": "2022-08-04T13:31:31.014Z"
   },
   {
    "duration": 10,
    "start_time": "2022-08-04T13:31:43.372Z"
   },
   {
    "duration": 79,
    "start_time": "2022-08-04T13:32:24.916Z"
   },
   {
    "duration": 7,
    "start_time": "2022-08-04T13:33:05.217Z"
   },
   {
    "duration": 27,
    "start_time": "2022-08-04T13:33:14.150Z"
   },
   {
    "duration": 26,
    "start_time": "2022-08-04T13:33:21.429Z"
   },
   {
    "duration": 704,
    "start_time": "2022-08-04T13:33:28.777Z"
   },
   {
    "duration": 16,
    "start_time": "2022-08-04T13:33:29.483Z"
   },
   {
    "duration": 1933,
    "start_time": "2022-08-04T13:33:29.500Z"
   },
   {
    "duration": 9,
    "start_time": "2022-08-04T13:33:31.435Z"
   },
   {
    "duration": 33,
    "start_time": "2022-08-04T13:33:31.446Z"
   },
   {
    "duration": 25,
    "start_time": "2022-08-04T13:33:31.481Z"
   },
   {
    "duration": 13,
    "start_time": "2022-08-04T13:33:31.507Z"
   },
   {
    "duration": 9,
    "start_time": "2022-08-04T13:33:31.522Z"
   },
   {
    "duration": 8,
    "start_time": "2022-08-04T13:33:31.533Z"
   },
   {
    "duration": 5,
    "start_time": "2022-08-04T13:33:31.543Z"
   },
   {
    "duration": 27,
    "start_time": "2022-08-04T13:33:31.549Z"
   },
   {
    "duration": 25,
    "start_time": "2022-08-04T13:33:45.413Z"
   },
   {
    "duration": 729,
    "start_time": "2022-08-04T13:33:54.422Z"
   },
   {
    "duration": 16,
    "start_time": "2022-08-04T13:33:55.153Z"
   },
   {
    "duration": 1959,
    "start_time": "2022-08-04T13:33:55.170Z"
   },
   {
    "duration": 14,
    "start_time": "2022-08-04T13:33:57.132Z"
   },
   {
    "duration": 33,
    "start_time": "2022-08-04T13:33:57.147Z"
   },
   {
    "duration": 26,
    "start_time": "2022-08-04T13:33:57.182Z"
   },
   {
    "duration": 3,
    "start_time": "2022-08-04T13:33:57.209Z"
   },
   {
    "duration": 10,
    "start_time": "2022-08-04T13:33:57.213Z"
   },
   {
    "duration": 22,
    "start_time": "2022-08-04T13:33:57.225Z"
   },
   {
    "duration": 7,
    "start_time": "2022-08-04T13:33:57.249Z"
   },
   {
    "duration": 11,
    "start_time": "2022-08-04T13:33:57.258Z"
   },
   {
    "duration": 72,
    "start_time": "2022-08-04T13:34:20.685Z"
   },
   {
    "duration": 8,
    "start_time": "2022-08-04T13:35:24.312Z"
   },
   {
    "duration": 707,
    "start_time": "2022-08-04T13:37:14.510Z"
   },
   {
    "duration": 15,
    "start_time": "2022-08-04T13:37:15.219Z"
   },
   {
    "duration": 1868,
    "start_time": "2022-08-04T13:37:15.237Z"
   },
   {
    "duration": 9,
    "start_time": "2022-08-04T13:37:17.106Z"
   },
   {
    "duration": 29,
    "start_time": "2022-08-04T13:37:17.117Z"
   },
   {
    "duration": 5,
    "start_time": "2022-08-04T13:37:17.147Z"
   },
   {
    "duration": 8,
    "start_time": "2022-08-04T13:37:17.154Z"
   },
   {
    "duration": 166,
    "start_time": "2022-08-04T13:37:17.163Z"
   },
   {
    "duration": 9,
    "start_time": "2022-08-04T13:37:17.330Z"
   },
   {
    "duration": 6,
    "start_time": "2022-08-04T13:46:45.110Z"
   },
   {
    "duration": 25,
    "start_time": "2022-08-04T13:46:56.909Z"
   },
   {
    "duration": 3,
    "start_time": "2022-08-04T13:47:20.413Z"
   },
   {
    "duration": 26,
    "start_time": "2022-08-04T13:48:31.815Z"
   },
   {
    "duration": 125,
    "start_time": "2022-08-04T13:48:50.613Z"
   },
   {
    "duration": 245,
    "start_time": "2022-08-04T13:49:03.995Z"
   },
   {
    "duration": 9,
    "start_time": "2022-08-04T13:49:44.462Z"
   },
   {
    "duration": 13,
    "start_time": "2022-08-04T13:49:57.676Z"
   },
   {
    "duration": 732,
    "start_time": "2022-08-04T13:51:43.345Z"
   },
   {
    "duration": 16,
    "start_time": "2022-08-04T13:51:44.079Z"
   },
   {
    "duration": 1977,
    "start_time": "2022-08-04T13:51:44.096Z"
   },
   {
    "duration": 11,
    "start_time": "2022-08-04T13:51:46.076Z"
   },
   {
    "duration": 37,
    "start_time": "2022-08-04T13:51:46.088Z"
   },
   {
    "duration": 9,
    "start_time": "2022-08-04T13:51:46.127Z"
   },
   {
    "duration": 18,
    "start_time": "2022-08-04T13:51:46.137Z"
   },
   {
    "duration": 159,
    "start_time": "2022-08-04T13:51:46.157Z"
   },
   {
    "duration": 5,
    "start_time": "2022-08-04T13:51:46.318Z"
   },
   {
    "duration": 17,
    "start_time": "2022-08-04T13:51:46.325Z"
   },
   {
    "duration": 899,
    "start_time": "2022-08-04T14:27:35.944Z"
   },
   {
    "duration": 8,
    "start_time": "2022-08-04T14:27:45.277Z"
   },
   {
    "duration": 4,
    "start_time": "2022-08-04T14:28:04.991Z"
   },
   {
    "duration": 9,
    "start_time": "2022-08-04T14:28:08.538Z"
   },
   {
    "duration": 110,
    "start_time": "2022-08-04T14:29:24.816Z"
   },
   {
    "duration": 818,
    "start_time": "2022-08-04T14:46:26.189Z"
   },
   {
    "duration": 116,
    "start_time": "2022-08-04T14:46:36.349Z"
   },
   {
    "duration": 5,
    "start_time": "2022-08-04T14:48:35.943Z"
   },
   {
    "duration": 6,
    "start_time": "2022-08-04T14:48:55.747Z"
   },
   {
    "duration": 8,
    "start_time": "2022-08-04T14:49:07.225Z"
   },
   {
    "duration": 720,
    "start_time": "2022-08-04T14:50:16.141Z"
   },
   {
    "duration": 17,
    "start_time": "2022-08-04T14:50:16.865Z"
   },
   {
    "duration": 1950,
    "start_time": "2022-08-04T14:50:16.883Z"
   },
   {
    "duration": 11,
    "start_time": "2022-08-04T14:50:18.835Z"
   },
   {
    "duration": 45,
    "start_time": "2022-08-04T14:50:18.848Z"
   },
   {
    "duration": 17,
    "start_time": "2022-08-04T14:50:18.895Z"
   },
   {
    "duration": 12,
    "start_time": "2022-08-04T14:50:18.914Z"
   },
   {
    "duration": 16,
    "start_time": "2022-08-04T14:50:18.928Z"
   },
   {
    "duration": 25,
    "start_time": "2022-08-04T14:50:18.946Z"
   },
   {
    "duration": 6,
    "start_time": "2022-08-04T14:54:24.185Z"
   },
   {
    "duration": 9,
    "start_time": "2022-08-04T14:54:29.478Z"
   },
   {
    "duration": 24,
    "start_time": "2022-08-04T14:54:45.476Z"
   },
   {
    "duration": 161,
    "start_time": "2022-08-04T14:55:39.984Z"
   },
   {
    "duration": 8,
    "start_time": "2022-08-04T14:56:17.351Z"
   },
   {
    "duration": 26,
    "start_time": "2022-08-04T15:05:19.681Z"
   },
   {
    "duration": 10,
    "start_time": "2022-08-04T15:05:35.255Z"
   },
   {
    "duration": 753,
    "start_time": "2022-08-04T15:05:50.341Z"
   },
   {
    "duration": 16,
    "start_time": "2022-08-04T15:05:51.097Z"
   },
   {
    "duration": 1982,
    "start_time": "2022-08-04T15:05:51.115Z"
   },
   {
    "duration": 10,
    "start_time": "2022-08-04T15:05:53.099Z"
   },
   {
    "duration": 42,
    "start_time": "2022-08-04T15:05:53.111Z"
   },
   {
    "duration": 5,
    "start_time": "2022-08-04T15:05:53.155Z"
   },
   {
    "duration": 30,
    "start_time": "2022-08-04T15:05:53.162Z"
   },
   {
    "duration": 10,
    "start_time": "2022-08-04T15:05:53.194Z"
   },
   {
    "duration": 6,
    "start_time": "2022-08-04T15:05:53.205Z"
   },
   {
    "duration": 8,
    "start_time": "2022-08-04T15:05:53.240Z"
   },
   {
    "duration": 10,
    "start_time": "2022-08-04T15:05:53.250Z"
   },
   {
    "duration": 10,
    "start_time": "2022-08-04T15:06:33.357Z"
   },
   {
    "duration": 795,
    "start_time": "2022-08-04T15:06:46.353Z"
   },
   {
    "duration": 19,
    "start_time": "2022-08-04T15:06:47.151Z"
   },
   {
    "duration": 2065,
    "start_time": "2022-08-04T15:06:47.172Z"
   },
   {
    "duration": 9,
    "start_time": "2022-08-04T15:06:49.240Z"
   },
   {
    "duration": 45,
    "start_time": "2022-08-04T15:06:49.251Z"
   },
   {
    "duration": 7,
    "start_time": "2022-08-04T15:06:49.298Z"
   },
   {
    "duration": 54,
    "start_time": "2022-08-04T15:06:49.306Z"
   },
   {
    "duration": 9,
    "start_time": "2022-08-04T15:06:49.362Z"
   },
   {
    "duration": 17,
    "start_time": "2022-08-04T15:06:49.373Z"
   },
   {
    "duration": 16,
    "start_time": "2022-08-04T15:06:49.392Z"
   },
   {
    "duration": 13,
    "start_time": "2022-08-04T15:06:49.410Z"
   },
   {
    "duration": 1555,
    "start_time": "2022-08-04T15:08:56.919Z"
   },
   {
    "duration": 70,
    "start_time": "2022-08-04T15:09:15.228Z"
   },
   {
    "duration": 1380,
    "start_time": "2022-08-04T15:10:24.453Z"
   },
   {
    "duration": 275,
    "start_time": "2022-08-04T15:10:42.619Z"
   },
   {
    "duration": 187,
    "start_time": "2022-08-04T15:11:19.952Z"
   },
   {
    "duration": 9,
    "start_time": "2022-08-04T15:20:59.596Z"
   },
   {
    "duration": 47,
    "start_time": "2022-08-04T15:21:17.965Z"
   },
   {
    "duration": 25,
    "start_time": "2022-08-04T15:21:30.451Z"
   },
   {
    "duration": 8,
    "start_time": "2022-08-04T15:29:41.417Z"
   },
   {
    "duration": 18,
    "start_time": "2022-08-04T15:29:54.464Z"
   },
   {
    "duration": 16,
    "start_time": "2022-08-04T15:33:36.711Z"
   },
   {
    "duration": 22,
    "start_time": "2022-08-04T15:33:46.599Z"
   },
   {
    "duration": 8,
    "start_time": "2022-08-04T16:24:20.317Z"
   },
   {
    "duration": 8,
    "start_time": "2022-08-04T16:24:35.658Z"
   },
   {
    "duration": 9,
    "start_time": "2022-08-04T16:32:24.281Z"
   },
   {
    "duration": 9,
    "start_time": "2022-08-04T16:50:04.812Z"
   },
   {
    "duration": 8,
    "start_time": "2022-08-04T17:14:33.337Z"
   },
   {
    "duration": 7,
    "start_time": "2022-08-04T17:14:46.627Z"
   },
   {
    "duration": 8,
    "start_time": "2022-08-04T17:17:02.289Z"
   },
   {
    "duration": 10,
    "start_time": "2022-08-04T17:18:34.564Z"
   },
   {
    "duration": 7,
    "start_time": "2022-08-04T17:18:52.979Z"
   },
   {
    "duration": 7,
    "start_time": "2022-08-04T17:19:48.314Z"
   },
   {
    "duration": 711,
    "start_time": "2022-08-04T17:20:03.749Z"
   },
   {
    "duration": 15,
    "start_time": "2022-08-04T17:20:04.461Z"
   },
   {
    "duration": 1939,
    "start_time": "2022-08-04T17:20:04.478Z"
   },
   {
    "duration": 9,
    "start_time": "2022-08-04T17:20:06.419Z"
   },
   {
    "duration": 32,
    "start_time": "2022-08-04T17:20:06.430Z"
   },
   {
    "duration": 5,
    "start_time": "2022-08-04T17:20:06.463Z"
   },
   {
    "duration": 27,
    "start_time": "2022-08-04T17:20:06.469Z"
   },
   {
    "duration": 9,
    "start_time": "2022-08-04T17:20:06.497Z"
   },
   {
    "duration": 61,
    "start_time": "2022-08-04T17:20:06.507Z"
   },
   {
    "duration": 25,
    "start_time": "2022-08-04T17:20:06.570Z"
   },
   {
    "duration": 18,
    "start_time": "2022-08-04T17:20:06.596Z"
   },
   {
    "duration": 22,
    "start_time": "2022-08-04T17:20:06.615Z"
   },
   {
    "duration": 9,
    "start_time": "2022-08-04T17:20:06.639Z"
   },
   {
    "duration": 8,
    "start_time": "2022-08-04T17:20:06.650Z"
   },
   {
    "duration": 1229,
    "start_time": "2022-08-04T17:34:26.818Z"
   },
   {
    "duration": 32,
    "start_time": "2022-08-04T17:35:33.259Z"
   },
   {
    "duration": 6,
    "start_time": "2022-08-04T17:36:31.742Z"
   },
   {
    "duration": 6,
    "start_time": "2022-08-04T17:37:16.514Z"
   },
   {
    "duration": 5,
    "start_time": "2022-08-04T17:38:03.681Z"
   },
   {
    "duration": 6,
    "start_time": "2022-08-04T17:38:04.379Z"
   },
   {
    "duration": 17,
    "start_time": "2022-08-04T17:39:20.086Z"
   },
   {
    "duration": 20,
    "start_time": "2022-08-04T17:47:42.771Z"
   },
   {
    "duration": 4,
    "start_time": "2022-08-04T17:48:06.282Z"
   },
   {
    "duration": 1399,
    "start_time": "2022-08-04T20:58:55.292Z"
   },
   {
    "duration": 16,
    "start_time": "2022-08-04T20:58:56.693Z"
   },
   {
    "duration": 1791,
    "start_time": "2022-08-04T20:58:56.710Z"
   },
   {
    "duration": 9,
    "start_time": "2022-08-04T20:58:58.502Z"
   },
   {
    "duration": 28,
    "start_time": "2022-08-04T20:58:58.513Z"
   },
   {
    "duration": 8,
    "start_time": "2022-08-04T20:58:58.542Z"
   },
   {
    "duration": 24,
    "start_time": "2022-08-04T20:58:58.552Z"
   },
   {
    "duration": 8,
    "start_time": "2022-08-04T20:58:58.578Z"
   },
   {
    "duration": 55,
    "start_time": "2022-08-04T20:58:58.587Z"
   },
   {
    "duration": 23,
    "start_time": "2022-08-04T20:58:58.644Z"
   },
   {
    "duration": 15,
    "start_time": "2022-08-04T20:58:58.668Z"
   },
   {
    "duration": 4,
    "start_time": "2022-08-04T20:58:58.685Z"
   },
   {
    "duration": 6,
    "start_time": "2022-08-04T20:58:58.690Z"
   },
   {
    "duration": 6,
    "start_time": "2022-08-04T20:58:58.697Z"
   },
   {
    "duration": 39,
    "start_time": "2022-08-04T20:58:58.704Z"
   },
   {
    "duration": 705,
    "start_time": "2022-08-05T09:48:53.279Z"
   },
   {
    "duration": 21,
    "start_time": "2022-08-05T09:48:53.986Z"
   },
   {
    "duration": 1893,
    "start_time": "2022-08-05T09:48:54.009Z"
   },
   {
    "duration": 11,
    "start_time": "2022-08-05T09:48:55.904Z"
   },
   {
    "duration": 30,
    "start_time": "2022-08-05T09:48:55.917Z"
   },
   {
    "duration": 4,
    "start_time": "2022-08-05T09:48:55.949Z"
   },
   {
    "duration": 33,
    "start_time": "2022-08-05T09:48:55.954Z"
   },
   {
    "duration": 12,
    "start_time": "2022-08-05T09:48:55.988Z"
   },
   {
    "duration": 63,
    "start_time": "2022-08-05T09:48:56.002Z"
   },
   {
    "duration": 34,
    "start_time": "2022-08-05T09:48:56.066Z"
   },
   {
    "duration": 17,
    "start_time": "2022-08-05T09:48:56.102Z"
   },
   {
    "duration": 17,
    "start_time": "2022-08-05T09:48:56.120Z"
   },
   {
    "duration": 15,
    "start_time": "2022-08-05T09:48:56.139Z"
   },
   {
    "duration": 6,
    "start_time": "2022-08-05T09:48:56.157Z"
   },
   {
    "duration": 34,
    "start_time": "2022-08-05T09:48:56.164Z"
   },
   {
    "duration": 18,
    "start_time": "2022-08-05T09:48:56.204Z"
   },
   {
    "duration": 10,
    "start_time": "2022-08-05T09:49:44.099Z"
   },
   {
    "duration": 133,
    "start_time": "2022-08-05T09:50:50.180Z"
   },
   {
    "duration": 57,
    "start_time": "2022-08-05T09:51:21.979Z"
   },
   {
    "duration": 723,
    "start_time": "2022-08-05T09:52:09.000Z"
   },
   {
    "duration": 18,
    "start_time": "2022-08-05T09:52:09.724Z"
   },
   {
    "duration": 1875,
    "start_time": "2022-08-05T09:52:09.743Z"
   },
   {
    "duration": 9,
    "start_time": "2022-08-05T09:52:11.620Z"
   },
   {
    "duration": 33,
    "start_time": "2022-08-05T09:52:11.630Z"
   },
   {
    "duration": 4,
    "start_time": "2022-08-05T09:52:11.664Z"
   },
   {
    "duration": 28,
    "start_time": "2022-08-05T09:52:11.670Z"
   },
   {
    "duration": 8,
    "start_time": "2022-08-05T09:52:11.700Z"
   },
   {
    "duration": 43,
    "start_time": "2022-08-05T09:52:11.710Z"
   },
   {
    "duration": 39,
    "start_time": "2022-08-05T09:52:11.756Z"
   },
   {
    "duration": 17,
    "start_time": "2022-08-05T09:52:11.796Z"
   },
   {
    "duration": 18,
    "start_time": "2022-08-05T09:52:11.815Z"
   },
   {
    "duration": 17,
    "start_time": "2022-08-05T09:52:11.835Z"
   },
   {
    "duration": 6,
    "start_time": "2022-08-05T09:52:11.853Z"
   },
   {
    "duration": 7,
    "start_time": "2022-08-05T09:52:11.886Z"
   },
   {
    "duration": 8,
    "start_time": "2022-08-05T09:52:11.895Z"
   },
   {
    "duration": 46,
    "start_time": "2022-08-05T09:52:11.904Z"
   },
   {
    "duration": 5,
    "start_time": "2022-08-05T10:23:43.144Z"
   },
   {
    "duration": 9,
    "start_time": "2022-08-05T10:23:49.218Z"
   },
   {
    "duration": 11,
    "start_time": "2022-08-05T10:24:08.996Z"
   },
   {
    "duration": 12,
    "start_time": "2022-08-05T10:25:43.888Z"
   },
   {
    "duration": 45,
    "start_time": "2022-08-05T10:26:14.539Z"
   },
   {
    "duration": 9,
    "start_time": "2022-08-05T10:27:37.561Z"
   },
   {
    "duration": 21,
    "start_time": "2022-08-05T10:27:58.922Z"
   },
   {
    "duration": 58,
    "start_time": "2022-08-05T10:28:48.975Z"
   },
   {
    "duration": 9,
    "start_time": "2022-08-05T10:29:29.207Z"
   },
   {
    "duration": 22,
    "start_time": "2022-08-05T10:29:43.404Z"
   },
   {
    "duration": 752,
    "start_time": "2022-08-05T10:52:14.480Z"
   },
   {
    "duration": 16,
    "start_time": "2022-08-05T10:52:15.233Z"
   },
   {
    "duration": 1992,
    "start_time": "2022-08-05T10:52:15.250Z"
   },
   {
    "duration": 9,
    "start_time": "2022-08-05T10:52:17.244Z"
   },
   {
    "duration": 33,
    "start_time": "2022-08-05T10:52:17.255Z"
   },
   {
    "duration": 5,
    "start_time": "2022-08-05T10:52:17.289Z"
   },
   {
    "duration": 29,
    "start_time": "2022-08-05T10:52:17.297Z"
   },
   {
    "duration": 9,
    "start_time": "2022-08-05T10:52:17.328Z"
   },
   {
    "duration": 61,
    "start_time": "2022-08-05T10:52:17.339Z"
   },
   {
    "duration": 23,
    "start_time": "2022-08-05T10:52:17.402Z"
   },
   {
    "duration": 18,
    "start_time": "2022-08-05T10:52:17.426Z"
   },
   {
    "duration": 17,
    "start_time": "2022-08-05T10:52:17.446Z"
   },
   {
    "duration": 17,
    "start_time": "2022-08-05T10:52:17.487Z"
   },
   {
    "duration": 7,
    "start_time": "2022-08-05T10:52:17.505Z"
   },
   {
    "duration": 7,
    "start_time": "2022-08-05T10:52:17.514Z"
   },
   {
    "duration": 10,
    "start_time": "2022-08-05T10:52:17.523Z"
   },
   {
    "duration": 12,
    "start_time": "2022-08-05T10:52:17.535Z"
   },
   {
    "duration": 46,
    "start_time": "2022-08-05T10:52:17.549Z"
   },
   {
    "duration": 61,
    "start_time": "2022-08-06T12:34:12.081Z"
   },
   {
    "duration": 7,
    "start_time": "2022-08-06T12:35:04.399Z"
   },
   {
    "duration": 1125,
    "start_time": "2022-08-06T12:35:12.733Z"
   },
   {
    "duration": 17,
    "start_time": "2022-08-06T12:35:13.860Z"
   },
   {
    "duration": 2132,
    "start_time": "2022-08-06T12:35:13.879Z"
   },
   {
    "duration": 10,
    "start_time": "2022-08-06T12:35:16.014Z"
   },
   {
    "duration": 53,
    "start_time": "2022-08-06T12:35:16.026Z"
   },
   {
    "duration": 6,
    "start_time": "2022-08-06T12:35:16.081Z"
   },
   {
    "duration": 44,
    "start_time": "2022-08-06T12:35:16.088Z"
   },
   {
    "duration": 9,
    "start_time": "2022-08-06T12:35:16.134Z"
   },
   {
    "duration": 49,
    "start_time": "2022-08-06T12:35:16.145Z"
   },
   {
    "duration": 26,
    "start_time": "2022-08-06T12:35:16.196Z"
   },
   {
    "duration": 19,
    "start_time": "2022-08-06T12:35:16.224Z"
   },
   {
    "duration": 19,
    "start_time": "2022-08-06T12:35:16.245Z"
   },
   {
    "duration": 41,
    "start_time": "2022-08-06T12:35:16.265Z"
   },
   {
    "duration": 6,
    "start_time": "2022-08-06T12:35:16.308Z"
   },
   {
    "duration": 16,
    "start_time": "2022-08-06T12:35:16.316Z"
   },
   {
    "duration": 8,
    "start_time": "2022-08-06T12:35:16.333Z"
   },
   {
    "duration": 11,
    "start_time": "2022-08-06T12:35:16.342Z"
   },
   {
    "duration": 44,
    "start_time": "2022-08-06T12:35:16.355Z"
   },
   {
    "duration": 116,
    "start_time": "2022-08-06T12:48:56.659Z"
   },
   {
    "duration": 1054,
    "start_time": "2022-08-06T12:50:31.392Z"
   },
   {
    "duration": 18,
    "start_time": "2022-08-06T12:50:32.448Z"
   },
   {
    "duration": 2271,
    "start_time": "2022-08-06T12:50:32.468Z"
   },
   {
    "duration": 12,
    "start_time": "2022-08-06T12:50:34.743Z"
   },
   {
    "duration": 39,
    "start_time": "2022-08-06T12:50:34.757Z"
   },
   {
    "duration": 5,
    "start_time": "2022-08-06T12:50:34.798Z"
   },
   {
    "duration": 29,
    "start_time": "2022-08-06T12:50:34.804Z"
   },
   {
    "duration": 13,
    "start_time": "2022-08-06T12:50:34.835Z"
   },
   {
    "duration": 68,
    "start_time": "2022-08-06T12:50:34.850Z"
   },
   {
    "duration": 30,
    "start_time": "2022-08-06T12:50:34.921Z"
   },
   {
    "duration": 22,
    "start_time": "2022-08-06T12:50:34.953Z"
   },
   {
    "duration": 21,
    "start_time": "2022-08-06T12:50:34.992Z"
   },
   {
    "duration": 21,
    "start_time": "2022-08-06T12:50:35.015Z"
   },
   {
    "duration": 7,
    "start_time": "2022-08-06T12:50:35.039Z"
   },
   {
    "duration": 14,
    "start_time": "2022-08-06T12:50:35.048Z"
   },
   {
    "duration": 35,
    "start_time": "2022-08-06T12:50:35.064Z"
   },
   {
    "duration": 27,
    "start_time": "2022-08-06T12:50:35.101Z"
   },
   {
    "duration": 89,
    "start_time": "2022-08-06T12:52:01.134Z"
   },
   {
    "duration": 18,
    "start_time": "2022-08-06T12:52:14.153Z"
   },
   {
    "duration": 13,
    "start_time": "2022-08-06T12:58:20.471Z"
   },
   {
    "duration": 22,
    "start_time": "2022-08-06T12:58:29.671Z"
   },
   {
    "duration": 31,
    "start_time": "2022-08-06T12:58:37.683Z"
   },
   {
    "duration": 17,
    "start_time": "2022-08-06T12:58:53.032Z"
   },
   {
    "duration": 8,
    "start_time": "2022-08-06T12:59:02.504Z"
   },
   {
    "duration": 79,
    "start_time": "2022-08-06T13:02:04.827Z"
   },
   {
    "duration": 12,
    "start_time": "2022-08-06T13:02:12.775Z"
   },
   {
    "duration": 8,
    "start_time": "2022-08-06T13:02:47.595Z"
   },
   {
    "duration": 18,
    "start_time": "2022-08-06T13:41:57.333Z"
   },
   {
    "duration": 8,
    "start_time": "2022-08-06T13:46:16.594Z"
   },
   {
    "duration": 179,
    "start_time": "2022-08-06T13:46:22.838Z"
   },
   {
    "duration": 8,
    "start_time": "2022-08-06T13:47:53.677Z"
   },
   {
    "duration": 8,
    "start_time": "2022-08-06T13:48:13.979Z"
   },
   {
    "duration": 7,
    "start_time": "2022-08-06T13:49:17.059Z"
   },
   {
    "duration": 7,
    "start_time": "2022-08-06T13:52:37.669Z"
   },
   {
    "duration": 7,
    "start_time": "2022-08-06T13:52:49.477Z"
   },
   {
    "duration": 153,
    "start_time": "2022-08-06T13:54:49.318Z"
   },
   {
    "duration": 176,
    "start_time": "2022-08-06T13:55:51.404Z"
   },
   {
    "duration": 146,
    "start_time": "2022-08-06T13:56:18.693Z"
   },
   {
    "duration": 186,
    "start_time": "2022-08-06T13:56:21.507Z"
   },
   {
    "duration": 23,
    "start_time": "2022-08-06T14:05:54.309Z"
   },
   {
    "duration": 6,
    "start_time": "2022-08-06T14:07:13.388Z"
   },
   {
    "duration": 157,
    "start_time": "2022-08-06T14:10:32.112Z"
   },
   {
    "duration": 277,
    "start_time": "2022-08-06T14:10:37.578Z"
   },
   {
    "duration": 247,
    "start_time": "2022-08-06T14:11:37.012Z"
   },
   {
    "duration": 233,
    "start_time": "2022-08-06T14:12:14.715Z"
   },
   {
    "duration": 6,
    "start_time": "2022-08-06T14:12:53.970Z"
   },
   {
    "duration": 6,
    "start_time": "2022-08-06T14:21:13.439Z"
   },
   {
    "duration": 6,
    "start_time": "2022-08-06T14:21:28.938Z"
   },
   {
    "duration": 6,
    "start_time": "2022-08-06T14:21:35.476Z"
   },
   {
    "duration": 187,
    "start_time": "2022-08-06T14:44:36.766Z"
   },
   {
    "duration": 199,
    "start_time": "2022-08-06T14:44:46.860Z"
   },
   {
    "duration": 9,
    "start_time": "2022-08-06T14:45:06.362Z"
   },
   {
    "duration": 167,
    "start_time": "2022-08-06T14:45:12.645Z"
   },
   {
    "duration": 188,
    "start_time": "2022-08-06T14:56:30.978Z"
   },
   {
    "duration": 6,
    "start_time": "2022-08-06T15:15:15.594Z"
   },
   {
    "duration": 20,
    "start_time": "2022-08-06T15:24:35.058Z"
   },
   {
    "duration": 26,
    "start_time": "2022-08-06T15:24:40.761Z"
   },
   {
    "duration": 15,
    "start_time": "2022-08-06T15:25:04.487Z"
   },
   {
    "duration": 30,
    "start_time": "2022-08-06T15:25:05.975Z"
   },
   {
    "duration": 91,
    "start_time": "2022-08-06T15:32:06.177Z"
   },
   {
    "duration": 336,
    "start_time": "2022-08-06T15:33:51.588Z"
   },
   {
    "duration": 839,
    "start_time": "2022-08-06T15:34:57.627Z"
   },
   {
    "duration": 32,
    "start_time": "2022-08-06T15:34:58.468Z"
   },
   {
    "duration": 2118,
    "start_time": "2022-08-06T15:34:58.501Z"
   },
   {
    "duration": 10,
    "start_time": "2022-08-06T15:35:00.622Z"
   },
   {
    "duration": 41,
    "start_time": "2022-08-06T15:35:00.634Z"
   },
   {
    "duration": 28,
    "start_time": "2022-08-06T15:35:00.676Z"
   },
   {
    "duration": 45,
    "start_time": "2022-08-06T15:35:00.706Z"
   },
   {
    "duration": 9,
    "start_time": "2022-08-06T15:35:00.753Z"
   },
   {
    "duration": 54,
    "start_time": "2022-08-06T15:35:00.763Z"
   },
   {
    "duration": 8,
    "start_time": "2022-08-06T15:35:00.820Z"
   },
   {
    "duration": 26,
    "start_time": "2022-08-06T15:35:00.830Z"
   },
   {
    "duration": 457,
    "start_time": "2022-08-06T15:35:00.857Z"
   },
   {
    "duration": 0,
    "start_time": "2022-08-06T15:35:01.316Z"
   },
   {
    "duration": 0,
    "start_time": "2022-08-06T15:35:01.317Z"
   },
   {
    "duration": 0,
    "start_time": "2022-08-06T15:35:01.318Z"
   },
   {
    "duration": 0,
    "start_time": "2022-08-06T15:35:01.319Z"
   },
   {
    "duration": 0,
    "start_time": "2022-08-06T15:35:01.320Z"
   },
   {
    "duration": 0,
    "start_time": "2022-08-06T15:35:01.322Z"
   },
   {
    "duration": 0,
    "start_time": "2022-08-06T15:35:01.323Z"
   },
   {
    "duration": 0,
    "start_time": "2022-08-06T15:35:01.324Z"
   },
   {
    "duration": 0,
    "start_time": "2022-08-06T15:35:01.325Z"
   },
   {
    "duration": 10,
    "start_time": "2022-08-06T15:40:56.185Z"
   },
   {
    "duration": 4,
    "start_time": "2022-08-06T15:41:10.006Z"
   },
   {
    "duration": 12,
    "start_time": "2022-08-06T15:41:31.852Z"
   },
   {
    "duration": 10,
    "start_time": "2022-08-06T15:41:38.933Z"
   },
   {
    "duration": 34,
    "start_time": "2022-08-06T15:41:43.933Z"
   },
   {
    "duration": 1359,
    "start_time": "2022-08-06T15:42:29.086Z"
   },
   {
    "duration": 1158,
    "start_time": "2022-08-06T15:42:39.523Z"
   },
   {
    "duration": 1480,
    "start_time": "2022-08-06T15:43:00.922Z"
   },
   {
    "duration": 354,
    "start_time": "2022-08-06T15:43:08.306Z"
   },
   {
    "duration": 55,
    "start_time": "2022-08-06T15:43:50.312Z"
   },
   {
    "duration": 792,
    "start_time": "2022-08-06T15:44:08.125Z"
   },
   {
    "duration": 17,
    "start_time": "2022-08-06T15:44:08.919Z"
   },
   {
    "duration": 2402,
    "start_time": "2022-08-06T15:44:08.938Z"
   },
   {
    "duration": 11,
    "start_time": "2022-08-06T15:44:11.342Z"
   },
   {
    "duration": 33,
    "start_time": "2022-08-06T15:44:11.355Z"
   },
   {
    "duration": 7,
    "start_time": "2022-08-06T15:44:11.390Z"
   },
   {
    "duration": 44,
    "start_time": "2022-08-06T15:44:11.399Z"
   },
   {
    "duration": 10,
    "start_time": "2022-08-06T15:44:11.445Z"
   },
   {
    "duration": 91,
    "start_time": "2022-08-06T15:44:11.456Z"
   },
   {
    "duration": 9,
    "start_time": "2022-08-06T15:44:11.548Z"
   },
   {
    "duration": 17,
    "start_time": "2022-08-06T15:44:11.559Z"
   },
   {
    "duration": 49,
    "start_time": "2022-08-06T15:44:11.592Z"
   },
   {
    "duration": 55,
    "start_time": "2022-08-06T15:44:11.643Z"
   },
   {
    "duration": 31,
    "start_time": "2022-08-06T15:44:11.701Z"
   },
   {
    "duration": 19,
    "start_time": "2022-08-06T15:44:11.735Z"
   },
   {
    "duration": 6,
    "start_time": "2022-08-06T15:44:11.756Z"
   },
   {
    "duration": 37,
    "start_time": "2022-08-06T15:44:11.764Z"
   },
   {
    "duration": 55,
    "start_time": "2022-08-06T15:44:11.804Z"
   },
   {
    "duration": 14,
    "start_time": "2022-08-06T15:44:11.861Z"
   },
   {
    "duration": 61,
    "start_time": "2022-08-06T15:44:11.877Z"
   },
   {
    "duration": 419,
    "start_time": "2022-08-06T15:45:19.484Z"
   },
   {
    "duration": 313,
    "start_time": "2022-08-06T15:47:37.822Z"
   },
   {
    "duration": 357,
    "start_time": "2022-08-06T15:47:56.934Z"
   },
   {
    "duration": 293,
    "start_time": "2022-08-06T15:49:39.184Z"
   },
   {
    "duration": 10,
    "start_time": "2022-08-06T17:01:36.801Z"
   },
   {
    "duration": 6,
    "start_time": "2022-08-06T17:01:53.650Z"
   },
   {
    "duration": 962,
    "start_time": "2022-08-06T17:02:11.580Z"
   },
   {
    "duration": 23,
    "start_time": "2022-08-06T17:02:12.545Z"
   },
   {
    "duration": 2273,
    "start_time": "2022-08-06T17:02:12.570Z"
   },
   {
    "duration": 10,
    "start_time": "2022-08-06T17:02:14.846Z"
   },
   {
    "duration": 34,
    "start_time": "2022-08-06T17:02:14.860Z"
   },
   {
    "duration": 6,
    "start_time": "2022-08-06T17:02:14.896Z"
   },
   {
    "duration": 30,
    "start_time": "2022-08-06T17:02:14.904Z"
   },
   {
    "duration": 11,
    "start_time": "2022-08-06T17:02:14.936Z"
   },
   {
    "duration": 79,
    "start_time": "2022-08-06T17:02:14.948Z"
   },
   {
    "duration": 10,
    "start_time": "2022-08-06T17:02:15.030Z"
   },
   {
    "duration": 14,
    "start_time": "2022-08-06T17:02:15.042Z"
   },
   {
    "duration": 18,
    "start_time": "2022-08-06T17:02:15.058Z"
   },
   {
    "duration": 50,
    "start_time": "2022-08-06T17:02:15.078Z"
   },
   {
    "duration": 21,
    "start_time": "2022-08-06T17:02:15.130Z"
   },
   {
    "duration": 21,
    "start_time": "2022-08-06T17:02:15.152Z"
   },
   {
    "duration": 32,
    "start_time": "2022-08-06T17:02:15.175Z"
   },
   {
    "duration": 7,
    "start_time": "2022-08-06T17:02:15.209Z"
   },
   {
    "duration": 10,
    "start_time": "2022-08-06T17:02:15.218Z"
   },
   {
    "duration": 25,
    "start_time": "2022-08-06T17:02:15.229Z"
   },
   {
    "duration": 38,
    "start_time": "2022-08-06T17:02:15.256Z"
   },
   {
    "duration": 35,
    "start_time": "2022-08-06T17:02:15.296Z"
   },
   {
    "duration": 8,
    "start_time": "2022-08-06T17:03:15.198Z"
   },
   {
    "duration": 10,
    "start_time": "2022-08-06T17:03:20.583Z"
   },
   {
    "duration": 141,
    "start_time": "2022-08-06T17:04:44.537Z"
   },
   {
    "duration": 102,
    "start_time": "2022-08-06T17:07:36.852Z"
   },
   {
    "duration": 6,
    "start_time": "2022-08-06T17:07:53.039Z"
   },
   {
    "duration": 10,
    "start_time": "2022-08-06T17:07:59.433Z"
   },
   {
    "duration": 860,
    "start_time": "2022-08-06T17:08:08.820Z"
   },
   {
    "duration": 20,
    "start_time": "2022-08-06T17:08:09.682Z"
   },
   {
    "duration": 2408,
    "start_time": "2022-08-06T17:08:09.704Z"
   },
   {
    "duration": 12,
    "start_time": "2022-08-06T17:08:12.117Z"
   },
   {
    "duration": 47,
    "start_time": "2022-08-06T17:08:12.131Z"
   },
   {
    "duration": 8,
    "start_time": "2022-08-06T17:08:12.180Z"
   },
   {
    "duration": 48,
    "start_time": "2022-08-06T17:08:12.190Z"
   },
   {
    "duration": 14,
    "start_time": "2022-08-06T17:08:12.240Z"
   },
   {
    "duration": 59,
    "start_time": "2022-08-06T17:08:12.256Z"
   },
   {
    "duration": 9,
    "start_time": "2022-08-06T17:08:12.318Z"
   },
   {
    "duration": 8,
    "start_time": "2022-08-06T17:08:12.329Z"
   },
   {
    "duration": 18,
    "start_time": "2022-08-06T17:08:12.339Z"
   },
   {
    "duration": 55,
    "start_time": "2022-08-06T17:08:12.360Z"
   },
   {
    "duration": 24,
    "start_time": "2022-08-06T17:08:12.417Z"
   },
   {
    "duration": 20,
    "start_time": "2022-08-06T17:08:12.443Z"
   },
   {
    "duration": 59,
    "start_time": "2022-08-06T17:08:12.465Z"
   },
   {
    "duration": 9,
    "start_time": "2022-08-06T17:08:12.526Z"
   },
   {
    "duration": 11,
    "start_time": "2022-08-06T17:08:12.537Z"
   },
   {
    "duration": 50,
    "start_time": "2022-08-06T17:08:12.550Z"
   },
   {
    "duration": 10,
    "start_time": "2022-08-06T17:08:12.602Z"
   },
   {
    "duration": 33,
    "start_time": "2022-08-06T17:08:12.614Z"
   },
   {
    "duration": 785,
    "start_time": "2022-08-06T17:09:14.050Z"
   },
   {
    "duration": 16,
    "start_time": "2022-08-06T17:09:14.838Z"
   },
   {
    "duration": 2607,
    "start_time": "2022-08-06T17:09:14.856Z"
   },
   {
    "duration": 11,
    "start_time": "2022-08-06T17:09:17.466Z"
   },
   {
    "duration": 47,
    "start_time": "2022-08-06T17:09:17.479Z"
   },
   {
    "duration": 7,
    "start_time": "2022-08-06T17:09:17.528Z"
   },
   {
    "duration": 33,
    "start_time": "2022-08-06T17:09:17.537Z"
   },
   {
    "duration": 28,
    "start_time": "2022-08-06T17:09:17.572Z"
   },
   {
    "duration": 50,
    "start_time": "2022-08-06T17:09:17.603Z"
   },
   {
    "duration": 11,
    "start_time": "2022-08-06T17:09:17.657Z"
   },
   {
    "duration": 7,
    "start_time": "2022-08-06T17:09:17.693Z"
   },
   {
    "duration": 16,
    "start_time": "2022-08-06T17:09:17.703Z"
   },
   {
    "duration": 31,
    "start_time": "2022-08-06T17:09:17.721Z"
   },
   {
    "duration": 38,
    "start_time": "2022-08-06T17:09:17.755Z"
   },
   {
    "duration": 33,
    "start_time": "2022-08-06T17:09:17.797Z"
   },
   {
    "duration": 20,
    "start_time": "2022-08-06T17:09:17.832Z"
   },
   {
    "duration": 7,
    "start_time": "2022-08-06T17:09:17.854Z"
   },
   {
    "duration": 38,
    "start_time": "2022-08-06T17:09:17.863Z"
   },
   {
    "duration": 40,
    "start_time": "2022-08-06T17:09:17.907Z"
   },
   {
    "duration": 11,
    "start_time": "2022-08-06T17:09:17.949Z"
   },
   {
    "duration": 57,
    "start_time": "2022-08-06T17:09:17.962Z"
   },
   {
    "duration": 79,
    "start_time": "2022-08-06T17:13:54.982Z"
   },
   {
    "duration": 10,
    "start_time": "2022-08-06T17:15:12.470Z"
   },
   {
    "duration": 9,
    "start_time": "2022-08-06T17:15:21.281Z"
   },
   {
    "duration": 8,
    "start_time": "2022-08-06T17:17:10.686Z"
   },
   {
    "duration": 11,
    "start_time": "2022-08-06T17:17:15.576Z"
   },
   {
    "duration": 10,
    "start_time": "2022-08-06T17:17:20.254Z"
   },
   {
    "duration": 17,
    "start_time": "2022-08-06T17:17:51.651Z"
   },
   {
    "duration": 810,
    "start_time": "2022-08-06T17:18:15.518Z"
   },
   {
    "duration": 18,
    "start_time": "2022-08-06T17:18:16.331Z"
   },
   {
    "duration": 2216,
    "start_time": "2022-08-06T17:18:16.351Z"
   },
   {
    "duration": 10,
    "start_time": "2022-08-06T17:18:18.570Z"
   },
   {
    "duration": 63,
    "start_time": "2022-08-06T17:18:18.581Z"
   },
   {
    "duration": 5,
    "start_time": "2022-08-06T17:18:18.646Z"
   },
   {
    "duration": 35,
    "start_time": "2022-08-06T17:18:18.653Z"
   },
   {
    "duration": 14,
    "start_time": "2022-08-06T17:18:18.689Z"
   },
   {
    "duration": 60,
    "start_time": "2022-08-06T17:18:18.705Z"
   },
   {
    "duration": 8,
    "start_time": "2022-08-06T17:18:18.768Z"
   },
   {
    "duration": 28,
    "start_time": "2022-08-06T17:18:18.793Z"
   },
   {
    "duration": 15,
    "start_time": "2022-08-06T17:18:18.823Z"
   },
   {
    "duration": 53,
    "start_time": "2022-08-06T17:18:18.840Z"
   },
   {
    "duration": 25,
    "start_time": "2022-08-06T17:18:18.895Z"
   },
   {
    "duration": 22,
    "start_time": "2022-08-06T17:18:18.922Z"
   },
   {
    "duration": 21,
    "start_time": "2022-08-06T17:18:18.946Z"
   },
   {
    "duration": 9,
    "start_time": "2022-08-06T17:18:18.995Z"
   },
   {
    "duration": 10,
    "start_time": "2022-08-06T17:18:19.006Z"
   },
   {
    "duration": 25,
    "start_time": "2022-08-06T17:18:19.018Z"
   },
   {
    "duration": 7,
    "start_time": "2022-08-06T17:18:19.045Z"
   },
   {
    "duration": 42,
    "start_time": "2022-08-06T17:18:19.054Z"
   },
   {
    "duration": 38,
    "start_time": "2022-08-06T17:18:19.099Z"
   },
   {
    "duration": 71,
    "start_time": "2022-08-06T17:22:37.436Z"
   },
   {
    "duration": 57,
    "start_time": "2022-08-06T17:23:19.834Z"
   },
   {
    "duration": 26,
    "start_time": "2022-08-06T17:23:26.175Z"
   },
   {
    "duration": 15,
    "start_time": "2022-08-06T17:25:34.796Z"
   },
   {
    "duration": 16,
    "start_time": "2022-08-06T17:25:43.237Z"
   },
   {
    "duration": 12,
    "start_time": "2022-08-06T17:51:22.032Z"
   },
   {
    "duration": 27,
    "start_time": "2022-08-06T17:51:27.308Z"
   },
   {
    "duration": 12,
    "start_time": "2022-08-06T17:52:29.974Z"
   },
   {
    "duration": 27,
    "start_time": "2022-08-06T17:52:32.920Z"
   },
   {
    "duration": 953,
    "start_time": "2022-08-06T17:52:51.305Z"
   },
   {
    "duration": 19,
    "start_time": "2022-08-06T17:52:52.260Z"
   },
   {
    "duration": 2355,
    "start_time": "2022-08-06T17:52:52.280Z"
   },
   {
    "duration": 10,
    "start_time": "2022-08-06T17:52:54.638Z"
   },
   {
    "duration": 55,
    "start_time": "2022-08-06T17:52:54.649Z"
   },
   {
    "duration": 7,
    "start_time": "2022-08-06T17:52:54.706Z"
   },
   {
    "duration": 42,
    "start_time": "2022-08-06T17:52:54.714Z"
   },
   {
    "duration": 9,
    "start_time": "2022-08-06T17:52:54.758Z"
   },
   {
    "duration": 67,
    "start_time": "2022-08-06T17:52:54.769Z"
   },
   {
    "duration": 10,
    "start_time": "2022-08-06T17:52:54.839Z"
   },
   {
    "duration": 21,
    "start_time": "2022-08-06T17:52:54.850Z"
   },
   {
    "duration": 32,
    "start_time": "2022-08-06T17:52:54.872Z"
   },
   {
    "duration": 12,
    "start_time": "2022-08-06T17:52:54.907Z"
   },
   {
    "duration": 41,
    "start_time": "2022-08-06T17:52:54.921Z"
   },
   {
    "duration": 46,
    "start_time": "2022-08-06T17:52:54.964Z"
   },
   {
    "duration": 21,
    "start_time": "2022-08-06T17:52:55.012Z"
   },
   {
    "duration": 20,
    "start_time": "2022-08-06T17:52:55.035Z"
   },
   {
    "duration": 9,
    "start_time": "2022-08-06T17:52:55.057Z"
   },
   {
    "duration": 32,
    "start_time": "2022-08-06T17:52:55.067Z"
   },
   {
    "duration": 26,
    "start_time": "2022-08-06T17:52:55.101Z"
   },
   {
    "duration": 9,
    "start_time": "2022-08-06T17:52:55.130Z"
   },
   {
    "duration": 18,
    "start_time": "2022-08-06T17:52:55.141Z"
   },
   {
    "duration": 54,
    "start_time": "2022-08-06T17:52:55.161Z"
   },
   {
    "duration": 16,
    "start_time": "2022-08-06T17:54:19.839Z"
   },
   {
    "duration": 26,
    "start_time": "2022-08-06T17:54:22.216Z"
   },
   {
    "duration": 85,
    "start_time": "2022-08-06T17:54:32.727Z"
   },
   {
    "duration": 20,
    "start_time": "2022-08-06T17:56:57.860Z"
   },
   {
    "duration": 18,
    "start_time": "2022-08-06T17:57:05.010Z"
   },
   {
    "duration": 12,
    "start_time": "2022-08-06T18:01:18.868Z"
   },
   {
    "duration": 8,
    "start_time": "2022-08-06T18:01:20.646Z"
   },
   {
    "duration": 27,
    "start_time": "2022-08-06T18:01:22.153Z"
   },
   {
    "duration": 947,
    "start_time": "2022-08-06T18:01:52.156Z"
   },
   {
    "duration": 24,
    "start_time": "2022-08-06T18:01:53.108Z"
   },
   {
    "duration": 2245,
    "start_time": "2022-08-06T18:01:53.134Z"
   },
   {
    "duration": 12,
    "start_time": "2022-08-06T18:01:55.382Z"
   },
   {
    "duration": 49,
    "start_time": "2022-08-06T18:01:55.396Z"
   },
   {
    "duration": 6,
    "start_time": "2022-08-06T18:01:55.447Z"
   },
   {
    "duration": 44,
    "start_time": "2022-08-06T18:01:55.455Z"
   },
   {
    "duration": 15,
    "start_time": "2022-08-06T18:01:55.502Z"
   },
   {
    "duration": 55,
    "start_time": "2022-08-06T18:01:55.520Z"
   },
   {
    "duration": 23,
    "start_time": "2022-08-06T18:01:55.578Z"
   },
   {
    "duration": 27,
    "start_time": "2022-08-06T18:01:55.604Z"
   },
   {
    "duration": 14,
    "start_time": "2022-08-06T18:01:55.633Z"
   },
   {
    "duration": 8,
    "start_time": "2022-08-06T18:01:55.649Z"
   },
   {
    "duration": 57,
    "start_time": "2022-08-06T18:01:55.659Z"
   },
   {
    "duration": 21,
    "start_time": "2022-08-06T18:01:55.718Z"
   },
   {
    "duration": 41,
    "start_time": "2022-08-06T18:01:55.741Z"
   },
   {
    "duration": 24,
    "start_time": "2022-08-06T18:01:55.784Z"
   },
   {
    "duration": 23,
    "start_time": "2022-08-06T18:01:55.811Z"
   },
   {
    "duration": 34,
    "start_time": "2022-08-06T18:01:55.837Z"
   },
   {
    "duration": 35,
    "start_time": "2022-08-06T18:01:55.873Z"
   },
   {
    "duration": 14,
    "start_time": "2022-08-06T18:01:55.910Z"
   },
   {
    "duration": 22,
    "start_time": "2022-08-06T18:01:55.926Z"
   },
   {
    "duration": 32,
    "start_time": "2022-08-06T18:01:55.950Z"
   },
   {
    "duration": 12,
    "start_time": "2022-08-06T18:04:43.499Z"
   },
   {
    "duration": 32,
    "start_time": "2022-08-06T18:04:45.009Z"
   },
   {
    "duration": 11,
    "start_time": "2022-08-06T18:05:36.233Z"
   },
   {
    "duration": 16,
    "start_time": "2022-08-06T18:09:00.010Z"
   },
   {
    "duration": 11,
    "start_time": "2022-08-06T18:09:00.764Z"
   },
   {
    "duration": 27,
    "start_time": "2022-08-06T18:09:01.415Z"
   },
   {
    "duration": 918,
    "start_time": "2022-08-06T18:09:23.760Z"
   },
   {
    "duration": 21,
    "start_time": "2022-08-06T18:09:24.681Z"
   },
   {
    "duration": 2204,
    "start_time": "2022-08-06T18:09:24.704Z"
   },
   {
    "duration": 12,
    "start_time": "2022-08-06T18:09:26.911Z"
   },
   {
    "duration": 36,
    "start_time": "2022-08-06T18:09:26.924Z"
   },
   {
    "duration": 5,
    "start_time": "2022-08-06T18:09:26.962Z"
   },
   {
    "duration": 41,
    "start_time": "2022-08-06T18:09:26.969Z"
   },
   {
    "duration": 12,
    "start_time": "2022-08-06T18:09:27.012Z"
   },
   {
    "duration": 66,
    "start_time": "2022-08-06T18:09:27.026Z"
   },
   {
    "duration": 12,
    "start_time": "2022-08-06T18:09:27.095Z"
   },
   {
    "duration": 16,
    "start_time": "2022-08-06T18:09:27.109Z"
   },
   {
    "duration": 21,
    "start_time": "2022-08-06T18:09:27.127Z"
   },
   {
    "duration": 14,
    "start_time": "2022-08-06T18:09:27.150Z"
   },
   {
    "duration": 30,
    "start_time": "2022-08-06T18:09:27.192Z"
   },
   {
    "duration": 18,
    "start_time": "2022-08-06T18:09:27.224Z"
   },
   {
    "duration": 19,
    "start_time": "2022-08-06T18:09:27.244Z"
   },
   {
    "duration": 22,
    "start_time": "2022-08-06T18:09:27.291Z"
   },
   {
    "duration": 8,
    "start_time": "2022-08-06T18:09:27.315Z"
   },
   {
    "duration": 9,
    "start_time": "2022-08-06T18:09:27.324Z"
   },
   {
    "duration": 28,
    "start_time": "2022-08-06T18:09:27.335Z"
   },
   {
    "duration": 15,
    "start_time": "2022-08-06T18:09:27.391Z"
   },
   {
    "duration": 18,
    "start_time": "2022-08-06T18:09:27.408Z"
   },
   {
    "duration": 28,
    "start_time": "2022-08-06T18:09:27.428Z"
   },
   {
    "duration": 52,
    "start_time": "2022-08-07T07:37:05.538Z"
   },
   {
    "duration": 1199,
    "start_time": "2022-08-07T07:37:13.932Z"
   },
   {
    "duration": 16,
    "start_time": "2022-08-07T07:37:15.134Z"
   },
   {
    "duration": 1941,
    "start_time": "2022-08-07T07:37:15.152Z"
   },
   {
    "duration": 15,
    "start_time": "2022-08-07T07:37:17.096Z"
   },
   {
    "duration": 35,
    "start_time": "2022-08-07T07:37:17.113Z"
   },
   {
    "duration": 5,
    "start_time": "2022-08-07T07:37:17.149Z"
   },
   {
    "duration": 35,
    "start_time": "2022-08-07T07:37:17.155Z"
   },
   {
    "duration": 20,
    "start_time": "2022-08-07T07:37:17.192Z"
   },
   {
    "duration": 57,
    "start_time": "2022-08-07T07:37:17.214Z"
   },
   {
    "duration": 8,
    "start_time": "2022-08-07T07:37:17.274Z"
   },
   {
    "duration": 25,
    "start_time": "2022-08-07T07:37:17.284Z"
   },
   {
    "duration": 16,
    "start_time": "2022-08-07T07:37:17.311Z"
   },
   {
    "duration": 9,
    "start_time": "2022-08-07T07:37:17.328Z"
   },
   {
    "duration": 23,
    "start_time": "2022-08-07T07:37:17.338Z"
   },
   {
    "duration": 17,
    "start_time": "2022-08-07T07:37:17.362Z"
   },
   {
    "duration": 39,
    "start_time": "2022-08-07T07:37:17.380Z"
   },
   {
    "duration": 10,
    "start_time": "2022-08-07T07:37:17.420Z"
   },
   {
    "duration": 8,
    "start_time": "2022-08-07T07:37:17.431Z"
   },
   {
    "duration": 26,
    "start_time": "2022-08-07T07:37:17.441Z"
   },
   {
    "duration": 8,
    "start_time": "2022-08-07T07:37:17.469Z"
   },
   {
    "duration": 43,
    "start_time": "2022-08-07T07:37:17.478Z"
   },
   {
    "duration": 13,
    "start_time": "2022-08-07T07:38:23.391Z"
   },
   {
    "duration": 9,
    "start_time": "2022-08-07T07:39:05.262Z"
   },
   {
    "duration": 22,
    "start_time": "2022-08-07T07:39:10.510Z"
   },
   {
    "duration": 9,
    "start_time": "2022-08-07T07:39:13.910Z"
   },
   {
    "duration": 10,
    "start_time": "2022-08-07T07:40:10.862Z"
   },
   {
    "duration": 22,
    "start_time": "2022-08-07T07:40:15.617Z"
   },
   {
    "duration": 6,
    "start_time": "2022-08-07T07:41:14.753Z"
   },
   {
    "duration": 60,
    "start_time": "2022-08-07T07:41:27.274Z"
   },
   {
    "duration": 86,
    "start_time": "2022-08-07T07:41:30.586Z"
   },
   {
    "duration": 10,
    "start_time": "2022-08-07T07:41:42.298Z"
   },
   {
    "duration": 16,
    "start_time": "2022-08-07T07:47:51.655Z"
   },
   {
    "duration": 15,
    "start_time": "2022-08-07T07:48:39.114Z"
   },
   {
    "duration": 16,
    "start_time": "2022-08-07T07:50:35.744Z"
   },
   {
    "duration": 62,
    "start_time": "2022-08-07T07:51:05.264Z"
   },
   {
    "duration": 22,
    "start_time": "2022-08-07T09:03:51.738Z"
   },
   {
    "duration": 7,
    "start_time": "2022-08-07T09:04:40.583Z"
   },
   {
    "duration": 50,
    "start_time": "2022-08-07T09:06:52.936Z"
   },
   {
    "duration": 48,
    "start_time": "2022-08-07T09:07:05.588Z"
   },
   {
    "duration": 172,
    "start_time": "2022-08-07T09:07:21.395Z"
   },
   {
    "duration": 190,
    "start_time": "2022-08-07T09:07:41.029Z"
   },
   {
    "duration": 10,
    "start_time": "2022-08-07T09:08:13.335Z"
   },
   {
    "duration": 8,
    "start_time": "2022-08-07T09:10:40.120Z"
   },
   {
    "duration": 782,
    "start_time": "2022-08-07T09:11:09.668Z"
   },
   {
    "duration": 16,
    "start_time": "2022-08-07T09:11:10.452Z"
   },
   {
    "duration": 1811,
    "start_time": "2022-08-07T09:11:10.470Z"
   },
   {
    "duration": 9,
    "start_time": "2022-08-07T09:11:12.284Z"
   },
   {
    "duration": 30,
    "start_time": "2022-08-07T09:11:12.294Z"
   },
   {
    "duration": 5,
    "start_time": "2022-08-07T09:11:12.325Z"
   },
   {
    "duration": 25,
    "start_time": "2022-08-07T09:11:12.332Z"
   },
   {
    "duration": 8,
    "start_time": "2022-08-07T09:11:12.359Z"
   },
   {
    "duration": 68,
    "start_time": "2022-08-07T09:11:12.371Z"
   },
   {
    "duration": 13,
    "start_time": "2022-08-07T09:11:12.442Z"
   },
   {
    "duration": 21,
    "start_time": "2022-08-07T09:11:12.457Z"
   },
   {
    "duration": 20,
    "start_time": "2022-08-07T09:11:12.480Z"
   },
   {
    "duration": 27,
    "start_time": "2022-08-07T09:11:12.502Z"
   },
   {
    "duration": 9,
    "start_time": "2022-08-07T09:11:12.531Z"
   },
   {
    "duration": 17,
    "start_time": "2022-08-07T09:11:12.541Z"
   },
   {
    "duration": 16,
    "start_time": "2022-08-07T09:11:12.560Z"
   },
   {
    "duration": 34,
    "start_time": "2022-08-07T09:11:12.578Z"
   },
   {
    "duration": 10,
    "start_time": "2022-08-07T09:11:12.613Z"
   },
   {
    "duration": 9,
    "start_time": "2022-08-07T09:11:12.625Z"
   },
   {
    "duration": 30,
    "start_time": "2022-08-07T09:11:12.636Z"
   },
   {
    "duration": 9,
    "start_time": "2022-08-07T09:11:12.667Z"
   },
   {
    "duration": 40,
    "start_time": "2022-08-07T09:11:12.677Z"
   },
   {
    "duration": 15,
    "start_time": "2022-08-07T09:11:36.247Z"
   },
   {
    "duration": 5,
    "start_time": "2022-08-07T09:25:01.573Z"
   },
   {
    "duration": 48,
    "start_time": "2022-08-07T09:25:38.727Z"
   },
   {
    "duration": 5,
    "start_time": "2022-08-07T09:25:43.544Z"
   },
   {
    "duration": 11,
    "start_time": "2022-08-07T09:28:24.759Z"
   },
   {
    "duration": 80,
    "start_time": "2022-08-07T09:28:50.539Z"
   },
   {
    "duration": 4,
    "start_time": "2022-08-07T09:29:02.420Z"
   },
   {
    "duration": 3,
    "start_time": "2022-08-07T09:29:57.826Z"
   },
   {
    "duration": 8,
    "start_time": "2022-08-07T09:30:27.723Z"
   },
   {
    "duration": 9,
    "start_time": "2022-08-07T09:31:05.298Z"
   },
   {
    "duration": 755,
    "start_time": "2022-08-07T09:31:13.292Z"
   },
   {
    "duration": 16,
    "start_time": "2022-08-07T09:31:14.049Z"
   },
   {
    "duration": 1942,
    "start_time": "2022-08-07T09:31:14.067Z"
   },
   {
    "duration": 9,
    "start_time": "2022-08-07T09:31:16.012Z"
   },
   {
    "duration": 31,
    "start_time": "2022-08-07T09:31:16.022Z"
   },
   {
    "duration": 4,
    "start_time": "2022-08-07T09:31:16.055Z"
   },
   {
    "duration": 29,
    "start_time": "2022-08-07T09:31:16.060Z"
   },
   {
    "duration": 10,
    "start_time": "2022-08-07T09:31:16.098Z"
   },
   {
    "duration": 49,
    "start_time": "2022-08-07T09:31:16.110Z"
   },
   {
    "duration": 13,
    "start_time": "2022-08-07T09:31:16.161Z"
   },
   {
    "duration": 37,
    "start_time": "2022-08-07T09:31:16.175Z"
   },
   {
    "duration": 21,
    "start_time": "2022-08-07T09:31:16.213Z"
   },
   {
    "duration": 22,
    "start_time": "2022-08-07T09:31:16.235Z"
   },
   {
    "duration": 7,
    "start_time": "2022-08-07T09:31:16.259Z"
   },
   {
    "duration": 29,
    "start_time": "2022-08-07T09:31:16.267Z"
   },
   {
    "duration": 17,
    "start_time": "2022-08-07T09:31:16.297Z"
   },
   {
    "duration": 21,
    "start_time": "2022-08-07T09:31:16.315Z"
   },
   {
    "duration": 5,
    "start_time": "2022-08-07T09:31:16.338Z"
   },
   {
    "duration": 18,
    "start_time": "2022-08-07T09:31:16.344Z"
   },
   {
    "duration": 27,
    "start_time": "2022-08-07T09:31:16.363Z"
   },
   {
    "duration": 12,
    "start_time": "2022-08-07T09:31:16.392Z"
   },
   {
    "duration": 19,
    "start_time": "2022-08-07T09:31:16.406Z"
   },
   {
    "duration": 21,
    "start_time": "2022-08-07T09:31:16.426Z"
   },
   {
    "duration": 13,
    "start_time": "2022-08-07T09:35:24.951Z"
   },
   {
    "duration": 777,
    "start_time": "2022-08-07T09:35:35.283Z"
   },
   {
    "duration": 15,
    "start_time": "2022-08-07T09:35:36.062Z"
   },
   {
    "duration": 1919,
    "start_time": "2022-08-07T09:35:36.079Z"
   },
   {
    "duration": 13,
    "start_time": "2022-08-07T09:35:38.005Z"
   },
   {
    "duration": 33,
    "start_time": "2022-08-07T09:35:38.020Z"
   },
   {
    "duration": 5,
    "start_time": "2022-08-07T09:35:38.055Z"
   },
   {
    "duration": 50,
    "start_time": "2022-08-07T09:35:38.061Z"
   },
   {
    "duration": 10,
    "start_time": "2022-08-07T09:35:38.112Z"
   },
   {
    "duration": 49,
    "start_time": "2022-08-07T09:35:38.125Z"
   },
   {
    "duration": 28,
    "start_time": "2022-08-07T09:35:38.176Z"
   },
   {
    "duration": 19,
    "start_time": "2022-08-07T09:35:38.205Z"
   },
   {
    "duration": 11,
    "start_time": "2022-08-07T09:35:38.226Z"
   },
   {
    "duration": 12,
    "start_time": "2022-08-07T09:35:38.238Z"
   },
   {
    "duration": 14,
    "start_time": "2022-08-07T09:35:38.252Z"
   },
   {
    "duration": 46,
    "start_time": "2022-08-07T09:35:38.268Z"
   },
   {
    "duration": 17,
    "start_time": "2022-08-07T09:35:38.315Z"
   },
   {
    "duration": 15,
    "start_time": "2022-08-07T09:35:38.334Z"
   },
   {
    "duration": 6,
    "start_time": "2022-08-07T09:35:38.350Z"
   },
   {
    "duration": 8,
    "start_time": "2022-08-07T09:35:38.357Z"
   },
   {
    "duration": 57,
    "start_time": "2022-08-07T09:35:38.366Z"
   },
   {
    "duration": 8,
    "start_time": "2022-08-07T09:35:38.424Z"
   },
   {
    "duration": 14,
    "start_time": "2022-08-07T09:35:38.434Z"
   },
   {
    "duration": 21,
    "start_time": "2022-08-07T09:35:38.450Z"
   },
   {
    "duration": 7,
    "start_time": "2022-08-07T09:51:14.256Z"
   },
   {
    "duration": 7,
    "start_time": "2022-08-07T09:51:32.215Z"
   },
   {
    "duration": 4,
    "start_time": "2022-08-07T09:52:10.158Z"
   },
   {
    "duration": 4,
    "start_time": "2022-08-07T09:52:39.905Z"
   },
   {
    "duration": 44,
    "start_time": "2022-08-07T09:56:47.291Z"
   },
   {
    "duration": 3,
    "start_time": "2022-08-07T09:57:28.903Z"
   },
   {
    "duration": 7,
    "start_time": "2022-08-07T09:57:50.684Z"
   },
   {
    "duration": 705,
    "start_time": "2022-08-07T09:58:11.133Z"
   },
   {
    "duration": 16,
    "start_time": "2022-08-07T09:58:11.840Z"
   },
   {
    "duration": 1851,
    "start_time": "2022-08-07T09:58:11.858Z"
   },
   {
    "duration": 9,
    "start_time": "2022-08-07T09:58:13.711Z"
   },
   {
    "duration": 28,
    "start_time": "2022-08-07T09:58:13.722Z"
   },
   {
    "duration": 4,
    "start_time": "2022-08-07T09:58:13.751Z"
   },
   {
    "duration": 24,
    "start_time": "2022-08-07T09:58:13.757Z"
   },
   {
    "duration": 22,
    "start_time": "2022-08-07T09:58:13.783Z"
   },
   {
    "duration": 49,
    "start_time": "2022-08-07T09:58:13.806Z"
   },
   {
    "duration": 13,
    "start_time": "2022-08-07T09:58:13.857Z"
   },
   {
    "duration": 35,
    "start_time": "2022-08-07T09:58:13.871Z"
   },
   {
    "duration": 10,
    "start_time": "2022-08-07T09:58:13.907Z"
   },
   {
    "duration": 8,
    "start_time": "2022-08-07T09:58:13.918Z"
   },
   {
    "duration": 12,
    "start_time": "2022-08-07T09:58:13.927Z"
   },
   {
    "duration": 21,
    "start_time": "2022-08-07T09:58:13.941Z"
   },
   {
    "duration": 41,
    "start_time": "2022-08-07T09:58:13.963Z"
   },
   {
    "duration": 17,
    "start_time": "2022-08-07T09:58:14.006Z"
   },
   {
    "duration": 7,
    "start_time": "2022-08-07T09:58:14.024Z"
   },
   {
    "duration": 8,
    "start_time": "2022-08-07T09:58:14.033Z"
   },
   {
    "duration": 20,
    "start_time": "2022-08-07T09:58:14.042Z"
   },
   {
    "duration": 42,
    "start_time": "2022-08-07T09:58:14.064Z"
   },
   {
    "duration": 15,
    "start_time": "2022-08-07T09:58:14.108Z"
   },
   {
    "duration": 22,
    "start_time": "2022-08-07T09:58:14.125Z"
   },
   {
    "duration": 750,
    "start_time": "2022-08-07T10:30:44.519Z"
   },
   {
    "duration": 17,
    "start_time": "2022-08-07T10:30:45.270Z"
   },
   {
    "duration": 1844,
    "start_time": "2022-08-07T10:30:45.289Z"
   },
   {
    "duration": 9,
    "start_time": "2022-08-07T10:30:47.136Z"
   },
   {
    "duration": 28,
    "start_time": "2022-08-07T10:30:47.147Z"
   },
   {
    "duration": 7,
    "start_time": "2022-08-07T10:30:47.176Z"
   },
   {
    "duration": 26,
    "start_time": "2022-08-07T10:30:47.186Z"
   },
   {
    "duration": 9,
    "start_time": "2022-08-07T10:30:47.214Z"
   },
   {
    "duration": 51,
    "start_time": "2022-08-07T10:30:47.225Z"
   },
   {
    "duration": 29,
    "start_time": "2022-08-07T10:30:47.280Z"
   },
   {
    "duration": 17,
    "start_time": "2022-08-07T10:30:47.310Z"
   },
   {
    "duration": 9,
    "start_time": "2022-08-07T10:30:47.329Z"
   },
   {
    "duration": 23,
    "start_time": "2022-08-07T10:30:47.339Z"
   },
   {
    "duration": 10,
    "start_time": "2022-08-07T10:30:47.364Z"
   },
   {
    "duration": 32,
    "start_time": "2022-08-07T10:30:47.375Z"
   },
   {
    "duration": 18,
    "start_time": "2022-08-07T10:30:47.409Z"
   },
   {
    "duration": 17,
    "start_time": "2022-08-07T10:30:47.429Z"
   },
   {
    "duration": 6,
    "start_time": "2022-08-07T10:30:47.448Z"
   },
   {
    "duration": 43,
    "start_time": "2022-08-07T10:30:47.457Z"
   },
   {
    "duration": 21,
    "start_time": "2022-08-07T10:30:47.501Z"
   },
   {
    "duration": 9,
    "start_time": "2022-08-07T10:30:47.524Z"
   },
   {
    "duration": 14,
    "start_time": "2022-08-07T10:30:47.535Z"
   },
   {
    "duration": 53,
    "start_time": "2022-08-07T10:30:47.551Z"
   },
   {
    "duration": 5,
    "start_time": "2022-08-07T10:31:44.483Z"
   },
   {
    "duration": 9,
    "start_time": "2022-08-07T10:31:47.819Z"
   },
   {
    "duration": 7,
    "start_time": "2022-08-07T10:33:21.596Z"
   },
   {
    "duration": 5,
    "start_time": "2022-08-07T10:33:45.737Z"
   },
   {
    "duration": 777,
    "start_time": "2022-08-07T10:37:44.558Z"
   },
   {
    "duration": 16,
    "start_time": "2022-08-07T10:37:45.337Z"
   },
   {
    "duration": 1859,
    "start_time": "2022-08-07T10:37:45.355Z"
   },
   {
    "duration": 8,
    "start_time": "2022-08-07T10:37:47.216Z"
   },
   {
    "duration": 34,
    "start_time": "2022-08-07T10:37:47.226Z"
   },
   {
    "duration": 5,
    "start_time": "2022-08-07T10:37:47.261Z"
   },
   {
    "duration": 31,
    "start_time": "2022-08-07T10:37:47.268Z"
   },
   {
    "duration": 9,
    "start_time": "2022-08-07T10:37:47.301Z"
   },
   {
    "duration": 47,
    "start_time": "2022-08-07T10:37:47.311Z"
   },
   {
    "duration": 13,
    "start_time": "2022-08-07T10:37:47.360Z"
   },
   {
    "duration": 39,
    "start_time": "2022-08-07T10:37:47.375Z"
   },
   {
    "duration": 9,
    "start_time": "2022-08-07T10:37:47.416Z"
   },
   {
    "duration": 12,
    "start_time": "2022-08-07T10:37:47.427Z"
   },
   {
    "duration": 7,
    "start_time": "2022-08-07T10:37:47.441Z"
   },
   {
    "duration": 18,
    "start_time": "2022-08-07T10:37:47.450Z"
   },
   {
    "duration": 42,
    "start_time": "2022-08-07T10:37:47.470Z"
   },
   {
    "duration": 16,
    "start_time": "2022-08-07T10:37:47.514Z"
   },
   {
    "duration": 6,
    "start_time": "2022-08-07T10:37:47.532Z"
   },
   {
    "duration": 12,
    "start_time": "2022-08-07T10:37:47.540Z"
   },
   {
    "duration": 45,
    "start_time": "2022-08-07T10:37:47.553Z"
   },
   {
    "duration": 106,
    "start_time": "2022-08-07T10:37:47.600Z"
   },
   {
    "duration": 0,
    "start_time": "2022-08-07T10:37:47.707Z"
   },
   {
    "duration": 0,
    "start_time": "2022-08-07T10:37:47.708Z"
   },
   {
    "duration": 0,
    "start_time": "2022-08-07T10:37:47.709Z"
   },
   {
    "duration": 23,
    "start_time": "2022-08-07T10:38:42.814Z"
   },
   {
    "duration": 696,
    "start_time": "2022-08-07T10:48:15.950Z"
   },
   {
    "duration": 25,
    "start_time": "2022-08-07T10:48:16.648Z"
   },
   {
    "duration": 1831,
    "start_time": "2022-08-07T10:48:16.679Z"
   },
   {
    "duration": 8,
    "start_time": "2022-08-07T10:48:18.512Z"
   },
   {
    "duration": 33,
    "start_time": "2022-08-07T10:48:18.522Z"
   },
   {
    "duration": 5,
    "start_time": "2022-08-07T10:48:18.556Z"
   },
   {
    "duration": 29,
    "start_time": "2022-08-07T10:48:18.562Z"
   },
   {
    "duration": 12,
    "start_time": "2022-08-07T10:48:18.592Z"
   },
   {
    "duration": 49,
    "start_time": "2022-08-07T10:48:18.606Z"
   },
   {
    "duration": 12,
    "start_time": "2022-08-07T10:48:18.658Z"
   },
   {
    "duration": 36,
    "start_time": "2022-08-07T10:48:18.672Z"
   },
   {
    "duration": 9,
    "start_time": "2022-08-07T10:48:18.710Z"
   },
   {
    "duration": 11,
    "start_time": "2022-08-07T10:48:18.721Z"
   },
   {
    "duration": 7,
    "start_time": "2022-08-07T10:48:18.734Z"
   },
   {
    "duration": 16,
    "start_time": "2022-08-07T10:48:18.743Z"
   },
   {
    "duration": 43,
    "start_time": "2022-08-07T10:48:18.760Z"
   },
   {
    "duration": 15,
    "start_time": "2022-08-07T10:48:18.804Z"
   },
   {
    "duration": 5,
    "start_time": "2022-08-07T10:48:18.821Z"
   },
   {
    "duration": 9,
    "start_time": "2022-08-07T10:48:18.827Z"
   },
   {
    "duration": 19,
    "start_time": "2022-08-07T10:48:18.837Z"
   },
   {
    "duration": 7,
    "start_time": "2022-08-07T10:48:18.858Z"
   },
   {
    "duration": 45,
    "start_time": "2022-08-07T10:48:18.867Z"
   },
   {
    "duration": 21,
    "start_time": "2022-08-07T10:48:18.913Z"
   },
   {
    "duration": 6,
    "start_time": "2022-08-07T11:18:48.320Z"
   },
   {
    "duration": 9,
    "start_time": "2022-08-07T11:18:51.381Z"
   },
   {
    "duration": 22,
    "start_time": "2022-08-07T11:19:22.756Z"
   },
   {
    "duration": 769,
    "start_time": "2022-08-07T11:20:57.883Z"
   },
   {
    "duration": 16,
    "start_time": "2022-08-07T11:20:58.653Z"
   },
   {
    "duration": 1938,
    "start_time": "2022-08-07T11:20:58.671Z"
   },
   {
    "duration": 9,
    "start_time": "2022-08-07T11:21:00.612Z"
   },
   {
    "duration": 30,
    "start_time": "2022-08-07T11:21:00.623Z"
   },
   {
    "duration": 6,
    "start_time": "2022-08-07T11:21:00.655Z"
   },
   {
    "duration": 44,
    "start_time": "2022-08-07T11:21:00.662Z"
   },
   {
    "duration": 13,
    "start_time": "2022-08-07T11:21:00.708Z"
   },
   {
    "duration": 57,
    "start_time": "2022-08-07T11:21:00.722Z"
   },
   {
    "duration": 16,
    "start_time": "2022-08-07T11:21:00.782Z"
   },
   {
    "duration": 28,
    "start_time": "2022-08-07T11:21:00.802Z"
   },
   {
    "duration": 10,
    "start_time": "2022-08-07T11:21:00.832Z"
   },
   {
    "duration": 24,
    "start_time": "2022-08-07T11:21:00.844Z"
   },
   {
    "duration": 8,
    "start_time": "2022-08-07T11:21:00.869Z"
   },
   {
    "duration": 33,
    "start_time": "2022-08-07T11:21:00.879Z"
   },
   {
    "duration": 30,
    "start_time": "2022-08-07T11:21:00.913Z"
   },
   {
    "duration": 22,
    "start_time": "2022-08-07T11:21:00.945Z"
   },
   {
    "duration": 13,
    "start_time": "2022-08-07T11:21:00.969Z"
   },
   {
    "duration": 35,
    "start_time": "2022-08-07T11:21:00.984Z"
   },
   {
    "duration": 37,
    "start_time": "2022-08-07T11:21:01.020Z"
   },
   {
    "duration": 24,
    "start_time": "2022-08-07T11:21:01.059Z"
   },
   {
    "duration": 24,
    "start_time": "2022-08-07T11:21:01.084Z"
   },
   {
    "duration": 18,
    "start_time": "2022-08-07T11:21:01.110Z"
   },
   {
    "duration": 23,
    "start_time": "2022-08-07T11:21:01.131Z"
   },
   {
    "duration": 64,
    "start_time": "2022-08-07T15:25:29.066Z"
   },
   {
    "duration": 1158,
    "start_time": "2022-08-07T15:25:36.992Z"
   },
   {
    "duration": 17,
    "start_time": "2022-08-07T15:25:38.152Z"
   },
   {
    "duration": 2115,
    "start_time": "2022-08-07T15:25:38.170Z"
   },
   {
    "duration": 10,
    "start_time": "2022-08-07T15:25:40.288Z"
   },
   {
    "duration": 36,
    "start_time": "2022-08-07T15:25:40.300Z"
   },
   {
    "duration": 7,
    "start_time": "2022-08-07T15:25:40.340Z"
   },
   {
    "duration": 49,
    "start_time": "2022-08-07T15:25:40.352Z"
   },
   {
    "duration": 13,
    "start_time": "2022-08-07T15:25:40.403Z"
   },
   {
    "duration": 65,
    "start_time": "2022-08-07T15:25:40.418Z"
   },
   {
    "duration": 15,
    "start_time": "2022-08-07T15:25:40.486Z"
   },
   {
    "duration": 21,
    "start_time": "2022-08-07T15:25:40.503Z"
   },
   {
    "duration": 30,
    "start_time": "2022-08-07T15:25:40.525Z"
   },
   {
    "duration": 8,
    "start_time": "2022-08-07T15:25:40.557Z"
   },
   {
    "duration": 8,
    "start_time": "2022-08-07T15:25:40.566Z"
   },
   {
    "duration": 19,
    "start_time": "2022-08-07T15:25:40.575Z"
   },
   {
    "duration": 54,
    "start_time": "2022-08-07T15:25:40.595Z"
   },
   {
    "duration": 23,
    "start_time": "2022-08-07T15:25:40.652Z"
   },
   {
    "duration": 7,
    "start_time": "2022-08-07T15:25:40.677Z"
   },
   {
    "duration": 9,
    "start_time": "2022-08-07T15:25:40.686Z"
   },
   {
    "duration": 53,
    "start_time": "2022-08-07T15:25:40.697Z"
   },
   {
    "duration": 3,
    "start_time": "2022-08-07T15:25:40.753Z"
   },
   {
    "duration": 26,
    "start_time": "2022-08-07T15:25:40.758Z"
   },
   {
    "duration": 12,
    "start_time": "2022-08-07T15:25:40.786Z"
   },
   {
    "duration": 16,
    "start_time": "2022-08-07T15:25:40.800Z"
   },
   {
    "duration": 51,
    "start_time": "2022-08-07T15:25:40.818Z"
   },
   {
    "duration": 51,
    "start_time": "2022-08-07T15:26:43.767Z"
   },
   {
    "duration": 84,
    "start_time": "2022-08-07T15:26:47.682Z"
   },
   {
    "duration": 849,
    "start_time": "2022-08-07T15:30:04.682Z"
   },
   {
    "duration": 11,
    "start_time": "2022-08-07T15:30:09.092Z"
   },
   {
    "duration": 767,
    "start_time": "2022-08-07T15:30:19.194Z"
   },
   {
    "duration": 17,
    "start_time": "2022-08-07T15:30:19.963Z"
   },
   {
    "duration": 2071,
    "start_time": "2022-08-07T15:30:19.982Z"
   },
   {
    "duration": 10,
    "start_time": "2022-08-07T15:30:22.055Z"
   },
   {
    "duration": 31,
    "start_time": "2022-08-07T15:30:22.066Z"
   },
   {
    "duration": 6,
    "start_time": "2022-08-07T15:30:22.098Z"
   },
   {
    "duration": 36,
    "start_time": "2022-08-07T15:30:22.105Z"
   },
   {
    "duration": 17,
    "start_time": "2022-08-07T15:30:22.144Z"
   },
   {
    "duration": 53,
    "start_time": "2022-08-07T15:30:22.162Z"
   },
   {
    "duration": 12,
    "start_time": "2022-08-07T15:30:22.218Z"
   },
   {
    "duration": 24,
    "start_time": "2022-08-07T15:30:22.232Z"
   },
   {
    "duration": 9,
    "start_time": "2022-08-07T15:30:22.258Z"
   },
   {
    "duration": 14,
    "start_time": "2022-08-07T15:30:22.269Z"
   },
   {
    "duration": 8,
    "start_time": "2022-08-07T15:30:22.284Z"
   },
   {
    "duration": 16,
    "start_time": "2022-08-07T15:30:22.293Z"
   },
   {
    "duration": 45,
    "start_time": "2022-08-07T15:30:22.311Z"
   },
   {
    "duration": 16,
    "start_time": "2022-08-07T15:30:22.358Z"
   },
   {
    "duration": 891,
    "start_time": "2022-08-07T15:30:22.376Z"
   },
   {
    "duration": 0,
    "start_time": "2022-08-07T15:30:23.269Z"
   },
   {
    "duration": 0,
    "start_time": "2022-08-07T15:30:23.270Z"
   },
   {
    "duration": 0,
    "start_time": "2022-08-07T15:30:23.271Z"
   },
   {
    "duration": 0,
    "start_time": "2022-08-07T15:30:23.272Z"
   },
   {
    "duration": 0,
    "start_time": "2022-08-07T15:30:23.273Z"
   },
   {
    "duration": 0,
    "start_time": "2022-08-07T15:30:23.273Z"
   },
   {
    "duration": 0,
    "start_time": "2022-08-07T15:30:23.274Z"
   },
   {
    "duration": 40,
    "start_time": "2022-08-07T15:31:21.130Z"
   },
   {
    "duration": 10,
    "start_time": "2022-08-07T15:31:34.081Z"
   },
   {
    "duration": 856,
    "start_time": "2022-08-07T15:32:03.067Z"
   },
   {
    "duration": 39,
    "start_time": "2022-08-07T15:32:03.926Z"
   },
   {
    "duration": 2307,
    "start_time": "2022-08-07T15:32:03.970Z"
   },
   {
    "duration": 15,
    "start_time": "2022-08-07T15:32:06.281Z"
   },
   {
    "duration": 42,
    "start_time": "2022-08-07T15:32:06.298Z"
   },
   {
    "duration": 6,
    "start_time": "2022-08-07T15:32:06.342Z"
   },
   {
    "duration": 64,
    "start_time": "2022-08-07T15:32:06.350Z"
   },
   {
    "duration": 11,
    "start_time": "2022-08-07T15:32:06.417Z"
   },
   {
    "duration": 96,
    "start_time": "2022-08-07T15:32:06.431Z"
   },
   {
    "duration": 33,
    "start_time": "2022-08-07T15:32:06.531Z"
   },
   {
    "duration": 28,
    "start_time": "2022-08-07T15:32:06.566Z"
   },
   {
    "duration": 15,
    "start_time": "2022-08-07T15:32:06.596Z"
   },
   {
    "duration": 23,
    "start_time": "2022-08-07T15:32:06.613Z"
   },
   {
    "duration": 34,
    "start_time": "2022-08-07T15:32:06.638Z"
   },
   {
    "duration": 24,
    "start_time": "2022-08-07T15:32:06.674Z"
   },
   {
    "duration": 27,
    "start_time": "2022-08-07T15:32:06.700Z"
   },
   {
    "duration": 32,
    "start_time": "2022-08-07T15:32:06.728Z"
   },
   {
    "duration": 46,
    "start_time": "2022-08-07T15:32:06.762Z"
   },
   {
    "duration": 9,
    "start_time": "2022-08-07T15:32:06.810Z"
   },
   {
    "duration": 34,
    "start_time": "2022-08-07T15:32:06.821Z"
   },
   {
    "duration": 44,
    "start_time": "2022-08-07T15:32:06.863Z"
   },
   {
    "duration": 28,
    "start_time": "2022-08-07T15:32:06.909Z"
   },
   {
    "duration": 53,
    "start_time": "2022-08-07T15:32:06.939Z"
   },
   {
    "duration": 48,
    "start_time": "2022-08-07T15:32:06.993Z"
   },
   {
    "duration": 46,
    "start_time": "2022-08-07T15:32:07.043Z"
   },
   {
    "duration": 6,
    "start_time": "2022-08-07T15:40:37.334Z"
   },
   {
    "duration": 54,
    "start_time": "2022-08-07T15:41:06.913Z"
   },
   {
    "duration": 3,
    "start_time": "2022-08-07T15:41:10.365Z"
   },
   {
    "duration": 21,
    "start_time": "2022-08-07T15:45:43.925Z"
   },
   {
    "duration": 48,
    "start_time": "2022-08-07T15:46:04.370Z"
   },
   {
    "duration": 3,
    "start_time": "2022-08-07T15:46:08.410Z"
   },
   {
    "duration": 12,
    "start_time": "2022-08-07T15:46:11.332Z"
   },
   {
    "duration": 21,
    "start_time": "2022-08-07T15:59:11.102Z"
   },
   {
    "duration": 34,
    "start_time": "2022-08-07T15:59:54.827Z"
   },
   {
    "duration": 860,
    "start_time": "2022-08-07T16:01:46.997Z"
   },
   {
    "duration": 17,
    "start_time": "2022-08-07T16:01:47.859Z"
   },
   {
    "duration": 2281,
    "start_time": "2022-08-07T16:01:47.877Z"
   },
   {
    "duration": 10,
    "start_time": "2022-08-07T16:01:50.160Z"
   },
   {
    "duration": 39,
    "start_time": "2022-08-07T16:01:50.172Z"
   },
   {
    "duration": 7,
    "start_time": "2022-08-07T16:01:50.214Z"
   },
   {
    "duration": 54,
    "start_time": "2022-08-07T16:01:50.223Z"
   },
   {
    "duration": 10,
    "start_time": "2022-08-07T16:01:50.279Z"
   },
   {
    "duration": 79,
    "start_time": "2022-08-07T16:01:50.291Z"
   },
   {
    "duration": 17,
    "start_time": "2022-08-07T16:01:50.373Z"
   },
   {
    "duration": 34,
    "start_time": "2022-08-07T16:01:50.391Z"
   },
   {
    "duration": 13,
    "start_time": "2022-08-07T16:01:50.427Z"
   },
   {
    "duration": 30,
    "start_time": "2022-08-07T16:01:50.442Z"
   },
   {
    "duration": 15,
    "start_time": "2022-08-07T16:01:50.474Z"
   },
   {
    "duration": 29,
    "start_time": "2022-08-07T16:01:50.492Z"
   },
   {
    "duration": 32,
    "start_time": "2022-08-07T16:01:50.523Z"
   },
   {
    "duration": 36,
    "start_time": "2022-08-07T16:01:50.557Z"
   },
   {
    "duration": 7,
    "start_time": "2022-08-07T16:01:50.595Z"
   },
   {
    "duration": 14,
    "start_time": "2022-08-07T16:01:50.604Z"
   },
   {
    "duration": 37,
    "start_time": "2022-08-07T16:01:50.620Z"
   },
   {
    "duration": 14,
    "start_time": "2022-08-07T16:01:50.658Z"
   },
   {
    "duration": 13,
    "start_time": "2022-08-07T16:01:50.675Z"
   },
   {
    "duration": 26,
    "start_time": "2022-08-07T16:01:50.691Z"
   },
   {
    "duration": 42,
    "start_time": "2022-08-07T16:01:50.719Z"
   },
   {
    "duration": 790,
    "start_time": "2022-08-07T16:03:26.413Z"
   },
   {
    "duration": 16,
    "start_time": "2022-08-07T16:03:27.205Z"
   },
   {
    "duration": 2099,
    "start_time": "2022-08-07T16:03:27.222Z"
   },
   {
    "duration": 9,
    "start_time": "2022-08-07T16:03:29.324Z"
   },
   {
    "duration": 47,
    "start_time": "2022-08-07T16:03:29.334Z"
   },
   {
    "duration": 5,
    "start_time": "2022-08-07T16:03:29.383Z"
   },
   {
    "duration": 36,
    "start_time": "2022-08-07T16:03:29.390Z"
   },
   {
    "duration": 16,
    "start_time": "2022-08-07T16:03:29.428Z"
   },
   {
    "duration": 47,
    "start_time": "2022-08-07T16:03:29.447Z"
   },
   {
    "duration": 13,
    "start_time": "2022-08-07T16:03:29.497Z"
   },
   {
    "duration": 29,
    "start_time": "2022-08-07T16:03:29.512Z"
   },
   {
    "duration": 16,
    "start_time": "2022-08-07T16:03:29.543Z"
   },
   {
    "duration": 14,
    "start_time": "2022-08-07T16:03:29.561Z"
   },
   {
    "duration": 9,
    "start_time": "2022-08-07T16:03:29.576Z"
   },
   {
    "duration": 19,
    "start_time": "2022-08-07T16:03:29.586Z"
   },
   {
    "duration": 6,
    "start_time": "2022-08-07T16:03:29.606Z"
   },
   {
    "duration": 37,
    "start_time": "2022-08-07T16:03:29.613Z"
   },
   {
    "duration": 24,
    "start_time": "2022-08-07T16:03:29.653Z"
   },
   {
    "duration": 14,
    "start_time": "2022-08-07T16:03:29.678Z"
   },
   {
    "duration": 14,
    "start_time": "2022-08-07T16:03:29.693Z"
   },
   {
    "duration": 32,
    "start_time": "2022-08-07T16:03:29.709Z"
   },
   {
    "duration": 29,
    "start_time": "2022-08-07T16:03:29.742Z"
   },
   {
    "duration": 28,
    "start_time": "2022-08-07T16:13:30.569Z"
   },
   {
    "duration": 25,
    "start_time": "2022-08-07T16:14:20.525Z"
   },
   {
    "duration": 24,
    "start_time": "2022-08-07T16:14:26.454Z"
   },
   {
    "duration": 4,
    "start_time": "2022-08-07T16:26:27.999Z"
   },
   {
    "duration": 9,
    "start_time": "2022-08-07T16:26:32.021Z"
   },
   {
    "duration": 73,
    "start_time": "2022-08-07T16:28:28.444Z"
   },
   {
    "duration": 8,
    "start_time": "2022-08-07T16:28:44.641Z"
   },
   {
    "duration": 9,
    "start_time": "2022-08-07T16:28:47.245Z"
   },
   {
    "duration": 7,
    "start_time": "2022-08-07T16:30:32.588Z"
   },
   {
    "duration": 710,
    "start_time": "2022-08-07T16:30:41.888Z"
   },
   {
    "duration": 18,
    "start_time": "2022-08-07T16:30:42.600Z"
   },
   {
    "duration": 2053,
    "start_time": "2022-08-07T16:30:42.620Z"
   },
   {
    "duration": 9,
    "start_time": "2022-08-07T16:30:44.675Z"
   },
   {
    "duration": 28,
    "start_time": "2022-08-07T16:30:44.685Z"
   },
   {
    "duration": 6,
    "start_time": "2022-08-07T16:30:44.714Z"
   },
   {
    "duration": 33,
    "start_time": "2022-08-07T16:30:44.722Z"
   },
   {
    "duration": 8,
    "start_time": "2022-08-07T16:30:44.757Z"
   },
   {
    "duration": 42,
    "start_time": "2022-08-07T16:30:44.767Z"
   },
   {
    "duration": 13,
    "start_time": "2022-08-07T16:30:44.811Z"
   },
   {
    "duration": 21,
    "start_time": "2022-08-07T16:30:44.845Z"
   },
   {
    "duration": 9,
    "start_time": "2022-08-07T16:30:44.868Z"
   },
   {
    "duration": 12,
    "start_time": "2022-08-07T16:30:44.879Z"
   },
   {
    "duration": 7,
    "start_time": "2022-08-07T16:30:44.893Z"
   },
   {
    "duration": 20,
    "start_time": "2022-08-07T16:30:44.901Z"
   },
   {
    "duration": 18,
    "start_time": "2022-08-07T16:30:44.922Z"
   },
   {
    "duration": 9,
    "start_time": "2022-08-07T16:30:44.942Z"
   },
   {
    "duration": 23,
    "start_time": "2022-08-07T16:30:44.953Z"
   },
   {
    "duration": 23,
    "start_time": "2022-08-07T16:30:44.978Z"
   },
   {
    "duration": 16,
    "start_time": "2022-08-07T16:30:45.003Z"
   },
   {
    "duration": 38,
    "start_time": "2022-08-07T16:30:45.021Z"
   },
   {
    "duration": 14,
    "start_time": "2022-08-07T16:30:45.060Z"
   },
   {
    "duration": 22,
    "start_time": "2022-08-07T16:30:45.076Z"
   },
   {
    "duration": 77,
    "start_time": "2022-08-07T16:33:44.424Z"
   },
   {
    "duration": 11,
    "start_time": "2022-08-07T16:35:54.661Z"
   },
   {
    "duration": 753,
    "start_time": "2022-08-07T16:36:00.515Z"
   },
   {
    "duration": 17,
    "start_time": "2022-08-07T16:36:01.271Z"
   },
   {
    "duration": 1923,
    "start_time": "2022-08-07T16:36:01.290Z"
   },
   {
    "duration": 9,
    "start_time": "2022-08-07T16:36:03.215Z"
   },
   {
    "duration": 34,
    "start_time": "2022-08-07T16:36:03.225Z"
   },
   {
    "duration": 7,
    "start_time": "2022-08-07T16:36:03.261Z"
   },
   {
    "duration": 32,
    "start_time": "2022-08-07T16:36:03.270Z"
   },
   {
    "duration": 9,
    "start_time": "2022-08-07T16:36:03.303Z"
   },
   {
    "duration": 56,
    "start_time": "2022-08-07T16:36:03.314Z"
   },
   {
    "duration": 13,
    "start_time": "2022-08-07T16:36:03.373Z"
   },
   {
    "duration": 18,
    "start_time": "2022-08-07T16:36:03.387Z"
   },
   {
    "duration": 9,
    "start_time": "2022-08-07T16:36:03.407Z"
   },
   {
    "duration": 29,
    "start_time": "2022-08-07T16:36:03.418Z"
   },
   {
    "duration": 7,
    "start_time": "2022-08-07T16:36:03.449Z"
   },
   {
    "duration": 19,
    "start_time": "2022-08-07T16:36:03.457Z"
   },
   {
    "duration": 6,
    "start_time": "2022-08-07T16:36:03.477Z"
   },
   {
    "duration": 14,
    "start_time": "2022-08-07T16:36:03.484Z"
   },
   {
    "duration": 41,
    "start_time": "2022-08-07T16:36:03.499Z"
   },
   {
    "duration": 23,
    "start_time": "2022-08-07T16:36:03.542Z"
   },
   {
    "duration": 87,
    "start_time": "2022-08-07T16:36:03.566Z"
   },
   {
    "duration": 0,
    "start_time": "2022-08-07T16:36:03.654Z"
   },
   {
    "duration": 0,
    "start_time": "2022-08-07T16:36:03.655Z"
   },
   {
    "duration": 0,
    "start_time": "2022-08-07T16:36:03.657Z"
   },
   {
    "duration": 0,
    "start_time": "2022-08-07T16:36:03.658Z"
   },
   {
    "duration": 13,
    "start_time": "2022-08-07T16:37:16.135Z"
   },
   {
    "duration": 11,
    "start_time": "2022-08-07T16:37:30.896Z"
   },
   {
    "duration": 9,
    "start_time": "2022-08-07T16:37:42.243Z"
   },
   {
    "duration": 14,
    "start_time": "2022-08-07T16:37:46.631Z"
   },
   {
    "duration": 405,
    "start_time": "2022-08-07T16:39:31.417Z"
   },
   {
    "duration": 58,
    "start_time": "2022-08-07T16:40:01.121Z"
   },
   {
    "duration": 5,
    "start_time": "2022-08-07T16:40:05.595Z"
   },
   {
    "duration": 7,
    "start_time": "2022-08-07T16:40:19.621Z"
   },
   {
    "duration": 551,
    "start_time": "2022-08-07T16:40:27.386Z"
   },
   {
    "duration": 732,
    "start_time": "2022-08-07T16:40:53.214Z"
   },
   {
    "duration": 15,
    "start_time": "2022-08-07T16:40:53.948Z"
   },
   {
    "duration": 1896,
    "start_time": "2022-08-07T16:40:53.965Z"
   },
   {
    "duration": 11,
    "start_time": "2022-08-07T16:40:55.863Z"
   },
   {
    "duration": 31,
    "start_time": "2022-08-07T16:40:55.876Z"
   },
   {
    "duration": 19,
    "start_time": "2022-08-07T16:40:55.909Z"
   },
   {
    "duration": 38,
    "start_time": "2022-08-07T16:40:55.930Z"
   },
   {
    "duration": 8,
    "start_time": "2022-08-07T16:40:55.970Z"
   },
   {
    "duration": 65,
    "start_time": "2022-08-07T16:40:55.979Z"
   },
   {
    "duration": 13,
    "start_time": "2022-08-07T16:40:56.047Z"
   },
   {
    "duration": 42,
    "start_time": "2022-08-07T16:40:56.061Z"
   },
   {
    "duration": 10,
    "start_time": "2022-08-07T16:40:56.105Z"
   },
   {
    "duration": 9,
    "start_time": "2022-08-07T16:40:56.118Z"
   },
   {
    "duration": 20,
    "start_time": "2022-08-07T16:40:56.128Z"
   },
   {
    "duration": 29,
    "start_time": "2022-08-07T16:40:56.149Z"
   },
   {
    "duration": 20,
    "start_time": "2022-08-07T16:40:56.180Z"
   },
   {
    "duration": 8,
    "start_time": "2022-08-07T16:40:56.202Z"
   },
   {
    "duration": 23,
    "start_time": "2022-08-07T16:40:56.212Z"
   },
   {
    "duration": 29,
    "start_time": "2022-08-07T16:40:56.237Z"
   },
   {
    "duration": 6,
    "start_time": "2022-08-07T16:40:56.268Z"
   },
   {
    "duration": 15,
    "start_time": "2022-08-07T16:40:56.276Z"
   },
   {
    "duration": 9,
    "start_time": "2022-08-07T16:40:56.293Z"
   },
   {
    "duration": 85,
    "start_time": "2022-08-07T16:40:56.304Z"
   },
   {
    "duration": 0,
    "start_time": "2022-08-07T16:40:56.390Z"
   },
   {
    "duration": 648,
    "start_time": "2022-08-07T16:41:07.344Z"
   },
   {
    "duration": 577,
    "start_time": "2022-08-07T16:46:01.489Z"
   },
   {
    "duration": 552,
    "start_time": "2022-08-07T16:46:10.622Z"
   },
   {
    "duration": 865,
    "start_time": "2022-08-07T16:47:06.432Z"
   },
   {
    "duration": 12,
    "start_time": "2022-08-07T16:47:19.923Z"
   },
   {
    "duration": 1101,
    "start_time": "2022-08-07T19:35:03.807Z"
   },
   {
    "duration": 16,
    "start_time": "2022-08-07T19:35:04.910Z"
   },
   {
    "duration": 2017,
    "start_time": "2022-08-07T19:35:04.927Z"
   },
   {
    "duration": 9,
    "start_time": "2022-08-07T19:35:06.946Z"
   },
   {
    "duration": 33,
    "start_time": "2022-08-07T19:35:06.956Z"
   },
   {
    "duration": 4,
    "start_time": "2022-08-07T19:35:06.991Z"
   },
   {
    "duration": 36,
    "start_time": "2022-08-07T19:35:06.997Z"
   },
   {
    "duration": 11,
    "start_time": "2022-08-07T19:35:07.035Z"
   },
   {
    "duration": 44,
    "start_time": "2022-08-07T19:35:07.047Z"
   },
   {
    "duration": 12,
    "start_time": "2022-08-07T19:35:07.093Z"
   },
   {
    "duration": 31,
    "start_time": "2022-08-07T19:35:07.107Z"
   },
   {
    "duration": 9,
    "start_time": "2022-08-07T19:35:07.140Z"
   },
   {
    "duration": 12,
    "start_time": "2022-08-07T19:35:07.150Z"
   },
   {
    "duration": 20,
    "start_time": "2022-08-07T19:35:07.163Z"
   },
   {
    "duration": 33,
    "start_time": "2022-08-07T19:35:07.185Z"
   },
   {
    "duration": 5,
    "start_time": "2022-08-07T19:35:07.219Z"
   },
   {
    "duration": 16,
    "start_time": "2022-08-07T19:35:07.226Z"
   },
   {
    "duration": 22,
    "start_time": "2022-08-07T19:35:07.243Z"
   },
   {
    "duration": 24,
    "start_time": "2022-08-07T19:35:07.266Z"
   },
   {
    "duration": 6,
    "start_time": "2022-08-07T19:35:07.291Z"
   },
   {
    "duration": 19,
    "start_time": "2022-08-07T19:35:07.299Z"
   },
   {
    "duration": 27,
    "start_time": "2022-08-07T19:35:07.320Z"
   },
   {
    "duration": 23,
    "start_time": "2022-08-07T19:35:07.349Z"
   },
   {
    "duration": 716,
    "start_time": "2022-08-07T23:35:16.247Z"
   },
   {
    "duration": 17,
    "start_time": "2022-08-07T23:35:16.965Z"
   },
   {
    "duration": 1858,
    "start_time": "2022-08-07T23:35:16.983Z"
   },
   {
    "duration": 15,
    "start_time": "2022-08-07T23:35:18.843Z"
   },
   {
    "duration": 40,
    "start_time": "2022-08-07T23:35:18.868Z"
   },
   {
    "duration": 6,
    "start_time": "2022-08-07T23:35:18.911Z"
   },
   {
    "duration": 60,
    "start_time": "2022-08-07T23:35:18.919Z"
   },
   {
    "duration": 11,
    "start_time": "2022-08-07T23:35:18.981Z"
   },
   {
    "duration": 75,
    "start_time": "2022-08-07T23:35:18.994Z"
   },
   {
    "duration": 15,
    "start_time": "2022-08-07T23:35:19.073Z"
   },
   {
    "duration": 28,
    "start_time": "2022-08-07T23:35:19.091Z"
   },
   {
    "duration": 26,
    "start_time": "2022-08-07T23:35:19.122Z"
   },
   {
    "duration": 11,
    "start_time": "2022-08-07T23:35:19.150Z"
   },
   {
    "duration": 7,
    "start_time": "2022-08-07T23:35:19.162Z"
   },
   {
    "duration": 16,
    "start_time": "2022-08-07T23:35:19.171Z"
   },
   {
    "duration": 5,
    "start_time": "2022-08-07T23:35:19.189Z"
   },
   {
    "duration": 7,
    "start_time": "2022-08-07T23:35:19.196Z"
   },
   {
    "duration": 50,
    "start_time": "2022-08-07T23:35:19.204Z"
   },
   {
    "duration": 21,
    "start_time": "2022-08-07T23:35:19.256Z"
   },
   {
    "duration": 7,
    "start_time": "2022-08-07T23:35:19.278Z"
   },
   {
    "duration": 10,
    "start_time": "2022-08-07T23:35:19.287Z"
   },
   {
    "duration": 42,
    "start_time": "2022-08-07T23:35:19.298Z"
   },
   {
    "duration": 22,
    "start_time": "2022-08-07T23:35:19.341Z"
   },
   {
    "duration": 9,
    "start_time": "2022-08-07T23:36:01.498Z"
   },
   {
    "duration": 4,
    "start_time": "2022-08-07T23:42:31.103Z"
   },
   {
    "duration": 23,
    "start_time": "2022-08-07T23:42:55.185Z"
   },
   {
    "duration": 3,
    "start_time": "2022-08-07T23:44:07.061Z"
   },
   {
    "duration": 22,
    "start_time": "2022-08-07T23:44:08.785Z"
   },
   {
    "duration": 4,
    "start_time": "2022-08-07T23:57:33.180Z"
   },
   {
    "duration": 23,
    "start_time": "2022-08-07T23:57:44.682Z"
   },
   {
    "duration": 1185,
    "start_time": "2022-08-08T00:01:29.655Z"
   },
   {
    "duration": 976,
    "start_time": "2022-08-08T00:01:54.401Z"
   },
   {
    "duration": 24,
    "start_time": "2022-08-08T00:02:00.048Z"
   },
   {
    "duration": 52,
    "start_time": "2022-08-08T00:02:14.811Z"
   },
   {
    "duration": 18,
    "start_time": "2022-08-08T00:06:18.971Z"
   },
   {
    "duration": 49,
    "start_time": "2022-08-08T00:09:15.741Z"
   },
   {
    "duration": 921,
    "start_time": "2022-08-08T00:09:33.584Z"
   },
   {
    "duration": 927,
    "start_time": "2022-08-08T00:09:55.911Z"
   },
   {
    "duration": 46,
    "start_time": "2022-08-08T00:10:00.739Z"
   },
   {
    "duration": 7,
    "start_time": "2022-08-08T00:16:22.248Z"
   },
   {
    "duration": 32,
    "start_time": "2022-08-08T00:16:36.227Z"
   },
   {
    "duration": 686,
    "start_time": "2022-08-08T00:16:50.276Z"
   },
   {
    "duration": 15,
    "start_time": "2022-08-08T00:16:50.964Z"
   },
   {
    "duration": 1849,
    "start_time": "2022-08-08T00:16:50.980Z"
   },
   {
    "duration": 8,
    "start_time": "2022-08-08T00:16:52.831Z"
   },
   {
    "duration": 27,
    "start_time": "2022-08-08T00:16:52.841Z"
   },
   {
    "duration": 5,
    "start_time": "2022-08-08T00:16:52.869Z"
   },
   {
    "duration": 38,
    "start_time": "2022-08-08T00:16:52.876Z"
   },
   {
    "duration": 8,
    "start_time": "2022-08-08T00:16:52.916Z"
   },
   {
    "duration": 84,
    "start_time": "2022-08-08T00:16:52.925Z"
   },
   {
    "duration": 0,
    "start_time": "2022-08-08T00:16:53.011Z"
   },
   {
    "duration": 0,
    "start_time": "2022-08-08T00:16:53.012Z"
   },
   {
    "duration": 0,
    "start_time": "2022-08-08T00:16:53.013Z"
   },
   {
    "duration": 0,
    "start_time": "2022-08-08T00:16:53.014Z"
   },
   {
    "duration": 0,
    "start_time": "2022-08-08T00:16:53.015Z"
   },
   {
    "duration": 0,
    "start_time": "2022-08-08T00:16:53.016Z"
   },
   {
    "duration": 0,
    "start_time": "2022-08-08T00:16:53.017Z"
   },
   {
    "duration": 0,
    "start_time": "2022-08-08T00:16:53.018Z"
   },
   {
    "duration": 0,
    "start_time": "2022-08-08T00:16:53.019Z"
   },
   {
    "duration": 0,
    "start_time": "2022-08-08T00:16:53.020Z"
   },
   {
    "duration": 0,
    "start_time": "2022-08-08T00:16:53.020Z"
   },
   {
    "duration": 0,
    "start_time": "2022-08-08T00:16:53.021Z"
   },
   {
    "duration": 0,
    "start_time": "2022-08-08T00:16:53.039Z"
   },
   {
    "duration": 0,
    "start_time": "2022-08-08T00:16:53.039Z"
   },
   {
    "duration": 0,
    "start_time": "2022-08-08T00:16:53.041Z"
   },
   {
    "duration": 0,
    "start_time": "2022-08-08T00:16:53.041Z"
   },
   {
    "duration": 0,
    "start_time": "2022-08-08T00:16:53.042Z"
   },
   {
    "duration": 0,
    "start_time": "2022-08-08T00:16:53.044Z"
   },
   {
    "duration": 11,
    "start_time": "2022-08-08T00:18:01.501Z"
   },
   {
    "duration": 727,
    "start_time": "2022-08-08T00:18:09.633Z"
   },
   {
    "duration": 16,
    "start_time": "2022-08-08T00:18:10.362Z"
   },
   {
    "duration": 1821,
    "start_time": "2022-08-08T00:18:10.380Z"
   },
   {
    "duration": 10,
    "start_time": "2022-08-08T00:18:12.202Z"
   },
   {
    "duration": 32,
    "start_time": "2022-08-08T00:18:12.214Z"
   },
   {
    "duration": 5,
    "start_time": "2022-08-08T00:18:12.247Z"
   },
   {
    "duration": 25,
    "start_time": "2022-08-08T00:18:12.253Z"
   },
   {
    "duration": 8,
    "start_time": "2022-08-08T00:18:12.280Z"
   },
   {
    "duration": 61,
    "start_time": "2022-08-08T00:18:12.289Z"
   },
   {
    "duration": 13,
    "start_time": "2022-08-08T00:18:12.352Z"
   },
   {
    "duration": 20,
    "start_time": "2022-08-08T00:18:12.366Z"
   },
   {
    "duration": 4,
    "start_time": "2022-08-08T00:18:12.387Z"
   },
   {
    "duration": 12,
    "start_time": "2022-08-08T00:18:12.392Z"
   },
   {
    "duration": 10,
    "start_time": "2022-08-08T00:18:12.406Z"
   },
   {
    "duration": 26,
    "start_time": "2022-08-08T00:18:12.417Z"
   },
   {
    "duration": 16,
    "start_time": "2022-08-08T00:18:12.444Z"
   },
   {
    "duration": 5,
    "start_time": "2022-08-08T00:18:12.462Z"
   },
   {
    "duration": 10,
    "start_time": "2022-08-08T00:18:12.468Z"
   },
   {
    "duration": 22,
    "start_time": "2022-08-08T00:18:12.479Z"
   },
   {
    "duration": 46,
    "start_time": "2022-08-08T00:18:12.502Z"
   },
   {
    "duration": 6,
    "start_time": "2022-08-08T00:18:12.550Z"
   },
   {
    "duration": 11,
    "start_time": "2022-08-08T00:18:12.557Z"
   },
   {
    "duration": 16,
    "start_time": "2022-08-08T00:18:12.570Z"
   },
   {
    "duration": 24,
    "start_time": "2022-08-08T00:18:12.588Z"
   },
   {
    "duration": 26,
    "start_time": "2022-08-08T00:18:12.614Z"
   },
   {
    "duration": 1067,
    "start_time": "2022-08-08T00:18:12.642Z"
   },
   {
    "duration": 0,
    "start_time": "2022-08-08T00:18:13.711Z"
   },
   {
    "duration": 887,
    "start_time": "2022-08-08T00:19:34.593Z"
   },
   {
    "duration": 3,
    "start_time": "2022-08-08T00:19:57.284Z"
   },
   {
    "duration": 31,
    "start_time": "2022-08-08T00:20:00.136Z"
   },
   {
    "duration": 8,
    "start_time": "2022-08-08T00:26:17.911Z"
   },
   {
    "duration": 8,
    "start_time": "2022-08-08T00:26:41.303Z"
   },
   {
    "duration": 7,
    "start_time": "2022-08-08T00:27:10.979Z"
   },
   {
    "duration": 737,
    "start_time": "2022-08-08T00:27:23.129Z"
   },
   {
    "duration": 16,
    "start_time": "2022-08-08T00:27:23.868Z"
   },
   {
    "duration": 1880,
    "start_time": "2022-08-08T00:27:23.885Z"
   },
   {
    "duration": 9,
    "start_time": "2022-08-08T00:27:25.767Z"
   },
   {
    "duration": 28,
    "start_time": "2022-08-08T00:27:25.778Z"
   },
   {
    "duration": 4,
    "start_time": "2022-08-08T00:27:25.808Z"
   },
   {
    "duration": 28,
    "start_time": "2022-08-08T00:27:25.813Z"
   },
   {
    "duration": 8,
    "start_time": "2022-08-08T00:27:25.842Z"
   },
   {
    "duration": 45,
    "start_time": "2022-08-08T00:27:25.851Z"
   },
   {
    "duration": 12,
    "start_time": "2022-08-08T00:27:25.899Z"
   },
   {
    "duration": 33,
    "start_time": "2022-08-08T00:27:25.913Z"
   },
   {
    "duration": 4,
    "start_time": "2022-08-08T00:27:25.947Z"
   },
   {
    "duration": 13,
    "start_time": "2022-08-08T00:27:25.952Z"
   },
   {
    "duration": 7,
    "start_time": "2022-08-08T00:27:25.966Z"
   },
   {
    "duration": 8,
    "start_time": "2022-08-08T00:27:25.974Z"
   },
   {
    "duration": 15,
    "start_time": "2022-08-08T00:27:25.984Z"
   },
   {
    "duration": 5,
    "start_time": "2022-08-08T00:27:26.001Z"
   },
   {
    "duration": 35,
    "start_time": "2022-08-08T00:27:26.007Z"
   },
   {
    "duration": 19,
    "start_time": "2022-08-08T00:27:26.044Z"
   },
   {
    "duration": 25,
    "start_time": "2022-08-08T00:27:26.064Z"
   },
   {
    "duration": 6,
    "start_time": "2022-08-08T00:27:26.091Z"
   },
   {
    "duration": 16,
    "start_time": "2022-08-08T00:27:26.099Z"
   },
   {
    "duration": 16,
    "start_time": "2022-08-08T00:27:26.138Z"
   },
   {
    "duration": 23,
    "start_time": "2022-08-08T00:27:26.155Z"
   },
   {
    "duration": 5,
    "start_time": "2022-08-08T00:27:26.180Z"
   },
   {
    "duration": 12,
    "start_time": "2022-08-08T00:27:26.187Z"
   },
   {
    "duration": 85,
    "start_time": "2022-08-08T00:27:26.200Z"
   },
   {
    "duration": 0,
    "start_time": "2022-08-08T00:27:26.286Z"
   },
   {
    "duration": 8,
    "start_time": "2022-08-08T00:28:06.400Z"
   },
   {
    "duration": 8,
    "start_time": "2022-08-08T00:38:50.423Z"
   },
   {
    "duration": 8,
    "start_time": "2022-08-08T00:38:54.340Z"
   },
   {
    "duration": 744,
    "start_time": "2022-08-08T00:39:10.115Z"
   },
   {
    "duration": 14,
    "start_time": "2022-08-08T00:39:10.861Z"
   },
   {
    "duration": 1897,
    "start_time": "2022-08-08T00:39:10.876Z"
   },
   {
    "duration": 9,
    "start_time": "2022-08-08T00:39:12.775Z"
   },
   {
    "duration": 31,
    "start_time": "2022-08-08T00:39:12.786Z"
   },
   {
    "duration": 5,
    "start_time": "2022-08-08T00:39:12.818Z"
   },
   {
    "duration": 27,
    "start_time": "2022-08-08T00:39:12.824Z"
   },
   {
    "duration": 8,
    "start_time": "2022-08-08T00:39:12.852Z"
   },
   {
    "duration": 45,
    "start_time": "2022-08-08T00:39:12.861Z"
   },
   {
    "duration": 13,
    "start_time": "2022-08-08T00:39:12.908Z"
   },
   {
    "duration": 16,
    "start_time": "2022-08-08T00:39:12.939Z"
   },
   {
    "duration": 4,
    "start_time": "2022-08-08T00:39:12.957Z"
   },
   {
    "duration": 12,
    "start_time": "2022-08-08T00:39:12.962Z"
   },
   {
    "duration": 11,
    "start_time": "2022-08-08T00:39:12.976Z"
   },
   {
    "duration": 6,
    "start_time": "2022-08-08T00:39:12.989Z"
   },
   {
    "duration": 45,
    "start_time": "2022-08-08T00:39:12.996Z"
   },
   {
    "duration": 5,
    "start_time": "2022-08-08T00:39:13.043Z"
   },
   {
    "duration": 10,
    "start_time": "2022-08-08T00:39:13.050Z"
   },
   {
    "duration": 26,
    "start_time": "2022-08-08T00:39:13.061Z"
   },
   {
    "duration": 23,
    "start_time": "2022-08-08T00:39:13.088Z"
   },
   {
    "duration": 26,
    "start_time": "2022-08-08T00:39:13.113Z"
   },
   {
    "duration": 9,
    "start_time": "2022-08-08T00:39:13.141Z"
   },
   {
    "duration": 16,
    "start_time": "2022-08-08T00:39:13.151Z"
   },
   {
    "duration": 22,
    "start_time": "2022-08-08T00:39:13.168Z"
   },
   {
    "duration": 3,
    "start_time": "2022-08-08T00:39:13.192Z"
   },
   {
    "duration": 62,
    "start_time": "2022-08-08T00:39:13.196Z"
   },
   {
    "duration": 43,
    "start_time": "2022-08-08T00:42:49.793Z"
   },
   {
    "duration": 48,
    "start_time": "2022-08-08T00:42:59.897Z"
   },
   {
    "duration": 40,
    "start_time": "2022-08-08T00:43:13.514Z"
   },
   {
    "duration": 297,
    "start_time": "2022-08-08T00:43:24.168Z"
   },
   {
    "duration": 332,
    "start_time": "2022-08-08T00:47:59.298Z"
   },
   {
    "duration": 44,
    "start_time": "2022-08-08T00:48:04.226Z"
   },
   {
    "duration": 329,
    "start_time": "2022-08-08T00:49:11.618Z"
   },
   {
    "duration": 42,
    "start_time": "2022-08-08T00:49:13.194Z"
   },
   {
    "duration": 12,
    "start_time": "2022-08-08T01:10:51.255Z"
   },
   {
    "duration": 36,
    "start_time": "2022-08-08T01:10:54.980Z"
   },
   {
    "duration": 45,
    "start_time": "2022-08-08T01:12:53.920Z"
   },
   {
    "duration": 814,
    "start_time": "2022-08-08T01:38:01.544Z"
   },
   {
    "duration": 16,
    "start_time": "2022-08-08T01:38:22.809Z"
   },
   {
    "duration": 811,
    "start_time": "2022-08-08T02:21:43.969Z"
   },
   {
    "duration": 4,
    "start_time": "2022-08-08T02:22:31.966Z"
   },
   {
    "duration": 47,
    "start_time": "2022-08-08T02:22:38.897Z"
   },
   {
    "duration": 30,
    "start_time": "2022-08-08T02:27:58.958Z"
   },
   {
    "duration": 10,
    "start_time": "2022-08-08T02:28:43.200Z"
   },
   {
    "duration": 202,
    "start_time": "2022-08-08T02:31:10.819Z"
   },
   {
    "duration": 146,
    "start_time": "2022-08-08T02:34:12.228Z"
   },
   {
    "duration": 166,
    "start_time": "2022-08-08T02:41:23.483Z"
   },
   {
    "duration": 172,
    "start_time": "2022-08-08T02:41:39.811Z"
   },
   {
    "duration": 209,
    "start_time": "2022-08-08T02:42:04.266Z"
   },
   {
    "duration": 6,
    "start_time": "2022-08-08T03:07:04.403Z"
   },
   {
    "duration": 7,
    "start_time": "2022-08-08T03:07:19.753Z"
   },
   {
    "duration": 741,
    "start_time": "2022-08-08T03:07:54.404Z"
   },
   {
    "duration": 15,
    "start_time": "2022-08-08T03:07:55.146Z"
   },
   {
    "duration": 1974,
    "start_time": "2022-08-08T03:07:55.163Z"
   },
   {
    "duration": 9,
    "start_time": "2022-08-08T03:07:57.139Z"
   },
   {
    "duration": 30,
    "start_time": "2022-08-08T03:07:57.149Z"
   },
   {
    "duration": 5,
    "start_time": "2022-08-08T03:07:57.180Z"
   },
   {
    "duration": 27,
    "start_time": "2022-08-08T03:07:57.186Z"
   },
   {
    "duration": 9,
    "start_time": "2022-08-08T03:07:57.239Z"
   },
   {
    "duration": 43,
    "start_time": "2022-08-08T03:07:57.250Z"
   },
   {
    "duration": 12,
    "start_time": "2022-08-08T03:07:57.296Z"
   },
   {
    "duration": 40,
    "start_time": "2022-08-08T03:07:57.310Z"
   },
   {
    "duration": 9,
    "start_time": "2022-08-08T03:07:57.352Z"
   },
   {
    "duration": 10,
    "start_time": "2022-08-08T03:07:57.363Z"
   },
   {
    "duration": 8,
    "start_time": "2022-08-08T03:07:57.374Z"
   },
   {
    "duration": 18,
    "start_time": "2022-08-08T03:07:57.383Z"
   },
   {
    "duration": 5,
    "start_time": "2022-08-08T03:07:57.403Z"
   },
   {
    "duration": 33,
    "start_time": "2022-08-08T03:07:57.409Z"
   },
   {
    "duration": 19,
    "start_time": "2022-08-08T03:07:57.443Z"
   },
   {
    "duration": 22,
    "start_time": "2022-08-08T03:07:57.464Z"
   },
   {
    "duration": 4,
    "start_time": "2022-08-08T03:07:57.488Z"
   },
   {
    "duration": 10,
    "start_time": "2022-08-08T03:07:57.493Z"
   },
   {
    "duration": 34,
    "start_time": "2022-08-08T03:07:57.504Z"
   },
   {
    "duration": 15,
    "start_time": "2022-08-08T03:07:57.540Z"
   },
   {
    "duration": 22,
    "start_time": "2022-08-08T03:07:57.556Z"
   },
   {
    "duration": 5,
    "start_time": "2022-08-08T03:07:57.579Z"
   },
   {
    "duration": 342,
    "start_time": "2022-08-08T03:07:57.586Z"
   },
   {
    "duration": 11,
    "start_time": "2022-08-08T03:07:57.930Z"
   },
   {
    "duration": 4,
    "start_time": "2022-08-08T03:07:57.944Z"
   },
   {
    "duration": 225,
    "start_time": "2022-08-08T03:07:57.949Z"
   },
   {
    "duration": 23,
    "start_time": "2022-08-08T03:07:58.176Z"
   },
   {
    "duration": 6,
    "start_time": "2022-08-08T03:09:21.503Z"
   },
   {
    "duration": 10,
    "start_time": "2022-08-08T03:09:30.839Z"
   },
   {
    "duration": 11,
    "start_time": "2022-08-08T03:15:25.727Z"
   },
   {
    "duration": 20,
    "start_time": "2022-08-08T03:19:24.585Z"
   },
   {
    "duration": 11,
    "start_time": "2022-08-08T03:19:26.742Z"
   },
   {
    "duration": 10,
    "start_time": "2022-08-08T03:23:22.166Z"
   },
   {
    "duration": 675,
    "start_time": "2022-08-08T03:24:06.394Z"
   },
   {
    "duration": 15,
    "start_time": "2022-08-08T03:24:07.071Z"
   },
   {
    "duration": 1981,
    "start_time": "2022-08-08T03:24:07.088Z"
   },
   {
    "duration": 12,
    "start_time": "2022-08-08T03:24:09.072Z"
   },
   {
    "duration": 33,
    "start_time": "2022-08-08T03:24:09.086Z"
   },
   {
    "duration": 5,
    "start_time": "2022-08-08T03:24:09.121Z"
   },
   {
    "duration": 29,
    "start_time": "2022-08-08T03:24:09.127Z"
   },
   {
    "duration": 8,
    "start_time": "2022-08-08T03:24:09.158Z"
   },
   {
    "duration": 43,
    "start_time": "2022-08-08T03:24:09.168Z"
   },
   {
    "duration": 28,
    "start_time": "2022-08-08T03:24:09.213Z"
   },
   {
    "duration": 17,
    "start_time": "2022-08-08T03:24:09.243Z"
   },
   {
    "duration": 10,
    "start_time": "2022-08-08T03:24:09.261Z"
   },
   {
    "duration": 14,
    "start_time": "2022-08-08T03:24:09.272Z"
   },
   {
    "duration": 8,
    "start_time": "2022-08-08T03:24:09.287Z"
   },
   {
    "duration": 42,
    "start_time": "2022-08-08T03:24:09.296Z"
   },
   {
    "duration": 6,
    "start_time": "2022-08-08T03:24:09.340Z"
   },
   {
    "duration": 9,
    "start_time": "2022-08-08T03:24:09.347Z"
   },
   {
    "duration": 21,
    "start_time": "2022-08-08T03:24:09.357Z"
   },
   {
    "duration": 18,
    "start_time": "2022-08-08T03:24:09.379Z"
   },
   {
    "duration": 8,
    "start_time": "2022-08-08T03:24:09.398Z"
   },
   {
    "duration": 42,
    "start_time": "2022-08-08T03:24:09.407Z"
   },
   {
    "duration": 22,
    "start_time": "2022-08-08T03:24:09.450Z"
   },
   {
    "duration": 4,
    "start_time": "2022-08-08T03:24:09.473Z"
   },
   {
    "duration": 329,
    "start_time": "2022-08-08T03:24:09.478Z"
   },
   {
    "duration": 10,
    "start_time": "2022-08-08T03:24:09.809Z"
   },
   {
    "duration": 5,
    "start_time": "2022-08-08T03:24:09.821Z"
   },
   {
    "duration": 218,
    "start_time": "2022-08-08T03:24:09.827Z"
   },
   {
    "duration": 10,
    "start_time": "2022-08-08T03:24:10.048Z"
   },
   {
    "duration": 24,
    "start_time": "2022-08-08T03:24:10.060Z"
   },
   {
    "duration": 735,
    "start_time": "2022-08-08T03:49:44.451Z"
   },
   {
    "duration": 17,
    "start_time": "2022-08-08T03:49:45.188Z"
   },
   {
    "duration": 2027,
    "start_time": "2022-08-08T03:49:45.207Z"
   },
   {
    "duration": 10,
    "start_time": "2022-08-08T03:49:47.236Z"
   },
   {
    "duration": 30,
    "start_time": "2022-08-08T03:49:47.247Z"
   },
   {
    "duration": 5,
    "start_time": "2022-08-08T03:49:47.279Z"
   },
   {
    "duration": 28,
    "start_time": "2022-08-08T03:49:47.286Z"
   },
   {
    "duration": 10,
    "start_time": "2022-08-08T03:49:47.338Z"
   },
   {
    "duration": 46,
    "start_time": "2022-08-08T03:49:47.350Z"
   },
   {
    "duration": 14,
    "start_time": "2022-08-08T03:49:47.399Z"
   },
   {
    "duration": 39,
    "start_time": "2022-08-08T03:49:47.414Z"
   },
   {
    "duration": 850,
    "start_time": "2022-08-08T03:49:47.455Z"
   },
   {
    "duration": 0,
    "start_time": "2022-08-08T03:49:48.306Z"
   },
   {
    "duration": 0,
    "start_time": "2022-08-08T03:49:48.308Z"
   },
   {
    "duration": 0,
    "start_time": "2022-08-08T03:49:48.309Z"
   },
   {
    "duration": 0,
    "start_time": "2022-08-08T03:49:48.310Z"
   },
   {
    "duration": 0,
    "start_time": "2022-08-08T03:49:48.312Z"
   },
   {
    "duration": 0,
    "start_time": "2022-08-08T03:49:48.313Z"
   },
   {
    "duration": 0,
    "start_time": "2022-08-08T03:49:48.314Z"
   },
   {
    "duration": 0,
    "start_time": "2022-08-08T03:49:48.315Z"
   },
   {
    "duration": 0,
    "start_time": "2022-08-08T03:49:48.317Z"
   },
   {
    "duration": 0,
    "start_time": "2022-08-08T03:49:48.318Z"
   },
   {
    "duration": 0,
    "start_time": "2022-08-08T03:49:48.319Z"
   },
   {
    "duration": 0,
    "start_time": "2022-08-08T03:49:48.320Z"
   },
   {
    "duration": 0,
    "start_time": "2022-08-08T03:49:48.321Z"
   },
   {
    "duration": 0,
    "start_time": "2022-08-08T03:49:48.321Z"
   },
   {
    "duration": 0,
    "start_time": "2022-08-08T03:49:48.323Z"
   },
   {
    "duration": 0,
    "start_time": "2022-08-08T03:49:48.324Z"
   },
   {
    "duration": 0,
    "start_time": "2022-08-08T03:49:48.325Z"
   },
   {
    "duration": 798,
    "start_time": "2022-08-08T03:50:56.616Z"
   },
   {
    "duration": 22,
    "start_time": "2022-08-08T03:50:57.416Z"
   },
   {
    "duration": 2129,
    "start_time": "2022-08-08T03:50:57.440Z"
   },
   {
    "duration": 9,
    "start_time": "2022-08-08T03:50:59.572Z"
   },
   {
    "duration": 31,
    "start_time": "2022-08-08T03:50:59.583Z"
   },
   {
    "duration": 5,
    "start_time": "2022-08-08T03:50:59.616Z"
   },
   {
    "duration": 29,
    "start_time": "2022-08-08T03:50:59.623Z"
   },
   {
    "duration": 9,
    "start_time": "2022-08-08T03:50:59.654Z"
   },
   {
    "duration": 58,
    "start_time": "2022-08-08T03:50:59.664Z"
   },
   {
    "duration": 19,
    "start_time": "2022-08-08T03:50:59.724Z"
   },
   {
    "duration": 20,
    "start_time": "2022-08-08T03:50:59.744Z"
   },
   {
    "duration": 13,
    "start_time": "2022-08-08T03:50:59.766Z"
   },
   {
    "duration": 11,
    "start_time": "2022-08-08T03:50:59.781Z"
   },
   {
    "duration": 8,
    "start_time": "2022-08-08T03:50:59.794Z"
   },
   {
    "duration": 46,
    "start_time": "2022-08-08T03:50:59.803Z"
   },
   {
    "duration": 16,
    "start_time": "2022-08-08T03:50:59.850Z"
   },
   {
    "duration": 7,
    "start_time": "2022-08-08T03:50:59.868Z"
   },
   {
    "duration": 13,
    "start_time": "2022-08-08T03:50:59.876Z"
   },
   {
    "duration": 27,
    "start_time": "2022-08-08T03:50:59.891Z"
   },
   {
    "duration": 9,
    "start_time": "2022-08-08T03:50:59.938Z"
   },
   {
    "duration": 15,
    "start_time": "2022-08-08T03:50:59.948Z"
   },
   {
    "duration": 24,
    "start_time": "2022-08-08T03:50:59.965Z"
   },
   {
    "duration": 3,
    "start_time": "2022-08-08T03:50:59.991Z"
   },
   {
    "duration": 342,
    "start_time": "2022-08-08T03:50:59.996Z"
   },
   {
    "duration": 13,
    "start_time": "2022-08-08T03:51:00.341Z"
   },
   {
    "duration": 7,
    "start_time": "2022-08-08T03:51:00.355Z"
   },
   {
    "duration": 235,
    "start_time": "2022-08-08T03:51:00.364Z"
   },
   {
    "duration": 11,
    "start_time": "2022-08-08T03:51:00.602Z"
   },
   {
    "duration": 41,
    "start_time": "2022-08-08T03:51:00.614Z"
   },
   {
    "duration": 20,
    "start_time": "2022-08-08T03:51:17.359Z"
   },
   {
    "duration": 689,
    "start_time": "2022-08-08T03:51:54.357Z"
   },
   {
    "duration": 15,
    "start_time": "2022-08-08T03:51:55.048Z"
   },
   {
    "duration": 1885,
    "start_time": "2022-08-08T03:51:55.064Z"
   },
   {
    "duration": 9,
    "start_time": "2022-08-08T03:51:56.951Z"
   },
   {
    "duration": 37,
    "start_time": "2022-08-08T03:51:56.962Z"
   },
   {
    "duration": 6,
    "start_time": "2022-08-08T03:51:57.000Z"
   },
   {
    "duration": 32,
    "start_time": "2022-08-08T03:51:57.007Z"
   },
   {
    "duration": 8,
    "start_time": "2022-08-08T03:51:57.040Z"
   },
   {
    "duration": 59,
    "start_time": "2022-08-08T03:51:57.050Z"
   },
   {
    "duration": 13,
    "start_time": "2022-08-08T03:51:57.111Z"
   },
   {
    "duration": 24,
    "start_time": "2022-08-08T03:51:57.125Z"
   },
   {
    "duration": 9,
    "start_time": "2022-08-08T03:51:57.151Z"
   },
   {
    "duration": 11,
    "start_time": "2022-08-08T03:51:57.162Z"
   },
   {
    "duration": 12,
    "start_time": "2022-08-08T03:51:57.175Z"
   },
   {
    "duration": 21,
    "start_time": "2022-08-08T03:51:57.189Z"
   },
   {
    "duration": 30,
    "start_time": "2022-08-08T03:51:57.212Z"
   },
   {
    "duration": 6,
    "start_time": "2022-08-08T03:51:57.243Z"
   },
   {
    "duration": 7,
    "start_time": "2022-08-08T03:51:57.250Z"
   },
   {
    "duration": 20,
    "start_time": "2022-08-08T03:51:57.259Z"
   },
   {
    "duration": 8,
    "start_time": "2022-08-08T03:51:57.280Z"
   },
   {
    "duration": 18,
    "start_time": "2022-08-08T03:51:57.289Z"
   },
   {
    "duration": 50,
    "start_time": "2022-08-08T03:51:57.308Z"
   },
   {
    "duration": 5,
    "start_time": "2022-08-08T03:51:57.360Z"
   },
   {
    "duration": 314,
    "start_time": "2022-08-08T03:51:57.366Z"
   },
   {
    "duration": 13,
    "start_time": "2022-08-08T03:51:57.682Z"
   },
   {
    "duration": 4,
    "start_time": "2022-08-08T03:51:57.696Z"
   },
   {
    "duration": 222,
    "start_time": "2022-08-08T03:51:57.701Z"
   },
   {
    "duration": 18,
    "start_time": "2022-08-08T03:51:57.925Z"
   },
   {
    "duration": 24,
    "start_time": "2022-08-08T03:51:57.944Z"
   },
   {
    "duration": 60,
    "start_time": "2022-08-08T10:46:42.427Z"
   },
   {
    "duration": 1299,
    "start_time": "2022-08-08T10:47:27.681Z"
   },
   {
    "duration": 26,
    "start_time": "2022-08-08T10:47:28.982Z"
   },
   {
    "duration": 2573,
    "start_time": "2022-08-08T10:47:29.014Z"
   },
   {
    "duration": 20,
    "start_time": "2022-08-08T10:47:31.591Z"
   },
   {
    "duration": 60,
    "start_time": "2022-08-08T10:47:31.614Z"
   },
   {
    "duration": 7,
    "start_time": "2022-08-08T10:47:31.676Z"
   },
   {
    "duration": 74,
    "start_time": "2022-08-08T10:47:31.685Z"
   },
   {
    "duration": 12,
    "start_time": "2022-08-08T10:47:31.762Z"
   },
   {
    "duration": 69,
    "start_time": "2022-08-08T10:47:31.776Z"
   },
   {
    "duration": 27,
    "start_time": "2022-08-08T10:47:31.853Z"
   },
   {
    "duration": 69,
    "start_time": "2022-08-08T10:47:31.883Z"
   },
   {
    "duration": 29,
    "start_time": "2022-08-08T10:47:31.955Z"
   },
   {
    "duration": 63,
    "start_time": "2022-08-08T10:47:31.986Z"
   },
   {
    "duration": 94,
    "start_time": "2022-08-08T10:47:32.052Z"
   },
   {
    "duration": 31,
    "start_time": "2022-08-08T10:47:32.150Z"
   },
   {
    "duration": 79,
    "start_time": "2022-08-08T10:47:32.184Z"
   },
   {
    "duration": 11,
    "start_time": "2022-08-08T10:47:32.266Z"
   },
   {
    "duration": 63,
    "start_time": "2022-08-08T10:47:32.279Z"
   },
   {
    "duration": 57,
    "start_time": "2022-08-08T10:47:32.344Z"
   },
   {
    "duration": 75,
    "start_time": "2022-08-08T10:47:32.405Z"
   },
   {
    "duration": 34,
    "start_time": "2022-08-08T10:47:32.483Z"
   },
   {
    "duration": 57,
    "start_time": "2022-08-08T10:47:32.519Z"
   },
   {
    "duration": 45,
    "start_time": "2022-08-08T10:47:32.578Z"
   },
   {
    "duration": 426,
    "start_time": "2022-08-08T10:47:32.625Z"
   },
   {
    "duration": 16,
    "start_time": "2022-08-08T10:47:33.053Z"
   },
   {
    "duration": 20,
    "start_time": "2022-08-08T10:47:33.071Z"
   },
   {
    "duration": 331,
    "start_time": "2022-08-08T10:47:33.101Z"
   },
   {
    "duration": 17,
    "start_time": "2022-08-08T10:47:33.437Z"
   },
   {
    "duration": 53,
    "start_time": "2022-08-08T10:47:33.456Z"
   },
   {
    "duration": 13,
    "start_time": "2022-08-08T10:52:16.758Z"
   },
   {
    "duration": 26,
    "start_time": "2022-08-08T10:52:21.240Z"
   },
   {
    "duration": 871,
    "start_time": "2022-08-08T10:52:37.539Z"
   },
   {
    "duration": 25,
    "start_time": "2022-08-08T10:52:38.415Z"
   },
   {
    "duration": 2568,
    "start_time": "2022-08-08T10:52:38.442Z"
   },
   {
    "duration": 17,
    "start_time": "2022-08-08T10:52:41.013Z"
   },
   {
    "duration": 49,
    "start_time": "2022-08-08T10:52:41.032Z"
   },
   {
    "duration": 6,
    "start_time": "2022-08-08T10:52:41.083Z"
   },
   {
    "duration": 61,
    "start_time": "2022-08-08T10:52:41.090Z"
   },
   {
    "duration": 11,
    "start_time": "2022-08-08T10:52:41.152Z"
   },
   {
    "duration": 58,
    "start_time": "2022-08-08T10:52:41.165Z"
   },
   {
    "duration": 16,
    "start_time": "2022-08-08T10:52:41.226Z"
   },
   {
    "duration": 22,
    "start_time": "2022-08-08T10:52:41.244Z"
   },
   {
    "duration": 29,
    "start_time": "2022-08-08T10:52:41.268Z"
   },
   {
    "duration": 45,
    "start_time": "2022-08-08T10:52:41.298Z"
   },
   {
    "duration": 26,
    "start_time": "2022-08-08T10:52:41.345Z"
   },
   {
    "duration": 34,
    "start_time": "2022-08-08T10:52:41.373Z"
   },
   {
    "duration": 53,
    "start_time": "2022-08-08T10:52:41.408Z"
   },
   {
    "duration": 7,
    "start_time": "2022-08-08T10:52:41.463Z"
   },
   {
    "duration": 11,
    "start_time": "2022-08-08T10:52:41.472Z"
   },
   {
    "duration": 66,
    "start_time": "2022-08-08T10:52:41.485Z"
   },
   {
    "duration": 10,
    "start_time": "2022-08-08T10:52:41.553Z"
   },
   {
    "duration": 32,
    "start_time": "2022-08-08T10:52:41.565Z"
   },
   {
    "duration": 36,
    "start_time": "2022-08-08T10:52:41.604Z"
   },
   {
    "duration": 5,
    "start_time": "2022-08-08T10:52:41.642Z"
   },
   {
    "duration": 478,
    "start_time": "2022-08-08T10:52:41.649Z"
   },
   {
    "duration": 16,
    "start_time": "2022-08-08T10:52:42.130Z"
   },
   {
    "duration": 20,
    "start_time": "2022-08-08T10:52:42.149Z"
   },
   {
    "duration": 317,
    "start_time": "2022-08-08T10:52:42.171Z"
   },
   {
    "duration": 30,
    "start_time": "2022-08-08T10:52:42.495Z"
   },
   {
    "duration": 34,
    "start_time": "2022-08-08T10:52:42.530Z"
   },
   {
    "duration": 33,
    "start_time": "2022-08-08T11:03:56.516Z"
   },
   {
    "duration": 2653,
    "start_time": "2022-08-08T11:05:40.233Z"
   },
   {
    "duration": 219,
    "start_time": "2022-08-08T11:06:21.799Z"
   },
   {
    "duration": 316,
    "start_time": "2022-08-08T11:07:13.667Z"
   },
   {
    "duration": 42,
    "start_time": "2022-08-08T11:08:14.210Z"
   },
   {
    "duration": 31,
    "start_time": "2022-08-08T11:35:36.416Z"
   },
   {
    "duration": 29,
    "start_time": "2022-08-08T11:41:24.647Z"
   },
   {
    "duration": 35,
    "start_time": "2022-08-08T11:41:25.383Z"
   },
   {
    "duration": 57,
    "start_time": "2022-08-08T11:41:25.984Z"
   },
   {
    "duration": 11,
    "start_time": "2022-08-08T11:41:34.159Z"
   },
   {
    "duration": 42,
    "start_time": "2022-08-08T11:48:54.876Z"
   },
   {
    "duration": 35,
    "start_time": "2022-08-08T11:48:56.846Z"
   },
   {
    "duration": 11,
    "start_time": "2022-08-08T11:49:02.847Z"
   },
   {
    "duration": 4,
    "start_time": "2022-08-08T11:49:10.940Z"
   },
   {
    "duration": 11,
    "start_time": "2022-08-08T11:49:15.104Z"
   },
   {
    "duration": 83,
    "start_time": "2022-08-08T11:59:28.305Z"
   },
   {
    "duration": 31,
    "start_time": "2022-08-08T11:59:46.104Z"
   },
   {
    "duration": 53,
    "start_time": "2022-08-08T12:02:02.980Z"
   },
   {
    "duration": 12,
    "start_time": "2022-08-08T12:02:10.369Z"
   },
   {
    "duration": 22,
    "start_time": "2022-08-08T12:04:28.282Z"
   },
   {
    "duration": 734,
    "start_time": "2022-08-08T12:05:11.799Z"
   },
   {
    "duration": 17,
    "start_time": "2022-08-08T12:05:18.872Z"
   },
   {
    "duration": 10,
    "start_time": "2022-08-08T12:05:40.422Z"
   },
   {
    "duration": 843,
    "start_time": "2022-08-08T12:07:19.703Z"
   },
   {
    "duration": 16,
    "start_time": "2022-08-08T12:07:20.549Z"
   },
   {
    "duration": 2304,
    "start_time": "2022-08-08T12:07:20.567Z"
   },
   {
    "duration": 10,
    "start_time": "2022-08-08T12:07:22.873Z"
   },
   {
    "duration": 43,
    "start_time": "2022-08-08T12:07:22.885Z"
   },
   {
    "duration": 6,
    "start_time": "2022-08-08T12:07:22.930Z"
   },
   {
    "duration": 29,
    "start_time": "2022-08-08T12:07:22.938Z"
   },
   {
    "duration": 17,
    "start_time": "2022-08-08T12:07:22.969Z"
   },
   {
    "duration": 66,
    "start_time": "2022-08-08T12:07:22.992Z"
   },
   {
    "duration": 15,
    "start_time": "2022-08-08T12:07:23.060Z"
   },
   {
    "duration": 33,
    "start_time": "2022-08-08T12:07:23.077Z"
   },
   {
    "duration": 11,
    "start_time": "2022-08-08T12:07:23.112Z"
   },
   {
    "duration": 10,
    "start_time": "2022-08-08T12:07:23.125Z"
   },
   {
    "duration": 8,
    "start_time": "2022-08-08T12:07:23.138Z"
   },
   {
    "duration": 55,
    "start_time": "2022-08-08T12:07:23.147Z"
   },
   {
    "duration": 20,
    "start_time": "2022-08-08T12:07:23.204Z"
   },
   {
    "duration": 18,
    "start_time": "2022-08-08T12:07:23.226Z"
   },
   {
    "duration": 34,
    "start_time": "2022-08-08T12:07:23.246Z"
   },
   {
    "duration": 41,
    "start_time": "2022-08-08T12:07:23.292Z"
   },
   {
    "duration": 67,
    "start_time": "2022-08-08T12:07:23.335Z"
   },
   {
    "duration": 7,
    "start_time": "2022-08-08T12:07:23.404Z"
   },
   {
    "duration": 13,
    "start_time": "2022-08-08T12:07:23.413Z"
   },
   {
    "duration": 13,
    "start_time": "2022-08-08T12:07:23.427Z"
   },
   {
    "duration": 66,
    "start_time": "2022-08-08T12:07:23.442Z"
   },
   {
    "duration": 34,
    "start_time": "2022-08-08T12:07:23.509Z"
   },
   {
    "duration": 4,
    "start_time": "2022-08-08T12:07:23.545Z"
   },
   {
    "duration": 377,
    "start_time": "2022-08-08T12:07:23.551Z"
   },
   {
    "duration": 14,
    "start_time": "2022-08-08T12:07:23.930Z"
   },
   {
    "duration": 6,
    "start_time": "2022-08-08T12:07:23.946Z"
   },
   {
    "duration": 257,
    "start_time": "2022-08-08T12:07:23.954Z"
   },
   {
    "duration": 11,
    "start_time": "2022-08-08T12:07:24.213Z"
   },
   {
    "duration": 26,
    "start_time": "2022-08-08T12:07:24.226Z"
   },
   {
    "duration": 20,
    "start_time": "2022-08-08T12:07:44.704Z"
   },
   {
    "duration": 12,
    "start_time": "2022-08-08T12:20:58.193Z"
   },
   {
    "duration": 7,
    "start_time": "2022-08-08T12:21:04.129Z"
   },
   {
    "duration": 825,
    "start_time": "2022-08-08T12:24:27.806Z"
   },
   {
    "duration": 18,
    "start_time": "2022-08-08T12:24:28.633Z"
   },
   {
    "duration": 2203,
    "start_time": "2022-08-08T12:24:28.653Z"
   },
   {
    "duration": 11,
    "start_time": "2022-08-08T12:24:30.859Z"
   },
   {
    "duration": 24,
    "start_time": "2022-08-08T12:24:30.873Z"
   },
   {
    "duration": 14,
    "start_time": "2022-08-08T12:24:30.899Z"
   },
   {
    "duration": 20,
    "start_time": "2022-08-08T12:24:30.915Z"
   },
   {
    "duration": 22,
    "start_time": "2022-08-08T12:24:30.937Z"
   },
   {
    "duration": 59,
    "start_time": "2022-08-08T12:24:30.961Z"
   },
   {
    "duration": 15,
    "start_time": "2022-08-08T12:24:31.024Z"
   },
   {
    "duration": 39,
    "start_time": "2022-08-08T12:24:31.042Z"
   },
   {
    "duration": 16,
    "start_time": "2022-08-08T12:24:31.082Z"
   },
   {
    "duration": 20,
    "start_time": "2022-08-08T12:24:31.100Z"
   },
   {
    "duration": 19,
    "start_time": "2022-08-08T12:24:31.122Z"
   },
   {
    "duration": 22,
    "start_time": "2022-08-08T12:24:31.143Z"
   },
   {
    "duration": 30,
    "start_time": "2022-08-08T12:24:31.166Z"
   },
   {
    "duration": 21,
    "start_time": "2022-08-08T12:24:31.198Z"
   },
   {
    "duration": 34,
    "start_time": "2022-08-08T12:24:31.221Z"
   },
   {
    "duration": 46,
    "start_time": "2022-08-08T12:24:31.257Z"
   },
   {
    "duration": 47,
    "start_time": "2022-08-08T12:24:31.305Z"
   },
   {
    "duration": 6,
    "start_time": "2022-08-08T12:24:31.354Z"
   },
   {
    "duration": 11,
    "start_time": "2022-08-08T12:24:31.362Z"
   },
   {
    "duration": 12,
    "start_time": "2022-08-08T12:24:31.392Z"
   },
   {
    "duration": 41,
    "start_time": "2022-08-08T12:24:31.406Z"
   },
   {
    "duration": 56,
    "start_time": "2022-08-08T12:24:31.449Z"
   },
   {
    "duration": 4,
    "start_time": "2022-08-08T12:24:31.507Z"
   },
   {
    "duration": 354,
    "start_time": "2022-08-08T12:24:31.513Z"
   },
   {
    "duration": 21,
    "start_time": "2022-08-08T12:24:31.872Z"
   },
   {
    "duration": 5,
    "start_time": "2022-08-08T12:24:31.895Z"
   },
   {
    "duration": 271,
    "start_time": "2022-08-08T12:24:31.902Z"
   },
   {
    "duration": 22,
    "start_time": "2022-08-08T12:24:32.175Z"
   },
   {
    "duration": 3015,
    "start_time": "2022-08-08T12:24:32.200Z"
   },
   {
    "duration": 24,
    "start_time": "2022-08-08T12:24:35.217Z"
   },
   {
    "duration": 34152,
    "start_time": "2022-08-08T12:39:44.790Z"
   },
   {
    "duration": 5,
    "start_time": "2022-08-08T12:42:39.712Z"
   },
   {
    "duration": 59,
    "start_time": "2022-08-08T12:43:36.517Z"
   },
   {
    "duration": 6,
    "start_time": "2022-08-08T12:49:10.001Z"
   },
   {
    "duration": 837,
    "start_time": "2022-08-08T13:10:29.414Z"
   },
   {
    "duration": 18,
    "start_time": "2022-08-08T13:10:30.253Z"
   },
   {
    "duration": 2314,
    "start_time": "2022-08-08T13:10:30.273Z"
   },
   {
    "duration": 11,
    "start_time": "2022-08-08T13:10:32.591Z"
   },
   {
    "duration": 9,
    "start_time": "2022-08-08T13:10:32.604Z"
   },
   {
    "duration": 13,
    "start_time": "2022-08-08T13:10:32.615Z"
   },
   {
    "duration": 10,
    "start_time": "2022-08-08T13:10:32.631Z"
   },
   {
    "duration": 12,
    "start_time": "2022-08-08T13:10:32.643Z"
   },
   {
    "duration": 71,
    "start_time": "2022-08-08T13:10:32.657Z"
   },
   {
    "duration": 15,
    "start_time": "2022-08-08T13:10:32.731Z"
   },
   {
    "duration": 22,
    "start_time": "2022-08-08T13:10:32.749Z"
   },
   {
    "duration": 20,
    "start_time": "2022-08-08T13:10:32.774Z"
   },
   {
    "duration": 10,
    "start_time": "2022-08-08T13:10:32.797Z"
   },
   {
    "duration": 10,
    "start_time": "2022-08-08T13:10:32.810Z"
   },
   {
    "duration": 22,
    "start_time": "2022-08-08T13:10:32.822Z"
   },
   {
    "duration": 67,
    "start_time": "2022-08-08T13:10:32.846Z"
   },
   {
    "duration": 38,
    "start_time": "2022-08-08T13:10:32.915Z"
   },
   {
    "duration": 70,
    "start_time": "2022-08-08T13:10:32.955Z"
   },
   {
    "duration": 8,
    "start_time": "2022-08-08T13:10:33.027Z"
   },
   {
    "duration": 10,
    "start_time": "2022-08-08T13:10:33.038Z"
   },
   {
    "duration": 16,
    "start_time": "2022-08-08T13:10:33.050Z"
   },
   {
    "duration": 65,
    "start_time": "2022-08-08T13:10:33.068Z"
   },
   {
    "duration": 62,
    "start_time": "2022-08-08T13:10:33.135Z"
   },
   {
    "duration": 5,
    "start_time": "2022-08-08T13:10:33.199Z"
   },
   {
    "duration": 371,
    "start_time": "2022-08-08T13:10:33.207Z"
   },
   {
    "duration": 14,
    "start_time": "2022-08-08T13:10:33.580Z"
   },
   {
    "duration": 7,
    "start_time": "2022-08-08T13:10:33.596Z"
   },
   {
    "duration": 230,
    "start_time": "2022-08-08T13:10:33.605Z"
   },
   {
    "duration": 12,
    "start_time": "2022-08-08T13:10:33.838Z"
   },
   {
    "duration": 41,
    "start_time": "2022-08-08T13:10:33.852Z"
   },
   {
    "duration": 93,
    "start_time": "2022-08-08T13:17:09.700Z"
   },
   {
    "duration": 8,
    "start_time": "2022-08-08T13:18:28.964Z"
   },
   {
    "duration": 45,
    "start_time": "2022-08-08T13:18:49.323Z"
   },
   {
    "duration": 5,
    "start_time": "2022-08-08T13:20:47.488Z"
   },
   {
    "duration": 42,
    "start_time": "2022-08-08T13:20:53.486Z"
   },
   {
    "duration": 12,
    "start_time": "2022-08-08T14:26:02.549Z"
   },
   {
    "duration": 23,
    "start_time": "2022-08-08T14:29:13.462Z"
   },
   {
    "duration": 6,
    "start_time": "2022-08-08T14:30:23.614Z"
   },
   {
    "duration": 42,
    "start_time": "2022-08-08T14:30:33.059Z"
   },
   {
    "duration": 11,
    "start_time": "2022-08-08T14:33:58.597Z"
   },
   {
    "duration": 10,
    "start_time": "2022-08-08T14:34:03.776Z"
   },
   {
    "duration": 5,
    "start_time": "2022-08-08T14:34:07.853Z"
   },
   {
    "duration": 11,
    "start_time": "2022-08-08T14:34:22.232Z"
   },
   {
    "duration": 9,
    "start_time": "2022-08-08T14:34:25.930Z"
   },
   {
    "duration": 6,
    "start_time": "2022-08-08T14:35:04.464Z"
   },
   {
    "duration": 5,
    "start_time": "2022-08-08T14:35:30.032Z"
   },
   {
    "duration": 6,
    "start_time": "2022-08-08T14:37:41.657Z"
   },
   {
    "duration": 4,
    "start_time": "2022-08-08T14:45:35.303Z"
   },
   {
    "duration": 11,
    "start_time": "2022-08-08T14:45:42.387Z"
   },
   {
    "duration": 815,
    "start_time": "2022-08-08T14:46:00.946Z"
   },
   {
    "duration": 18,
    "start_time": "2022-08-08T14:46:01.764Z"
   },
   {
    "duration": 2216,
    "start_time": "2022-08-08T14:46:01.783Z"
   },
   {
    "duration": 11,
    "start_time": "2022-08-08T14:46:04.002Z"
   },
   {
    "duration": 13,
    "start_time": "2022-08-08T14:46:04.015Z"
   },
   {
    "duration": 12,
    "start_time": "2022-08-08T14:46:04.030Z"
   },
   {
    "duration": 6,
    "start_time": "2022-08-08T14:46:04.043Z"
   },
   {
    "duration": 11,
    "start_time": "2022-08-08T14:46:04.050Z"
   },
   {
    "duration": 77,
    "start_time": "2022-08-08T14:46:04.063Z"
   },
   {
    "duration": 16,
    "start_time": "2022-08-08T14:46:04.143Z"
   },
   {
    "duration": 41,
    "start_time": "2022-08-08T14:46:04.162Z"
   },
   {
    "duration": 12,
    "start_time": "2022-08-08T14:46:04.205Z"
   },
   {
    "duration": 17,
    "start_time": "2022-08-08T14:46:04.219Z"
   },
   {
    "duration": 13,
    "start_time": "2022-08-08T14:46:04.237Z"
   },
   {
    "duration": 21,
    "start_time": "2022-08-08T14:46:04.252Z"
   },
   {
    "duration": 18,
    "start_time": "2022-08-08T14:46:04.275Z"
   },
   {
    "duration": 7,
    "start_time": "2022-08-08T14:46:04.295Z"
   },
   {
    "duration": 6,
    "start_time": "2022-08-08T14:46:04.304Z"
   },
   {
    "duration": 38,
    "start_time": "2022-08-08T14:46:04.312Z"
   },
   {
    "duration": 60,
    "start_time": "2022-08-08T14:46:04.352Z"
   },
   {
    "duration": 61,
    "start_time": "2022-08-08T14:46:04.413Z"
   },
   {
    "duration": 15,
    "start_time": "2022-08-08T14:46:04.476Z"
   },
   {
    "duration": 7,
    "start_time": "2022-08-08T14:46:04.493Z"
   },
   {
    "duration": 12,
    "start_time": "2022-08-08T14:46:04.503Z"
   },
   {
    "duration": 44,
    "start_time": "2022-08-08T14:46:04.517Z"
   },
   {
    "duration": 61,
    "start_time": "2022-08-08T14:46:04.563Z"
   },
   {
    "duration": 5,
    "start_time": "2022-08-08T14:46:04.626Z"
   },
   {
    "duration": 363,
    "start_time": "2022-08-08T14:46:04.634Z"
   },
   {
    "duration": 13,
    "start_time": "2022-08-08T14:46:04.999Z"
   },
   {
    "duration": 4,
    "start_time": "2022-08-08T14:46:05.014Z"
   },
   {
    "duration": 241,
    "start_time": "2022-08-08T14:46:05.020Z"
   },
   {
    "duration": 12,
    "start_time": "2022-08-08T14:46:05.263Z"
   },
   {
    "duration": 60,
    "start_time": "2022-08-08T14:46:05.277Z"
   },
   {
    "duration": 87,
    "start_time": "2022-08-08T14:48:56.626Z"
   },
   {
    "duration": 84,
    "start_time": "2022-08-08T14:49:13.607Z"
   },
   {
    "duration": 1233,
    "start_time": "2022-08-08T14:49:18.593Z"
   },
   {
    "duration": 15,
    "start_time": "2022-08-08T14:49:29.097Z"
   },
   {
    "duration": 985,
    "start_time": "2022-08-08T20:39:58.087Z"
   },
   {
    "duration": 16,
    "start_time": "2022-08-08T20:39:59.075Z"
   },
   {
    "duration": 1876,
    "start_time": "2022-08-08T20:39:59.093Z"
   },
   {
    "duration": 10,
    "start_time": "2022-08-08T20:40:00.971Z"
   },
   {
    "duration": 18,
    "start_time": "2022-08-08T20:40:00.983Z"
   },
   {
    "duration": 8,
    "start_time": "2022-08-08T20:40:01.003Z"
   },
   {
    "duration": 25,
    "start_time": "2022-08-08T20:40:01.021Z"
   },
   {
    "duration": 30,
    "start_time": "2022-08-08T20:40:01.048Z"
   },
   {
    "duration": 42,
    "start_time": "2022-08-08T20:40:01.079Z"
   },
   {
    "duration": 12,
    "start_time": "2022-08-08T20:40:01.124Z"
   },
   {
    "duration": 39,
    "start_time": "2022-08-08T20:40:01.138Z"
   },
   {
    "duration": 15,
    "start_time": "2022-08-08T20:40:01.179Z"
   },
   {
    "duration": 21,
    "start_time": "2022-08-08T20:40:01.196Z"
   },
   {
    "duration": 21,
    "start_time": "2022-08-08T20:40:01.218Z"
   },
   {
    "duration": 39,
    "start_time": "2022-08-08T20:40:01.241Z"
   },
   {
    "duration": 15,
    "start_time": "2022-08-08T20:40:01.283Z"
   },
   {
    "duration": 21,
    "start_time": "2022-08-08T20:40:01.300Z"
   },
   {
    "duration": 8,
    "start_time": "2022-08-08T20:40:01.323Z"
   },
   {
    "duration": 42,
    "start_time": "2022-08-08T20:40:01.333Z"
   },
   {
    "duration": 27,
    "start_time": "2022-08-08T20:40:01.377Z"
   },
   {
    "duration": 54,
    "start_time": "2022-08-08T20:40:01.406Z"
   },
   {
    "duration": 8,
    "start_time": "2022-08-08T20:40:01.469Z"
   },
   {
    "duration": 13,
    "start_time": "2022-08-08T20:40:01.479Z"
   },
   {
    "duration": 18,
    "start_time": "2022-08-08T20:40:01.494Z"
   },
   {
    "duration": 45,
    "start_time": "2022-08-08T20:40:01.513Z"
   },
   {
    "duration": 31,
    "start_time": "2022-08-08T20:40:01.560Z"
   },
   {
    "duration": 4,
    "start_time": "2022-08-08T20:40:01.592Z"
   },
   {
    "duration": 328,
    "start_time": "2022-08-08T20:40:01.599Z"
   },
   {
    "duration": 11,
    "start_time": "2022-08-08T20:40:01.928Z"
   },
   {
    "duration": 14,
    "start_time": "2022-08-08T20:40:01.941Z"
   },
   {
    "duration": 196,
    "start_time": "2022-08-08T20:40:01.957Z"
   },
   {
    "duration": 14,
    "start_time": "2022-08-08T20:40:02.155Z"
   },
   {
    "duration": 41,
    "start_time": "2022-08-08T20:40:02.171Z"
   },
   {
    "duration": 8,
    "start_time": "2022-08-08T20:43:42.821Z"
   },
   {
    "duration": 99,
    "start_time": "2022-08-08T20:44:28.403Z"
   },
   {
    "duration": 11,
    "start_time": "2022-08-08T20:44:34.871Z"
   },
   {
    "duration": 6,
    "start_time": "2022-08-08T20:44:43.147Z"
   },
   {
    "duration": 10,
    "start_time": "2022-08-08T20:44:59.774Z"
   },
   {
    "duration": 787,
    "start_time": "2022-08-08T20:45:40.436Z"
   },
   {
    "duration": 15,
    "start_time": "2022-08-08T20:45:41.225Z"
   },
   {
    "duration": 1903,
    "start_time": "2022-08-08T20:45:41.242Z"
   },
   {
    "duration": 9,
    "start_time": "2022-08-08T20:45:43.148Z"
   },
   {
    "duration": 23,
    "start_time": "2022-08-08T20:45:43.159Z"
   },
   {
    "duration": 7,
    "start_time": "2022-08-08T20:45:43.184Z"
   },
   {
    "duration": 9,
    "start_time": "2022-08-08T20:45:43.192Z"
   },
   {
    "duration": 14,
    "start_time": "2022-08-08T20:45:43.202Z"
   },
   {
    "duration": 44,
    "start_time": "2022-08-08T20:45:43.217Z"
   },
   {
    "duration": 14,
    "start_time": "2022-08-08T20:45:43.267Z"
   },
   {
    "duration": 19,
    "start_time": "2022-08-08T20:45:43.282Z"
   },
   {
    "duration": 9,
    "start_time": "2022-08-08T20:45:43.302Z"
   },
   {
    "duration": 13,
    "start_time": "2022-08-08T20:45:43.312Z"
   },
   {
    "duration": 17,
    "start_time": "2022-08-08T20:45:43.327Z"
   },
   {
    "duration": 28,
    "start_time": "2022-08-08T20:45:43.346Z"
   },
   {
    "duration": 10,
    "start_time": "2022-08-08T20:45:43.376Z"
   },
   {
    "duration": 5,
    "start_time": "2022-08-08T20:45:43.388Z"
   },
   {
    "duration": 6,
    "start_time": "2022-08-08T20:45:43.395Z"
   },
   {
    "duration": 26,
    "start_time": "2022-08-08T20:45:43.403Z"
   },
   {
    "duration": 57,
    "start_time": "2022-08-08T20:45:43.430Z"
   },
   {
    "duration": 39,
    "start_time": "2022-08-08T20:45:43.489Z"
   },
   {
    "duration": 31,
    "start_time": "2022-08-08T20:45:43.530Z"
   },
   {
    "duration": 22,
    "start_time": "2022-08-08T20:45:43.565Z"
   },
   {
    "duration": 13,
    "start_time": "2022-08-08T20:45:43.589Z"
   },
   {
    "duration": 43,
    "start_time": "2022-08-08T20:45:43.604Z"
   },
   {
    "duration": 38,
    "start_time": "2022-08-08T20:45:43.649Z"
   },
   {
    "duration": 4,
    "start_time": "2022-08-08T20:45:43.689Z"
   },
   {
    "duration": 331,
    "start_time": "2022-08-08T20:45:43.695Z"
   },
   {
    "duration": 11,
    "start_time": "2022-08-08T20:45:44.028Z"
   },
   {
    "duration": 3,
    "start_time": "2022-08-08T20:45:44.041Z"
   },
   {
    "duration": 193,
    "start_time": "2022-08-08T20:45:44.055Z"
   },
   {
    "duration": 14,
    "start_time": "2022-08-08T20:45:44.254Z"
   },
   {
    "duration": 44,
    "start_time": "2022-08-08T20:45:44.270Z"
   },
   {
    "duration": 13,
    "start_time": "2022-08-08T20:47:40.992Z"
   },
   {
    "duration": 21,
    "start_time": "2022-08-08T23:31:42.613Z"
   },
   {
    "duration": 14,
    "start_time": "2022-08-08T23:34:56.458Z"
   },
   {
    "duration": 4,
    "start_time": "2022-08-08T23:48:36.618Z"
   },
   {
    "duration": 8,
    "start_time": "2022-08-08T23:49:34.855Z"
   },
   {
    "duration": 3,
    "start_time": "2022-08-08T23:52:39.714Z"
   },
   {
    "duration": 5,
    "start_time": "2022-08-08T23:52:46.352Z"
   },
   {
    "duration": 5,
    "start_time": "2022-08-08T23:52:47.509Z"
   },
   {
    "duration": 5,
    "start_time": "2022-08-08T23:53:11.478Z"
   },
   {
    "duration": 5,
    "start_time": "2022-08-08T23:53:54.041Z"
   },
   {
    "duration": 61,
    "start_time": "2022-08-08T23:55:51.622Z"
   },
   {
    "duration": 4,
    "start_time": "2022-08-08T23:55:59.150Z"
   },
   {
    "duration": 5,
    "start_time": "2022-08-08T23:55:59.653Z"
   },
   {
    "duration": 7,
    "start_time": "2022-08-08T23:56:09.543Z"
   },
   {
    "duration": 6,
    "start_time": "2022-08-08T23:56:47.380Z"
   },
   {
    "duration": 6,
    "start_time": "2022-08-08T23:58:42.905Z"
   },
   {
    "duration": 5,
    "start_time": "2022-08-08T23:59:13.827Z"
   },
   {
    "duration": 7,
    "start_time": "2022-08-08T23:59:28.594Z"
   },
   {
    "duration": 6,
    "start_time": "2022-08-09T00:00:27.176Z"
   },
   {
    "duration": 4,
    "start_time": "2022-08-09T00:00:34.490Z"
   },
   {
    "duration": 4,
    "start_time": "2022-08-09T00:00:40.969Z"
   },
   {
    "duration": 3,
    "start_time": "2022-08-09T00:00:43.341Z"
   },
   {
    "duration": 7,
    "start_time": "2022-08-09T00:00:51.323Z"
   },
   {
    "duration": 4,
    "start_time": "2022-08-09T00:00:51.881Z"
   },
   {
    "duration": 3,
    "start_time": "2022-08-09T00:01:04.661Z"
   },
   {
    "duration": 675,
    "start_time": "2022-08-09T00:01:52.951Z"
   },
   {
    "duration": 14,
    "start_time": "2022-08-09T00:01:53.628Z"
   },
   {
    "duration": 1702,
    "start_time": "2022-08-09T00:01:53.643Z"
   },
   {
    "duration": 7,
    "start_time": "2022-08-09T00:01:55.347Z"
   },
   {
    "duration": 6,
    "start_time": "2022-08-09T00:01:55.356Z"
   },
   {
    "duration": 6,
    "start_time": "2022-08-09T00:01:55.364Z"
   },
   {
    "duration": 4,
    "start_time": "2022-08-09T00:01:55.371Z"
   },
   {
    "duration": 10,
    "start_time": "2022-08-09T00:01:55.376Z"
   },
   {
    "duration": 37,
    "start_time": "2022-08-09T00:01:55.387Z"
   },
   {
    "duration": 28,
    "start_time": "2022-08-09T00:01:55.427Z"
   },
   {
    "duration": 16,
    "start_time": "2022-08-09T00:01:55.456Z"
   },
   {
    "duration": 8,
    "start_time": "2022-08-09T00:01:55.474Z"
   },
   {
    "duration": 11,
    "start_time": "2022-08-09T00:01:55.484Z"
   },
   {
    "duration": 7,
    "start_time": "2022-08-09T00:01:55.497Z"
   },
   {
    "duration": 15,
    "start_time": "2022-08-09T00:01:55.505Z"
   },
   {
    "duration": 8,
    "start_time": "2022-08-09T00:01:55.521Z"
   },
   {
    "duration": 28,
    "start_time": "2022-08-09T00:01:55.530Z"
   },
   {
    "duration": 7,
    "start_time": "2022-08-09T00:01:55.560Z"
   },
   {
    "duration": 38,
    "start_time": "2022-08-09T00:01:55.569Z"
   },
   {
    "duration": 36,
    "start_time": "2022-08-09T00:01:55.608Z"
   },
   {
    "duration": 35,
    "start_time": "2022-08-09T00:01:55.645Z"
   },
   {
    "duration": 5,
    "start_time": "2022-08-09T00:01:55.682Z"
   },
   {
    "duration": 20,
    "start_time": "2022-08-09T00:01:55.688Z"
   },
   {
    "duration": 14,
    "start_time": "2022-08-09T00:01:55.710Z"
   },
   {
    "duration": 36,
    "start_time": "2022-08-09T00:01:55.725Z"
   },
   {
    "duration": 25,
    "start_time": "2022-08-09T00:01:55.763Z"
   },
   {
    "duration": 4,
    "start_time": "2022-08-09T00:01:55.789Z"
   },
   {
    "duration": 295,
    "start_time": "2022-08-09T00:01:55.795Z"
   },
   {
    "duration": 11,
    "start_time": "2022-08-09T00:01:56.092Z"
   },
   {
    "duration": 6,
    "start_time": "2022-08-09T00:01:56.104Z"
   },
   {
    "duration": 179,
    "start_time": "2022-08-09T00:01:56.111Z"
   },
   {
    "duration": 9,
    "start_time": "2022-08-09T00:01:56.291Z"
   },
   {
    "duration": 26,
    "start_time": "2022-08-09T00:01:56.302Z"
   },
   {
    "duration": 27,
    "start_time": "2022-08-09T00:01:56.329Z"
   },
   {
    "duration": 8,
    "start_time": "2022-08-09T00:04:35.093Z"
   },
   {
    "duration": 21,
    "start_time": "2022-08-09T00:04:50.427Z"
   },
   {
    "duration": 9,
    "start_time": "2022-08-09T00:07:15.047Z"
   },
   {
    "duration": 64,
    "start_time": "2022-08-09T00:12:39.102Z"
   },
   {
    "duration": 4,
    "start_time": "2022-08-09T00:12:49.748Z"
   },
   {
    "duration": 6,
    "start_time": "2022-08-09T00:18:24.949Z"
   },
   {
    "duration": 5,
    "start_time": "2022-08-09T00:19:31.053Z"
   },
   {
    "duration": 12,
    "start_time": "2022-08-09T00:19:42.702Z"
   },
   {
    "duration": 668,
    "start_time": "2022-08-09T00:19:51.866Z"
   },
   {
    "duration": 13,
    "start_time": "2022-08-09T00:19:52.536Z"
   },
   {
    "duration": 1658,
    "start_time": "2022-08-09T00:19:52.555Z"
   },
   {
    "duration": 9,
    "start_time": "2022-08-09T00:19:54.215Z"
   },
   {
    "duration": 8,
    "start_time": "2022-08-09T00:19:54.225Z"
   },
   {
    "duration": 13,
    "start_time": "2022-08-09T00:19:54.234Z"
   },
   {
    "duration": 6,
    "start_time": "2022-08-09T00:19:54.248Z"
   },
   {
    "duration": 10,
    "start_time": "2022-08-09T00:19:54.256Z"
   },
   {
    "duration": 40,
    "start_time": "2022-08-09T00:19:54.267Z"
   },
   {
    "duration": 12,
    "start_time": "2022-08-09T00:19:54.309Z"
   },
   {
    "duration": 20,
    "start_time": "2022-08-09T00:19:54.322Z"
   },
   {
    "duration": 17,
    "start_time": "2022-08-09T00:19:54.344Z"
   },
   {
    "duration": 15,
    "start_time": "2022-08-09T00:19:54.363Z"
   },
   {
    "duration": 7,
    "start_time": "2022-08-09T00:19:54.379Z"
   },
   {
    "duration": 17,
    "start_time": "2022-08-09T00:19:54.388Z"
   },
   {
    "duration": 7,
    "start_time": "2022-08-09T00:19:54.406Z"
   },
   {
    "duration": 8,
    "start_time": "2022-08-09T00:19:54.414Z"
   },
   {
    "duration": 3,
    "start_time": "2022-08-09T00:19:54.423Z"
   },
   {
    "duration": 33,
    "start_time": "2022-08-09T00:19:54.455Z"
   },
   {
    "duration": 26,
    "start_time": "2022-08-09T00:19:54.489Z"
   },
   {
    "duration": 49,
    "start_time": "2022-08-09T00:19:54.516Z"
   },
   {
    "duration": 5,
    "start_time": "2022-08-09T00:19:54.567Z"
   },
   {
    "duration": 8,
    "start_time": "2022-08-09T00:19:54.573Z"
   },
   {
    "duration": 9,
    "start_time": "2022-08-09T00:19:54.582Z"
   },
   {
    "duration": 37,
    "start_time": "2022-08-09T00:19:54.592Z"
   },
   {
    "duration": 40,
    "start_time": "2022-08-09T00:19:54.631Z"
   },
   {
    "duration": 4,
    "start_time": "2022-08-09T00:19:54.672Z"
   },
   {
    "duration": 306,
    "start_time": "2022-08-09T00:19:54.679Z"
   },
   {
    "duration": 11,
    "start_time": "2022-08-09T00:19:54.986Z"
   },
   {
    "duration": 6,
    "start_time": "2022-08-09T00:19:54.999Z"
   },
   {
    "duration": 185,
    "start_time": "2022-08-09T00:19:55.006Z"
   },
   {
    "duration": 10,
    "start_time": "2022-08-09T00:19:55.193Z"
   },
   {
    "duration": 14,
    "start_time": "2022-08-09T00:19:55.204Z"
   },
   {
    "duration": 39,
    "start_time": "2022-08-09T00:19:55.220Z"
   },
   {
    "duration": 36,
    "start_time": "2022-08-09T00:34:37.717Z"
   },
   {
    "duration": 740,
    "start_time": "2022-08-09T00:34:46.728Z"
   },
   {
    "duration": 14,
    "start_time": "2022-08-09T00:34:47.470Z"
   },
   {
    "duration": 1671,
    "start_time": "2022-08-09T00:34:47.486Z"
   },
   {
    "duration": 10,
    "start_time": "2022-08-09T00:34:49.159Z"
   },
   {
    "duration": 9,
    "start_time": "2022-08-09T00:34:49.170Z"
   },
   {
    "duration": 7,
    "start_time": "2022-08-09T00:34:49.181Z"
   },
   {
    "duration": 5,
    "start_time": "2022-08-09T00:34:49.189Z"
   },
   {
    "duration": 9,
    "start_time": "2022-08-09T00:34:49.196Z"
   },
   {
    "duration": 63,
    "start_time": "2022-08-09T00:34:49.206Z"
   },
   {
    "duration": 12,
    "start_time": "2022-08-09T00:34:49.271Z"
   },
   {
    "duration": 18,
    "start_time": "2022-08-09T00:34:49.285Z"
   },
   {
    "duration": 10,
    "start_time": "2022-08-09T00:34:49.304Z"
   },
   {
    "duration": 10,
    "start_time": "2022-08-09T00:34:49.315Z"
   },
   {
    "duration": 28,
    "start_time": "2022-08-09T00:34:49.327Z"
   },
   {
    "duration": 32,
    "start_time": "2022-08-09T00:34:49.357Z"
   },
   {
    "duration": 79,
    "start_time": "2022-08-09T00:34:49.390Z"
   },
   {
    "duration": 0,
    "start_time": "2022-08-09T00:34:49.471Z"
   },
   {
    "duration": 0,
    "start_time": "2022-08-09T00:34:49.472Z"
   },
   {
    "duration": 0,
    "start_time": "2022-08-09T00:34:49.473Z"
   },
   {
    "duration": 0,
    "start_time": "2022-08-09T00:34:49.474Z"
   },
   {
    "duration": 0,
    "start_time": "2022-08-09T00:34:49.475Z"
   },
   {
    "duration": 0,
    "start_time": "2022-08-09T00:34:49.475Z"
   },
   {
    "duration": 0,
    "start_time": "2022-08-09T00:34:49.476Z"
   },
   {
    "duration": 0,
    "start_time": "2022-08-09T00:34:49.477Z"
   },
   {
    "duration": 0,
    "start_time": "2022-08-09T00:34:49.478Z"
   },
   {
    "duration": 0,
    "start_time": "2022-08-09T00:34:49.479Z"
   },
   {
    "duration": 0,
    "start_time": "2022-08-09T00:34:49.480Z"
   },
   {
    "duration": 0,
    "start_time": "2022-08-09T00:34:49.481Z"
   },
   {
    "duration": 0,
    "start_time": "2022-08-09T00:34:49.481Z"
   },
   {
    "duration": 0,
    "start_time": "2022-08-09T00:34:49.482Z"
   },
   {
    "duration": 0,
    "start_time": "2022-08-09T00:34:49.483Z"
   },
   {
    "duration": 0,
    "start_time": "2022-08-09T00:34:49.484Z"
   },
   {
    "duration": 0,
    "start_time": "2022-08-09T00:34:49.485Z"
   },
   {
    "duration": 0,
    "start_time": "2022-08-09T00:34:49.485Z"
   },
   {
    "duration": 0,
    "start_time": "2022-08-09T00:34:49.486Z"
   },
   {
    "duration": 1,
    "start_time": "2022-08-09T00:34:49.487Z"
   },
   {
    "duration": 709,
    "start_time": "2022-08-09T00:35:11.448Z"
   },
   {
    "duration": 15,
    "start_time": "2022-08-09T00:35:12.159Z"
   },
   {
    "duration": 1638,
    "start_time": "2022-08-09T00:35:12.175Z"
   },
   {
    "duration": 9,
    "start_time": "2022-08-09T00:35:13.815Z"
   },
   {
    "duration": 7,
    "start_time": "2022-08-09T00:35:13.826Z"
   },
   {
    "duration": 6,
    "start_time": "2022-08-09T00:35:13.835Z"
   },
   {
    "duration": 14,
    "start_time": "2022-08-09T00:35:13.843Z"
   },
   {
    "duration": 9,
    "start_time": "2022-08-09T00:35:13.858Z"
   },
   {
    "duration": 39,
    "start_time": "2022-08-09T00:35:13.868Z"
   },
   {
    "duration": 11,
    "start_time": "2022-08-09T00:35:13.910Z"
   },
   {
    "duration": 40,
    "start_time": "2022-08-09T00:35:13.923Z"
   },
   {
    "duration": 8,
    "start_time": "2022-08-09T00:35:13.965Z"
   },
   {
    "duration": 8,
    "start_time": "2022-08-09T00:35:13.975Z"
   },
   {
    "duration": 7,
    "start_time": "2022-08-09T00:35:13.985Z"
   },
   {
    "duration": 31,
    "start_time": "2022-08-09T00:35:13.993Z"
   },
   {
    "duration": 37,
    "start_time": "2022-08-09T00:35:14.025Z"
   },
   {
    "duration": 6,
    "start_time": "2022-08-09T00:35:14.063Z"
   },
   {
    "duration": 7,
    "start_time": "2022-08-09T00:35:14.070Z"
   },
   {
    "duration": 4,
    "start_time": "2022-08-09T00:35:14.078Z"
   },
   {
    "duration": 24,
    "start_time": "2022-08-09T00:35:14.083Z"
   },
   {
    "duration": 24,
    "start_time": "2022-08-09T00:35:14.108Z"
   },
   {
    "duration": 36,
    "start_time": "2022-08-09T00:35:14.154Z"
   },
   {
    "duration": 5,
    "start_time": "2022-08-09T00:35:14.191Z"
   },
   {
    "duration": 7,
    "start_time": "2022-08-09T00:35:14.197Z"
   },
   {
    "duration": 9,
    "start_time": "2022-08-09T00:35:14.205Z"
   },
   {
    "duration": 54,
    "start_time": "2022-08-09T00:35:14.216Z"
   },
   {
    "duration": 26,
    "start_time": "2022-08-09T00:35:14.272Z"
   },
   {
    "duration": 3,
    "start_time": "2022-08-09T00:35:14.301Z"
   },
   {
    "duration": 310,
    "start_time": "2022-08-09T00:35:14.305Z"
   },
   {
    "duration": 10,
    "start_time": "2022-08-09T00:35:14.616Z"
   },
   {
    "duration": 3,
    "start_time": "2022-08-09T00:35:14.628Z"
   },
   {
    "duration": 189,
    "start_time": "2022-08-09T00:35:14.633Z"
   },
   {
    "duration": 9,
    "start_time": "2022-08-09T00:35:14.823Z"
   },
   {
    "duration": 25,
    "start_time": "2022-08-09T00:35:14.834Z"
   },
   {
    "duration": 21,
    "start_time": "2022-08-09T00:35:14.860Z"
   },
   {
    "duration": 5,
    "start_time": "2022-08-09T00:39:28.564Z"
   },
   {
    "duration": 75,
    "start_time": "2022-08-09T00:41:44.657Z"
   },
   {
    "duration": 5,
    "start_time": "2022-08-09T00:44:13.434Z"
   },
   {
    "duration": 5,
    "start_time": "2022-08-09T00:44:38.581Z"
   },
   {
    "duration": 11,
    "start_time": "2022-08-09T01:02:02.473Z"
   },
   {
    "duration": 4,
    "start_time": "2022-08-09T01:20:07.160Z"
   },
   {
    "duration": 674,
    "start_time": "2022-08-09T01:20:15.818Z"
   },
   {
    "duration": 14,
    "start_time": "2022-08-09T01:20:16.494Z"
   },
   {
    "duration": 1704,
    "start_time": "2022-08-09T01:20:16.509Z"
   },
   {
    "duration": 8,
    "start_time": "2022-08-09T01:20:18.215Z"
   },
   {
    "duration": 6,
    "start_time": "2022-08-09T01:20:18.225Z"
   },
   {
    "duration": 5,
    "start_time": "2022-08-09T01:20:18.233Z"
   },
   {
    "duration": 5,
    "start_time": "2022-08-09T01:20:18.239Z"
   },
   {
    "duration": 11,
    "start_time": "2022-08-09T01:20:18.245Z"
   },
   {
    "duration": 39,
    "start_time": "2022-08-09T01:20:18.258Z"
   },
   {
    "duration": 12,
    "start_time": "2022-08-09T01:20:18.300Z"
   },
   {
    "duration": 18,
    "start_time": "2022-08-09T01:20:18.313Z"
   },
   {
    "duration": 28,
    "start_time": "2022-08-09T01:20:18.332Z"
   },
   {
    "duration": 6,
    "start_time": "2022-08-09T01:20:18.362Z"
   },
   {
    "duration": 8,
    "start_time": "2022-08-09T01:20:18.370Z"
   },
   {
    "duration": 10,
    "start_time": "2022-08-09T01:20:18.379Z"
   },
   {
    "duration": 15,
    "start_time": "2022-08-09T01:20:18.391Z"
   },
   {
    "duration": 5,
    "start_time": "2022-08-09T01:20:18.407Z"
   },
   {
    "duration": 7,
    "start_time": "2022-08-09T01:20:18.413Z"
   },
   {
    "duration": 35,
    "start_time": "2022-08-09T01:20:18.421Z"
   },
   {
    "duration": 6,
    "start_time": "2022-08-09T01:20:18.457Z"
   },
   {
    "duration": 5,
    "start_time": "2022-08-09T01:20:18.464Z"
   },
   {
    "duration": 25,
    "start_time": "2022-08-09T01:20:18.470Z"
   },
   {
    "duration": 25,
    "start_time": "2022-08-09T01:20:18.496Z"
   },
   {
    "duration": 48,
    "start_time": "2022-08-09T01:20:18.522Z"
   },
   {
    "duration": 4,
    "start_time": "2022-08-09T01:20:18.571Z"
   },
   {
    "duration": 12,
    "start_time": "2022-08-09T01:20:18.576Z"
   },
   {
    "duration": 10,
    "start_time": "2022-08-09T01:20:18.589Z"
   },
   {
    "duration": 16,
    "start_time": "2022-08-09T01:20:18.602Z"
   },
   {
    "duration": 41,
    "start_time": "2022-08-09T01:20:18.620Z"
   },
   {
    "duration": 27,
    "start_time": "2022-08-09T01:20:18.662Z"
   },
   {
    "duration": 4,
    "start_time": "2022-08-09T01:20:18.690Z"
   },
   {
    "duration": 288,
    "start_time": "2022-08-09T01:20:18.695Z"
   },
   {
    "duration": 11,
    "start_time": "2022-08-09T01:20:18.985Z"
   },
   {
    "duration": 14,
    "start_time": "2022-08-09T01:20:18.997Z"
   },
   {
    "duration": 193,
    "start_time": "2022-08-09T01:20:19.012Z"
   },
   {
    "duration": 9,
    "start_time": "2022-08-09T01:20:19.206Z"
   },
   {
    "duration": 24,
    "start_time": "2022-08-09T01:20:19.216Z"
   },
   {
    "duration": 22,
    "start_time": "2022-08-09T01:20:19.241Z"
   },
   {
    "duration": 9,
    "start_time": "2022-08-09T01:21:14.652Z"
   },
   {
    "duration": 5,
    "start_time": "2022-08-09T01:22:22.686Z"
   },
   {
    "duration": 6,
    "start_time": "2022-08-09T01:22:31.278Z"
   },
   {
    "duration": 703,
    "start_time": "2022-08-09T01:23:10.830Z"
   },
   {
    "duration": 21,
    "start_time": "2022-08-09T01:23:11.535Z"
   },
   {
    "duration": 1663,
    "start_time": "2022-08-09T01:23:11.558Z"
   },
   {
    "duration": 8,
    "start_time": "2022-08-09T01:23:13.223Z"
   },
   {
    "duration": 6,
    "start_time": "2022-08-09T01:23:13.232Z"
   },
   {
    "duration": 7,
    "start_time": "2022-08-09T01:23:13.239Z"
   },
   {
    "duration": 4,
    "start_time": "2022-08-09T01:23:13.247Z"
   },
   {
    "duration": 8,
    "start_time": "2022-08-09T01:23:13.255Z"
   },
   {
    "duration": 39,
    "start_time": "2022-08-09T01:23:13.264Z"
   },
   {
    "duration": 11,
    "start_time": "2022-08-09T01:23:13.306Z"
   },
   {
    "duration": 37,
    "start_time": "2022-08-09T01:23:13.318Z"
   },
   {
    "duration": 10,
    "start_time": "2022-08-09T01:23:13.357Z"
   },
   {
    "duration": 10,
    "start_time": "2022-08-09T01:23:13.368Z"
   },
   {
    "duration": 7,
    "start_time": "2022-08-09T01:23:13.379Z"
   },
   {
    "duration": 13,
    "start_time": "2022-08-09T01:23:13.388Z"
   },
   {
    "duration": 16,
    "start_time": "2022-08-09T01:23:13.402Z"
   },
   {
    "duration": 4,
    "start_time": "2022-08-09T01:23:13.419Z"
   },
   {
    "duration": 34,
    "start_time": "2022-08-09T01:23:13.425Z"
   },
   {
    "duration": 5,
    "start_time": "2022-08-09T01:23:13.461Z"
   },
   {
    "duration": 6,
    "start_time": "2022-08-09T01:23:13.467Z"
   },
   {
    "duration": 3,
    "start_time": "2022-08-09T01:23:13.474Z"
   },
   {
    "duration": 28,
    "start_time": "2022-08-09T01:23:13.478Z"
   },
   {
    "duration": 48,
    "start_time": "2022-08-09T01:23:13.507Z"
   },
   {
    "duration": 26,
    "start_time": "2022-08-09T01:23:13.556Z"
   },
   {
    "duration": 4,
    "start_time": "2022-08-09T01:23:13.583Z"
   },
   {
    "duration": 8,
    "start_time": "2022-08-09T01:23:13.593Z"
   },
   {
    "duration": 9,
    "start_time": "2022-08-09T01:23:13.602Z"
   },
   {
    "duration": 11,
    "start_time": "2022-08-09T01:23:13.613Z"
   },
   {
    "duration": 51,
    "start_time": "2022-08-09T01:23:13.625Z"
   },
   {
    "duration": 24,
    "start_time": "2022-08-09T01:23:13.677Z"
   },
   {
    "duration": 4,
    "start_time": "2022-08-09T01:23:13.702Z"
   },
   {
    "duration": 295,
    "start_time": "2022-08-09T01:23:13.707Z"
   },
   {
    "duration": 11,
    "start_time": "2022-08-09T01:23:14.004Z"
   },
   {
    "duration": 3,
    "start_time": "2022-08-09T01:23:14.016Z"
   },
   {
    "duration": 174,
    "start_time": "2022-08-09T01:23:14.020Z"
   },
   {
    "duration": 10,
    "start_time": "2022-08-09T01:23:14.195Z"
   },
   {
    "duration": 14,
    "start_time": "2022-08-09T01:23:14.206Z"
   },
   {
    "duration": 39,
    "start_time": "2022-08-09T01:23:14.221Z"
   },
   {
    "duration": 9,
    "start_time": "2022-08-09T01:27:36.088Z"
   },
   {
    "duration": 9,
    "start_time": "2022-08-09T01:36:09.501Z"
   },
   {
    "duration": 15,
    "start_time": "2022-08-09T01:36:36.776Z"
   },
   {
    "duration": 622,
    "start_time": "2022-08-09T01:37:48.798Z"
   },
   {
    "duration": 16,
    "start_time": "2022-08-09T01:37:49.422Z"
   },
   {
    "duration": 1866,
    "start_time": "2022-08-09T01:37:49.439Z"
   },
   {
    "duration": 8,
    "start_time": "2022-08-09T01:37:51.307Z"
   },
   {
    "duration": 7,
    "start_time": "2022-08-09T01:37:51.317Z"
   },
   {
    "duration": 6,
    "start_time": "2022-08-09T01:37:51.325Z"
   },
   {
    "duration": 4,
    "start_time": "2022-08-09T01:37:51.333Z"
   },
   {
    "duration": 11,
    "start_time": "2022-08-09T01:37:51.338Z"
   },
   {
    "duration": 43,
    "start_time": "2022-08-09T01:37:51.350Z"
   },
   {
    "duration": 11,
    "start_time": "2022-08-09T01:37:51.395Z"
   },
   {
    "duration": 20,
    "start_time": "2022-08-09T01:37:51.408Z"
   },
   {
    "duration": 8,
    "start_time": "2022-08-09T01:37:51.430Z"
   },
   {
    "duration": 21,
    "start_time": "2022-08-09T01:37:51.439Z"
   },
   {
    "duration": 7,
    "start_time": "2022-08-09T01:37:51.461Z"
   },
   {
    "duration": 9,
    "start_time": "2022-08-09T01:37:51.470Z"
   },
   {
    "duration": 17,
    "start_time": "2022-08-09T01:37:51.481Z"
   },
   {
    "duration": 6,
    "start_time": "2022-08-09T01:37:51.499Z"
   },
   {
    "duration": 9,
    "start_time": "2022-08-09T01:37:51.507Z"
   },
   {
    "duration": 40,
    "start_time": "2022-08-09T01:37:51.518Z"
   },
   {
    "duration": 7,
    "start_time": "2022-08-09T01:37:51.560Z"
   },
   {
    "duration": 3,
    "start_time": "2022-08-09T01:37:51.568Z"
   },
   {
    "duration": 26,
    "start_time": "2022-08-09T01:37:51.573Z"
   },
   {
    "duration": 25,
    "start_time": "2022-08-09T01:37:51.601Z"
   },
   {
    "duration": 52,
    "start_time": "2022-08-09T01:37:51.627Z"
   },
   {
    "duration": 4,
    "start_time": "2022-08-09T01:37:51.681Z"
   },
   {
    "duration": 8,
    "start_time": "2022-08-09T01:37:51.686Z"
   },
   {
    "duration": 7,
    "start_time": "2022-08-09T01:37:51.695Z"
   },
   {
    "duration": 10,
    "start_time": "2022-08-09T01:37:51.704Z"
   },
   {
    "duration": 3,
    "start_time": "2022-08-09T01:37:51.715Z"
   },
   {
    "duration": 300,
    "start_time": "2022-08-09T01:37:51.720Z"
   },
   {
    "duration": 10,
    "start_time": "2022-08-09T01:37:52.022Z"
   },
   {
    "duration": 4,
    "start_time": "2022-08-09T01:37:52.033Z"
   },
   {
    "duration": 19,
    "start_time": "2022-08-09T01:37:52.038Z"
   },
   {
    "duration": 14,
    "start_time": "2022-08-09T01:37:52.058Z"
   },
   {
    "duration": 182,
    "start_time": "2022-08-09T01:37:52.073Z"
   },
   {
    "duration": 8,
    "start_time": "2022-08-09T01:50:57.090Z"
   },
   {
    "duration": 36,
    "start_time": "2022-08-09T01:52:49.918Z"
   },
   {
    "duration": 19,
    "start_time": "2022-08-09T01:53:43.521Z"
   },
   {
    "duration": 25714,
    "start_time": "2022-08-09T01:55:15.965Z"
   },
   {
    "duration": 5,
    "start_time": "2022-08-09T01:56:36.068Z"
   },
   {
    "duration": 5,
    "start_time": "2022-08-09T01:58:21.535Z"
   },
   {
    "duration": 210,
    "start_time": "2022-08-09T02:01:26.095Z"
   },
   {
    "duration": 10,
    "start_time": "2022-08-09T02:05:35.281Z"
   },
   {
    "duration": 11,
    "start_time": "2022-08-09T02:06:39.998Z"
   },
   {
    "duration": 14,
    "start_time": "2022-08-09T02:06:56.751Z"
   },
   {
    "duration": 8,
    "start_time": "2022-08-09T02:08:06.380Z"
   },
   {
    "duration": 11,
    "start_time": "2022-08-09T02:08:40.659Z"
   },
   {
    "duration": 97,
    "start_time": "2022-08-09T02:09:46.947Z"
   },
   {
    "duration": 8,
    "start_time": "2022-08-09T02:09:59.851Z"
   },
   {
    "duration": 15,
    "start_time": "2022-08-09T02:13:28.911Z"
   },
   {
    "duration": 9,
    "start_time": "2022-08-09T02:13:55.217Z"
   },
   {
    "duration": 9,
    "start_time": "2022-08-09T02:14:23.660Z"
   },
   {
    "duration": 7,
    "start_time": "2022-08-09T02:14:40.068Z"
   },
   {
    "duration": 7,
    "start_time": "2022-08-09T02:14:49.468Z"
   },
   {
    "duration": 9,
    "start_time": "2022-08-09T02:15:07.890Z"
   },
   {
    "duration": 7,
    "start_time": "2022-08-09T02:15:49.578Z"
   },
   {
    "duration": 12,
    "start_time": "2022-08-09T02:15:53.935Z"
   },
   {
    "duration": 16,
    "start_time": "2022-08-09T02:15:59.179Z"
   },
   {
    "duration": 5,
    "start_time": "2022-08-09T02:16:50.991Z"
   },
   {
    "duration": 5,
    "start_time": "2022-08-09T02:17:02.369Z"
   },
   {
    "duration": 9,
    "start_time": "2022-08-09T02:18:21.951Z"
   },
   {
    "duration": 1632,
    "start_time": "2022-08-09T02:29:22.035Z"
   },
   {
    "duration": 112,
    "start_time": "2022-08-09T02:29:41.826Z"
   },
   {
    "duration": 8,
    "start_time": "2022-08-09T02:31:57.930Z"
   },
   {
    "duration": 96,
    "start_time": "2022-08-09T02:33:25.397Z"
   },
   {
    "duration": 99,
    "start_time": "2022-08-09T02:33:39.282Z"
   },
   {
    "duration": 6,
    "start_time": "2022-08-09T02:38:40.016Z"
   },
   {
    "duration": 5,
    "start_time": "2022-08-09T02:38:58.583Z"
   },
   {
    "duration": 30,
    "start_time": "2022-08-09T02:39:21.966Z"
   },
   {
    "duration": 20,
    "start_time": "2022-08-09T02:42:22.875Z"
   },
   {
    "duration": 29,
    "start_time": "2022-08-09T02:49:23.095Z"
   },
   {
    "duration": 9,
    "start_time": "2022-08-09T02:53:49.041Z"
   },
   {
    "duration": 9,
    "start_time": "2022-08-09T02:53:59.010Z"
   },
   {
    "duration": 6,
    "start_time": "2022-08-09T02:54:19.740Z"
   },
   {
    "duration": 133,
    "start_time": "2022-08-09T02:59:51.657Z"
   },
   {
    "duration": 4,
    "start_time": "2022-08-09T03:25:04.681Z"
   },
   {
    "duration": 627,
    "start_time": "2022-08-09T03:27:18.817Z"
   },
   {
    "duration": 16,
    "start_time": "2022-08-09T03:27:19.446Z"
   },
   {
    "duration": 1662,
    "start_time": "2022-08-09T03:27:19.463Z"
   },
   {
    "duration": 8,
    "start_time": "2022-08-09T03:27:21.127Z"
   },
   {
    "duration": 6,
    "start_time": "2022-08-09T03:27:21.137Z"
   },
   {
    "duration": 7,
    "start_time": "2022-08-09T03:27:21.144Z"
   },
   {
    "duration": 5,
    "start_time": "2022-08-09T03:27:21.152Z"
   },
   {
    "duration": 16,
    "start_time": "2022-08-09T03:27:21.158Z"
   },
   {
    "duration": 42,
    "start_time": "2022-08-09T03:27:21.175Z"
   },
   {
    "duration": 14,
    "start_time": "2022-08-09T03:27:21.219Z"
   },
   {
    "duration": 33,
    "start_time": "2022-08-09T03:27:21.234Z"
   },
   {
    "duration": 9,
    "start_time": "2022-08-09T03:27:21.269Z"
   },
   {
    "duration": 9,
    "start_time": "2022-08-09T03:27:21.279Z"
   },
   {
    "duration": 7,
    "start_time": "2022-08-09T03:27:21.289Z"
   },
   {
    "duration": 12,
    "start_time": "2022-08-09T03:27:21.298Z"
   },
   {
    "duration": 16,
    "start_time": "2022-08-09T03:27:21.311Z"
   },
   {
    "duration": 28,
    "start_time": "2022-08-09T03:27:21.328Z"
   },
   {
    "duration": 12,
    "start_time": "2022-08-09T03:27:21.357Z"
   },
   {
    "duration": 16,
    "start_time": "2022-08-09T03:27:21.371Z"
   },
   {
    "duration": 6,
    "start_time": "2022-08-09T03:27:21.389Z"
   },
   {
    "duration": 9,
    "start_time": "2022-08-09T03:27:21.396Z"
   },
   {
    "duration": 11,
    "start_time": "2022-08-09T03:27:21.406Z"
   },
   {
    "duration": 41,
    "start_time": "2022-08-09T03:27:21.419Z"
   },
   {
    "duration": 26,
    "start_time": "2022-08-09T03:27:21.462Z"
   },
   {
    "duration": 26,
    "start_time": "2022-08-09T03:27:21.489Z"
   },
   {
    "duration": 5,
    "start_time": "2022-08-09T03:27:21.516Z"
   },
   {
    "duration": 11,
    "start_time": "2022-08-09T03:27:21.522Z"
   },
   {
    "duration": 22,
    "start_time": "2022-08-09T03:27:21.536Z"
   },
   {
    "duration": 11,
    "start_time": "2022-08-09T03:27:21.560Z"
   },
   {
    "duration": 3,
    "start_time": "2022-08-09T03:27:21.572Z"
   },
   {
    "duration": 288,
    "start_time": "2022-08-09T03:27:21.576Z"
   },
   {
    "duration": 10,
    "start_time": "2022-08-09T03:27:21.865Z"
   },
   {
    "duration": 3,
    "start_time": "2022-08-09T03:27:21.877Z"
   },
   {
    "duration": 13,
    "start_time": "2022-08-09T03:27:21.881Z"
   },
   {
    "duration": 14,
    "start_time": "2022-08-09T03:27:21.896Z"
   },
   {
    "duration": 128,
    "start_time": "2022-08-09T03:27:21.911Z"
   },
   {
    "duration": 17,
    "start_time": "2022-08-09T03:27:22.041Z"
   },
   {
    "duration": 156,
    "start_time": "2022-08-09T03:27:22.060Z"
   },
   {
    "duration": 5,
    "start_time": "2022-08-09T03:27:22.217Z"
   },
   {
    "duration": 189,
    "start_time": "2022-08-09T03:27:22.223Z"
   },
   {
    "duration": 193,
    "start_time": "2022-08-09T03:36:01.033Z"
   },
   {
    "duration": 117,
    "start_time": "2022-08-09T03:52:21.758Z"
   },
   {
    "duration": 122,
    "start_time": "2022-08-09T03:53:26.981Z"
   },
   {
    "duration": 120,
    "start_time": "2022-08-09T03:56:49.461Z"
   },
   {
    "duration": 3,
    "start_time": "2022-08-09T03:58:18.269Z"
   },
   {
    "duration": 113,
    "start_time": "2022-08-09T04:08:33.571Z"
   },
   {
    "duration": 2029,
    "start_time": "2022-08-09T04:10:37.754Z"
   },
   {
    "duration": 2285,
    "start_time": "2022-08-09T04:11:01.933Z"
   },
   {
    "duration": 125,
    "start_time": "2022-08-09T04:16:10.761Z"
   },
   {
    "duration": 105,
    "start_time": "2022-08-09T04:23:34.381Z"
   },
   {
    "duration": 113,
    "start_time": "2022-08-09T04:30:51.963Z"
   },
   {
    "duration": 64,
    "start_time": "2022-08-09T04:34:50.116Z"
   },
   {
    "duration": 8,
    "start_time": "2022-08-09T04:35:14.928Z"
   },
   {
    "duration": 16,
    "start_time": "2022-08-09T04:35:24.567Z"
   },
   {
    "duration": 15,
    "start_time": "2022-08-09T04:35:36.240Z"
   },
   {
    "duration": 1190,
    "start_time": "2022-08-09T04:47:41.304Z"
   },
   {
    "duration": 11,
    "start_time": "2022-08-09T04:47:52.386Z"
   },
   {
    "duration": 6,
    "start_time": "2022-08-09T04:47:59.138Z"
   },
   {
    "duration": 119,
    "start_time": "2022-08-09T04:49:15.349Z"
   },
   {
    "duration": 5,
    "start_time": "2022-08-09T04:49:46.852Z"
   },
   {
    "duration": 115,
    "start_time": "2022-08-09T04:59:05.597Z"
   },
   {
    "duration": 31,
    "start_time": "2022-08-09T05:01:13.077Z"
   },
   {
    "duration": 6,
    "start_time": "2022-08-09T05:01:40.255Z"
   },
   {
    "duration": 31,
    "start_time": "2022-08-09T05:01:58.064Z"
   },
   {
    "duration": 7,
    "start_time": "2022-08-09T05:14:53.915Z"
   },
   {
    "duration": 19,
    "start_time": "2022-08-09T05:16:11.800Z"
   },
   {
    "duration": 131,
    "start_time": "2022-08-09T05:16:19.635Z"
   },
   {
    "duration": 262,
    "start_time": "2022-08-09T05:16:33.580Z"
   },
   {
    "duration": 10,
    "start_time": "2022-08-09T05:16:38.120Z"
   },
   {
    "duration": 17,
    "start_time": "2022-08-09T05:17:25.104Z"
   },
   {
    "duration": 11,
    "start_time": "2022-08-09T05:18:59.325Z"
   },
   {
    "duration": 66,
    "start_time": "2022-08-09T05:20:17.824Z"
   },
   {
    "duration": 150,
    "start_time": "2022-08-09T05:20:46.750Z"
   },
   {
    "duration": 684,
    "start_time": "2022-08-09T05:21:09.787Z"
   },
   {
    "duration": 15,
    "start_time": "2022-08-09T05:21:10.472Z"
   },
   {
    "duration": 1705,
    "start_time": "2022-08-09T05:21:10.488Z"
   },
   {
    "duration": 8,
    "start_time": "2022-08-09T05:21:12.195Z"
   },
   {
    "duration": 7,
    "start_time": "2022-08-09T05:21:12.204Z"
   },
   {
    "duration": 8,
    "start_time": "2022-08-09T05:21:12.213Z"
   },
   {
    "duration": 5,
    "start_time": "2022-08-09T05:21:12.223Z"
   },
   {
    "duration": 9,
    "start_time": "2022-08-09T05:21:12.229Z"
   },
   {
    "duration": 43,
    "start_time": "2022-08-09T05:21:12.239Z"
   },
   {
    "duration": 13,
    "start_time": "2022-08-09T05:21:12.285Z"
   },
   {
    "duration": 19,
    "start_time": "2022-08-09T05:21:12.299Z"
   },
   {
    "duration": 10,
    "start_time": "2022-08-09T05:21:12.319Z"
   },
   {
    "duration": 27,
    "start_time": "2022-08-09T05:21:12.331Z"
   },
   {
    "duration": 7,
    "start_time": "2022-08-09T05:21:12.360Z"
   },
   {
    "duration": 18,
    "start_time": "2022-08-09T05:21:12.368Z"
   },
   {
    "duration": 17,
    "start_time": "2022-08-09T05:21:12.388Z"
   },
   {
    "duration": 7,
    "start_time": "2022-08-09T05:21:12.407Z"
   },
   {
    "duration": 7,
    "start_time": "2022-08-09T05:21:12.416Z"
   },
   {
    "duration": 36,
    "start_time": "2022-08-09T05:21:12.424Z"
   },
   {
    "duration": 6,
    "start_time": "2022-08-09T05:21:12.462Z"
   },
   {
    "duration": 11,
    "start_time": "2022-08-09T05:21:12.470Z"
   },
   {
    "duration": 6,
    "start_time": "2022-08-09T05:21:12.483Z"
   },
   {
    "duration": 32,
    "start_time": "2022-08-09T05:21:12.490Z"
   },
   {
    "duration": 65,
    "start_time": "2022-08-09T05:21:12.524Z"
   },
   {
    "duration": 41,
    "start_time": "2022-08-09T05:21:12.591Z"
   },
   {
    "duration": 20,
    "start_time": "2022-08-09T05:21:12.635Z"
   },
   {
    "duration": 6,
    "start_time": "2022-08-09T05:21:12.656Z"
   },
   {
    "duration": 8,
    "start_time": "2022-08-09T05:21:12.665Z"
   },
   {
    "duration": 10,
    "start_time": "2022-08-09T05:21:12.674Z"
   },
   {
    "duration": 3,
    "start_time": "2022-08-09T05:21:12.686Z"
   },
   {
    "duration": 304,
    "start_time": "2022-08-09T05:21:12.690Z"
   },
   {
    "duration": 12,
    "start_time": "2022-08-09T05:21:12.997Z"
   },
   {
    "duration": 5,
    "start_time": "2022-08-09T05:21:13.010Z"
   },
   {
    "duration": 19,
    "start_time": "2022-08-09T05:21:13.017Z"
   },
   {
    "duration": 30,
    "start_time": "2022-08-09T05:21:13.038Z"
   },
   {
    "duration": 114,
    "start_time": "2022-08-09T05:21:13.069Z"
   },
   {
    "duration": 10,
    "start_time": "2022-08-09T05:21:13.184Z"
   },
   {
    "duration": 147,
    "start_time": "2022-08-09T05:21:13.196Z"
   },
   {
    "duration": 11,
    "start_time": "2022-08-09T05:21:13.345Z"
   },
   {
    "duration": 134,
    "start_time": "2022-08-09T05:21:13.358Z"
   },
   {
    "duration": 219,
    "start_time": "2022-08-09T05:21:13.493Z"
   },
   {
    "duration": 146,
    "start_time": "2022-08-09T05:21:13.713Z"
   },
   {
    "duration": 128,
    "start_time": "2022-08-09T05:21:13.860Z"
   },
   {
    "duration": 126,
    "start_time": "2022-08-09T05:21:13.990Z"
   },
   {
    "duration": 123,
    "start_time": "2022-08-09T05:21:14.118Z"
   },
   {
    "duration": 122,
    "start_time": "2022-08-09T05:21:14.242Z"
   },
   {
    "duration": 61,
    "start_time": "2022-08-09T05:21:14.366Z"
   },
   {
    "duration": 142,
    "start_time": "2022-08-09T05:21:14.428Z"
   },
   {
    "duration": 185,
    "start_time": "2022-08-09T05:21:14.572Z"
   },
   {
    "duration": 51,
    "start_time": "2022-08-09T05:22:06.057Z"
   },
   {
    "duration": 8,
    "start_time": "2022-08-09T05:23:55.339Z"
   },
   {
    "duration": 129,
    "start_time": "2022-08-09T05:24:09.961Z"
   },
   {
    "duration": 78,
    "start_time": "2022-08-09T05:27:26.569Z"
   },
   {
    "duration": 13,
    "start_time": "2022-08-09T05:27:49.613Z"
   },
   {
    "duration": 19,
    "start_time": "2022-08-09T05:28:27.678Z"
   },
   {
    "duration": 6,
    "start_time": "2022-08-09T05:29:27.052Z"
   },
   {
    "duration": 6,
    "start_time": "2022-08-09T05:30:04.962Z"
   },
   {
    "duration": 10,
    "start_time": "2022-08-09T05:30:57.419Z"
   },
   {
    "duration": 109,
    "start_time": "2022-08-09T05:31:24.408Z"
   },
   {
    "duration": 1118,
    "start_time": "2022-08-09T08:51:07.152Z"
   },
   {
    "duration": 16,
    "start_time": "2022-08-09T08:51:08.272Z"
   },
   {
    "duration": 1837,
    "start_time": "2022-08-09T08:51:08.289Z"
   },
   {
    "duration": 10,
    "start_time": "2022-08-09T08:51:10.129Z"
   },
   {
    "duration": 9,
    "start_time": "2022-08-09T08:51:10.141Z"
   },
   {
    "duration": 7,
    "start_time": "2022-08-09T08:51:10.151Z"
   },
   {
    "duration": 5,
    "start_time": "2022-08-09T08:51:10.160Z"
   },
   {
    "duration": 9,
    "start_time": "2022-08-09T08:51:10.167Z"
   },
   {
    "duration": 43,
    "start_time": "2022-08-09T08:51:10.187Z"
   },
   {
    "duration": 13,
    "start_time": "2022-08-09T08:51:10.233Z"
   },
   {
    "duration": 22,
    "start_time": "2022-08-09T08:51:10.248Z"
   },
   {
    "duration": 23,
    "start_time": "2022-08-09T08:51:10.271Z"
   },
   {
    "duration": 10,
    "start_time": "2022-08-09T08:51:10.296Z"
   },
   {
    "duration": 7,
    "start_time": "2022-08-09T08:51:10.307Z"
   },
   {
    "duration": 15,
    "start_time": "2022-08-09T08:51:10.316Z"
   },
   {
    "duration": 12,
    "start_time": "2022-08-09T08:51:10.332Z"
   },
   {
    "duration": 8,
    "start_time": "2022-08-09T08:51:10.346Z"
   },
   {
    "duration": 34,
    "start_time": "2022-08-09T08:51:10.356Z"
   },
   {
    "duration": 6,
    "start_time": "2022-08-09T08:51:10.391Z"
   },
   {
    "duration": 17,
    "start_time": "2022-08-09T08:51:10.399Z"
   },
   {
    "duration": 7,
    "start_time": "2022-08-09T08:51:10.418Z"
   },
   {
    "duration": 42,
    "start_time": "2022-08-09T08:51:10.427Z"
   },
   {
    "duration": 37,
    "start_time": "2022-08-09T08:51:10.471Z"
   },
   {
    "duration": 34,
    "start_time": "2022-08-09T08:51:10.509Z"
   },
   {
    "duration": 5,
    "start_time": "2022-08-09T08:51:10.545Z"
   },
   {
    "duration": 23,
    "start_time": "2022-08-09T08:51:10.551Z"
   },
   {
    "duration": 16,
    "start_time": "2022-08-09T08:51:10.575Z"
   },
   {
    "duration": 95,
    "start_time": "2022-08-09T08:51:10.594Z"
   },
   {
    "duration": 0,
    "start_time": "2022-08-09T08:51:10.690Z"
   },
   {
    "duration": 0,
    "start_time": "2022-08-09T08:51:10.691Z"
   },
   {
    "duration": 0,
    "start_time": "2022-08-09T08:51:10.693Z"
   },
   {
    "duration": 0,
    "start_time": "2022-08-09T08:51:10.694Z"
   },
   {
    "duration": 0,
    "start_time": "2022-08-09T08:51:10.694Z"
   },
   {
    "duration": 0,
    "start_time": "2022-08-09T08:51:10.695Z"
   },
   {
    "duration": 0,
    "start_time": "2022-08-09T08:51:10.696Z"
   },
   {
    "duration": 0,
    "start_time": "2022-08-09T08:51:10.697Z"
   },
   {
    "duration": 0,
    "start_time": "2022-08-09T08:51:10.698Z"
   },
   {
    "duration": 0,
    "start_time": "2022-08-09T08:51:10.699Z"
   },
   {
    "duration": 0,
    "start_time": "2022-08-09T08:51:10.700Z"
   },
   {
    "duration": 0,
    "start_time": "2022-08-09T08:51:10.701Z"
   },
   {
    "duration": 0,
    "start_time": "2022-08-09T08:51:10.702Z"
   },
   {
    "duration": 0,
    "start_time": "2022-08-09T08:51:10.702Z"
   },
   {
    "duration": 0,
    "start_time": "2022-08-09T08:51:10.703Z"
   },
   {
    "duration": 0,
    "start_time": "2022-08-09T08:51:10.704Z"
   },
   {
    "duration": 0,
    "start_time": "2022-08-09T08:51:10.706Z"
   },
   {
    "duration": 0,
    "start_time": "2022-08-09T08:51:10.706Z"
   },
   {
    "duration": 3,
    "start_time": "2022-08-09T08:51:57.694Z"
   },
   {
    "duration": 297,
    "start_time": "2022-08-09T08:51:58.222Z"
   },
   {
    "duration": 11,
    "start_time": "2022-08-09T08:51:59.381Z"
   },
   {
    "duration": 5,
    "start_time": "2022-08-09T08:51:59.988Z"
   },
   {
    "duration": 10,
    "start_time": "2022-08-09T08:52:00.630Z"
   },
   {
    "duration": 136,
    "start_time": "2022-08-09T08:53:11.590Z"
   },
   {
    "duration": 694,
    "start_time": "2022-08-09T08:54:49.126Z"
   },
   {
    "duration": 14,
    "start_time": "2022-08-09T08:54:49.822Z"
   },
   {
    "duration": 1780,
    "start_time": "2022-08-09T08:54:49.838Z"
   },
   {
    "duration": 10,
    "start_time": "2022-08-09T08:54:51.620Z"
   },
   {
    "duration": 19,
    "start_time": "2022-08-09T08:54:51.632Z"
   },
   {
    "duration": 22,
    "start_time": "2022-08-09T08:54:51.653Z"
   },
   {
    "duration": 15,
    "start_time": "2022-08-09T08:54:51.676Z"
   },
   {
    "duration": 22,
    "start_time": "2022-08-09T08:54:51.693Z"
   },
   {
    "duration": 50,
    "start_time": "2022-08-09T08:54:51.717Z"
   },
   {
    "duration": 13,
    "start_time": "2022-08-09T08:54:51.769Z"
   },
   {
    "duration": 24,
    "start_time": "2022-08-09T08:54:51.784Z"
   },
   {
    "duration": 11,
    "start_time": "2022-08-09T08:54:51.811Z"
   },
   {
    "duration": 10,
    "start_time": "2022-08-09T08:54:51.823Z"
   },
   {
    "duration": 9,
    "start_time": "2022-08-09T08:54:51.836Z"
   },
   {
    "duration": 19,
    "start_time": "2022-08-09T08:54:51.847Z"
   },
   {
    "duration": 24,
    "start_time": "2022-08-09T08:54:51.868Z"
   },
   {
    "duration": 27,
    "start_time": "2022-08-09T08:54:51.893Z"
   },
   {
    "duration": 34,
    "start_time": "2022-08-09T08:54:51.922Z"
   },
   {
    "duration": 7,
    "start_time": "2022-08-09T08:54:51.958Z"
   },
   {
    "duration": 10,
    "start_time": "2022-08-09T08:54:51.966Z"
   },
   {
    "duration": 16,
    "start_time": "2022-08-09T08:54:51.978Z"
   },
   {
    "duration": 66,
    "start_time": "2022-08-09T08:54:51.996Z"
   },
   {
    "duration": 50,
    "start_time": "2022-08-09T08:54:52.064Z"
   },
   {
    "duration": 42,
    "start_time": "2022-08-09T08:54:52.117Z"
   },
   {
    "duration": 5,
    "start_time": "2022-08-09T08:54:52.161Z"
   },
   {
    "duration": 27,
    "start_time": "2022-08-09T08:54:52.168Z"
   },
   {
    "duration": 16,
    "start_time": "2022-08-09T08:54:52.197Z"
   },
   {
    "duration": 36,
    "start_time": "2022-08-09T08:54:52.215Z"
   },
   {
    "duration": 331,
    "start_time": "2022-08-09T08:54:52.253Z"
   },
   {
    "duration": 12,
    "start_time": "2022-08-09T08:54:52.587Z"
   },
   {
    "duration": 20,
    "start_time": "2022-08-09T08:54:52.601Z"
   },
   {
    "duration": 39,
    "start_time": "2022-08-09T08:54:52.622Z"
   },
   {
    "duration": 17,
    "start_time": "2022-08-09T08:54:52.663Z"
   },
   {
    "duration": 120,
    "start_time": "2022-08-09T08:54:52.682Z"
   },
   {
    "duration": 8,
    "start_time": "2022-08-09T08:54:52.803Z"
   },
   {
    "duration": 157,
    "start_time": "2022-08-09T08:54:52.813Z"
   },
   {
    "duration": 14,
    "start_time": "2022-08-09T08:54:52.972Z"
   },
   {
    "duration": 149,
    "start_time": "2022-08-09T08:54:52.988Z"
   },
   {
    "duration": 209,
    "start_time": "2022-08-09T08:54:53.139Z"
   },
   {
    "duration": 154,
    "start_time": "2022-08-09T08:54:53.350Z"
   },
   {
    "duration": 136,
    "start_time": "2022-08-09T08:54:53.507Z"
   },
   {
    "duration": 129,
    "start_time": "2022-08-09T08:54:53.645Z"
   },
   {
    "duration": 125,
    "start_time": "2022-08-09T08:54:53.775Z"
   },
   {
    "duration": 136,
    "start_time": "2022-08-09T08:54:53.902Z"
   },
   {
    "duration": 187,
    "start_time": "2022-08-09T08:54:54.040Z"
   },
   {
    "duration": 129,
    "start_time": "2022-08-09T08:56:39.446Z"
   },
   {
    "duration": 13,
    "start_time": "2022-08-09T08:57:37.321Z"
   },
   {
    "duration": 23,
    "start_time": "2022-08-09T08:57:46.721Z"
   },
   {
    "duration": 12,
    "start_time": "2022-08-09T08:58:27.139Z"
   },
   {
    "duration": 20,
    "start_time": "2022-08-09T08:58:54.522Z"
   },
   {
    "duration": 44,
    "start_time": "2022-08-09T09:04:02.663Z"
   },
   {
    "duration": 22,
    "start_time": "2022-08-09T09:04:14.424Z"
   },
   {
    "duration": 137,
    "start_time": "2022-08-09T09:07:12.377Z"
   },
   {
    "duration": 71,
    "start_time": "2022-08-09T09:08:44.722Z"
   },
   {
    "duration": 20,
    "start_time": "2022-08-09T09:08:51.454Z"
   },
   {
    "duration": 236,
    "start_time": "2022-08-09T09:14:31.029Z"
   },
   {
    "duration": 276,
    "start_time": "2022-08-09T09:14:46.487Z"
   },
   {
    "duration": 210,
    "start_time": "2022-08-09T09:15:11.168Z"
   },
   {
    "duration": 9,
    "start_time": "2022-08-09T09:26:01.368Z"
   },
   {
    "duration": 16,
    "start_time": "2022-08-09T09:26:56.683Z"
   },
   {
    "duration": 204,
    "start_time": "2022-08-09T09:27:59.901Z"
   },
   {
    "duration": 208,
    "start_time": "2022-08-09T09:28:17.176Z"
   },
   {
    "duration": 206,
    "start_time": "2022-08-09T09:33:32.625Z"
   },
   {
    "duration": 4,
    "start_time": "2022-08-09T09:34:16.605Z"
   },
   {
    "duration": 6,
    "start_time": "2022-08-09T09:37:25.432Z"
   },
   {
    "duration": 180,
    "start_time": "2022-08-09T09:39:42.362Z"
   },
   {
    "duration": 271,
    "start_time": "2022-08-09T09:40:01.467Z"
   },
   {
    "duration": 56,
    "start_time": "2022-08-09T09:40:34.679Z"
   },
   {
    "duration": 202,
    "start_time": "2022-08-09T09:40:41.116Z"
   },
   {
    "duration": 6,
    "start_time": "2022-08-09T09:42:56.725Z"
   },
   {
    "duration": 203,
    "start_time": "2022-08-09T09:43:06.693Z"
   },
   {
    "duration": 197,
    "start_time": "2022-08-09T10:00:49.628Z"
   },
   {
    "duration": 66,
    "start_time": "2022-08-09T10:02:40.865Z"
   },
   {
    "duration": 210,
    "start_time": "2022-08-09T10:08:23.758Z"
   },
   {
    "duration": 4,
    "start_time": "2022-08-09T10:09:20.184Z"
   },
   {
    "duration": 8,
    "start_time": "2022-08-09T10:11:18.177Z"
   },
   {
    "duration": 7,
    "start_time": "2022-08-09T10:11:24.262Z"
   },
   {
    "duration": 192,
    "start_time": "2022-08-09T10:11:28.582Z"
   },
   {
    "duration": 1435,
    "start_time": "2022-08-09T10:14:43.415Z"
   },
   {
    "duration": 256,
    "start_time": "2022-08-09T10:14:55.850Z"
   },
   {
    "duration": 179,
    "start_time": "2022-08-09T10:15:10.645Z"
   },
   {
    "duration": 5,
    "start_time": "2022-08-09T10:16:08.639Z"
   },
   {
    "duration": 7,
    "start_time": "2022-08-09T10:19:55.247Z"
   },
   {
    "duration": 172,
    "start_time": "2022-08-09T10:20:07.737Z"
   },
   {
    "duration": 4,
    "start_time": "2022-08-09T10:20:57.971Z"
   },
   {
    "duration": 161,
    "start_time": "2022-08-09T10:26:13.590Z"
   },
   {
    "duration": 312,
    "start_time": "2022-08-09T10:27:01.796Z"
   },
   {
    "duration": 5,
    "start_time": "2022-08-09T10:29:47.625Z"
   },
   {
    "duration": 6,
    "start_time": "2022-08-09T10:30:00.293Z"
   },
   {
    "duration": 242,
    "start_time": "2022-08-09T11:36:29.744Z"
   },
   {
    "duration": 65,
    "start_time": "2022-08-09T11:37:11.660Z"
   },
   {
    "duration": 10,
    "start_time": "2022-08-09T11:37:15.823Z"
   },
   {
    "duration": 7,
    "start_time": "2022-08-09T11:39:22.535Z"
   },
   {
    "duration": 13,
    "start_time": "2022-08-09T11:39:50.670Z"
   },
   {
    "duration": 10,
    "start_time": "2022-08-09T11:55:03.829Z"
   },
   {
    "duration": 3,
    "start_time": "2022-08-09T11:55:38.927Z"
   },
   {
    "duration": 6,
    "start_time": "2022-08-09T11:55:45.619Z"
   },
   {
    "duration": 7,
    "start_time": "2022-08-09T11:56:22.472Z"
   },
   {
    "duration": 5,
    "start_time": "2022-08-09T11:56:51.846Z"
   },
   {
    "duration": 4,
    "start_time": "2022-08-09T11:57:57.934Z"
   },
   {
    "duration": 3,
    "start_time": "2022-08-09T11:58:01.766Z"
   },
   {
    "duration": 7,
    "start_time": "2022-08-09T11:58:15.440Z"
   },
   {
    "duration": 4,
    "start_time": "2022-08-09T11:58:40.829Z"
   },
   {
    "duration": 14,
    "start_time": "2022-08-09T12:15:41.267Z"
   },
   {
    "duration": 1056,
    "start_time": "2022-08-09T18:43:14.939Z"
   },
   {
    "duration": 17,
    "start_time": "2022-08-09T18:43:15.997Z"
   },
   {
    "duration": 1806,
    "start_time": "2022-08-09T18:43:16.016Z"
   },
   {
    "duration": 9,
    "start_time": "2022-08-09T18:43:17.824Z"
   },
   {
    "duration": 8,
    "start_time": "2022-08-09T18:43:17.834Z"
   },
   {
    "duration": 6,
    "start_time": "2022-08-09T18:43:17.844Z"
   },
   {
    "duration": 7,
    "start_time": "2022-08-09T18:43:17.852Z"
   },
   {
    "duration": 9,
    "start_time": "2022-08-09T18:43:17.860Z"
   },
   {
    "duration": 51,
    "start_time": "2022-08-09T18:43:17.872Z"
   },
   {
    "duration": 14,
    "start_time": "2022-08-09T18:43:17.926Z"
   },
   {
    "duration": 8,
    "start_time": "2022-08-09T18:43:17.942Z"
   },
   {
    "duration": 7,
    "start_time": "2022-08-09T18:43:17.951Z"
   },
   {
    "duration": 6,
    "start_time": "2022-08-09T18:43:17.959Z"
   },
   {
    "duration": 34,
    "start_time": "2022-08-09T18:43:17.967Z"
   },
   {
    "duration": 6,
    "start_time": "2022-08-09T18:43:18.003Z"
   },
   {
    "duration": 9,
    "start_time": "2022-08-09T18:43:18.010Z"
   },
   {
    "duration": 11,
    "start_time": "2022-08-09T18:43:18.020Z"
   },
   {
    "duration": 5,
    "start_time": "2022-08-09T18:43:18.032Z"
   },
   {
    "duration": 8,
    "start_time": "2022-08-09T18:43:18.038Z"
   },
   {
    "duration": 3,
    "start_time": "2022-08-09T18:43:18.047Z"
   },
   {
    "duration": 53,
    "start_time": "2022-08-09T18:43:18.052Z"
   },
   {
    "duration": 27,
    "start_time": "2022-08-09T18:43:18.106Z"
   },
   {
    "duration": 26,
    "start_time": "2022-08-09T18:43:18.135Z"
   },
   {
    "duration": 4,
    "start_time": "2022-08-09T18:43:18.163Z"
   },
   {
    "duration": 31,
    "start_time": "2022-08-09T18:43:18.169Z"
   },
   {
    "duration": 7,
    "start_time": "2022-08-09T18:43:18.202Z"
   },
   {
    "duration": 11,
    "start_time": "2022-08-09T18:43:18.211Z"
   },
   {
    "duration": 315,
    "start_time": "2022-08-09T18:43:18.226Z"
   },
   {
    "duration": 10,
    "start_time": "2022-08-09T18:43:18.543Z"
   },
   {
    "duration": 13,
    "start_time": "2022-08-09T18:43:18.554Z"
   },
   {
    "duration": 15,
    "start_time": "2022-08-09T18:43:18.569Z"
   },
   {
    "duration": 24,
    "start_time": "2022-08-09T18:43:18.585Z"
   },
   {
    "duration": 107,
    "start_time": "2022-08-09T18:43:18.611Z"
   },
   {
    "duration": 8,
    "start_time": "2022-08-09T18:43:18.719Z"
   },
   {
    "duration": 151,
    "start_time": "2022-08-09T18:43:18.729Z"
   },
   {
    "duration": 5,
    "start_time": "2022-08-09T18:43:18.882Z"
   },
   {
    "duration": 130,
    "start_time": "2022-08-09T18:43:18.899Z"
   },
   {
    "duration": 207,
    "start_time": "2022-08-09T18:43:19.031Z"
   },
   {
    "duration": 153,
    "start_time": "2022-08-09T18:43:19.240Z"
   },
   {
    "duration": 152,
    "start_time": "2022-08-09T18:43:19.395Z"
   },
   {
    "duration": 156,
    "start_time": "2022-08-09T18:43:19.548Z"
   },
   {
    "duration": 148,
    "start_time": "2022-08-09T18:43:19.706Z"
   },
   {
    "duration": 133,
    "start_time": "2022-08-09T18:43:19.856Z"
   },
   {
    "duration": 31,
    "start_time": "2022-08-09T18:43:19.991Z"
   },
   {
    "duration": 156,
    "start_time": "2022-08-09T18:43:20.024Z"
   },
   {
    "duration": 26,
    "start_time": "2022-08-09T18:43:20.182Z"
   },
   {
    "duration": 150,
    "start_time": "2022-08-09T18:43:20.210Z"
   },
   {
    "duration": 22,
    "start_time": "2022-08-09T18:43:20.362Z"
   },
   {
    "duration": 286,
    "start_time": "2022-08-09T18:43:20.386Z"
   },
   {
    "duration": 212,
    "start_time": "2022-08-09T18:43:20.674Z"
   },
   {
    "duration": 15,
    "start_time": "2022-08-09T18:43:20.888Z"
   },
   {
    "duration": 71,
    "start_time": "2022-08-09T18:43:20.904Z"
   },
   {
    "duration": 0,
    "start_time": "2022-08-09T18:43:20.977Z"
   },
   {
    "duration": 0,
    "start_time": "2022-08-09T18:43:20.979Z"
   },
   {
    "duration": 0,
    "start_time": "2022-08-09T18:43:20.980Z"
   },
   {
    "duration": 0,
    "start_time": "2022-08-09T18:43:20.981Z"
   },
   {
    "duration": 0,
    "start_time": "2022-08-09T18:43:20.982Z"
   },
   {
    "duration": 0,
    "start_time": "2022-08-09T18:43:21.000Z"
   },
   {
    "duration": 0,
    "start_time": "2022-08-09T18:43:21.003Z"
   },
   {
    "duration": 0,
    "start_time": "2022-08-09T18:43:21.005Z"
   },
   {
    "duration": 0,
    "start_time": "2022-08-09T18:43:21.006Z"
   },
   {
    "duration": 0,
    "start_time": "2022-08-09T18:43:21.008Z"
   },
   {
    "duration": 0,
    "start_time": "2022-08-09T18:43:21.009Z"
   },
   {
    "duration": 0,
    "start_time": "2022-08-09T18:43:21.011Z"
   },
   {
    "duration": 0,
    "start_time": "2022-08-09T18:43:21.012Z"
   },
   {
    "duration": 0,
    "start_time": "2022-08-09T18:43:21.013Z"
   },
   {
    "duration": 0,
    "start_time": "2022-08-09T18:43:21.015Z"
   },
   {
    "duration": 0,
    "start_time": "2022-08-09T18:43:21.016Z"
   },
   {
    "duration": 308,
    "start_time": "2022-08-09T18:43:41.609Z"
   },
   {
    "duration": 709,
    "start_time": "2022-08-09T18:43:50.261Z"
   },
   {
    "duration": 15,
    "start_time": "2022-08-09T18:43:50.972Z"
   },
   {
    "duration": 1805,
    "start_time": "2022-08-09T18:43:50.989Z"
   },
   {
    "duration": 9,
    "start_time": "2022-08-09T18:43:52.796Z"
   },
   {
    "duration": 9,
    "start_time": "2022-08-09T18:43:52.806Z"
   },
   {
    "duration": 13,
    "start_time": "2022-08-09T18:43:52.816Z"
   },
   {
    "duration": 6,
    "start_time": "2022-08-09T18:43:52.830Z"
   },
   {
    "duration": 9,
    "start_time": "2022-08-09T18:43:52.837Z"
   },
   {
    "duration": 53,
    "start_time": "2022-08-09T18:43:52.847Z"
   },
   {
    "duration": 16,
    "start_time": "2022-08-09T18:43:52.903Z"
   },
   {
    "duration": 9,
    "start_time": "2022-08-09T18:43:52.920Z"
   },
   {
    "duration": 20,
    "start_time": "2022-08-09T18:43:52.930Z"
   },
   {
    "duration": 9,
    "start_time": "2022-08-09T18:43:52.951Z"
   },
   {
    "duration": 10,
    "start_time": "2022-08-09T18:43:52.961Z"
   },
   {
    "duration": 5,
    "start_time": "2022-08-09T18:43:52.973Z"
   },
   {
    "duration": 27,
    "start_time": "2022-08-09T18:43:52.979Z"
   },
   {
    "duration": 14,
    "start_time": "2022-08-09T18:43:53.008Z"
   },
   {
    "duration": 6,
    "start_time": "2022-08-09T18:43:53.024Z"
   },
   {
    "duration": 6,
    "start_time": "2022-08-09T18:43:53.032Z"
   },
   {
    "duration": 3,
    "start_time": "2022-08-09T18:43:53.039Z"
   },
   {
    "duration": 29,
    "start_time": "2022-08-09T18:43:53.044Z"
   },
   {
    "duration": 48,
    "start_time": "2022-08-09T18:43:53.074Z"
   },
   {
    "duration": 26,
    "start_time": "2022-08-09T18:43:53.123Z"
   },
   {
    "duration": 4,
    "start_time": "2022-08-09T18:43:53.150Z"
   },
   {
    "duration": 8,
    "start_time": "2022-08-09T18:43:53.156Z"
   },
   {
    "duration": 6,
    "start_time": "2022-08-09T18:43:53.166Z"
   },
   {
    "duration": 27,
    "start_time": "2022-08-09T18:43:53.173Z"
   },
   {
    "duration": 300,
    "start_time": "2022-08-09T18:43:53.203Z"
   },
   {
    "duration": 10,
    "start_time": "2022-08-09T18:43:53.505Z"
   },
   {
    "duration": 5,
    "start_time": "2022-08-09T18:43:53.517Z"
   },
   {
    "duration": 21,
    "start_time": "2022-08-09T18:43:53.523Z"
   },
   {
    "duration": 17,
    "start_time": "2022-08-09T18:43:53.545Z"
   },
   {
    "duration": 107,
    "start_time": "2022-08-09T18:43:53.563Z"
   },
   {
    "duration": 10,
    "start_time": "2022-08-09T18:43:53.672Z"
   },
   {
    "duration": 175,
    "start_time": "2022-08-09T18:43:53.683Z"
   },
   {
    "duration": 5,
    "start_time": "2022-08-09T18:43:53.860Z"
   },
   {
    "duration": 176,
    "start_time": "2022-08-09T18:43:53.867Z"
   },
   {
    "duration": 226,
    "start_time": "2022-08-09T18:43:54.045Z"
   },
   {
    "duration": 153,
    "start_time": "2022-08-09T18:43:54.272Z"
   },
   {
    "duration": 147,
    "start_time": "2022-08-09T18:43:54.427Z"
   },
   {
    "duration": 141,
    "start_time": "2022-08-09T18:43:54.575Z"
   },
   {
    "duration": 126,
    "start_time": "2022-08-09T18:43:54.718Z"
   },
   {
    "duration": 128,
    "start_time": "2022-08-09T18:43:54.845Z"
   },
   {
    "duration": 28,
    "start_time": "2022-08-09T18:43:54.974Z"
   },
   {
    "duration": 138,
    "start_time": "2022-08-09T18:43:55.004Z"
   },
   {
    "duration": 22,
    "start_time": "2022-08-09T18:43:55.143Z"
   },
   {
    "duration": 152,
    "start_time": "2022-08-09T18:43:55.166Z"
   },
   {
    "duration": 22,
    "start_time": "2022-08-09T18:43:55.320Z"
   },
   {
    "duration": 274,
    "start_time": "2022-08-09T18:43:55.344Z"
   },
   {
    "duration": 211,
    "start_time": "2022-08-09T18:43:55.620Z"
   },
   {
    "duration": 7,
    "start_time": "2022-08-09T18:43:55.833Z"
   },
   {
    "duration": 306,
    "start_time": "2022-08-09T18:43:55.842Z"
   },
   {
    "duration": 5,
    "start_time": "2022-08-09T18:43:56.149Z"
   },
   {
    "duration": 200,
    "start_time": "2022-08-09T18:43:56.156Z"
   },
   {
    "duration": 4,
    "start_time": "2022-08-09T18:43:56.358Z"
   },
   {
    "duration": 205,
    "start_time": "2022-08-09T18:43:56.363Z"
   },
   {
    "duration": 5,
    "start_time": "2022-08-09T18:43:56.569Z"
   },
   {
    "duration": 207,
    "start_time": "2022-08-09T18:43:56.575Z"
   },
   {
    "duration": 5,
    "start_time": "2022-08-09T18:43:56.783Z"
   },
   {
    "duration": 176,
    "start_time": "2022-08-09T18:43:56.789Z"
   },
   {
    "duration": 7,
    "start_time": "2022-08-09T18:43:56.966Z"
   },
   {
    "duration": 267,
    "start_time": "2022-08-09T18:43:56.975Z"
   },
   {
    "duration": 14,
    "start_time": "2022-08-09T18:43:57.244Z"
   },
   {
    "duration": 8,
    "start_time": "2022-08-09T18:43:57.260Z"
   },
   {
    "duration": 4,
    "start_time": "2022-08-09T18:43:57.270Z"
   },
   {
    "duration": 29,
    "start_time": "2022-08-09T18:43:57.275Z"
   },
   {
    "duration": 44,
    "start_time": "2022-08-09T18:43:57.306Z"
   },
   {
    "duration": 0,
    "start_time": "2022-08-09T18:43:57.352Z"
   },
   {
    "duration": 44,
    "start_time": "2022-08-09T18:45:32.863Z"
   },
   {
    "duration": 61,
    "start_time": "2022-08-09T18:53:45.270Z"
   },
   {
    "duration": 67,
    "start_time": "2022-08-09T18:54:05.504Z"
   },
   {
    "duration": 14,
    "start_time": "2022-08-09T18:54:22.958Z"
   },
   {
    "duration": 4495,
    "start_time": "2022-08-09T18:54:45.554Z"
   },
   {
    "duration": 5,
    "start_time": "2022-08-09T18:55:08.031Z"
   },
   {
    "duration": 50,
    "start_time": "2022-08-09T18:56:19.821Z"
   },
   {
    "duration": 3821,
    "start_time": "2022-08-09T18:56:30.178Z"
   },
   {
    "duration": 5,
    "start_time": "2022-08-09T18:56:34.668Z"
   },
   {
    "duration": 10,
    "start_time": "2022-08-09T18:58:49.225Z"
   },
   {
    "duration": 6,
    "start_time": "2022-08-09T18:59:41.584Z"
   },
   {
    "duration": 6,
    "start_time": "2022-08-09T18:59:44.626Z"
   },
   {
    "duration": 8,
    "start_time": "2022-08-09T20:16:10.473Z"
   },
   {
    "duration": 3870,
    "start_time": "2022-08-09T20:16:20.063Z"
   },
   {
    "duration": 6,
    "start_time": "2022-08-09T20:16:23.935Z"
   },
   {
    "duration": 5,
    "start_time": "2022-08-09T20:16:36.859Z"
   },
   {
    "duration": 3705,
    "start_time": "2022-08-09T20:16:45.422Z"
   },
   {
    "duration": 4,
    "start_time": "2022-08-09T20:16:49.129Z"
   },
   {
    "duration": 8,
    "start_time": "2022-08-09T20:19:15.876Z"
   },
   {
    "duration": 10,
    "start_time": "2022-08-09T20:19:28.775Z"
   },
   {
    "duration": 5,
    "start_time": "2022-08-09T20:19:30.422Z"
   },
   {
    "duration": 22,
    "start_time": "2022-08-09T20:19:45.297Z"
   },
   {
    "duration": 5,
    "start_time": "2022-08-09T20:20:14.847Z"
   },
   {
    "duration": 9,
    "start_time": "2022-08-09T20:22:26.573Z"
   },
   {
    "duration": 6,
    "start_time": "2022-08-09T20:22:27.644Z"
   },
   {
    "duration": 7,
    "start_time": "2022-08-09T20:43:47.665Z"
   },
   {
    "duration": 9,
    "start_time": "2022-08-09T20:44:07.802Z"
   },
   {
    "duration": 6,
    "start_time": "2022-08-09T20:44:09.639Z"
   },
   {
    "duration": 699,
    "start_time": "2022-08-09T20:44:20.724Z"
   },
   {
    "duration": 21,
    "start_time": "2022-08-09T20:44:21.426Z"
   },
   {
    "duration": 1870,
    "start_time": "2022-08-09T20:44:21.449Z"
   },
   {
    "duration": 10,
    "start_time": "2022-08-09T20:44:23.320Z"
   },
   {
    "duration": 14,
    "start_time": "2022-08-09T20:44:23.331Z"
   },
   {
    "duration": 19,
    "start_time": "2022-08-09T20:44:23.347Z"
   },
   {
    "duration": 9,
    "start_time": "2022-08-09T20:44:23.367Z"
   },
   {
    "duration": 9,
    "start_time": "2022-08-09T20:44:23.378Z"
   },
   {
    "duration": 42,
    "start_time": "2022-08-09T20:44:23.388Z"
   },
   {
    "duration": 16,
    "start_time": "2022-08-09T20:44:23.432Z"
   },
   {
    "duration": 14,
    "start_time": "2022-08-09T20:44:23.450Z"
   },
   {
    "duration": 25,
    "start_time": "2022-08-09T20:44:23.466Z"
   },
   {
    "duration": 13,
    "start_time": "2022-08-09T20:44:23.493Z"
   },
   {
    "duration": 23,
    "start_time": "2022-08-09T20:44:23.507Z"
   },
   {
    "duration": 12,
    "start_time": "2022-08-09T20:44:23.531Z"
   },
   {
    "duration": 8,
    "start_time": "2022-08-09T20:44:23.544Z"
   },
   {
    "duration": 19,
    "start_time": "2022-08-09T20:44:23.554Z"
   },
   {
    "duration": 7,
    "start_time": "2022-08-09T20:44:23.574Z"
   },
   {
    "duration": 15,
    "start_time": "2022-08-09T20:44:23.582Z"
   },
   {
    "duration": 11,
    "start_time": "2022-08-09T20:44:23.598Z"
   },
   {
    "duration": 39,
    "start_time": "2022-08-09T20:44:23.611Z"
   },
   {
    "duration": 28,
    "start_time": "2022-08-09T20:44:23.651Z"
   },
   {
    "duration": 35,
    "start_time": "2022-08-09T20:44:23.682Z"
   },
   {
    "duration": 6,
    "start_time": "2022-08-09T20:44:23.719Z"
   },
   {
    "duration": 18,
    "start_time": "2022-08-09T20:44:23.727Z"
   },
   {
    "duration": 8,
    "start_time": "2022-08-09T20:44:23.748Z"
   },
   {
    "duration": 4,
    "start_time": "2022-08-09T20:44:23.757Z"
   },
   {
    "duration": 337,
    "start_time": "2022-08-09T20:44:23.764Z"
   },
   {
    "duration": 11,
    "start_time": "2022-08-09T20:44:24.103Z"
   },
   {
    "duration": 14,
    "start_time": "2022-08-09T20:44:24.115Z"
   },
   {
    "duration": 13,
    "start_time": "2022-08-09T20:44:24.130Z"
   },
   {
    "duration": 16,
    "start_time": "2022-08-09T20:44:24.145Z"
   },
   {
    "duration": 124,
    "start_time": "2022-08-09T20:44:24.163Z"
   },
   {
    "duration": 16,
    "start_time": "2022-08-09T20:44:24.288Z"
   },
   {
    "duration": 162,
    "start_time": "2022-08-09T20:44:24.306Z"
   },
   {
    "duration": 4,
    "start_time": "2022-08-09T20:44:24.470Z"
   },
   {
    "duration": 137,
    "start_time": "2022-08-09T20:44:24.476Z"
   },
   {
    "duration": 215,
    "start_time": "2022-08-09T20:44:24.615Z"
   },
   {
    "duration": 131,
    "start_time": "2022-08-09T20:44:24.831Z"
   },
   {
    "duration": 142,
    "start_time": "2022-08-09T20:44:24.963Z"
   },
   {
    "duration": 122,
    "start_time": "2022-08-09T20:44:25.107Z"
   },
   {
    "duration": 126,
    "start_time": "2022-08-09T20:44:25.230Z"
   },
   {
    "duration": 124,
    "start_time": "2022-08-09T20:44:25.358Z"
   },
   {
    "duration": 29,
    "start_time": "2022-08-09T20:44:25.483Z"
   },
   {
    "duration": 131,
    "start_time": "2022-08-09T20:44:25.514Z"
   },
   {
    "duration": 21,
    "start_time": "2022-08-09T20:44:25.647Z"
   },
   {
    "duration": 150,
    "start_time": "2022-08-09T20:44:25.669Z"
   },
   {
    "duration": 20,
    "start_time": "2022-08-09T20:44:25.820Z"
   },
   {
    "duration": 276,
    "start_time": "2022-08-09T20:44:25.842Z"
   },
   {
    "duration": 187,
    "start_time": "2022-08-09T20:44:26.120Z"
   },
   {
    "duration": 8,
    "start_time": "2022-08-09T20:44:26.308Z"
   },
   {
    "duration": 302,
    "start_time": "2022-08-09T20:44:26.318Z"
   },
   {
    "duration": 5,
    "start_time": "2022-08-09T20:44:26.621Z"
   },
   {
    "duration": 197,
    "start_time": "2022-08-09T20:44:26.627Z"
   },
   {
    "duration": 5,
    "start_time": "2022-08-09T20:44:26.826Z"
   },
   {
    "duration": 195,
    "start_time": "2022-08-09T20:44:26.832Z"
   },
   {
    "duration": 5,
    "start_time": "2022-08-09T20:44:27.028Z"
   },
   {
    "duration": 197,
    "start_time": "2022-08-09T20:44:27.034Z"
   },
   {
    "duration": 5,
    "start_time": "2022-08-09T20:44:27.232Z"
   },
   {
    "duration": 181,
    "start_time": "2022-08-09T20:44:27.238Z"
   },
   {
    "duration": 7,
    "start_time": "2022-08-09T20:44:27.420Z"
   },
   {
    "duration": 251,
    "start_time": "2022-08-09T20:44:27.429Z"
   },
   {
    "duration": 19,
    "start_time": "2022-08-09T20:44:27.681Z"
   },
   {
    "duration": 4585,
    "start_time": "2022-08-09T20:44:27.702Z"
   },
   {
    "duration": 5,
    "start_time": "2022-08-09T20:44:32.289Z"
   },
   {
    "duration": 776,
    "start_time": "2022-08-09T20:45:05.214Z"
   },
   {
    "duration": 18,
    "start_time": "2022-08-09T20:45:05.992Z"
   },
   {
    "duration": 1858,
    "start_time": "2022-08-09T20:45:06.012Z"
   },
   {
    "duration": 9,
    "start_time": "2022-08-09T20:45:07.873Z"
   },
   {
    "duration": 27,
    "start_time": "2022-08-09T20:45:07.883Z"
   },
   {
    "duration": 18,
    "start_time": "2022-08-09T20:45:07.912Z"
   },
   {
    "duration": 19,
    "start_time": "2022-08-09T20:45:07.932Z"
   },
   {
    "duration": 16,
    "start_time": "2022-08-09T20:45:07.953Z"
   },
   {
    "duration": 63,
    "start_time": "2022-08-09T20:45:07.970Z"
   },
   {
    "duration": 16,
    "start_time": "2022-08-09T20:45:08.036Z"
   },
   {
    "duration": 15,
    "start_time": "2022-08-09T20:45:08.054Z"
   },
   {
    "duration": 22,
    "start_time": "2022-08-09T20:45:08.071Z"
   },
   {
    "duration": 25,
    "start_time": "2022-08-09T20:45:08.095Z"
   },
   {
    "duration": 25,
    "start_time": "2022-08-09T20:45:08.122Z"
   },
   {
    "duration": 33,
    "start_time": "2022-08-09T20:45:08.149Z"
   },
   {
    "duration": 27,
    "start_time": "2022-08-09T20:45:08.184Z"
   },
   {
    "duration": 21,
    "start_time": "2022-08-09T20:45:08.213Z"
   },
   {
    "duration": 33,
    "start_time": "2022-08-09T20:45:08.236Z"
   },
   {
    "duration": 13,
    "start_time": "2022-08-09T20:45:08.270Z"
   },
   {
    "duration": 33,
    "start_time": "2022-08-09T20:45:08.285Z"
   },
   {
    "duration": 42,
    "start_time": "2022-08-09T20:45:08.320Z"
   },
   {
    "duration": 27,
    "start_time": "2022-08-09T20:45:08.364Z"
   },
   {
    "duration": 40,
    "start_time": "2022-08-09T20:45:08.393Z"
   },
   {
    "duration": 5,
    "start_time": "2022-08-09T20:45:08.434Z"
   },
   {
    "duration": 19,
    "start_time": "2022-08-09T20:45:08.441Z"
   },
   {
    "duration": 28,
    "start_time": "2022-08-09T20:45:08.462Z"
   },
   {
    "duration": 51,
    "start_time": "2022-08-09T20:45:08.492Z"
   },
   {
    "duration": 297,
    "start_time": "2022-08-09T20:45:08.546Z"
   },
   {
    "duration": 11,
    "start_time": "2022-08-09T20:45:08.845Z"
   },
   {
    "duration": 18,
    "start_time": "2022-08-09T20:45:08.858Z"
   },
   {
    "duration": 38,
    "start_time": "2022-08-09T20:45:08.878Z"
   },
   {
    "duration": 22,
    "start_time": "2022-08-09T20:45:08.918Z"
   },
   {
    "duration": 119,
    "start_time": "2022-08-09T20:45:08.942Z"
   },
   {
    "duration": 8,
    "start_time": "2022-08-09T20:45:09.063Z"
   },
   {
    "duration": 150,
    "start_time": "2022-08-09T20:45:09.073Z"
   },
   {
    "duration": 4,
    "start_time": "2022-08-09T20:45:09.224Z"
   },
   {
    "duration": 164,
    "start_time": "2022-08-09T20:45:09.230Z"
   },
   {
    "duration": 204,
    "start_time": "2022-08-09T20:45:09.396Z"
   },
   {
    "duration": 141,
    "start_time": "2022-08-09T20:45:09.602Z"
   },
   {
    "duration": 134,
    "start_time": "2022-08-09T20:45:09.744Z"
   },
   {
    "duration": 135,
    "start_time": "2022-08-09T20:45:09.880Z"
   },
   {
    "duration": 138,
    "start_time": "2022-08-09T20:45:10.017Z"
   },
   {
    "duration": 127,
    "start_time": "2022-08-09T20:45:10.156Z"
   },
   {
    "duration": 30,
    "start_time": "2022-08-09T20:45:10.285Z"
   },
   {
    "duration": 145,
    "start_time": "2022-08-09T20:45:10.317Z"
   },
   {
    "duration": 20,
    "start_time": "2022-08-09T20:45:10.463Z"
   },
   {
    "duration": 151,
    "start_time": "2022-08-09T20:45:10.485Z"
   },
   {
    "duration": 21,
    "start_time": "2022-08-09T20:45:10.638Z"
   },
   {
    "duration": 268,
    "start_time": "2022-08-09T20:45:10.660Z"
   },
   {
    "duration": 194,
    "start_time": "2022-08-09T20:45:10.929Z"
   },
   {
    "duration": 9,
    "start_time": "2022-08-09T20:45:11.125Z"
   },
   {
    "duration": 321,
    "start_time": "2022-08-09T20:45:11.136Z"
   },
   {
    "duration": 5,
    "start_time": "2022-08-09T20:45:11.459Z"
   },
   {
    "duration": 231,
    "start_time": "2022-08-09T20:45:11.466Z"
   },
   {
    "duration": 4,
    "start_time": "2022-08-09T20:45:11.699Z"
   },
   {
    "duration": 198,
    "start_time": "2022-08-09T20:45:11.705Z"
   },
   {
    "duration": 5,
    "start_time": "2022-08-09T20:45:11.904Z"
   },
   {
    "duration": 196,
    "start_time": "2022-08-09T20:45:11.910Z"
   },
   {
    "duration": 5,
    "start_time": "2022-08-09T20:45:12.107Z"
   },
   {
    "duration": 166,
    "start_time": "2022-08-09T20:45:12.113Z"
   },
   {
    "duration": 7,
    "start_time": "2022-08-09T20:45:12.280Z"
   },
   {
    "duration": 259,
    "start_time": "2022-08-09T20:45:12.289Z"
   },
   {
    "duration": 16,
    "start_time": "2022-08-09T20:45:12.550Z"
   },
   {
    "duration": 13,
    "start_time": "2022-08-09T20:45:12.568Z"
   },
   {
    "duration": 25,
    "start_time": "2022-08-09T20:45:12.583Z"
   },
   {
    "duration": 2604,
    "start_time": "2022-08-09T20:45:48.600Z"
   },
   {
    "duration": 709,
    "start_time": "2022-08-09T20:45:59.069Z"
   },
   {
    "duration": 22,
    "start_time": "2022-08-09T20:45:59.780Z"
   },
   {
    "duration": 1815,
    "start_time": "2022-08-09T20:45:59.804Z"
   },
   {
    "duration": 11,
    "start_time": "2022-08-09T20:46:01.621Z"
   },
   {
    "duration": 22,
    "start_time": "2022-08-09T20:46:01.634Z"
   },
   {
    "duration": 12,
    "start_time": "2022-08-09T20:46:01.658Z"
   },
   {
    "duration": 14,
    "start_time": "2022-08-09T20:46:01.671Z"
   },
   {
    "duration": 11,
    "start_time": "2022-08-09T20:46:01.686Z"
   },
   {
    "duration": 41,
    "start_time": "2022-08-09T20:46:01.698Z"
   },
   {
    "duration": 14,
    "start_time": "2022-08-09T20:46:01.742Z"
   },
   {
    "duration": 8,
    "start_time": "2022-08-09T20:46:01.758Z"
   },
   {
    "duration": 13,
    "start_time": "2022-08-09T20:46:01.767Z"
   },
   {
    "duration": 22,
    "start_time": "2022-08-09T20:46:01.782Z"
   },
   {
    "duration": 28,
    "start_time": "2022-08-09T20:46:01.806Z"
   },
   {
    "duration": 27,
    "start_time": "2022-08-09T20:46:01.835Z"
   },
   {
    "duration": 32,
    "start_time": "2022-08-09T20:46:01.863Z"
   },
   {
    "duration": 51,
    "start_time": "2022-08-09T20:46:01.897Z"
   },
   {
    "duration": 15,
    "start_time": "2022-08-09T20:46:01.950Z"
   },
   {
    "duration": 23,
    "start_time": "2022-08-09T20:46:01.967Z"
   },
   {
    "duration": 25,
    "start_time": "2022-08-09T20:46:01.992Z"
   },
   {
    "duration": 32,
    "start_time": "2022-08-09T20:46:02.018Z"
   },
   {
    "duration": 26,
    "start_time": "2022-08-09T20:46:02.052Z"
   },
   {
    "duration": 28,
    "start_time": "2022-08-09T20:46:02.080Z"
   },
   {
    "duration": 5,
    "start_time": "2022-08-09T20:46:02.109Z"
   },
   {
    "duration": 25,
    "start_time": "2022-08-09T20:46:02.115Z"
   },
   {
    "duration": 7,
    "start_time": "2022-08-09T20:46:02.141Z"
   },
   {
    "duration": 11,
    "start_time": "2022-08-09T20:46:02.150Z"
   },
   {
    "duration": 294,
    "start_time": "2022-08-09T20:46:02.165Z"
   },
   {
    "duration": 12,
    "start_time": "2022-08-09T20:46:02.460Z"
   },
   {
    "duration": 6,
    "start_time": "2022-08-09T20:46:02.473Z"
   },
   {
    "duration": 20,
    "start_time": "2022-08-09T20:46:02.480Z"
   },
   {
    "duration": 14,
    "start_time": "2022-08-09T20:46:02.501Z"
   },
   {
    "duration": 119,
    "start_time": "2022-08-09T20:46:02.516Z"
   },
   {
    "duration": 9,
    "start_time": "2022-08-09T20:46:02.636Z"
   },
   {
    "duration": 146,
    "start_time": "2022-08-09T20:46:02.646Z"
   },
   {
    "duration": 4,
    "start_time": "2022-08-09T20:46:02.799Z"
   },
   {
    "duration": 139,
    "start_time": "2022-08-09T20:46:02.805Z"
   },
   {
    "duration": 224,
    "start_time": "2022-08-09T20:46:02.946Z"
   },
   {
    "duration": 134,
    "start_time": "2022-08-09T20:46:03.172Z"
   },
   {
    "duration": 136,
    "start_time": "2022-08-09T20:46:03.308Z"
   },
   {
    "duration": 135,
    "start_time": "2022-08-09T20:46:03.445Z"
   },
   {
    "duration": 130,
    "start_time": "2022-08-09T20:46:03.582Z"
   },
   {
    "duration": 126,
    "start_time": "2022-08-09T20:46:03.713Z"
   },
   {
    "duration": 25,
    "start_time": "2022-08-09T20:46:03.841Z"
   },
   {
    "duration": 155,
    "start_time": "2022-08-09T20:46:03.868Z"
   },
   {
    "duration": 21,
    "start_time": "2022-08-09T20:46:04.025Z"
   },
   {
    "duration": 155,
    "start_time": "2022-08-09T20:46:04.047Z"
   },
   {
    "duration": 22,
    "start_time": "2022-08-09T20:46:04.203Z"
   },
   {
    "duration": 262,
    "start_time": "2022-08-09T20:46:04.227Z"
   },
   {
    "duration": 191,
    "start_time": "2022-08-09T20:46:04.491Z"
   },
   {
    "duration": 20,
    "start_time": "2022-08-09T20:46:04.684Z"
   },
   {
    "duration": 313,
    "start_time": "2022-08-09T20:46:04.706Z"
   },
   {
    "duration": 5,
    "start_time": "2022-08-09T20:46:05.021Z"
   },
   {
    "duration": 200,
    "start_time": "2022-08-09T20:46:05.028Z"
   },
   {
    "duration": 5,
    "start_time": "2022-08-09T20:46:05.230Z"
   },
   {
    "duration": 192,
    "start_time": "2022-08-09T20:46:05.237Z"
   },
   {
    "duration": 5,
    "start_time": "2022-08-09T20:46:05.431Z"
   },
   {
    "duration": 226,
    "start_time": "2022-08-09T20:46:05.438Z"
   },
   {
    "duration": 5,
    "start_time": "2022-08-09T20:46:05.666Z"
   },
   {
    "duration": 179,
    "start_time": "2022-08-09T20:46:05.673Z"
   },
   {
    "duration": 8,
    "start_time": "2022-08-09T20:46:05.854Z"
   },
   {
    "duration": 250,
    "start_time": "2022-08-09T20:46:05.864Z"
   },
   {
    "duration": 13,
    "start_time": "2022-08-09T20:46:06.116Z"
   },
   {
    "duration": 2526,
    "start_time": "2022-08-09T20:46:06.130Z"
   },
   {
    "duration": 42,
    "start_time": "2022-08-09T20:46:08.659Z"
   },
   {
    "duration": 713,
    "start_time": "2022-08-09T20:48:26.850Z"
   },
   {
    "duration": 15,
    "start_time": "2022-08-09T20:48:27.565Z"
   },
   {
    "duration": 1764,
    "start_time": "2022-08-09T20:48:27.582Z"
   },
   {
    "duration": 8,
    "start_time": "2022-08-09T20:48:29.349Z"
   },
   {
    "duration": 23,
    "start_time": "2022-08-09T20:48:29.359Z"
   },
   {
    "duration": 19,
    "start_time": "2022-08-09T20:48:29.383Z"
   },
   {
    "duration": 16,
    "start_time": "2022-08-09T20:48:29.403Z"
   },
   {
    "duration": 37,
    "start_time": "2022-08-09T20:48:29.420Z"
   },
   {
    "duration": 53,
    "start_time": "2022-08-09T20:48:29.458Z"
   },
   {
    "duration": 21,
    "start_time": "2022-08-09T20:48:29.514Z"
   },
   {
    "duration": 10,
    "start_time": "2022-08-09T20:48:29.537Z"
   },
   {
    "duration": 21,
    "start_time": "2022-08-09T20:48:29.549Z"
   },
   {
    "duration": 31,
    "start_time": "2022-08-09T20:48:29.571Z"
   },
   {
    "duration": 26,
    "start_time": "2022-08-09T20:48:29.603Z"
   },
   {
    "duration": 15,
    "start_time": "2022-08-09T20:48:29.631Z"
   },
   {
    "duration": 17,
    "start_time": "2022-08-09T20:48:29.648Z"
   },
   {
    "duration": 30,
    "start_time": "2022-08-09T20:48:29.666Z"
   },
   {
    "duration": 16,
    "start_time": "2022-08-09T20:48:29.697Z"
   },
   {
    "duration": 17,
    "start_time": "2022-08-09T20:48:29.714Z"
   },
   {
    "duration": 19,
    "start_time": "2022-08-09T20:48:29.733Z"
   },
   {
    "duration": 28,
    "start_time": "2022-08-09T20:48:29.753Z"
   },
   {
    "duration": 25,
    "start_time": "2022-08-09T20:48:29.783Z"
   },
   {
    "duration": 29,
    "start_time": "2022-08-09T20:48:29.810Z"
   },
   {
    "duration": 4,
    "start_time": "2022-08-09T20:48:29.841Z"
   },
   {
    "duration": 31,
    "start_time": "2022-08-09T20:48:29.846Z"
   },
   {
    "duration": 16,
    "start_time": "2022-08-09T20:48:29.878Z"
   },
   {
    "duration": 25,
    "start_time": "2022-08-09T20:48:29.895Z"
   },
   {
    "duration": 323,
    "start_time": "2022-08-09T20:48:29.923Z"
   },
   {
    "duration": 11,
    "start_time": "2022-08-09T20:48:30.248Z"
   },
   {
    "duration": 17,
    "start_time": "2022-08-09T20:48:30.260Z"
   },
   {
    "duration": 30,
    "start_time": "2022-08-09T20:48:30.279Z"
   },
   {
    "duration": 30,
    "start_time": "2022-08-09T20:48:30.310Z"
   },
   {
    "duration": 101,
    "start_time": "2022-08-09T20:48:30.342Z"
   },
   {
    "duration": 9,
    "start_time": "2022-08-09T20:48:30.445Z"
   },
   {
    "duration": 178,
    "start_time": "2022-08-09T20:48:30.455Z"
   },
   {
    "duration": 5,
    "start_time": "2022-08-09T20:48:30.635Z"
   },
   {
    "duration": 139,
    "start_time": "2022-08-09T20:48:30.642Z"
   },
   {
    "duration": 225,
    "start_time": "2022-08-09T20:48:30.783Z"
   },
   {
    "duration": 146,
    "start_time": "2022-08-09T20:48:31.010Z"
   },
   {
    "duration": 129,
    "start_time": "2022-08-09T20:48:31.158Z"
   },
   {
    "duration": 134,
    "start_time": "2022-08-09T20:48:31.288Z"
   },
   {
    "duration": 159,
    "start_time": "2022-08-09T20:48:31.423Z"
   },
   {
    "duration": 127,
    "start_time": "2022-08-09T20:48:31.584Z"
   },
   {
    "duration": 21,
    "start_time": "2022-08-09T20:48:31.713Z"
   },
   {
    "duration": 139,
    "start_time": "2022-08-09T20:48:31.736Z"
   },
   {
    "duration": 32,
    "start_time": "2022-08-09T20:48:31.877Z"
   },
   {
    "duration": 162,
    "start_time": "2022-08-09T20:48:31.911Z"
   },
   {
    "duration": 25,
    "start_time": "2022-08-09T20:48:32.075Z"
   },
   {
    "duration": 288,
    "start_time": "2022-08-09T20:48:32.102Z"
   },
   {
    "duration": 205,
    "start_time": "2022-08-09T20:48:32.392Z"
   },
   {
    "duration": 8,
    "start_time": "2022-08-09T20:48:32.601Z"
   },
   {
    "duration": 348,
    "start_time": "2022-08-09T20:48:32.611Z"
   },
   {
    "duration": 5,
    "start_time": "2022-08-09T20:48:32.961Z"
   },
   {
    "duration": 245,
    "start_time": "2022-08-09T20:48:32.968Z"
   },
   {
    "duration": 5,
    "start_time": "2022-08-09T20:48:33.214Z"
   },
   {
    "duration": 188,
    "start_time": "2022-08-09T20:48:33.220Z"
   },
   {
    "duration": 4,
    "start_time": "2022-08-09T20:48:33.410Z"
   },
   {
    "duration": 188,
    "start_time": "2022-08-09T20:48:33.416Z"
   },
   {
    "duration": 4,
    "start_time": "2022-08-09T20:48:33.606Z"
   },
   {
    "duration": 167,
    "start_time": "2022-08-09T20:48:33.612Z"
   },
   {
    "duration": 6,
    "start_time": "2022-08-09T20:48:33.781Z"
   },
   {
    "duration": 271,
    "start_time": "2022-08-09T20:48:33.788Z"
   },
   {
    "duration": 13,
    "start_time": "2022-08-09T20:48:34.060Z"
   },
   {
    "duration": 3793,
    "start_time": "2022-08-09T20:48:34.074Z"
   },
   {
    "duration": 6,
    "start_time": "2022-08-09T20:48:37.868Z"
   },
   {
    "duration": 4545,
    "start_time": "2022-08-09T20:48:49.190Z"
   },
   {
    "duration": 5,
    "start_time": "2022-08-09T20:48:54.470Z"
   },
   {
    "duration": 812,
    "start_time": "2022-08-09T20:49:01.562Z"
   },
   {
    "duration": 15,
    "start_time": "2022-08-09T20:49:02.376Z"
   },
   {
    "duration": 1866,
    "start_time": "2022-08-09T20:49:02.401Z"
   },
   {
    "duration": 10,
    "start_time": "2022-08-09T20:49:04.270Z"
   },
   {
    "duration": 37,
    "start_time": "2022-08-09T20:49:04.282Z"
   },
   {
    "duration": 17,
    "start_time": "2022-08-09T20:49:04.321Z"
   },
   {
    "duration": 41,
    "start_time": "2022-08-09T20:49:04.340Z"
   },
   {
    "duration": 22,
    "start_time": "2022-08-09T20:49:04.383Z"
   },
   {
    "duration": 55,
    "start_time": "2022-08-09T20:49:04.407Z"
   },
   {
    "duration": 17,
    "start_time": "2022-08-09T20:49:04.465Z"
   },
   {
    "duration": 23,
    "start_time": "2022-08-09T20:49:04.483Z"
   },
   {
    "duration": 27,
    "start_time": "2022-08-09T20:49:04.508Z"
   },
   {
    "duration": 44,
    "start_time": "2022-08-09T20:49:04.536Z"
   },
   {
    "duration": 44,
    "start_time": "2022-08-09T20:49:04.582Z"
   },
   {
    "duration": 23,
    "start_time": "2022-08-09T20:49:04.627Z"
   },
   {
    "duration": 35,
    "start_time": "2022-08-09T20:49:04.652Z"
   },
   {
    "duration": 40,
    "start_time": "2022-08-09T20:49:04.690Z"
   },
   {
    "duration": 23,
    "start_time": "2022-08-09T20:49:04.732Z"
   },
   {
    "duration": 9,
    "start_time": "2022-08-09T20:49:04.757Z"
   },
   {
    "duration": 19,
    "start_time": "2022-08-09T20:49:04.768Z"
   },
   {
    "duration": 40,
    "start_time": "2022-08-09T20:49:04.788Z"
   },
   {
    "duration": 29,
    "start_time": "2022-08-09T20:49:04.829Z"
   },
   {
    "duration": 44,
    "start_time": "2022-08-09T20:49:04.860Z"
   },
   {
    "duration": 4,
    "start_time": "2022-08-09T20:49:04.906Z"
   },
   {
    "duration": 7,
    "start_time": "2022-08-09T20:49:04.912Z"
   },
   {
    "duration": 8,
    "start_time": "2022-08-09T20:49:04.921Z"
   },
   {
    "duration": 11,
    "start_time": "2022-08-09T20:49:04.931Z"
   },
   {
    "duration": 310,
    "start_time": "2022-08-09T20:49:04.946Z"
   },
   {
    "duration": 12,
    "start_time": "2022-08-09T20:49:05.257Z"
   },
   {
    "duration": 3,
    "start_time": "2022-08-09T20:49:05.271Z"
   },
   {
    "duration": 27,
    "start_time": "2022-08-09T20:49:05.276Z"
   },
   {
    "duration": 15,
    "start_time": "2022-08-09T20:49:05.305Z"
   },
   {
    "duration": 127,
    "start_time": "2022-08-09T20:49:05.322Z"
   },
   {
    "duration": 10,
    "start_time": "2022-08-09T20:49:05.450Z"
   },
   {
    "duration": 170,
    "start_time": "2022-08-09T20:49:05.461Z"
   },
   {
    "duration": 4,
    "start_time": "2022-08-09T20:49:05.633Z"
   },
   {
    "duration": 148,
    "start_time": "2022-08-09T20:49:05.638Z"
   },
   {
    "duration": 226,
    "start_time": "2022-08-09T20:49:05.787Z"
   },
   {
    "duration": 153,
    "start_time": "2022-08-09T20:49:06.014Z"
   },
   {
    "duration": 140,
    "start_time": "2022-08-09T20:49:06.168Z"
   },
   {
    "duration": 145,
    "start_time": "2022-08-09T20:49:06.310Z"
   },
   {
    "duration": 134,
    "start_time": "2022-08-09T20:49:06.457Z"
   },
   {
    "duration": 124,
    "start_time": "2022-08-09T20:49:06.599Z"
   },
   {
    "duration": 20,
    "start_time": "2022-08-09T20:49:06.725Z"
   },
   {
    "duration": 154,
    "start_time": "2022-08-09T20:49:06.746Z"
   },
   {
    "duration": 21,
    "start_time": "2022-08-09T20:49:06.901Z"
   },
   {
    "duration": 158,
    "start_time": "2022-08-09T20:49:06.923Z"
   },
   {
    "duration": 28,
    "start_time": "2022-08-09T20:49:07.082Z"
   },
   {
    "duration": 280,
    "start_time": "2022-08-09T20:49:07.112Z"
   },
   {
    "duration": 196,
    "start_time": "2022-08-09T20:49:07.399Z"
   },
   {
    "duration": 9,
    "start_time": "2022-08-09T20:49:07.598Z"
   },
   {
    "duration": 324,
    "start_time": "2022-08-09T20:49:07.609Z"
   },
   {
    "duration": 5,
    "start_time": "2022-08-09T20:49:07.934Z"
   },
   {
    "duration": 210,
    "start_time": "2022-08-09T20:49:07.941Z"
   },
   {
    "duration": 5,
    "start_time": "2022-08-09T20:49:08.153Z"
   },
   {
    "duration": 226,
    "start_time": "2022-08-09T20:49:08.159Z"
   },
   {
    "duration": 5,
    "start_time": "2022-08-09T20:49:08.387Z"
   },
   {
    "duration": 201,
    "start_time": "2022-08-09T20:49:08.399Z"
   },
   {
    "duration": 5,
    "start_time": "2022-08-09T20:49:08.602Z"
   },
   {
    "duration": 189,
    "start_time": "2022-08-09T20:49:08.608Z"
   },
   {
    "duration": 8,
    "start_time": "2022-08-09T20:49:08.799Z"
   },
   {
    "duration": 285,
    "start_time": "2022-08-09T20:49:08.808Z"
   },
   {
    "duration": 15,
    "start_time": "2022-08-09T20:49:09.095Z"
   },
   {
    "duration": 4627,
    "start_time": "2022-08-09T20:49:09.112Z"
   },
   {
    "duration": 5,
    "start_time": "2022-08-09T20:49:13.741Z"
   },
   {
    "duration": 2461,
    "start_time": "2022-08-09T20:50:05.781Z"
   },
   {
    "duration": 2528,
    "start_time": "2022-08-09T20:50:14.435Z"
   },
   {
    "duration": 2594,
    "start_time": "2022-08-09T20:54:27.107Z"
   },
   {
    "duration": 2777,
    "start_time": "2022-08-09T20:54:55.729Z"
   },
   {
    "duration": 2588,
    "start_time": "2022-08-09T20:55:08.560Z"
   },
   {
    "duration": 2673,
    "start_time": "2022-08-09T20:55:18.373Z"
   },
   {
    "duration": 2543,
    "start_time": "2022-08-09T20:55:23.065Z"
   },
   {
    "duration": 67,
    "start_time": "2022-08-09T20:56:06.535Z"
   },
   {
    "duration": 8,
    "start_time": "2022-08-09T20:56:17.432Z"
   },
   {
    "duration": 2609,
    "start_time": "2022-08-09T20:56:50.395Z"
   },
   {
    "duration": 9,
    "start_time": "2022-08-09T21:02:56.057Z"
   },
   {
    "duration": 2532,
    "start_time": "2022-08-09T21:03:04.624Z"
   },
   {
    "duration": 2571,
    "start_time": "2022-08-09T21:03:35.239Z"
   },
   {
    "duration": 9,
    "start_time": "2022-08-09T21:04:40.286Z"
   },
   {
    "duration": 4594,
    "start_time": "2022-08-09T21:04:49.359Z"
   },
   {
    "duration": 6,
    "start_time": "2022-08-09T21:04:58.324Z"
   },
   {
    "duration": 4561,
    "start_time": "2022-08-09T21:05:24.648Z"
   },
   {
    "duration": 5,
    "start_time": "2022-08-09T21:05:31.392Z"
   },
   {
    "duration": 698,
    "start_time": "2022-08-09T21:05:39.171Z"
   },
   {
    "duration": 15,
    "start_time": "2022-08-09T21:05:39.871Z"
   },
   {
    "duration": 1779,
    "start_time": "2022-08-09T21:05:39.887Z"
   },
   {
    "duration": 9,
    "start_time": "2022-08-09T21:05:41.669Z"
   },
   {
    "duration": 7,
    "start_time": "2022-08-09T21:05:41.679Z"
   },
   {
    "duration": 13,
    "start_time": "2022-08-09T21:05:41.687Z"
   },
   {
    "duration": 18,
    "start_time": "2022-08-09T21:05:41.702Z"
   },
   {
    "duration": 17,
    "start_time": "2022-08-09T21:05:41.721Z"
   },
   {
    "duration": 62,
    "start_time": "2022-08-09T21:05:41.739Z"
   },
   {
    "duration": 16,
    "start_time": "2022-08-09T21:05:41.804Z"
   },
   {
    "duration": 9,
    "start_time": "2022-08-09T21:05:41.821Z"
   },
   {
    "duration": 13,
    "start_time": "2022-08-09T21:05:41.832Z"
   },
   {
    "duration": 7,
    "start_time": "2022-08-09T21:05:41.846Z"
   },
   {
    "duration": 9,
    "start_time": "2022-08-09T21:05:41.855Z"
   },
   {
    "duration": 5,
    "start_time": "2022-08-09T21:05:41.865Z"
   },
   {
    "duration": 7,
    "start_time": "2022-08-09T21:05:41.900Z"
   },
   {
    "duration": 17,
    "start_time": "2022-08-09T21:05:41.909Z"
   },
   {
    "duration": 60,
    "start_time": "2022-08-09T21:05:41.928Z"
   },
   {
    "duration": 30,
    "start_time": "2022-08-09T21:05:41.990Z"
   },
   {
    "duration": 15,
    "start_time": "2022-08-09T21:05:42.022Z"
   },
   {
    "duration": 55,
    "start_time": "2022-08-09T21:05:42.039Z"
   },
   {
    "duration": 26,
    "start_time": "2022-08-09T21:05:42.096Z"
   },
   {
    "duration": 28,
    "start_time": "2022-08-09T21:05:42.123Z"
   },
   {
    "duration": 4,
    "start_time": "2022-08-09T21:05:42.152Z"
   },
   {
    "duration": 15,
    "start_time": "2022-08-09T21:05:42.157Z"
   },
   {
    "duration": 23,
    "start_time": "2022-08-09T21:05:42.174Z"
   },
   {
    "duration": 9,
    "start_time": "2022-08-09T21:05:42.199Z"
   },
   {
    "duration": 305,
    "start_time": "2022-08-09T21:05:42.212Z"
   },
   {
    "duration": 12,
    "start_time": "2022-08-09T21:05:42.519Z"
   },
   {
    "duration": 4,
    "start_time": "2022-08-09T21:05:42.532Z"
   },
   {
    "duration": 10,
    "start_time": "2022-08-09T21:05:42.538Z"
   },
   {
    "duration": 15,
    "start_time": "2022-08-09T21:05:42.550Z"
   },
   {
    "duration": 137,
    "start_time": "2022-08-09T21:05:42.567Z"
   },
   {
    "duration": 10,
    "start_time": "2022-08-09T21:05:42.706Z"
   },
   {
    "duration": 163,
    "start_time": "2022-08-09T21:05:42.718Z"
   },
   {
    "duration": 5,
    "start_time": "2022-08-09T21:05:42.883Z"
   },
   {
    "duration": 146,
    "start_time": "2022-08-09T21:05:42.890Z"
   },
   {
    "duration": 213,
    "start_time": "2022-08-09T21:05:43.038Z"
   },
   {
    "duration": 138,
    "start_time": "2022-08-09T21:05:43.253Z"
   },
   {
    "duration": 134,
    "start_time": "2022-08-09T21:05:43.400Z"
   },
   {
    "duration": 131,
    "start_time": "2022-08-09T21:05:43.535Z"
   },
   {
    "duration": 132,
    "start_time": "2022-08-09T21:05:43.668Z"
   },
   {
    "duration": 135,
    "start_time": "2022-08-09T21:05:43.801Z"
   },
   {
    "duration": 19,
    "start_time": "2022-08-09T21:05:43.938Z"
   },
   {
    "duration": 134,
    "start_time": "2022-08-09T21:05:43.959Z"
   },
   {
    "duration": 19,
    "start_time": "2022-08-09T21:05:44.099Z"
   },
   {
    "duration": 151,
    "start_time": "2022-08-09T21:05:44.120Z"
   },
   {
    "duration": 28,
    "start_time": "2022-08-09T21:05:44.272Z"
   },
   {
    "duration": 253,
    "start_time": "2022-08-09T21:05:44.302Z"
   },
   {
    "duration": 182,
    "start_time": "2022-08-09T21:05:44.556Z"
   },
   {
    "duration": 8,
    "start_time": "2022-08-09T21:05:44.739Z"
   },
   {
    "duration": 315,
    "start_time": "2022-08-09T21:05:44.748Z"
   },
   {
    "duration": 5,
    "start_time": "2022-08-09T21:05:45.065Z"
   },
   {
    "duration": 220,
    "start_time": "2022-08-09T21:05:45.071Z"
   },
   {
    "duration": 9,
    "start_time": "2022-08-09T21:05:45.293Z"
   },
   {
    "duration": 188,
    "start_time": "2022-08-09T21:05:45.303Z"
   },
   {
    "duration": 8,
    "start_time": "2022-08-09T21:05:45.492Z"
   },
   {
    "duration": 183,
    "start_time": "2022-08-09T21:05:45.502Z"
   },
   {
    "duration": 12,
    "start_time": "2022-08-09T21:05:45.687Z"
   },
   {
    "duration": 159,
    "start_time": "2022-08-09T21:05:45.701Z"
   },
   {
    "duration": 6,
    "start_time": "2022-08-09T21:05:45.862Z"
   },
   {
    "duration": 248,
    "start_time": "2022-08-09T21:05:45.869Z"
   },
   {
    "duration": 13,
    "start_time": "2022-08-09T21:05:46.119Z"
   },
   {
    "duration": 4505,
    "start_time": "2022-08-09T21:05:46.133Z"
   },
   {
    "duration": 4,
    "start_time": "2022-08-09T21:05:50.640Z"
   },
   {
    "duration": 95,
    "start_time": "2022-08-09T21:12:37.121Z"
   },
   {
    "duration": 70,
    "start_time": "2022-08-09T21:12:50.817Z"
   },
   {
    "duration": 12,
    "start_time": "2022-08-09T21:13:06.306Z"
   },
   {
    "duration": 48,
    "start_time": "2022-08-09T21:13:35.383Z"
   },
   {
    "duration": 59,
    "start_time": "2022-08-09T21:14:18.431Z"
   },
   {
    "duration": 53,
    "start_time": "2022-08-09T21:14:23.376Z"
   },
   {
    "duration": 49,
    "start_time": "2022-08-09T21:14:29.091Z"
   },
   {
    "duration": 3822,
    "start_time": "2022-08-09T21:18:35.115Z"
   },
   {
    "duration": 6,
    "start_time": "2022-08-09T21:18:39.723Z"
   },
   {
    "duration": 715,
    "start_time": "2022-08-09T21:19:32.746Z"
   },
   {
    "duration": 15,
    "start_time": "2022-08-09T21:19:33.463Z"
   },
   {
    "duration": 1702,
    "start_time": "2022-08-09T21:19:33.480Z"
   },
   {
    "duration": 8,
    "start_time": "2022-08-09T21:19:35.184Z"
   },
   {
    "duration": 10,
    "start_time": "2022-08-09T21:19:35.194Z"
   },
   {
    "duration": 10,
    "start_time": "2022-08-09T21:19:35.205Z"
   },
   {
    "duration": 5,
    "start_time": "2022-08-09T21:19:35.217Z"
   },
   {
    "duration": 12,
    "start_time": "2022-08-09T21:19:35.223Z"
   },
   {
    "duration": 40,
    "start_time": "2022-08-09T21:19:35.237Z"
   },
   {
    "duration": 30,
    "start_time": "2022-08-09T21:19:35.280Z"
   },
   {
    "duration": 9,
    "start_time": "2022-08-09T21:19:35.312Z"
   },
   {
    "duration": 7,
    "start_time": "2022-08-09T21:19:35.323Z"
   },
   {
    "duration": 7,
    "start_time": "2022-08-09T21:19:35.332Z"
   },
   {
    "duration": 10,
    "start_time": "2022-08-09T21:19:35.341Z"
   },
   {
    "duration": 6,
    "start_time": "2022-08-09T21:19:35.352Z"
   },
   {
    "duration": 41,
    "start_time": "2022-08-09T21:19:35.360Z"
   },
   {
    "duration": 9,
    "start_time": "2022-08-09T21:19:35.402Z"
   },
   {
    "duration": 5,
    "start_time": "2022-08-09T21:19:35.413Z"
   },
   {
    "duration": 6,
    "start_time": "2022-08-09T21:19:35.420Z"
   },
   {
    "duration": 3,
    "start_time": "2022-08-09T21:19:35.428Z"
   },
   {
    "duration": 30,
    "start_time": "2022-08-09T21:19:35.432Z"
   },
   {
    "duration": 53,
    "start_time": "2022-08-09T21:19:35.464Z"
   },
   {
    "duration": 27,
    "start_time": "2022-08-09T21:19:35.519Z"
   },
   {
    "duration": 5,
    "start_time": "2022-08-09T21:19:35.547Z"
   },
   {
    "duration": 5,
    "start_time": "2022-08-09T21:19:35.553Z"
   },
   {
    "duration": 6,
    "start_time": "2022-08-09T21:19:35.560Z"
   },
   {
    "duration": 34,
    "start_time": "2022-08-09T21:19:35.567Z"
   },
   {
    "duration": 285,
    "start_time": "2022-08-09T21:19:35.604Z"
   },
   {
    "duration": 14,
    "start_time": "2022-08-09T21:19:35.890Z"
   },
   {
    "duration": 3,
    "start_time": "2022-08-09T21:19:35.906Z"
   },
   {
    "duration": 16,
    "start_time": "2022-08-09T21:19:35.910Z"
   },
   {
    "duration": 16,
    "start_time": "2022-08-09T21:19:35.928Z"
   },
   {
    "duration": 119,
    "start_time": "2022-08-09T21:19:35.945Z"
   },
   {
    "duration": 9,
    "start_time": "2022-08-09T21:19:36.065Z"
   },
   {
    "duration": 147,
    "start_time": "2022-08-09T21:19:36.076Z"
   },
   {
    "duration": 4,
    "start_time": "2022-08-09T21:19:36.225Z"
   },
   {
    "duration": 138,
    "start_time": "2022-08-09T21:19:36.231Z"
   },
   {
    "duration": 201,
    "start_time": "2022-08-09T21:19:36.370Z"
   },
   {
    "duration": 132,
    "start_time": "2022-08-09T21:19:36.573Z"
   },
   {
    "duration": 128,
    "start_time": "2022-08-09T21:19:36.706Z"
   },
   {
    "duration": 132,
    "start_time": "2022-08-09T21:19:36.835Z"
   },
   {
    "duration": 125,
    "start_time": "2022-08-09T21:19:36.968Z"
   },
   {
    "duration": 120,
    "start_time": "2022-08-09T21:19:37.099Z"
   },
   {
    "duration": 21,
    "start_time": "2022-08-09T21:19:37.220Z"
   },
   {
    "duration": 136,
    "start_time": "2022-08-09T21:19:37.243Z"
   },
   {
    "duration": 30,
    "start_time": "2022-08-09T21:19:37.381Z"
   },
   {
    "duration": 139,
    "start_time": "2022-08-09T21:19:37.413Z"
   },
   {
    "duration": 20,
    "start_time": "2022-08-09T21:19:37.554Z"
   },
   {
    "duration": 253,
    "start_time": "2022-08-09T21:19:37.576Z"
   },
   {
    "duration": 192,
    "start_time": "2022-08-09T21:19:37.830Z"
   },
   {
    "duration": 8,
    "start_time": "2022-08-09T21:19:38.023Z"
   },
   {
    "duration": 329,
    "start_time": "2022-08-09T21:19:38.033Z"
   },
   {
    "duration": 4,
    "start_time": "2022-08-09T21:19:38.364Z"
   },
   {
    "duration": 195,
    "start_time": "2022-08-09T21:19:38.369Z"
   },
   {
    "duration": 4,
    "start_time": "2022-08-09T21:19:38.566Z"
   },
   {
    "duration": 185,
    "start_time": "2022-08-09T21:19:38.572Z"
   },
   {
    "duration": 4,
    "start_time": "2022-08-09T21:19:38.759Z"
   },
   {
    "duration": 183,
    "start_time": "2022-08-09T21:19:38.765Z"
   },
   {
    "duration": 5,
    "start_time": "2022-08-09T21:19:38.949Z"
   },
   {
    "duration": 174,
    "start_time": "2022-08-09T21:19:38.956Z"
   },
   {
    "duration": 7,
    "start_time": "2022-08-09T21:19:39.131Z"
   },
   {
    "duration": 239,
    "start_time": "2022-08-09T21:19:39.139Z"
   },
   {
    "duration": 24,
    "start_time": "2022-08-09T21:19:39.379Z"
   },
   {
    "duration": 3785,
    "start_time": "2022-08-09T21:19:39.404Z"
   },
   {
    "duration": 10,
    "start_time": "2022-08-09T21:19:43.191Z"
   },
   {
    "duration": 49,
    "start_time": "2022-08-09T21:23:00.615Z"
   },
   {
    "duration": 64,
    "start_time": "2022-08-09T21:32:51.232Z"
   },
   {
    "duration": 9,
    "start_time": "2022-08-09T21:33:07.098Z"
   },
   {
    "duration": 4,
    "start_time": "2022-08-09T21:33:09.982Z"
   },
   {
    "duration": 716,
    "start_time": "2022-08-09T21:33:21.926Z"
   },
   {
    "duration": 16,
    "start_time": "2022-08-09T21:33:22.644Z"
   },
   {
    "duration": 1797,
    "start_time": "2022-08-09T21:33:22.662Z"
   },
   {
    "duration": 12,
    "start_time": "2022-08-09T21:33:24.461Z"
   },
   {
    "duration": 11,
    "start_time": "2022-08-09T21:33:24.475Z"
   },
   {
    "duration": 13,
    "start_time": "2022-08-09T21:33:24.488Z"
   },
   {
    "duration": 8,
    "start_time": "2022-08-09T21:33:24.503Z"
   },
   {
    "duration": 15,
    "start_time": "2022-08-09T21:33:24.513Z"
   },
   {
    "duration": 42,
    "start_time": "2022-08-09T21:33:24.529Z"
   },
   {
    "duration": 31,
    "start_time": "2022-08-09T21:33:24.573Z"
   },
   {
    "duration": 13,
    "start_time": "2022-08-09T21:33:24.606Z"
   },
   {
    "duration": 15,
    "start_time": "2022-08-09T21:33:24.621Z"
   },
   {
    "duration": 16,
    "start_time": "2022-08-09T21:33:24.638Z"
   },
   {
    "duration": 16,
    "start_time": "2022-08-09T21:33:24.656Z"
   },
   {
    "duration": 8,
    "start_time": "2022-08-09T21:33:24.673Z"
   },
   {
    "duration": 24,
    "start_time": "2022-08-09T21:33:24.682Z"
   },
   {
    "duration": 34,
    "start_time": "2022-08-09T21:33:24.708Z"
   },
   {
    "duration": 12,
    "start_time": "2022-08-09T21:33:24.744Z"
   },
   {
    "duration": 23,
    "start_time": "2022-08-09T21:33:24.758Z"
   },
   {
    "duration": 11,
    "start_time": "2022-08-09T21:33:24.783Z"
   },
   {
    "duration": 67,
    "start_time": "2022-08-09T21:33:24.795Z"
   },
   {
    "duration": 27,
    "start_time": "2022-08-09T21:33:24.863Z"
   },
   {
    "duration": 31,
    "start_time": "2022-08-09T21:33:24.892Z"
   },
   {
    "duration": 5,
    "start_time": "2022-08-09T21:33:24.924Z"
   },
   {
    "duration": 29,
    "start_time": "2022-08-09T21:33:24.930Z"
   },
   {
    "duration": 11,
    "start_time": "2022-08-09T21:33:24.961Z"
   },
   {
    "duration": 49,
    "start_time": "2022-08-09T21:33:24.973Z"
   },
   {
    "duration": 314,
    "start_time": "2022-08-09T21:33:25.027Z"
   },
   {
    "duration": 12,
    "start_time": "2022-08-09T21:33:25.342Z"
   },
   {
    "duration": 5,
    "start_time": "2022-08-09T21:33:25.356Z"
   },
   {
    "duration": 36,
    "start_time": "2022-08-09T21:33:25.362Z"
   },
   {
    "duration": 21,
    "start_time": "2022-08-09T21:33:25.400Z"
   },
   {
    "duration": 114,
    "start_time": "2022-08-09T21:33:25.423Z"
   },
   {
    "duration": 10,
    "start_time": "2022-08-09T21:33:25.538Z"
   },
   {
    "duration": 164,
    "start_time": "2022-08-09T21:33:25.549Z"
   },
   {
    "duration": 5,
    "start_time": "2022-08-09T21:33:25.715Z"
   },
   {
    "duration": 147,
    "start_time": "2022-08-09T21:33:25.721Z"
   },
   {
    "duration": 215,
    "start_time": "2022-08-09T21:33:25.869Z"
   },
   {
    "duration": 134,
    "start_time": "2022-08-09T21:33:26.085Z"
   },
   {
    "duration": 132,
    "start_time": "2022-08-09T21:33:26.221Z"
   },
   {
    "duration": 124,
    "start_time": "2022-08-09T21:33:26.355Z"
   },
   {
    "duration": 122,
    "start_time": "2022-08-09T21:33:26.480Z"
   },
   {
    "duration": 130,
    "start_time": "2022-08-09T21:33:26.604Z"
   },
   {
    "duration": 20,
    "start_time": "2022-08-09T21:33:26.736Z"
   },
   {
    "duration": 145,
    "start_time": "2022-08-09T21:33:26.757Z"
   },
   {
    "duration": 22,
    "start_time": "2022-08-09T21:33:26.904Z"
   },
   {
    "duration": 151,
    "start_time": "2022-08-09T21:33:26.927Z"
   },
   {
    "duration": 31,
    "start_time": "2022-08-09T21:33:27.080Z"
   },
   {
    "duration": 261,
    "start_time": "2022-08-09T21:33:27.113Z"
   },
   {
    "duration": 175,
    "start_time": "2022-08-09T21:33:27.376Z"
   },
   {
    "duration": 9,
    "start_time": "2022-08-09T21:33:27.553Z"
   },
   {
    "duration": 319,
    "start_time": "2022-08-09T21:33:27.563Z"
   },
   {
    "duration": 5,
    "start_time": "2022-08-09T21:33:27.884Z"
   },
   {
    "duration": 194,
    "start_time": "2022-08-09T21:33:27.899Z"
   },
   {
    "duration": 7,
    "start_time": "2022-08-09T21:33:28.095Z"
   },
   {
    "duration": 192,
    "start_time": "2022-08-09T21:33:28.103Z"
   },
   {
    "duration": 5,
    "start_time": "2022-08-09T21:33:28.299Z"
   },
   {
    "duration": 196,
    "start_time": "2022-08-09T21:33:28.306Z"
   },
   {
    "duration": 5,
    "start_time": "2022-08-09T21:33:28.503Z"
   },
   {
    "duration": 172,
    "start_time": "2022-08-09T21:33:28.509Z"
   },
   {
    "duration": 7,
    "start_time": "2022-08-09T21:33:28.683Z"
   },
   {
    "duration": 258,
    "start_time": "2022-08-09T21:33:28.691Z"
   },
   {
    "duration": 13,
    "start_time": "2022-08-09T21:33:28.951Z"
   },
   {
    "duration": 12,
    "start_time": "2022-08-09T21:33:28.966Z"
   },
   {
    "duration": 26,
    "start_time": "2022-08-09T21:33:28.979Z"
   },
   {
    "duration": 12,
    "start_time": "2022-08-09T21:33:52.796Z"
   },
   {
    "duration": 7,
    "start_time": "2022-08-09T21:33:54.618Z"
   },
   {
    "duration": 67,
    "start_time": "2022-08-09T21:34:37.646Z"
   },
   {
    "duration": 14,
    "start_time": "2022-08-09T21:34:52.477Z"
   },
   {
    "duration": 7,
    "start_time": "2022-08-09T21:34:53.847Z"
   },
   {
    "duration": 74,
    "start_time": "2022-08-09T21:35:20.258Z"
   },
   {
    "duration": 7,
    "start_time": "2022-08-09T21:35:21.936Z"
   },
   {
    "duration": 82,
    "start_time": "2022-08-09T21:45:31.989Z"
   },
   {
    "duration": 8,
    "start_time": "2022-08-09T21:45:34.006Z"
   },
   {
    "duration": 112,
    "start_time": "2022-08-09T21:46:45.815Z"
   },
   {
    "duration": 7,
    "start_time": "2022-08-09T21:46:47.769Z"
   },
   {
    "duration": 97,
    "start_time": "2022-08-09T21:47:04.449Z"
   },
   {
    "duration": 6,
    "start_time": "2022-08-09T21:47:06.552Z"
   },
   {
    "duration": 100,
    "start_time": "2022-08-09T21:47:18.459Z"
   },
   {
    "duration": 125,
    "start_time": "2022-08-09T21:47:32.508Z"
   },
   {
    "duration": 6,
    "start_time": "2022-08-09T21:47:34.489Z"
   },
   {
    "duration": 134,
    "start_time": "2022-08-09T21:48:09.596Z"
   },
   {
    "duration": 6,
    "start_time": "2022-08-09T21:48:12.129Z"
   },
   {
    "duration": 222,
    "start_time": "2022-08-09T21:52:01.758Z"
   },
   {
    "duration": 6,
    "start_time": "2022-08-09T21:52:03.595Z"
   },
   {
    "duration": 208,
    "start_time": "2022-08-09T21:53:24.012Z"
   },
   {
    "duration": 6,
    "start_time": "2022-08-09T21:53:25.306Z"
   },
   {
    "duration": 224,
    "start_time": "2022-08-09T21:54:12.840Z"
   },
   {
    "duration": 219,
    "start_time": "2022-08-09T21:54:17.890Z"
   },
   {
    "duration": 229,
    "start_time": "2022-08-09T21:54:44.534Z"
   },
   {
    "duration": 7,
    "start_time": "2022-08-09T21:54:45.787Z"
   },
   {
    "duration": 701,
    "start_time": "2022-08-09T21:55:20.133Z"
   },
   {
    "duration": 16,
    "start_time": "2022-08-09T21:55:20.836Z"
   },
   {
    "duration": 1829,
    "start_time": "2022-08-09T21:55:20.853Z"
   },
   {
    "duration": 8,
    "start_time": "2022-08-09T21:55:22.684Z"
   },
   {
    "duration": 7,
    "start_time": "2022-08-09T21:55:22.693Z"
   },
   {
    "duration": 7,
    "start_time": "2022-08-09T21:55:22.701Z"
   },
   {
    "duration": 6,
    "start_time": "2022-08-09T21:55:22.709Z"
   },
   {
    "duration": 14,
    "start_time": "2022-08-09T21:55:22.717Z"
   },
   {
    "duration": 49,
    "start_time": "2022-08-09T21:55:22.732Z"
   },
   {
    "duration": 17,
    "start_time": "2022-08-09T21:55:22.784Z"
   },
   {
    "duration": 8,
    "start_time": "2022-08-09T21:55:22.802Z"
   },
   {
    "duration": 11,
    "start_time": "2022-08-09T21:55:22.811Z"
   },
   {
    "duration": 9,
    "start_time": "2022-08-09T21:55:22.823Z"
   },
   {
    "duration": 8,
    "start_time": "2022-08-09T21:55:22.833Z"
   },
   {
    "duration": 5,
    "start_time": "2022-08-09T21:55:22.842Z"
   },
   {
    "duration": 7,
    "start_time": "2022-08-09T21:55:22.848Z"
   },
   {
    "duration": 10,
    "start_time": "2022-08-09T21:55:22.856Z"
   },
   {
    "duration": 33,
    "start_time": "2022-08-09T21:55:22.868Z"
   },
   {
    "duration": 8,
    "start_time": "2022-08-09T21:55:22.903Z"
   },
   {
    "duration": 3,
    "start_time": "2022-08-09T21:55:22.913Z"
   },
   {
    "duration": 35,
    "start_time": "2022-08-09T21:55:22.918Z"
   },
   {
    "duration": 53,
    "start_time": "2022-08-09T21:55:22.954Z"
   },
   {
    "duration": 27,
    "start_time": "2022-08-09T21:55:23.009Z"
   },
   {
    "duration": 4,
    "start_time": "2022-08-09T21:55:23.038Z"
   },
   {
    "duration": 7,
    "start_time": "2022-08-09T21:55:23.044Z"
   },
   {
    "duration": 7,
    "start_time": "2022-08-09T21:55:23.052Z"
   },
   {
    "duration": 8,
    "start_time": "2022-08-09T21:55:23.060Z"
   },
   {
    "duration": 308,
    "start_time": "2022-08-09T21:55:23.071Z"
   },
   {
    "duration": 11,
    "start_time": "2022-08-09T21:55:23.380Z"
   },
   {
    "duration": 4,
    "start_time": "2022-08-09T21:55:23.399Z"
   },
   {
    "duration": 21,
    "start_time": "2022-08-09T21:55:23.404Z"
   },
   {
    "duration": 14,
    "start_time": "2022-08-09T21:55:23.426Z"
   },
   {
    "duration": 111,
    "start_time": "2022-08-09T21:55:23.441Z"
   },
   {
    "duration": 9,
    "start_time": "2022-08-09T21:55:23.553Z"
   },
   {
    "duration": 156,
    "start_time": "2022-08-09T21:55:23.564Z"
   },
   {
    "duration": 5,
    "start_time": "2022-08-09T21:55:23.721Z"
   },
   {
    "duration": 139,
    "start_time": "2022-08-09T21:55:23.727Z"
   },
   {
    "duration": 203,
    "start_time": "2022-08-09T21:55:23.867Z"
   },
   {
    "duration": 135,
    "start_time": "2022-08-09T21:55:24.071Z"
   },
   {
    "duration": 123,
    "start_time": "2022-08-09T21:55:24.208Z"
   },
   {
    "duration": 123,
    "start_time": "2022-08-09T21:55:24.333Z"
   },
   {
    "duration": 119,
    "start_time": "2022-08-09T21:55:24.458Z"
   },
   {
    "duration": 126,
    "start_time": "2022-08-09T21:55:24.579Z"
   },
   {
    "duration": 19,
    "start_time": "2022-08-09T21:55:24.706Z"
   },
   {
    "duration": 138,
    "start_time": "2022-08-09T21:55:24.727Z"
   },
   {
    "duration": 20,
    "start_time": "2022-08-09T21:55:24.866Z"
   },
   {
    "duration": 146,
    "start_time": "2022-08-09T21:55:24.888Z"
   },
   {
    "duration": 20,
    "start_time": "2022-08-09T21:55:25.036Z"
   },
   {
    "duration": 256,
    "start_time": "2022-08-09T21:55:25.057Z"
   },
   {
    "duration": 181,
    "start_time": "2022-08-09T21:55:25.314Z"
   },
   {
    "duration": 8,
    "start_time": "2022-08-09T21:55:25.499Z"
   },
   {
    "duration": 300,
    "start_time": "2022-08-09T21:55:25.508Z"
   },
   {
    "duration": 5,
    "start_time": "2022-08-09T21:55:25.809Z"
   },
   {
    "duration": 194,
    "start_time": "2022-08-09T21:55:25.815Z"
   },
   {
    "duration": 4,
    "start_time": "2022-08-09T21:55:26.011Z"
   },
   {
    "duration": 178,
    "start_time": "2022-08-09T21:55:26.016Z"
   },
   {
    "duration": 7,
    "start_time": "2022-08-09T21:55:26.195Z"
   },
   {
    "duration": 180,
    "start_time": "2022-08-09T21:55:26.203Z"
   },
   {
    "duration": 4,
    "start_time": "2022-08-09T21:55:26.384Z"
   },
   {
    "duration": 167,
    "start_time": "2022-08-09T21:55:26.389Z"
   },
   {
    "duration": 6,
    "start_time": "2022-08-09T21:55:26.558Z"
   },
   {
    "duration": 241,
    "start_time": "2022-08-09T21:55:26.566Z"
   },
   {
    "duration": 13,
    "start_time": "2022-08-09T21:55:26.808Z"
   },
   {
    "duration": 240,
    "start_time": "2022-08-09T21:55:26.822Z"
   },
   {
    "duration": 7,
    "start_time": "2022-08-09T21:55:27.064Z"
   },
   {
    "duration": 41,
    "start_time": "2022-08-09T21:55:42.877Z"
   },
   {
    "duration": 11,
    "start_time": "2022-08-09T21:56:56.906Z"
   },
   {
    "duration": 11,
    "start_time": "2022-08-09T21:58:24.455Z"
   },
   {
    "duration": 23,
    "start_time": "2022-08-09T21:58:39.778Z"
   },
   {
    "duration": 76,
    "start_time": "2022-08-09T21:59:49.010Z"
   },
   {
    "duration": 53,
    "start_time": "2022-08-09T22:00:11.099Z"
   },
   {
    "duration": 16,
    "start_time": "2022-08-09T22:00:18.620Z"
   },
   {
    "duration": 16,
    "start_time": "2022-08-09T22:02:24.582Z"
   },
   {
    "duration": 697,
    "start_time": "2022-08-09T22:03:46.510Z"
   },
   {
    "duration": 15,
    "start_time": "2022-08-09T22:03:47.209Z"
   },
   {
    "duration": 1882,
    "start_time": "2022-08-09T22:03:47.225Z"
   },
   {
    "duration": 9,
    "start_time": "2022-08-09T22:03:49.109Z"
   },
   {
    "duration": 10,
    "start_time": "2022-08-09T22:03:49.119Z"
   },
   {
    "duration": 9,
    "start_time": "2022-08-09T22:03:49.130Z"
   },
   {
    "duration": 4,
    "start_time": "2022-08-09T22:03:49.141Z"
   },
   {
    "duration": 10,
    "start_time": "2022-08-09T22:03:49.147Z"
   },
   {
    "duration": 57,
    "start_time": "2022-08-09T22:03:49.158Z"
   },
   {
    "duration": 16,
    "start_time": "2022-08-09T22:03:49.218Z"
   },
   {
    "duration": 9,
    "start_time": "2022-08-09T22:03:49.235Z"
   },
   {
    "duration": 12,
    "start_time": "2022-08-09T22:03:49.245Z"
   },
   {
    "duration": 6,
    "start_time": "2022-08-09T22:03:49.259Z"
   },
   {
    "duration": 37,
    "start_time": "2022-08-09T22:03:49.267Z"
   },
   {
    "duration": 6,
    "start_time": "2022-08-09T22:03:49.305Z"
   },
   {
    "duration": 8,
    "start_time": "2022-08-09T22:03:49.312Z"
   },
   {
    "duration": 10,
    "start_time": "2022-08-09T22:03:49.321Z"
   },
   {
    "duration": 5,
    "start_time": "2022-08-09T22:03:49.332Z"
   },
   {
    "duration": 8,
    "start_time": "2022-08-09T22:03:49.338Z"
   },
   {
    "duration": 7,
    "start_time": "2022-08-09T22:03:49.347Z"
   },
   {
    "duration": 68,
    "start_time": "2022-08-09T22:03:49.355Z"
   },
   {
    "duration": 26,
    "start_time": "2022-08-09T22:03:49.425Z"
   },
   {
    "duration": 50,
    "start_time": "2022-08-09T22:03:49.452Z"
   },
   {
    "duration": 5,
    "start_time": "2022-08-09T22:03:49.504Z"
   },
   {
    "duration": 14,
    "start_time": "2022-08-09T22:03:49.510Z"
   },
   {
    "duration": 7,
    "start_time": "2022-08-09T22:03:49.525Z"
   },
   {
    "duration": 19,
    "start_time": "2022-08-09T22:03:49.534Z"
   },
   {
    "duration": 303,
    "start_time": "2022-08-09T22:03:49.557Z"
   },
   {
    "duration": 11,
    "start_time": "2022-08-09T22:03:49.862Z"
   },
   {
    "duration": 3,
    "start_time": "2022-08-09T22:03:49.875Z"
   },
   {
    "duration": 24,
    "start_time": "2022-08-09T22:03:49.879Z"
   },
   {
    "duration": 15,
    "start_time": "2022-08-09T22:03:49.904Z"
   },
   {
    "duration": 134,
    "start_time": "2022-08-09T22:03:49.921Z"
   },
   {
    "duration": 10,
    "start_time": "2022-08-09T22:03:50.056Z"
   },
   {
    "duration": 162,
    "start_time": "2022-08-09T22:03:50.068Z"
   },
   {
    "duration": 4,
    "start_time": "2022-08-09T22:03:50.232Z"
   },
   {
    "duration": 138,
    "start_time": "2022-08-09T22:03:50.238Z"
   },
   {
    "duration": 215,
    "start_time": "2022-08-09T22:03:50.378Z"
   },
   {
    "duration": 150,
    "start_time": "2022-08-09T22:03:50.600Z"
   },
   {
    "duration": 147,
    "start_time": "2022-08-09T22:03:50.752Z"
   },
   {
    "duration": 150,
    "start_time": "2022-08-09T22:03:50.901Z"
   },
   {
    "duration": 125,
    "start_time": "2022-08-09T22:03:51.053Z"
   },
   {
    "duration": 131,
    "start_time": "2022-08-09T22:03:51.180Z"
   },
   {
    "duration": 22,
    "start_time": "2022-08-09T22:03:51.313Z"
   },
   {
    "duration": 177,
    "start_time": "2022-08-09T22:03:51.337Z"
   },
   {
    "duration": 30,
    "start_time": "2022-08-09T22:03:51.516Z"
   },
   {
    "duration": 175,
    "start_time": "2022-08-09T22:03:51.547Z"
   },
   {
    "duration": 21,
    "start_time": "2022-08-09T22:03:51.723Z"
   },
   {
    "duration": 292,
    "start_time": "2022-08-09T22:03:51.745Z"
   },
   {
    "duration": 201,
    "start_time": "2022-08-09T22:03:52.039Z"
   },
   {
    "duration": 9,
    "start_time": "2022-08-09T22:03:52.242Z"
   },
   {
    "duration": 318,
    "start_time": "2022-08-09T22:03:52.252Z"
   },
   {
    "duration": 5,
    "start_time": "2022-08-09T22:03:52.571Z"
   },
   {
    "duration": 208,
    "start_time": "2022-08-09T22:03:52.578Z"
   },
   {
    "duration": 13,
    "start_time": "2022-08-09T22:03:52.789Z"
   },
   {
    "duration": 212,
    "start_time": "2022-08-09T22:03:52.806Z"
   },
   {
    "duration": 5,
    "start_time": "2022-08-09T22:03:53.021Z"
   },
   {
    "duration": 207,
    "start_time": "2022-08-09T22:03:53.027Z"
   },
   {
    "duration": 5,
    "start_time": "2022-08-09T22:03:53.236Z"
   },
   {
    "duration": 182,
    "start_time": "2022-08-09T22:03:53.242Z"
   },
   {
    "duration": 7,
    "start_time": "2022-08-09T22:03:53.425Z"
   },
   {
    "duration": 248,
    "start_time": "2022-08-09T22:03:53.433Z"
   },
   {
    "duration": 20,
    "start_time": "2022-08-09T22:03:53.682Z"
   },
   {
    "duration": 14,
    "start_time": "2022-08-09T22:03:53.703Z"
   },
   {
    "duration": 272,
    "start_time": "2022-08-09T22:03:53.719Z"
   },
   {
    "duration": 9,
    "start_time": "2022-08-09T22:03:53.992Z"
   },
   {
    "duration": 77,
    "start_time": "2022-08-09T22:03:54.003Z"
   },
   {
    "duration": 0,
    "start_time": "2022-08-09T22:03:54.082Z"
   },
   {
    "duration": 11,
    "start_time": "2022-08-09T22:05:36.358Z"
   },
   {
    "duration": 7,
    "start_time": "2022-08-09T22:06:07.126Z"
   },
   {
    "duration": 10,
    "start_time": "2022-08-09T22:06:16.819Z"
   },
   {
    "duration": 8,
    "start_time": "2022-08-09T22:06:24.447Z"
   },
   {
    "duration": 27,
    "start_time": "2022-08-09T22:13:42.740Z"
   },
   {
    "duration": 10,
    "start_time": "2022-08-09T22:16:06.224Z"
   },
   {
    "duration": 205,
    "start_time": "2022-08-09T22:18:27.732Z"
   },
   {
    "duration": 16,
    "start_time": "2022-08-09T22:18:42.708Z"
   },
   {
    "duration": 32,
    "start_time": "2022-08-09T22:43:00.783Z"
   },
   {
    "duration": 7,
    "start_time": "2022-08-09T22:43:25.023Z"
   },
   {
    "duration": 13,
    "start_time": "2022-08-09T22:43:34.049Z"
   },
   {
    "duration": 19,
    "start_time": "2022-08-09T22:55:32.034Z"
   },
   {
    "duration": 11,
    "start_time": "2022-08-09T22:56:09.574Z"
   },
   {
    "duration": 15,
    "start_time": "2022-08-09T22:56:17.458Z"
   },
   {
    "duration": 37,
    "start_time": "2022-08-09T23:04:44.372Z"
   },
   {
    "duration": 25,
    "start_time": "2022-08-09T23:07:47.056Z"
   },
   {
    "duration": 27,
    "start_time": "2022-08-09T23:13:37.089Z"
   },
   {
    "duration": 1079,
    "start_time": "2022-08-09T23:14:30.541Z"
   },
   {
    "duration": 99,
    "start_time": "2022-08-09T23:14:54.039Z"
   },
   {
    "duration": 33,
    "start_time": "2022-08-09T23:14:58.217Z"
   },
   {
    "duration": 48,
    "start_time": "2022-08-09T23:17:31.425Z"
   },
   {
    "duration": 975,
    "start_time": "2022-08-09T23:17:37.446Z"
   },
   {
    "duration": 24,
    "start_time": "2022-08-09T23:18:10.575Z"
   },
   {
    "duration": 29,
    "start_time": "2022-08-09T23:18:38.291Z"
   },
   {
    "duration": 27,
    "start_time": "2022-08-09T23:19:35.796Z"
   },
   {
    "duration": 9,
    "start_time": "2022-08-09T23:20:10.661Z"
   },
   {
    "duration": 26,
    "start_time": "2022-08-09T23:30:16.076Z"
   },
   {
    "duration": 28,
    "start_time": "2022-08-09T23:31:03.071Z"
   },
   {
    "duration": 8,
    "start_time": "2022-08-09T23:32:25.497Z"
   },
   {
    "duration": 155,
    "start_time": "2022-08-09T23:34:11.188Z"
   },
   {
    "duration": 10,
    "start_time": "2022-08-09T23:35:34.140Z"
   },
   {
    "duration": 170,
    "start_time": "2022-08-09T23:35:35.790Z"
   },
   {
    "duration": 5,
    "start_time": "2022-08-09T23:48:55.773Z"
   },
   {
    "duration": 5,
    "start_time": "2022-08-09T23:49:24.941Z"
   },
   {
    "duration": 22,
    "start_time": "2022-08-09T23:50:05.951Z"
   },
   {
    "duration": 25,
    "start_time": "2022-08-10T00:04:59.219Z"
   },
   {
    "duration": 41,
    "start_time": "2022-08-10T10:32:28.497Z"
   },
   {
    "duration": 7,
    "start_time": "2022-08-10T10:32:35.248Z"
   },
   {
    "duration": 921,
    "start_time": "2022-08-10T10:32:53.859Z"
   },
   {
    "duration": 17,
    "start_time": "2022-08-10T10:32:54.782Z"
   },
   {
    "duration": 2020,
    "start_time": "2022-08-10T10:32:54.800Z"
   },
   {
    "duration": 9,
    "start_time": "2022-08-10T10:32:56.822Z"
   },
   {
    "duration": 11,
    "start_time": "2022-08-10T10:32:56.833Z"
   },
   {
    "duration": 9,
    "start_time": "2022-08-10T10:32:56.845Z"
   },
   {
    "duration": 5,
    "start_time": "2022-08-10T10:32:56.855Z"
   },
   {
    "duration": 12,
    "start_time": "2022-08-10T10:32:56.863Z"
   },
   {
    "duration": 50,
    "start_time": "2022-08-10T10:32:56.876Z"
   },
   {
    "duration": 14,
    "start_time": "2022-08-10T10:32:56.928Z"
   },
   {
    "duration": 9,
    "start_time": "2022-08-10T10:32:56.944Z"
   },
   {
    "duration": 10,
    "start_time": "2022-08-10T10:32:56.955Z"
   },
   {
    "duration": 7,
    "start_time": "2022-08-10T10:32:56.967Z"
   },
   {
    "duration": 34,
    "start_time": "2022-08-10T10:32:56.975Z"
   },
   {
    "duration": 5,
    "start_time": "2022-08-10T10:32:57.011Z"
   },
   {
    "duration": 10,
    "start_time": "2022-08-10T10:32:57.018Z"
   },
   {
    "duration": 10,
    "start_time": "2022-08-10T10:32:57.030Z"
   },
   {
    "duration": 7,
    "start_time": "2022-08-10T10:32:57.042Z"
   },
   {
    "duration": 8,
    "start_time": "2022-08-10T10:32:57.051Z"
   },
   {
    "duration": 7,
    "start_time": "2022-08-10T10:32:57.061Z"
   },
   {
    "duration": 68,
    "start_time": "2022-08-10T10:32:57.069Z"
   },
   {
    "duration": 32,
    "start_time": "2022-08-10T10:32:57.139Z"
   },
   {
    "duration": 53,
    "start_time": "2022-08-10T10:32:57.173Z"
   },
   {
    "duration": 5,
    "start_time": "2022-08-10T10:32:57.228Z"
   },
   {
    "duration": 7,
    "start_time": "2022-08-10T10:32:57.235Z"
   },
   {
    "duration": 7,
    "start_time": "2022-08-10T10:32:57.244Z"
   },
   {
    "duration": 7,
    "start_time": "2022-08-10T10:32:57.252Z"
   },
   {
    "duration": 361,
    "start_time": "2022-08-10T10:32:57.263Z"
   },
   {
    "duration": 13,
    "start_time": "2022-08-10T10:32:57.625Z"
   },
   {
    "duration": 4,
    "start_time": "2022-08-10T10:32:57.639Z"
   },
   {
    "duration": 13,
    "start_time": "2022-08-10T10:32:57.645Z"
   },
   {
    "duration": 15,
    "start_time": "2022-08-10T10:32:57.660Z"
   },
   {
    "duration": 148,
    "start_time": "2022-08-10T10:32:57.677Z"
   },
   {
    "duration": 10,
    "start_time": "2022-08-10T10:32:57.826Z"
   },
   {
    "duration": 171,
    "start_time": "2022-08-10T10:32:57.837Z"
   },
   {
    "duration": 5,
    "start_time": "2022-08-10T10:32:58.010Z"
   },
   {
    "duration": 163,
    "start_time": "2022-08-10T10:32:58.016Z"
   },
   {
    "duration": 209,
    "start_time": "2022-08-10T10:32:58.181Z"
   },
   {
    "duration": 159,
    "start_time": "2022-08-10T10:32:58.392Z"
   },
   {
    "duration": 147,
    "start_time": "2022-08-10T10:32:58.553Z"
   },
   {
    "duration": 151,
    "start_time": "2022-08-10T10:32:58.706Z"
   },
   {
    "duration": 125,
    "start_time": "2022-08-10T10:32:58.858Z"
   },
   {
    "duration": 138,
    "start_time": "2022-08-10T10:32:58.985Z"
   },
   {
    "duration": 22,
    "start_time": "2022-08-10T10:32:59.125Z"
   },
   {
    "duration": 150,
    "start_time": "2022-08-10T10:32:59.149Z"
   },
   {
    "duration": 22,
    "start_time": "2022-08-10T10:32:59.305Z"
   },
   {
    "duration": 156,
    "start_time": "2022-08-10T10:32:59.328Z"
   },
   {
    "duration": 27,
    "start_time": "2022-08-10T10:32:59.486Z"
   },
   {
    "duration": 297,
    "start_time": "2022-08-10T10:32:59.515Z"
   },
   {
    "duration": 211,
    "start_time": "2022-08-10T10:32:59.813Z"
   },
   {
    "duration": 8,
    "start_time": "2022-08-10T10:33:00.026Z"
   },
   {
    "duration": 334,
    "start_time": "2022-08-10T10:33:00.036Z"
   },
   {
    "duration": 4,
    "start_time": "2022-08-10T10:33:00.373Z"
   },
   {
    "duration": 216,
    "start_time": "2022-08-10T10:33:00.378Z"
   },
   {
    "duration": 13,
    "start_time": "2022-08-10T10:33:00.595Z"
   },
   {
    "duration": 199,
    "start_time": "2022-08-10T10:33:00.609Z"
   },
   {
    "duration": 4,
    "start_time": "2022-08-10T10:33:00.810Z"
   },
   {
    "duration": 189,
    "start_time": "2022-08-10T10:33:00.816Z"
   },
   {
    "duration": 4,
    "start_time": "2022-08-10T10:33:01.007Z"
   },
   {
    "duration": 164,
    "start_time": "2022-08-10T10:33:01.012Z"
   },
   {
    "duration": 7,
    "start_time": "2022-08-10T10:33:01.178Z"
   },
   {
    "duration": 262,
    "start_time": "2022-08-10T10:33:01.186Z"
   },
   {
    "duration": 13,
    "start_time": "2022-08-10T10:33:01.450Z"
   },
   {
    "duration": 264,
    "start_time": "2022-08-10T10:33:01.464Z"
   },
   {
    "duration": 6,
    "start_time": "2022-08-10T10:33:01.730Z"
   },
   {
    "duration": 23,
    "start_time": "2022-08-10T10:33:01.738Z"
   },
   {
    "duration": 10,
    "start_time": "2022-08-10T10:33:01.762Z"
   },
   {
    "duration": 34,
    "start_time": "2022-08-10T10:33:01.774Z"
   },
   {
    "duration": 186,
    "start_time": "2022-08-10T10:33:01.810Z"
   },
   {
    "duration": 137,
    "start_time": "2022-08-10T10:33:01.998Z"
   },
   {
    "duration": 75,
    "start_time": "2022-08-10T11:07:15.053Z"
   },
   {
    "duration": 20,
    "start_time": "2022-08-10T11:07:53.361Z"
   },
   {
    "duration": 27,
    "start_time": "2022-08-10T11:09:22.776Z"
   },
   {
    "duration": 848,
    "start_time": "2022-08-10T11:10:03.439Z"
   },
   {
    "duration": 17,
    "start_time": "2022-08-10T11:10:04.289Z"
   },
   {
    "duration": 2189,
    "start_time": "2022-08-10T11:10:04.307Z"
   },
   {
    "duration": 21,
    "start_time": "2022-08-10T11:10:06.498Z"
   },
   {
    "duration": 17,
    "start_time": "2022-08-10T11:10:06.521Z"
   },
   {
    "duration": 12,
    "start_time": "2022-08-10T11:10:06.540Z"
   },
   {
    "duration": 6,
    "start_time": "2022-08-10T11:10:06.554Z"
   },
   {
    "duration": 11,
    "start_time": "2022-08-10T11:10:06.562Z"
   },
   {
    "duration": 48,
    "start_time": "2022-08-10T11:10:06.575Z"
   },
   {
    "duration": 19,
    "start_time": "2022-08-10T11:10:06.627Z"
   },
   {
    "duration": 10,
    "start_time": "2022-08-10T11:10:06.648Z"
   },
   {
    "duration": 12,
    "start_time": "2022-08-10T11:10:06.660Z"
   },
   {
    "duration": 18,
    "start_time": "2022-08-10T11:10:06.673Z"
   },
   {
    "duration": 23,
    "start_time": "2022-08-10T11:10:06.694Z"
   },
   {
    "duration": 16,
    "start_time": "2022-08-10T11:10:06.720Z"
   },
   {
    "duration": 8,
    "start_time": "2022-08-10T11:10:06.737Z"
   },
   {
    "duration": 19,
    "start_time": "2022-08-10T11:10:06.746Z"
   },
   {
    "duration": 5,
    "start_time": "2022-08-10T11:10:06.767Z"
   },
   {
    "duration": 9,
    "start_time": "2022-08-10T11:10:06.774Z"
   },
   {
    "duration": 7,
    "start_time": "2022-08-10T11:10:06.785Z"
   },
   {
    "duration": 55,
    "start_time": "2022-08-10T11:10:06.793Z"
   },
   {
    "duration": 27,
    "start_time": "2022-08-10T11:10:06.849Z"
   },
   {
    "duration": 36,
    "start_time": "2022-08-10T11:10:06.877Z"
   },
   {
    "duration": 7,
    "start_time": "2022-08-10T11:10:06.922Z"
   },
   {
    "duration": 9,
    "start_time": "2022-08-10T11:10:06.931Z"
   },
   {
    "duration": 8,
    "start_time": "2022-08-10T11:10:06.942Z"
   },
   {
    "duration": 4,
    "start_time": "2022-08-10T11:10:06.952Z"
   },
   {
    "duration": 336,
    "start_time": "2022-08-10T11:10:06.957Z"
   },
   {
    "duration": 22,
    "start_time": "2022-08-10T11:10:07.294Z"
   },
   {
    "duration": 5,
    "start_time": "2022-08-10T11:10:07.317Z"
   },
   {
    "duration": 12,
    "start_time": "2022-08-10T11:10:07.323Z"
   },
   {
    "duration": 15,
    "start_time": "2022-08-10T11:10:07.336Z"
   },
   {
    "duration": 143,
    "start_time": "2022-08-10T11:10:07.352Z"
   },
   {
    "duration": 24,
    "start_time": "2022-08-10T11:10:07.497Z"
   },
   {
    "duration": 147,
    "start_time": "2022-08-10T11:10:07.523Z"
   },
   {
    "duration": 4,
    "start_time": "2022-08-10T11:10:07.671Z"
   },
   {
    "duration": 157,
    "start_time": "2022-08-10T11:10:07.677Z"
   },
   {
    "duration": 211,
    "start_time": "2022-08-10T11:10:07.836Z"
   },
   {
    "duration": 151,
    "start_time": "2022-08-10T11:10:08.048Z"
   },
   {
    "duration": 142,
    "start_time": "2022-08-10T11:10:08.200Z"
   },
   {
    "duration": 142,
    "start_time": "2022-08-10T11:10:08.346Z"
   },
   {
    "duration": 134,
    "start_time": "2022-08-10T11:10:08.490Z"
   },
   {
    "duration": 120,
    "start_time": "2022-08-10T11:10:08.625Z"
   },
   {
    "duration": 19,
    "start_time": "2022-08-10T11:10:08.747Z"
   },
   {
    "duration": 148,
    "start_time": "2022-08-10T11:10:08.768Z"
   },
   {
    "duration": 21,
    "start_time": "2022-08-10T11:10:08.922Z"
   },
   {
    "duration": 138,
    "start_time": "2022-08-10T11:10:08.944Z"
   },
   {
    "duration": 31,
    "start_time": "2022-08-10T11:10:09.083Z"
   },
   {
    "duration": 255,
    "start_time": "2022-08-10T11:10:09.115Z"
   },
   {
    "duration": 198,
    "start_time": "2022-08-10T11:10:09.372Z"
   },
   {
    "duration": 7,
    "start_time": "2022-08-10T11:10:09.572Z"
   },
   {
    "duration": 307,
    "start_time": "2022-08-10T11:10:09.580Z"
   },
   {
    "duration": 19,
    "start_time": "2022-08-10T11:10:09.888Z"
   },
   {
    "duration": 196,
    "start_time": "2022-08-10T11:10:09.913Z"
   },
   {
    "duration": 10,
    "start_time": "2022-08-10T11:10:10.111Z"
   },
   {
    "duration": 201,
    "start_time": "2022-08-10T11:10:10.122Z"
   },
   {
    "duration": 7,
    "start_time": "2022-08-10T11:10:10.325Z"
   },
   {
    "duration": 195,
    "start_time": "2022-08-10T11:10:10.334Z"
   },
   {
    "duration": 4,
    "start_time": "2022-08-10T11:10:10.531Z"
   },
   {
    "duration": 189,
    "start_time": "2022-08-10T11:10:10.537Z"
   },
   {
    "duration": 7,
    "start_time": "2022-08-10T11:10:10.727Z"
   },
   {
    "duration": 262,
    "start_time": "2022-08-10T11:10:10.735Z"
   },
   {
    "duration": 25,
    "start_time": "2022-08-10T11:10:10.999Z"
   },
   {
    "duration": 295,
    "start_time": "2022-08-10T11:10:11.026Z"
   },
   {
    "duration": 9,
    "start_time": "2022-08-10T11:10:11.328Z"
   },
   {
    "duration": 33,
    "start_time": "2022-08-10T11:10:11.338Z"
   },
   {
    "duration": 11,
    "start_time": "2022-08-10T11:10:11.372Z"
   },
   {
    "duration": 51,
    "start_time": "2022-08-10T11:10:11.384Z"
   },
   {
    "duration": 108,
    "start_time": "2022-08-10T11:10:11.436Z"
   },
   {
    "duration": 0,
    "start_time": "2022-08-10T11:10:11.545Z"
   },
   {
    "duration": 0,
    "start_time": "2022-08-10T11:10:11.547Z"
   },
   {
    "duration": 28,
    "start_time": "2022-08-10T11:10:48.253Z"
   },
   {
    "duration": 169,
    "start_time": "2022-08-10T11:11:12.143Z"
   },
   {
    "duration": 115,
    "start_time": "2022-08-10T11:11:27.354Z"
   },
   {
    "duration": 18,
    "start_time": "2022-08-10T11:12:17.321Z"
   },
   {
    "duration": 20,
    "start_time": "2022-08-10T11:12:26.466Z"
   },
   {
    "duration": 12,
    "start_time": "2022-08-10T11:12:35.020Z"
   },
   {
    "duration": 18,
    "start_time": "2022-08-10T11:22:04.138Z"
   },
   {
    "duration": 134,
    "start_time": "2022-08-10T11:22:36.482Z"
   },
   {
    "duration": 800,
    "start_time": "2022-08-10T11:43:01.386Z"
   },
   {
    "duration": 34,
    "start_time": "2022-08-10T11:43:02.188Z"
   },
   {
    "duration": 2395,
    "start_time": "2022-08-10T11:43:02.224Z"
   },
   {
    "duration": 13,
    "start_time": "2022-08-10T11:43:04.622Z"
   },
   {
    "duration": 15,
    "start_time": "2022-08-10T11:43:04.637Z"
   },
   {
    "duration": 12,
    "start_time": "2022-08-10T11:43:04.655Z"
   },
   {
    "duration": 7,
    "start_time": "2022-08-10T11:43:04.668Z"
   },
   {
    "duration": 17,
    "start_time": "2022-08-10T11:43:04.677Z"
   },
   {
    "duration": 63,
    "start_time": "2022-08-10T11:43:04.695Z"
   },
   {
    "duration": 17,
    "start_time": "2022-08-10T11:43:04.762Z"
   },
   {
    "duration": 13,
    "start_time": "2022-08-10T11:43:04.780Z"
   },
   {
    "duration": 30,
    "start_time": "2022-08-10T11:43:04.795Z"
   },
   {
    "duration": 10,
    "start_time": "2022-08-10T11:43:04.827Z"
   },
   {
    "duration": 16,
    "start_time": "2022-08-10T11:43:04.840Z"
   },
   {
    "duration": 9,
    "start_time": "2022-08-10T11:43:04.858Z"
   },
   {
    "duration": 20,
    "start_time": "2022-08-10T11:43:04.869Z"
   },
   {
    "duration": 26,
    "start_time": "2022-08-10T11:43:04.892Z"
   },
   {
    "duration": 25,
    "start_time": "2022-08-10T11:43:04.920Z"
   },
   {
    "duration": 11,
    "start_time": "2022-08-10T11:43:04.947Z"
   },
   {
    "duration": 4,
    "start_time": "2022-08-10T11:43:04.960Z"
   },
   {
    "duration": 55,
    "start_time": "2022-08-10T11:43:04.966Z"
   },
   {
    "duration": 35,
    "start_time": "2022-08-10T11:43:05.023Z"
   },
   {
    "duration": 29,
    "start_time": "2022-08-10T11:43:05.060Z"
   },
   {
    "duration": 21,
    "start_time": "2022-08-10T11:43:05.090Z"
   },
   {
    "duration": 20,
    "start_time": "2022-08-10T11:43:05.113Z"
   },
   {
    "duration": 8,
    "start_time": "2022-08-10T11:43:05.135Z"
   },
   {
    "duration": 12,
    "start_time": "2022-08-10T11:43:05.144Z"
   },
   {
    "duration": 360,
    "start_time": "2022-08-10T11:43:05.161Z"
   },
   {
    "duration": 16,
    "start_time": "2022-08-10T11:43:05.526Z"
   },
   {
    "duration": 6,
    "start_time": "2022-08-10T11:43:05.545Z"
   },
   {
    "duration": 18,
    "start_time": "2022-08-10T11:43:05.553Z"
   },
   {
    "duration": 45,
    "start_time": "2022-08-10T11:43:05.573Z"
   },
   {
    "duration": 153,
    "start_time": "2022-08-10T11:43:05.621Z"
   },
   {
    "duration": 8,
    "start_time": "2022-08-10T11:43:05.776Z"
   },
   {
    "duration": 233,
    "start_time": "2022-08-10T11:43:05.786Z"
   },
   {
    "duration": 6,
    "start_time": "2022-08-10T11:43:06.023Z"
   },
   {
    "duration": 219,
    "start_time": "2022-08-10T11:43:06.031Z"
   },
   {
    "duration": 266,
    "start_time": "2022-08-10T11:43:06.253Z"
   },
   {
    "duration": 174,
    "start_time": "2022-08-10T11:43:06.523Z"
   },
   {
    "duration": 167,
    "start_time": "2022-08-10T11:43:06.699Z"
   },
   {
    "duration": 168,
    "start_time": "2022-08-10T11:43:06.868Z"
   },
   {
    "duration": 147,
    "start_time": "2022-08-10T11:43:07.038Z"
   },
   {
    "duration": 144,
    "start_time": "2022-08-10T11:43:07.187Z"
   },
   {
    "duration": 33,
    "start_time": "2022-08-10T11:43:07.333Z"
   },
   {
    "duration": 196,
    "start_time": "2022-08-10T11:43:07.368Z"
   },
   {
    "duration": 21,
    "start_time": "2022-08-10T11:43:07.566Z"
   },
   {
    "duration": 222,
    "start_time": "2022-08-10T11:43:07.589Z"
   },
   {
    "duration": 33,
    "start_time": "2022-08-10T11:43:07.813Z"
   },
   {
    "duration": 337,
    "start_time": "2022-08-10T11:43:07.848Z"
   },
   {
    "duration": 246,
    "start_time": "2022-08-10T11:43:08.187Z"
   },
   {
    "duration": 7,
    "start_time": "2022-08-10T11:43:08.435Z"
   },
   {
    "duration": 355,
    "start_time": "2022-08-10T11:43:08.444Z"
   },
   {
    "duration": 8,
    "start_time": "2022-08-10T11:43:08.801Z"
   },
   {
    "duration": 282,
    "start_time": "2022-08-10T11:43:08.811Z"
   },
   {
    "duration": 5,
    "start_time": "2022-08-10T11:43:09.094Z"
   },
   {
    "duration": 205,
    "start_time": "2022-08-10T11:43:09.101Z"
   },
   {
    "duration": 5,
    "start_time": "2022-08-10T11:43:09.308Z"
   },
   {
    "duration": 240,
    "start_time": "2022-08-10T11:43:09.316Z"
   },
   {
    "duration": 4,
    "start_time": "2022-08-10T11:43:09.558Z"
   },
   {
    "duration": 225,
    "start_time": "2022-08-10T11:43:09.563Z"
   },
   {
    "duration": 6,
    "start_time": "2022-08-10T11:43:09.791Z"
   },
   {
    "duration": 298,
    "start_time": "2022-08-10T11:43:09.799Z"
   },
   {
    "duration": 20,
    "start_time": "2022-08-10T11:43:10.099Z"
   },
   {
    "duration": 382,
    "start_time": "2022-08-10T11:43:10.121Z"
   },
   {
    "duration": 10,
    "start_time": "2022-08-10T11:43:10.505Z"
   },
   {
    "duration": 45,
    "start_time": "2022-08-10T11:43:10.519Z"
   },
   {
    "duration": 27,
    "start_time": "2022-08-10T11:43:10.566Z"
   },
   {
    "duration": 64,
    "start_time": "2022-08-10T11:43:10.595Z"
   },
   {
    "duration": 185,
    "start_time": "2022-08-10T11:43:10.661Z"
   },
   {
    "duration": 128,
    "start_time": "2022-08-10T11:43:10.848Z"
   },
   {
    "duration": 16,
    "start_time": "2022-08-10T11:43:10.978Z"
   },
   {
    "duration": 23,
    "start_time": "2022-08-10T11:44:25.620Z"
   },
   {
    "duration": 268,
    "start_time": "2022-08-10T11:46:55.829Z"
   },
   {
    "duration": 9,
    "start_time": "2022-08-10T11:47:13.327Z"
   },
   {
    "duration": 273,
    "start_time": "2022-08-10T11:47:19.465Z"
   },
   {
    "duration": 13,
    "start_time": "2022-08-10T11:47:21.624Z"
   },
   {
    "duration": 127,
    "start_time": "2022-08-10T11:47:27.543Z"
   },
   {
    "duration": 743,
    "start_time": "2022-08-10T11:50:43.512Z"
   },
   {
    "duration": 15,
    "start_time": "2022-08-10T11:50:44.257Z"
   },
   {
    "duration": 1960,
    "start_time": "2022-08-10T11:50:44.274Z"
   },
   {
    "duration": 11,
    "start_time": "2022-08-10T11:50:46.237Z"
   },
   {
    "duration": 25,
    "start_time": "2022-08-10T11:50:46.250Z"
   },
   {
    "duration": 30,
    "start_time": "2022-08-10T11:50:46.277Z"
   },
   {
    "duration": 42,
    "start_time": "2022-08-10T11:50:46.309Z"
   },
   {
    "duration": 19,
    "start_time": "2022-08-10T11:50:46.353Z"
   },
   {
    "duration": 56,
    "start_time": "2022-08-10T11:50:46.374Z"
   },
   {
    "duration": 15,
    "start_time": "2022-08-10T11:50:46.434Z"
   },
   {
    "duration": 23,
    "start_time": "2022-08-10T11:50:46.451Z"
   },
   {
    "duration": 22,
    "start_time": "2022-08-10T11:50:46.476Z"
   },
   {
    "duration": 36,
    "start_time": "2022-08-10T11:50:46.500Z"
   },
   {
    "duration": 38,
    "start_time": "2022-08-10T11:50:46.538Z"
   },
   {
    "duration": 19,
    "start_time": "2022-08-10T11:50:46.578Z"
   },
   {
    "duration": 24,
    "start_time": "2022-08-10T11:50:46.598Z"
   },
   {
    "duration": 24,
    "start_time": "2022-08-10T11:50:46.624Z"
   },
   {
    "duration": 7,
    "start_time": "2022-08-10T11:50:46.650Z"
   },
   {
    "duration": 20,
    "start_time": "2022-08-10T11:50:46.658Z"
   },
   {
    "duration": 18,
    "start_time": "2022-08-10T11:50:46.680Z"
   },
   {
    "duration": 52,
    "start_time": "2022-08-10T11:50:46.700Z"
   },
   {
    "duration": 29,
    "start_time": "2022-08-10T11:50:46.753Z"
   },
   {
    "duration": 29,
    "start_time": "2022-08-10T11:50:46.783Z"
   },
   {
    "duration": 5,
    "start_time": "2022-08-10T11:50:46.813Z"
   },
   {
    "duration": 34,
    "start_time": "2022-08-10T11:50:46.820Z"
   },
   {
    "duration": 31,
    "start_time": "2022-08-10T11:50:46.856Z"
   },
   {
    "duration": 35,
    "start_time": "2022-08-10T11:50:46.889Z"
   },
   {
    "duration": 317,
    "start_time": "2022-08-10T11:50:46.929Z"
   },
   {
    "duration": 10,
    "start_time": "2022-08-10T11:50:47.248Z"
   },
   {
    "duration": 11,
    "start_time": "2022-08-10T11:50:47.260Z"
   },
   {
    "duration": 30,
    "start_time": "2022-08-10T11:50:47.272Z"
   },
   {
    "duration": 43,
    "start_time": "2022-08-10T11:50:47.304Z"
   },
   {
    "duration": 113,
    "start_time": "2022-08-10T11:50:47.349Z"
   },
   {
    "duration": 9,
    "start_time": "2022-08-10T11:50:47.464Z"
   },
   {
    "duration": 176,
    "start_time": "2022-08-10T11:50:47.475Z"
   },
   {
    "duration": 4,
    "start_time": "2022-08-10T11:50:47.653Z"
   },
   {
    "duration": 169,
    "start_time": "2022-08-10T11:50:47.659Z"
   },
   {
    "duration": 212,
    "start_time": "2022-08-10T11:50:47.830Z"
   },
   {
    "duration": 172,
    "start_time": "2022-08-10T11:50:48.046Z"
   },
   {
    "duration": 189,
    "start_time": "2022-08-10T11:50:48.220Z"
   },
   {
    "duration": 148,
    "start_time": "2022-08-10T11:50:48.411Z"
   },
   {
    "duration": 123,
    "start_time": "2022-08-10T11:50:48.560Z"
   },
   {
    "duration": 133,
    "start_time": "2022-08-10T11:50:48.686Z"
   },
   {
    "duration": 21,
    "start_time": "2022-08-10T11:50:48.821Z"
   },
   {
    "duration": 153,
    "start_time": "2022-08-10T11:50:48.843Z"
   },
   {
    "duration": 30,
    "start_time": "2022-08-10T11:50:48.998Z"
   },
   {
    "duration": 157,
    "start_time": "2022-08-10T11:50:49.030Z"
   },
   {
    "duration": 26,
    "start_time": "2022-08-10T11:50:49.189Z"
   },
   {
    "duration": 282,
    "start_time": "2022-08-10T11:50:49.217Z"
   },
   {
    "duration": 216,
    "start_time": "2022-08-10T11:50:49.501Z"
   },
   {
    "duration": 9,
    "start_time": "2022-08-10T11:50:49.718Z"
   },
   {
    "duration": 327,
    "start_time": "2022-08-10T11:50:49.729Z"
   },
   {
    "duration": 5,
    "start_time": "2022-08-10T11:50:50.057Z"
   },
   {
    "duration": 236,
    "start_time": "2022-08-10T11:50:50.064Z"
   },
   {
    "duration": 13,
    "start_time": "2022-08-10T11:50:50.302Z"
   },
   {
    "duration": 225,
    "start_time": "2022-08-10T11:50:50.319Z"
   },
   {
    "duration": 6,
    "start_time": "2022-08-10T11:50:50.546Z"
   },
   {
    "duration": 234,
    "start_time": "2022-08-10T11:50:50.554Z"
   },
   {
    "duration": 5,
    "start_time": "2022-08-10T11:50:50.789Z"
   },
   {
    "duration": 192,
    "start_time": "2022-08-10T11:50:50.796Z"
   },
   {
    "duration": 7,
    "start_time": "2022-08-10T11:50:50.989Z"
   },
   {
    "duration": 289,
    "start_time": "2022-08-10T11:50:50.998Z"
   },
   {
    "duration": 23,
    "start_time": "2022-08-10T11:50:51.288Z"
   },
   {
    "duration": 269,
    "start_time": "2022-08-10T11:50:51.312Z"
   },
   {
    "duration": 6,
    "start_time": "2022-08-10T11:50:51.583Z"
   },
   {
    "duration": 38,
    "start_time": "2022-08-10T11:50:51.591Z"
   },
   {
    "duration": 22,
    "start_time": "2022-08-10T11:50:51.630Z"
   },
   {
    "duration": 41,
    "start_time": "2022-08-10T11:50:51.654Z"
   },
   {
    "duration": 168,
    "start_time": "2022-08-10T11:50:51.696Z"
   },
   {
    "duration": 132,
    "start_time": "2022-08-10T11:50:51.866Z"
   },
   {
    "duration": 21,
    "start_time": "2022-08-10T11:50:52.000Z"
   },
   {
    "duration": 256,
    "start_time": "2022-08-10T11:51:16.985Z"
   },
   {
    "duration": 663,
    "start_time": "2022-08-10T17:29:07.062Z"
   },
   {
    "duration": 15,
    "start_time": "2022-08-10T17:29:07.727Z"
   },
   {
    "duration": 1662,
    "start_time": "2022-08-10T17:29:07.744Z"
   },
   {
    "duration": 8,
    "start_time": "2022-08-10T17:29:09.407Z"
   },
   {
    "duration": 12,
    "start_time": "2022-08-10T17:29:09.417Z"
   },
   {
    "duration": 13,
    "start_time": "2022-08-10T17:29:09.431Z"
   },
   {
    "duration": 5,
    "start_time": "2022-08-10T17:29:09.445Z"
   },
   {
    "duration": 13,
    "start_time": "2022-08-10T17:29:09.451Z"
   },
   {
    "duration": 55,
    "start_time": "2022-08-10T17:29:09.466Z"
   },
   {
    "duration": 14,
    "start_time": "2022-08-10T17:29:09.525Z"
   },
   {
    "duration": 8,
    "start_time": "2022-08-10T17:29:09.541Z"
   },
   {
    "duration": 8,
    "start_time": "2022-08-10T17:29:09.551Z"
   },
   {
    "duration": 7,
    "start_time": "2022-08-10T17:29:09.561Z"
   },
   {
    "duration": 42,
    "start_time": "2022-08-10T17:29:09.570Z"
   },
   {
    "duration": 5,
    "start_time": "2022-08-10T17:29:09.613Z"
   },
   {
    "duration": 9,
    "start_time": "2022-08-10T17:29:09.619Z"
   },
   {
    "duration": 12,
    "start_time": "2022-08-10T17:29:09.629Z"
   },
   {
    "duration": 5,
    "start_time": "2022-08-10T17:29:09.642Z"
   },
   {
    "duration": 7,
    "start_time": "2022-08-10T17:29:09.648Z"
   },
   {
    "duration": 2,
    "start_time": "2022-08-10T17:29:09.656Z"
   },
   {
    "duration": 57,
    "start_time": "2022-08-10T17:29:09.660Z"
   },
   {
    "duration": 28,
    "start_time": "2022-08-10T17:29:09.718Z"
   },
   {
    "duration": 27,
    "start_time": "2022-08-10T17:29:09.747Z"
   },
   {
    "duration": 5,
    "start_time": "2022-08-10T17:29:09.775Z"
   },
   {
    "duration": 29,
    "start_time": "2022-08-10T17:29:09.782Z"
   },
   {
    "duration": 8,
    "start_time": "2022-08-10T17:29:09.812Z"
   },
   {
    "duration": 14,
    "start_time": "2022-08-10T17:29:09.821Z"
   },
   {
    "duration": 324,
    "start_time": "2022-08-10T17:29:09.838Z"
   },
   {
    "duration": 8,
    "start_time": "2022-08-10T17:29:10.164Z"
   },
   {
    "duration": 3,
    "start_time": "2022-08-10T17:29:10.174Z"
   },
   {
    "duration": 11,
    "start_time": "2022-08-10T17:29:10.178Z"
   },
   {
    "duration": 26,
    "start_time": "2022-08-10T17:29:10.190Z"
   },
   {
    "duration": 120,
    "start_time": "2022-08-10T17:29:10.218Z"
   },
   {
    "duration": 9,
    "start_time": "2022-08-10T17:29:10.340Z"
   },
   {
    "duration": 149,
    "start_time": "2022-08-10T17:29:10.350Z"
   },
   {
    "duration": 11,
    "start_time": "2022-08-10T17:29:10.501Z"
   },
   {
    "duration": 138,
    "start_time": "2022-08-10T17:29:10.514Z"
   },
   {
    "duration": 174,
    "start_time": "2022-08-10T17:29:10.654Z"
   },
   {
    "duration": 141,
    "start_time": "2022-08-10T17:29:10.829Z"
   },
   {
    "duration": 125,
    "start_time": "2022-08-10T17:29:10.972Z"
   },
   {
    "duration": 132,
    "start_time": "2022-08-10T17:29:11.099Z"
   },
   {
    "duration": 121,
    "start_time": "2022-08-10T17:29:11.233Z"
   },
   {
    "duration": 125,
    "start_time": "2022-08-10T17:29:11.355Z"
   },
   {
    "duration": 18,
    "start_time": "2022-08-10T17:29:11.481Z"
   },
   {
    "duration": 131,
    "start_time": "2022-08-10T17:29:11.500Z"
   },
   {
    "duration": 18,
    "start_time": "2022-08-10T17:29:11.633Z"
   },
   {
    "duration": 135,
    "start_time": "2022-08-10T17:29:11.652Z"
   },
   {
    "duration": 27,
    "start_time": "2022-08-10T17:29:11.788Z"
   },
   {
    "duration": 269,
    "start_time": "2022-08-10T17:29:11.816Z"
   },
   {
    "duration": 183,
    "start_time": "2022-08-10T17:29:12.087Z"
   },
   {
    "duration": 8,
    "start_time": "2022-08-10T17:29:12.272Z"
   },
   {
    "duration": 298,
    "start_time": "2022-08-10T17:29:12.282Z"
   },
   {
    "duration": 5,
    "start_time": "2022-08-10T17:29:12.581Z"
   },
   {
    "duration": 245,
    "start_time": "2022-08-10T17:29:12.588Z"
   },
   {
    "duration": 4,
    "start_time": "2022-08-10T17:29:12.834Z"
   },
   {
    "duration": 189,
    "start_time": "2022-08-10T17:29:12.839Z"
   },
   {
    "duration": 4,
    "start_time": "2022-08-10T17:29:13.030Z"
   },
   {
    "duration": 197,
    "start_time": "2022-08-10T17:29:13.035Z"
   },
   {
    "duration": 4,
    "start_time": "2022-08-10T17:29:13.233Z"
   },
   {
    "duration": 173,
    "start_time": "2022-08-10T17:29:13.239Z"
   },
   {
    "duration": 7,
    "start_time": "2022-08-10T17:29:13.414Z"
   },
   {
    "duration": 254,
    "start_time": "2022-08-10T17:29:13.423Z"
   },
   {
    "duration": 9,
    "start_time": "2022-08-10T17:29:13.679Z"
   },
   {
    "duration": 264,
    "start_time": "2022-08-10T17:29:13.689Z"
   },
   {
    "duration": 6,
    "start_time": "2022-08-10T17:29:13.955Z"
   },
   {
    "duration": 20,
    "start_time": "2022-08-10T17:29:13.962Z"
   },
   {
    "duration": 9,
    "start_time": "2022-08-10T17:29:13.983Z"
   },
   {
    "duration": 52,
    "start_time": "2022-08-10T17:29:13.993Z"
   },
   {
    "duration": 160,
    "start_time": "2022-08-10T17:29:14.046Z"
   },
   {
    "duration": 110,
    "start_time": "2022-08-10T17:29:14.207Z"
   },
   {
    "duration": 14,
    "start_time": "2022-08-10T17:29:14.319Z"
   },
   {
    "duration": 76,
    "start_time": "2022-08-11T15:57:34.324Z"
   },
   {
    "duration": 38,
    "start_time": "2022-08-11T15:57:42.336Z"
   },
   {
    "duration": 6,
    "start_time": "2022-08-11T15:57:49.788Z"
   },
   {
    "duration": 905,
    "start_time": "2022-08-11T15:58:00.671Z"
   },
   {
    "duration": 14,
    "start_time": "2022-08-11T15:58:01.578Z"
   },
   {
    "duration": 1687,
    "start_time": "2022-08-11T15:58:01.594Z"
   },
   {
    "duration": 8,
    "start_time": "2022-08-11T15:58:03.283Z"
   },
   {
    "duration": 6,
    "start_time": "2022-08-11T15:58:03.293Z"
   },
   {
    "duration": 7,
    "start_time": "2022-08-11T15:58:03.301Z"
   },
   {
    "duration": 4,
    "start_time": "2022-08-11T15:58:03.309Z"
   },
   {
    "duration": 8,
    "start_time": "2022-08-11T15:58:03.315Z"
   },
   {
    "duration": 43,
    "start_time": "2022-08-11T15:58:03.324Z"
   },
   {
    "duration": 14,
    "start_time": "2022-08-11T15:58:03.370Z"
   },
   {
    "duration": 9,
    "start_time": "2022-08-11T15:58:03.385Z"
   },
   {
    "duration": 8,
    "start_time": "2022-08-11T15:58:03.395Z"
   },
   {
    "duration": 8,
    "start_time": "2022-08-11T15:58:03.404Z"
   },
   {
    "duration": 10,
    "start_time": "2022-08-11T15:58:03.413Z"
   },
   {
    "duration": 6,
    "start_time": "2022-08-11T15:58:03.454Z"
   },
   {
    "duration": 7,
    "start_time": "2022-08-11T15:58:03.461Z"
   },
   {
    "duration": 10,
    "start_time": "2022-08-11T15:58:03.470Z"
   },
   {
    "duration": 5,
    "start_time": "2022-08-11T15:58:03.482Z"
   },
   {
    "duration": 6,
    "start_time": "2022-08-11T15:58:03.489Z"
   },
   {
    "duration": 4,
    "start_time": "2022-08-11T15:58:03.497Z"
   },
   {
    "duration": 65,
    "start_time": "2022-08-11T15:58:03.502Z"
   },
   {
    "duration": 25,
    "start_time": "2022-08-11T15:58:03.569Z"
   },
   {
    "duration": 32,
    "start_time": "2022-08-11T15:58:03.596Z"
   },
   {
    "duration": 4,
    "start_time": "2022-08-11T15:58:03.630Z"
   },
   {
    "duration": 20,
    "start_time": "2022-08-11T15:58:03.635Z"
   },
   {
    "duration": 16,
    "start_time": "2022-08-11T15:58:03.656Z"
   },
   {
    "duration": 30,
    "start_time": "2022-08-11T15:58:03.673Z"
   },
   {
    "duration": 291,
    "start_time": "2022-08-11T15:58:03.706Z"
   },
   {
    "duration": 10,
    "start_time": "2022-08-11T15:58:03.998Z"
   },
   {
    "duration": 9,
    "start_time": "2022-08-11T15:58:04.010Z"
   },
   {
    "duration": 18,
    "start_time": "2022-08-11T15:58:04.021Z"
   },
   {
    "duration": 27,
    "start_time": "2022-08-11T15:58:04.041Z"
   },
   {
    "duration": 107,
    "start_time": "2022-08-11T15:58:04.070Z"
   },
   {
    "duration": 8,
    "start_time": "2022-08-11T15:58:04.179Z"
   },
   {
    "duration": 146,
    "start_time": "2022-08-11T15:58:04.188Z"
   },
   {
    "duration": 4,
    "start_time": "2022-08-11T15:58:04.336Z"
   },
   {
    "duration": 138,
    "start_time": "2022-08-11T15:58:04.341Z"
   },
   {
    "duration": 195,
    "start_time": "2022-08-11T15:58:04.480Z"
   },
   {
    "duration": 130,
    "start_time": "2022-08-11T15:58:04.676Z"
   },
   {
    "duration": 124,
    "start_time": "2022-08-11T15:58:04.808Z"
   },
   {
    "duration": 140,
    "start_time": "2022-08-11T15:58:04.933Z"
   },
   {
    "duration": 121,
    "start_time": "2022-08-11T15:58:05.075Z"
   },
   {
    "duration": 117,
    "start_time": "2022-08-11T15:58:05.197Z"
   },
   {
    "duration": 19,
    "start_time": "2022-08-11T15:58:05.316Z"
   },
   {
    "duration": 128,
    "start_time": "2022-08-11T15:58:05.336Z"
   },
   {
    "duration": 21,
    "start_time": "2022-08-11T15:58:05.466Z"
   },
   {
    "duration": 138,
    "start_time": "2022-08-11T15:58:05.489Z"
   },
   {
    "duration": 26,
    "start_time": "2022-08-11T15:58:05.629Z"
   },
   {
    "duration": 247,
    "start_time": "2022-08-11T15:58:05.657Z"
   },
   {
    "duration": 185,
    "start_time": "2022-08-11T15:58:05.906Z"
   },
   {
    "duration": 8,
    "start_time": "2022-08-11T15:58:06.092Z"
   },
   {
    "duration": 288,
    "start_time": "2022-08-11T15:58:06.102Z"
   },
   {
    "duration": 4,
    "start_time": "2022-08-11T15:58:06.392Z"
   },
   {
    "duration": 194,
    "start_time": "2022-08-11T15:58:06.397Z"
   },
   {
    "duration": 4,
    "start_time": "2022-08-11T15:58:06.593Z"
   },
   {
    "duration": 188,
    "start_time": "2022-08-11T15:58:06.598Z"
   },
   {
    "duration": 5,
    "start_time": "2022-08-11T15:58:06.788Z"
   },
   {
    "duration": 183,
    "start_time": "2022-08-11T15:58:06.795Z"
   },
   {
    "duration": 4,
    "start_time": "2022-08-11T15:58:06.980Z"
   },
   {
    "duration": 179,
    "start_time": "2022-08-11T15:58:06.986Z"
   },
   {
    "duration": 6,
    "start_time": "2022-08-11T15:58:07.168Z"
   },
   {
    "duration": 295,
    "start_time": "2022-08-11T15:58:07.176Z"
   },
   {
    "duration": 16,
    "start_time": "2022-08-11T15:58:07.473Z"
   },
   {
    "duration": 233,
    "start_time": "2022-08-11T15:58:07.491Z"
   },
   {
    "duration": 5,
    "start_time": "2022-08-11T15:58:07.726Z"
   },
   {
    "duration": 29,
    "start_time": "2022-08-11T15:58:07.732Z"
   },
   {
    "duration": 8,
    "start_time": "2022-08-11T15:58:07.763Z"
   },
   {
    "duration": 28,
    "start_time": "2022-08-11T15:58:07.773Z"
   },
   {
    "duration": 165,
    "start_time": "2022-08-11T15:58:07.803Z"
   },
   {
    "duration": 114,
    "start_time": "2022-08-11T15:58:07.970Z"
   },
   {
    "duration": 13,
    "start_time": "2022-08-11T15:58:08.086Z"
   },
   {
    "duration": 27,
    "start_time": "2022-08-11T16:01:13.516Z"
   },
   {
    "duration": 730,
    "start_time": "2022-08-11T16:01:28.543Z"
   },
   {
    "duration": 15,
    "start_time": "2022-08-11T16:01:29.274Z"
   },
   {
    "duration": 1850,
    "start_time": "2022-08-11T16:01:29.291Z"
   },
   {
    "duration": 8,
    "start_time": "2022-08-11T16:01:31.143Z"
   },
   {
    "duration": 11,
    "start_time": "2022-08-11T16:01:31.152Z"
   },
   {
    "duration": 12,
    "start_time": "2022-08-11T16:01:31.164Z"
   },
   {
    "duration": 13,
    "start_time": "2022-08-11T16:01:31.177Z"
   },
   {
    "duration": 9,
    "start_time": "2022-08-11T16:01:31.191Z"
   },
   {
    "duration": 61,
    "start_time": "2022-08-11T16:01:31.201Z"
   },
   {
    "duration": 16,
    "start_time": "2022-08-11T16:01:31.265Z"
   },
   {
    "duration": 9,
    "start_time": "2022-08-11T16:01:31.282Z"
   },
   {
    "duration": 13,
    "start_time": "2022-08-11T16:01:31.293Z"
   },
   {
    "duration": 6,
    "start_time": "2022-08-11T16:01:31.308Z"
   },
   {
    "duration": 25,
    "start_time": "2022-08-11T16:01:31.316Z"
   },
   {
    "duration": 6,
    "start_time": "2022-08-11T16:01:31.342Z"
   },
   {
    "duration": 8,
    "start_time": "2022-08-11T16:01:31.349Z"
   },
   {
    "duration": 13,
    "start_time": "2022-08-11T16:01:31.359Z"
   },
   {
    "duration": 6,
    "start_time": "2022-08-11T16:01:31.374Z"
   },
   {
    "duration": 7,
    "start_time": "2022-08-11T16:01:31.382Z"
   },
   {
    "duration": 9,
    "start_time": "2022-08-11T16:01:31.391Z"
   },
   {
    "duration": 33,
    "start_time": "2022-08-11T16:01:31.402Z"
   },
   {
    "duration": 26,
    "start_time": "2022-08-11T16:01:31.436Z"
   },
   {
    "duration": 26,
    "start_time": "2022-08-11T16:01:31.463Z"
   },
   {
    "duration": 4,
    "start_time": "2022-08-11T16:01:31.490Z"
   },
   {
    "duration": 16,
    "start_time": "2022-08-11T16:01:31.496Z"
   },
   {
    "duration": 16,
    "start_time": "2022-08-11T16:01:31.513Z"
   },
   {
    "duration": 44,
    "start_time": "2022-08-11T16:01:31.531Z"
   },
   {
    "duration": 4,
    "start_time": "2022-08-11T16:01:31.578Z"
   },
   {
    "duration": 452,
    "start_time": "2022-08-11T16:01:31.583Z"
   },
   {
    "duration": 19,
    "start_time": "2022-08-11T16:01:32.036Z"
   },
   {
    "duration": 4,
    "start_time": "2022-08-11T16:01:32.056Z"
   },
   {
    "duration": 19,
    "start_time": "2022-08-11T16:01:32.061Z"
   },
   {
    "duration": 13,
    "start_time": "2022-08-11T16:01:32.081Z"
   },
   {
    "duration": 115,
    "start_time": "2022-08-11T16:01:32.096Z"
   },
   {
    "duration": 9,
    "start_time": "2022-08-11T16:01:32.213Z"
   },
   {
    "duration": 149,
    "start_time": "2022-08-11T16:01:32.223Z"
   },
   {
    "duration": 4,
    "start_time": "2022-08-11T16:01:32.374Z"
   },
   {
    "duration": 135,
    "start_time": "2022-08-11T16:01:32.380Z"
   },
   {
    "duration": 191,
    "start_time": "2022-08-11T16:01:32.516Z"
   },
   {
    "duration": 130,
    "start_time": "2022-08-11T16:01:32.708Z"
   },
   {
    "duration": 139,
    "start_time": "2022-08-11T16:01:32.839Z"
   },
   {
    "duration": 143,
    "start_time": "2022-08-11T16:01:32.980Z"
   },
   {
    "duration": 122,
    "start_time": "2022-08-11T16:01:33.124Z"
   },
   {
    "duration": 124,
    "start_time": "2022-08-11T16:01:33.248Z"
   },
   {
    "duration": 19,
    "start_time": "2022-08-11T16:01:33.373Z"
   },
   {
    "duration": 128,
    "start_time": "2022-08-11T16:01:33.393Z"
   },
   {
    "duration": 33,
    "start_time": "2022-08-11T16:01:33.523Z"
   },
   {
    "duration": 150,
    "start_time": "2022-08-11T16:01:33.557Z"
   },
   {
    "duration": 20,
    "start_time": "2022-08-11T16:01:33.709Z"
   },
   {
    "duration": 255,
    "start_time": "2022-08-11T16:01:33.731Z"
   },
   {
    "duration": 188,
    "start_time": "2022-08-11T16:01:33.987Z"
   },
   {
    "duration": 7,
    "start_time": "2022-08-11T16:01:34.177Z"
   },
   {
    "duration": 281,
    "start_time": "2022-08-11T16:01:34.185Z"
   },
   {
    "duration": 5,
    "start_time": "2022-08-11T16:01:34.467Z"
   },
   {
    "duration": 189,
    "start_time": "2022-08-11T16:01:34.473Z"
   },
   {
    "duration": 4,
    "start_time": "2022-08-11T16:01:34.664Z"
   },
   {
    "duration": 180,
    "start_time": "2022-08-11T16:01:34.669Z"
   },
   {
    "duration": 6,
    "start_time": "2022-08-11T16:01:34.850Z"
   },
   {
    "duration": 188,
    "start_time": "2022-08-11T16:01:34.857Z"
   },
   {
    "duration": 8,
    "start_time": "2022-08-11T16:01:35.047Z"
   },
   {
    "duration": 162,
    "start_time": "2022-08-11T16:01:35.056Z"
   },
   {
    "duration": 7,
    "start_time": "2022-08-11T16:01:35.219Z"
   },
   {
    "duration": 240,
    "start_time": "2022-08-11T16:01:35.227Z"
   },
   {
    "duration": 13,
    "start_time": "2022-08-11T16:01:35.469Z"
   },
   {
    "duration": 242,
    "start_time": "2022-08-11T16:01:35.483Z"
   },
   {
    "duration": 6,
    "start_time": "2022-08-11T16:01:35.727Z"
   },
   {
    "duration": 29,
    "start_time": "2022-08-11T16:01:35.735Z"
   },
   {
    "duration": 9,
    "start_time": "2022-08-11T16:01:35.766Z"
   },
   {
    "duration": 32,
    "start_time": "2022-08-11T16:01:35.776Z"
   },
   {
    "duration": 165,
    "start_time": "2022-08-11T16:01:35.810Z"
   },
   {
    "duration": 127,
    "start_time": "2022-08-11T16:01:35.977Z"
   },
   {
    "duration": 24,
    "start_time": "2022-08-11T16:01:36.106Z"
   },
   {
    "duration": 38,
    "start_time": "2022-08-11T16:02:35.346Z"
   },
   {
    "duration": 687,
    "start_time": "2022-08-11T16:05:27.974Z"
   },
   {
    "duration": 13,
    "start_time": "2022-08-11T16:05:28.662Z"
   },
   {
    "duration": 1804,
    "start_time": "2022-08-11T16:05:28.677Z"
   },
   {
    "duration": 9,
    "start_time": "2022-08-11T16:05:30.483Z"
   },
   {
    "duration": 24,
    "start_time": "2022-08-11T16:05:30.493Z"
   },
   {
    "duration": 37,
    "start_time": "2022-08-11T16:05:30.519Z"
   },
   {
    "duration": 68,
    "start_time": "2022-08-11T16:05:30.557Z"
   },
   {
    "duration": 38,
    "start_time": "2022-08-11T16:05:30.626Z"
   },
   {
    "duration": 54,
    "start_time": "2022-08-11T16:05:30.665Z"
   },
   {
    "duration": 19,
    "start_time": "2022-08-11T16:05:30.722Z"
   },
   {
    "duration": 45,
    "start_time": "2022-08-11T16:05:30.743Z"
   },
   {
    "duration": 37,
    "start_time": "2022-08-11T16:05:30.790Z"
   },
   {
    "duration": 40,
    "start_time": "2022-08-11T16:05:30.829Z"
   },
   {
    "duration": 70,
    "start_time": "2022-08-11T16:05:30.870Z"
   },
   {
    "duration": 35,
    "start_time": "2022-08-11T16:05:30.941Z"
   },
   {
    "duration": 24,
    "start_time": "2022-08-11T16:05:30.978Z"
   },
   {
    "duration": 13,
    "start_time": "2022-08-11T16:05:31.003Z"
   },
   {
    "duration": 10,
    "start_time": "2022-08-11T16:05:31.017Z"
   },
   {
    "duration": 14,
    "start_time": "2022-08-11T16:05:31.029Z"
   },
   {
    "duration": 15,
    "start_time": "2022-08-11T16:05:31.044Z"
   },
   {
    "duration": 38,
    "start_time": "2022-08-11T16:05:31.061Z"
   },
   {
    "duration": 28,
    "start_time": "2022-08-11T16:05:31.101Z"
   },
   {
    "duration": 59,
    "start_time": "2022-08-11T16:05:31.130Z"
   },
   {
    "duration": 5,
    "start_time": "2022-08-11T16:05:31.192Z"
   },
   {
    "duration": 23,
    "start_time": "2022-08-11T16:05:31.198Z"
   },
   {
    "duration": 7,
    "start_time": "2022-08-11T16:05:31.223Z"
   },
   {
    "duration": 33,
    "start_time": "2022-08-11T16:05:31.231Z"
   },
   {
    "duration": 6,
    "start_time": "2022-08-11T16:05:31.269Z"
   },
   {
    "duration": 13,
    "start_time": "2022-08-11T16:05:31.276Z"
   },
   {
    "duration": 504,
    "start_time": "2022-08-11T16:05:31.291Z"
   },
   {
    "duration": 12,
    "start_time": "2022-08-11T16:05:31.796Z"
   },
   {
    "duration": 6,
    "start_time": "2022-08-11T16:05:31.810Z"
   },
   {
    "duration": 33,
    "start_time": "2022-08-11T16:05:31.818Z"
   },
   {
    "duration": 13,
    "start_time": "2022-08-11T16:05:31.852Z"
   },
   {
    "duration": 114,
    "start_time": "2022-08-11T16:05:31.867Z"
   },
   {
    "duration": 8,
    "start_time": "2022-08-11T16:05:31.982Z"
   },
   {
    "duration": 144,
    "start_time": "2022-08-11T16:05:31.991Z"
   },
   {
    "duration": 4,
    "start_time": "2022-08-11T16:05:32.136Z"
   },
   {
    "duration": 141,
    "start_time": "2022-08-11T16:05:32.141Z"
   },
   {
    "duration": 202,
    "start_time": "2022-08-11T16:05:32.284Z"
   },
   {
    "duration": 129,
    "start_time": "2022-08-11T16:05:32.487Z"
   },
   {
    "duration": 120,
    "start_time": "2022-08-11T16:05:32.618Z"
   },
   {
    "duration": 126,
    "start_time": "2022-08-11T16:05:32.740Z"
   },
   {
    "duration": 117,
    "start_time": "2022-08-11T16:05:32.867Z"
   },
   {
    "duration": 118,
    "start_time": "2022-08-11T16:05:32.986Z"
   },
   {
    "duration": 21,
    "start_time": "2022-08-11T16:05:33.105Z"
   },
   {
    "duration": 138,
    "start_time": "2022-08-11T16:05:33.127Z"
   },
   {
    "duration": 22,
    "start_time": "2022-08-11T16:05:33.266Z"
   },
   {
    "duration": 147,
    "start_time": "2022-08-11T16:05:33.289Z"
   },
   {
    "duration": 25,
    "start_time": "2022-08-11T16:05:33.438Z"
   },
   {
    "duration": 268,
    "start_time": "2022-08-11T16:05:33.464Z"
   },
   {
    "duration": 199,
    "start_time": "2022-08-11T16:05:33.734Z"
   },
   {
    "duration": 8,
    "start_time": "2022-08-11T16:05:33.934Z"
   },
   {
    "duration": 300,
    "start_time": "2022-08-11T16:05:33.943Z"
   },
   {
    "duration": 4,
    "start_time": "2022-08-11T16:05:34.244Z"
   },
   {
    "duration": 184,
    "start_time": "2022-08-11T16:05:34.254Z"
   },
   {
    "duration": 4,
    "start_time": "2022-08-11T16:05:34.440Z"
   },
   {
    "duration": 171,
    "start_time": "2022-08-11T16:05:34.445Z"
   },
   {
    "duration": 4,
    "start_time": "2022-08-11T16:05:34.617Z"
   },
   {
    "duration": 184,
    "start_time": "2022-08-11T16:05:34.622Z"
   },
   {
    "duration": 3,
    "start_time": "2022-08-11T16:05:34.808Z"
   },
   {
    "duration": 166,
    "start_time": "2022-08-11T16:05:34.813Z"
   },
   {
    "duration": 7,
    "start_time": "2022-08-11T16:05:34.981Z"
   },
   {
    "duration": 246,
    "start_time": "2022-08-11T16:05:34.989Z"
   },
   {
    "duration": 23,
    "start_time": "2022-08-11T16:05:35.237Z"
   },
   {
    "duration": 226,
    "start_time": "2022-08-11T16:05:35.262Z"
   },
   {
    "duration": 7,
    "start_time": "2022-08-11T16:05:35.490Z"
   },
   {
    "duration": 22,
    "start_time": "2022-08-11T16:05:35.498Z"
   },
   {
    "duration": 9,
    "start_time": "2022-08-11T16:05:35.522Z"
   },
   {
    "duration": 45,
    "start_time": "2022-08-11T16:05:35.533Z"
   },
   {
    "duration": 157,
    "start_time": "2022-08-11T16:05:35.579Z"
   },
   {
    "duration": 109,
    "start_time": "2022-08-11T16:05:35.737Z"
   },
   {
    "duration": 16,
    "start_time": "2022-08-11T16:05:35.854Z"
   },
   {
    "duration": 63,
    "start_time": "2022-08-11T16:07:53.844Z"
   },
   {
    "duration": 15,
    "start_time": "2022-08-11T16:07:59.587Z"
   },
   {
    "duration": 140,
    "start_time": "2022-08-11T16:10:00.061Z"
   },
   {
    "duration": 103,
    "start_time": "2022-08-11T16:10:23.398Z"
   },
   {
    "duration": 131,
    "start_time": "2022-08-11T16:10:41.506Z"
   },
   {
    "duration": 131,
    "start_time": "2022-08-11T16:10:50.141Z"
   },
   {
    "duration": 297,
    "start_time": "2022-08-11T16:10:59.557Z"
   },
   {
    "duration": 169,
    "start_time": "2022-08-11T16:11:06.818Z"
   },
   {
    "duration": 183,
    "start_time": "2022-08-11T16:11:20.418Z"
   },
   {
    "duration": 198,
    "start_time": "2022-08-11T16:11:35.122Z"
   },
   {
    "duration": 1282,
    "start_time": "2022-08-11T16:18:39.133Z"
   },
   {
    "duration": 113,
    "start_time": "2022-08-11T16:18:47.690Z"
   },
   {
    "duration": 20,
    "start_time": "2022-08-11T16:35:20.253Z"
   },
   {
    "duration": 942,
    "start_time": "2022-08-11T16:35:33.312Z"
   },
   {
    "duration": 14,
    "start_time": "2022-08-11T16:35:34.256Z"
   },
   {
    "duration": 1701,
    "start_time": "2022-08-11T16:35:34.272Z"
   },
   {
    "duration": 8,
    "start_time": "2022-08-11T16:35:35.975Z"
   },
   {
    "duration": 7,
    "start_time": "2022-08-11T16:35:35.985Z"
   },
   {
    "duration": 8,
    "start_time": "2022-08-11T16:35:35.993Z"
   },
   {
    "duration": 7,
    "start_time": "2022-08-11T16:35:36.002Z"
   },
   {
    "duration": 8,
    "start_time": "2022-08-11T16:35:36.010Z"
   },
   {
    "duration": 52,
    "start_time": "2022-08-11T16:35:36.019Z"
   },
   {
    "duration": 16,
    "start_time": "2022-08-11T16:35:36.074Z"
   },
   {
    "duration": 21,
    "start_time": "2022-08-11T16:35:36.092Z"
   },
   {
    "duration": 8,
    "start_time": "2022-08-11T16:35:36.114Z"
   },
   {
    "duration": 15,
    "start_time": "2022-08-11T16:35:36.123Z"
   },
   {
    "duration": 19,
    "start_time": "2022-08-11T16:35:36.139Z"
   },
   {
    "duration": 6,
    "start_time": "2022-08-11T16:35:36.159Z"
   },
   {
    "duration": 9,
    "start_time": "2022-08-11T16:35:36.167Z"
   },
   {
    "duration": 14,
    "start_time": "2022-08-11T16:35:36.178Z"
   },
   {
    "duration": 5,
    "start_time": "2022-08-11T16:35:36.194Z"
   },
   {
    "duration": 6,
    "start_time": "2022-08-11T16:35:36.201Z"
   },
   {
    "duration": 3,
    "start_time": "2022-08-11T16:35:36.209Z"
   },
   {
    "duration": 51,
    "start_time": "2022-08-11T16:35:36.213Z"
   },
   {
    "duration": 26,
    "start_time": "2022-08-11T16:35:36.266Z"
   },
   {
    "duration": 26,
    "start_time": "2022-08-11T16:35:36.294Z"
   },
   {
    "duration": 5,
    "start_time": "2022-08-11T16:35:36.321Z"
   },
   {
    "duration": 30,
    "start_time": "2022-08-11T16:35:36.327Z"
   },
   {
    "duration": 5,
    "start_time": "2022-08-11T16:35:36.359Z"
   },
   {
    "duration": 27,
    "start_time": "2022-08-11T16:35:36.365Z"
   },
   {
    "duration": 4,
    "start_time": "2022-08-11T16:35:36.395Z"
   },
   {
    "duration": 305,
    "start_time": "2022-08-11T16:35:36.400Z"
   },
   {
    "duration": 11,
    "start_time": "2022-08-11T16:35:36.706Z"
   },
   {
    "duration": 98,
    "start_time": "2022-08-11T16:35:36.718Z"
   },
   {
    "duration": 0,
    "start_time": "2022-08-11T16:35:36.817Z"
   },
   {
    "duration": 0,
    "start_time": "2022-08-11T16:35:36.818Z"
   },
   {
    "duration": 0,
    "start_time": "2022-08-11T16:35:36.819Z"
   },
   {
    "duration": 0,
    "start_time": "2022-08-11T16:35:36.821Z"
   },
   {
    "duration": 0,
    "start_time": "2022-08-11T16:35:36.821Z"
   },
   {
    "duration": 0,
    "start_time": "2022-08-11T16:35:36.822Z"
   },
   {
    "duration": 0,
    "start_time": "2022-08-11T16:35:36.823Z"
   },
   {
    "duration": 0,
    "start_time": "2022-08-11T16:35:36.824Z"
   },
   {
    "duration": 0,
    "start_time": "2022-08-11T16:35:36.825Z"
   },
   {
    "duration": 0,
    "start_time": "2022-08-11T16:35:36.826Z"
   },
   {
    "duration": 0,
    "start_time": "2022-08-11T16:35:36.827Z"
   },
   {
    "duration": 0,
    "start_time": "2022-08-11T16:35:36.828Z"
   },
   {
    "duration": 0,
    "start_time": "2022-08-11T16:35:36.829Z"
   },
   {
    "duration": 0,
    "start_time": "2022-08-11T16:35:36.829Z"
   },
   {
    "duration": 0,
    "start_time": "2022-08-11T16:35:36.830Z"
   },
   {
    "duration": 0,
    "start_time": "2022-08-11T16:35:36.831Z"
   },
   {
    "duration": 0,
    "start_time": "2022-08-11T16:35:36.831Z"
   },
   {
    "duration": 0,
    "start_time": "2022-08-11T16:35:36.855Z"
   },
   {
    "duration": 0,
    "start_time": "2022-08-11T16:35:36.856Z"
   },
   {
    "duration": 0,
    "start_time": "2022-08-11T16:35:36.858Z"
   },
   {
    "duration": 0,
    "start_time": "2022-08-11T16:35:36.860Z"
   },
   {
    "duration": 0,
    "start_time": "2022-08-11T16:35:36.861Z"
   },
   {
    "duration": 0,
    "start_time": "2022-08-11T16:35:36.862Z"
   },
   {
    "duration": 0,
    "start_time": "2022-08-11T16:35:36.863Z"
   },
   {
    "duration": 0,
    "start_time": "2022-08-11T16:35:36.864Z"
   },
   {
    "duration": 0,
    "start_time": "2022-08-11T16:35:36.865Z"
   },
   {
    "duration": 0,
    "start_time": "2022-08-11T16:35:36.866Z"
   },
   {
    "duration": 0,
    "start_time": "2022-08-11T16:35:36.868Z"
   },
   {
    "duration": 0,
    "start_time": "2022-08-11T16:35:36.869Z"
   },
   {
    "duration": 0,
    "start_time": "2022-08-11T16:35:36.870Z"
   },
   {
    "duration": 0,
    "start_time": "2022-08-11T16:35:36.871Z"
   },
   {
    "duration": 0,
    "start_time": "2022-08-11T16:35:36.872Z"
   },
   {
    "duration": 0,
    "start_time": "2022-08-11T16:35:36.873Z"
   },
   {
    "duration": 0,
    "start_time": "2022-08-11T16:35:36.874Z"
   },
   {
    "duration": 0,
    "start_time": "2022-08-11T16:35:36.874Z"
   },
   {
    "duration": 0,
    "start_time": "2022-08-11T16:35:36.876Z"
   },
   {
    "duration": 0,
    "start_time": "2022-08-11T16:35:36.877Z"
   },
   {
    "duration": 0,
    "start_time": "2022-08-11T16:35:36.878Z"
   },
   {
    "duration": 0,
    "start_time": "2022-08-11T16:35:36.879Z"
   },
   {
    "duration": 0,
    "start_time": "2022-08-11T16:35:36.880Z"
   },
   {
    "duration": 0,
    "start_time": "2022-08-11T16:35:36.881Z"
   },
   {
    "duration": 0,
    "start_time": "2022-08-11T16:35:36.882Z"
   },
   {
    "duration": 13,
    "start_time": "2022-08-11T16:36:38.548Z"
   },
   {
    "duration": 22,
    "start_time": "2022-08-11T16:36:46.426Z"
   },
   {
    "duration": 145,
    "start_time": "2022-08-11T16:37:48.089Z"
   },
   {
    "duration": 177,
    "start_time": "2022-08-11T16:38:27.437Z"
   },
   {
    "duration": 123,
    "start_time": "2022-08-11T16:38:34.333Z"
   },
   {
    "duration": 194,
    "start_time": "2022-08-11T16:39:10.243Z"
   },
   {
    "duration": 710,
    "start_time": "2022-08-11T17:05:30.861Z"
   },
   {
    "duration": 13,
    "start_time": "2022-08-11T17:05:31.573Z"
   },
   {
    "duration": 1918,
    "start_time": "2022-08-11T17:05:31.587Z"
   },
   {
    "duration": 8,
    "start_time": "2022-08-11T17:05:33.507Z"
   },
   {
    "duration": 10,
    "start_time": "2022-08-11T17:05:33.517Z"
   },
   {
    "duration": 8,
    "start_time": "2022-08-11T17:05:33.528Z"
   },
   {
    "duration": 4,
    "start_time": "2022-08-11T17:05:33.538Z"
   },
   {
    "duration": 8,
    "start_time": "2022-08-11T17:05:33.544Z"
   },
   {
    "duration": 41,
    "start_time": "2022-08-11T17:05:33.553Z"
   },
   {
    "duration": 15,
    "start_time": "2022-08-11T17:05:33.597Z"
   },
   {
    "duration": 9,
    "start_time": "2022-08-11T17:05:33.613Z"
   },
   {
    "duration": 7,
    "start_time": "2022-08-11T17:05:33.623Z"
   },
   {
    "duration": 28,
    "start_time": "2022-08-11T17:05:33.632Z"
   },
   {
    "duration": 10,
    "start_time": "2022-08-11T17:05:33.661Z"
   },
   {
    "duration": 5,
    "start_time": "2022-08-11T17:05:33.672Z"
   },
   {
    "duration": 6,
    "start_time": "2022-08-11T17:05:33.679Z"
   },
   {
    "duration": 9,
    "start_time": "2022-08-11T17:05:33.687Z"
   },
   {
    "duration": 6,
    "start_time": "2022-08-11T17:05:33.697Z"
   },
   {
    "duration": 7,
    "start_time": "2022-08-11T17:05:33.705Z"
   },
   {
    "duration": 41,
    "start_time": "2022-08-11T17:05:33.714Z"
   },
   {
    "duration": 31,
    "start_time": "2022-08-11T17:05:33.758Z"
   },
   {
    "duration": 28,
    "start_time": "2022-08-11T17:05:33.792Z"
   },
   {
    "duration": 53,
    "start_time": "2022-08-11T17:05:33.822Z"
   },
   {
    "duration": 5,
    "start_time": "2022-08-11T17:05:33.877Z"
   },
   {
    "duration": 6,
    "start_time": "2022-08-11T17:05:33.884Z"
   },
   {
    "duration": 9,
    "start_time": "2022-08-11T17:05:33.892Z"
   },
   {
    "duration": 25,
    "start_time": "2022-08-11T17:05:33.903Z"
   },
   {
    "duration": 25,
    "start_time": "2022-08-11T17:05:33.931Z"
   },
   {
    "duration": 292,
    "start_time": "2022-08-11T17:05:33.958Z"
   },
   {
    "duration": 10,
    "start_time": "2022-08-11T17:05:34.254Z"
   },
   {
    "duration": 21,
    "start_time": "2022-08-11T17:05:34.266Z"
   },
   {
    "duration": 8,
    "start_time": "2022-08-11T17:05:34.288Z"
   },
   {
    "duration": 14,
    "start_time": "2022-08-11T17:05:34.298Z"
   },
   {
    "duration": 128,
    "start_time": "2022-08-11T17:05:34.314Z"
   },
   {
    "duration": 16,
    "start_time": "2022-08-11T17:05:34.444Z"
   },
   {
    "duration": 141,
    "start_time": "2022-08-11T17:05:34.461Z"
   },
   {
    "duration": 5,
    "start_time": "2022-08-11T17:05:34.603Z"
   },
   {
    "duration": 130,
    "start_time": "2022-08-11T17:05:34.609Z"
   },
   {
    "duration": 200,
    "start_time": "2022-08-11T17:05:34.740Z"
   },
   {
    "duration": 152,
    "start_time": "2022-08-11T17:05:34.942Z"
   },
   {
    "duration": 127,
    "start_time": "2022-08-11T17:05:35.096Z"
   },
   {
    "duration": 130,
    "start_time": "2022-08-11T17:05:35.225Z"
   },
   {
    "duration": 115,
    "start_time": "2022-08-11T17:05:35.356Z"
   },
   {
    "duration": 116,
    "start_time": "2022-08-11T17:05:35.472Z"
   },
   {
    "duration": 116,
    "start_time": "2022-08-11T17:05:35.590Z"
   },
   {
    "duration": 20,
    "start_time": "2022-08-11T17:05:35.708Z"
   },
   {
    "duration": 141,
    "start_time": "2022-08-11T17:05:35.729Z"
   },
   {
    "duration": 20,
    "start_time": "2022-08-11T17:05:35.872Z"
   },
   {
    "duration": 145,
    "start_time": "2022-08-11T17:05:35.893Z"
   },
   {
    "duration": 27,
    "start_time": "2022-08-11T17:05:36.040Z"
   },
   {
    "duration": 147,
    "start_time": "2022-08-11T17:05:36.069Z"
   },
   {
    "duration": 138,
    "start_time": "2022-08-11T17:05:36.218Z"
   },
   {
    "duration": 133,
    "start_time": "2022-08-11T17:05:36.358Z"
   },
   {
    "duration": 333,
    "start_time": "2022-08-11T17:05:36.493Z"
   },
   {
    "duration": 6,
    "start_time": "2022-08-11T17:05:36.828Z"
   },
   {
    "duration": 206,
    "start_time": "2022-08-11T17:05:36.836Z"
   },
   {
    "duration": 11,
    "start_time": "2022-08-11T17:05:37.044Z"
   },
   {
    "duration": 183,
    "start_time": "2022-08-11T17:05:37.056Z"
   },
   {
    "duration": 5,
    "start_time": "2022-08-11T17:05:37.240Z"
   },
   {
    "duration": 218,
    "start_time": "2022-08-11T17:05:37.255Z"
   },
   {
    "duration": 5,
    "start_time": "2022-08-11T17:05:37.475Z"
   },
   {
    "duration": 193,
    "start_time": "2022-08-11T17:05:37.481Z"
   },
   {
    "duration": 5,
    "start_time": "2022-08-11T17:05:37.676Z"
   },
   {
    "duration": 176,
    "start_time": "2022-08-11T17:05:37.682Z"
   },
   {
    "duration": 6,
    "start_time": "2022-08-11T17:05:37.859Z"
   },
   {
    "duration": 316,
    "start_time": "2022-08-11T17:05:37.866Z"
   },
   {
    "duration": 14,
    "start_time": "2022-08-11T17:05:38.184Z"
   },
   {
    "duration": 280,
    "start_time": "2022-08-11T17:05:38.199Z"
   },
   {
    "duration": 6,
    "start_time": "2022-08-11T17:05:38.481Z"
   },
   {
    "duration": 24,
    "start_time": "2022-08-11T17:05:38.488Z"
   },
   {
    "duration": 10,
    "start_time": "2022-08-11T17:05:38.514Z"
   },
   {
    "duration": 52,
    "start_time": "2022-08-11T17:05:38.526Z"
   },
   {
    "duration": 182,
    "start_time": "2022-08-11T17:05:38.580Z"
   },
   {
    "duration": 133,
    "start_time": "2022-08-11T17:05:38.764Z"
   },
   {
    "duration": 16,
    "start_time": "2022-08-11T17:05:38.899Z"
   },
   {
    "duration": 29,
    "start_time": "2022-08-11T17:07:27.060Z"
   },
   {
    "duration": 1243,
    "start_time": "2022-08-11T17:08:18.174Z"
   },
   {
    "duration": 18,
    "start_time": "2022-08-11T17:08:25.806Z"
   },
   {
    "duration": 764,
    "start_time": "2022-08-11T17:08:36.928Z"
   },
   {
    "duration": 15,
    "start_time": "2022-08-11T17:08:37.693Z"
   },
   {
    "duration": 1920,
    "start_time": "2022-08-11T17:08:37.709Z"
   },
   {
    "duration": 9,
    "start_time": "2022-08-11T17:08:39.631Z"
   },
   {
    "duration": 8,
    "start_time": "2022-08-11T17:08:39.642Z"
   },
   {
    "duration": 5,
    "start_time": "2022-08-11T17:08:39.652Z"
   },
   {
    "duration": 4,
    "start_time": "2022-08-11T17:08:39.659Z"
   },
   {
    "duration": 9,
    "start_time": "2022-08-11T17:08:39.664Z"
   },
   {
    "duration": 43,
    "start_time": "2022-08-11T17:08:39.674Z"
   },
   {
    "duration": 17,
    "start_time": "2022-08-11T17:08:39.719Z"
   },
   {
    "duration": 8,
    "start_time": "2022-08-11T17:08:39.754Z"
   },
   {
    "duration": 10,
    "start_time": "2022-08-11T17:08:39.764Z"
   },
   {
    "duration": 12,
    "start_time": "2022-08-11T17:08:39.775Z"
   },
   {
    "duration": 12,
    "start_time": "2022-08-11T17:08:39.789Z"
   },
   {
    "duration": 7,
    "start_time": "2022-08-11T17:08:39.803Z"
   },
   {
    "duration": 7,
    "start_time": "2022-08-11T17:08:39.812Z"
   },
   {
    "duration": 12,
    "start_time": "2022-08-11T17:08:39.820Z"
   },
   {
    "duration": 6,
    "start_time": "2022-08-11T17:08:39.854Z"
   },
   {
    "duration": 7,
    "start_time": "2022-08-11T17:08:39.862Z"
   },
   {
    "duration": 15,
    "start_time": "2022-08-11T17:08:39.870Z"
   },
   {
    "duration": 29,
    "start_time": "2022-08-11T17:08:39.887Z"
   },
   {
    "duration": 42,
    "start_time": "2022-08-11T17:08:39.917Z"
   },
   {
    "duration": 26,
    "start_time": "2022-08-11T17:08:39.961Z"
   },
   {
    "duration": 4,
    "start_time": "2022-08-11T17:08:39.988Z"
   },
   {
    "duration": 7,
    "start_time": "2022-08-11T17:08:39.993Z"
   },
   {
    "duration": 6,
    "start_time": "2022-08-11T17:08:40.001Z"
   },
   {
    "duration": 47,
    "start_time": "2022-08-11T17:08:40.008Z"
   },
   {
    "duration": 4,
    "start_time": "2022-08-11T17:08:40.059Z"
   },
   {
    "duration": 317,
    "start_time": "2022-08-11T17:08:40.064Z"
   },
   {
    "duration": 12,
    "start_time": "2022-08-11T17:08:40.382Z"
   },
   {
    "duration": 84,
    "start_time": "2022-08-11T17:08:40.395Z"
   },
   {
    "duration": 0,
    "start_time": "2022-08-11T17:08:40.480Z"
   },
   {
    "duration": 0,
    "start_time": "2022-08-11T17:08:40.481Z"
   },
   {
    "duration": 0,
    "start_time": "2022-08-11T17:08:40.482Z"
   },
   {
    "duration": 0,
    "start_time": "2022-08-11T17:08:40.483Z"
   },
   {
    "duration": 0,
    "start_time": "2022-08-11T17:08:40.484Z"
   },
   {
    "duration": 0,
    "start_time": "2022-08-11T17:08:40.485Z"
   },
   {
    "duration": 0,
    "start_time": "2022-08-11T17:08:40.486Z"
   },
   {
    "duration": 0,
    "start_time": "2022-08-11T17:08:40.486Z"
   },
   {
    "duration": 0,
    "start_time": "2022-08-11T17:08:40.487Z"
   },
   {
    "duration": 0,
    "start_time": "2022-08-11T17:08:40.488Z"
   },
   {
    "duration": 0,
    "start_time": "2022-08-11T17:08:40.489Z"
   },
   {
    "duration": 0,
    "start_time": "2022-08-11T17:08:40.490Z"
   },
   {
    "duration": 0,
    "start_time": "2022-08-11T17:08:40.491Z"
   },
   {
    "duration": 0,
    "start_time": "2022-08-11T17:08:40.491Z"
   },
   {
    "duration": 0,
    "start_time": "2022-08-11T17:08:40.492Z"
   },
   {
    "duration": 0,
    "start_time": "2022-08-11T17:08:40.493Z"
   },
   {
    "duration": 0,
    "start_time": "2022-08-11T17:08:40.494Z"
   },
   {
    "duration": 0,
    "start_time": "2022-08-11T17:08:40.495Z"
   },
   {
    "duration": 0,
    "start_time": "2022-08-11T17:08:40.496Z"
   },
   {
    "duration": 0,
    "start_time": "2022-08-11T17:08:40.497Z"
   },
   {
    "duration": 0,
    "start_time": "2022-08-11T17:08:40.498Z"
   },
   {
    "duration": 0,
    "start_time": "2022-08-11T17:08:40.499Z"
   },
   {
    "duration": 0,
    "start_time": "2022-08-11T17:08:40.500Z"
   },
   {
    "duration": 0,
    "start_time": "2022-08-11T17:08:40.501Z"
   },
   {
    "duration": 0,
    "start_time": "2022-08-11T17:08:40.501Z"
   },
   {
    "duration": 0,
    "start_time": "2022-08-11T17:08:40.502Z"
   },
   {
    "duration": 0,
    "start_time": "2022-08-11T17:08:40.503Z"
   },
   {
    "duration": 0,
    "start_time": "2022-08-11T17:08:40.504Z"
   },
   {
    "duration": 0,
    "start_time": "2022-08-11T17:08:40.504Z"
   },
   {
    "duration": 0,
    "start_time": "2022-08-11T17:08:40.505Z"
   },
   {
    "duration": 0,
    "start_time": "2022-08-11T17:08:40.555Z"
   },
   {
    "duration": 0,
    "start_time": "2022-08-11T17:08:40.556Z"
   },
   {
    "duration": 0,
    "start_time": "2022-08-11T17:08:40.557Z"
   },
   {
    "duration": 0,
    "start_time": "2022-08-11T17:08:40.557Z"
   },
   {
    "duration": 0,
    "start_time": "2022-08-11T17:08:40.558Z"
   },
   {
    "duration": 0,
    "start_time": "2022-08-11T17:08:40.559Z"
   },
   {
    "duration": 0,
    "start_time": "2022-08-11T17:08:40.560Z"
   },
   {
    "duration": 0,
    "start_time": "2022-08-11T17:08:40.561Z"
   },
   {
    "duration": 0,
    "start_time": "2022-08-11T17:08:40.562Z"
   },
   {
    "duration": 0,
    "start_time": "2022-08-11T17:08:40.563Z"
   },
   {
    "duration": 0,
    "start_time": "2022-08-11T17:08:40.564Z"
   },
   {
    "duration": 0,
    "start_time": "2022-08-11T17:08:40.565Z"
   },
   {
    "duration": 0,
    "start_time": "2022-08-11T17:08:40.566Z"
   },
   {
    "duration": 0,
    "start_time": "2022-08-11T17:08:40.567Z"
   },
   {
    "duration": 21,
    "start_time": "2022-08-11T17:09:03.085Z"
   },
   {
    "duration": 9,
    "start_time": "2022-08-11T17:09:26.625Z"
   },
   {
    "duration": 672,
    "start_time": "2022-08-11T17:09:53.487Z"
   },
   {
    "duration": 13,
    "start_time": "2022-08-11T17:09:54.161Z"
   },
   {
    "duration": 1733,
    "start_time": "2022-08-11T17:09:54.176Z"
   },
   {
    "duration": 12,
    "start_time": "2022-08-11T17:09:55.912Z"
   },
   {
    "duration": 14,
    "start_time": "2022-08-11T17:09:55.925Z"
   },
   {
    "duration": 11,
    "start_time": "2022-08-11T17:09:55.940Z"
   },
   {
    "duration": 7,
    "start_time": "2022-08-11T17:09:55.953Z"
   },
   {
    "duration": 10,
    "start_time": "2022-08-11T17:09:55.961Z"
   },
   {
    "duration": 39,
    "start_time": "2022-08-11T17:09:55.972Z"
   },
   {
    "duration": 15,
    "start_time": "2022-08-11T17:09:56.013Z"
   },
   {
    "duration": 26,
    "start_time": "2022-08-11T17:09:56.029Z"
   },
   {
    "duration": 11,
    "start_time": "2022-08-11T17:09:56.057Z"
   },
   {
    "duration": 6,
    "start_time": "2022-08-11T17:09:56.070Z"
   },
   {
    "duration": 11,
    "start_time": "2022-08-11T17:09:56.077Z"
   },
   {
    "duration": 5,
    "start_time": "2022-08-11T17:09:56.089Z"
   },
   {
    "duration": 9,
    "start_time": "2022-08-11T17:09:56.095Z"
   },
   {
    "duration": 9,
    "start_time": "2022-08-11T17:09:56.105Z"
   },
   {
    "duration": 5,
    "start_time": "2022-08-11T17:09:56.116Z"
   },
   {
    "duration": 34,
    "start_time": "2022-08-11T17:09:56.122Z"
   },
   {
    "duration": 3,
    "start_time": "2022-08-11T17:09:56.158Z"
   },
   {
    "duration": 27,
    "start_time": "2022-08-11T17:09:56.163Z"
   },
   {
    "duration": 26,
    "start_time": "2022-08-11T17:09:56.192Z"
   },
   {
    "duration": 52,
    "start_time": "2022-08-11T17:09:56.219Z"
   },
   {
    "duration": 4,
    "start_time": "2022-08-11T17:09:56.273Z"
   },
   {
    "duration": 9,
    "start_time": "2022-08-11T17:09:56.278Z"
   },
   {
    "duration": 6,
    "start_time": "2022-08-11T17:09:56.288Z"
   },
   {
    "duration": 20,
    "start_time": "2022-08-11T17:09:56.295Z"
   },
   {
    "duration": 3,
    "start_time": "2022-08-11T17:09:56.319Z"
   },
   {
    "duration": 309,
    "start_time": "2022-08-11T17:09:56.323Z"
   },
   {
    "duration": 11,
    "start_time": "2022-08-11T17:09:56.633Z"
   },
   {
    "duration": 10,
    "start_time": "2022-08-11T17:09:56.645Z"
   },
   {
    "duration": 21,
    "start_time": "2022-08-11T17:09:56.656Z"
   },
   {
    "duration": 28,
    "start_time": "2022-08-11T17:09:56.678Z"
   },
   {
    "duration": 123,
    "start_time": "2022-08-11T17:09:56.707Z"
   },
   {
    "duration": 8,
    "start_time": "2022-08-11T17:09:56.832Z"
   },
   {
    "duration": 152,
    "start_time": "2022-08-11T17:09:56.841Z"
   },
   {
    "duration": 5,
    "start_time": "2022-08-11T17:09:56.995Z"
   },
   {
    "duration": 146,
    "start_time": "2022-08-11T17:09:57.001Z"
   },
   {
    "duration": 216,
    "start_time": "2022-08-11T17:09:57.148Z"
   },
   {
    "duration": 202,
    "start_time": "2022-08-11T17:09:57.366Z"
   },
   {
    "duration": 130,
    "start_time": "2022-08-11T17:09:57.570Z"
   },
   {
    "duration": 126,
    "start_time": "2022-08-11T17:09:57.701Z"
   },
   {
    "duration": 126,
    "start_time": "2022-08-11T17:09:57.829Z"
   },
   {
    "duration": 113,
    "start_time": "2022-08-11T17:09:57.956Z"
   },
   {
    "duration": 125,
    "start_time": "2022-08-11T17:09:58.071Z"
   },
   {
    "duration": 21,
    "start_time": "2022-08-11T17:09:58.198Z"
   },
   {
    "duration": 135,
    "start_time": "2022-08-11T17:09:58.221Z"
   },
   {
    "duration": 18,
    "start_time": "2022-08-11T17:09:58.358Z"
   },
   {
    "duration": 140,
    "start_time": "2022-08-11T17:09:58.377Z"
   },
   {
    "duration": 19,
    "start_time": "2022-08-11T17:09:58.518Z"
   },
   {
    "duration": 144,
    "start_time": "2022-08-11T17:09:58.538Z"
   },
   {
    "duration": 137,
    "start_time": "2022-08-11T17:09:58.683Z"
   },
   {
    "duration": 141,
    "start_time": "2022-08-11T17:09:58.821Z"
   },
   {
    "duration": 313,
    "start_time": "2022-08-11T17:09:58.964Z"
   },
   {
    "duration": 6,
    "start_time": "2022-08-11T17:09:59.278Z"
   },
   {
    "duration": 201,
    "start_time": "2022-08-11T17:09:59.286Z"
   },
   {
    "duration": 4,
    "start_time": "2022-08-11T17:09:59.488Z"
   },
   {
    "duration": 188,
    "start_time": "2022-08-11T17:09:59.493Z"
   },
   {
    "duration": 4,
    "start_time": "2022-08-11T17:09:59.683Z"
   },
   {
    "duration": 179,
    "start_time": "2022-08-11T17:09:59.689Z"
   },
   {
    "duration": 4,
    "start_time": "2022-08-11T17:09:59.869Z"
   },
   {
    "duration": 189,
    "start_time": "2022-08-11T17:09:59.874Z"
   },
   {
    "duration": 4,
    "start_time": "2022-08-11T17:10:00.065Z"
   },
   {
    "duration": 171,
    "start_time": "2022-08-11T17:10:00.070Z"
   },
   {
    "duration": 14,
    "start_time": "2022-08-11T17:10:00.243Z"
   },
   {
    "duration": 336,
    "start_time": "2022-08-11T17:10:00.259Z"
   },
   {
    "duration": 13,
    "start_time": "2022-08-11T17:10:00.597Z"
   },
   {
    "duration": 259,
    "start_time": "2022-08-11T17:10:00.612Z"
   },
   {
    "duration": 6,
    "start_time": "2022-08-11T17:10:00.873Z"
   },
   {
    "duration": 40,
    "start_time": "2022-08-11T17:10:00.880Z"
   },
   {
    "duration": 9,
    "start_time": "2022-08-11T17:10:00.921Z"
   },
   {
    "duration": 37,
    "start_time": "2022-08-11T17:10:00.931Z"
   },
   {
    "duration": 168,
    "start_time": "2022-08-11T17:10:00.970Z"
   },
   {
    "duration": 116,
    "start_time": "2022-08-11T17:10:01.140Z"
   },
   {
    "duration": 14,
    "start_time": "2022-08-11T17:10:01.258Z"
   },
   {
    "duration": 131,
    "start_time": "2022-08-11T17:24:34.444Z"
   },
   {
    "duration": 10,
    "start_time": "2022-08-11T17:42:01.844Z"
   },
   {
    "duration": 9,
    "start_time": "2022-08-11T17:42:03.489Z"
   },
   {
    "duration": 5,
    "start_time": "2022-08-11T17:42:49.192Z"
   },
   {
    "duration": 5,
    "start_time": "2022-08-11T17:43:05.843Z"
   },
   {
    "duration": 676,
    "start_time": "2022-08-11T17:46:23.770Z"
   },
   {
    "duration": 13,
    "start_time": "2022-08-11T17:46:24.448Z"
   },
   {
    "duration": 1698,
    "start_time": "2022-08-11T17:46:24.463Z"
   },
   {
    "duration": 8,
    "start_time": "2022-08-11T17:46:26.163Z"
   },
   {
    "duration": 7,
    "start_time": "2022-08-11T17:46:26.172Z"
   },
   {
    "duration": 15,
    "start_time": "2022-08-11T17:46:26.181Z"
   },
   {
    "duration": 6,
    "start_time": "2022-08-11T17:46:26.197Z"
   },
   {
    "duration": 9,
    "start_time": "2022-08-11T17:46:26.204Z"
   },
   {
    "duration": 51,
    "start_time": "2022-08-11T17:46:26.214Z"
   },
   {
    "duration": 15,
    "start_time": "2022-08-11T17:46:26.268Z"
   },
   {
    "duration": 8,
    "start_time": "2022-08-11T17:46:26.285Z"
   },
   {
    "duration": 11,
    "start_time": "2022-08-11T17:46:26.294Z"
   },
   {
    "duration": 6,
    "start_time": "2022-08-11T17:46:26.307Z"
   },
   {
    "duration": 9,
    "start_time": "2022-08-11T17:46:26.314Z"
   },
   {
    "duration": 32,
    "start_time": "2022-08-11T17:46:26.324Z"
   },
   {
    "duration": 6,
    "start_time": "2022-08-11T17:46:26.358Z"
   },
   {
    "duration": 8,
    "start_time": "2022-08-11T17:46:26.365Z"
   },
   {
    "duration": 5,
    "start_time": "2022-08-11T17:46:26.374Z"
   },
   {
    "duration": 7,
    "start_time": "2022-08-11T17:46:26.381Z"
   },
   {
    "duration": 3,
    "start_time": "2022-08-11T17:46:26.389Z"
   },
   {
    "duration": 28,
    "start_time": "2022-08-11T17:46:26.393Z"
   },
   {
    "duration": 27,
    "start_time": "2022-08-11T17:46:26.454Z"
   },
   {
    "duration": 25,
    "start_time": "2022-08-11T17:46:26.482Z"
   },
   {
    "duration": 4,
    "start_time": "2022-08-11T17:46:26.508Z"
   },
   {
    "duration": 10,
    "start_time": "2022-08-11T17:46:26.514Z"
   },
   {
    "duration": 6,
    "start_time": "2022-08-11T17:46:26.525Z"
   },
   {
    "duration": 43,
    "start_time": "2022-08-11T17:46:26.532Z"
   },
   {
    "duration": 4,
    "start_time": "2022-08-11T17:46:26.579Z"
   },
   {
    "duration": 328,
    "start_time": "2022-08-11T17:46:26.584Z"
   },
   {
    "duration": 10,
    "start_time": "2022-08-11T17:46:26.914Z"
   },
   {
    "duration": 11,
    "start_time": "2022-08-11T17:46:26.926Z"
   },
   {
    "duration": 18,
    "start_time": "2022-08-11T17:46:26.939Z"
   },
   {
    "duration": 5,
    "start_time": "2022-08-11T17:46:26.959Z"
   },
   {
    "duration": 11,
    "start_time": "2022-08-11T17:46:26.966Z"
   },
   {
    "duration": 9,
    "start_time": "2022-08-11T17:46:26.979Z"
   },
   {
    "duration": 21,
    "start_time": "2022-08-11T17:46:26.990Z"
   },
   {
    "duration": 149,
    "start_time": "2022-08-11T17:46:27.013Z"
   },
   {
    "duration": 8,
    "start_time": "2022-08-11T17:46:27.164Z"
   },
   {
    "duration": 151,
    "start_time": "2022-08-11T17:46:27.174Z"
   },
   {
    "duration": 5,
    "start_time": "2022-08-11T17:46:27.326Z"
   },
   {
    "duration": 156,
    "start_time": "2022-08-11T17:46:27.333Z"
   },
   {
    "duration": 245,
    "start_time": "2022-08-11T17:46:27.491Z"
   },
   {
    "duration": 174,
    "start_time": "2022-08-11T17:46:27.738Z"
   },
   {
    "duration": 153,
    "start_time": "2022-08-11T17:46:27.913Z"
   },
   {
    "duration": 131,
    "start_time": "2022-08-11T17:46:28.068Z"
   },
   {
    "duration": 126,
    "start_time": "2022-08-11T17:46:28.201Z"
   },
   {
    "duration": 128,
    "start_time": "2022-08-11T17:46:28.328Z"
   },
   {
    "duration": 137,
    "start_time": "2022-08-11T17:46:28.457Z"
   },
   {
    "duration": 31,
    "start_time": "2022-08-11T17:46:28.596Z"
   },
   {
    "duration": 149,
    "start_time": "2022-08-11T17:46:28.628Z"
   },
   {
    "duration": 22,
    "start_time": "2022-08-11T17:46:28.779Z"
   },
   {
    "duration": 161,
    "start_time": "2022-08-11T17:46:28.803Z"
   },
   {
    "duration": 19,
    "start_time": "2022-08-11T17:46:28.966Z"
   },
   {
    "duration": 153,
    "start_time": "2022-08-11T17:46:28.986Z"
   },
   {
    "duration": 129,
    "start_time": "2022-08-11T17:46:29.141Z"
   },
   {
    "duration": 135,
    "start_time": "2022-08-11T17:46:29.272Z"
   },
   {
    "duration": 315,
    "start_time": "2022-08-11T17:46:29.409Z"
   },
   {
    "duration": 6,
    "start_time": "2022-08-11T17:46:29.726Z"
   },
   {
    "duration": 189,
    "start_time": "2022-08-11T17:46:29.734Z"
   },
   {
    "duration": 6,
    "start_time": "2022-08-11T17:46:29.924Z"
   },
   {
    "duration": 196,
    "start_time": "2022-08-11T17:46:29.931Z"
   },
   {
    "duration": 4,
    "start_time": "2022-08-11T17:46:30.129Z"
   },
   {
    "duration": 181,
    "start_time": "2022-08-11T17:46:30.135Z"
   },
   {
    "duration": 4,
    "start_time": "2022-08-11T17:46:30.317Z"
   },
   {
    "duration": 194,
    "start_time": "2022-08-11T17:46:30.322Z"
   },
   {
    "duration": 4,
    "start_time": "2022-08-11T17:46:30.518Z"
   },
   {
    "duration": 173,
    "start_time": "2022-08-11T17:46:30.524Z"
   },
   {
    "duration": 8,
    "start_time": "2022-08-11T17:46:30.698Z"
   },
   {
    "duration": 300,
    "start_time": "2022-08-11T17:46:30.708Z"
   },
   {
    "duration": 12,
    "start_time": "2022-08-11T17:46:31.011Z"
   },
   {
    "duration": 226,
    "start_time": "2022-08-11T17:46:31.025Z"
   },
   {
    "duration": 6,
    "start_time": "2022-08-11T17:46:31.254Z"
   },
   {
    "duration": 25,
    "start_time": "2022-08-11T17:46:31.261Z"
   },
   {
    "duration": 9,
    "start_time": "2022-08-11T17:46:31.287Z"
   },
   {
    "duration": 29,
    "start_time": "2022-08-11T17:46:31.298Z"
   },
   {
    "duration": 171,
    "start_time": "2022-08-11T17:46:31.328Z"
   },
   {
    "duration": 114,
    "start_time": "2022-08-11T17:46:31.500Z"
   },
   {
    "duration": 12,
    "start_time": "2022-08-11T17:46:31.615Z"
   },
   {
    "duration": 139,
    "start_time": "2022-08-11T17:46:31.628Z"
   },
   {
    "duration": 88,
    "start_time": "2022-08-11T17:50:52.591Z"
   },
   {
    "duration": 683,
    "start_time": "2022-08-11T18:02:52.384Z"
   },
   {
    "duration": 14,
    "start_time": "2022-08-11T18:02:53.069Z"
   },
   {
    "duration": 1708,
    "start_time": "2022-08-11T18:02:53.085Z"
   },
   {
    "duration": 8,
    "start_time": "2022-08-11T18:02:54.795Z"
   },
   {
    "duration": 10,
    "start_time": "2022-08-11T18:02:54.804Z"
   },
   {
    "duration": 9,
    "start_time": "2022-08-11T18:02:54.816Z"
   },
   {
    "duration": 6,
    "start_time": "2022-08-11T18:02:54.826Z"
   },
   {
    "duration": 9,
    "start_time": "2022-08-11T18:02:54.834Z"
   },
   {
    "duration": 42,
    "start_time": "2022-08-11T18:02:54.846Z"
   },
   {
    "duration": 15,
    "start_time": "2022-08-11T18:02:54.890Z"
   },
   {
    "duration": 8,
    "start_time": "2022-08-11T18:02:54.906Z"
   },
   {
    "duration": 9,
    "start_time": "2022-08-11T18:02:54.916Z"
   },
   {
    "duration": 7,
    "start_time": "2022-08-11T18:02:54.926Z"
   },
   {
    "duration": 27,
    "start_time": "2022-08-11T18:02:54.934Z"
   },
   {
    "duration": 6,
    "start_time": "2022-08-11T18:02:54.963Z"
   },
   {
    "duration": 6,
    "start_time": "2022-08-11T18:02:54.970Z"
   },
   {
    "duration": 17,
    "start_time": "2022-08-11T18:02:54.978Z"
   },
   {
    "duration": 6,
    "start_time": "2022-08-11T18:02:54.997Z"
   },
   {
    "duration": 10,
    "start_time": "2022-08-11T18:02:55.005Z"
   },
   {
    "duration": 3,
    "start_time": "2022-08-11T18:02:55.017Z"
   },
   {
    "duration": 56,
    "start_time": "2022-08-11T18:02:55.022Z"
   },
   {
    "duration": 33,
    "start_time": "2022-08-11T18:02:55.080Z"
   },
   {
    "duration": 45,
    "start_time": "2022-08-11T18:02:55.114Z"
   },
   {
    "duration": 4,
    "start_time": "2022-08-11T18:02:55.161Z"
   },
   {
    "duration": 7,
    "start_time": "2022-08-11T18:02:55.167Z"
   },
   {
    "duration": 6,
    "start_time": "2022-08-11T18:02:55.175Z"
   },
   {
    "duration": 23,
    "start_time": "2022-08-11T18:02:55.182Z"
   },
   {
    "duration": 3,
    "start_time": "2022-08-11T18:02:55.209Z"
   },
   {
    "duration": 306,
    "start_time": "2022-08-11T18:02:55.213Z"
   },
   {
    "duration": 10,
    "start_time": "2022-08-11T18:02:55.521Z"
   },
   {
    "duration": 11,
    "start_time": "2022-08-11T18:02:55.533Z"
   },
   {
    "duration": 13,
    "start_time": "2022-08-11T18:02:55.545Z"
   },
   {
    "duration": 5,
    "start_time": "2022-08-11T18:02:55.560Z"
   },
   {
    "duration": 9,
    "start_time": "2022-08-11T18:02:55.566Z"
   },
   {
    "duration": 7,
    "start_time": "2022-08-11T18:02:55.577Z"
   },
   {
    "duration": 13,
    "start_time": "2022-08-11T18:02:55.586Z"
   },
   {
    "duration": 142,
    "start_time": "2022-08-11T18:02:55.601Z"
   },
   {
    "duration": 14,
    "start_time": "2022-08-11T18:02:55.744Z"
   },
   {
    "duration": 137,
    "start_time": "2022-08-11T18:02:55.759Z"
   },
   {
    "duration": 5,
    "start_time": "2022-08-11T18:02:55.898Z"
   },
   {
    "duration": 139,
    "start_time": "2022-08-11T18:02:55.904Z"
   },
   {
    "duration": 198,
    "start_time": "2022-08-11T18:02:56.045Z"
   },
   {
    "duration": 133,
    "start_time": "2022-08-11T18:02:56.245Z"
   },
   {
    "duration": 129,
    "start_time": "2022-08-11T18:02:56.379Z"
   },
   {
    "duration": 118,
    "start_time": "2022-08-11T18:02:56.509Z"
   },
   {
    "duration": 154,
    "start_time": "2022-08-11T18:02:56.628Z"
   },
   {
    "duration": 155,
    "start_time": "2022-08-11T18:02:56.784Z"
   },
   {
    "duration": 148,
    "start_time": "2022-08-11T18:02:56.941Z"
   },
   {
    "duration": 28,
    "start_time": "2022-08-11T18:02:57.091Z"
   },
   {
    "duration": 146,
    "start_time": "2022-08-11T18:02:57.121Z"
   },
   {
    "duration": 20,
    "start_time": "2022-08-11T18:02:57.269Z"
   },
   {
    "duration": 175,
    "start_time": "2022-08-11T18:02:57.290Z"
   },
   {
    "duration": 23,
    "start_time": "2022-08-11T18:02:57.467Z"
   },
   {
    "duration": 157,
    "start_time": "2022-08-11T18:02:57.492Z"
   },
   {
    "duration": 132,
    "start_time": "2022-08-11T18:02:57.651Z"
   },
   {
    "duration": 137,
    "start_time": "2022-08-11T18:02:57.785Z"
   },
   {
    "duration": 297,
    "start_time": "2022-08-11T18:02:57.924Z"
   },
   {
    "duration": 6,
    "start_time": "2022-08-11T18:02:58.223Z"
   },
   {
    "duration": 205,
    "start_time": "2022-08-11T18:02:58.231Z"
   },
   {
    "duration": 4,
    "start_time": "2022-08-11T18:02:58.438Z"
   },
   {
    "duration": 187,
    "start_time": "2022-08-11T18:02:58.443Z"
   },
   {
    "duration": 3,
    "start_time": "2022-08-11T18:02:58.632Z"
   },
   {
    "duration": 177,
    "start_time": "2022-08-11T18:02:58.637Z"
   },
   {
    "duration": 4,
    "start_time": "2022-08-11T18:02:58.816Z"
   },
   {
    "duration": 184,
    "start_time": "2022-08-11T18:02:58.821Z"
   },
   {
    "duration": 5,
    "start_time": "2022-08-11T18:02:59.006Z"
   },
   {
    "duration": 168,
    "start_time": "2022-08-11T18:02:59.013Z"
   },
   {
    "duration": 7,
    "start_time": "2022-08-11T18:02:59.183Z"
   },
   {
    "duration": 297,
    "start_time": "2022-08-11T18:02:59.192Z"
   },
   {
    "duration": 13,
    "start_time": "2022-08-11T18:02:59.491Z"
   },
   {
    "duration": 237,
    "start_time": "2022-08-11T18:02:59.505Z"
   },
   {
    "duration": 5,
    "start_time": "2022-08-11T18:02:59.744Z"
   },
   {
    "duration": 20,
    "start_time": "2022-08-11T18:02:59.755Z"
   },
   {
    "duration": 8,
    "start_time": "2022-08-11T18:02:59.777Z"
   },
   {
    "duration": 24,
    "start_time": "2022-08-11T18:02:59.787Z"
   },
   {
    "duration": 173,
    "start_time": "2022-08-11T18:02:59.812Z"
   },
   {
    "duration": 111,
    "start_time": "2022-08-11T18:02:59.987Z"
   },
   {
    "duration": 13,
    "start_time": "2022-08-11T18:03:00.100Z"
   },
   {
    "duration": 128,
    "start_time": "2022-08-11T18:03:00.114Z"
   },
   {
    "duration": 74,
    "start_time": "2022-08-11T18:03:00.243Z"
   },
   {
    "duration": 1177,
    "start_time": "2022-08-11T19:02:32.945Z"
   },
   {
    "duration": 16,
    "start_time": "2022-08-11T19:02:34.123Z"
   },
   {
    "duration": 1973,
    "start_time": "2022-08-11T19:02:34.140Z"
   },
   {
    "duration": 9,
    "start_time": "2022-08-11T19:02:36.116Z"
   },
   {
    "duration": 8,
    "start_time": "2022-08-11T19:02:36.126Z"
   },
   {
    "duration": 5,
    "start_time": "2022-08-11T19:02:36.135Z"
   },
   {
    "duration": 4,
    "start_time": "2022-08-11T19:02:36.142Z"
   },
   {
    "duration": 8,
    "start_time": "2022-08-11T19:02:36.147Z"
   },
   {
    "duration": 70,
    "start_time": "2022-08-11T19:02:36.157Z"
   },
   {
    "duration": 14,
    "start_time": "2022-08-11T19:02:36.230Z"
   },
   {
    "duration": 8,
    "start_time": "2022-08-11T19:02:36.246Z"
   },
   {
    "duration": 10,
    "start_time": "2022-08-11T19:02:36.256Z"
   },
   {
    "duration": 7,
    "start_time": "2022-08-11T19:02:36.267Z"
   },
   {
    "duration": 36,
    "start_time": "2022-08-11T19:02:36.275Z"
   },
   {
    "duration": 10,
    "start_time": "2022-08-11T19:02:36.312Z"
   },
   {
    "duration": 6,
    "start_time": "2022-08-11T19:02:36.324Z"
   },
   {
    "duration": 8,
    "start_time": "2022-08-11T19:02:36.332Z"
   },
   {
    "duration": 5,
    "start_time": "2022-08-11T19:02:36.341Z"
   },
   {
    "duration": 6,
    "start_time": "2022-08-11T19:02:36.348Z"
   },
   {
    "duration": 8,
    "start_time": "2022-08-11T19:02:36.355Z"
   },
   {
    "duration": 64,
    "start_time": "2022-08-11T19:02:36.365Z"
   },
   {
    "duration": 33,
    "start_time": "2022-08-11T19:02:36.430Z"
   },
   {
    "duration": 63,
    "start_time": "2022-08-11T19:02:36.465Z"
   },
   {
    "duration": 5,
    "start_time": "2022-08-11T19:02:36.530Z"
   },
   {
    "duration": 10,
    "start_time": "2022-08-11T19:02:36.537Z"
   },
   {
    "duration": 7,
    "start_time": "2022-08-11T19:02:36.548Z"
   },
   {
    "duration": 29,
    "start_time": "2022-08-11T19:02:36.557Z"
   },
   {
    "duration": 4,
    "start_time": "2022-08-11T19:02:36.610Z"
   },
   {
    "duration": 361,
    "start_time": "2022-08-11T19:02:36.616Z"
   },
   {
    "duration": 9,
    "start_time": "2022-08-11T19:02:36.979Z"
   },
   {
    "duration": 28,
    "start_time": "2022-08-11T19:02:36.990Z"
   },
   {
    "duration": 5,
    "start_time": "2022-08-11T19:02:37.019Z"
   },
   {
    "duration": 8,
    "start_time": "2022-08-11T19:02:37.025Z"
   },
   {
    "duration": 10,
    "start_time": "2022-08-11T19:02:37.034Z"
   },
   {
    "duration": 9,
    "start_time": "2022-08-11T19:02:37.045Z"
   },
   {
    "duration": 15,
    "start_time": "2022-08-11T19:02:37.055Z"
   },
   {
    "duration": 156,
    "start_time": "2022-08-11T19:02:37.071Z"
   },
   {
    "duration": 7,
    "start_time": "2022-08-11T19:02:37.229Z"
   },
   {
    "duration": 167,
    "start_time": "2022-08-11T19:02:37.237Z"
   },
   {
    "duration": 5,
    "start_time": "2022-08-11T19:02:37.405Z"
   },
   {
    "duration": 143,
    "start_time": "2022-08-11T19:02:37.412Z"
   },
   {
    "duration": 181,
    "start_time": "2022-08-11T19:02:37.557Z"
   },
   {
    "duration": 151,
    "start_time": "2022-08-11T19:02:37.739Z"
   },
   {
    "duration": 145,
    "start_time": "2022-08-11T19:02:37.892Z"
   },
   {
    "duration": 135,
    "start_time": "2022-08-11T19:02:38.038Z"
   },
   {
    "duration": 153,
    "start_time": "2022-08-11T19:02:38.175Z"
   },
   {
    "duration": 128,
    "start_time": "2022-08-11T19:02:38.329Z"
   },
   {
    "duration": 156,
    "start_time": "2022-08-11T19:02:38.458Z"
   },
   {
    "duration": 30,
    "start_time": "2022-08-11T19:02:38.615Z"
   },
   {
    "duration": 141,
    "start_time": "2022-08-11T19:02:38.647Z"
   },
   {
    "duration": 26,
    "start_time": "2022-08-11T19:02:38.790Z"
   },
   {
    "duration": 156,
    "start_time": "2022-08-11T19:02:38.817Z"
   },
   {
    "duration": 36,
    "start_time": "2022-08-11T19:02:38.974Z"
   },
   {
    "duration": 148,
    "start_time": "2022-08-11T19:02:39.012Z"
   },
   {
    "duration": 151,
    "start_time": "2022-08-11T19:02:39.162Z"
   },
   {
    "duration": 153,
    "start_time": "2022-08-11T19:02:39.315Z"
   },
   {
    "duration": 306,
    "start_time": "2022-08-11T19:02:39.470Z"
   },
   {
    "duration": 6,
    "start_time": "2022-08-11T19:02:39.778Z"
   },
   {
    "duration": 229,
    "start_time": "2022-08-11T19:02:39.786Z"
   },
   {
    "duration": 5,
    "start_time": "2022-08-11T19:02:40.016Z"
   },
   {
    "duration": 218,
    "start_time": "2022-08-11T19:02:40.022Z"
   },
   {
    "duration": 4,
    "start_time": "2022-08-11T19:02:40.241Z"
   },
   {
    "duration": 212,
    "start_time": "2022-08-11T19:02:40.247Z"
   },
   {
    "duration": 4,
    "start_time": "2022-08-11T19:02:40.461Z"
   },
   {
    "duration": 215,
    "start_time": "2022-08-11T19:02:40.467Z"
   },
   {
    "duration": 5,
    "start_time": "2022-08-11T19:02:40.683Z"
   },
   {
    "duration": 173,
    "start_time": "2022-08-11T19:02:40.707Z"
   },
   {
    "duration": 7,
    "start_time": "2022-08-11T19:02:40.882Z"
   },
   {
    "duration": 347,
    "start_time": "2022-08-11T19:02:40.898Z"
   },
   {
    "duration": 11,
    "start_time": "2022-08-11T19:02:41.246Z"
   },
   {
    "duration": 292,
    "start_time": "2022-08-11T19:02:41.258Z"
   },
   {
    "duration": 6,
    "start_time": "2022-08-11T19:02:41.552Z"
   },
   {
    "duration": 23,
    "start_time": "2022-08-11T19:02:41.559Z"
   },
   {
    "duration": 29,
    "start_time": "2022-08-11T19:02:41.584Z"
   },
   {
    "duration": 30,
    "start_time": "2022-08-11T19:02:41.614Z"
   },
   {
    "duration": 189,
    "start_time": "2022-08-11T19:02:41.646Z"
   },
   {
    "duration": 131,
    "start_time": "2022-08-11T19:02:41.837Z"
   },
   {
    "duration": 14,
    "start_time": "2022-08-11T19:02:41.970Z"
   },
   {
    "duration": 152,
    "start_time": "2022-08-11T19:02:41.985Z"
   },
   {
    "duration": 94,
    "start_time": "2022-08-11T19:02:42.139Z"
   },
   {
    "duration": 17,
    "start_time": "2022-08-11T19:03:18.611Z"
   },
   {
    "duration": 173,
    "start_time": "2022-08-11T19:06:00.047Z"
   },
   {
    "duration": 7459,
    "start_time": "2022-08-11T19:14:57.723Z"
   },
   {
    "duration": 53,
    "start_time": "2022-08-11T19:16:04.683Z"
   },
   {
    "duration": 6,
    "start_time": "2022-08-11T19:16:11.289Z"
   },
   {
    "duration": 1055,
    "start_time": "2022-08-12T09:16:48.229Z"
   },
   {
    "duration": 19,
    "start_time": "2022-08-12T09:16:49.286Z"
   },
   {
    "duration": 2109,
    "start_time": "2022-08-12T09:16:49.308Z"
   },
   {
    "duration": 10,
    "start_time": "2022-08-12T09:16:51.419Z"
   },
   {
    "duration": 12,
    "start_time": "2022-08-12T09:16:51.430Z"
   },
   {
    "duration": 13,
    "start_time": "2022-08-12T09:16:51.443Z"
   },
   {
    "duration": 21,
    "start_time": "2022-08-12T09:16:51.458Z"
   },
   {
    "duration": 21,
    "start_time": "2022-08-12T09:16:51.480Z"
   },
   {
    "duration": 63,
    "start_time": "2022-08-12T09:16:51.503Z"
   },
   {
    "duration": 16,
    "start_time": "2022-08-12T09:16:51.570Z"
   },
   {
    "duration": 12,
    "start_time": "2022-08-12T09:16:51.588Z"
   },
   {
    "duration": 8,
    "start_time": "2022-08-12T09:16:51.602Z"
   },
   {
    "duration": 12,
    "start_time": "2022-08-12T09:16:51.612Z"
   },
   {
    "duration": 11,
    "start_time": "2022-08-12T09:16:51.627Z"
   },
   {
    "duration": 8,
    "start_time": "2022-08-12T09:16:51.668Z"
   },
   {
    "duration": 24,
    "start_time": "2022-08-12T09:16:51.679Z"
   },
   {
    "duration": 10,
    "start_time": "2022-08-12T09:16:51.705Z"
   },
   {
    "duration": 6,
    "start_time": "2022-08-12T09:16:51.717Z"
   },
   {
    "duration": 9,
    "start_time": "2022-08-12T09:16:51.725Z"
   },
   {
    "duration": 7,
    "start_time": "2022-08-12T09:16:51.736Z"
   },
   {
    "duration": 60,
    "start_time": "2022-08-12T09:16:51.745Z"
   },
   {
    "duration": 33,
    "start_time": "2022-08-12T09:16:51.807Z"
   },
   {
    "duration": 49,
    "start_time": "2022-08-12T09:16:51.842Z"
   },
   {
    "duration": 6,
    "start_time": "2022-08-12T09:16:51.893Z"
   },
   {
    "duration": 7,
    "start_time": "2022-08-12T09:16:51.901Z"
   },
   {
    "duration": 7,
    "start_time": "2022-08-12T09:16:51.910Z"
   },
   {
    "duration": 60,
    "start_time": "2022-08-12T09:16:51.919Z"
   },
   {
    "duration": 4,
    "start_time": "2022-08-12T09:16:51.984Z"
   },
   {
    "duration": 341,
    "start_time": "2022-08-12T09:16:51.990Z"
   },
   {
    "duration": 13,
    "start_time": "2022-08-12T09:16:52.333Z"
   },
   {
    "duration": 22,
    "start_time": "2022-08-12T09:16:52.348Z"
   },
   {
    "duration": 6,
    "start_time": "2022-08-12T09:16:52.372Z"
   },
   {
    "duration": 27,
    "start_time": "2022-08-12T09:16:52.380Z"
   },
   {
    "duration": 23,
    "start_time": "2022-08-12T09:16:52.409Z"
   },
   {
    "duration": 11,
    "start_time": "2022-08-12T09:16:52.433Z"
   },
   {
    "duration": 149,
    "start_time": "2022-08-12T09:16:52.446Z"
   },
   {
    "duration": 8,
    "start_time": "2022-08-12T09:16:52.597Z"
   },
   {
    "duration": 181,
    "start_time": "2022-08-12T09:16:52.607Z"
   },
   {
    "duration": 4,
    "start_time": "2022-08-12T09:16:52.789Z"
   },
   {
    "duration": 163,
    "start_time": "2022-08-12T09:16:52.795Z"
   },
   {
    "duration": 223,
    "start_time": "2022-08-12T09:16:52.960Z"
   },
   {
    "duration": 158,
    "start_time": "2022-08-12T09:16:53.185Z"
   },
   {
    "duration": 161,
    "start_time": "2022-08-12T09:16:53.345Z"
   },
   {
    "duration": 151,
    "start_time": "2022-08-12T09:16:53.508Z"
   },
   {
    "duration": 172,
    "start_time": "2022-08-12T09:16:53.667Z"
   },
   {
    "duration": 148,
    "start_time": "2022-08-12T09:16:53.840Z"
   },
   {
    "duration": 163,
    "start_time": "2022-08-12T09:16:53.990Z"
   },
   {
    "duration": 38,
    "start_time": "2022-08-12T09:16:54.155Z"
   },
   {
    "duration": 152,
    "start_time": "2022-08-12T09:16:54.195Z"
   },
   {
    "duration": 29,
    "start_time": "2022-08-12T09:16:54.348Z"
   },
   {
    "duration": 166,
    "start_time": "2022-08-12T09:16:54.378Z"
   },
   {
    "duration": 27,
    "start_time": "2022-08-12T09:16:54.546Z"
   },
   {
    "duration": 162,
    "start_time": "2022-08-12T09:16:54.574Z"
   },
   {
    "duration": 173,
    "start_time": "2022-08-12T09:16:54.738Z"
   },
   {
    "duration": 159,
    "start_time": "2022-08-12T09:16:54.913Z"
   },
   {
    "duration": 346,
    "start_time": "2022-08-12T09:16:55.074Z"
   },
   {
    "duration": 7,
    "start_time": "2022-08-12T09:16:55.422Z"
   },
   {
    "duration": 239,
    "start_time": "2022-08-12T09:16:55.431Z"
   },
   {
    "duration": 4,
    "start_time": "2022-08-12T09:16:55.672Z"
   },
   {
    "duration": 239,
    "start_time": "2022-08-12T09:16:55.678Z"
   },
   {
    "duration": 4,
    "start_time": "2022-08-12T09:16:55.919Z"
   },
   {
    "duration": 212,
    "start_time": "2022-08-12T09:16:55.925Z"
   },
   {
    "duration": 5,
    "start_time": "2022-08-12T09:16:56.138Z"
   },
   {
    "duration": 217,
    "start_time": "2022-08-12T09:16:56.144Z"
   },
   {
    "duration": 8,
    "start_time": "2022-08-12T09:16:56.363Z"
   },
   {
    "duration": 219,
    "start_time": "2022-08-12T09:16:56.373Z"
   },
   {
    "duration": 9,
    "start_time": "2022-08-12T09:16:56.594Z"
   },
   {
    "duration": 390,
    "start_time": "2022-08-12T09:16:56.605Z"
   },
   {
    "duration": 16,
    "start_time": "2022-08-12T09:16:56.997Z"
   },
   {
    "duration": 278,
    "start_time": "2022-08-12T09:16:57.015Z"
   },
   {
    "duration": 6,
    "start_time": "2022-08-12T09:16:57.295Z"
   },
   {
    "duration": 26,
    "start_time": "2022-08-12T09:16:57.303Z"
   },
   {
    "duration": 11,
    "start_time": "2022-08-12T09:16:57.331Z"
   },
   {
    "duration": 53,
    "start_time": "2022-08-12T09:16:57.344Z"
   },
   {
    "duration": 214,
    "start_time": "2022-08-12T09:16:57.399Z"
   },
   {
    "duration": 146,
    "start_time": "2022-08-12T09:16:57.614Z"
   },
   {
    "duration": 17,
    "start_time": "2022-08-12T09:16:57.767Z"
   },
   {
    "duration": 165,
    "start_time": "2022-08-12T09:16:57.786Z"
   },
   {
    "duration": 4949,
    "start_time": "2022-08-12T09:16:57.953Z"
   },
   {
    "duration": 6,
    "start_time": "2022-08-12T09:17:02.904Z"
   }
  ],
  "kernelspec": {
   "display_name": "Python 3 (ipykernel)",
   "language": "python",
   "name": "python3"
  },
  "language_info": {
   "codemirror_mode": {
    "name": "ipython",
    "version": 3
   },
   "file_extension": ".py",
   "mimetype": "text/x-python",
   "name": "python",
   "nbconvert_exporter": "python",
   "pygments_lexer": "ipython3",
   "version": "3.8.9"
  },
  "toc": {
   "base_numbering": 1,
   "nav_menu": {},
   "number_sections": true,
   "sideBar": true,
   "skip_h1_title": true,
   "title_cell": "Table of Contents",
   "title_sidebar": "Contents",
   "toc_cell": false,
   "toc_position": {},
   "toc_section_display": true,
   "toc_window_display": true
  }
 },
 "nbformat": 4,
 "nbformat_minor": 2
}
