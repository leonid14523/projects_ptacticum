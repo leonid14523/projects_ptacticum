{
 "cells": [
  {
   "cell_type": "markdown",
   "metadata": {},
   "source": [
    "**Цели проекта:** \n",
    "- Сформировать и предоставить заказчику портрет сегментов **для** последущих принятий решений в отношении сегментов \n",
    "- составить и предоставить заказчику перечень предполагаемых причин оттока **для** принятия решений в пользу сокращения оттока пользователей\n",
    "\n",
    "**Задачи:**\n",
    "- Провести исследовательский анализ\n",
    "- Сегментировать пользоватлей по общему признаку\n",
    "- Проверить гипотезы\n",
    "- Построить графики\n",
    "- Предсставить результаты"
   ]
  },
  {
   "cell_type": "markdown",
   "metadata": {},
   "source": [
    "### Декомпозиция\n",
    "### <a href='#step1'>Шаг. 1 - Знакомство с данными.</a>\n",
    "- Выгрузить данные\n",
    "- Применить методы для просмотра общей информации\n",
    "- Сделать промежуточные выводы\n",
    "### <a href='#step2'> Шаг. 2 - Предобработка данных.</a>\n",
    "- Переименовать столбцы (если потребуется)\n",
    "- Проверить данные на пропуски\n",
    "- Проверить количество дубликатов\n",
    "- Привести значения к нужным типам\n",
    "- Сделать промежуточные выводы\n",
    "### <a href='#step3'>Шаг. 3 - Исследовательский анализ данных. </a>\n",
    "- Построение матрицы корреляции\n",
    "- Построение гистограмм распределения\n",
    "- Сделать промежуточные выводы\n",
    "- Разделение пользователей на сегменты по количеству используемых продуктов\n",
    "- Проанализировать, какой из сегментов склонен к оттоку (отказу от услуг).\n",
    "- Построение графиков\n",
    "### <a href='#step4'>Шаг. 4 - Проверка гипотез </a>\n",
    "- Формулировка и проверка гипотез\n",
    "- Проверка гипотезы о равенстве зарплат у пользователей с 1-им и 2-мя продуктами\n",
    "- Проверка гипотезы о равенстве долей ушедших пользователей М И Ж\n",
    "- Сделать промежуточные выводы\n",
    "### <a href='#step5'>Шаг. 5 - Выводы и рекомендации </a>\n",
    "### <a href='#step6'>Шаг. 6 - Сделать презентацию по проведенным исследованиям </a>\n",
    "- Обозначить: цели, задачи\n",
    "- Поместить графики (сделать их информативными и интуитивно понятными)\n",
    "- Без углубления в статистические аспекты преподнести выводы по гипотезам\n",
    "- Написать краткие выводы к каждому слайду\n",
    "- Написать общий вывод"
   ]
  },
  {
   "cell_type": "markdown",
   "metadata": {},
   "source": [
    "---"
   ]
  },
  {
   "cell_type": "markdown",
   "metadata": {},
   "source": [
    "**Импорт данных**"
   ]
  },
  {
   "cell_type": "code",
   "execution_count": 1,
   "metadata": {},
   "outputs": [],
   "source": [
    "import pandas as pd\n",
    "import seaborn as sns\n",
    "import matplotlib.pyplot as plt\n",
    "import numpy as np\n",
    "import warnings\n",
    "import scipy.stats as st\n",
    "import math as mth\n",
    "warnings.filterwarnings(\"ignore\")"
   ]
  },
  {
   "cell_type": "markdown",
   "metadata": {},
   "source": [
    "# Занкомство с данными <a id='step1'></a>"
   ]
  },
  {
   "cell_type": "markdown",
   "metadata": {},
   "source": [
    "**Импортируем данные**"
   ]
  },
  {
   "cell_type": "code",
   "execution_count": 2,
   "metadata": {},
   "outputs": [],
   "source": [
    "try:\n",
    "    data=pd.read_csv('/datasets/bank_dataset.csv')\n",
    "    \n",
    "except:\n",
    "    data=pd.read_csv('bank_dataset.csv')"
   ]
  },
  {
   "cell_type": "markdown",
   "metadata": {},
   "source": [
    "**Выводим 'шапку' датасета**"
   ]
  },
  {
   "cell_type": "code",
   "execution_count": 3,
   "metadata": {},
   "outputs": [
    {
     "data": {
      "text/html": [
       "<div>\n",
       "<style scoped>\n",
       "    .dataframe tbody tr th:only-of-type {\n",
       "        vertical-align: middle;\n",
       "    }\n",
       "\n",
       "    .dataframe tbody tr th {\n",
       "        vertical-align: top;\n",
       "    }\n",
       "\n",
       "    .dataframe thead th {\n",
       "        text-align: right;\n",
       "    }\n",
       "</style>\n",
       "<table border=\"1\" class=\"dataframe\">\n",
       "  <thead>\n",
       "    <tr style=\"text-align: right;\">\n",
       "      <th></th>\n",
       "      <th>userid</th>\n",
       "      <th>score</th>\n",
       "      <th>City</th>\n",
       "      <th>Gender</th>\n",
       "      <th>Age</th>\n",
       "      <th>Objects</th>\n",
       "      <th>Balance</th>\n",
       "      <th>Products</th>\n",
       "      <th>CreditCard</th>\n",
       "      <th>Loyalty</th>\n",
       "      <th>estimated_salary</th>\n",
       "      <th>Churn</th>\n",
       "    </tr>\n",
       "  </thead>\n",
       "  <tbody>\n",
       "    <tr>\n",
       "      <th>0</th>\n",
       "      <td>15677338</td>\n",
       "      <td>619</td>\n",
       "      <td>Ярославль</td>\n",
       "      <td>Ж</td>\n",
       "      <td>42</td>\n",
       "      <td>2</td>\n",
       "      <td>NaN</td>\n",
       "      <td>1</td>\n",
       "      <td>1</td>\n",
       "      <td>1</td>\n",
       "      <td>101348.88</td>\n",
       "      <td>1</td>\n",
       "    </tr>\n",
       "    <tr>\n",
       "      <th>1</th>\n",
       "      <td>15690047</td>\n",
       "      <td>608</td>\n",
       "      <td>Рыбинск</td>\n",
       "      <td>Ж</td>\n",
       "      <td>41</td>\n",
       "      <td>1</td>\n",
       "      <td>83807.86</td>\n",
       "      <td>1</td>\n",
       "      <td>0</td>\n",
       "      <td>1</td>\n",
       "      <td>112542.58</td>\n",
       "      <td>0</td>\n",
       "    </tr>\n",
       "    <tr>\n",
       "      <th>2</th>\n",
       "      <td>15662040</td>\n",
       "      <td>502</td>\n",
       "      <td>Ярославль</td>\n",
       "      <td>Ж</td>\n",
       "      <td>42</td>\n",
       "      <td>8</td>\n",
       "      <td>159660.80</td>\n",
       "      <td>3</td>\n",
       "      <td>1</td>\n",
       "      <td>0</td>\n",
       "      <td>113931.57</td>\n",
       "      <td>1</td>\n",
       "    </tr>\n",
       "    <tr>\n",
       "      <th>3</th>\n",
       "      <td>15744090</td>\n",
       "      <td>699</td>\n",
       "      <td>Ярославль</td>\n",
       "      <td>Ж</td>\n",
       "      <td>39</td>\n",
       "      <td>1</td>\n",
       "      <td>NaN</td>\n",
       "      <td>2</td>\n",
       "      <td>0</td>\n",
       "      <td>0</td>\n",
       "      <td>93826.63</td>\n",
       "      <td>0</td>\n",
       "    </tr>\n",
       "    <tr>\n",
       "      <th>4</th>\n",
       "      <td>15780624</td>\n",
       "      <td>850</td>\n",
       "      <td>Рыбинск</td>\n",
       "      <td>Ж</td>\n",
       "      <td>43</td>\n",
       "      <td>2</td>\n",
       "      <td>125510.82</td>\n",
       "      <td>1</td>\n",
       "      <td>1</td>\n",
       "      <td>1</td>\n",
       "      <td>79084.10</td>\n",
       "      <td>0</td>\n",
       "    </tr>\n",
       "  </tbody>\n",
       "</table>\n",
       "</div>"
      ],
      "text/plain": [
       "     userid  score       City Gender  Age  Objects    Balance  Products  \\\n",
       "0  15677338    619  Ярославль      Ж   42        2        NaN         1   \n",
       "1  15690047    608    Рыбинск      Ж   41        1   83807.86         1   \n",
       "2  15662040    502  Ярославль      Ж   42        8  159660.80         3   \n",
       "3  15744090    699  Ярославль      Ж   39        1        NaN         2   \n",
       "4  15780624    850    Рыбинск      Ж   43        2  125510.82         1   \n",
       "\n",
       "   CreditCard  Loyalty  estimated_salary  Churn  \n",
       "0           1        1         101348.88      1  \n",
       "1           0        1         112542.58      0  \n",
       "2           1        0         113931.57      1  \n",
       "3           0        0          93826.63      0  \n",
       "4           1        1          79084.10      0  "
      ]
     },
     "execution_count": 3,
     "metadata": {},
     "output_type": "execute_result"
    }
   ],
   "source": [
    "data.head()"
   ]
  },
  {
   "cell_type": "markdown",
   "metadata": {},
   "source": [
    "Колонки:\n",
    "\n",
    "- `userid` — идентификатор пользователя,\n",
    "- `score` — баллы кредитного скоринга,\n",
    "- `City` — город,\n",
    "- `Gender` — пол,\n",
    "- `Age` — возраст,\n",
    "- `Objects` — количество объектов в собственности,\n",
    "- `Balance` — баланс на счёте,\n",
    "- `Products` — количество продуктов, которыми пользуется клиент,\n",
    "- `CreditCard` — есть ли кредитная карта,\n",
    "- `Loyalty` — активный клиент,\n",
    "- `estimated_salary` — заработная плата клиента,\n",
    "- `Churn` — ушёл или нет."
   ]
  },
  {
   "cell_type": "code",
   "execution_count": 4,
   "metadata": {},
   "outputs": [
    {
     "name": "stdout",
     "output_type": "stream",
     "text": [
      "<class 'pandas.core.frame.DataFrame'>\n",
      "RangeIndex: 10000 entries, 0 to 9999\n",
      "Data columns (total 12 columns):\n",
      " #   Column            Non-Null Count  Dtype  \n",
      "---  ------            --------------  -----  \n",
      " 0   userid            10000 non-null  int64  \n",
      " 1   score             10000 non-null  int64  \n",
      " 2   City              10000 non-null  object \n",
      " 3   Gender            10000 non-null  object \n",
      " 4   Age               10000 non-null  int64  \n",
      " 5   Objects           10000 non-null  int64  \n",
      " 6   Balance           6383 non-null   float64\n",
      " 7   Products          10000 non-null  int64  \n",
      " 8   CreditCard        10000 non-null  int64  \n",
      " 9   Loyalty           10000 non-null  int64  \n",
      " 10  estimated_salary  10000 non-null  float64\n",
      " 11  Churn             10000 non-null  int64  \n",
      "dtypes: float64(2), int64(8), object(2)\n",
      "memory usage: 937.6+ KB\n"
     ]
    }
   ],
   "source": [
    "data.info()"
   ]
  },
  {
   "cell_type": "markdown",
   "metadata": {},
   "source": [
    "**Данные не требуют изменения типов, пропуски есть только в столбце \"Баланс\". Единственное, что стоит поменять для удобства - это привести столбцы к нижнему регистру и в некторых привести к \"змеиному\" регистру**"
   ]
  },
  {
   "cell_type": "code",
   "execution_count": 5,
   "metadata": {},
   "outputs": [],
   "source": [
    "data.columns = [x.lower() for x in data.columns.values]"
   ]
  },
  {
   "cell_type": "code",
   "execution_count": 6,
   "metadata": {},
   "outputs": [],
   "source": [
    "data = data.rename(columns={'userid': 'user_id', 'creditcard': 'credit_card'})"
   ]
  },
  {
   "cell_type": "markdown",
   "metadata": {},
   "source": [
    "**Выведем гистограммы по всем параметрам, для начального понимания**"
   ]
  },
  {
   "cell_type": "code",
   "execution_count": 7,
   "metadata": {},
   "outputs": [
    {
     "data": {
      "image/png": "[encoded data removed]",
      "text/plain": [
       "<Figure size 720x864 with 12 Axes>"
      ]
     },
     "metadata": {},
     "output_type": "display_data"
    }
   ],
   "source": [
    "sns.set(rc={'figure.figsize':(10,12)})\n",
    "data.hist(bins=15);"
   ]
  },
  {
   "cell_type": "code",
   "execution_count": 8,
   "metadata": {},
   "outputs": [
    {
     "data": {
      "image/png": "[encoded data removed]",
      "text/plain": [
       "<Figure size 720x864 with 1 Axes>"
      ]
     },
     "metadata": {},
     "output_type": "display_data"
    }
   ],
   "source": [
    "sns.boxplot(x=data[\"score\"])\n",
    "plt.title('Распределение значений скоринга клиента');"
   ]
  },
  {
   "cell_type": "code",
   "execution_count": 9,
   "metadata": {},
   "outputs": [
    {
     "data": {
      "image/png": "[encoded data removed]",
      "text/plain": [
       "<Figure size 720x864 with 1 Axes>"
      ]
     },
     "metadata": {},
     "output_type": "display_data"
    }
   ],
   "source": [
    "sns.boxplot(x=data[\"estimated_salary\"])\n",
    "plt.title('Распределение значений зарплат клиента');"
   ]
  },
  {
   "cell_type": "code",
   "execution_count": 10,
   "metadata": {},
   "outputs": [
    {
     "data": {
      "image/png": "[encoded data removed]",
      "text/plain": [
       "<Figure size 720x864 with 1 Axes>"
      ]
     },
     "metadata": {},
     "output_type": "display_data"
    }
   ],
   "source": [
    "sns.boxplot(x=data[\"age\"])\n",
    "plt.title('Распределение значений скоринга клиента');"
   ]
  },
  {
   "cell_type": "code",
   "execution_count": 11,
   "metadata": {},
   "outputs": [
    {
     "data": {
      "image/png": "[encoded data removed]",
      "text/plain": [
       "<Figure size 720x864 with 1 Axes>"
      ]
     },
     "metadata": {},
     "output_type": "display_data"
    }
   ],
   "source": [
    "sns.boxplot(x=data[\"balance\"])\n",
    "plt.title('Распределение значений скоринга клиента');"
   ]
  },
  {
   "cell_type": "markdown",
   "metadata": {},
   "source": [
    "**Боксплоты не показывают критических выбросов в количественных параметрах**"
   ]
  },
  {
   "cell_type": "markdown",
   "metadata": {},
   "source": [
    "**Выводы по Ознакомлению с данными**\n",
    "\n",
    "**В данных не замечено каких - либо критических выбросов и аномалий.**\n",
    "* Большинство значений столбца age находится в диапозоне 30-40 лет\n",
    "* Баланс распределен \"нормально\"\n",
    "* Ушедших пользователей ~ 2000 ед. из 10000 присутствубщих в датасете\n",
    "* ~ 7000 ед. являются владельцами кредитных карт банка\n",
    "* Соотношение лояльных и не лояльных пользователей примерно одинаково\n",
    "* Распределение по продуктом неравномерно, наблюдается сильный спад в диапозоне от 2-ух до 3-х продуктов \n",
    "* Скоринг распределен \"нормально\", большинство значений расположено в диапозоне 650-700, после чего идет на спад. На максимальном значении спад прекращается, возможно это связано с тем, что если у пользователя не было ни одной просрочки или другого 'нарушения' ему присваивается максимальный рейтинг"
   ]
  },
  {
   "cell_type": "markdown",
   "metadata": {},
   "source": [
    "# Предобработка <a id='step2'></a>"
   ]
  },
  {
   "cell_type": "code",
   "execution_count": 12,
   "metadata": {},
   "outputs": [
    {
     "data": {
      "text/plain": [
       "10000"
      ]
     },
     "execution_count": 12,
     "metadata": {},
     "output_type": "execute_result"
    }
   ],
   "source": [
    "data['user_id'].nunique()"
   ]
  },
  {
   "cell_type": "markdown",
   "metadata": {},
   "source": [
    "Каждый пользователь уникален соответственно мы не найдем дубликатов"
   ]
  },
  {
   "cell_type": "code",
   "execution_count": 13,
   "metadata": {},
   "outputs": [
    {
     "data": {
      "text/plain": [
       "0"
      ]
     },
     "execution_count": 13,
     "metadata": {},
     "output_type": "execute_result"
    }
   ],
   "source": [
    "data.duplicated().sum()"
   ]
  },
  {
   "cell_type": "code",
   "execution_count": 14,
   "metadata": {},
   "outputs": [
    {
     "data": {
      "text/plain": [
       "user_id                0\n",
       "score                  0\n",
       "city                   0\n",
       "gender                 0\n",
       "age                    0\n",
       "objects                0\n",
       "balance             3617\n",
       "products               0\n",
       "credit_card            0\n",
       "loyalty                0\n",
       "estimated_salary       0\n",
       "churn                  0\n",
       "dtype: int64"
      ]
     },
     "execution_count": 14,
     "metadata": {},
     "output_type": "execute_result"
    }
   ],
   "source": [
    "data.isna().sum()"
   ]
  },
  {
   "cell_type": "markdown",
   "metadata": {},
   "source": [
    "**В столбце с балансом 3617 пропущенных значений. Удалив их мы лишимся большой части данных. Заполнив их по среднему значению по какому либо параметру внесет изменения (сместит среднее и медиану). Поэтому заполнять пропуски в этом случае считаю нецелесообразною.**"
   ]
  },
  {
   "cell_type": "markdown",
   "metadata": {},
   "source": [
    "---"
   ]
  },
  {
   "cell_type": "markdown",
   "metadata": {},
   "source": [
    "# Исследовательский анализ данных <a id='step3'></a>"
   ]
  },
  {
   "cell_type": "markdown",
   "metadata": {},
   "source": [
    "**Используем метод пандаса get_dummies, для перевода категориальных значений в бинарный формат**"
   ]
  },
  {
   "cell_type": "code",
   "execution_count": 15,
   "metadata": {},
   "outputs": [],
   "source": [
    "df = pd.get_dummies(data)"
   ]
  },
  {
   "cell_type": "markdown",
   "metadata": {},
   "source": [
    "**Построим тепловую карту корреляции значений**"
   ]
  },
  {
   "cell_type": "code",
   "execution_count": 16,
   "metadata": {},
   "outputs": [
    {
     "data": {
      "image/png": "[encoded data removed]",
      "text/plain": [
       "<Figure size 1080x1080 with 2 Axes>"
      ]
     },
     "metadata": {},
     "output_type": "display_data"
    }
   ],
   "source": [
    "plt.figure(figsize = (15,15))\n",
    "sns.heatmap(df.corr(), annot=True);"
   ]
  },
  {
   "cell_type": "markdown",
   "metadata": {},
   "source": [
    "**Значительных корреляций в датасете не обнаружено. Незначительные корреляции есть в отношении параметров:**\n",
    "* отток - возраст (0.29)\n",
    "* отток - лояльность (отрицательная корреляция (-0.16)\n",
    "* город Ростов Великий - отток (0.17)\n",
    "* город Ярославль - отток (-0.1)\n",
    "* Мужской пол - отток (-0.11), женский пол в оттоку диаметрально противоположен (0.11)    "
   ]
  },
  {
   "cell_type": "markdown",
   "metadata": {},
   "source": [
    "**Сегментация параметров:**\n",
    "\n",
    "\n",
    "**Количественные:**\n",
    "* возраст\n",
    "* баланс\n",
    "* заработная плата\n",
    "* своринг\n",
    "\n",
    "**Категориальные:**\n",
    "* город\n",
    "* пол\n",
    "* лояльность\n",
    "* отток\n",
    "* наличие кредитной карты\n",
    "* объекты (под залог)\n",
    "* продукты банка"
   ]
  },
  {
   "cell_type": "markdown",
   "metadata": {},
   "source": [
    "**Создадим датасеты состоящие из категориальных данных и количественных**"
   ]
  },
  {
   "cell_type": "code",
   "execution_count": 17,
   "metadata": {},
   "outputs": [],
   "source": [
    "data_category = data[['city', 'gender', 'loyalty', 'churn', 'credit_card', 'objects', 'products']]\n",
    "data_equal = data[['age', 'estimated_salary', 'score']]"
   ]
  },
  {
   "cell_type": "markdown",
   "metadata": {},
   "source": [
    "**Создадим словарь с переводом названия столбцов на русский, чтобы автоматизировать подписи к графикам**"
   ]
  },
  {
   "cell_type": "code",
   "execution_count": 18,
   "metadata": {},
   "outputs": [],
   "source": [
    "names_dict = {'city': 'город',\n",
    "              'gender': 'пол',\n",
    "              'loyalty': 'лояльность',\n",
    "              'churn': 'отток',\n",
    "              'credit_card': 'кредитка',\n",
    "              'objects': 'объекты',\n",
    "              'products': 'продукты',\n",
    "              'age': 'возраст',\n",
    "              'balance': 'баланс',\n",
    "              'estimated_salary': 'зарплата',\n",
    "              'score': 'скоринг'}"
   ]
  },
  {
   "cell_type": "markdown",
   "metadata": {},
   "source": [
    "**Напишем цикл для подсчета пользователей по категориальным признакам**"
   ]
  },
  {
   "cell_type": "code",
   "execution_count": 19,
   "metadata": {
    "scrolled": false
   },
   "outputs": [
    {
     "data": {
      "image/png": "[encoded data removed]",
      "text/plain": [
       "<Figure size 360x360 with 1 Axes>"
      ]
     },
     "metadata": {},
     "output_type": "display_data"
    },
    {
     "data": {
      "image/png": "[encoded data removed]",
      "text/plain": [
       "<Figure size 360x360 with 1 Axes>"
      ]
     },
     "metadata": {},
     "output_type": "display_data"
    },
    {
     "data": {
      "image/png": "[encoded data removed]",
      "text/plain": [
       "<Figure size 360x360 with 1 Axes>"
      ]
     },
     "metadata": {},
     "output_type": "display_data"
    },
    {
     "data": {
      "image/png": "[encoded data removed]",
      "text/plain": [
       "<Figure size 360x360 with 1 Axes>"
      ]
     },
     "metadata": {},
     "output_type": "display_data"
    },
    {
     "data": {
      "image/png": "[encoded data removed]",
      "text/plain": [
       "<Figure size 360x360 with 1 Axes>"
      ]
     },
     "metadata": {},
     "output_type": "display_data"
    },
    {
     "data": {
      "image/png": "[encoded data removed]",
      "text/plain": [
       "<Figure size 360x360 with 1 Axes>"
      ]
     },
     "metadata": {},
     "output_type": "display_data"
    },
    {
     "data": {
      "image/png": "[encoded data removed]",
      "text/plain": [
       "<Figure size 360x360 with 1 Axes>"
      ]
     },
     "metadata": {},
     "output_type": "display_data"
    }
   ],
   "source": [
    "for column in data_category.columns:\n",
    "    sns.catplot(x=column, kind='count', data=data)\n",
    "    plt.title(f'Распределение пользователей по признаку: {names_dict[column]}')\n",
    "    plt.ylabel('Количество пользователей');"
   ]
  },
  {
   "cell_type": "markdown",
   "metadata": {},
   "source": [
    "* Половина пользователей банка живут в Ярославле, остальные пользователи почти равно распределены между остальными городами\n",
    "* Мужчин в датасете больше чем женщин\n",
    "* Активных (лояльных пользователей) больше чем не активных\n",
    "* ~2000 пользователей ушли ~ 20% всего датасета\n",
    "* ~7000 пользователей являются держателями кредитных карт банка\n",
    "* Распределение по количеству объектов равнозначно для диапозона 1-9 объектов. Почти в 2 раза меньше 0 и 10 объектов.\n",
    "* У больше чем половины пользователей - всего 1 продукт банка, у чуть меньшего количества пользователей - 2. Гораздо меньше пользователей у которых 3 и 4 продукта банка"
   ]
  },
  {
   "cell_type": "code",
   "execution_count": 20,
   "metadata": {
    "scrolled": false
   },
   "outputs": [
    {
     "data": {
      "image/png": "[encoded data removed]",
      "text/plain": [
       "<Figure size 576x576 with 1 Axes>"
      ]
     },
     "metadata": {},
     "output_type": "display_data"
    },
    {
     "data": {
      "image/png": "[encoded data removed]",
      "text/plain": [
       "<Figure size 576x576 with 1 Axes>"
      ]
     },
     "metadata": {},
     "output_type": "display_data"
    },
    {
     "data": {
      "image/png": "[encoded data removed]",
      "text/plain": [
       "<Figure size 576x576 with 1 Axes>"
      ]
     },
     "metadata": {},
     "output_type": "display_data"
    }
   ],
   "source": [
    "sns.set(rc={'figure.figsize':(8,8)})\n",
    "for col in data_equal.columns:\n",
    "    sns.distplot(data[col], kde=False, bins=30)\n",
    "    plt.title(f'Распределение признака \"{names_dict[col]}\"')\n",
    "    plt.xlabel(names_dict[col])\n",
    "    plt.ylabel('Количество клиентов')\n",
    "    plt.show()"
   ]
  },
  {
   "cell_type": "code",
   "execution_count": 21,
   "metadata": {
    "scrolled": false
   },
   "outputs": [
    {
     "data": {
      "text/plain": [
       "<AxesSubplot:>"
      ]
     },
     "execution_count": 21,
     "metadata": {},
     "output_type": "execute_result"
    },
    {
     "data": {
      "image/png": "[encoded data removed]",
      "text/plain": [
       "<Figure size 576x576 with 1 Axes>"
      ]
     },
     "metadata": {},
     "output_type": "display_data"
    }
   ],
   "source": [
    "data['balance'].hist(bins=30)"
   ]
  },
  {
   "cell_type": "markdown",
   "metadata": {},
   "source": [
    "Проверим числовые данные на нормальность\n",
    "\n",
    "Нулевая гипитеза для каждой выборки:\n",
    "\n",
    "H0: данные распределены нормально\n",
    "\n",
    "H1: данные распределены не нормально"
   ]
  },
  {
   "cell_type": "code",
   "execution_count": 22,
   "metadata": {},
   "outputs": [
    {
     "name": "stdout",
     "output_type": "stream",
     "text": [
      "p-значение:  3.532837989895404e-20\n",
      "Отвергаем нулевую гипотезу: распределение не нормально\n"
     ]
    }
   ],
   "source": [
    "from scipy import stats as st\n",
    "\n",
    "alpha = .05 \n",
    "\n",
    "results = st.shapiro(data['score'])\n",
    "p_value = results[1]\n",
    "print('p-значение: ', p_value)\n",
    "\n",
    "if p_value < alpha:\n",
    "    print('Отвергаем нулевую гипотезу: распределение не нормально')\n",
    "else:\n",
    "    print('Не получилось отвергнуть нулевую гипотезу, всё нормально') "
   ]
  },
  {
   "cell_type": "code",
   "execution_count": 23,
   "metadata": {},
   "outputs": [
    {
     "name": "stdout",
     "output_type": "stream",
     "text": [
      "p-значение:  1.0\n",
      "Не получилось отвергнуть нулевую гипотезу, всё нормально\n"
     ]
    }
   ],
   "source": [
    "results = st.shapiro(data['balance'])\n",
    "p_value = results[1]\n",
    "print('p-значение: ', p_value)\n",
    "\n",
    "if p_value < alpha:\n",
    "    print('Отвергаем нулевую гипотезу: распределение не нормально')\n",
    "else:\n",
    "    print('Не получилось отвергнуть нулевую гипотезу, всё нормально') "
   ]
  },
  {
   "cell_type": "code",
   "execution_count": 24,
   "metadata": {},
   "outputs": [
    {
     "name": "stdout",
     "output_type": "stream",
     "text": [
      "p-значение:  0.0\n",
      "Отвергаем нулевую гипотезу: распределение не нормально\n"
     ]
    }
   ],
   "source": [
    "results = st.shapiro(data['age'])\n",
    "p_value = results[1]\n",
    "print('p-значение: ', p_value)\n",
    "\n",
    "if p_value < alpha:\n",
    "    print('Отвергаем нулевую гипотезу: распределение не нормально')\n",
    "else:\n",
    "    print('Не получилось отвергнуть нулевую гипотезу, всё нормально') "
   ]
  },
  {
   "cell_type": "code",
   "execution_count": 25,
   "metadata": {},
   "outputs": [
    {
     "name": "stdout",
     "output_type": "stream",
     "text": [
      "p-значение:  0.0\n",
      "Отвергаем нулевую гипотезу: распределение не нормально\n"
     ]
    }
   ],
   "source": [
    "results = st.shapiro(data['estimated_salary'])\n",
    "p_value = results[1]\n",
    "print('p-значение: ', p_value)\n",
    "\n",
    "if p_value < alpha:\n",
    "    print('Отвергаем нулевую гипотезу: распределение не нормально')\n",
    "else:\n",
    "    print('Не получилось отвергнуть нулевую гипотезу, всё нормально') "
   ]
  },
  {
   "cell_type": "markdown",
   "metadata": {},
   "source": [
    "**Нормальное распределение имеет только столбец - баланс, Скоринг, возраст и зарплата распределены не нормально**"
   ]
  },
  {
   "cell_type": "markdown",
   "metadata": {},
   "source": [
    "**Каждый количественный параметр распределены без значимых выбросов. Данные близки к нормальному распределению**\n",
    "* возраст ЦА банка 30-40 лет\n",
    "* баланс рядового пользователя 100000 - 150000\n",
    "* Зарплата распределяется равномерно среди всех пользователей\n",
    "* Выброс на пиковых значениях в скоринге, может быть вызван системой присуждения рейтинга"
   ]
  },
  {
   "cell_type": "markdown",
   "metadata": {},
   "source": [
    "**Нам нужно уделить особое внимание оттоку. Разделим датасеты на ушедших и не ушедших**"
   ]
  },
  {
   "cell_type": "code",
   "execution_count": 26,
   "metadata": {},
   "outputs": [],
   "source": [
    "data_churn_0 = data.query('churn == 0')\n",
    "data_churn_1 = data.query('churn == 1')"
   ]
  },
  {
   "cell_type": "code",
   "execution_count": 27,
   "metadata": {},
   "outputs": [],
   "source": [
    "def churn_category(col):\n",
    "    churn_0 = data_churn_0[col]\n",
    "    churn_1 = data_churn_1[col]\n",
    "\n",
    "    sns.distplot(churn_0, kde=False, bins=30, norm_hist=True)\n",
    "    sns.distplot(churn_1, kde=False, bins=30, norm_hist=True)\n",
    "    \n",
    "    plt.title(f'Распределение по признаку - \"{names_dict[col]}\"')\n",
    "    plt.ylabel('Количество клиентов')\n",
    "    plt.legend(labels = ['клиент', 'отток'])\n",
    "    "
   ]
  },
  {
   "cell_type": "code",
   "execution_count": 28,
   "metadata": {},
   "outputs": [
    {
     "data": {
      "image/png": "[encoded data removed]",
      "text/plain": [
       "<Figure size 576x576 with 1 Axes>"
      ]
     },
     "metadata": {},
     "output_type": "display_data"
    },
    {
     "data": {
      "image/png": "[encoded data removed]",
      "text/plain": [
       "<Figure size 576x576 with 1 Axes>"
      ]
     },
     "metadata": {},
     "output_type": "display_data"
    },
    {
     "data": {
      "image/png": "[encoded data removed]",
      "text/plain": [
       "<Figure size 576x576 with 1 Axes>"
      ]
     },
     "metadata": {},
     "output_type": "display_data"
    }
   ],
   "source": [
    "for col in data_equal.columns:\n",
    "    churn_category(col)\n",
    "    plt.show()"
   ]
  },
  {
   "cell_type": "markdown",
   "metadata": {},
   "source": [
    "**На полученных графиках можно заметить, что пользователи в возрасте 40+ лет, склонны отказываться от услуг банка. (корреляция пары: возраст - отток была самой высокой в сравнении с остальными). Так же можно заметить, что среди действуюших клиентов банка - нет пользователей с оценкой (скорингом) меньше 400.**"
   ]
  },
  {
   "cell_type": "markdown",
   "metadata": {},
   "source": [
    "---"
   ]
  },
  {
   "cell_type": "code",
   "execution_count": 29,
   "metadata": {},
   "outputs": [],
   "source": [
    "def get_percentage_of_churn(col):\n",
    "    data_values = data[col].value_counts() # хранит значения всего дф\n",
    "    data_churn_values = data_churn_1[col].value_counts() # хранит значения ушедших пользователей по тому или иному признаку (col)\n",
    "    percentage = ((data_churn_values/ data_values) * 100).round(2)\n",
    "    print(f'Процент ушедших пользователей в категории \"{names_dict[col]}\"')\n",
    "    print(percentage)"
   ]
  },
  {
   "cell_type": "code",
   "execution_count": 30,
   "metadata": {},
   "outputs": [],
   "source": [
    "def get_category_plot(category):\n",
    "    data_plot = data.groupby(category, as_index=False).agg({'user_id': 'count', 'churn': 'sum'})\n",
    "    data_plot.columns=[category, 'id_cnt', 'churn_cnt']\n",
    "    data_plot['id_cnt'] = data_plot['id_cnt'] - data_plot['churn_cnt']\n",
    "    data_plot.columns=[category, 'не ушел', 'ушел']\n",
    "    \n",
    "    data_plot.plot(kind='bar',x=category, stacked=True, color=['blue', 'green'])\n",
    "    plt.title(f'Распределение ушедших и неушедших пользователей в категории {names_dict[category]}')\n",
    "    plt.xticks(rotation=360)\n",
    "    plt.xlabel(names_dict[category])\n",
    "    plt.ylabel('Количество');\n",
    "    "
   ]
  },
  {
   "cell_type": "code",
   "execution_count": 31,
   "metadata": {},
   "outputs": [
    {
     "name": "stdout",
     "output_type": "stream",
     "text": [
      "Процент ушедших пользователей в категории \"город\"\n",
      "Ростов Великий    32.44\n",
      "Рыбинск           16.67\n",
      "Ярославль         16.15\n",
      "Name: city, dtype: float64\n"
     ]
    },
    {
     "data": {
      "image/png": "[encoded data removed]",
      "text/plain": [
       "<Figure size 576x576 with 1 Axes>"
      ]
     },
     "metadata": {},
     "output_type": "display_data"
    }
   ],
   "source": [
    "get_category_plot('city')\n",
    "get_percentage_of_churn('city');"
   ]
  },
  {
   "cell_type": "markdown",
   "metadata": {},
   "source": [
    "**Самый высокий процент оттока в городе Ростов великий, в Рыбинске и Ярославле почти одинаковый процент оттока**"
   ]
  },
  {
   "cell_type": "code",
   "execution_count": 32,
   "metadata": {},
   "outputs": [
    {
     "name": "stdout",
     "output_type": "stream",
     "text": [
      "Процент ушедших пользователей в категории \"пол\"\n",
      "Ж    25.07\n",
      "М    16.46\n",
      "Name: gender, dtype: float64\n"
     ]
    },
    {
     "data": {
      "image/png": "[encoded data removed]",
      "text/plain": [
       "<Figure size 576x576 with 1 Axes>"
      ]
     },
     "metadata": {},
     "output_type": "display_data"
    }
   ],
   "source": [
    "get_category_plot('gender')\n",
    "get_percentage_of_churn('gender');"
   ]
  },
  {
   "cell_type": "markdown",
   "metadata": {},
   "source": [
    "**Женщин болше, чем мужчин по проценту оттока**"
   ]
  },
  {
   "cell_type": "code",
   "execution_count": 33,
   "metadata": {},
   "outputs": [
    {
     "name": "stdout",
     "output_type": "stream",
     "text": [
      "Процент ушедших пользователей в категории \"лояльность\"\n",
      "0    26.85\n",
      "1    14.27\n",
      "Name: loyalty, dtype: float64\n"
     ]
    },
    {
     "data": {
      "image/png": "[encoded data removed]",
      "text/plain": [
       "<Figure size 576x576 with 1 Axes>"
      ]
     },
     "metadata": {},
     "output_type": "display_data"
    }
   ],
   "source": [
    "get_category_plot('loyalty')\n",
    "get_percentage_of_churn('loyalty');"
   ]
  },
  {
   "cell_type": "markdown",
   "metadata": {},
   "source": [
    "**Отток активных пользователей гораздо меньше чем не активных**"
   ]
  },
  {
   "cell_type": "code",
   "execution_count": 34,
   "metadata": {},
   "outputs": [
    {
     "name": "stdout",
     "output_type": "stream",
     "text": [
      "Процент ушедших пользователей в категории \"кредитка\"\n",
      "1    20.18\n",
      "0    20.81\n",
      "Name: credit_card, dtype: float64\n"
     ]
    },
    {
     "data": {
      "image/png": "[encoded data removed]",
      "text/plain": [
       "<Figure size 576x576 with 1 Axes>"
      ]
     },
     "metadata": {},
     "output_type": "display_data"
    }
   ],
   "source": [
    "get_category_plot('credit_card')\n",
    "get_percentage_of_churn('credit_card');"
   ]
  },
  {
   "cell_type": "markdown",
   "metadata": {},
   "source": [
    "**Отток пользователей, владеющих кредитной картой банка, такой же, как и у тех, кто ею не владеет**"
   ]
  },
  {
   "cell_type": "code",
   "execution_count": 35,
   "metadata": {},
   "outputs": [
    {
     "name": "stdout",
     "output_type": "stream",
     "text": [
      "Процент ушедших пользователей в категории \"объекты\"\n",
      "0     23.00\n",
      "1     22.42\n",
      "2     19.18\n",
      "3     21.11\n",
      "4     20.53\n",
      "5     20.65\n",
      "6     20.27\n",
      "7     17.22\n",
      "8     19.22\n",
      "9     21.65\n",
      "10    20.61\n",
      "Name: objects, dtype: float64\n"
     ]
    },
    {
     "data": {
      "image/png": "[encoded data removed]",
      "text/plain": [
       "<Figure size 576x576 with 1 Axes>"
      ]
     },
     "metadata": {},
     "output_type": "display_data"
    }
   ],
   "source": [
    "get_category_plot('objects')\n",
    "get_percentage_of_churn('objects');"
   ]
  },
  {
   "cell_type": "markdown",
   "metadata": {},
   "source": [
    "**Процент ушедших пользователей в разрезе по количеству объектов не имеет сильных всплесков оттока по какому-либо количеству объектов**  "
   ]
  },
  {
   "cell_type": "code",
   "execution_count": 36,
   "metadata": {},
   "outputs": [
    {
     "name": "stdout",
     "output_type": "stream",
     "text": [
      "Процент ушедших пользователей в категории \"продукты\"\n",
      "1     27.71\n",
      "2      7.58\n",
      "3     82.71\n",
      "4    100.00\n",
      "Name: products, dtype: float64\n"
     ]
    },
    {
     "data": {
      "image/png": "[encoded data removed]",
      "text/plain": [
       "<Figure size 576x576 with 1 Axes>"
      ]
     },
     "metadata": {},
     "output_type": "display_data"
    }
   ],
   "source": [
    "get_category_plot('products')\n",
    "get_percentage_of_churn('products');"
   ]
  },
  {
   "cell_type": "markdown",
   "metadata": {},
   "source": [
    "**Самые большие показатели оттока среди пользовователей с 1-им, 3-мя и 4-мя продуктами**"
   ]
  },
  {
   "cell_type": "markdown",
   "metadata": {},
   "source": [
    "Итог по анализу категориальных параметров:\n",
    "* Большой отток среди пользователей с 1 продуктом (27.71%), а так же среди владельцев 3-х продуктов (82.71%) и 4-х продуктов (100%)\n",
    "* График по гендерному признаку показывает, что женщины уходят чаще (25.07%), отток среди мужчин (16.46%)\n",
    "* Владельцы кредитных карт уходят в 20.18% процентах случаев, пользователи не имеющие кредитной карты уходят в 20.81%. Т.Е. почти равны и схожи со средним процентом ухода по всему датасету\n",
    "* В разрезе по городам : Ростов великий - 32.44% ухода, Ярославль - 16.15%, Рыбинск - 16.67%.\n",
    "* Лояльность: Уход не лояльных пользователей: 26.85% , уход лояльных пользователей - 14.27%."
   ]
  },
  {
   "cell_type": "markdown",
   "metadata": {},
   "source": [
    "Портрет пользователей склонных к уходу:\n",
    "* гендер: Женщина\n",
    "* Активность: Не активен\n",
    "* Место проживания: город Ростов Великий\n",
    "* Количество продуктов: Является пользователем 1, 3 или 4-ех продуктов\n",
    "* Возраст: 40+ лет"
   ]
  },
  {
   "cell_type": "markdown",
   "metadata": {},
   "source": [
    "**Функция сегментации по возрасту**"
   ]
  },
  {
   "cell_type": "code",
   "execution_count": 37,
   "metadata": {},
   "outputs": [],
   "source": [
    "def get_age_category(value):\n",
    "    if 18 <= value <= 29:\n",
    "        return 'до 30 лет'\n",
    "    elif 30 <= value <= 44:\n",
    "        return 'от 30 до 45 лет'\n",
    "    else:\n",
    "        return 'от 45'\n",
    "    \n",
    "df['age_category'] = data['age'].apply(get_age_category)"
   ]
  },
  {
   "cell_type": "code",
   "execution_count": 38,
   "metadata": {
    "scrolled": true
   },
   "outputs": [
    {
     "data": {
      "text/html": [
       "<div>\n",
       "<style scoped>\n",
       "    .dataframe tbody tr th:only-of-type {\n",
       "        vertical-align: middle;\n",
       "    }\n",
       "\n",
       "    .dataframe tbody tr th {\n",
       "        vertical-align: top;\n",
       "    }\n",
       "\n",
       "    .dataframe thead th {\n",
       "        text-align: right;\n",
       "    }\n",
       "</style>\n",
       "<table border=\"1\" class=\"dataframe\">\n",
       "  <thead>\n",
       "    <tr style=\"text-align: right;\">\n",
       "      <th></th>\n",
       "      <th>estimated_salary</th>\n",
       "      <th>balance</th>\n",
       "      <th>churn</th>\n",
       "      <th>gender_М</th>\n",
       "      <th>gender_Ж</th>\n",
       "      <th>city_Рыбинск</th>\n",
       "      <th>city_Ярославль</th>\n",
       "      <th>city_Ростов Великий</th>\n",
       "      <th>products</th>\n",
       "      <th>loyalty</th>\n",
       "    </tr>\n",
       "    <tr>\n",
       "      <th>age_category</th>\n",
       "      <th></th>\n",
       "      <th></th>\n",
       "      <th></th>\n",
       "      <th></th>\n",
       "      <th></th>\n",
       "      <th></th>\n",
       "      <th></th>\n",
       "      <th></th>\n",
       "      <th></th>\n",
       "      <th></th>\n",
       "    </tr>\n",
       "  </thead>\n",
       "  <tbody>\n",
       "    <tr>\n",
       "      <th>до 30 лет</th>\n",
       "      <td>100855.247818</td>\n",
       "      <td>121181.961202</td>\n",
       "      <td>0.075564</td>\n",
       "      <td>0.542962</td>\n",
       "      <td>0.457038</td>\n",
       "      <td>0.245582</td>\n",
       "      <td>0.527727</td>\n",
       "      <td>0.226691</td>\n",
       "      <td>1.556977</td>\n",
       "      <td>0.510055</td>\n",
       "    </tr>\n",
       "    <tr>\n",
       "      <th>от 30 до 45 лет</th>\n",
       "      <td>99715.392311</td>\n",
       "      <td>119690.941280</td>\n",
       "      <td>0.144376</td>\n",
       "      <td>0.560724</td>\n",
       "      <td>0.439276</td>\n",
       "      <td>0.249543</td>\n",
       "      <td>0.509719</td>\n",
       "      <td>0.240738</td>\n",
       "      <td>1.539458</td>\n",
       "      <td>0.494434</td>\n",
       "    </tr>\n",
       "    <tr>\n",
       "      <th>от 45</th>\n",
       "      <td>100517.944795</td>\n",
       "      <td>119299.063853</td>\n",
       "      <td>0.446154</td>\n",
       "      <td>0.508974</td>\n",
       "      <td>0.491026</td>\n",
       "      <td>0.244444</td>\n",
       "      <td>0.461538</td>\n",
       "      <td>0.294017</td>\n",
       "      <td>1.487607</td>\n",
       "      <td>0.571795</td>\n",
       "    </tr>\n",
       "  </tbody>\n",
       "</table>\n",
       "</div>"
      ],
      "text/plain": [
       "                 estimated_salary        balance     churn  gender_М  \\\n",
       "age_category                                                           \n",
       "до 30 лет           100855.247818  121181.961202  0.075564  0.542962   \n",
       "от 30 до 45 лет      99715.392311  119690.941280  0.144376  0.560724   \n",
       "от 45               100517.944795  119299.063853  0.446154  0.508974   \n",
       "\n",
       "                 gender_Ж  city_Рыбинск  city_Ярославль  city_Ростов Великий  \\\n",
       "age_category                                                                   \n",
       "до 30 лет        0.457038      0.245582        0.527727             0.226691   \n",
       "от 30 до 45 лет  0.439276      0.249543        0.509719             0.240738   \n",
       "от 45            0.491026      0.244444        0.461538             0.294017   \n",
       "\n",
       "                 products   loyalty  \n",
       "age_category                         \n",
       "до 30 лет        1.556977  0.510055  \n",
       "от 30 до 45 лет  1.539458  0.494434  \n",
       "от 45            1.487607  0.571795  "
      ]
     },
     "execution_count": 38,
     "metadata": {},
     "output_type": "execute_result"
    }
   ],
   "source": [
    "df.groupby('age_category').agg({'estimated_salary': 'mean',\n",
    "                                'balance':'mean',\n",
    "                                'churn': 'mean',\n",
    "                                'gender_М': 'mean',\n",
    "                                'gender_Ж': 'mean',\n",
    "                                'city_Рыбинск': 'mean',\n",
    "                                'city_Ярославль': 'mean',\n",
    "                                'city_Ростов Великий': 'mean',\n",
    "                                'products': 'mean',\n",
    "                                'loyalty': 'mean'}) "
   ]
  },
  {
   "cell_type": "markdown",
   "metadata": {},
   "source": [
    "После сегментации по возрасту, можно заметить тенденцию роста оттока с ростом возрастной категорий. Средний баланс и зарплата в сегментах не имеют больших отличий. В городе Ярославль Находятся около 50% пользователей каждой возрастной категории."
   ]
  },
  {
   "cell_type": "code",
   "execution_count": 39,
   "metadata": {},
   "outputs": [
    {
     "data": {
      "text/html": [
       "<div>\n",
       "<style scoped>\n",
       "    .dataframe tbody tr th:only-of-type {\n",
       "        vertical-align: middle;\n",
       "    }\n",
       "\n",
       "    .dataframe tbody tr th {\n",
       "        vertical-align: top;\n",
       "    }\n",
       "\n",
       "    .dataframe thead th {\n",
       "        text-align: right;\n",
       "    }\n",
       "</style>\n",
       "<table border=\"1\" class=\"dataframe\">\n",
       "  <thead>\n",
       "    <tr style=\"text-align: right;\">\n",
       "      <th></th>\n",
       "      <th></th>\n",
       "      <th>user_id</th>\n",
       "      <th>churn</th>\n",
       "      <th>estimated_salary</th>\n",
       "      <th>credit_card</th>\n",
       "    </tr>\n",
       "    <tr>\n",
       "      <th>city</th>\n",
       "      <th>gender</th>\n",
       "      <th></th>\n",
       "      <th></th>\n",
       "      <th></th>\n",
       "      <th></th>\n",
       "    </tr>\n",
       "  </thead>\n",
       "  <tbody>\n",
       "    <tr>\n",
       "      <th rowspan=\"2\" valign=\"top\">Ростов Великий</th>\n",
       "      <th>Ж</th>\n",
       "      <td>1193</td>\n",
       "      <td>0.375524</td>\n",
       "      <td>102446.424124</td>\n",
       "      <td>0.706622</td>\n",
       "    </tr>\n",
       "    <tr>\n",
       "      <th>М</th>\n",
       "      <td>1316</td>\n",
       "      <td>0.278116</td>\n",
       "      <td>99905.033959</td>\n",
       "      <td>0.720365</td>\n",
       "    </tr>\n",
       "    <tr>\n",
       "      <th rowspan=\"2\" valign=\"top\">Рыбинск</th>\n",
       "      <th>Ж</th>\n",
       "      <td>1089</td>\n",
       "      <td>0.212121</td>\n",
       "      <td>100734.107475</td>\n",
       "      <td>0.707989</td>\n",
       "    </tr>\n",
       "    <tr>\n",
       "      <th>М</th>\n",
       "      <td>1388</td>\n",
       "      <td>0.131124</td>\n",
       "      <td>98425.687680</td>\n",
       "      <td>0.684438</td>\n",
       "    </tr>\n",
       "    <tr>\n",
       "      <th rowspan=\"2\" valign=\"top\">Ярославль</th>\n",
       "      <th>Ж</th>\n",
       "      <td>2261</td>\n",
       "      <td>0.203450</td>\n",
       "      <td>99564.252755</td>\n",
       "      <td>0.697921</td>\n",
       "    </tr>\n",
       "    <tr>\n",
       "      <th>М</th>\n",
       "      <td>2753</td>\n",
       "      <td>0.127134</td>\n",
       "      <td>100174.252495</td>\n",
       "      <td>0.713767</td>\n",
       "    </tr>\n",
       "  </tbody>\n",
       "</table>\n",
       "</div>"
      ],
      "text/plain": [
       "                       user_id     churn  estimated_salary  credit_card\n",
       "city           gender                                                  \n",
       "Ростов Великий Ж          1193  0.375524     102446.424124     0.706622\n",
       "               М          1316  0.278116      99905.033959     0.720365\n",
       "Рыбинск        Ж          1089  0.212121     100734.107475     0.707989\n",
       "               М          1388  0.131124      98425.687680     0.684438\n",
       "Ярославль      Ж          2261  0.203450      99564.252755     0.697921\n",
       "               М          2753  0.127134     100174.252495     0.713767"
      ]
     },
     "execution_count": 39,
     "metadata": {},
     "output_type": "execute_result"
    }
   ],
   "source": [
    "data.groupby(['city', 'gender']).agg({'user_id': 'count', 'churn': 'mean', 'estimated_salary': 'mean', 'credit_card': 'mean'})"
   ]
  },
  {
   "cell_type": "code",
   "execution_count": 40,
   "metadata": {},
   "outputs": [
    {
     "data": {
      "text/html": [
       "<div>\n",
       "<style scoped>\n",
       "    .dataframe tbody tr th:only-of-type {\n",
       "        vertical-align: middle;\n",
       "    }\n",
       "\n",
       "    .dataframe tbody tr th {\n",
       "        vertical-align: top;\n",
       "    }\n",
       "\n",
       "    .dataframe thead th {\n",
       "        text-align: right;\n",
       "    }\n",
       "</style>\n",
       "<table border=\"1\" class=\"dataframe\">\n",
       "  <thead>\n",
       "    <tr style=\"text-align: right;\">\n",
       "      <th></th>\n",
       "      <th>products</th>\n",
       "      <th>gender</th>\n",
       "      <th>user_id</th>\n",
       "      <th>age</th>\n",
       "      <th>churn</th>\n",
       "    </tr>\n",
       "  </thead>\n",
       "  <tbody>\n",
       "    <tr>\n",
       "      <th>0</th>\n",
       "      <td>1</td>\n",
       "      <td>Ж</td>\n",
       "      <td>2296</td>\n",
       "      <td>40.030488</td>\n",
       "      <td>0.331882</td>\n",
       "    </tr>\n",
       "    <tr>\n",
       "      <th>1</th>\n",
       "      <td>1</td>\n",
       "      <td>М</td>\n",
       "      <td>2788</td>\n",
       "      <td>39.378766</td>\n",
       "      <td>0.232066</td>\n",
       "    </tr>\n",
       "    <tr>\n",
       "      <th>2</th>\n",
       "      <td>2</td>\n",
       "      <td>Ж</td>\n",
       "      <td>2060</td>\n",
       "      <td>37.917476</td>\n",
       "      <td>0.101942</td>\n",
       "    </tr>\n",
       "    <tr>\n",
       "      <th>3</th>\n",
       "      <td>2</td>\n",
       "      <td>М</td>\n",
       "      <td>2530</td>\n",
       "      <td>37.620158</td>\n",
       "      <td>0.054545</td>\n",
       "    </tr>\n",
       "    <tr>\n",
       "      <th>4</th>\n",
       "      <td>3</td>\n",
       "      <td>Ж</td>\n",
       "      <td>149</td>\n",
       "      <td>43.597315</td>\n",
       "      <td>0.865772</td>\n",
       "    </tr>\n",
       "    <tr>\n",
       "      <th>5</th>\n",
       "      <td>3</td>\n",
       "      <td>М</td>\n",
       "      <td>117</td>\n",
       "      <td>42.683761</td>\n",
       "      <td>0.777778</td>\n",
       "    </tr>\n",
       "    <tr>\n",
       "      <th>6</th>\n",
       "      <td>4</td>\n",
       "      <td>Ж</td>\n",
       "      <td>38</td>\n",
       "      <td>45.894737</td>\n",
       "      <td>1.000000</td>\n",
       "    </tr>\n",
       "    <tr>\n",
       "      <th>7</th>\n",
       "      <td>4</td>\n",
       "      <td>М</td>\n",
       "      <td>22</td>\n",
       "      <td>45.318182</td>\n",
       "      <td>1.000000</td>\n",
       "    </tr>\n",
       "  </tbody>\n",
       "</table>\n",
       "</div>"
      ],
      "text/plain": [
       "   products gender  user_id        age     churn\n",
       "0         1      Ж     2296  40.030488  0.331882\n",
       "1         1      М     2788  39.378766  0.232066\n",
       "2         2      Ж     2060  37.917476  0.101942\n",
       "3         2      М     2530  37.620158  0.054545\n",
       "4         3      Ж      149  43.597315  0.865772\n",
       "5         3      М      117  42.683761  0.777778\n",
       "6         4      Ж       38  45.894737  1.000000\n",
       "7         4      М       22  45.318182  1.000000"
      ]
     },
     "execution_count": 40,
     "metadata": {},
     "output_type": "execute_result"
    }
   ],
   "source": [
    "prod_churn = data.groupby(['products', 'gender'], as_index=False).agg({'user_id': 'count',\n",
    "                                          'age': 'mean',\n",
    "                                          'churn': 'mean'})\n",
    "prod_churn"
   ]
  },
  {
   "cell_type": "markdown",
   "metadata": {},
   "source": [
    "**Сегментация по фозрасту:**\n",
    "\n",
    "18-29 лет - средняя зарплата 100 тыс., средний остаток на счете 120 тыс., процент оттока 7%, преобладающе - мужчина, обладатель 1.5 продуктов в среднем.\n",
    "\n",
    "\n",
    "30-44 лет - средняя зарплата 100тыс., средний остаток на счете 120 тыс., процент оттока 14%, преобладающе - мужчины, обладатель 1.5 продуктов в среднем\n",
    "\n",
    "от 45 лет - средняя зарплата 100тыс., средний остаток на счете 120 тыс., процент оттока 44%, преобладающе - мужчины, обладатель 1.5 продуктов в среднем\n",
    "\n"
   ]
  },
  {
   "cell_type": "markdown",
   "metadata": {},
   "source": [
    "**Сегментация по количеству продуктов:**\n",
    "\n",
    "1 продукт - преобладающе - мужчина, медианный возраст 38(м), 39(ж)\n",
    "\n",
    "2 продукт - преобладающе - мужчина, медианный возраст 36(м), 36(ж)\n",
    "\n",
    "3 продукт - преобладающе - женщина, медианный возраст 41(м), 43(ж)\n",
    "\n",
    "4 продукт - преобладающе - женщина, медианный возраст 45(м), 46(ж)"
   ]
  },
  {
   "cell_type": "markdown",
   "metadata": {},
   "source": [
    "**Сегментация по городам:**\n",
    "\n",
    "Пользователи разделеные по городу не обладают принципиальными отличиями параметров, кроме процента оттока пользователей. В городе Ростов Великий процент оттока выше среднего, чем по всему датасету. \n"
   ]
  },
  {
   "cell_type": "code",
   "execution_count": 41,
   "metadata": {},
   "outputs": [
    {
     "data": {
      "text/html": [
       "<div>\n",
       "<style scoped>\n",
       "    .dataframe tbody tr th:only-of-type {\n",
       "        vertical-align: middle;\n",
       "    }\n",
       "\n",
       "    .dataframe tbody tr th {\n",
       "        vertical-align: top;\n",
       "    }\n",
       "\n",
       "    .dataframe thead th {\n",
       "        text-align: right;\n",
       "    }\n",
       "</style>\n",
       "<table border=\"1\" class=\"dataframe\">\n",
       "  <thead>\n",
       "    <tr style=\"text-align: right;\">\n",
       "      <th></th>\n",
       "      <th>age_category</th>\n",
       "      <th>churn</th>\n",
       "    </tr>\n",
       "  </thead>\n",
       "  <tbody>\n",
       "    <tr>\n",
       "      <th>0</th>\n",
       "      <td>до 30 лет</td>\n",
       "      <td>0.075564</td>\n",
       "    </tr>\n",
       "    <tr>\n",
       "      <th>1</th>\n",
       "      <td>от 30 до 45 лет</td>\n",
       "      <td>0.144376</td>\n",
       "    </tr>\n",
       "    <tr>\n",
       "      <th>2</th>\n",
       "      <td>от 45</td>\n",
       "      <td>0.446154</td>\n",
       "    </tr>\n",
       "  </tbody>\n",
       "</table>\n",
       "</div>"
      ],
      "text/plain": [
       "      age_category     churn\n",
       "0        до 30 лет  0.075564\n",
       "1  от 30 до 45 лет  0.144376\n",
       "2            от 45  0.446154"
      ]
     },
     "execution_count": 41,
     "metadata": {},
     "output_type": "execute_result"
    }
   ],
   "source": [
    "churn_age = df.groupby('age_category', as_index=False).agg({'churn': 'mean'})\n",
    "churn_age"
   ]
  },
  {
   "cell_type": "code",
   "execution_count": 42,
   "metadata": {},
   "outputs": [
    {
     "data": {
      "image/png": "[encoded data removed]",
      "text/plain": [
       "<Figure size 576x576 with 1 Axes>"
      ]
     },
     "metadata": {},
     "output_type": "display_data"
    }
   ],
   "source": [
    "sns.barplot(x='age_category', y='churn', data=churn_age)\n",
    "plt.title('Средний отток по сегменту возраст')\n",
    "plt.xlabel('Возрастная категория')\n",
    "plt.ylabel('отток');"
   ]
  },
  {
   "cell_type": "markdown",
   "metadata": {},
   "source": [
    "сегмент 18-29 - отток 7%, процент ниже среднего\n",
    "\n",
    "сегмент 30-44 - отток 14%, процент ниже среднего\n",
    "\n",
    "сегмент 45+ - отток 44%, процент выше среднего "
   ]
  },
  {
   "cell_type": "code",
   "execution_count": 43,
   "metadata": {},
   "outputs": [
    {
     "data": {
      "image/png": "[encoded data removed]",
      "text/plain": [
       "<Figure size 576x576 with 1 Axes>"
      ]
     },
     "metadata": {},
     "output_type": "display_data"
    }
   ],
   "source": [
    "sns.barplot(x='products', y='churn', data=prod_churn, hue='gender')\n",
    "plt.title('Средний отток по сегменту продукт')\n",
    "plt.xlabel('количество продуктов')\n",
    "plt.ylabel('отток');"
   ]
  },
  {
   "cell_type": "markdown",
   "metadata": {},
   "source": [
    "Можно сказать, что условия банка больше подходят молодым людям, нежели людям в возрасте, необходимо принять действия для сокращения оттока в сегменте 45+ лет, например разработать тариф для людей в возрасте с выгодными условиями\n",
    "\n",
    "\n",
    "сегмент 1 продукт - ж(33% оттока) м(23% оттока) - отток выше среднего\n",
    "\n",
    "сегмент 2 продукт - ж(10% оттока) м(5% оттока) - отток ниже среднего\n",
    "\n",
    "сегмент 3 продукт - ж(86% оттока) м(77% оттока) - отток выше среднего\n",
    "\n",
    "сегмент 4 продукт - ж(100% оттока) м(100% оттока) - отток выше среднего\n",
    "\n"
   ]
  },
  {
   "cell_type": "markdown",
   "metadata": {},
   "source": [
    "# Проверка гипотез <a id='step4'></a>"
   ]
  },
  {
   "cell_type": "markdown",
   "metadata": {},
   "source": [
    "# Гипотезы 1"
   ]
  },
  {
   "cell_type": "markdown",
   "metadata": {},
   "source": [
    "Проверьте гипотезу различия дохода между теми клиентами, которые пользуются двумя продуктами банка, и теми, которые пользуются одним."
   ]
  },
  {
   "cell_type": "markdown",
   "metadata": {},
   "source": [
    "**Разделим датасеты на количества продуктов, чтобы передать их функции**"
   ]
  },
  {
   "cell_type": "code",
   "execution_count": 44,
   "metadata": {},
   "outputs": [],
   "source": [
    "product_1 = data.query('products == 1')\n",
    "product_2 = data.query('products == 2')"
   ]
  },
  {
   "cell_type": "markdown",
   "metadata": {},
   "source": [
    "**H0: Доход клиентов пользующихся 1-им продуктом банка равен доходу клиентов пользующимся 2-мя продуктами банка.**\n",
    "\n",
    "**H1: Доход клиентов пользующихся 1-им продуктом банка не равен доходу клиентов пользующимся 2-мя продуктами банка.**"
   ]
  },
  {
   "cell_type": "code",
   "execution_count": 45,
   "metadata": {},
   "outputs": [
    {
     "name": "stdout",
     "output_type": "stream",
     "text": [
      "0.4079566651927651\n",
      "Не удалось отвергнуть нулевую гипотезу, статистически значимой разницы нет\n"
     ]
    }
   ],
   "source": [
    "alpha = .05\n",
    "def whitney_test (data1, data2, alpha):\n",
    "    \n",
    "    p_value = st.mannwhitneyu(data1, data2).pvalue\n",
    "    \n",
    "    print(p_value)\n",
    "    if (p_value < alpha):\n",
    "        print('Отвергаем нулевую гипотезу, есть статистически значимая разница')\n",
    "    else:\n",
    "        print('Не удалось отвергнуть нулевую гипотезу, статистически значимой разницы нет')\n",
    "\n",
    "whitney_test(product_1['estimated_salary'], product_2['estimated_salary'], alpha)        "
   ]
  },
  {
   "cell_type": "markdown",
   "metadata": {},
   "source": [
    "**Проверка гипотезы показала, что у нас нет оснований считать доходы клиентов с одним и двумя продуктами разными.**\n",
    "\n",
    "---"
   ]
  },
  {
   "cell_type": "markdown",
   "metadata": {},
   "source": [
    "# Гипотезы 2"
   ]
  },
  {
   "cell_type": "markdown",
   "metadata": {},
   "source": [
    "**H0: Доля ушедших пользователей женского пола, равна доле ушедших пользователей мужского пола.**\n",
    "\n",
    "**H1: Доля ушедших пользователей женского пола,  не равна доле ушедших пользователей мужского пола.**"
   ]
  },
  {
   "cell_type": "markdown",
   "metadata": {},
   "source": [
    "Подготовим переменные для использования их в функции."
   ]
  },
  {
   "cell_type": "code",
   "execution_count": 46,
   "metadata": {},
   "outputs": [],
   "source": [
    "data_gender_m = len(data[data['gender'] == 'М'])\n",
    "data_gender_w = len(data[data['gender'] == 'Ж'])\n",
    "data_churn_m = len(data[(data['gender'] == 'М') & data['churn'] == 1])\n",
    "data_churn_w = len(data[(data['gender'] == 'Ж') & data['churn'] == 1])"
   ]
  },
  {
   "cell_type": "markdown",
   "metadata": {},
   "source": [
    "Подготовим функцию z-теста для проверки доль ушедших пользователей по гендерам"
   ]
  },
  {
   "cell_type": "code",
   "execution_count": 47,
   "metadata": {},
   "outputs": [],
   "source": [
    "alpha = 0.05\n",
    "def z_test (churn_1, churn_2, gender_1, gender_2):\n",
    "    \n",
    "\n",
    "    p1 = churn_1/gender_1\n",
    "\n",
    "    p2 = churn_2/gender_2\n",
    "\n",
    "    p_combined = (churn_1 + churn_2) / (gender_1 + gender_2)\n",
    "\n",
    "    difference = p1 - p2 \n",
    "\n",
    "    z_value = difference / mth.sqrt(p_combined * (1 - p_combined) * (1/gender_1 + 1/gender_2))\n",
    "\n",
    "\n",
    "    distr = st.norm(0, 1)  \n",
    "\n",
    "    p_value = (1 - distr.cdf(abs(z_value))) * 2\n",
    "    \n",
    "    print('p-значение: {0:.5f}'.format(p_value))\n",
    "\n",
    "    \n",
    "    if p_value < alpha:\n",
    "        print('Отвергаем нулевую гипотезу: между долями есть значимая разница')\n",
    "    else:\n",
    "        print(\n",
    "            'Не получилось отвергнуть нулевую гипотезу, нет оснований считать доли разными'\n",
    "        ) "
   ]
  },
  {
   "cell_type": "code",
   "execution_count": 48,
   "metadata": {},
   "outputs": [
    {
     "name": "stdout",
     "output_type": "stream",
     "text": [
      "p-значение: 0.00000\n",
      "Отвергаем нулевую гипотезу: между долями есть значимая разница\n"
     ]
    }
   ],
   "source": [
    "z_test(data_churn_w, data_churn_m, data_gender_w, data_gender_m)"
   ]
  },
  {
   "cell_type": "markdown",
   "metadata": {},
   "source": [
    "**z-test показал, что у нас нет оснований не отвергнуть нулевую гипотезу. Между долями есть статистически значимая разница.**"
   ]
  },
  {
   "cell_type": "markdown",
   "metadata": {},
   "source": [
    "---"
   ]
  },
  {
   "cell_type": "markdown",
   "metadata": {},
   "source": [
    "# Выводы:\n",
    "\n",
    "Нам предаставленны данные состоящие из 10.000 записей. Перед анализом, я выполнил базовую предобработку: заменил названия столбцов на удобные, проверил на дубликаты и пропуски. Принял решение не удалять и не заполнять пропуски, чтобы не внести массивные коррективы в общую картину.\n",
    "\n",
    "В ходе исследовательского анализа данных я не заметил критических аномалий и выбивающихся значений. Все количественные параметры распределены \"нормально\". \n",
    "Так как нам надо было уделить особое внимание оттоку, мы построили функции для визуализации клиентов попавших в отток и процент ушедших в категориальных переменных.\n",
    "\n",
    "В результате исследования мы составили портрет среднестатистического клиента склонного к оттоку:\n",
    "\n",
    "* гендер: Женщина\n",
    "* Активность: Не активен\n",
    "* Место проживания: город Ростов Великий\n",
    "* Количество продуктов: Является пользователем 1, 3 или 4-ех продуктов\n",
    "* Возраст: 40+ лет\n",
    "\n",
    "Стоит заметить, что перечень этих факторов не стоит воспринимать в совокупности, он лишь предоставляет общую информацию о клиентах.\n",
    "\n",
    "В ходе статистического анализа мы проверили гипотезы:\n",
    "* О равенстве зарплат между пользователями с одним продуктом и двумя\n",
    "* О равендстве долей оттока по гендерному признаку\n",
    "\n",
    "Гипотеза о равенстве зарплан подтвердилась тестом манна-уитни.\n",
    "Гипотеза о равенстве долей оттока по гендерному признаку проверяли z-тестом, гипотеза не подтвердилась, среди долей оттока есть значимая разница."
   ]
  },
  {
   "cell_type": "markdown",
   "metadata": {},
   "source": [
    "---"
   ]
  },
  {
   "cell_type": "markdown",
   "metadata": {},
   "source": [
    "# Выводы по сегментации:"
   ]
  },
  {
   "cell_type": "markdown",
   "metadata": {},
   "source": [
    "Итоги по сегментации:\n",
    "\n",
    "по количеству продуктов - владельцами 1-го или 2-ух продуктов преобладающе являются мужчины, мы можем предложить им еще один или несколько продуктов банка в соответствии с типичными мужскими нуждами.\n",
    "\n",
    "По возрасту: \n",
    "\n",
    "Средние Параметры по сегменту возраст не имеют значимых различий по большинству атрибутов. Отток в сегментах 18-29 лет и 30-44 лет. Процент оттока у людей старше 45-ти лет - больше среднего, чем по всему датасету и составляет 44%. Возможно в банке есть выгодные условия для молодых людей и нет факторов повышения лояльности для клиентов в возрасте. Стоит придумать стратегию (или продукты) для повышения активности пользователей в сегменте 45+ лет. "
   ]
  },
  {
   "cell_type": "markdown",
   "metadata": {},
   "source": [
    "**Сегментация по фозрасту:**\n",
    "\n",
    "18-29 лет - средняя зарплата 100 тыс., средний остаток на счете 120 тыс., процент оттока 7%, преобладающе - мужчина, обладатель 1.5 продуктов в среднем. - Предложить открыть продукты, подходящие к этой возрастной категории\n",
    "\n",
    "30-44 лет - средняя зарплата 100тыс., средний остаток на счете 120 тыс., процент оттока 14%, преобладающе - мужчины, обладатель 1.5 продуктов в среднем - Разработать продукты или тарифы повышающие лояльность пользователей этой возрастной категории\n",
    "\n",
    "от 45 лет - средняя зарплата 100тыс., средний остаток на счете 120 тыс., процент оттока 44%, преобладающе - мужчины, обладатель 1.5 продуктов в среднем - Разработать продукты или тарифы повышающие лояльность пользователей этой возрастной категории\n",
    "\n"
   ]
  },
  {
   "cell_type": "markdown",
   "metadata": {},
   "source": [
    "**Сегментация по количеству продуктов и рекомендации к каждому сегменту:**\n",
    "\n",
    "Характеристики:\n",
    "\n",
    "1 продукт - преобладающе - мужчина, медианный возраст 38(м), 39(ж)\n",
    "\n",
    "2 продукт - преобладающе - мужчина, медианный возраст 36(м), 36(ж)\n",
    "\n",
    "3 продукт - преобладающе - женщина, медианный возраст 41(м), 43(ж)\n",
    "\n",
    "4 продукт - преобладающе - женщина, медианный возраст 45(м), 46(ж)\n",
    "\n",
    "сегмент 1 продукт  - ж(33% оттока) м(23% оттока) - отток выше среднего - предложить открыть еще несколько продуктов банка\n",
    "\n",
    "сегмент 2 продукт - ж(10% оттока) м(5% оттока) - отток ниже среднего - предложить открыть еще 1 или 2 продукта\n",
    "\n",
    "сегмент 3 продукт - ж(86% оттока) м(77% оттока) - отток выше среднего - Для владельцев 3 и 4 продуктов необходимо разработать \n",
    "поощряющие тарифы, для поднятия активности и сокращения оттока\n",
    "\n",
    "сегмент 4 продукт - ж(100% оттока) м(100% оттока) - отток выше среднего \n"
   ]
  }
 ],
 "metadata": {
  "ExecuteTimeLog": [
   {
    "duration": 1248,
    "start_time": "2022-12-27T09:56:26.723Z"
   },
   {
    "duration": 116,
    "start_time": "2022-12-27T09:56:27.973Z"
   },
   {
    "duration": 0,
    "start_time": "2022-12-27T09:56:28.097Z"
   },
   {
    "duration": 0,
    "start_time": "2022-12-27T09:56:28.098Z"
   },
   {
    "duration": 0,
    "start_time": "2022-12-27T09:56:28.099Z"
   },
   {
    "duration": 0,
    "start_time": "2022-12-27T09:56:28.100Z"
   },
   {
    "duration": 0,
    "start_time": "2022-12-27T09:56:28.102Z"
   },
   {
    "duration": 0,
    "start_time": "2022-12-27T09:56:28.102Z"
   },
   {
    "duration": 0,
    "start_time": "2022-12-27T09:56:28.103Z"
   },
   {
    "duration": 0,
    "start_time": "2022-12-27T09:56:28.105Z"
   },
   {
    "duration": 0,
    "start_time": "2022-12-27T09:56:28.106Z"
   },
   {
    "duration": 0,
    "start_time": "2022-12-27T09:56:28.107Z"
   },
   {
    "duration": 0,
    "start_time": "2022-12-27T09:56:28.108Z"
   },
   {
    "duration": 0,
    "start_time": "2022-12-27T09:56:28.109Z"
   },
   {
    "duration": 0,
    "start_time": "2022-12-27T09:56:28.110Z"
   },
   {
    "duration": 0,
    "start_time": "2022-12-27T09:56:28.111Z"
   },
   {
    "duration": 0,
    "start_time": "2022-12-27T09:56:28.112Z"
   },
   {
    "duration": 0,
    "start_time": "2022-12-27T09:56:28.113Z"
   },
   {
    "duration": 0,
    "start_time": "2022-12-27T09:56:28.114Z"
   },
   {
    "duration": 0,
    "start_time": "2022-12-27T09:56:28.115Z"
   },
   {
    "duration": 0,
    "start_time": "2022-12-27T09:56:28.116Z"
   },
   {
    "duration": 0,
    "start_time": "2022-12-27T09:56:28.118Z"
   },
   {
    "duration": 0,
    "start_time": "2022-12-27T09:56:28.119Z"
   },
   {
    "duration": 0,
    "start_time": "2022-12-27T09:56:28.120Z"
   },
   {
    "duration": 0,
    "start_time": "2022-12-27T09:56:28.121Z"
   },
   {
    "duration": 0,
    "start_time": "2022-12-27T09:56:28.122Z"
   },
   {
    "duration": 0,
    "start_time": "2022-12-27T09:56:28.123Z"
   },
   {
    "duration": 0,
    "start_time": "2022-12-27T09:56:28.124Z"
   },
   {
    "duration": 0,
    "start_time": "2022-12-27T09:56:28.125Z"
   },
   {
    "duration": 0,
    "start_time": "2022-12-27T09:56:28.126Z"
   },
   {
    "duration": 0,
    "start_time": "2022-12-27T09:56:28.127Z"
   },
   {
    "duration": 0,
    "start_time": "2022-12-27T09:56:28.128Z"
   },
   {
    "duration": 47,
    "start_time": "2022-12-27T12:44:25.007Z"
   },
   {
    "duration": 1305,
    "start_time": "2022-12-27T12:44:30.446Z"
   },
   {
    "duration": 145,
    "start_time": "2022-12-27T12:44:31.753Z"
   },
   {
    "duration": 0,
    "start_time": "2022-12-27T12:44:31.900Z"
   },
   {
    "duration": 0,
    "start_time": "2022-12-27T12:44:31.901Z"
   },
   {
    "duration": 1,
    "start_time": "2022-12-27T12:44:31.902Z"
   },
   {
    "duration": 0,
    "start_time": "2022-12-27T12:44:31.903Z"
   },
   {
    "duration": 0,
    "start_time": "2022-12-27T12:44:31.905Z"
   },
   {
    "duration": 0,
    "start_time": "2022-12-27T12:44:31.906Z"
   },
   {
    "duration": 0,
    "start_time": "2022-12-27T12:44:31.907Z"
   },
   {
    "duration": 0,
    "start_time": "2022-12-27T12:44:31.922Z"
   },
   {
    "duration": 0,
    "start_time": "2022-12-27T12:44:31.923Z"
   },
   {
    "duration": 0,
    "start_time": "2022-12-27T12:44:31.924Z"
   },
   {
    "duration": 0,
    "start_time": "2022-12-27T12:44:31.926Z"
   },
   {
    "duration": 0,
    "start_time": "2022-12-27T12:44:31.927Z"
   },
   {
    "duration": 0,
    "start_time": "2022-12-27T12:44:31.928Z"
   },
   {
    "duration": 0,
    "start_time": "2022-12-27T12:44:31.929Z"
   },
   {
    "duration": 0,
    "start_time": "2022-12-27T12:44:31.930Z"
   },
   {
    "duration": 0,
    "start_time": "2022-12-27T12:44:31.931Z"
   },
   {
    "duration": 0,
    "start_time": "2022-12-27T12:44:31.932Z"
   },
   {
    "duration": 0,
    "start_time": "2022-12-27T12:44:31.933Z"
   },
   {
    "duration": 0,
    "start_time": "2022-12-27T12:44:31.934Z"
   },
   {
    "duration": 0,
    "start_time": "2022-12-27T12:44:31.935Z"
   },
   {
    "duration": 0,
    "start_time": "2022-12-27T12:44:31.937Z"
   },
   {
    "duration": 0,
    "start_time": "2022-12-27T12:44:31.938Z"
   },
   {
    "duration": 0,
    "start_time": "2022-12-27T12:44:31.939Z"
   },
   {
    "duration": 0,
    "start_time": "2022-12-27T12:44:31.940Z"
   },
   {
    "duration": 0,
    "start_time": "2022-12-27T12:44:31.941Z"
   },
   {
    "duration": 0,
    "start_time": "2022-12-27T12:44:31.942Z"
   },
   {
    "duration": 0,
    "start_time": "2022-12-27T12:44:31.943Z"
   },
   {
    "duration": 0,
    "start_time": "2022-12-27T12:44:31.944Z"
   },
   {
    "duration": 0,
    "start_time": "2022-12-27T12:44:31.945Z"
   },
   {
    "duration": 0,
    "start_time": "2022-12-27T12:44:31.946Z"
   },
   {
    "duration": 2245,
    "start_time": "2022-12-27T12:44:44.972Z"
   },
   {
    "duration": 47,
    "start_time": "2022-12-27T12:45:54.470Z"
   },
   {
    "duration": 1078,
    "start_time": "2022-12-27T12:51:44.378Z"
   },
   {
    "duration": 104,
    "start_time": "2022-12-27T12:51:45.458Z"
   },
   {
    "duration": 0,
    "start_time": "2022-12-27T12:51:45.565Z"
   },
   {
    "duration": 0,
    "start_time": "2022-12-27T12:51:45.566Z"
   },
   {
    "duration": 0,
    "start_time": "2022-12-27T12:51:45.567Z"
   },
   {
    "duration": 0,
    "start_time": "2022-12-27T12:51:45.569Z"
   },
   {
    "duration": 0,
    "start_time": "2022-12-27T12:51:45.571Z"
   },
   {
    "duration": 0,
    "start_time": "2022-12-27T12:51:45.572Z"
   },
   {
    "duration": 0,
    "start_time": "2022-12-27T12:51:45.573Z"
   },
   {
    "duration": 0,
    "start_time": "2022-12-27T12:51:45.575Z"
   },
   {
    "duration": 0,
    "start_time": "2022-12-27T12:51:45.576Z"
   },
   {
    "duration": 0,
    "start_time": "2022-12-27T12:51:45.578Z"
   },
   {
    "duration": 0,
    "start_time": "2022-12-27T12:51:45.579Z"
   },
   {
    "duration": 0,
    "start_time": "2022-12-27T12:51:45.581Z"
   },
   {
    "duration": 0,
    "start_time": "2022-12-27T12:51:45.582Z"
   },
   {
    "duration": 0,
    "start_time": "2022-12-27T12:51:45.583Z"
   },
   {
    "duration": 0,
    "start_time": "2022-12-27T12:51:45.585Z"
   },
   {
    "duration": 0,
    "start_time": "2022-12-27T12:51:45.586Z"
   },
   {
    "duration": 0,
    "start_time": "2022-12-27T12:51:45.623Z"
   },
   {
    "duration": 0,
    "start_time": "2022-12-27T12:51:45.624Z"
   },
   {
    "duration": 0,
    "start_time": "2022-12-27T12:51:45.626Z"
   },
   {
    "duration": 0,
    "start_time": "2022-12-27T12:51:45.627Z"
   },
   {
    "duration": 0,
    "start_time": "2022-12-27T12:51:45.628Z"
   },
   {
    "duration": 0,
    "start_time": "2022-12-27T12:51:45.630Z"
   },
   {
    "duration": 0,
    "start_time": "2022-12-27T12:51:45.631Z"
   },
   {
    "duration": 0,
    "start_time": "2022-12-27T12:51:45.632Z"
   },
   {
    "duration": 0,
    "start_time": "2022-12-27T12:51:45.634Z"
   },
   {
    "duration": 0,
    "start_time": "2022-12-27T12:51:45.635Z"
   },
   {
    "duration": 0,
    "start_time": "2022-12-27T12:51:45.637Z"
   },
   {
    "duration": 0,
    "start_time": "2022-12-27T12:51:45.638Z"
   },
   {
    "duration": 0,
    "start_time": "2022-12-27T12:51:45.639Z"
   },
   {
    "duration": 0,
    "start_time": "2022-12-27T12:51:45.641Z"
   },
   {
    "duration": 50,
    "start_time": "2022-12-27T12:52:35.745Z"
   },
   {
    "duration": 9,
    "start_time": "2022-12-27T12:54:27.813Z"
   },
   {
    "duration": 91,
    "start_time": "2022-12-27T12:58:39.161Z"
   },
   {
    "duration": 53,
    "start_time": "2022-12-27T13:01:34.555Z"
   },
   {
    "duration": 77,
    "start_time": "2022-12-27T13:05:14.747Z"
   },
   {
    "duration": 79,
    "start_time": "2022-12-27T13:05:25.992Z"
   },
   {
    "duration": 11,
    "start_time": "2022-12-27T13:05:51.328Z"
   },
   {
    "duration": 151,
    "start_time": "2022-12-27T13:06:05.828Z"
   },
   {
    "duration": 15,
    "start_time": "2022-12-27T13:06:09.081Z"
   },
   {
    "duration": 75,
    "start_time": "2022-12-27T13:07:40.060Z"
   },
   {
    "duration": 87,
    "start_time": "2022-12-27T13:17:56.710Z"
   },
   {
    "duration": 1274,
    "start_time": "2022-12-27T13:33:09.608Z"
   },
   {
    "duration": 52,
    "start_time": "2022-12-27T13:33:10.884Z"
   },
   {
    "duration": 37,
    "start_time": "2022-12-27T13:33:10.939Z"
   },
   {
    "duration": 40,
    "start_time": "2022-12-27T13:33:10.978Z"
   },
   {
    "duration": 27,
    "start_time": "2022-12-27T13:33:11.020Z"
   },
   {
    "duration": 50,
    "start_time": "2022-12-27T13:33:11.049Z"
   },
   {
    "duration": 1424,
    "start_time": "2022-12-27T13:33:11.101Z"
   },
   {
    "duration": 7,
    "start_time": "2022-12-27T13:33:12.532Z"
   },
   {
    "duration": 46,
    "start_time": "2022-12-27T13:33:12.542Z"
   },
   {
    "duration": 48,
    "start_time": "2022-12-27T13:33:12.591Z"
   },
   {
    "duration": 1096,
    "start_time": "2022-12-27T13:33:12.641Z"
   },
   {
    "duration": 5,
    "start_time": "2022-12-27T13:33:13.739Z"
   },
   {
    "duration": 28,
    "start_time": "2022-12-27T13:33:13.746Z"
   },
   {
    "duration": 2562,
    "start_time": "2022-12-27T13:33:13.777Z"
   },
   {
    "duration": 658,
    "start_time": "2022-12-27T13:33:16.341Z"
   },
   {
    "duration": 219,
    "start_time": "2022-12-27T13:33:17.001Z"
   },
   {
    "duration": 15,
    "start_time": "2022-12-27T13:33:17.223Z"
   },
   {
    "duration": 7,
    "start_time": "2022-12-27T13:33:17.240Z"
   },
   {
    "duration": 945,
    "start_time": "2022-12-27T13:33:17.248Z"
   },
   {
    "duration": 4,
    "start_time": "2022-12-27T13:33:18.195Z"
   },
   {
    "duration": 7,
    "start_time": "2022-12-27T13:33:18.201Z"
   },
   {
    "duration": 309,
    "start_time": "2022-12-27T13:33:18.209Z"
   },
   {
    "duration": 183,
    "start_time": "2022-12-27T13:33:18.522Z"
   },
   {
    "duration": 200,
    "start_time": "2022-12-27T13:33:18.707Z"
   },
   {
    "duration": 208,
    "start_time": "2022-12-27T13:33:18.909Z"
   },
   {
    "duration": 279,
    "start_time": "2022-12-27T13:33:19.123Z"
   },
   {
    "duration": 199,
    "start_time": "2022-12-27T13:33:19.404Z"
   },
   {
    "duration": 18,
    "start_time": "2022-12-27T13:33:19.606Z"
   },
   {
    "duration": 26,
    "start_time": "2022-12-27T13:33:19.627Z"
   },
   {
    "duration": 19,
    "start_time": "2022-12-27T13:33:19.655Z"
   },
   {
    "duration": 13,
    "start_time": "2022-12-27T13:33:19.676Z"
   },
   {
    "duration": 41,
    "start_time": "2022-12-27T13:33:19.691Z"
   },
   {
    "duration": 1145,
    "start_time": "2022-12-27T16:06:24.541Z"
   },
   {
    "duration": 50,
    "start_time": "2022-12-27T16:06:25.688Z"
   },
   {
    "duration": 18,
    "start_time": "2022-12-27T16:06:25.740Z"
   },
   {
    "duration": 23,
    "start_time": "2022-12-27T16:06:25.760Z"
   },
   {
    "duration": 21,
    "start_time": "2022-12-27T16:06:25.784Z"
   },
   {
    "duration": 20,
    "start_time": "2022-12-27T16:06:25.807Z"
   },
   {
    "duration": 1382,
    "start_time": "2022-12-27T16:06:25.829Z"
   },
   {
    "duration": 14,
    "start_time": "2022-12-27T16:06:27.216Z"
   },
   {
    "duration": 16,
    "start_time": "2022-12-27T16:06:27.232Z"
   },
   {
    "duration": 16,
    "start_time": "2022-12-27T16:06:27.250Z"
   },
   {
    "duration": 1040,
    "start_time": "2022-12-27T16:06:27.268Z"
   },
   {
    "duration": 12,
    "start_time": "2022-12-27T16:06:28.310Z"
   },
   {
    "duration": 17,
    "start_time": "2022-12-27T16:06:28.323Z"
   },
   {
    "duration": 2552,
    "start_time": "2022-12-27T16:06:28.342Z"
   },
   {
    "duration": 702,
    "start_time": "2022-12-27T16:06:30.896Z"
   },
   {
    "duration": 226,
    "start_time": "2022-12-27T16:06:31.600Z"
   },
   {
    "duration": 14,
    "start_time": "2022-12-27T16:06:31.829Z"
   },
   {
    "duration": 131,
    "start_time": "2022-12-27T16:06:31.845Z"
   },
   {
    "duration": 1076,
    "start_time": "2022-12-27T16:06:31.978Z"
   },
   {
    "duration": 4,
    "start_time": "2022-12-27T16:06:33.056Z"
   },
   {
    "duration": 20,
    "start_time": "2022-12-27T16:06:33.062Z"
   },
   {
    "duration": 323,
    "start_time": "2022-12-27T16:06:33.084Z"
   },
   {
    "duration": 196,
    "start_time": "2022-12-27T16:06:33.409Z"
   },
   {
    "duration": 183,
    "start_time": "2022-12-27T16:06:33.612Z"
   },
   {
    "duration": 221,
    "start_time": "2022-12-27T16:06:33.797Z"
   },
   {
    "duration": 269,
    "start_time": "2022-12-27T16:06:34.021Z"
   },
   {
    "duration": 201,
    "start_time": "2022-12-27T16:06:34.292Z"
   },
   {
    "duration": 25,
    "start_time": "2022-12-27T16:06:34.497Z"
   },
   {
    "duration": 16,
    "start_time": "2022-12-27T16:06:34.524Z"
   },
   {
    "duration": 11,
    "start_time": "2022-12-27T16:06:34.542Z"
   },
   {
    "duration": 8,
    "start_time": "2022-12-27T16:06:34.555Z"
   },
   {
    "duration": 16,
    "start_time": "2022-12-27T16:06:34.564Z"
   },
   {
    "duration": 50,
    "start_time": "2022-12-27T18:22:26.559Z"
   },
   {
    "duration": 1452,
    "start_time": "2022-12-27T18:22:32.962Z"
   },
   {
    "duration": 176,
    "start_time": "2022-12-27T18:22:34.416Z"
   },
   {
    "duration": 16,
    "start_time": "2022-12-27T18:22:34.594Z"
   },
   {
    "duration": 12,
    "start_time": "2022-12-27T18:22:34.612Z"
   },
   {
    "duration": 4,
    "start_time": "2022-12-27T18:22:34.625Z"
   },
   {
    "duration": 26,
    "start_time": "2022-12-27T18:22:34.631Z"
   },
   {
    "duration": 1285,
    "start_time": "2022-12-27T18:22:34.659Z"
   },
   {
    "duration": 315,
    "start_time": "2022-12-27T18:22:35.946Z"
   },
   {
    "duration": 5,
    "start_time": "2022-12-27T18:22:36.263Z"
   },
   {
    "duration": 32,
    "start_time": "2022-12-27T18:22:36.270Z"
   },
   {
    "duration": 16,
    "start_time": "2022-12-27T18:22:36.303Z"
   },
   {
    "duration": 1119,
    "start_time": "2022-12-27T18:22:36.321Z"
   },
   {
    "duration": 5,
    "start_time": "2022-12-27T18:22:37.442Z"
   },
   {
    "duration": 10,
    "start_time": "2022-12-27T18:22:37.449Z"
   },
   {
    "duration": 2135,
    "start_time": "2022-12-27T18:22:37.460Z"
   },
   {
    "duration": 612,
    "start_time": "2022-12-27T18:22:39.598Z"
   },
   {
    "duration": 205,
    "start_time": "2022-12-27T18:22:40.212Z"
   },
   {
    "duration": 9,
    "start_time": "2022-12-27T18:22:40.419Z"
   },
   {
    "duration": 10,
    "start_time": "2022-12-27T18:22:40.430Z"
   },
   {
    "duration": 987,
    "start_time": "2022-12-27T18:22:40.442Z"
   },
   {
    "duration": 4,
    "start_time": "2022-12-27T18:22:41.431Z"
   },
   {
    "duration": 8,
    "start_time": "2022-12-27T18:22:41.436Z"
   },
   {
    "duration": 179,
    "start_time": "2022-12-27T18:22:41.445Z"
   },
   {
    "duration": 173,
    "start_time": "2022-12-27T18:22:41.625Z"
   },
   {
    "duration": 165,
    "start_time": "2022-12-27T18:22:41.800Z"
   },
   {
    "duration": 175,
    "start_time": "2022-12-27T18:22:41.966Z"
   },
   {
    "duration": 252,
    "start_time": "2022-12-27T18:22:42.143Z"
   },
   {
    "duration": 183,
    "start_time": "2022-12-27T18:22:42.399Z"
   },
   {
    "duration": 12,
    "start_time": "2022-12-27T18:22:42.584Z"
   },
   {
    "duration": 19,
    "start_time": "2022-12-27T18:22:42.598Z"
   },
   {
    "duration": 23,
    "start_time": "2022-12-27T18:22:42.619Z"
   },
   {
    "duration": 8,
    "start_time": "2022-12-27T18:22:42.644Z"
   },
   {
    "duration": 18,
    "start_time": "2022-12-27T18:22:42.653Z"
   },
   {
    "duration": 120,
    "start_time": "2022-12-27T18:59:11.704Z"
   },
   {
    "duration": 17,
    "start_time": "2022-12-27T18:59:18.966Z"
   },
   {
    "duration": 1684,
    "start_time": "2022-12-27T18:59:31.548Z"
   },
   {
    "duration": 619,
    "start_time": "2022-12-27T19:00:30.429Z"
   },
   {
    "duration": 1635,
    "start_time": "2022-12-27T19:00:40.759Z"
   },
   {
    "duration": 11,
    "start_time": "2022-12-27T19:21:44.424Z"
   },
   {
    "duration": 132,
    "start_time": "2022-12-27T19:22:52.741Z"
   },
   {
    "duration": 229,
    "start_time": "2022-12-27T19:25:05.365Z"
   },
   {
    "duration": 169,
    "start_time": "2022-12-27T19:25:14.830Z"
   },
   {
    "duration": 204,
    "start_time": "2022-12-27T19:25:20.605Z"
   },
   {
    "duration": 146,
    "start_time": "2022-12-27T19:26:10.713Z"
   },
   {
    "duration": 148,
    "start_time": "2022-12-27T19:26:16.650Z"
   },
   {
    "duration": 266,
    "start_time": "2022-12-27T19:26:42.430Z"
   },
   {
    "duration": 148,
    "start_time": "2022-12-27T19:47:37.350Z"
   },
   {
    "duration": 157,
    "start_time": "2022-12-27T19:47:51.648Z"
   },
   {
    "duration": 69,
    "start_time": "2022-12-27T19:55:39.592Z"
   },
   {
    "duration": 84,
    "start_time": "2022-12-27T20:16:44.722Z"
   },
   {
    "duration": 6,
    "start_time": "2022-12-27T20:20:12.648Z"
   },
   {
    "duration": 11,
    "start_time": "2022-12-27T20:25:01.626Z"
   },
   {
    "duration": 11,
    "start_time": "2022-12-27T20:25:58.237Z"
   },
   {
    "duration": 10,
    "start_time": "2022-12-27T20:44:33.638Z"
   },
   {
    "duration": 4,
    "start_time": "2022-12-27T20:44:52.708Z"
   },
   {
    "duration": 13,
    "start_time": "2022-12-27T20:45:22.341Z"
   },
   {
    "duration": 25,
    "start_time": "2022-12-27T20:47:19.769Z"
   },
   {
    "duration": 9,
    "start_time": "2022-12-27T20:47:27.602Z"
   },
   {
    "duration": 12,
    "start_time": "2022-12-27T20:47:28.552Z"
   },
   {
    "duration": 15,
    "start_time": "2022-12-27T20:47:38.023Z"
   },
   {
    "duration": 22,
    "start_time": "2022-12-27T20:47:45.710Z"
   },
   {
    "duration": 16,
    "start_time": "2022-12-27T20:48:12.490Z"
   },
   {
    "duration": 13,
    "start_time": "2022-12-27T20:49:03.648Z"
   },
   {
    "duration": 22,
    "start_time": "2022-12-27T20:54:02.768Z"
   },
   {
    "duration": 4,
    "start_time": "2022-12-27T20:55:34.801Z"
   },
   {
    "duration": 16,
    "start_time": "2022-12-27T20:55:39.734Z"
   },
   {
    "duration": 13,
    "start_time": "2022-12-27T20:59:46.229Z"
   },
   {
    "duration": 19,
    "start_time": "2022-12-27T20:59:59.274Z"
   },
   {
    "duration": 19,
    "start_time": "2022-12-27T21:00:41.659Z"
   },
   {
    "duration": 24,
    "start_time": "2022-12-27T21:32:19.667Z"
   },
   {
    "duration": 4,
    "start_time": "2022-12-27T21:36:11.868Z"
   },
   {
    "duration": 4,
    "start_time": "2022-12-27T21:36:17.261Z"
   },
   {
    "duration": 5,
    "start_time": "2022-12-27T21:36:22.226Z"
   },
   {
    "duration": 10,
    "start_time": "2022-12-27T21:36:33.238Z"
   },
   {
    "duration": 14,
    "start_time": "2022-12-27T21:37:28.573Z"
   },
   {
    "duration": 12,
    "start_time": "2022-12-27T21:38:45.301Z"
   },
   {
    "duration": 15,
    "start_time": "2022-12-27T21:41:46.516Z"
   },
   {
    "duration": 21,
    "start_time": "2022-12-27T21:41:55.061Z"
   },
   {
    "duration": 3,
    "start_time": "2022-12-27T22:10:18.718Z"
   },
   {
    "duration": 644,
    "start_time": "2022-12-27T22:21:51.721Z"
   },
   {
    "duration": 751,
    "start_time": "2022-12-27T22:22:04.202Z"
   },
   {
    "duration": 699,
    "start_time": "2022-12-27T22:22:42.427Z"
   },
   {
    "duration": 773,
    "start_time": "2022-12-27T22:23:32.303Z"
   },
   {
    "duration": 581,
    "start_time": "2022-12-27T22:23:51.474Z"
   },
   {
    "duration": 710,
    "start_time": "2022-12-27T22:24:05.693Z"
   },
   {
    "duration": 79,
    "start_time": "2022-12-27T22:27:11.891Z"
   },
   {
    "duration": 1402,
    "start_time": "2022-12-28T10:32:56.548Z"
   },
   {
    "duration": 79,
    "start_time": "2022-12-28T10:32:57.952Z"
   },
   {
    "duration": 17,
    "start_time": "2022-12-28T10:32:58.034Z"
   },
   {
    "duration": 16,
    "start_time": "2022-12-28T10:32:58.053Z"
   },
   {
    "duration": 13,
    "start_time": "2022-12-28T10:32:58.070Z"
   },
   {
    "duration": 11,
    "start_time": "2022-12-28T10:32:58.085Z"
   },
   {
    "duration": 1306,
    "start_time": "2022-12-28T10:32:58.098Z"
   },
   {
    "duration": 173,
    "start_time": "2022-12-28T10:32:59.406Z"
   },
   {
    "duration": 191,
    "start_time": "2022-12-28T10:32:59.581Z"
   },
   {
    "duration": 185,
    "start_time": "2022-12-28T10:32:59.776Z"
   },
   {
    "duration": 258,
    "start_time": "2022-12-28T10:32:59.963Z"
   },
   {
    "duration": 12,
    "start_time": "2022-12-28T10:33:00.223Z"
   },
   {
    "duration": 35,
    "start_time": "2022-12-28T10:33:00.237Z"
   },
   {
    "duration": 65,
    "start_time": "2022-12-28T10:33:00.274Z"
   },
   {
    "duration": 56,
    "start_time": "2022-12-28T10:33:00.341Z"
   },
   {
    "duration": 1945,
    "start_time": "2022-12-28T10:33:00.399Z"
   },
   {
    "duration": 5,
    "start_time": "2022-12-28T10:33:02.346Z"
   },
   {
    "duration": 29,
    "start_time": "2022-12-28T10:33:02.352Z"
   },
   {
    "duration": 2393,
    "start_time": "2022-12-28T10:33:02.383Z"
   },
   {
    "duration": 722,
    "start_time": "2022-12-28T10:33:04.778Z"
   },
   {
    "duration": 313,
    "start_time": "2022-12-28T10:33:05.502Z"
   },
   {
    "duration": 21,
    "start_time": "2022-12-28T10:33:05.817Z"
   },
   {
    "duration": 10,
    "start_time": "2022-12-28T10:33:05.840Z"
   },
   {
    "duration": 1024,
    "start_time": "2022-12-28T10:33:05.851Z"
   },
   {
    "duration": 3,
    "start_time": "2022-12-28T10:33:06.877Z"
   },
   {
    "duration": 15,
    "start_time": "2022-12-28T10:33:06.882Z"
   },
   {
    "duration": 204,
    "start_time": "2022-12-28T10:33:06.899Z"
   },
   {
    "duration": 185,
    "start_time": "2022-12-28T10:33:07.106Z"
   },
   {
    "duration": 185,
    "start_time": "2022-12-28T10:33:07.292Z"
   },
   {
    "duration": 203,
    "start_time": "2022-12-28T10:33:07.480Z"
   },
   {
    "duration": 367,
    "start_time": "2022-12-28T10:33:07.685Z"
   },
   {
    "duration": 209,
    "start_time": "2022-12-28T10:33:08.054Z"
   },
   {
    "duration": 7,
    "start_time": "2022-12-28T10:33:08.264Z"
   },
   {
    "duration": 50,
    "start_time": "2022-12-28T10:33:08.273Z"
   },
   {
    "duration": 29,
    "start_time": "2022-12-28T10:33:08.324Z"
   },
   {
    "duration": 22,
    "start_time": "2022-12-28T10:33:08.355Z"
   },
   {
    "duration": 31,
    "start_time": "2022-12-28T10:33:08.379Z"
   },
   {
    "duration": 19,
    "start_time": "2022-12-28T10:33:08.411Z"
   },
   {
    "duration": 24,
    "start_time": "2022-12-28T10:33:08.432Z"
   },
   {
    "duration": 22,
    "start_time": "2022-12-28T10:33:08.458Z"
   },
   {
    "duration": 49,
    "start_time": "2022-12-28T11:43:07.439Z"
   },
   {
    "duration": 1307,
    "start_time": "2022-12-28T11:43:12.246Z"
   },
   {
    "duration": 75,
    "start_time": "2022-12-28T11:43:13.555Z"
   },
   {
    "duration": 16,
    "start_time": "2022-12-28T11:43:13.632Z"
   },
   {
    "duration": 13,
    "start_time": "2022-12-28T11:43:13.651Z"
   },
   {
    "duration": 3,
    "start_time": "2022-12-28T11:43:13.665Z"
   },
   {
    "duration": 9,
    "start_time": "2022-12-28T11:43:13.670Z"
   },
   {
    "duration": 1208,
    "start_time": "2022-12-28T11:43:13.681Z"
   },
   {
    "duration": 164,
    "start_time": "2022-12-28T11:43:14.890Z"
   },
   {
    "duration": 187,
    "start_time": "2022-12-28T11:43:15.055Z"
   },
   {
    "duration": 170,
    "start_time": "2022-12-28T11:43:15.245Z"
   },
   {
    "duration": 237,
    "start_time": "2022-12-28T11:43:15.417Z"
   },
   {
    "duration": 5,
    "start_time": "2022-12-28T11:43:15.656Z"
   },
   {
    "duration": 15,
    "start_time": "2022-12-28T11:43:15.663Z"
   },
   {
    "duration": 21,
    "start_time": "2022-12-28T11:43:15.679Z"
   },
   {
    "duration": 10,
    "start_time": "2022-12-28T11:43:15.702Z"
   },
   {
    "duration": 1775,
    "start_time": "2022-12-28T11:43:15.714Z"
   },
   {
    "duration": 5,
    "start_time": "2022-12-28T11:43:17.491Z"
   },
   {
    "duration": 7,
    "start_time": "2022-12-28T11:43:17.497Z"
   },
   {
    "duration": 2157,
    "start_time": "2022-12-28T11:43:17.505Z"
   },
   {
    "duration": 689,
    "start_time": "2022-12-28T11:43:19.664Z"
   },
   {
    "duration": 291,
    "start_time": "2022-12-28T11:43:20.354Z"
   },
   {
    "duration": 9,
    "start_time": "2022-12-28T11:43:20.646Z"
   },
   {
    "duration": 4,
    "start_time": "2022-12-28T11:43:20.657Z"
   },
   {
    "duration": 879,
    "start_time": "2022-12-28T11:43:20.663Z"
   },
   {
    "duration": 3,
    "start_time": "2022-12-28T11:43:21.544Z"
   },
   {
    "duration": 11,
    "start_time": "2022-12-28T11:43:21.549Z"
   },
   {
    "duration": 178,
    "start_time": "2022-12-28T11:43:21.561Z"
   },
   {
    "duration": 181,
    "start_time": "2022-12-28T11:43:21.742Z"
   },
   {
    "duration": 178,
    "start_time": "2022-12-28T11:43:21.925Z"
   },
   {
    "duration": 184,
    "start_time": "2022-12-28T11:43:22.104Z"
   },
   {
    "duration": 321,
    "start_time": "2022-12-28T11:43:22.296Z"
   },
   {
    "duration": 193,
    "start_time": "2022-12-28T11:43:22.619Z"
   },
   {
    "duration": 7,
    "start_time": "2022-12-28T11:43:22.813Z"
   },
   {
    "duration": 24,
    "start_time": "2022-12-28T11:43:22.822Z"
   },
   {
    "duration": 15,
    "start_time": "2022-12-28T11:43:22.848Z"
   },
   {
    "duration": 35,
    "start_time": "2022-12-28T11:43:22.865Z"
   },
   {
    "duration": 14,
    "start_time": "2022-12-28T11:43:22.902Z"
   },
   {
    "duration": 11,
    "start_time": "2022-12-28T11:43:22.918Z"
   },
   {
    "duration": 5,
    "start_time": "2022-12-28T11:43:22.930Z"
   },
   {
    "duration": 7,
    "start_time": "2022-12-28T11:43:22.937Z"
   },
   {
    "duration": 12,
    "start_time": "2022-12-28T11:48:15.060Z"
   },
   {
    "duration": 29,
    "start_time": "2022-12-28T11:50:37.206Z"
   },
   {
    "duration": 14,
    "start_time": "2022-12-28T11:51:52.014Z"
   },
   {
    "duration": 19,
    "start_time": "2022-12-28T12:00:26.707Z"
   },
   {
    "duration": 14,
    "start_time": "2022-12-28T12:05:54.434Z"
   },
   {
    "duration": 15,
    "start_time": "2022-12-28T12:06:13.310Z"
   },
   {
    "duration": 16,
    "start_time": "2022-12-28T12:07:03.966Z"
   },
   {
    "duration": 106,
    "start_time": "2022-12-28T12:14:21.131Z"
   },
   {
    "duration": 15,
    "start_time": "2022-12-28T12:14:28.967Z"
   },
   {
    "duration": 12,
    "start_time": "2022-12-28T12:14:57.067Z"
   },
   {
    "duration": 16,
    "start_time": "2022-12-28T12:15:01.240Z"
   },
   {
    "duration": 12,
    "start_time": "2022-12-28T12:19:49.329Z"
   },
   {
    "duration": 21,
    "start_time": "2022-12-28T12:38:55.383Z"
   },
   {
    "duration": 23,
    "start_time": "2022-12-28T12:39:55.071Z"
   },
   {
    "duration": 28,
    "start_time": "2022-12-28T12:41:13.936Z"
   },
   {
    "duration": 25,
    "start_time": "2022-12-28T12:44:07.458Z"
   },
   {
    "duration": 27,
    "start_time": "2022-12-28T12:44:23.319Z"
   },
   {
    "duration": 16,
    "start_time": "2022-12-28T12:44:39.986Z"
   },
   {
    "duration": 28,
    "start_time": "2022-12-28T12:46:25.189Z"
   },
   {
    "duration": 23,
    "start_time": "2022-12-28T12:50:34.170Z"
   },
   {
    "duration": 23,
    "start_time": "2022-12-28T12:51:54.470Z"
   },
   {
    "duration": 16,
    "start_time": "2022-12-28T12:52:26.344Z"
   },
   {
    "duration": 40,
    "start_time": "2022-12-28T13:07:18.658Z"
   },
   {
    "duration": 407,
    "start_time": "2022-12-28T13:07:24.538Z"
   },
   {
    "duration": 255,
    "start_time": "2022-12-28T13:07:45.924Z"
   },
   {
    "duration": 188,
    "start_time": "2022-12-28T13:08:18.387Z"
   },
   {
    "duration": 227,
    "start_time": "2022-12-28T13:08:37.979Z"
   },
   {
    "duration": 195,
    "start_time": "2022-12-28T13:10:42.839Z"
   },
   {
    "duration": 272,
    "start_time": "2022-12-28T13:10:58.173Z"
   },
   {
    "duration": 309,
    "start_time": "2022-12-28T13:12:45.875Z"
   },
   {
    "duration": 221,
    "start_time": "2022-12-28T13:12:51.924Z"
   },
   {
    "duration": 208,
    "start_time": "2022-12-28T13:13:35.625Z"
   },
   {
    "duration": 211,
    "start_time": "2022-12-28T13:13:46.343Z"
   },
   {
    "duration": 209,
    "start_time": "2022-12-28T13:13:58.728Z"
   },
   {
    "duration": 211,
    "start_time": "2022-12-28T13:14:08.598Z"
   },
   {
    "duration": 1063,
    "start_time": "2022-12-28T14:45:54.379Z"
   },
   {
    "duration": 37,
    "start_time": "2022-12-28T14:45:55.444Z"
   },
   {
    "duration": 14,
    "start_time": "2022-12-28T14:45:55.483Z"
   },
   {
    "duration": 12,
    "start_time": "2022-12-28T14:45:55.499Z"
   },
   {
    "duration": 3,
    "start_time": "2022-12-28T14:45:55.514Z"
   },
   {
    "duration": 16,
    "start_time": "2022-12-28T14:45:55.519Z"
   },
   {
    "duration": 1368,
    "start_time": "2022-12-28T14:45:55.537Z"
   },
   {
    "duration": 149,
    "start_time": "2022-12-28T14:45:56.912Z"
   },
   {
    "duration": 188,
    "start_time": "2022-12-28T14:45:57.063Z"
   },
   {
    "duration": 175,
    "start_time": "2022-12-28T14:45:57.252Z"
   },
   {
    "duration": 241,
    "start_time": "2022-12-28T14:45:57.430Z"
   },
   {
    "duration": 4,
    "start_time": "2022-12-28T14:45:57.673Z"
   },
   {
    "duration": 12,
    "start_time": "2022-12-28T14:45:57.679Z"
   },
   {
    "duration": 22,
    "start_time": "2022-12-28T14:45:57.694Z"
   },
   {
    "duration": 11,
    "start_time": "2022-12-28T14:45:57.717Z"
   },
   {
    "duration": 1700,
    "start_time": "2022-12-28T14:45:57.730Z"
   },
   {
    "duration": 14,
    "start_time": "2022-12-28T14:45:59.432Z"
   },
   {
    "duration": 14,
    "start_time": "2022-12-28T14:45:59.448Z"
   },
   {
    "duration": 2179,
    "start_time": "2022-12-28T14:45:59.466Z"
   },
   {
    "duration": 688,
    "start_time": "2022-12-28T14:46:01.647Z"
   },
   {
    "duration": 286,
    "start_time": "2022-12-28T14:46:02.337Z"
   },
   {
    "duration": 227,
    "start_time": "2022-12-28T14:46:02.625Z"
   },
   {
    "duration": 203,
    "start_time": "2022-12-28T14:46:02.854Z"
   },
   {
    "duration": 214,
    "start_time": "2022-12-28T14:46:03.059Z"
   },
   {
    "duration": 202,
    "start_time": "2022-12-28T14:46:03.275Z"
   },
   {
    "duration": 9,
    "start_time": "2022-12-28T14:46:03.479Z"
   },
   {
    "duration": 14,
    "start_time": "2022-12-28T14:46:03.490Z"
   },
   {
    "duration": 899,
    "start_time": "2022-12-28T14:46:03.506Z"
   },
   {
    "duration": 5,
    "start_time": "2022-12-28T14:46:04.411Z"
   },
   {
    "duration": 65,
    "start_time": "2022-12-28T14:46:04.418Z"
   },
   {
    "duration": 304,
    "start_time": "2022-12-28T14:46:04.484Z"
   },
   {
    "duration": 197,
    "start_time": "2022-12-28T14:46:04.790Z"
   },
   {
    "duration": 183,
    "start_time": "2022-12-28T14:46:04.989Z"
   },
   {
    "duration": 172,
    "start_time": "2022-12-28T14:46:05.174Z"
   },
   {
    "duration": 230,
    "start_time": "2022-12-28T14:46:05.348Z"
   },
   {
    "duration": 185,
    "start_time": "2022-12-28T14:46:05.579Z"
   },
   {
    "duration": 7,
    "start_time": "2022-12-28T14:46:05.766Z"
   },
   {
    "duration": 53,
    "start_time": "2022-12-28T14:46:05.775Z"
   },
   {
    "duration": 51,
    "start_time": "2022-12-28T14:46:05.830Z"
   },
   {
    "duration": 19,
    "start_time": "2022-12-28T14:46:05.883Z"
   },
   {
    "duration": 11,
    "start_time": "2022-12-28T14:46:05.905Z"
   },
   {
    "duration": 32,
    "start_time": "2022-12-28T14:46:05.917Z"
   },
   {
    "duration": 19,
    "start_time": "2022-12-28T14:46:05.951Z"
   },
   {
    "duration": 20,
    "start_time": "2022-12-28T14:46:05.971Z"
   },
   {
    "duration": 51,
    "start_time": "2022-12-28T14:46:05.992Z"
   },
   {
    "duration": 6,
    "start_time": "2022-12-28T16:10:33.940Z"
   },
   {
    "duration": 6,
    "start_time": "2022-12-28T16:11:59.962Z"
   },
   {
    "duration": 7,
    "start_time": "2022-12-28T16:12:36.171Z"
   },
   {
    "duration": 7,
    "start_time": "2022-12-28T16:13:35.638Z"
   },
   {
    "duration": 21,
    "start_time": "2022-12-28T17:15:24.768Z"
   },
   {
    "duration": 14,
    "start_time": "2022-12-28T17:30:55.350Z"
   },
   {
    "duration": 13,
    "start_time": "2022-12-28T17:33:03.680Z"
   },
   {
    "duration": 15,
    "start_time": "2022-12-28T17:33:23.702Z"
   },
   {
    "duration": 6,
    "start_time": "2022-12-28T17:33:37.352Z"
   },
   {
    "duration": 13,
    "start_time": "2022-12-28T17:33:46.177Z"
   },
   {
    "duration": 14,
    "start_time": "2022-12-28T17:34:51.010Z"
   },
   {
    "duration": 13,
    "start_time": "2022-12-28T17:35:08.861Z"
   },
   {
    "duration": 139,
    "start_time": "2022-12-28T17:35:09.619Z"
   },
   {
    "duration": 174,
    "start_time": "2022-12-28T17:36:22.252Z"
   },
   {
    "duration": 131,
    "start_time": "2022-12-28T17:36:38.047Z"
   },
   {
    "duration": 151,
    "start_time": "2022-12-28T17:36:46.180Z"
   },
   {
    "duration": 17,
    "start_time": "2022-12-28T17:38:22.281Z"
   },
   {
    "duration": 15,
    "start_time": "2022-12-28T17:38:34.419Z"
   },
   {
    "duration": 15,
    "start_time": "2022-12-28T17:39:33.233Z"
   },
   {
    "duration": 15,
    "start_time": "2022-12-28T17:39:42.542Z"
   },
   {
    "duration": 17,
    "start_time": "2022-12-28T17:40:02.112Z"
   },
   {
    "duration": 207,
    "start_time": "2022-12-28T17:40:05.440Z"
   },
   {
    "duration": 208,
    "start_time": "2022-12-28T17:40:15.801Z"
   },
   {
    "duration": 57,
    "start_time": "2022-12-28T17:40:57.369Z"
   },
   {
    "duration": 51,
    "start_time": "2022-12-28T17:41:01.436Z"
   },
   {
    "duration": 1666,
    "start_time": "2022-12-29T08:07:58.243Z"
   },
   {
    "duration": 189,
    "start_time": "2022-12-29T08:07:59.914Z"
   },
   {
    "duration": 35,
    "start_time": "2022-12-29T08:08:00.108Z"
   },
   {
    "duration": 50,
    "start_time": "2022-12-29T08:08:00.149Z"
   },
   {
    "duration": 37,
    "start_time": "2022-12-29T08:08:00.201Z"
   },
   {
    "duration": 17,
    "start_time": "2022-12-29T08:08:00.240Z"
   },
   {
    "duration": 1489,
    "start_time": "2022-12-29T08:08:00.259Z"
   },
   {
    "duration": 188,
    "start_time": "2022-12-29T08:08:01.750Z"
   },
   {
    "duration": 210,
    "start_time": "2022-12-29T08:08:01.941Z"
   },
   {
    "duration": 208,
    "start_time": "2022-12-29T08:08:02.153Z"
   },
   {
    "duration": 295,
    "start_time": "2022-12-29T08:08:02.363Z"
   },
   {
    "duration": 6,
    "start_time": "2022-12-29T08:08:02.660Z"
   },
   {
    "duration": 11,
    "start_time": "2022-12-29T08:08:02.667Z"
   },
   {
    "duration": 29,
    "start_time": "2022-12-29T08:08:02.681Z"
   },
   {
    "duration": 16,
    "start_time": "2022-12-29T08:08:02.712Z"
   },
   {
    "duration": 1823,
    "start_time": "2022-12-29T08:08:02.730Z"
   },
   {
    "duration": 5,
    "start_time": "2022-12-29T08:08:04.555Z"
   },
   {
    "duration": 28,
    "start_time": "2022-12-29T08:08:04.561Z"
   },
   {
    "duration": 2153,
    "start_time": "2022-12-29T08:08:04.590Z"
   },
   {
    "duration": 737,
    "start_time": "2022-12-29T08:08:06.745Z"
   },
   {
    "duration": 308,
    "start_time": "2022-12-29T08:08:07.485Z"
   },
   {
    "duration": 14,
    "start_time": "2022-12-29T08:08:07.795Z"
   },
   {
    "duration": 23,
    "start_time": "2022-12-29T08:08:07.813Z"
   },
   {
    "duration": 5,
    "start_time": "2022-12-29T08:08:07.838Z"
   },
   {
    "duration": 5,
    "start_time": "2022-12-29T08:08:07.844Z"
   },
   {
    "duration": 19,
    "start_time": "2022-12-29T08:08:07.851Z"
   },
   {
    "duration": 4,
    "start_time": "2022-12-29T08:08:07.872Z"
   },
   {
    "duration": 966,
    "start_time": "2022-12-29T08:08:07.877Z"
   },
   {
    "duration": 4,
    "start_time": "2022-12-29T08:08:08.844Z"
   },
   {
    "duration": 7,
    "start_time": "2022-12-29T08:08:08.849Z"
   },
   {
    "duration": 194,
    "start_time": "2022-12-29T08:08:08.858Z"
   },
   {
    "duration": 183,
    "start_time": "2022-12-29T08:08:09.055Z"
   },
   {
    "duration": 194,
    "start_time": "2022-12-29T08:08:09.240Z"
   },
   {
    "duration": 196,
    "start_time": "2022-12-29T08:08:09.436Z"
   },
   {
    "duration": 356,
    "start_time": "2022-12-29T08:08:09.634Z"
   },
   {
    "duration": 238,
    "start_time": "2022-12-29T08:08:09.992Z"
   },
   {
    "duration": 6,
    "start_time": "2022-12-29T08:08:10.237Z"
   },
   {
    "duration": 25,
    "start_time": "2022-12-29T08:08:10.245Z"
   },
   {
    "duration": 14,
    "start_time": "2022-12-29T08:08:10.272Z"
   },
   {
    "duration": 22,
    "start_time": "2022-12-29T08:08:10.288Z"
   },
   {
    "duration": 18,
    "start_time": "2022-12-29T08:08:10.315Z"
   },
   {
    "duration": 177,
    "start_time": "2022-12-29T08:08:10.337Z"
   },
   {
    "duration": 229,
    "start_time": "2022-12-29T08:08:10.516Z"
   },
   {
    "duration": 10,
    "start_time": "2022-12-29T08:08:10.747Z"
   },
   {
    "duration": 18,
    "start_time": "2022-12-29T08:08:10.759Z"
   },
   {
    "duration": 30,
    "start_time": "2022-12-29T08:08:10.778Z"
   },
   {
    "duration": 15,
    "start_time": "2022-12-29T08:08:10.811Z"
   },
   {
    "duration": 30,
    "start_time": "2022-12-29T08:08:10.828Z"
   },
   {
    "duration": 1397,
    "start_time": "2022-12-29T08:12:33.403Z"
   },
   {
    "duration": 53,
    "start_time": "2022-12-29T08:12:34.802Z"
   },
   {
    "duration": 16,
    "start_time": "2022-12-29T08:12:34.856Z"
   },
   {
    "duration": 11,
    "start_time": "2022-12-29T08:12:34.874Z"
   },
   {
    "duration": 3,
    "start_time": "2022-12-29T08:12:34.886Z"
   },
   {
    "duration": 10,
    "start_time": "2022-12-29T08:12:34.890Z"
   },
   {
    "duration": 1327,
    "start_time": "2022-12-29T08:12:34.901Z"
   },
   {
    "duration": 179,
    "start_time": "2022-12-29T08:12:36.231Z"
   },
   {
    "duration": 191,
    "start_time": "2022-12-29T08:12:36.421Z"
   },
   {
    "duration": 199,
    "start_time": "2022-12-29T08:12:36.616Z"
   },
   {
    "duration": 286,
    "start_time": "2022-12-29T08:12:36.817Z"
   },
   {
    "duration": 6,
    "start_time": "2022-12-29T08:12:37.110Z"
   },
   {
    "duration": 41,
    "start_time": "2022-12-29T08:12:37.119Z"
   },
   {
    "duration": 9,
    "start_time": "2022-12-29T08:12:37.162Z"
   },
   {
    "duration": 17,
    "start_time": "2022-12-29T08:12:37.172Z"
   },
   {
    "duration": 2058,
    "start_time": "2022-12-29T08:12:37.191Z"
   },
   {
    "duration": 5,
    "start_time": "2022-12-29T08:12:39.251Z"
   },
   {
    "duration": 18,
    "start_time": "2022-12-29T08:12:39.257Z"
   },
   {
    "duration": 2189,
    "start_time": "2022-12-29T08:12:39.277Z"
   },
   {
    "duration": 719,
    "start_time": "2022-12-29T08:12:41.468Z"
   },
   {
    "duration": 303,
    "start_time": "2022-12-29T08:12:42.188Z"
   },
   {
    "duration": 15,
    "start_time": "2022-12-29T08:12:42.493Z"
   },
   {
    "duration": 27,
    "start_time": "2022-12-29T08:12:42.509Z"
   },
   {
    "duration": 7,
    "start_time": "2022-12-29T08:12:42.538Z"
   },
   {
    "duration": 7,
    "start_time": "2022-12-29T08:12:42.547Z"
   },
   {
    "duration": 11,
    "start_time": "2022-12-29T08:12:42.555Z"
   },
   {
    "duration": 17,
    "start_time": "2022-12-29T08:12:42.568Z"
   },
   {
    "duration": 894,
    "start_time": "2022-12-29T08:12:42.589Z"
   },
   {
    "duration": 4,
    "start_time": "2022-12-29T08:12:43.484Z"
   },
   {
    "duration": 17,
    "start_time": "2022-12-29T08:12:43.490Z"
   },
   {
    "duration": 189,
    "start_time": "2022-12-29T08:12:43.508Z"
   },
   {
    "duration": 195,
    "start_time": "2022-12-29T08:12:43.699Z"
   },
   {
    "duration": 208,
    "start_time": "2022-12-29T08:12:43.896Z"
   },
   {
    "duration": 204,
    "start_time": "2022-12-29T08:12:44.106Z"
   },
   {
    "duration": 357,
    "start_time": "2022-12-29T08:12:44.312Z"
   },
   {
    "duration": 203,
    "start_time": "2022-12-29T08:12:44.671Z"
   },
   {
    "duration": 7,
    "start_time": "2022-12-29T08:12:44.876Z"
   },
   {
    "duration": 46,
    "start_time": "2022-12-29T08:12:44.885Z"
   },
   {
    "duration": 36,
    "start_time": "2022-12-29T08:12:44.933Z"
   },
   {
    "duration": 17,
    "start_time": "2022-12-29T08:12:44.970Z"
   },
   {
    "duration": 10,
    "start_time": "2022-12-29T08:12:44.989Z"
   },
   {
    "duration": 151,
    "start_time": "2022-12-29T08:12:45.007Z"
   },
   {
    "duration": 207,
    "start_time": "2022-12-29T08:12:45.160Z"
   },
   {
    "duration": 8,
    "start_time": "2022-12-29T08:12:45.369Z"
   },
   {
    "duration": 43,
    "start_time": "2022-12-29T08:12:45.379Z"
   },
   {
    "duration": 11,
    "start_time": "2022-12-29T08:12:45.435Z"
   },
   {
    "duration": 6,
    "start_time": "2022-12-29T08:12:45.448Z"
   },
   {
    "duration": 7,
    "start_time": "2022-12-29T08:12:45.455Z"
   },
   {
    "duration": 94,
    "start_time": "2022-12-29T15:01:45.348Z"
   },
   {
    "duration": 42,
    "start_time": "2022-12-29T15:04:58.430Z"
   },
   {
    "duration": 1523,
    "start_time": "2022-12-29T15:05:04.325Z"
   },
   {
    "duration": 158,
    "start_time": "2022-12-29T15:05:05.860Z"
   },
   {
    "duration": 17,
    "start_time": "2022-12-29T15:05:06.020Z"
   },
   {
    "duration": 15,
    "start_time": "2022-12-29T15:05:06.039Z"
   },
   {
    "duration": 18,
    "start_time": "2022-12-29T15:05:06.056Z"
   },
   {
    "duration": 38,
    "start_time": "2022-12-29T15:05:06.076Z"
   },
   {
    "duration": 1268,
    "start_time": "2022-12-29T15:05:06.116Z"
   },
   {
    "duration": 173,
    "start_time": "2022-12-29T15:05:07.386Z"
   },
   {
    "duration": 170,
    "start_time": "2022-12-29T15:05:07.561Z"
   },
   {
    "duration": 169,
    "start_time": "2022-12-29T15:05:07.735Z"
   },
   {
    "duration": 243,
    "start_time": "2022-12-29T15:05:07.905Z"
   },
   {
    "duration": 5,
    "start_time": "2022-12-29T15:05:08.150Z"
   },
   {
    "duration": 13,
    "start_time": "2022-12-29T15:05:08.156Z"
   },
   {
    "duration": 13,
    "start_time": "2022-12-29T15:05:08.170Z"
   },
   {
    "duration": 13,
    "start_time": "2022-12-29T15:05:08.185Z"
   },
   {
    "duration": 1701,
    "start_time": "2022-12-29T15:05:08.200Z"
   },
   {
    "duration": 6,
    "start_time": "2022-12-29T15:05:09.902Z"
   },
   {
    "duration": 40,
    "start_time": "2022-12-29T15:05:09.909Z"
   },
   {
    "duration": 2211,
    "start_time": "2022-12-29T15:05:09.951Z"
   },
   {
    "duration": 699,
    "start_time": "2022-12-29T15:05:12.164Z"
   },
   {
    "duration": 324,
    "start_time": "2022-12-29T15:05:12.865Z"
   },
   {
    "duration": 6,
    "start_time": "2022-12-29T15:05:13.191Z"
   },
   {
    "duration": 26,
    "start_time": "2022-12-29T15:05:13.199Z"
   },
   {
    "duration": 44,
    "start_time": "2022-12-29T15:05:13.227Z"
   },
   {
    "duration": 39,
    "start_time": "2022-12-29T15:05:13.273Z"
   },
   {
    "duration": 31,
    "start_time": "2022-12-29T15:05:13.313Z"
   },
   {
    "duration": 34,
    "start_time": "2022-12-29T15:05:13.346Z"
   },
   {
    "duration": 1042,
    "start_time": "2022-12-29T15:05:13.385Z"
   },
   {
    "duration": 4,
    "start_time": "2022-12-29T15:05:14.429Z"
   },
   {
    "duration": 55,
    "start_time": "2022-12-29T15:05:14.435Z"
   },
   {
    "duration": 224,
    "start_time": "2022-12-29T15:05:14.492Z"
   },
   {
    "duration": 238,
    "start_time": "2022-12-29T15:05:14.718Z"
   },
   {
    "duration": 182,
    "start_time": "2022-12-29T15:05:14.958Z"
   },
   {
    "duration": 182,
    "start_time": "2022-12-29T15:05:15.141Z"
   },
   {
    "duration": 420,
    "start_time": "2022-12-29T15:05:15.327Z"
   },
   {
    "duration": 251,
    "start_time": "2022-12-29T15:05:15.750Z"
   },
   {
    "duration": 8,
    "start_time": "2022-12-29T15:05:16.003Z"
   },
   {
    "duration": 58,
    "start_time": "2022-12-29T15:05:16.014Z"
   },
   {
    "duration": 44,
    "start_time": "2022-12-29T15:05:16.075Z"
   },
   {
    "duration": 28,
    "start_time": "2022-12-29T15:05:16.121Z"
   },
   {
    "duration": 16,
    "start_time": "2022-12-29T15:05:16.151Z"
   },
   {
    "duration": 128,
    "start_time": "2022-12-29T15:05:16.169Z"
   },
   {
    "duration": 204,
    "start_time": "2022-12-29T15:05:16.299Z"
   },
   {
    "duration": 9,
    "start_time": "2022-12-29T15:05:16.504Z"
   },
   {
    "duration": 23,
    "start_time": "2022-12-29T15:05:16.515Z"
   },
   {
    "duration": 28,
    "start_time": "2022-12-29T15:05:16.540Z"
   },
   {
    "duration": 8,
    "start_time": "2022-12-29T15:05:16.570Z"
   },
   {
    "duration": 12,
    "start_time": "2022-12-29T15:05:16.580Z"
   },
   {
    "duration": 1240,
    "start_time": "2022-12-30T08:14:36.129Z"
   },
   {
    "duration": 85,
    "start_time": "2022-12-30T08:14:37.371Z"
   },
   {
    "duration": 14,
    "start_time": "2022-12-30T08:14:37.458Z"
   },
   {
    "duration": 13,
    "start_time": "2022-12-30T08:14:37.474Z"
   },
   {
    "duration": 3,
    "start_time": "2022-12-30T08:14:37.488Z"
   },
   {
    "duration": 13,
    "start_time": "2022-12-30T08:14:37.492Z"
   },
   {
    "duration": 1107,
    "start_time": "2022-12-30T08:14:37.507Z"
   },
   {
    "duration": 141,
    "start_time": "2022-12-30T08:14:38.615Z"
   },
   {
    "duration": 241,
    "start_time": "2022-12-30T08:14:38.757Z"
   },
   {
    "duration": 161,
    "start_time": "2022-12-30T08:14:39.001Z"
   },
   {
    "duration": 150,
    "start_time": "2022-12-30T08:14:39.164Z"
   },
   {
    "duration": 5,
    "start_time": "2022-12-30T08:14:39.315Z"
   },
   {
    "duration": 10,
    "start_time": "2022-12-30T08:14:39.322Z"
   },
   {
    "duration": 6,
    "start_time": "2022-12-30T08:14:39.333Z"
   },
   {
    "duration": 13,
    "start_time": "2022-12-30T08:14:39.341Z"
   },
   {
    "duration": 1654,
    "start_time": "2022-12-30T08:14:39.355Z"
   },
   {
    "duration": 5,
    "start_time": "2022-12-30T08:14:41.011Z"
   },
   {
    "duration": 7,
    "start_time": "2022-12-30T08:14:41.017Z"
   },
   {
    "duration": 2040,
    "start_time": "2022-12-30T08:14:41.025Z"
   },
   {
    "duration": 686,
    "start_time": "2022-12-30T08:14:43.067Z"
   },
   {
    "duration": 189,
    "start_time": "2022-12-30T08:14:43.754Z"
   },
   {
    "duration": 5,
    "start_time": "2022-12-30T08:14:43.944Z"
   },
   {
    "duration": 6,
    "start_time": "2022-12-30T08:14:43.951Z"
   },
   {
    "duration": 6,
    "start_time": "2022-12-30T08:14:43.959Z"
   },
   {
    "duration": 31,
    "start_time": "2022-12-30T08:14:43.966Z"
   },
   {
    "duration": 9,
    "start_time": "2022-12-30T08:14:43.999Z"
   },
   {
    "duration": 4,
    "start_time": "2022-12-30T08:14:44.010Z"
   },
   {
    "duration": 817,
    "start_time": "2022-12-30T08:14:44.017Z"
   },
   {
    "duration": 3,
    "start_time": "2022-12-30T08:14:44.836Z"
   },
   {
    "duration": 7,
    "start_time": "2022-12-30T08:14:44.841Z"
   },
   {
    "duration": 188,
    "start_time": "2022-12-30T08:14:44.850Z"
   },
   {
    "duration": 174,
    "start_time": "2022-12-30T08:14:45.040Z"
   },
   {
    "duration": 235,
    "start_time": "2022-12-30T08:14:45.217Z"
   },
   {
    "duration": 170,
    "start_time": "2022-12-30T08:14:45.453Z"
   },
   {
    "duration": 237,
    "start_time": "2022-12-30T08:14:45.624Z"
   },
   {
    "duration": 226,
    "start_time": "2022-12-30T08:14:45.862Z"
   },
   {
    "duration": 12,
    "start_time": "2022-12-30T08:14:46.090Z"
   },
   {
    "duration": 39,
    "start_time": "2022-12-30T08:14:46.103Z"
   },
   {
    "duration": 17,
    "start_time": "2022-12-30T08:14:46.145Z"
   },
   {
    "duration": 35,
    "start_time": "2022-12-30T08:14:46.164Z"
   },
   {
    "duration": 24,
    "start_time": "2022-12-30T08:14:46.200Z"
   },
   {
    "duration": 116,
    "start_time": "2022-12-30T08:14:46.226Z"
   },
   {
    "duration": 178,
    "start_time": "2022-12-30T08:14:46.343Z"
   },
   {
    "duration": 7,
    "start_time": "2022-12-30T08:14:46.522Z"
   },
   {
    "duration": 11,
    "start_time": "2022-12-30T08:14:46.531Z"
   },
   {
    "duration": 9,
    "start_time": "2022-12-30T08:14:46.544Z"
   },
   {
    "duration": 4,
    "start_time": "2022-12-30T08:14:46.554Z"
   },
   {
    "duration": 18,
    "start_time": "2022-12-30T08:14:46.559Z"
   }
  ],
  "kernelspec": {
   "display_name": "Python 3",
   "language": "python",
   "name": "python3"
  },
  "language_info": {
   "codemirror_mode": {
    "name": "ipython",
    "version": 3
   },
   "file_extension": ".py",
   "mimetype": "text/x-python",
   "name": "python",
   "nbconvert_exporter": "python",
   "pygments_lexer": "ipython3",
   "version": "3.7.0"
  },
  "toc": {
   "base_numbering": 1,
   "nav_menu": {},
   "number_sections": true,
   "sideBar": true,
   "skip_h1_title": true,
   "title_cell": "Table of Contents",
   "title_sidebar": "Contents",
   "toc_cell": false,
   "toc_position": {},
   "toc_section_display": true,
   "toc_window_display": false
  }
 },
 "nbformat": 4,
 "nbformat_minor": 2
}
