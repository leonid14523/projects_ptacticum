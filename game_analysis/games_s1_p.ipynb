{
 "cells": [
  {
   "cell_type": "markdown",
   "metadata": {},
   "source": [
    "**Перед нами находятся данные интернет - магазина игр 'Стримчик'. В выгрузке имеется данные по названиям игр, платформам на которых они выпускались, их: жанры, год выпуска, оценка пользователей и критиков и продажи в разных странах.**\n",
    "\n",
    "**Основная задача: проанализировать по имеющимся данным: актуальность жанров, актуальность платформ, дать бизнес-рекомендации интернет магазину.**\n",
    "\n",
    "**Пошаговые задачи:**\n",
    "\n",
    "* ознакомиться с данными: посмотреть общую информацию, заполнить пропуски там, где это возможно.\n",
    "* руководствуясь видом бизнеса, выбрать актуальный период для анализа и прогноза.\n",
    "* выявить: самые прибыльные платформы, самые прибыльные жанры, а также, влияют ли оценки критиков на суммарные продажи.\n",
    "* составить портреты по жанровым и платформенным предпочтениям в разных странах."
   ]
  },
  {
   "cell_type": "code",
   "execution_count": 1,
   "metadata": {},
   "outputs": [],
   "source": [
    "import pandas as pd\n",
    "import matplotlib.pyplot as plt\n",
    "import seaborn as sns\n",
    "import numpy as np\n",
    "from scipy import stats as st\n",
    "data = pd.read_csv('/datasets/games.csv')"
   ]
  },
  {
   "cell_type": "code",
   "execution_count": 2,
   "metadata": {},
   "outputs": [
    {
     "data": {
      "text/html": [
       "<div>\n",
       "<style scoped>\n",
       "    .dataframe tbody tr th:only-of-type {\n",
       "        vertical-align: middle;\n",
       "    }\n",
       "\n",
       "    .dataframe tbody tr th {\n",
       "        vertical-align: top;\n",
       "    }\n",
       "\n",
       "    .dataframe thead th {\n",
       "        text-align: right;\n",
       "    }\n",
       "</style>\n",
       "<table border=\"1\" class=\"dataframe\">\n",
       "  <thead>\n",
       "    <tr style=\"text-align: right;\">\n",
       "      <th></th>\n",
       "      <th>Name</th>\n",
       "      <th>Platform</th>\n",
       "      <th>Year_of_Release</th>\n",
       "      <th>Genre</th>\n",
       "      <th>NA_sales</th>\n",
       "      <th>EU_sales</th>\n",
       "      <th>JP_sales</th>\n",
       "      <th>Other_sales</th>\n",
       "      <th>Critic_Score</th>\n",
       "      <th>User_Score</th>\n",
       "      <th>Rating</th>\n",
       "    </tr>\n",
       "  </thead>\n",
       "  <tbody>\n",
       "    <tr>\n",
       "      <th>0</th>\n",
       "      <td>Wii Sports</td>\n",
       "      <td>Wii</td>\n",
       "      <td>2006.0</td>\n",
       "      <td>Sports</td>\n",
       "      <td>41.36</td>\n",
       "      <td>28.96</td>\n",
       "      <td>3.77</td>\n",
       "      <td>8.45</td>\n",
       "      <td>76.0</td>\n",
       "      <td>8</td>\n",
       "      <td>E</td>\n",
       "    </tr>\n",
       "    <tr>\n",
       "      <th>1</th>\n",
       "      <td>Super Mario Bros.</td>\n",
       "      <td>NES</td>\n",
       "      <td>1985.0</td>\n",
       "      <td>Platform</td>\n",
       "      <td>29.08</td>\n",
       "      <td>3.58</td>\n",
       "      <td>6.81</td>\n",
       "      <td>0.77</td>\n",
       "      <td>NaN</td>\n",
       "      <td>NaN</td>\n",
       "      <td>NaN</td>\n",
       "    </tr>\n",
       "    <tr>\n",
       "      <th>2</th>\n",
       "      <td>Mario Kart Wii</td>\n",
       "      <td>Wii</td>\n",
       "      <td>2008.0</td>\n",
       "      <td>Racing</td>\n",
       "      <td>15.68</td>\n",
       "      <td>12.76</td>\n",
       "      <td>3.79</td>\n",
       "      <td>3.29</td>\n",
       "      <td>82.0</td>\n",
       "      <td>8.3</td>\n",
       "      <td>E</td>\n",
       "    </tr>\n",
       "    <tr>\n",
       "      <th>3</th>\n",
       "      <td>Wii Sports Resort</td>\n",
       "      <td>Wii</td>\n",
       "      <td>2009.0</td>\n",
       "      <td>Sports</td>\n",
       "      <td>15.61</td>\n",
       "      <td>10.93</td>\n",
       "      <td>3.28</td>\n",
       "      <td>2.95</td>\n",
       "      <td>80.0</td>\n",
       "      <td>8</td>\n",
       "      <td>E</td>\n",
       "    </tr>\n",
       "    <tr>\n",
       "      <th>4</th>\n",
       "      <td>Pokemon Red/Pokemon Blue</td>\n",
       "      <td>GB</td>\n",
       "      <td>1996.0</td>\n",
       "      <td>Role-Playing</td>\n",
       "      <td>11.27</td>\n",
       "      <td>8.89</td>\n",
       "      <td>10.22</td>\n",
       "      <td>1.00</td>\n",
       "      <td>NaN</td>\n",
       "      <td>NaN</td>\n",
       "      <td>NaN</td>\n",
       "    </tr>\n",
       "  </tbody>\n",
       "</table>\n",
       "</div>"
      ],
      "text/plain": [
       "                       Name Platform  Year_of_Release         Genre  NA_sales  \\\n",
       "0                Wii Sports      Wii           2006.0        Sports     41.36   \n",
       "1         Super Mario Bros.      NES           1985.0      Platform     29.08   \n",
       "2            Mario Kart Wii      Wii           2008.0        Racing     15.68   \n",
       "3         Wii Sports Resort      Wii           2009.0        Sports     15.61   \n",
       "4  Pokemon Red/Pokemon Blue       GB           1996.0  Role-Playing     11.27   \n",
       "\n",
       "   EU_sales  JP_sales  Other_sales  Critic_Score User_Score Rating  \n",
       "0     28.96      3.77         8.45          76.0          8      E  \n",
       "1      3.58      6.81         0.77           NaN        NaN    NaN  \n",
       "2     12.76      3.79         3.29          82.0        8.3      E  \n",
       "3     10.93      3.28         2.95          80.0          8      E  \n",
       "4      8.89     10.22         1.00           NaN        NaN    NaN  "
      ]
     },
     "execution_count": 2,
     "metadata": {},
     "output_type": "execute_result"
    }
   ],
   "source": [
    "data.head()"
   ]
  },
  {
   "cell_type": "code",
   "execution_count": 3,
   "metadata": {},
   "outputs": [
    {
     "name": "stdout",
     "output_type": "stream",
     "text": [
      "<class 'pandas.core.frame.DataFrame'>\n",
      "RangeIndex: 16715 entries, 0 to 16714\n",
      "Data columns (total 11 columns):\n",
      " #   Column           Non-Null Count  Dtype  \n",
      "---  ------           --------------  -----  \n",
      " 0   Name             16713 non-null  object \n",
      " 1   Platform         16715 non-null  object \n",
      " 2   Year_of_Release  16446 non-null  float64\n",
      " 3   Genre            16713 non-null  object \n",
      " 4   NA_sales         16715 non-null  float64\n",
      " 5   EU_sales         16715 non-null  float64\n",
      " 6   JP_sales         16715 non-null  float64\n",
      " 7   Other_sales      16715 non-null  float64\n",
      " 8   Critic_Score     8137 non-null   float64\n",
      " 9   User_Score       10014 non-null  object \n",
      " 10  Rating           9949 non-null   object \n",
      "dtypes: float64(6), object(5)\n",
      "memory usage: 1.4+ MB\n"
     ]
    }
   ],
   "source": [
    "data.info()"
   ]
  },
  {
   "cell_type": "code",
   "execution_count": 4,
   "metadata": {},
   "outputs": [
    {
     "data": {
      "text/plain": [
       "Name                  2\n",
       "Platform              0\n",
       "Year_of_Release     269\n",
       "Genre                 2\n",
       "NA_sales              0\n",
       "EU_sales              0\n",
       "JP_sales              0\n",
       "Other_sales           0\n",
       "Critic_Score       8578\n",
       "User_Score         6701\n",
       "Rating             6766\n",
       "dtype: int64"
      ]
     },
     "execution_count": 4,
     "metadata": {},
     "output_type": "execute_result"
    }
   ],
   "source": [
    "data.isna().sum()"
   ]
  },
  {
   "cell_type": "markdown",
   "metadata": {},
   "source": [
    "**Прочитали данные, проверили типы, посмотрели количество пропусков. Ниже привели заголовки к нижнему регистру**"
   ]
  },
  {
   "cell_type": "code",
   "execution_count": 5,
   "metadata": {},
   "outputs": [],
   "source": [
    "data.columns = data.columns.str.lower()"
   ]
  },
  {
   "cell_type": "code",
   "execution_count": 6,
   "metadata": {},
   "outputs": [
    {
     "data": {
      "text/html": [
       "<div>\n",
       "<style scoped>\n",
       "    .dataframe tbody tr th:only-of-type {\n",
       "        vertical-align: middle;\n",
       "    }\n",
       "\n",
       "    .dataframe tbody tr th {\n",
       "        vertical-align: top;\n",
       "    }\n",
       "\n",
       "    .dataframe thead th {\n",
       "        text-align: right;\n",
       "    }\n",
       "</style>\n",
       "<table border=\"1\" class=\"dataframe\">\n",
       "  <thead>\n",
       "    <tr style=\"text-align: right;\">\n",
       "      <th></th>\n",
       "      <th>name</th>\n",
       "      <th>platform</th>\n",
       "      <th>year_of_release</th>\n",
       "      <th>genre</th>\n",
       "      <th>na_sales</th>\n",
       "      <th>eu_sales</th>\n",
       "      <th>jp_sales</th>\n",
       "      <th>other_sales</th>\n",
       "      <th>critic_score</th>\n",
       "      <th>user_score</th>\n",
       "      <th>rating</th>\n",
       "    </tr>\n",
       "  </thead>\n",
       "  <tbody>\n",
       "    <tr>\n",
       "      <th>0</th>\n",
       "      <td>Wii Sports</td>\n",
       "      <td>Wii</td>\n",
       "      <td>2006.0</td>\n",
       "      <td>Sports</td>\n",
       "      <td>41.36</td>\n",
       "      <td>28.96</td>\n",
       "      <td>3.77</td>\n",
       "      <td>8.45</td>\n",
       "      <td>76.0</td>\n",
       "      <td>8</td>\n",
       "      <td>E</td>\n",
       "    </tr>\n",
       "    <tr>\n",
       "      <th>1</th>\n",
       "      <td>Super Mario Bros.</td>\n",
       "      <td>NES</td>\n",
       "      <td>1985.0</td>\n",
       "      <td>Platform</td>\n",
       "      <td>29.08</td>\n",
       "      <td>3.58</td>\n",
       "      <td>6.81</td>\n",
       "      <td>0.77</td>\n",
       "      <td>NaN</td>\n",
       "      <td>NaN</td>\n",
       "      <td>NaN</td>\n",
       "    </tr>\n",
       "    <tr>\n",
       "      <th>2</th>\n",
       "      <td>Mario Kart Wii</td>\n",
       "      <td>Wii</td>\n",
       "      <td>2008.0</td>\n",
       "      <td>Racing</td>\n",
       "      <td>15.68</td>\n",
       "      <td>12.76</td>\n",
       "      <td>3.79</td>\n",
       "      <td>3.29</td>\n",
       "      <td>82.0</td>\n",
       "      <td>8.3</td>\n",
       "      <td>E</td>\n",
       "    </tr>\n",
       "    <tr>\n",
       "      <th>3</th>\n",
       "      <td>Wii Sports Resort</td>\n",
       "      <td>Wii</td>\n",
       "      <td>2009.0</td>\n",
       "      <td>Sports</td>\n",
       "      <td>15.61</td>\n",
       "      <td>10.93</td>\n",
       "      <td>3.28</td>\n",
       "      <td>2.95</td>\n",
       "      <td>80.0</td>\n",
       "      <td>8</td>\n",
       "      <td>E</td>\n",
       "    </tr>\n",
       "    <tr>\n",
       "      <th>4</th>\n",
       "      <td>Pokemon Red/Pokemon Blue</td>\n",
       "      <td>GB</td>\n",
       "      <td>1996.0</td>\n",
       "      <td>Role-Playing</td>\n",
       "      <td>11.27</td>\n",
       "      <td>8.89</td>\n",
       "      <td>10.22</td>\n",
       "      <td>1.00</td>\n",
       "      <td>NaN</td>\n",
       "      <td>NaN</td>\n",
       "      <td>NaN</td>\n",
       "    </tr>\n",
       "  </tbody>\n",
       "</table>\n",
       "</div>"
      ],
      "text/plain": [
       "                       name platform  year_of_release         genre  na_sales  \\\n",
       "0                Wii Sports      Wii           2006.0        Sports     41.36   \n",
       "1         Super Mario Bros.      NES           1985.0      Platform     29.08   \n",
       "2            Mario Kart Wii      Wii           2008.0        Racing     15.68   \n",
       "3         Wii Sports Resort      Wii           2009.0        Sports     15.61   \n",
       "4  Pokemon Red/Pokemon Blue       GB           1996.0  Role-Playing     11.27   \n",
       "\n",
       "   eu_sales  jp_sales  other_sales  critic_score user_score rating  \n",
       "0     28.96      3.77         8.45          76.0          8      E  \n",
       "1      3.58      6.81         0.77           NaN        NaN    NaN  \n",
       "2     12.76      3.79         3.29          82.0        8.3      E  \n",
       "3     10.93      3.28         2.95          80.0          8      E  \n",
       "4      8.89     10.22         1.00           NaN        NaN    NaN  "
      ]
     },
     "execution_count": 6,
     "metadata": {},
     "output_type": "execute_result"
    }
   ],
   "source": [
    "data.head()"
   ]
  },
  {
   "cell_type": "code",
   "execution_count": 7,
   "metadata": {},
   "outputs": [
    {
     "data": {
      "text/plain": [
       "0"
      ]
     },
     "execution_count": 7,
     "metadata": {},
     "output_type": "execute_result"
    }
   ],
   "source": [
    "data.duplicated().sum()"
   ]
  },
  {
   "cell_type": "code",
   "execution_count": 8,
   "metadata": {},
   "outputs": [],
   "source": [
    "data = data.dropna(subset=['name', 'genre'])"
   ]
  },
  {
   "cell_type": "code",
   "execution_count": 9,
   "metadata": {},
   "outputs": [
    {
     "data": {
      "text/plain": [
       "array(['E', nan, 'M', 'T', 'E10+', 'K-A', 'AO', 'EC', 'RP'], dtype=object)"
      ]
     },
     "execution_count": 9,
     "metadata": {},
     "output_type": "execute_result"
    }
   ],
   "source": [
    "data['rating'].unique()"
   ]
  },
  {
   "cell_type": "markdown",
   "metadata": {},
   "source": [
    "**E - everyone (все)**\n",
    "\n",
    "**M - mature (17+)**\n",
    "\n",
    "**T - teen (подростки 13+)**\n",
    "\n",
    "**E10+ - (все 10+)**\n",
    "\n",
    "**AO - adults only (18+)**\n",
    "\n",
    "**EC - early ch (ранее детство)**\n",
    "\n",
    "**K-A - kids to adult (гугл: от 10 - 99+)**\n",
    "\n",
    "**RP - rating pending (рейтинг ожидается)**\n"
   ]
  },
  {
   "cell_type": "code",
   "execution_count": 10,
   "metadata": {},
   "outputs": [],
   "source": [
    "data['rating'] = data['rating'].fillna('unknown')"
   ]
  },
  {
   "cell_type": "markdown",
   "metadata": {},
   "source": [
    "Пропуски в стобце 'рейтнг', заполнили 'unknown'"
   ]
  },
  {
   "cell_type": "markdown",
   "metadata": {},
   "source": [
    "**Не совсем понятно, какими значениями заполнять пропуски с оценками критиков и пользователей, потому что в одном столбце пропцущены половина значений от всего датафрейма, во втором треть. Если заполнять их по принципу корреляции с другими столбцами, это повлияет на дальнейшее исследование.**"
   ]
  },
  {
   "cell_type": "code",
   "execution_count": 11,
   "metadata": {},
   "outputs": [
    {
     "data": {
      "text/plain": [
       "array(['8', nan, '8.3', '8.5', '6.6', '8.4', '8.6', '7.7', '6.3', '7.4',\n",
       "       '8.2', '9', '7.9', '8.1', '8.7', '7.1', '3.4', '5.3', '4.8', '3.2',\n",
       "       '8.9', '6.4', '7.8', '7.5', '2.6', '7.2', '9.2', '7', '7.3', '4.3',\n",
       "       '7.6', '5.7', '5', '9.1', '6.5', 'tbd', '8.8', '6.9', '9.4', '6.8',\n",
       "       '6.1', '6.7', '5.4', '4', '4.9', '4.5', '9.3', '6.2', '4.2', '6',\n",
       "       '3.7', '4.1', '5.8', '5.6', '5.5', '4.4', '4.6', '5.9', '3.9',\n",
       "       '3.1', '2.9', '5.2', '3.3', '4.7', '5.1', '3.5', '2.5', '1.9', '3',\n",
       "       '2.7', '2.2', '2', '9.5', '2.1', '3.6', '2.8', '1.8', '3.8', '0',\n",
       "       '1.6', '9.6', '2.4', '1.7', '1.1', '0.3', '1.5', '0.7', '1.2',\n",
       "       '2.3', '0.5', '1.3', '0.2', '0.6', '1.4', '0.9', '1', '9.7'],\n",
       "      dtype=object)"
      ]
     },
     "execution_count": 11,
     "metadata": {},
     "output_type": "execute_result"
    }
   ],
   "source": [
    "data['user_score'].unique()"
   ]
  },
  {
   "cell_type": "markdown",
   "metadata": {},
   "source": [
    "**TBD - будет определен позже. но пока его нет, он не несет в себе никакой информации**"
   ]
  },
  {
   "cell_type": "code",
   "execution_count": 12,
   "metadata": {},
   "outputs": [],
   "source": [
    "data.loc[data['user_score'] == 'tbd', 'user_score'] = '-1'\n",
    "data['user_score'] = data['user_score'].astype('float')"
   ]
  },
  {
   "cell_type": "code",
   "execution_count": 13,
   "metadata": {},
   "outputs": [
    {
     "data": {
      "text/plain": [
       "array([ 8. ,  nan,  8.3,  8.5,  6.6,  8.4,  8.6,  7.7,  6.3,  7.4,  8.2,\n",
       "        9. ,  7.9,  8.1,  8.7,  7.1,  3.4,  5.3,  4.8,  3.2,  8.9,  6.4,\n",
       "        7.8,  7.5,  2.6,  7.2,  9.2,  7. ,  7.3,  4.3,  7.6,  5.7,  5. ,\n",
       "        9.1,  6.5, -1. ,  8.8,  6.9,  9.4,  6.8,  6.1,  6.7,  5.4,  4. ,\n",
       "        4.9,  4.5,  9.3,  6.2,  4.2,  6. ,  3.7,  4.1,  5.8,  5.6,  5.5,\n",
       "        4.4,  4.6,  5.9,  3.9,  3.1,  2.9,  5.2,  3.3,  4.7,  5.1,  3.5,\n",
       "        2.5,  1.9,  3. ,  2.7,  2.2,  2. ,  9.5,  2.1,  3.6,  2.8,  1.8,\n",
       "        3.8,  0. ,  1.6,  9.6,  2.4,  1.7,  1.1,  0.3,  1.5,  0.7,  1.2,\n",
       "        2.3,  0.5,  1.3,  0.2,  0.6,  1.4,  0.9,  1. ,  9.7])"
      ]
     },
     "execution_count": 13,
     "metadata": {},
     "output_type": "execute_result"
    }
   ],
   "source": [
    "data['user_score'].unique()"
   ]
  },
  {
   "cell_type": "markdown",
   "metadata": {},
   "source": [
    "**tbd заменил значением - заглушкой.**"
   ]
  },
  {
   "cell_type": "code",
   "execution_count": 14,
   "metadata": {},
   "outputs": [],
   "source": [
    "data['critic_score'] = data['critic_score'].fillna(-1.0)\n",
    "data['critic_score'] = data['critic_score'].astype('int')\n"
   ]
  },
  {
   "cell_type": "code",
   "execution_count": 15,
   "metadata": {},
   "outputs": [],
   "source": [
    "data['year_of_release'] = data['year_of_release'].fillna(1.0)\n",
    "data['year_of_release'] = data['year_of_release'].astype('int')"
   ]
  },
  {
   "cell_type": "markdown",
   "metadata": {},
   "source": [
    "**в оценках критиков и году выпуска заменили пропуски на значения - заглушки и привели к типу инт. Конкретно в этом случае не вижу смысла приводить год к типу 'дата'.**"
   ]
  },
  {
   "cell_type": "markdown",
   "metadata": {},
   "source": [
    "**Можно предположить, что пропуски в столбцах с оценкой пользователей и критиков могли появится из за малого количества времени на рынке и среднее оценок пока нельзя считать объективным. Или данные с оценками старых игр были утеряны. В столбце с годом выпуска, пропуски могли появится из за нежелания разработчика указывать его.**"
   ]
  },
  {
   "cell_type": "code",
   "execution_count": 16,
   "metadata": {},
   "outputs": [],
   "source": [
    "data['sum_sales'] = data['na_sales'] + data['eu_sales'] + data['jp_sales'] + data['other_sales']"
   ]
  },
  {
   "cell_type": "markdown",
   "metadata": {},
   "source": [
    "Посчитали суммарные продажи"
   ]
  },
  {
   "cell_type": "code",
   "execution_count": 17,
   "metadata": {},
   "outputs": [
    {
     "data": {
      "image/png": "[encoded data removed]",
      "text/plain": [
       "<Figure size 432x288 with 1 Axes>"
      ]
     },
     "metadata": {
      "needs_background": "light"
     },
     "output_type": "display_data"
    }
   ],
   "source": [
    "sns.barplot(x='platform', y='sum_sales', data=data)\n",
    "plt.xticks(rotation = 90);"
   ]
  },
  {
   "cell_type": "markdown",
   "metadata": {},
   "source": [
    "**шаг 3**"
   ]
  },
  {
   "cell_type": "code",
   "execution_count": 18,
   "metadata": {},
   "outputs": [
    {
     "data": {
      "text/plain": [
       "year_of_release\n",
       "1        269\n",
       "1980       9\n",
       "1981      46\n",
       "1982      36\n",
       "1983      17\n",
       "1984      14\n",
       "1985      14\n",
       "1986      21\n",
       "1987      16\n",
       "1988      15\n",
       "1989      17\n",
       "1990      16\n",
       "1991      41\n",
       "1992      43\n",
       "1993      60\n",
       "1994     121\n",
       "1995     219\n",
       "1996     263\n",
       "1997     289\n",
       "1998     379\n",
       "1999     338\n",
       "2000     350\n",
       "2001     482\n",
       "2002     829\n",
       "2003     775\n",
       "2004     762\n",
       "2005     939\n",
       "2006    1006\n",
       "2007    1197\n",
       "2008    1427\n",
       "2009    1426\n",
       "2010    1255\n",
       "2011    1136\n",
       "2012     653\n",
       "2013     544\n",
       "2014     581\n",
       "2015     606\n",
       "2016     502\n",
       "Name: sum_sales, dtype: int64"
      ]
     },
     "execution_count": 18,
     "metadata": {},
     "output_type": "execute_result"
    }
   ],
   "source": [
    "data.groupby('year_of_release')['sum_sales'].count()"
   ]
  },
  {
   "cell_type": "code",
   "execution_count": 19,
   "metadata": {},
   "outputs": [
    {
     "data": {
      "text/plain": [
       "year_of_release\n",
       "1        98.92\n",
       "1980     11.38\n",
       "1981     35.68\n",
       "1982     28.88\n",
       "1983     16.80\n",
       "1984     50.35\n",
       "1985     53.95\n",
       "1986     37.08\n",
       "1987     21.70\n",
       "1988     47.21\n",
       "1989     73.45\n",
       "1990     49.37\n",
       "1991     32.23\n",
       "1992     76.16\n",
       "1993     45.99\n",
       "1994     79.23\n",
       "1995     88.12\n",
       "1996    199.15\n",
       "1997    201.07\n",
       "1998    256.31\n",
       "1999    251.11\n",
       "2000    201.66\n",
       "2001    331.46\n",
       "2002    394.97\n",
       "2003    357.54\n",
       "2004    418.68\n",
       "2005    457.82\n",
       "2006    517.71\n",
       "2007    604.75\n",
       "2008    671.50\n",
       "2009    658.82\n",
       "2010    590.13\n",
       "2011    507.58\n",
       "2012    355.84\n",
       "2013    361.24\n",
       "2014    331.53\n",
       "2015    267.98\n",
       "2016    129.94\n",
       "Name: sum_sales, dtype: float64"
      ]
     },
     "execution_count": 19,
     "metadata": {},
     "output_type": "execute_result"
    }
   ],
   "source": [
    "data.groupby('year_of_release')['sum_sales'].sum()"
   ]
  },
  {
   "cell_type": "code",
   "execution_count": 20,
   "metadata": {},
   "outputs": [
    {
     "data": {
      "text/plain": [
       "platform\n",
       "PS2     1255.77\n",
       "X360     971.42\n",
       "PS3      939.65\n",
       "Wii      907.51\n",
       "DS       806.12\n",
       "PS       730.86\n",
       "GBA      317.85\n",
       "PS4      314.14\n",
       "PSP      294.05\n",
       "PC       259.52\n",
       "Name: sum_sales, dtype: float64"
      ]
     },
     "execution_count": 20,
     "metadata": {},
     "output_type": "execute_result"
    }
   ],
   "source": [
    "platform_rating = data.groupby('platform')['sum_sales'].sum()\n",
    "platform_rating.sort_values(ascending=False).head(10)"
   ]
  },
  {
   "cell_type": "markdown",
   "metadata": {},
   "source": [
    "**Актуальные данные (за последние 4 ПОЛНЫХ года)**"
   ]
  },
  {
   "cell_type": "code",
   "execution_count": 21,
   "metadata": {},
   "outputs": [
    {
     "data": {
      "text/html": [
       "<div>\n",
       "<style scoped>\n",
       "    .dataframe tbody tr th:only-of-type {\n",
       "        vertical-align: middle;\n",
       "    }\n",
       "\n",
       "    .dataframe tbody tr th {\n",
       "        vertical-align: top;\n",
       "    }\n",
       "\n",
       "    .dataframe thead th {\n",
       "        text-align: right;\n",
       "    }\n",
       "</style>\n",
       "<table border=\"1\" class=\"dataframe\">\n",
       "  <thead>\n",
       "    <tr style=\"text-align: right;\">\n",
       "      <th></th>\n",
       "      <th>name</th>\n",
       "      <th>platform</th>\n",
       "      <th>year_of_release</th>\n",
       "      <th>genre</th>\n",
       "      <th>na_sales</th>\n",
       "      <th>eu_sales</th>\n",
       "      <th>jp_sales</th>\n",
       "      <th>other_sales</th>\n",
       "      <th>critic_score</th>\n",
       "      <th>user_score</th>\n",
       "      <th>rating</th>\n",
       "      <th>sum_sales</th>\n",
       "    </tr>\n",
       "  </thead>\n",
       "  <tbody>\n",
       "    <tr>\n",
       "      <th>0</th>\n",
       "      <td>Grand Theft Auto V</td>\n",
       "      <td>PS3</td>\n",
       "      <td>2013</td>\n",
       "      <td>Action</td>\n",
       "      <td>7.02</td>\n",
       "      <td>9.09</td>\n",
       "      <td>0.98</td>\n",
       "      <td>3.96</td>\n",
       "      <td>97</td>\n",
       "      <td>8.2</td>\n",
       "      <td>M</td>\n",
       "      <td>21.05</td>\n",
       "    </tr>\n",
       "    <tr>\n",
       "      <th>1</th>\n",
       "      <td>Grand Theft Auto V</td>\n",
       "      <td>X360</td>\n",
       "      <td>2013</td>\n",
       "      <td>Action</td>\n",
       "      <td>9.66</td>\n",
       "      <td>5.14</td>\n",
       "      <td>0.06</td>\n",
       "      <td>1.41</td>\n",
       "      <td>97</td>\n",
       "      <td>8.1</td>\n",
       "      <td>M</td>\n",
       "      <td>16.27</td>\n",
       "    </tr>\n",
       "    <tr>\n",
       "      <th>2</th>\n",
       "      <td>Call of Duty: Black Ops II</td>\n",
       "      <td>PS3</td>\n",
       "      <td>2012</td>\n",
       "      <td>Shooter</td>\n",
       "      <td>4.99</td>\n",
       "      <td>5.73</td>\n",
       "      <td>0.65</td>\n",
       "      <td>2.42</td>\n",
       "      <td>83</td>\n",
       "      <td>5.3</td>\n",
       "      <td>M</td>\n",
       "      <td>13.79</td>\n",
       "    </tr>\n",
       "    <tr>\n",
       "      <th>3</th>\n",
       "      <td>Call of Duty: Black Ops II</td>\n",
       "      <td>X360</td>\n",
       "      <td>2012</td>\n",
       "      <td>Shooter</td>\n",
       "      <td>8.25</td>\n",
       "      <td>4.24</td>\n",
       "      <td>0.07</td>\n",
       "      <td>1.12</td>\n",
       "      <td>83</td>\n",
       "      <td>4.8</td>\n",
       "      <td>M</td>\n",
       "      <td>13.68</td>\n",
       "    </tr>\n",
       "    <tr>\n",
       "      <th>4</th>\n",
       "      <td>Grand Theft Auto V</td>\n",
       "      <td>PS4</td>\n",
       "      <td>2014</td>\n",
       "      <td>Action</td>\n",
       "      <td>3.96</td>\n",
       "      <td>6.31</td>\n",
       "      <td>0.38</td>\n",
       "      <td>1.97</td>\n",
       "      <td>97</td>\n",
       "      <td>8.3</td>\n",
       "      <td>M</td>\n",
       "      <td>12.62</td>\n",
       "    </tr>\n",
       "  </tbody>\n",
       "</table>\n",
       "</div>"
      ],
      "text/plain": [
       "                         name platform  year_of_release    genre  na_sales  \\\n",
       "0          Grand Theft Auto V      PS3             2013   Action      7.02   \n",
       "1          Grand Theft Auto V     X360             2013   Action      9.66   \n",
       "2  Call of Duty: Black Ops II      PS3             2012  Shooter      4.99   \n",
       "3  Call of Duty: Black Ops II     X360             2012  Shooter      8.25   \n",
       "4          Grand Theft Auto V      PS4             2014   Action      3.96   \n",
       "\n",
       "   eu_sales  jp_sales  other_sales  critic_score  user_score rating  sum_sales  \n",
       "0      9.09      0.98         3.96            97         8.2      M      21.05  \n",
       "1      5.14      0.06         1.41            97         8.1      M      16.27  \n",
       "2      5.73      0.65         2.42            83         5.3      M      13.79  \n",
       "3      4.24      0.07         1.12            83         4.8      M      13.68  \n",
       "4      6.31      0.38         1.97            97         8.3      M      12.62  "
      ]
     },
     "execution_count": 21,
     "metadata": {},
     "output_type": "execute_result"
    }
   ],
   "source": [
    "data_actual = data[(data['year_of_release'] >= 2012) & (data['critic_score'] >= 0)].reset_index(drop=True)\n",
    "data_actual.head()"
   ]
  },
  {
   "cell_type": "code",
   "execution_count": 22,
   "metadata": {},
   "outputs": [],
   "source": [
    "data_actual = data_actual.dropna()"
   ]
  },
  {
   "cell_type": "code",
   "execution_count": 23,
   "metadata": {},
   "outputs": [
    {
     "data": {
      "text/plain": [
       "name               0\n",
       "platform           0\n",
       "year_of_release    0\n",
       "genre              0\n",
       "na_sales           0\n",
       "eu_sales           0\n",
       "jp_sales           0\n",
       "other_sales        0\n",
       "critic_score       0\n",
       "user_score         0\n",
       "rating             0\n",
       "sum_sales          0\n",
       "dtype: int64"
      ]
     },
     "execution_count": 23,
     "metadata": {},
     "output_type": "execute_result"
    }
   ],
   "source": [
    "data_actual.isna().sum()"
   ]
  },
  {
   "cell_type": "code",
   "execution_count": 24,
   "metadata": {},
   "outputs": [
    {
     "data": {
      "text/html": [
       "<div>\n",
       "<style scoped>\n",
       "    .dataframe tbody tr th:only-of-type {\n",
       "        vertical-align: middle;\n",
       "    }\n",
       "\n",
       "    .dataframe tbody tr th {\n",
       "        vertical-align: top;\n",
       "    }\n",
       "\n",
       "    .dataframe thead th {\n",
       "        text-align: right;\n",
       "    }\n",
       "</style>\n",
       "<table border=\"1\" class=\"dataframe\">\n",
       "  <thead>\n",
       "    <tr style=\"text-align: right;\">\n",
       "      <th></th>\n",
       "      <th></th>\n",
       "      <th>plt_sum</th>\n",
       "    </tr>\n",
       "    <tr>\n",
       "      <th>year_of_release</th>\n",
       "      <th>platform</th>\n",
       "      <th></th>\n",
       "    </tr>\n",
       "  </thead>\n",
       "  <tbody>\n",
       "    <tr>\n",
       "      <th rowspan=\"4\" valign=\"top\">2012</th>\n",
       "      <th>3DS</th>\n",
       "      <td>39.39</td>\n",
       "    </tr>\n",
       "    <tr>\n",
       "      <th>PC</th>\n",
       "      <td>22.01</td>\n",
       "    </tr>\n",
       "    <tr>\n",
       "      <th>PS3</th>\n",
       "      <td>94.30</td>\n",
       "    </tr>\n",
       "    <tr>\n",
       "      <th>X360</th>\n",
       "      <td>95.68</td>\n",
       "    </tr>\n",
       "    <tr>\n",
       "      <th rowspan=\"5\" valign=\"top\">2013</th>\n",
       "      <th>3DS</th>\n",
       "      <td>15.89</td>\n",
       "    </tr>\n",
       "    <tr>\n",
       "      <th>PS3</th>\n",
       "      <td>102.71</td>\n",
       "    </tr>\n",
       "    <tr>\n",
       "      <th>PS4</th>\n",
       "      <td>25.07</td>\n",
       "    </tr>\n",
       "    <tr>\n",
       "      <th>WiiU</th>\n",
       "      <td>17.40</td>\n",
       "    </tr>\n",
       "    <tr>\n",
       "      <th>X360</th>\n",
       "      <td>75.17</td>\n",
       "    </tr>\n",
       "    <tr>\n",
       "      <th rowspan=\"3\" valign=\"top\">2014</th>\n",
       "      <th>PS4</th>\n",
       "      <td>80.95</td>\n",
       "    </tr>\n",
       "    <tr>\n",
       "      <th>WiiU</th>\n",
       "      <td>15.22</td>\n",
       "    </tr>\n",
       "    <tr>\n",
       "      <th>XOne</th>\n",
       "      <td>47.01</td>\n",
       "    </tr>\n",
       "    <tr>\n",
       "      <th rowspan=\"3\" valign=\"top\">2015</th>\n",
       "      <th>PS4</th>\n",
       "      <td>80.90</td>\n",
       "    </tr>\n",
       "    <tr>\n",
       "      <th>WiiU</th>\n",
       "      <td>15.35</td>\n",
       "    </tr>\n",
       "    <tr>\n",
       "      <th>XOne</th>\n",
       "      <td>44.60</td>\n",
       "    </tr>\n",
       "    <tr>\n",
       "      <th rowspan=\"2\" valign=\"top\">2016</th>\n",
       "      <th>PS4</th>\n",
       "      <td>57.40</td>\n",
       "    </tr>\n",
       "    <tr>\n",
       "      <th>XOne</th>\n",
       "      <td>23.84</td>\n",
       "    </tr>\n",
       "  </tbody>\n",
       "</table>\n",
       "</div>"
      ],
      "text/plain": [
       "                          plt_sum\n",
       "year_of_release platform         \n",
       "2012            3DS         39.39\n",
       "                PC          22.01\n",
       "                PS3         94.30\n",
       "                X360        95.68\n",
       "2013            3DS         15.89\n",
       "                PS3        102.71\n",
       "                PS4         25.07\n",
       "                WiiU        17.40\n",
       "                X360        75.17\n",
       "2014            PS4         80.95\n",
       "                WiiU        15.22\n",
       "                XOne        47.01\n",
       "2015            PS4         80.90\n",
       "                WiiU        15.35\n",
       "                XOne        44.60\n",
       "2016            PS4         57.40\n",
       "                XOne        23.84"
      ]
     },
     "execution_count": 24,
     "metadata": {},
     "output_type": "execute_result"
    }
   ],
   "source": [
    "data_actual_plat = data_actual.groupby(['year_of_release', 'platform']).agg(plt_sum=('sum_sales', 'sum'))\n",
    "data_actual_plat.columns=['plt_sum']\n",
    "data_actual_plat_good = data_actual_plat[data_actual_plat['plt_sum'] > 15]\n",
    "data_actual_plat_good"
   ]
  },
  {
   "cell_type": "markdown",
   "metadata": {},
   "source": [
    "**Я выбрал последние 4 года как актуальные данные. В лидерах платформ - PS4, XOne, WIIU, PS3, X360**\n",
    "\n",
    "**Можно сделать вывод, что лидерами рынка скорее являются компании создающие платформы, а актуальность самих платорм зависит от времени проведенном на рынке. Например после выхода PS4 продажи на ней повысились,в то время как интерес к PS3 начал угасать, но и та и та платформа является продуктом фирмы Sony.**\n",
    "* DS3, WIIU - Nintendo\n",
    "* Xone - Microsoft\n",
    "* PS4 - Sony"
   ]
  },
  {
   "cell_type": "code",
   "execution_count": 25,
   "metadata": {},
   "outputs": [
    {
     "name": "stdout",
     "output_type": "stream",
     "text": [
      "<class 'pandas.core.frame.DataFrame'>\n",
      "Int64Index: 1309 entries, 0 to 1311\n",
      "Data columns (total 12 columns):\n",
      " #   Column           Non-Null Count  Dtype  \n",
      "---  ------           --------------  -----  \n",
      " 0   name             1309 non-null   object \n",
      " 1   platform         1309 non-null   object \n",
      " 2   year_of_release  1309 non-null   int64  \n",
      " 3   genre            1309 non-null   object \n",
      " 4   na_sales         1309 non-null   float64\n",
      " 5   eu_sales         1309 non-null   float64\n",
      " 6   jp_sales         1309 non-null   float64\n",
      " 7   other_sales      1309 non-null   float64\n",
      " 8   critic_score     1309 non-null   int64  \n",
      " 9   user_score       1309 non-null   float64\n",
      " 10  rating           1309 non-null   object \n",
      " 11  sum_sales        1309 non-null   float64\n",
      "dtypes: float64(6), int64(2), object(4)\n",
      "memory usage: 165.2+ KB\n"
     ]
    }
   ],
   "source": [
    "data_actual.info()"
   ]
  },
  {
   "cell_type": "markdown",
   "metadata": {},
   "source": [
    "**Из актуальных данных оставляем только актуальные платформы (нынешние и предыдущие платформы самых популярных компаний)**"
   ]
  },
  {
   "cell_type": "code",
   "execution_count": 26,
   "metadata": {},
   "outputs": [],
   "source": [
    "data_top = data_actual[\n",
    "    (data_actual['platform'] == '3DS') |\n",
    "    (data_actual['platform'] == 'PS4') |\n",
    "    (data_actual['platform'] == 'XOne') |\n",
    "    (data_actual['platform'] == 'PS3') |\n",
    "    (data_actual['platform'] == 'X360') |\n",
    "    (data_actual['platform'] == 'WiiU')\n",
    "]\n",
    "data_top = data_top.reset_index(drop=True)"
   ]
  },
  {
   "cell_type": "code",
   "execution_count": 27,
   "metadata": {
    "scrolled": true
   },
   "outputs": [
    {
     "data": {
      "text/plain": [
       "<AxesSubplot:xlabel='platform', ylabel='sum_sales'>"
      ]
     },
     "execution_count": 27,
     "metadata": {},
     "output_type": "execute_result"
    },
    {
     "data": {
      "image/png": "[encoded data removed]",
      "text/plain": [
       "<Figure size 432x288 with 1 Axes>"
      ]
     },
     "metadata": {
      "needs_background": "light"
     },
     "output_type": "display_data"
    }
   ],
   "source": [
    "plt.ylim(0, 5)\n",
    "sns.boxplot(x=data_top['platform'], y=data_top['sum_sales'])"
   ]
  },
  {
   "cell_type": "markdown",
   "metadata": {},
   "source": [
    "по сумме продаж x360, xone, ps3 и ps4 имеют идентичные показатели по суммам продаж, показатели 3ds B wiiu значительно меньше"
   ]
  },
  {
   "cell_type": "code",
   "execution_count": 28,
   "metadata": {},
   "outputs": [
    {
     "data": {
      "text/plain": [
       "0.40600211593500984"
      ]
     },
     "execution_count": 28,
     "metadata": {},
     "output_type": "execute_result"
    }
   ],
   "source": [
    "data_ps4 = data_top.query('platform == \"PS4\"')\n",
    "data_ps4['critic_score'].corr(data_ps4['sum_sales'])"
   ]
  },
  {
   "cell_type": "code",
   "execution_count": 29,
   "metadata": {},
   "outputs": [
    {
     "data": {
      "text/plain": [
       "<AxesSubplot:xlabel='critic_score', ylabel='sum_sales'>"
      ]
     },
     "execution_count": 29,
     "metadata": {},
     "output_type": "execute_result"
    },
    {
     "data": {
      "image/png": "[encoded data removed]",
      "text/plain": [
       "<Figure size 432x288 with 1 Axes>"
      ]
     },
     "metadata": {
      "needs_background": "light"
     },
     "output_type": "display_data"
    }
   ],
   "source": [
    "sns.scatterplot(x=data_ps4['critic_score'], y=data_ps4['sum_sales'])"
   ]
  },
  {
   "cell_type": "code",
   "execution_count": 30,
   "metadata": {},
   "outputs": [
    {
     "data": {
      "text/plain": [
       "0.4153923422848885"
      ]
     },
     "execution_count": 30,
     "metadata": {},
     "output_type": "execute_result"
    }
   ],
   "source": [
    "data_XOne = data_top.query('platform == \"XOne\"')\n",
    "data_XOne['critic_score'].corr(data_XOne['sum_sales'])"
   ]
  },
  {
   "cell_type": "code",
   "execution_count": 31,
   "metadata": {},
   "outputs": [
    {
     "data": {
      "text/plain": [
       "<AxesSubplot:xlabel='critic_score', ylabel='sum_sales'>"
      ]
     },
     "execution_count": 31,
     "metadata": {},
     "output_type": "execute_result"
    },
    {
     "data": {
      "image/png": "[encoded data removed]",
      "text/plain": [
       "<Figure size 432x288 with 1 Axes>"
      ]
     },
     "metadata": {
      "needs_background": "light"
     },
     "output_type": "display_data"
    }
   ],
   "source": [
    "sns.scatterplot(x=data_XOne['critic_score'], y=data_XOne['sum_sales'])"
   ]
  },
  {
   "cell_type": "code",
   "execution_count": 32,
   "metadata": {},
   "outputs": [
    {
     "data": {
      "text/plain": [
       "0.3314972592629587"
      ]
     },
     "execution_count": 32,
     "metadata": {},
     "output_type": "execute_result"
    }
   ],
   "source": [
    "data_ps3 = data_top.query('platform == \"PS3\"')\n",
    "data_ps3['critic_score'].corr(data_ps3['sum_sales'])"
   ]
  },
  {
   "cell_type": "code",
   "execution_count": 33,
   "metadata": {},
   "outputs": [
    {
     "data": {
      "text/plain": [
       "<AxesSubplot:xlabel='critic_score', ylabel='sum_sales'>"
      ]
     },
     "execution_count": 33,
     "metadata": {},
     "output_type": "execute_result"
    },
    {
     "data": {
      "image/png": "[encoded data removed]",
      "text/plain": [
       "<Figure size 432x288 with 1 Axes>"
      ]
     },
     "metadata": {
      "needs_background": "light"
     },
     "output_type": "display_data"
    }
   ],
   "source": [
    "sns.scatterplot(x=data_ps3['critic_score'], y=data_ps3['sum_sales'])"
   ]
  },
  {
   "cell_type": "code",
   "execution_count": 34,
   "metadata": {},
   "outputs": [
    {
     "data": {
      "text/plain": [
       "0.3605734888507336"
      ]
     },
     "execution_count": 34,
     "metadata": {},
     "output_type": "execute_result"
    }
   ],
   "source": [
    "data_X360 = data_top.query('platform == \"X360\"')\n",
    "data_X360['critic_score'].corr(data_X360['sum_sales'])"
   ]
  },
  {
   "cell_type": "code",
   "execution_count": 35,
   "metadata": {},
   "outputs": [
    {
     "data": {
      "text/plain": [
       "<AxesSubplot:xlabel='critic_score', ylabel='sum_sales'>"
      ]
     },
     "execution_count": 35,
     "metadata": {},
     "output_type": "execute_result"
    },
    {
     "data": {
      "image/png": "[encoded data removed]",
      "text/plain": [
       "<Figure size 432x288 with 1 Axes>"
      ]
     },
     "metadata": {
      "needs_background": "light"
     },
     "output_type": "display_data"
    }
   ],
   "source": [
    "sns.scatterplot(x=data_X360['critic_score'], y=data_X360['sum_sales'])"
   ]
  },
  {
   "cell_type": "code",
   "execution_count": 36,
   "metadata": {},
   "outputs": [
    {
     "data": {
      "text/plain": [
       "0.3208028695360785"
      ]
     },
     "execution_count": 36,
     "metadata": {},
     "output_type": "execute_result"
    }
   ],
   "source": [
    "data_3DS = data_top.query('platform == \"3DS\"')\n",
    "data_3DS['critic_score'].corr(data_3DS['sum_sales'])"
   ]
  },
  {
   "cell_type": "code",
   "execution_count": 37,
   "metadata": {},
   "outputs": [
    {
     "data": {
      "text/plain": [
       "<AxesSubplot:xlabel='critic_score', ylabel='sum_sales'>"
      ]
     },
     "execution_count": 37,
     "metadata": {},
     "output_type": "execute_result"
    },
    {
     "data": {
      "image/png": "[encoded data removed]",
      "text/plain": [
       "<Figure size 432x288 with 1 Axes>"
      ]
     },
     "metadata": {
      "needs_background": "light"
     },
     "output_type": "display_data"
    }
   ],
   "source": [
    "sns.scatterplot(x=data_3DS['critic_score'], y=data_3DS['sum_sales'])"
   ]
  },
  {
   "cell_type": "code",
   "execution_count": 38,
   "metadata": {},
   "outputs": [
    {
     "data": {
      "text/plain": [
       "0.34837976012017485"
      ]
     },
     "execution_count": 38,
     "metadata": {},
     "output_type": "execute_result"
    }
   ],
   "source": [
    "data_WiiU = data_top.query('platform == \"WiiU\"')\n",
    "data_WiiU['critic_score'].corr(data_WiiU['sum_sales'])"
   ]
  },
  {
   "cell_type": "code",
   "execution_count": 39,
   "metadata": {},
   "outputs": [
    {
     "data": {
      "text/plain": [
       "<AxesSubplot:xlabel='critic_score', ylabel='sum_sales'>"
      ]
     },
     "execution_count": 39,
     "metadata": {},
     "output_type": "execute_result"
    },
    {
     "data": {
      "image/png": "[encoded data removed]",
      "text/plain": [
       "<Figure size 432x288 with 1 Axes>"
      ]
     },
     "metadata": {
      "needs_background": "light"
     },
     "output_type": "display_data"
    }
   ],
   "source": [
    "sns.scatterplot(x=data_WiiU['critic_score'], y=data_WiiU['sum_sales'])"
   ]
  },
  {
   "cell_type": "markdown",
   "metadata": {},
   "source": [
    "**По граффикам видно, что корреляция хоть и слабая, но есть. Но вообще, по моему личному мнению, оценка критиков никогда сильно не влияла на продажи. Львиную долю покупок совершают рядовые пользователи, а популярность среди них распростроняется посредством сарафанного радио. Грубо говоря, если пользователь захотел поиграть в игру, он посмотрит трейлер игры, обзор на нее от блогера или почитает отзывы инфлюенсеров. Оценки критиков конечно покажут насколько хорошо продумана и выполнена игра и помогут предположить количество продаж, но сам факт того, что игра понравится или не понравится, зависит от ее содержания, и продвижения, а не от оценок критиков. Предположим что 100 пользователей сыграли в игру и оценили её на 9-10, даже не зная того, что критики оценили ее также, а играть они в нее начали из за пиара или популярности на стриминговых платформах.**"
   ]
  },
  {
   "cell_type": "code",
   "execution_count": 40,
   "metadata": {},
   "outputs": [
    {
     "data": {
      "text/plain": [
       "genre\n",
       "Shooter       1.718106\n",
       "Sports        1.094274\n",
       "Platform      0.926471\n",
       "Action        0.885913\n",
       "Simulation    0.773636\n",
       "Name: sum_sales, dtype: float64"
      ]
     },
     "execution_count": 40,
     "metadata": {},
     "output_type": "execute_result"
    }
   ],
   "source": [
    "genre_popular = data_top.groupby('genre')['sum_sales'].mean()\n",
    "genre_popular.sort_values(ascending=False).head()"
   ]
  },
  {
   "cell_type": "code",
   "execution_count": 41,
   "metadata": {},
   "outputs": [
    {
     "data": {
      "text/plain": [
       "genre\n",
       "Platform        0.932173\n",
       "Shooter         0.795503\n",
       "Role-Playing    0.623872\n",
       "Racing          0.583403\n",
       "Sports          0.566980\n",
       "Name: sum_sales, dtype: float64"
      ]
     },
     "execution_count": 41,
     "metadata": {},
     "output_type": "execute_result"
    }
   ],
   "source": [
    "genre_popular_all = data.groupby('genre')['sum_sales'].mean()\n",
    "genre_popular_all.sort_values(ascending=False).head()"
   ]
  },
  {
   "cell_type": "markdown",
   "metadata": {},
   "source": [
    "**ТОП-5 жанров по среднему количеству продаж**\n",
    "\n",
    "**genre popular - 2012 - 2016**\n",
    "\n",
    "**genre popular all - за все время**\n",
    "\n",
    "**Мы можем наблюдать, что пятерка жанров за актуальный период следущая: шутеры, спорт, платформеры, экшн, симуляторы. уитывая что выборка с 1980 по 2016, не удивительно, что за все время лидируют платформеры, так как в ранние годы игровой индустрии выпускались только платформеры, а некоторые из них стали классикой и до сих пор на слуху. В актуальный же период с большим отрывом лидируют шутеры.**"
   ]
  },
  {
   "cell_type": "markdown",
   "metadata": {},
   "source": [
    "**ШАГ 4: создать портрет потребителя из разных стран**"
   ]
  },
  {
   "cell_type": "code",
   "execution_count": 42,
   "metadata": {},
   "outputs": [
    {
     "data": {
      "text/plain": [
       "platform\n",
       "X360    0.625673\n",
       "XOne    0.453036\n",
       "PS3     0.360327\n",
       "WiiU    0.342000\n",
       "PS4     0.336653\n",
       "Name: na_sales, dtype: float64"
      ]
     },
     "execution_count": 42,
     "metadata": {},
     "output_type": "execute_result"
    }
   ],
   "source": [
    "data_na_actual = data_top.groupby('platform')['na_sales'].mean().sort_values(ascending=False).head()\n",
    "data_na_actual"
   ]
  },
  {
   "cell_type": "code",
   "execution_count": 43,
   "metadata": {},
   "outputs": [
    {
     "data": {
      "text/plain": [
       "platform\n",
       "PS4     0.447968\n",
       "PS3     0.366822\n",
       "X360    0.334211\n",
       "XOne    0.251786\n",
       "WiiU    0.227778\n",
       "Name: eu_sales, dtype: float64"
      ]
     },
     "execution_count": 43,
     "metadata": {},
     "output_type": "execute_result"
    }
   ],
   "source": [
    "data_eu_actual = data_top.groupby('platform')['eu_sales'].mean().sort_values(ascending=False).head()\n",
    "data_eu_actual"
   ]
  },
  {
   "cell_type": "code",
   "execution_count": 44,
   "metadata": {},
   "outputs": [
    {
     "data": {
      "text/plain": [
       "platform\n",
       "3DS     0.255769\n",
       "WiiU    0.113000\n",
       "PS3     0.095234\n",
       "PS4     0.037570\n",
       "X360    0.008070\n",
       "Name: jp_sales, dtype: float64"
      ]
     },
     "execution_count": 44,
     "metadata": {},
     "output_type": "execute_result"
    }
   ],
   "source": [
    "data_jp_actual = data_top.groupby('platform')['jp_sales'].mean().sort_values(ascending=False).head()\n",
    "data_jp_actual"
   ]
  },
  {
   "cell_type": "code",
   "execution_count": 45,
   "metadata": {},
   "outputs": [
    {
     "data": {
      "text/plain": [
       "platform\n",
       "PS3     0.151308\n",
       "PS4     0.151195\n",
       "X360    0.090234\n",
       "XOne    0.069464\n",
       "WiiU    0.053556\n",
       "Name: other_sales, dtype: float64"
      ]
     },
     "execution_count": 45,
     "metadata": {},
     "output_type": "execute_result"
    }
   ],
   "source": [
    "data_other_actual = data_top.groupby('platform')['other_sales'].mean().sort_values(ascending=False).head()\n",
    "data_other_actual"
   ]
  },
  {
   "cell_type": "markdown",
   "metadata": {},
   "source": [
    "**Северна Америка: X360, XOne, PS3**\n",
    "\n",
    "**Европа: PS4, PS3, X360**\n",
    "\n",
    "**Япония: 3DS, WIIU, PS3**\n",
    "\n",
    "**Другие: PS4, PS3, X360**"
   ]
  },
  {
   "cell_type": "code",
   "execution_count": 46,
   "metadata": {},
   "outputs": [
    {
     "data": {
      "text/plain": [
       "genre\n",
       "Shooter     0.835758\n",
       "Sports      0.524032\n",
       "Platform    0.389412\n",
       "Action      0.380435\n",
       "Misc        0.278333\n",
       "Name: na_sales, dtype: float64"
      ]
     },
     "execution_count": 46,
     "metadata": {},
     "output_type": "execute_result"
    }
   ],
   "source": [
    "data_na_genre = data_top.groupby('genre')['na_sales'].mean().sort_values(ascending=False).head()\n",
    "data_na_genre"
   ]
  },
  {
   "cell_type": "code",
   "execution_count": 47,
   "metadata": {},
   "outputs": [
    {
     "data": {
      "text/plain": [
       "genre\n",
       "Shooter     0.618030\n",
       "Sports      0.409597\n",
       "Action      0.340435\n",
       "Racing      0.325667\n",
       "Platform    0.303529\n",
       "Name: eu_sales, dtype: float64"
      ]
     },
     "execution_count": 47,
     "metadata": {},
     "output_type": "execute_result"
    }
   ],
   "source": [
    "data_eu_genre = data_top.groupby('genre')['eu_sales'].mean().sort_values(ascending=False).head()\n",
    "data_eu_genre"
   ]
  },
  {
   "cell_type": "code",
   "execution_count": 48,
   "metadata": {},
   "outputs": [
    {
     "data": {
      "text/plain": [
       "genre\n",
       "Simulation      0.334091\n",
       "Platform        0.155490\n",
       "Role-Playing    0.130865\n",
       "Puzzle          0.090000\n",
       "Misc            0.067083\n",
       "Name: jp_sales, dtype: float64"
      ]
     },
     "execution_count": 48,
     "metadata": {},
     "output_type": "execute_result"
    }
   ],
   "source": [
    "data_jp_genre = data_top.groupby('genre')['jp_sales'].mean().sort_values(ascending=False).head()\n",
    "data_jp_genre"
   ]
  },
  {
   "cell_type": "code",
   "execution_count": 49,
   "metadata": {},
   "outputs": [
    {
     "data": {
      "text/plain": [
       "genre\n",
       "Shooter     0.207424\n",
       "Sports      0.140968\n",
       "Action      0.111594\n",
       "Platform    0.078039\n",
       "Racing      0.075333\n",
       "Name: other_sales, dtype: float64"
      ]
     },
     "execution_count": 49,
     "metadata": {},
     "output_type": "execute_result"
    }
   ],
   "source": [
    "data_other_genre = data_top.groupby('genre')['other_sales'].mean().sort_values(ascending=False).head()\n",
    "data_other_genre"
   ]
  },
  {
   "cell_type": "markdown",
   "metadata": {},
   "source": [
    "**В Северной Америке, Европе и Других странах почти одинаковы рейтинг по жанрам: Шутеры, платформеры, спорт, гонки. В японии же лидируют: Ролевые игры, платформеры и файтинги.**"
   ]
  },
  {
   "cell_type": "code",
   "execution_count": 50,
   "metadata": {},
   "outputs": [
    {
     "data": {
      "text/plain": [
       "rating\n",
       "M          0.616921\n",
       "E          0.430135\n",
       "E10+       0.277609\n",
       "T          0.220700\n",
       "unknown    0.054000\n",
       "Name: na_sales, dtype: float64"
      ]
     },
     "execution_count": 50,
     "metadata": {},
     "output_type": "execute_result"
    }
   ],
   "source": [
    "rating_na = data_top.groupby('rating')['na_sales'].mean().sort_values(ascending=False).head()\n",
    "rating_na"
   ]
  },
  {
   "cell_type": "code",
   "execution_count": 51,
   "metadata": {},
   "outputs": [
    {
     "data": {
      "text/plain": [
       "rating\n",
       "M          0.500305\n",
       "E          0.403857\n",
       "E10+       0.192174\n",
       "T          0.165761\n",
       "unknown    0.060500\n",
       "Name: eu_sales, dtype: float64"
      ]
     },
     "execution_count": 51,
     "metadata": {},
     "output_type": "execute_result"
    }
   ],
   "source": [
    "rating_eu = data_top.groupby('rating')['eu_sales'].mean().sort_values(ascending=False).head()\n",
    "rating_eu"
   ]
  },
  {
   "cell_type": "code",
   "execution_count": 52,
   "metadata": {},
   "outputs": [
    {
     "data": {
      "text/plain": [
       "rating\n",
       "E          0.114619\n",
       "T          0.069877\n",
       "M          0.055122\n",
       "E10+       0.040217\n",
       "unknown    0.011500\n",
       "Name: jp_sales, dtype: float64"
      ]
     },
     "execution_count": 52,
     "metadata": {},
     "output_type": "execute_result"
    }
   ],
   "source": [
    "rating_jp = data_top.groupby('rating')['jp_sales'].mean().sort_values(ascending=False).head()\n",
    "rating_jp"
   ]
  },
  {
   "cell_type": "code",
   "execution_count": 53,
   "metadata": {},
   "outputs": [
    {
     "data": {
      "text/plain": [
       "rating\n",
       "M          0.168659\n",
       "E          0.114753\n",
       "E10+       0.060489\n",
       "T          0.058807\n",
       "unknown    0.017000\n",
       "Name: other_sales, dtype: float64"
      ]
     },
     "execution_count": 53,
     "metadata": {},
     "output_type": "execute_result"
    }
   ],
   "source": [
    "rating_other = data_top.groupby('rating')['other_sales'].mean().sort_values(ascending=False).head()\n",
    "rating_other"
   ]
  },
  {
   "cell_type": "markdown",
   "metadata": {},
   "source": [
    "**Как и в случае с жанрами, в Америке, Европе и других регионах больше всего проданных копий с рейтингом ESRB: M И E.**\n",
    "\n",
    "**В японии же преобладает рейтинг: E И T. На первом месте стоит 'unknown' (замена пропусков).**        \n",
    "\n",
    "**Смотря на рейтинги в разных странах, можно заметить корреляцию с предыдущей частью исследования. Мы можем заметить, что в Японии мало проданых игр в жанре шутер. Проверяем какой рейтинг как правило присваивают шутерам (ниже) и видим, что спрос на игры с рейтингом M в Японии небольшой. Возможно это связано с тем, насколько я знаю, что страны Азии очень серьезно относятся к цензуре насилия, крови и тд.**\n",
    "\n",
    "**Факт из гугла (рейтинг преступности): США стоят на 56 месте по индексу преступности, в то время как Япония стоит аж на 130 месте, так что можно предположить, что игры с насилием у них не приживаются по признаку культуры.** "
   ]
  },
  {
   "cell_type": "code",
   "execution_count": 54,
   "metadata": {},
   "outputs": [
    {
     "name": "stdout",
     "output_type": "stream",
     "text": [
      "rating\n",
      "E10+        12\n",
      "M          142\n",
      "T           17\n",
      "unknown      2\n",
      "Name: name, dtype: int64\n"
     ]
    }
   ],
   "source": [
    "data_shoot = data_actual[data_actual['genre'] == 'Shooter']\n",
    "print(data_shoot.groupby('rating')['name'].count())"
   ]
  },
  {
   "cell_type": "markdown",
   "metadata": {},
   "source": [
    "**ВЫВОД: Мы составили портреты пользователей из разных стран, выяснили, что пользователей из европы, америки, и других стран предпочитают одинаковые платформы и жанры, глобальные отличия в предпочтениях имеет только Япония**"
   ]
  },
  {
   "cell_type": "markdown",
   "metadata": {},
   "source": [
    "---"
   ]
  },
  {
   "cell_type": "markdown",
   "metadata": {},
   "source": [
    "**H0: Средние пользовательские рейтинги платформ Xbox One равен среднему пользовательскому рейтингу PC .**\n",
    "\n",
    "**Н1: Средние пользовательские рейтинги платформ Xbox One НЕ равен среднему пользовательскому рейтингу РС.**"
   ]
  },
  {
   "cell_type": "code",
   "execution_count": 66,
   "metadata": {},
   "outputs": [
    {
     "name": "stdout",
     "output_type": "stream",
     "text": [
      "0.770137008370568\n",
      "Не удалось отвергнуть нулевую гипотезу\n"
     ]
    }
   ],
   "source": [
    "results = st.ttest_ind(\n",
    "    data_actual[data_actual['platform'] == 'XOne']['user_score'],\n",
    "    data_actual[data_actual['platform'] == 'PC']['user_score'], equal_var = False\n",
    ")\n",
    "\n",
    "alpha = .05\n",
    "\n",
    "print(results.pvalue)\n",
    "\n",
    "if alpha > results.pvalue:\n",
    "    print('Отвергаем нулевую гипотезу')\n",
    "else:\n",
    "    print('Не удалось отвергнуть нулевую гипотезу')"
   ]
  },
  {
   "cell_type": "markdown",
   "metadata": {},
   "source": [
    "**Н0: Средние пользовательские рейтинги жанра Action равны среднему пользовательскому рейтингу жанра Sports.**\n",
    "\n",
    "**Н1: Средние пользовательские рейтинги жанра Action НЕ равны среднему пользовательскому рейтингу жанра Sports.**"
   ]
  },
  {
   "cell_type": "code",
   "execution_count": 69,
   "metadata": {
    "scrolled": true
   },
   "outputs": [
    {
     "name": "stdout",
     "output_type": "stream",
     "text": [
      "3.4959224961369172e-12\n",
      "Отвергаем нулевую гипотезу\n"
     ]
    }
   ],
   "source": [
    "results = st.ttest_ind(\n",
    "    data_actual[data_actual['genre'] == 'Action']['user_score'],\n",
    "    data_actual[data_actual['genre'] == 'Sports']['user_score'], equal_var = False\n",
    ")\n",
    "\n",
    "alpha = .05\n",
    "\n",
    "print(results.pvalue)\n",
    "\n",
    "if alpha > results.pvalue:\n",
    "    print('Отвергаем нулевую гипотезу')\n",
    "else: \n",
    "    print('Не удалось отвергнуть нулевую гипотезу')"
   ]
  },
  {
   "cell_type": "markdown",
   "metadata": {},
   "source": [
    "**Нулевые гипотезы всегда про равенство, альтернативная гипотеза - противоположна нулевой**"
   ]
  },
  {
   "cell_type": "markdown",
   "metadata": {},
   "source": [
    "**Вывод:**\n",
    "* Япония отличается от других Стран по предпочтениям в жанрах и платформах\n",
    "* Раньше самым популярным жанром были платформеры, но с развитием игровой индустрии, стали популярны шутеры\n",
    "* Самыми популярными платформами в актуальное время являются XOne/X360, PS4/PS3, 3DS. Говоря более обобщенно: рынок сейчас за продукцией компаний SONY, MICROSOFT, NINTENDO, а актуальность самой продукции зависит от времени пребывания на рынке. Каждый фанат определенной платформы старается актуализировать свое игровое оборудование.\n",
    "\n"
   ]
  }
 ],
 "metadata": {
  "ExecuteTimeLog": [
   {
    "duration": 469,
    "start_time": "2022-08-22T09:42:24.491Z"
   },
   {
    "duration": 19,
    "start_time": "2022-08-22T09:42:38.468Z"
   },
   {
    "duration": 13,
    "start_time": "2022-08-22T09:42:50.656Z"
   },
   {
    "duration": 4,
    "start_time": "2022-08-22T09:43:45.197Z"
   },
   {
    "duration": 788,
    "start_time": "2022-08-22T09:45:55.944Z"
   },
   {
    "duration": 522,
    "start_time": "2022-08-22T09:46:13.712Z"
   },
   {
    "duration": 453,
    "start_time": "2022-08-22T09:46:28.273Z"
   },
   {
    "duration": 10,
    "start_time": "2022-08-22T09:47:03.553Z"
   },
   {
    "duration": 6,
    "start_time": "2022-08-22T10:20:30.804Z"
   },
   {
    "duration": 15,
    "start_time": "2022-08-22T10:20:41.650Z"
   },
   {
    "duration": 3,
    "start_time": "2022-08-22T10:20:50.800Z"
   },
   {
    "duration": 75,
    "start_time": "2022-08-22T10:20:51.973Z"
   },
   {
    "duration": 8,
    "start_time": "2022-08-22T10:21:13.575Z"
   },
   {
    "duration": 6,
    "start_time": "2022-08-22T10:22:35.105Z"
   },
   {
    "duration": 426,
    "start_time": "2022-08-22T10:22:43.849Z"
   },
   {
    "duration": 26,
    "start_time": "2022-08-22T10:22:44.277Z"
   },
   {
    "duration": 18,
    "start_time": "2022-08-22T10:22:44.305Z"
   },
   {
    "duration": 8,
    "start_time": "2022-08-22T10:22:44.325Z"
   },
   {
    "duration": 4,
    "start_time": "2022-08-22T10:22:44.334Z"
   },
   {
    "duration": 15,
    "start_time": "2022-08-22T10:22:44.339Z"
   },
   {
    "duration": 64,
    "start_time": "2022-08-22T10:28:48.049Z"
   },
   {
    "duration": 5,
    "start_time": "2022-08-22T10:28:54.502Z"
   },
   {
    "duration": 13,
    "start_time": "2022-08-22T10:28:56.700Z"
   },
   {
    "duration": 16,
    "start_time": "2022-08-22T10:31:13.182Z"
   },
   {
    "duration": 401,
    "start_time": "2022-08-22T10:31:20.141Z"
   },
   {
    "duration": 20,
    "start_time": "2022-08-22T10:31:20.544Z"
   },
   {
    "duration": 14,
    "start_time": "2022-08-22T10:31:20.566Z"
   },
   {
    "duration": 15,
    "start_time": "2022-08-22T10:31:20.583Z"
   },
   {
    "duration": 7,
    "start_time": "2022-08-22T10:31:20.602Z"
   },
   {
    "duration": 17,
    "start_time": "2022-08-22T10:31:20.611Z"
   },
   {
    "duration": 40,
    "start_time": "2022-08-22T13:43:17.201Z"
   },
   {
    "duration": 8,
    "start_time": "2022-08-22T13:43:26.728Z"
   },
   {
    "duration": 8,
    "start_time": "2022-08-22T13:43:40.950Z"
   },
   {
    "duration": 5,
    "start_time": "2022-08-22T13:53:55.319Z"
   },
   {
    "duration": 74,
    "start_time": "2022-08-22T13:54:42.919Z"
   },
   {
    "duration": 5,
    "start_time": "2022-08-22T13:54:50.935Z"
   },
   {
    "duration": 4,
    "start_time": "2022-08-22T13:58:41.957Z"
   },
   {
    "duration": 5,
    "start_time": "2022-08-22T14:07:07.194Z"
   },
   {
    "duration": 18,
    "start_time": "2022-08-22T14:07:16.303Z"
   },
   {
    "duration": 10,
    "start_time": "2022-08-22T14:14:45.294Z"
   },
   {
    "duration": 14,
    "start_time": "2022-08-22T14:14:45.842Z"
   },
   {
    "duration": 4,
    "start_time": "2022-08-22T14:17:38.026Z"
   },
   {
    "duration": 6,
    "start_time": "2022-08-22T14:17:42.350Z"
   },
   {
    "duration": 148,
    "start_time": "2022-08-22T14:18:22.181Z"
   },
   {
    "duration": 14,
    "start_time": "2022-08-22T14:19:04.865Z"
   },
   {
    "duration": 17,
    "start_time": "2022-08-22T14:27:12.561Z"
   },
   {
    "duration": 5,
    "start_time": "2022-08-22T14:56:03.309Z"
   },
   {
    "duration": 17,
    "start_time": "2022-08-22T14:56:05.091Z"
   },
   {
    "duration": 8,
    "start_time": "2022-08-22T14:56:31.173Z"
   },
   {
    "duration": 7,
    "start_time": "2022-08-22T14:56:53.964Z"
   },
   {
    "duration": 5,
    "start_time": "2022-08-22T14:57:21.112Z"
   },
   {
    "duration": 424,
    "start_time": "2022-08-22T14:58:06.278Z"
   },
   {
    "duration": 23,
    "start_time": "2022-08-22T14:58:06.704Z"
   },
   {
    "duration": 12,
    "start_time": "2022-08-22T14:58:06.729Z"
   },
   {
    "duration": 9,
    "start_time": "2022-08-22T14:58:06.743Z"
   },
   {
    "duration": 5,
    "start_time": "2022-08-22T14:58:06.754Z"
   },
   {
    "duration": 14,
    "start_time": "2022-08-22T14:58:06.761Z"
   },
   {
    "duration": 41,
    "start_time": "2022-08-22T14:58:06.784Z"
   },
   {
    "duration": 5,
    "start_time": "2022-08-22T14:58:06.827Z"
   },
   {
    "duration": 12,
    "start_time": "2022-08-22T14:58:06.834Z"
   },
   {
    "duration": 11,
    "start_time": "2022-08-22T14:58:06.849Z"
   },
   {
    "duration": 15,
    "start_time": "2022-08-22T14:58:06.862Z"
   },
   {
    "duration": 24,
    "start_time": "2022-08-22T14:58:06.878Z"
   },
   {
    "duration": 45,
    "start_time": "2022-08-22T14:58:29.066Z"
   },
   {
    "duration": 463,
    "start_time": "2022-08-22T14:59:00.998Z"
   },
   {
    "duration": 21,
    "start_time": "2022-08-22T14:59:01.463Z"
   },
   {
    "duration": 39,
    "start_time": "2022-08-22T14:59:01.488Z"
   },
   {
    "duration": 29,
    "start_time": "2022-08-22T14:59:01.529Z"
   },
   {
    "duration": 55,
    "start_time": "2022-08-22T14:59:01.561Z"
   },
   {
    "duration": 35,
    "start_time": "2022-08-22T14:59:01.617Z"
   },
   {
    "duration": 13,
    "start_time": "2022-08-22T14:59:01.654Z"
   },
   {
    "duration": 6,
    "start_time": "2022-08-22T14:59:01.669Z"
   },
   {
    "duration": 51,
    "start_time": "2022-08-22T14:59:01.677Z"
   },
   {
    "duration": 20,
    "start_time": "2022-08-22T14:59:01.730Z"
   },
   {
    "duration": 411,
    "start_time": "2022-08-22T14:59:50.749Z"
   },
   {
    "duration": 24,
    "start_time": "2022-08-22T14:59:51.163Z"
   },
   {
    "duration": 17,
    "start_time": "2022-08-22T14:59:51.200Z"
   },
   {
    "duration": 9,
    "start_time": "2022-08-22T14:59:51.219Z"
   },
   {
    "duration": 4,
    "start_time": "2022-08-22T14:59:51.229Z"
   },
   {
    "duration": 15,
    "start_time": "2022-08-22T14:59:51.235Z"
   },
   {
    "duration": 11,
    "start_time": "2022-08-22T14:59:51.251Z"
   },
   {
    "duration": 5,
    "start_time": "2022-08-22T14:59:51.263Z"
   },
   {
    "duration": 48,
    "start_time": "2022-08-22T14:59:51.269Z"
   },
   {
    "duration": 14,
    "start_time": "2022-08-22T14:59:51.320Z"
   },
   {
    "duration": 64,
    "start_time": "2022-08-22T15:00:29.242Z"
   },
   {
    "duration": 5,
    "start_time": "2022-08-22T15:00:35.135Z"
   },
   {
    "duration": 4,
    "start_time": "2022-08-22T15:51:28.428Z"
   },
   {
    "duration": 8,
    "start_time": "2022-08-22T15:51:37.210Z"
   },
   {
    "duration": 15,
    "start_time": "2022-08-22T15:52:29.629Z"
   },
   {
    "duration": 22,
    "start_time": "2022-08-22T15:53:36.036Z"
   },
   {
    "duration": 15,
    "start_time": "2022-08-22T15:54:13.063Z"
   },
   {
    "duration": 7,
    "start_time": "2022-08-22T15:57:25.455Z"
   },
   {
    "duration": 17,
    "start_time": "2022-08-22T15:57:34.877Z"
   },
   {
    "duration": 7,
    "start_time": "2022-08-22T15:57:44.801Z"
   },
   {
    "duration": 9,
    "start_time": "2022-08-22T15:59:19.721Z"
   },
   {
    "duration": 19,
    "start_time": "2022-08-22T15:59:25.982Z"
   },
   {
    "duration": 23,
    "start_time": "2022-08-22T16:00:14.871Z"
   },
   {
    "duration": 7,
    "start_time": "2022-08-22T16:01:40.435Z"
   },
   {
    "duration": 198,
    "start_time": "2022-08-22T16:07:50.366Z"
   },
   {
    "duration": 6,
    "start_time": "2022-08-22T16:09:09.560Z"
   },
   {
    "duration": 7,
    "start_time": "2022-08-22T16:09:33.701Z"
   },
   {
    "duration": 12,
    "start_time": "2022-08-22T16:21:26.958Z"
   },
   {
    "duration": 6,
    "start_time": "2022-08-22T16:23:03.212Z"
   },
   {
    "duration": 19,
    "start_time": "2022-08-22T16:23:34.471Z"
   },
   {
    "duration": 5,
    "start_time": "2022-08-22T16:24:01.126Z"
   },
   {
    "duration": 429,
    "start_time": "2022-08-22T16:24:23.623Z"
   },
   {
    "duration": 21,
    "start_time": "2022-08-22T16:24:24.054Z"
   },
   {
    "duration": 22,
    "start_time": "2022-08-22T16:24:24.078Z"
   },
   {
    "duration": 34,
    "start_time": "2022-08-22T16:24:24.111Z"
   },
   {
    "duration": 12,
    "start_time": "2022-08-22T16:24:24.148Z"
   },
   {
    "duration": 18,
    "start_time": "2022-08-22T16:24:24.161Z"
   },
   {
    "duration": 45,
    "start_time": "2022-08-22T16:24:24.180Z"
   },
   {
    "duration": 5,
    "start_time": "2022-08-22T16:24:24.226Z"
   },
   {
    "duration": 6,
    "start_time": "2022-08-22T16:24:24.233Z"
   },
   {
    "duration": 84,
    "start_time": "2022-08-22T16:24:24.240Z"
   },
   {
    "duration": 0,
    "start_time": "2022-08-22T16:24:24.328Z"
   },
   {
    "duration": 0,
    "start_time": "2022-08-22T16:24:24.329Z"
   },
   {
    "duration": 0,
    "start_time": "2022-08-22T16:24:24.331Z"
   },
   {
    "duration": 0,
    "start_time": "2022-08-22T16:24:24.332Z"
   },
   {
    "duration": 0,
    "start_time": "2022-08-22T16:24:24.333Z"
   },
   {
    "duration": 1,
    "start_time": "2022-08-22T16:24:24.334Z"
   },
   {
    "duration": 0,
    "start_time": "2022-08-22T16:24:24.336Z"
   },
   {
    "duration": 0,
    "start_time": "2022-08-22T16:24:24.337Z"
   },
   {
    "duration": 15,
    "start_time": "2022-08-22T16:24:35.819Z"
   },
   {
    "duration": 5,
    "start_time": "2022-08-22T16:25:29.615Z"
   },
   {
    "duration": 465,
    "start_time": "2022-08-22T16:26:12.433Z"
   },
   {
    "duration": 24,
    "start_time": "2022-08-22T16:26:12.904Z"
   },
   {
    "duration": 13,
    "start_time": "2022-08-22T16:26:12.930Z"
   },
   {
    "duration": 9,
    "start_time": "2022-08-22T16:26:12.945Z"
   },
   {
    "duration": 63,
    "start_time": "2022-08-22T16:26:12.956Z"
   },
   {
    "duration": 16,
    "start_time": "2022-08-22T16:26:13.020Z"
   },
   {
    "duration": 10,
    "start_time": "2022-08-22T16:26:13.037Z"
   },
   {
    "duration": 5,
    "start_time": "2022-08-22T16:26:13.049Z"
   },
   {
    "duration": 5,
    "start_time": "2022-08-22T16:26:13.055Z"
   },
   {
    "duration": 9,
    "start_time": "2022-08-22T16:26:13.061Z"
   },
   {
    "duration": 9,
    "start_time": "2022-08-22T16:26:13.071Z"
   },
   {
    "duration": 25,
    "start_time": "2022-08-22T16:26:13.081Z"
   },
   {
    "duration": 7,
    "start_time": "2022-08-22T16:26:13.109Z"
   },
   {
    "duration": 9,
    "start_time": "2022-08-22T16:26:13.118Z"
   },
   {
    "duration": 14,
    "start_time": "2022-08-22T16:26:13.129Z"
   },
   {
    "duration": 7,
    "start_time": "2022-08-22T16:26:39.570Z"
   },
   {
    "duration": 8,
    "start_time": "2022-08-22T16:26:59.061Z"
   },
   {
    "duration": 6,
    "start_time": "2022-08-22T16:28:17.641Z"
   },
   {
    "duration": 12,
    "start_time": "2022-08-22T16:28:24.720Z"
   },
   {
    "duration": 411,
    "start_time": "2022-08-22T16:28:51.953Z"
   },
   {
    "duration": 22,
    "start_time": "2022-08-22T16:28:52.365Z"
   },
   {
    "duration": 43,
    "start_time": "2022-08-22T16:28:52.392Z"
   },
   {
    "duration": 11,
    "start_time": "2022-08-22T16:28:52.437Z"
   },
   {
    "duration": 23,
    "start_time": "2022-08-22T16:28:52.450Z"
   },
   {
    "duration": 51,
    "start_time": "2022-08-22T16:28:52.474Z"
   },
   {
    "duration": 27,
    "start_time": "2022-08-22T16:28:52.527Z"
   },
   {
    "duration": 13,
    "start_time": "2022-08-22T16:28:52.555Z"
   },
   {
    "duration": 37,
    "start_time": "2022-08-22T16:28:52.569Z"
   },
   {
    "duration": 16,
    "start_time": "2022-08-22T16:28:52.608Z"
   },
   {
    "duration": 11,
    "start_time": "2022-08-22T16:28:52.625Z"
   },
   {
    "duration": 5,
    "start_time": "2022-08-22T16:28:52.638Z"
   },
   {
    "duration": 8,
    "start_time": "2022-08-22T16:28:52.644Z"
   },
   {
    "duration": 9,
    "start_time": "2022-08-22T16:28:52.654Z"
   },
   {
    "duration": 15,
    "start_time": "2022-08-22T16:28:52.664Z"
   },
   {
    "duration": 435,
    "start_time": "2022-08-22T16:29:00.440Z"
   },
   {
    "duration": 24,
    "start_time": "2022-08-22T16:29:00.877Z"
   },
   {
    "duration": 46,
    "start_time": "2022-08-22T16:29:00.903Z"
   },
   {
    "duration": 15,
    "start_time": "2022-08-22T16:29:00.951Z"
   },
   {
    "duration": 65,
    "start_time": "2022-08-22T16:29:00.968Z"
   },
   {
    "duration": 23,
    "start_time": "2022-08-22T16:29:01.035Z"
   },
   {
    "duration": 15,
    "start_time": "2022-08-22T16:29:01.060Z"
   },
   {
    "duration": 11,
    "start_time": "2022-08-22T16:29:01.077Z"
   },
   {
    "duration": 30,
    "start_time": "2022-08-22T16:29:01.095Z"
   },
   {
    "duration": 18,
    "start_time": "2022-08-22T16:29:01.127Z"
   },
   {
    "duration": 19,
    "start_time": "2022-08-22T16:29:01.147Z"
   },
   {
    "duration": 7,
    "start_time": "2022-08-22T16:29:01.168Z"
   },
   {
    "duration": 41,
    "start_time": "2022-08-22T16:29:01.177Z"
   },
   {
    "duration": 21,
    "start_time": "2022-08-22T16:29:01.221Z"
   },
   {
    "duration": 25,
    "start_time": "2022-08-22T16:29:01.244Z"
   },
   {
    "duration": 6,
    "start_time": "2022-08-22T16:30:46.995Z"
   },
   {
    "duration": 10,
    "start_time": "2022-08-22T16:30:58.358Z"
   },
   {
    "duration": 4,
    "start_time": "2022-08-22T16:31:53.836Z"
   },
   {
    "duration": 16,
    "start_time": "2022-08-22T16:31:58.139Z"
   },
   {
    "duration": 97,
    "start_time": "2022-08-22T16:45:12.652Z"
   },
   {
    "duration": 3,
    "start_time": "2022-08-22T16:50:03.428Z"
   },
   {
    "duration": 6,
    "start_time": "2022-08-22T16:50:11.499Z"
   },
   {
    "duration": 9,
    "start_time": "2022-08-22T16:50:41.022Z"
   },
   {
    "duration": 9,
    "start_time": "2022-08-22T17:17:55.266Z"
   },
   {
    "duration": 21,
    "start_time": "2022-08-22T17:18:04.617Z"
   },
   {
    "duration": 5,
    "start_time": "2022-08-22T17:19:09.132Z"
   },
   {
    "duration": 515,
    "start_time": "2022-08-23T12:03:56.248Z"
   },
   {
    "duration": 21,
    "start_time": "2022-08-23T12:03:56.766Z"
   },
   {
    "duration": 14,
    "start_time": "2022-08-23T12:03:56.789Z"
   },
   {
    "duration": 10,
    "start_time": "2022-08-23T12:03:56.805Z"
   },
   {
    "duration": 9,
    "start_time": "2022-08-23T12:03:56.816Z"
   },
   {
    "duration": 14,
    "start_time": "2022-08-23T12:03:56.827Z"
   },
   {
    "duration": 11,
    "start_time": "2022-08-23T12:03:56.844Z"
   },
   {
    "duration": 4,
    "start_time": "2022-08-23T12:03:56.857Z"
   },
   {
    "duration": 39,
    "start_time": "2022-08-23T12:03:56.864Z"
   },
   {
    "duration": 5,
    "start_time": "2022-08-23T12:03:56.906Z"
   },
   {
    "duration": 7,
    "start_time": "2022-08-23T12:03:56.913Z"
   },
   {
    "duration": 8,
    "start_time": "2022-08-23T12:03:56.921Z"
   },
   {
    "duration": 9,
    "start_time": "2022-08-23T12:03:56.930Z"
   },
   {
    "duration": 7,
    "start_time": "2022-08-23T12:03:56.941Z"
   },
   {
    "duration": 11,
    "start_time": "2022-08-23T12:03:56.950Z"
   },
   {
    "duration": 46,
    "start_time": "2022-08-23T12:03:56.963Z"
   },
   {
    "duration": 86,
    "start_time": "2022-08-23T12:09:58.625Z"
   },
   {
    "duration": 5,
    "start_time": "2022-08-23T12:10:21.428Z"
   },
   {
    "duration": 7,
    "start_time": "2022-08-23T12:12:23.712Z"
   },
   {
    "duration": 8,
    "start_time": "2022-08-23T13:23:03.849Z"
   },
   {
    "duration": 457,
    "start_time": "2022-08-23T13:23:17.253Z"
   },
   {
    "duration": 23,
    "start_time": "2022-08-23T13:23:17.712Z"
   },
   {
    "duration": 15,
    "start_time": "2022-08-23T13:23:17.737Z"
   },
   {
    "duration": 10,
    "start_time": "2022-08-23T13:23:17.755Z"
   },
   {
    "duration": 7,
    "start_time": "2022-08-23T13:23:17.766Z"
   },
   {
    "duration": 38,
    "start_time": "2022-08-23T13:23:17.775Z"
   },
   {
    "duration": 11,
    "start_time": "2022-08-23T13:23:17.815Z"
   },
   {
    "duration": 4,
    "start_time": "2022-08-23T13:23:17.828Z"
   },
   {
    "duration": 7,
    "start_time": "2022-08-23T13:23:17.833Z"
   },
   {
    "duration": 5,
    "start_time": "2022-08-23T13:23:17.843Z"
   },
   {
    "duration": 8,
    "start_time": "2022-08-23T13:23:17.849Z"
   },
   {
    "duration": 9,
    "start_time": "2022-08-23T13:23:17.859Z"
   },
   {
    "duration": 38,
    "start_time": "2022-08-23T13:23:17.870Z"
   },
   {
    "duration": 5,
    "start_time": "2022-08-23T13:23:17.910Z"
   },
   {
    "duration": 17,
    "start_time": "2022-08-23T13:23:17.916Z"
   },
   {
    "duration": 90,
    "start_time": "2022-08-23T13:23:17.935Z"
   },
   {
    "duration": 572,
    "start_time": "2022-08-23T13:23:28.237Z"
   },
   {
    "duration": 10,
    "start_time": "2022-08-23T13:24:30.824Z"
   },
   {
    "duration": 26,
    "start_time": "2022-08-23T13:25:02.746Z"
   },
   {
    "duration": 25,
    "start_time": "2022-08-23T13:56:37.133Z"
   },
   {
    "duration": 6,
    "start_time": "2022-08-23T14:01:34.760Z"
   },
   {
    "duration": 10,
    "start_time": "2022-08-23T14:01:40.314Z"
   },
   {
    "duration": 25,
    "start_time": "2022-08-23T14:01:46.609Z"
   },
   {
    "duration": 5,
    "start_time": "2022-08-23T14:02:04.274Z"
   },
   {
    "duration": 9,
    "start_time": "2022-08-23T14:02:05.196Z"
   },
   {
    "duration": 24,
    "start_time": "2022-08-23T14:02:08.737Z"
   },
   {
    "duration": 4,
    "start_time": "2022-08-23T14:02:13.555Z"
   },
   {
    "duration": 11,
    "start_time": "2022-08-23T14:02:14.133Z"
   },
   {
    "duration": 25,
    "start_time": "2022-08-23T14:02:14.581Z"
   },
   {
    "duration": 21,
    "start_time": "2022-08-23T14:02:35.184Z"
   },
   {
    "duration": 25,
    "start_time": "2022-08-23T14:08:29.821Z"
   },
   {
    "duration": 492,
    "start_time": "2022-08-23T14:08:39.837Z"
   },
   {
    "duration": 26,
    "start_time": "2022-08-23T14:08:40.331Z"
   },
   {
    "duration": 17,
    "start_time": "2022-08-23T14:08:40.359Z"
   },
   {
    "duration": 26,
    "start_time": "2022-08-23T14:08:40.379Z"
   },
   {
    "duration": 8,
    "start_time": "2022-08-23T14:08:40.406Z"
   },
   {
    "duration": 27,
    "start_time": "2022-08-23T14:08:40.416Z"
   },
   {
    "duration": 23,
    "start_time": "2022-08-23T14:08:40.446Z"
   },
   {
    "duration": 5,
    "start_time": "2022-08-23T14:08:40.472Z"
   },
   {
    "duration": 10,
    "start_time": "2022-08-23T14:08:40.480Z"
   },
   {
    "duration": 7,
    "start_time": "2022-08-23T14:08:40.502Z"
   },
   {
    "duration": 10,
    "start_time": "2022-08-23T14:08:40.511Z"
   },
   {
    "duration": 7,
    "start_time": "2022-08-23T14:08:40.523Z"
   },
   {
    "duration": 17,
    "start_time": "2022-08-23T14:08:40.532Z"
   },
   {
    "duration": 28,
    "start_time": "2022-08-23T14:08:40.551Z"
   },
   {
    "duration": 435,
    "start_time": "2022-08-23T14:09:10.479Z"
   },
   {
    "duration": 1187,
    "start_time": "2022-08-23T14:09:27.607Z"
   },
   {
    "duration": 361,
    "start_time": "2022-08-23T14:09:46.270Z"
   },
   {
    "duration": 270,
    "start_time": "2022-08-23T14:10:00.623Z"
   },
   {
    "duration": 1229,
    "start_time": "2022-08-23T14:10:11.040Z"
   },
   {
    "duration": 190,
    "start_time": "2022-08-23T14:10:37.929Z"
   },
   {
    "duration": 1189,
    "start_time": "2022-08-23T14:10:54.985Z"
   },
   {
    "duration": 1160,
    "start_time": "2022-08-23T14:11:04.071Z"
   },
   {
    "duration": 5,
    "start_time": "2022-08-23T14:12:39.309Z"
   },
   {
    "duration": 5,
    "start_time": "2022-08-23T14:13:04.372Z"
   },
   {
    "duration": 15,
    "start_time": "2022-08-23T14:14:44.962Z"
   },
   {
    "duration": 25,
    "start_time": "2022-08-23T14:16:31.606Z"
   },
   {
    "duration": 18,
    "start_time": "2022-08-23T14:16:56.631Z"
   },
   {
    "duration": 13,
    "start_time": "2022-08-23T14:18:04.880Z"
   },
   {
    "duration": 18,
    "start_time": "2022-08-23T14:48:37.316Z"
   },
   {
    "duration": 16,
    "start_time": "2022-08-23T14:49:30.320Z"
   },
   {
    "duration": 16,
    "start_time": "2022-08-23T14:49:54.306Z"
   },
   {
    "duration": 7,
    "start_time": "2022-08-23T14:50:57.135Z"
   },
   {
    "duration": 5,
    "start_time": "2022-08-23T14:53:45.988Z"
   },
   {
    "duration": 7,
    "start_time": "2022-08-23T14:54:20.858Z"
   },
   {
    "duration": 10,
    "start_time": "2022-08-23T14:54:25.594Z"
   },
   {
    "duration": 5,
    "start_time": "2022-08-23T14:54:33.840Z"
   },
   {
    "duration": 9,
    "start_time": "2022-08-23T14:54:34.418Z"
   },
   {
    "duration": 15,
    "start_time": "2022-08-23T14:54:35.449Z"
   },
   {
    "duration": 489,
    "start_time": "2022-08-23T14:55:05.944Z"
   },
   {
    "duration": 24,
    "start_time": "2022-08-23T14:55:06.436Z"
   },
   {
    "duration": 18,
    "start_time": "2022-08-23T14:55:06.463Z"
   },
   {
    "duration": 23,
    "start_time": "2022-08-23T14:55:06.484Z"
   },
   {
    "duration": 7,
    "start_time": "2022-08-23T14:55:06.509Z"
   },
   {
    "duration": 18,
    "start_time": "2022-08-23T14:55:06.517Z"
   },
   {
    "duration": 14,
    "start_time": "2022-08-23T14:55:06.537Z"
   },
   {
    "duration": 8,
    "start_time": "2022-08-23T14:55:06.553Z"
   },
   {
    "duration": 10,
    "start_time": "2022-08-23T14:55:06.563Z"
   },
   {
    "duration": 11,
    "start_time": "2022-08-23T14:55:06.575Z"
   },
   {
    "duration": 18,
    "start_time": "2022-08-23T14:55:06.588Z"
   },
   {
    "duration": 12,
    "start_time": "2022-08-23T14:55:06.608Z"
   },
   {
    "duration": 11,
    "start_time": "2022-08-23T14:55:06.622Z"
   },
   {
    "duration": 6,
    "start_time": "2022-08-23T14:55:06.635Z"
   },
   {
    "duration": 10,
    "start_time": "2022-08-23T14:55:06.643Z"
   },
   {
    "duration": 10,
    "start_time": "2022-08-23T14:55:06.655Z"
   },
   {
    "duration": 39,
    "start_time": "2022-08-23T14:55:06.667Z"
   },
   {
    "duration": 7,
    "start_time": "2022-08-23T14:55:36.402Z"
   },
   {
    "duration": 442,
    "start_time": "2022-08-23T14:55:51.846Z"
   },
   {
    "duration": 25,
    "start_time": "2022-08-23T14:55:52.290Z"
   },
   {
    "duration": 19,
    "start_time": "2022-08-23T14:55:52.317Z"
   },
   {
    "duration": 16,
    "start_time": "2022-08-23T14:55:52.340Z"
   },
   {
    "duration": 9,
    "start_time": "2022-08-23T14:55:52.357Z"
   },
   {
    "duration": 17,
    "start_time": "2022-08-23T14:55:52.368Z"
   },
   {
    "duration": 11,
    "start_time": "2022-08-23T14:55:52.402Z"
   },
   {
    "duration": 12,
    "start_time": "2022-08-23T14:55:52.415Z"
   },
   {
    "duration": 6,
    "start_time": "2022-08-23T14:55:52.430Z"
   },
   {
    "duration": 8,
    "start_time": "2022-08-23T14:55:52.439Z"
   },
   {
    "duration": 13,
    "start_time": "2022-08-23T14:55:52.450Z"
   },
   {
    "duration": 8,
    "start_time": "2022-08-23T14:55:52.465Z"
   },
   {
    "duration": 7,
    "start_time": "2022-08-23T14:55:52.475Z"
   },
   {
    "duration": 24,
    "start_time": "2022-08-23T14:55:52.484Z"
   },
   {
    "duration": 20,
    "start_time": "2022-08-23T14:55:52.510Z"
   },
   {
    "duration": 24,
    "start_time": "2022-08-23T14:55:52.532Z"
   },
   {
    "duration": 82,
    "start_time": "2022-08-23T14:57:56.781Z"
   },
   {
    "duration": 4,
    "start_time": "2022-08-23T15:00:09.696Z"
   },
   {
    "duration": 6,
    "start_time": "2022-08-23T15:00:21.400Z"
   },
   {
    "duration": 4,
    "start_time": "2022-08-23T15:01:14.554Z"
   },
   {
    "duration": 20,
    "start_time": "2022-08-23T15:01:16.093Z"
   },
   {
    "duration": 10,
    "start_time": "2022-08-23T15:02:45.064Z"
   },
   {
    "duration": 5,
    "start_time": "2022-08-23T15:04:24.801Z"
   },
   {
    "duration": 4,
    "start_time": "2022-08-23T15:04:25.853Z"
   },
   {
    "duration": 10,
    "start_time": "2022-08-23T15:07:48.993Z"
   },
   {
    "duration": 25,
    "start_time": "2022-08-23T15:08:10.245Z"
   },
   {
    "duration": 11,
    "start_time": "2022-08-23T15:22:25.704Z"
   },
   {
    "duration": 9,
    "start_time": "2022-08-23T15:26:55.164Z"
   },
   {
    "duration": 5,
    "start_time": "2022-08-23T15:32:39.473Z"
   },
   {
    "duration": 10,
    "start_time": "2022-08-23T15:32:40.031Z"
   },
   {
    "duration": 15,
    "start_time": "2022-08-23T15:32:58.589Z"
   },
   {
    "duration": 466,
    "start_time": "2022-08-23T15:34:24.348Z"
   },
   {
    "duration": 22,
    "start_time": "2022-08-23T15:34:24.816Z"
   },
   {
    "duration": 16,
    "start_time": "2022-08-23T15:34:24.840Z"
   },
   {
    "duration": 14,
    "start_time": "2022-08-23T15:34:24.859Z"
   },
   {
    "duration": 4,
    "start_time": "2022-08-23T15:34:24.875Z"
   },
   {
    "duration": 20,
    "start_time": "2022-08-23T15:34:24.904Z"
   },
   {
    "duration": 13,
    "start_time": "2022-08-23T15:34:24.925Z"
   },
   {
    "duration": 4,
    "start_time": "2022-08-23T15:34:24.940Z"
   },
   {
    "duration": 7,
    "start_time": "2022-08-23T15:34:24.946Z"
   },
   {
    "duration": 5,
    "start_time": "2022-08-23T15:34:24.956Z"
   },
   {
    "duration": 8,
    "start_time": "2022-08-23T15:34:24.963Z"
   },
   {
    "duration": 31,
    "start_time": "2022-08-23T15:34:24.973Z"
   },
   {
    "duration": 7,
    "start_time": "2022-08-23T15:34:25.006Z"
   },
   {
    "duration": 7,
    "start_time": "2022-08-23T15:34:25.015Z"
   },
   {
    "duration": 5,
    "start_time": "2022-08-23T15:34:25.023Z"
   },
   {
    "duration": 14,
    "start_time": "2022-08-23T15:34:25.030Z"
   },
   {
    "duration": 5,
    "start_time": "2022-08-23T15:34:25.046Z"
   },
   {
    "duration": 23,
    "start_time": "2022-08-23T15:34:25.053Z"
   },
   {
    "duration": 15,
    "start_time": "2022-08-23T15:34:25.104Z"
   },
   {
    "duration": 499,
    "start_time": "2022-08-23T15:38:40.362Z"
   },
   {
    "duration": 33,
    "start_time": "2022-08-23T15:38:40.864Z"
   },
   {
    "duration": 16,
    "start_time": "2022-08-23T15:38:40.900Z"
   },
   {
    "duration": 10,
    "start_time": "2022-08-23T15:38:40.918Z"
   },
   {
    "duration": 14,
    "start_time": "2022-08-23T15:38:40.930Z"
   },
   {
    "duration": 25,
    "start_time": "2022-08-23T15:38:40.946Z"
   },
   {
    "duration": 14,
    "start_time": "2022-08-23T15:38:40.973Z"
   },
   {
    "duration": 14,
    "start_time": "2022-08-23T15:38:40.989Z"
   },
   {
    "duration": 5,
    "start_time": "2022-08-23T15:38:41.004Z"
   },
   {
    "duration": 12,
    "start_time": "2022-08-23T15:38:41.012Z"
   },
   {
    "duration": 11,
    "start_time": "2022-08-23T15:38:41.026Z"
   },
   {
    "duration": 8,
    "start_time": "2022-08-23T15:38:41.039Z"
   },
   {
    "duration": 5,
    "start_time": "2022-08-23T15:38:41.050Z"
   },
   {
    "duration": 19,
    "start_time": "2022-08-23T15:38:41.057Z"
   },
   {
    "duration": 25,
    "start_time": "2022-08-23T15:38:41.078Z"
   },
   {
    "duration": 14,
    "start_time": "2022-08-23T15:38:41.106Z"
   },
   {
    "duration": 15,
    "start_time": "2022-08-23T15:38:41.122Z"
   },
   {
    "duration": 26,
    "start_time": "2022-08-23T15:39:47.319Z"
   },
   {
    "duration": 502,
    "start_time": "2022-08-23T15:39:56.890Z"
   },
   {
    "duration": 23,
    "start_time": "2022-08-23T15:39:57.394Z"
   },
   {
    "duration": 15,
    "start_time": "2022-08-23T15:39:57.419Z"
   },
   {
    "duration": 14,
    "start_time": "2022-08-23T15:39:57.436Z"
   },
   {
    "duration": 7,
    "start_time": "2022-08-23T15:39:57.452Z"
   },
   {
    "duration": 44,
    "start_time": "2022-08-23T15:39:57.461Z"
   },
   {
    "duration": 23,
    "start_time": "2022-08-23T15:39:57.507Z"
   },
   {
    "duration": 7,
    "start_time": "2022-08-23T15:39:57.531Z"
   },
   {
    "duration": 10,
    "start_time": "2022-08-23T15:39:57.540Z"
   },
   {
    "duration": 12,
    "start_time": "2022-08-23T15:39:57.553Z"
   },
   {
    "duration": 11,
    "start_time": "2022-08-23T15:39:57.568Z"
   },
   {
    "duration": 7,
    "start_time": "2022-08-23T15:39:57.581Z"
   },
   {
    "duration": 5,
    "start_time": "2022-08-23T15:39:57.603Z"
   },
   {
    "duration": 13,
    "start_time": "2022-08-23T15:39:57.609Z"
   },
   {
    "duration": 8,
    "start_time": "2022-08-23T15:39:57.623Z"
   },
   {
    "duration": 12,
    "start_time": "2022-08-23T15:39:57.632Z"
   },
   {
    "duration": 15,
    "start_time": "2022-08-23T15:39:57.646Z"
   },
   {
    "duration": 5,
    "start_time": "2022-08-23T16:17:33.991Z"
   },
   {
    "duration": 8,
    "start_time": "2022-08-23T16:18:35.856Z"
   },
   {
    "duration": 518,
    "start_time": "2022-08-24T08:43:30.561Z"
   },
   {
    "duration": 21,
    "start_time": "2022-08-24T08:43:31.081Z"
   },
   {
    "duration": 18,
    "start_time": "2022-08-24T08:43:31.103Z"
   },
   {
    "duration": 15,
    "start_time": "2022-08-24T08:43:31.123Z"
   },
   {
    "duration": 15,
    "start_time": "2022-08-24T08:43:31.140Z"
   },
   {
    "duration": 27,
    "start_time": "2022-08-24T08:43:31.157Z"
   },
   {
    "duration": 20,
    "start_time": "2022-08-24T08:43:31.185Z"
   },
   {
    "duration": 10,
    "start_time": "2022-08-24T08:43:31.206Z"
   },
   {
    "duration": 14,
    "start_time": "2022-08-24T08:43:31.218Z"
   },
   {
    "duration": 7,
    "start_time": "2022-08-24T08:43:31.234Z"
   },
   {
    "duration": 14,
    "start_time": "2022-08-24T08:43:31.242Z"
   },
   {
    "duration": 6,
    "start_time": "2022-08-24T08:43:31.258Z"
   },
   {
    "duration": 7,
    "start_time": "2022-08-24T08:43:31.265Z"
   },
   {
    "duration": 11,
    "start_time": "2022-08-24T08:43:31.273Z"
   },
   {
    "duration": 4,
    "start_time": "2022-08-24T08:43:31.285Z"
   },
   {
    "duration": 11,
    "start_time": "2022-08-24T08:43:31.291Z"
   },
   {
    "duration": 8,
    "start_time": "2022-08-24T08:43:31.303Z"
   },
   {
    "duration": 26,
    "start_time": "2022-08-24T08:43:31.312Z"
   },
   {
    "duration": 5,
    "start_time": "2022-08-24T08:44:42.104Z"
   },
   {
    "duration": 7,
    "start_time": "2022-08-24T08:44:50.956Z"
   },
   {
    "duration": 7,
    "start_time": "2022-08-24T08:45:13.796Z"
   },
   {
    "duration": 7,
    "start_time": "2022-08-24T08:46:07.288Z"
   },
   {
    "duration": 253,
    "start_time": "2022-08-24T09:20:09.037Z"
   },
   {
    "duration": 1083,
    "start_time": "2022-08-24T09:22:28.334Z"
   },
   {
    "duration": 821,
    "start_time": "2022-08-24T09:23:45.728Z"
   },
   {
    "duration": 9,
    "start_time": "2022-08-24T09:45:47.559Z"
   },
   {
    "duration": 9,
    "start_time": "2022-08-24T09:47:30.347Z"
   },
   {
    "duration": 11,
    "start_time": "2022-08-24T09:48:02.896Z"
   },
   {
    "duration": 491,
    "start_time": "2022-08-24T09:48:42.513Z"
   },
   {
    "duration": 19,
    "start_time": "2022-08-24T09:48:43.006Z"
   },
   {
    "duration": 14,
    "start_time": "2022-08-24T09:48:43.026Z"
   },
   {
    "duration": 8,
    "start_time": "2022-08-24T09:48:43.042Z"
   },
   {
    "duration": 9,
    "start_time": "2022-08-24T09:48:43.051Z"
   },
   {
    "duration": 29,
    "start_time": "2022-08-24T09:48:43.062Z"
   },
   {
    "duration": 14,
    "start_time": "2022-08-24T09:48:43.092Z"
   },
   {
    "duration": 6,
    "start_time": "2022-08-24T09:48:43.107Z"
   },
   {
    "duration": 7,
    "start_time": "2022-08-24T09:48:43.114Z"
   },
   {
    "duration": 6,
    "start_time": "2022-08-24T09:48:43.123Z"
   },
   {
    "duration": 7,
    "start_time": "2022-08-24T09:48:43.130Z"
   },
   {
    "duration": 5,
    "start_time": "2022-08-24T09:48:43.139Z"
   },
   {
    "duration": 57,
    "start_time": "2022-08-24T09:48:43.145Z"
   },
   {
    "duration": 11,
    "start_time": "2022-08-24T09:48:43.204Z"
   },
   {
    "duration": 4,
    "start_time": "2022-08-24T09:48:43.216Z"
   },
   {
    "duration": 8,
    "start_time": "2022-08-24T09:48:43.221Z"
   },
   {
    "duration": 9,
    "start_time": "2022-08-24T09:48:43.230Z"
   },
   {
    "duration": 15,
    "start_time": "2022-08-24T09:48:43.240Z"
   },
   {
    "duration": 29,
    "start_time": "2022-08-24T09:48:43.257Z"
   },
   {
    "duration": 14,
    "start_time": "2022-08-24T09:48:43.287Z"
   },
   {
    "duration": 64,
    "start_time": "2022-08-24T09:50:52.232Z"
   },
   {
    "duration": 8,
    "start_time": "2022-08-24T09:51:08.366Z"
   },
   {
    "duration": 8,
    "start_time": "2022-08-24T09:51:22.125Z"
   },
   {
    "duration": 11,
    "start_time": "2022-08-24T09:51:32.307Z"
   },
   {
    "duration": 10,
    "start_time": "2022-08-24T09:51:59.486Z"
   },
   {
    "duration": 13,
    "start_time": "2022-08-24T09:53:00.724Z"
   },
   {
    "duration": 6,
    "start_time": "2022-08-24T09:53:15.578Z"
   },
   {
    "duration": 11,
    "start_time": "2022-08-24T09:53:34.882Z"
   },
   {
    "duration": 14,
    "start_time": "2022-08-24T10:16:09.545Z"
   },
   {
    "duration": 16,
    "start_time": "2022-08-24T10:16:26.867Z"
   },
   {
    "duration": 18,
    "start_time": "2022-08-24T10:17:53.792Z"
   },
   {
    "duration": 19,
    "start_time": "2022-08-24T10:18:06.002Z"
   },
   {
    "duration": 447,
    "start_time": "2022-08-24T10:34:45.537Z"
   },
   {
    "duration": 19,
    "start_time": "2022-08-24T10:34:45.986Z"
   },
   {
    "duration": 29,
    "start_time": "2022-08-24T10:34:46.006Z"
   },
   {
    "duration": 20,
    "start_time": "2022-08-24T10:34:46.037Z"
   },
   {
    "duration": 7,
    "start_time": "2022-08-24T10:34:46.058Z"
   },
   {
    "duration": 18,
    "start_time": "2022-08-24T10:34:46.066Z"
   },
   {
    "duration": 10,
    "start_time": "2022-08-24T10:34:46.086Z"
   },
   {
    "duration": 5,
    "start_time": "2022-08-24T10:34:46.098Z"
   },
   {
    "duration": 8,
    "start_time": "2022-08-24T10:34:46.104Z"
   },
   {
    "duration": 9,
    "start_time": "2022-08-24T10:34:46.115Z"
   },
   {
    "duration": 28,
    "start_time": "2022-08-24T10:34:46.126Z"
   },
   {
    "duration": 6,
    "start_time": "2022-08-24T10:34:46.155Z"
   },
   {
    "duration": 43,
    "start_time": "2022-08-24T10:34:46.163Z"
   },
   {
    "duration": 11,
    "start_time": "2022-08-24T10:34:46.207Z"
   },
   {
    "duration": 4,
    "start_time": "2022-08-24T10:34:46.219Z"
   },
   {
    "duration": 10,
    "start_time": "2022-08-24T10:34:46.224Z"
   },
   {
    "duration": 7,
    "start_time": "2022-08-24T10:34:46.235Z"
   },
   {
    "duration": 19,
    "start_time": "2022-08-24T10:34:46.244Z"
   },
   {
    "duration": 26,
    "start_time": "2022-08-24T10:34:46.265Z"
   },
   {
    "duration": 21,
    "start_time": "2022-08-24T10:34:46.292Z"
   },
   {
    "duration": 5,
    "start_time": "2022-08-24T10:35:48.143Z"
   },
   {
    "duration": 8,
    "start_time": "2022-08-24T10:41:43.263Z"
   },
   {
    "duration": 20,
    "start_time": "2022-08-24T10:41:54.879Z"
   },
   {
    "duration": 20,
    "start_time": "2022-08-24T10:42:47.744Z"
   },
   {
    "duration": 17,
    "start_time": "2022-08-24T10:53:48.435Z"
   },
   {
    "duration": 68,
    "start_time": "2022-08-24T10:58:34.935Z"
   },
   {
    "duration": 254,
    "start_time": "2022-08-24T10:58:41.604Z"
   },
   {
    "duration": 386,
    "start_time": "2022-08-24T11:01:35.574Z"
   },
   {
    "duration": 17,
    "start_time": "2022-08-24T11:01:46.987Z"
   },
   {
    "duration": 15,
    "start_time": "2022-08-24T11:03:39.025Z"
   },
   {
    "duration": 16,
    "start_time": "2022-08-24T11:03:45.846Z"
   },
   {
    "duration": 17,
    "start_time": "2022-08-24T11:04:04.205Z"
   },
   {
    "duration": 15,
    "start_time": "2022-08-24T11:04:45.002Z"
   },
   {
    "duration": 18,
    "start_time": "2022-08-24T11:04:52.992Z"
   },
   {
    "duration": 9,
    "start_time": "2022-08-24T12:11:16.497Z"
   },
   {
    "duration": 544,
    "start_time": "2022-08-24T12:11:26.293Z"
   },
   {
    "duration": 18,
    "start_time": "2022-08-24T12:11:26.839Z"
   },
   {
    "duration": 15,
    "start_time": "2022-08-24T12:11:26.859Z"
   },
   {
    "duration": 7,
    "start_time": "2022-08-24T12:11:26.876Z"
   },
   {
    "duration": 5,
    "start_time": "2022-08-24T12:11:26.885Z"
   },
   {
    "duration": 14,
    "start_time": "2022-08-24T12:11:26.891Z"
   },
   {
    "duration": 9,
    "start_time": "2022-08-24T12:11:26.907Z"
   },
   {
    "duration": 5,
    "start_time": "2022-08-24T12:11:26.918Z"
   },
   {
    "duration": 8,
    "start_time": "2022-08-24T12:11:26.924Z"
   },
   {
    "duration": 6,
    "start_time": "2022-08-24T12:11:26.934Z"
   },
   {
    "duration": 7,
    "start_time": "2022-08-24T12:11:26.942Z"
   },
   {
    "duration": 8,
    "start_time": "2022-08-24T12:11:26.950Z"
   },
   {
    "duration": 69,
    "start_time": "2022-08-24T12:11:26.960Z"
   },
   {
    "duration": 10,
    "start_time": "2022-08-24T12:11:27.031Z"
   },
   {
    "duration": 4,
    "start_time": "2022-08-24T12:11:27.042Z"
   },
   {
    "duration": 10,
    "start_time": "2022-08-24T12:11:27.047Z"
   },
   {
    "duration": 7,
    "start_time": "2022-08-24T12:11:27.059Z"
   },
   {
    "duration": 32,
    "start_time": "2022-08-24T12:11:27.067Z"
   },
   {
    "duration": 18,
    "start_time": "2022-08-24T12:11:27.100Z"
   },
   {
    "duration": 7,
    "start_time": "2022-08-24T12:11:27.120Z"
   },
   {
    "duration": 17,
    "start_time": "2022-08-24T12:11:27.129Z"
   },
   {
    "duration": 21,
    "start_time": "2022-08-24T12:13:45.156Z"
   },
   {
    "duration": 20,
    "start_time": "2022-08-24T12:13:55.222Z"
   },
   {
    "duration": 21,
    "start_time": "2022-08-24T12:14:12.031Z"
   },
   {
    "duration": 22,
    "start_time": "2022-08-24T12:20:13.526Z"
   },
   {
    "duration": 920,
    "start_time": "2022-08-24T12:21:06.021Z"
   },
   {
    "duration": 9,
    "start_time": "2022-08-24T12:21:32.460Z"
   },
   {
    "duration": 27,
    "start_time": "2022-08-24T12:21:46.111Z"
   },
   {
    "duration": 23,
    "start_time": "2022-08-24T12:23:28.599Z"
   },
   {
    "duration": 1036,
    "start_time": "2022-08-24T12:23:44.516Z"
   },
   {
    "duration": 212,
    "start_time": "2022-08-24T12:24:02.108Z"
   },
   {
    "duration": 107,
    "start_time": "2022-08-24T12:24:39.698Z"
   },
   {
    "duration": 9,
    "start_time": "2022-08-24T12:27:12.979Z"
   },
   {
    "duration": 16,
    "start_time": "2022-08-24T12:32:30.003Z"
   },
   {
    "duration": 9,
    "start_time": "2022-08-24T12:34:57.811Z"
   },
   {
    "duration": 23,
    "start_time": "2022-08-24T12:40:00.306Z"
   },
   {
    "duration": 24,
    "start_time": "2022-08-24T12:46:39.142Z"
   },
   {
    "duration": 31,
    "start_time": "2022-08-24T13:01:09.435Z"
   },
   {
    "duration": 257,
    "start_time": "2022-08-24T13:03:32.684Z"
   },
   {
    "duration": 21,
    "start_time": "2022-08-24T13:13:17.655Z"
   },
   {
    "duration": 296,
    "start_time": "2022-08-24T13:13:40.680Z"
   },
   {
    "duration": 23,
    "start_time": "2022-08-24T13:15:12.592Z"
   },
   {
    "duration": 19,
    "start_time": "2022-08-24T13:21:47.054Z"
   },
   {
    "duration": 21,
    "start_time": "2022-08-24T13:21:54.965Z"
   },
   {
    "duration": 49,
    "start_time": "2022-08-24T14:05:25.943Z"
   },
   {
    "duration": 243,
    "start_time": "2022-08-24T14:16:53.626Z"
   },
   {
    "duration": 270,
    "start_time": "2022-08-24T14:17:14.350Z"
   },
   {
    "duration": 217,
    "start_time": "2022-08-24T14:17:46.219Z"
   },
   {
    "duration": 218,
    "start_time": "2022-08-24T14:17:50.890Z"
   },
   {
    "duration": 204,
    "start_time": "2022-08-24T14:17:58.564Z"
   },
   {
    "duration": 262,
    "start_time": "2022-08-24T14:18:04.735Z"
   },
   {
    "duration": 191,
    "start_time": "2022-08-24T14:18:08.870Z"
   },
   {
    "duration": 205,
    "start_time": "2022-08-24T14:18:19.364Z"
   },
   {
    "duration": 225,
    "start_time": "2022-08-24T14:18:33.981Z"
   },
   {
    "duration": 16,
    "start_time": "2022-08-24T14:19:26.732Z"
   },
   {
    "duration": 15,
    "start_time": "2022-08-24T14:19:35.332Z"
   },
   {
    "duration": 187,
    "start_time": "2022-08-24T14:19:38.880Z"
   },
   {
    "duration": 6,
    "start_time": "2022-08-24T14:45:44.580Z"
   },
   {
    "duration": 270,
    "start_time": "2022-08-24T14:46:40.936Z"
   },
   {
    "duration": 69,
    "start_time": "2022-08-24T14:46:57.625Z"
   },
   {
    "duration": 5,
    "start_time": "2022-08-24T14:47:02.630Z"
   },
   {
    "duration": 5,
    "start_time": "2022-08-24T14:47:53.364Z"
   },
   {
    "duration": 684,
    "start_time": "2022-08-24T14:48:47.313Z"
   },
   {
    "duration": 17,
    "start_time": "2022-08-24T14:48:48.000Z"
   },
   {
    "duration": 15,
    "start_time": "2022-08-24T14:48:48.019Z"
   },
   {
    "duration": 7,
    "start_time": "2022-08-24T14:48:48.035Z"
   },
   {
    "duration": 4,
    "start_time": "2022-08-24T14:48:48.044Z"
   },
   {
    "duration": 14,
    "start_time": "2022-08-24T14:48:48.049Z"
   },
   {
    "duration": 35,
    "start_time": "2022-08-24T14:48:48.065Z"
   },
   {
    "duration": 14,
    "start_time": "2022-08-24T14:48:48.102Z"
   },
   {
    "duration": 5,
    "start_time": "2022-08-24T14:48:48.117Z"
   },
   {
    "duration": 13,
    "start_time": "2022-08-24T14:48:48.123Z"
   },
   {
    "duration": 6,
    "start_time": "2022-08-24T14:48:48.137Z"
   },
   {
    "duration": 12,
    "start_time": "2022-08-24T14:48:48.144Z"
   },
   {
    "duration": 5,
    "start_time": "2022-08-24T14:48:48.157Z"
   },
   {
    "duration": 4,
    "start_time": "2022-08-24T14:48:48.184Z"
   },
   {
    "duration": 21,
    "start_time": "2022-08-24T14:48:48.189Z"
   },
   {
    "duration": 5,
    "start_time": "2022-08-24T14:48:48.212Z"
   },
   {
    "duration": 9,
    "start_time": "2022-08-24T14:48:48.218Z"
   },
   {
    "duration": 9,
    "start_time": "2022-08-24T14:48:48.228Z"
   },
   {
    "duration": 7,
    "start_time": "2022-08-24T14:48:48.239Z"
   },
   {
    "duration": 37,
    "start_time": "2022-08-24T14:48:48.248Z"
   },
   {
    "duration": 29,
    "start_time": "2022-08-24T14:48:48.288Z"
   },
   {
    "duration": 6,
    "start_time": "2022-08-24T14:48:48.318Z"
   },
   {
    "duration": 13,
    "start_time": "2022-08-24T14:48:48.326Z"
   },
   {
    "duration": 20,
    "start_time": "2022-08-24T14:48:48.340Z"
   },
   {
    "duration": 149,
    "start_time": "2022-08-24T14:49:41.213Z"
   },
   {
    "duration": 1017,
    "start_time": "2022-08-25T09:04:12.629Z"
   },
   {
    "duration": 21,
    "start_time": "2022-08-25T09:04:13.649Z"
   },
   {
    "duration": 15,
    "start_time": "2022-08-25T09:04:13.671Z"
   },
   {
    "duration": 9,
    "start_time": "2022-08-25T09:04:13.688Z"
   },
   {
    "duration": 8,
    "start_time": "2022-08-25T09:04:13.698Z"
   },
   {
    "duration": 14,
    "start_time": "2022-08-25T09:04:13.708Z"
   },
   {
    "duration": 19,
    "start_time": "2022-08-25T09:04:13.724Z"
   },
   {
    "duration": 10,
    "start_time": "2022-08-25T09:04:13.768Z"
   },
   {
    "duration": 7,
    "start_time": "2022-08-25T09:04:13.780Z"
   },
   {
    "duration": 6,
    "start_time": "2022-08-25T09:04:13.790Z"
   },
   {
    "duration": 5,
    "start_time": "2022-08-25T09:04:13.797Z"
   },
   {
    "duration": 6,
    "start_time": "2022-08-25T09:04:13.804Z"
   },
   {
    "duration": 4,
    "start_time": "2022-08-25T09:04:13.812Z"
   },
   {
    "duration": 4,
    "start_time": "2022-08-25T09:04:13.818Z"
   },
   {
    "duration": 10,
    "start_time": "2022-08-25T09:04:13.823Z"
   },
   {
    "duration": 37,
    "start_time": "2022-08-25T09:04:13.835Z"
   },
   {
    "duration": 9,
    "start_time": "2022-08-25T09:04:13.874Z"
   },
   {
    "duration": 8,
    "start_time": "2022-08-25T09:04:13.885Z"
   },
   {
    "duration": 8,
    "start_time": "2022-08-25T09:04:13.894Z"
   },
   {
    "duration": 18,
    "start_time": "2022-08-25T09:04:13.904Z"
   },
   {
    "duration": 60,
    "start_time": "2022-08-25T09:04:13.924Z"
   },
   {
    "duration": 6,
    "start_time": "2022-08-25T09:04:13.986Z"
   },
   {
    "duration": 175,
    "start_time": "2022-08-25T09:04:13.994Z"
   },
   {
    "duration": 9,
    "start_time": "2022-08-25T09:04:14.171Z"
   },
   {
    "duration": 15,
    "start_time": "2022-08-25T09:04:14.182Z"
   },
   {
    "duration": 20,
    "start_time": "2022-08-25T09:16:55.093Z"
   },
   {
    "duration": 37,
    "start_time": "2022-08-25T09:17:02.804Z"
   },
   {
    "duration": 84,
    "start_time": "2022-08-25T09:17:22.118Z"
   },
   {
    "duration": 8,
    "start_time": "2022-08-25T09:17:46.870Z"
   },
   {
    "duration": 11,
    "start_time": "2022-08-25T09:18:10.622Z"
   },
   {
    "duration": 26,
    "start_time": "2022-08-25T09:18:42.990Z"
   },
   {
    "duration": 17,
    "start_time": "2022-08-25T09:23:57.431Z"
   },
   {
    "duration": 18,
    "start_time": "2022-08-25T10:00:28.731Z"
   },
   {
    "duration": 641,
    "start_time": "2022-08-25T10:10:02.426Z"
   },
   {
    "duration": 1251,
    "start_time": "2022-08-25T10:10:10.625Z"
   },
   {
    "duration": 27,
    "start_time": "2022-08-25T10:10:11.878Z"
   },
   {
    "duration": 21,
    "start_time": "2022-08-25T10:10:11.907Z"
   },
   {
    "duration": 13,
    "start_time": "2022-08-25T10:10:11.931Z"
   },
   {
    "duration": 7,
    "start_time": "2022-08-25T10:10:11.969Z"
   },
   {
    "duration": 23,
    "start_time": "2022-08-25T10:10:11.978Z"
   },
   {
    "duration": 29,
    "start_time": "2022-08-25T10:10:12.003Z"
   },
   {
    "duration": 10,
    "start_time": "2022-08-25T10:10:12.034Z"
   },
   {
    "duration": 26,
    "start_time": "2022-08-25T10:10:12.045Z"
   },
   {
    "duration": 11,
    "start_time": "2022-08-25T10:10:12.074Z"
   },
   {
    "duration": 8,
    "start_time": "2022-08-25T10:10:12.087Z"
   },
   {
    "duration": 15,
    "start_time": "2022-08-25T10:10:12.097Z"
   },
   {
    "duration": 5,
    "start_time": "2022-08-25T10:10:12.114Z"
   },
   {
    "duration": 9,
    "start_time": "2022-08-25T10:10:12.121Z"
   },
   {
    "duration": 36,
    "start_time": "2022-08-25T10:10:12.132Z"
   },
   {
    "duration": 4,
    "start_time": "2022-08-25T10:10:12.170Z"
   },
   {
    "duration": 13,
    "start_time": "2022-08-25T10:10:12.178Z"
   },
   {
    "duration": 8,
    "start_time": "2022-08-25T10:10:12.193Z"
   },
   {
    "duration": 8,
    "start_time": "2022-08-25T10:10:12.202Z"
   },
   {
    "duration": 27,
    "start_time": "2022-08-25T10:10:12.212Z"
   },
   {
    "duration": 85,
    "start_time": "2022-08-25T10:10:12.241Z"
   },
   {
    "duration": 43,
    "start_time": "2022-08-25T10:10:12.328Z"
   },
   {
    "duration": 44,
    "start_time": "2022-08-25T10:10:12.373Z"
   },
   {
    "duration": 74,
    "start_time": "2022-08-25T10:10:12.418Z"
   },
   {
    "duration": 132,
    "start_time": "2022-08-25T10:14:08.467Z"
   },
   {
    "duration": 10,
    "start_time": "2022-08-25T10:14:30.448Z"
   },
   {
    "duration": 12,
    "start_time": "2022-08-25T10:16:23.844Z"
   },
   {
    "duration": 15,
    "start_time": "2022-08-25T10:16:56.796Z"
   },
   {
    "duration": 179,
    "start_time": "2022-08-25T10:17:47.937Z"
   },
   {
    "duration": 154,
    "start_time": "2022-08-25T10:18:17.774Z"
   },
   {
    "duration": 165,
    "start_time": "2022-08-25T10:18:29.889Z"
   },
   {
    "duration": 42,
    "start_time": "2022-08-25T10:21:38.862Z"
   },
   {
    "duration": 19,
    "start_time": "2022-08-25T10:22:07.046Z"
   },
   {
    "duration": 40,
    "start_time": "2022-08-25T10:22:12.082Z"
   },
   {
    "duration": 1365,
    "start_time": "2022-08-25T10:22:36.515Z"
   },
   {
    "duration": 21,
    "start_time": "2022-08-25T10:22:37.882Z"
   },
   {
    "duration": 16,
    "start_time": "2022-08-25T10:22:37.905Z"
   },
   {
    "duration": 13,
    "start_time": "2022-08-25T10:22:37.923Z"
   },
   {
    "duration": 6,
    "start_time": "2022-08-25T10:22:37.938Z"
   },
   {
    "duration": 22,
    "start_time": "2022-08-25T10:22:37.976Z"
   },
   {
    "duration": 23,
    "start_time": "2022-08-25T10:22:38.000Z"
   },
   {
    "duration": 9,
    "start_time": "2022-08-25T10:22:38.025Z"
   },
   {
    "duration": 6,
    "start_time": "2022-08-25T10:22:38.036Z"
   },
   {
    "duration": 25,
    "start_time": "2022-08-25T10:22:38.046Z"
   },
   {
    "duration": 19,
    "start_time": "2022-08-25T10:22:38.073Z"
   },
   {
    "duration": 7,
    "start_time": "2022-08-25T10:22:38.094Z"
   },
   {
    "duration": 6,
    "start_time": "2022-08-25T10:22:38.103Z"
   },
   {
    "duration": 6,
    "start_time": "2022-08-25T10:22:38.111Z"
   },
   {
    "duration": 13,
    "start_time": "2022-08-25T10:22:38.119Z"
   },
   {
    "duration": 5,
    "start_time": "2022-08-25T10:22:38.134Z"
   },
   {
    "duration": 27,
    "start_time": "2022-08-25T10:22:38.142Z"
   },
   {
    "duration": 25,
    "start_time": "2022-08-25T10:22:38.171Z"
   },
   {
    "duration": 11,
    "start_time": "2022-08-25T10:22:38.197Z"
   },
   {
    "duration": 24,
    "start_time": "2022-08-25T10:22:38.210Z"
   },
   {
    "duration": 53,
    "start_time": "2022-08-25T10:22:38.236Z"
   },
   {
    "duration": 33,
    "start_time": "2022-08-25T10:22:38.291Z"
   },
   {
    "duration": 192,
    "start_time": "2022-08-25T10:22:38.326Z"
   },
   {
    "duration": 10,
    "start_time": "2022-08-25T10:22:38.519Z"
   },
   {
    "duration": 55,
    "start_time": "2022-08-25T10:22:38.530Z"
   },
   {
    "duration": 10,
    "start_time": "2022-08-25T10:23:13.705Z"
   },
   {
    "duration": 161,
    "start_time": "2022-08-25T10:23:15.597Z"
   },
   {
    "duration": 39,
    "start_time": "2022-08-25T10:23:29.536Z"
   },
   {
    "duration": 150,
    "start_time": "2022-08-25T10:48:48.508Z"
   },
   {
    "duration": 51,
    "start_time": "2022-08-25T10:51:38.155Z"
   },
   {
    "duration": 111,
    "start_time": "2022-08-25T10:52:04.233Z"
   },
   {
    "duration": 153,
    "start_time": "2022-08-25T10:52:16.556Z"
   },
   {
    "duration": 20,
    "start_time": "2022-08-25T10:55:14.495Z"
   },
   {
    "duration": 18,
    "start_time": "2022-08-25T10:59:00.304Z"
   },
   {
    "duration": 8,
    "start_time": "2022-08-25T11:04:18.013Z"
   },
   {
    "duration": 20,
    "start_time": "2022-08-25T11:06:17.767Z"
   },
   {
    "duration": 11,
    "start_time": "2022-08-25T11:06:26.509Z"
   },
   {
    "duration": 9,
    "start_time": "2022-08-25T11:07:37.254Z"
   },
   {
    "duration": 9,
    "start_time": "2022-08-25T11:07:39.366Z"
   },
   {
    "duration": 10,
    "start_time": "2022-08-25T11:08:10.470Z"
   },
   {
    "duration": 9,
    "start_time": "2022-08-25T11:09:22.153Z"
   },
   {
    "duration": 10,
    "start_time": "2022-08-25T11:10:00.345Z"
   },
   {
    "duration": 175,
    "start_time": "2022-08-25T11:17:10.787Z"
   },
   {
    "duration": 189,
    "start_time": "2022-08-25T11:18:41.612Z"
   },
   {
    "duration": 148,
    "start_time": "2022-08-25T11:31:57.599Z"
   },
   {
    "duration": 162,
    "start_time": "2022-08-25T11:34:14.002Z"
   },
   {
    "duration": 223,
    "start_time": "2022-08-25T11:34:44.479Z"
   },
   {
    "duration": 7,
    "start_time": "2022-08-25T11:43:02.433Z"
   },
   {
    "duration": 13,
    "start_time": "2022-08-25T11:47:27.168Z"
   },
   {
    "duration": 1355,
    "start_time": "2022-08-25T11:48:39.391Z"
   },
   {
    "duration": 23,
    "start_time": "2022-08-25T11:48:40.748Z"
   },
   {
    "duration": 29,
    "start_time": "2022-08-25T11:48:40.776Z"
   },
   {
    "duration": 11,
    "start_time": "2022-08-25T11:48:40.808Z"
   },
   {
    "duration": 15,
    "start_time": "2022-08-25T11:48:40.822Z"
   },
   {
    "duration": 44,
    "start_time": "2022-08-25T11:48:40.839Z"
   },
   {
    "duration": 34,
    "start_time": "2022-08-25T11:48:40.885Z"
   },
   {
    "duration": 9,
    "start_time": "2022-08-25T11:48:40.921Z"
   },
   {
    "duration": 21,
    "start_time": "2022-08-25T11:48:40.932Z"
   },
   {
    "duration": 59,
    "start_time": "2022-08-25T11:48:40.956Z"
   },
   {
    "duration": 89,
    "start_time": "2022-08-25T11:48:41.017Z"
   },
   {
    "duration": 34,
    "start_time": "2022-08-25T11:48:41.108Z"
   },
   {
    "duration": 32,
    "start_time": "2022-08-25T11:48:41.143Z"
   },
   {
    "duration": 36,
    "start_time": "2022-08-25T11:48:41.177Z"
   },
   {
    "duration": 14,
    "start_time": "2022-08-25T11:48:41.215Z"
   },
   {
    "duration": 11,
    "start_time": "2022-08-25T11:48:41.231Z"
   },
   {
    "duration": 10,
    "start_time": "2022-08-25T11:48:41.244Z"
   },
   {
    "duration": 20,
    "start_time": "2022-08-25T11:48:41.257Z"
   },
   {
    "duration": 32,
    "start_time": "2022-08-25T11:48:41.280Z"
   },
   {
    "duration": 21,
    "start_time": "2022-08-25T11:48:41.314Z"
   },
   {
    "duration": 28,
    "start_time": "2022-08-25T11:48:41.337Z"
   },
   {
    "duration": 19,
    "start_time": "2022-08-25T11:48:41.367Z"
   },
   {
    "duration": 239,
    "start_time": "2022-08-25T11:48:41.388Z"
   },
   {
    "duration": 12,
    "start_time": "2022-08-25T11:48:41.630Z"
   },
   {
    "duration": 217,
    "start_time": "2022-08-25T11:48:41.645Z"
   },
   {
    "duration": 27,
    "start_time": "2022-08-25T11:48:41.867Z"
   },
   {
    "duration": 186,
    "start_time": "2022-08-25T11:48:41.899Z"
   },
   {
    "duration": 17,
    "start_time": "2022-08-25T11:48:42.088Z"
   },
   {
    "duration": 174,
    "start_time": "2022-08-25T11:48:42.108Z"
   },
   {
    "duration": 15,
    "start_time": "2022-08-25T11:48:42.284Z"
   },
   {
    "duration": 175,
    "start_time": "2022-08-25T11:48:42.301Z"
   },
   {
    "duration": 11,
    "start_time": "2022-08-25T11:48:42.478Z"
   },
   {
    "duration": 192,
    "start_time": "2022-08-25T11:48:42.490Z"
   },
   {
    "duration": 11,
    "start_time": "2022-08-25T11:48:42.684Z"
   },
   {
    "duration": 19,
    "start_time": "2022-08-25T11:48:42.697Z"
   },
   {
    "duration": 34,
    "start_time": "2022-08-25T11:48:42.718Z"
   },
   {
    "duration": 1309,
    "start_time": "2022-08-26T10:32:00.044Z"
   },
   {
    "duration": 16,
    "start_time": "2022-08-26T10:32:01.355Z"
   },
   {
    "duration": 50,
    "start_time": "2022-08-26T10:32:01.373Z"
   },
   {
    "duration": 15,
    "start_time": "2022-08-26T10:32:01.425Z"
   },
   {
    "duration": 20,
    "start_time": "2022-08-26T10:32:01.442Z"
   },
   {
    "duration": 36,
    "start_time": "2022-08-26T10:32:01.463Z"
   },
   {
    "duration": 59,
    "start_time": "2022-08-26T10:32:01.501Z"
   },
   {
    "duration": 57,
    "start_time": "2022-08-26T10:32:01.562Z"
   },
   {
    "duration": 4,
    "start_time": "2022-08-26T10:32:01.621Z"
   },
   {
    "duration": 7,
    "start_time": "2022-08-26T10:32:01.627Z"
   },
   {
    "duration": 18,
    "start_time": "2022-08-26T10:32:01.636Z"
   },
   {
    "duration": 24,
    "start_time": "2022-08-26T10:32:01.656Z"
   },
   {
    "duration": 15,
    "start_time": "2022-08-26T10:32:01.681Z"
   },
   {
    "duration": 21,
    "start_time": "2022-08-26T10:32:01.698Z"
   },
   {
    "duration": 16,
    "start_time": "2022-08-26T10:32:01.720Z"
   },
   {
    "duration": 27,
    "start_time": "2022-08-26T10:32:01.738Z"
   },
   {
    "duration": 22,
    "start_time": "2022-08-26T10:32:01.766Z"
   },
   {
    "duration": 37,
    "start_time": "2022-08-26T10:32:01.789Z"
   },
   {
    "duration": 22,
    "start_time": "2022-08-26T10:32:01.828Z"
   },
   {
    "duration": 21,
    "start_time": "2022-08-26T10:32:01.851Z"
   },
   {
    "duration": 29,
    "start_time": "2022-08-26T10:32:01.873Z"
   },
   {
    "duration": 20,
    "start_time": "2022-08-26T10:32:01.904Z"
   },
   {
    "duration": 160,
    "start_time": "2022-08-26T10:32:01.926Z"
   },
   {
    "duration": 7,
    "start_time": "2022-08-26T10:32:02.087Z"
   },
   {
    "duration": 150,
    "start_time": "2022-08-26T10:32:02.098Z"
   },
   {
    "duration": 6,
    "start_time": "2022-08-26T10:32:02.250Z"
   },
   {
    "duration": 134,
    "start_time": "2022-08-26T10:32:02.258Z"
   },
   {
    "duration": 6,
    "start_time": "2022-08-26T10:32:02.397Z"
   },
   {
    "duration": 120,
    "start_time": "2022-08-26T10:32:02.405Z"
   },
   {
    "duration": 6,
    "start_time": "2022-08-26T10:32:02.527Z"
   },
   {
    "duration": 131,
    "start_time": "2022-08-26T10:32:02.534Z"
   },
   {
    "duration": 6,
    "start_time": "2022-08-26T10:32:02.666Z"
   },
   {
    "duration": 128,
    "start_time": "2022-08-26T10:32:02.673Z"
   },
   {
    "duration": 5,
    "start_time": "2022-08-26T10:32:02.803Z"
   },
   {
    "duration": 13,
    "start_time": "2022-08-26T10:32:02.809Z"
   },
   {
    "duration": 26,
    "start_time": "2022-08-26T10:32:02.824Z"
   },
   {
    "duration": 11,
    "start_time": "2022-08-26T10:51:54.892Z"
   },
   {
    "duration": 8,
    "start_time": "2022-08-26T12:49:55.026Z"
   },
   {
    "duration": 773,
    "start_time": "2022-08-26T15:17:02.866Z"
   },
   {
    "duration": 791,
    "start_time": "2022-08-26T15:17:59.471Z"
   },
   {
    "duration": 765,
    "start_time": "2022-08-26T15:18:08.293Z"
   },
   {
    "duration": 821,
    "start_time": "2022-08-26T15:29:24.438Z"
   },
   {
    "duration": 793,
    "start_time": "2022-08-26T15:33:42.422Z"
   },
   {
    "duration": 132,
    "start_time": "2022-08-26T15:34:21.558Z"
   },
   {
    "duration": 146,
    "start_time": "2022-08-26T15:34:29.110Z"
   },
   {
    "duration": 1221,
    "start_time": "2022-08-26T15:35:44.117Z"
   },
   {
    "duration": 17,
    "start_time": "2022-08-26T15:35:45.340Z"
   },
   {
    "duration": 21,
    "start_time": "2022-08-26T15:35:45.358Z"
   },
   {
    "duration": 8,
    "start_time": "2022-08-26T15:35:45.381Z"
   },
   {
    "duration": 23,
    "start_time": "2022-08-26T15:35:45.390Z"
   },
   {
    "duration": 22,
    "start_time": "2022-08-26T15:35:45.414Z"
   },
   {
    "duration": 19,
    "start_time": "2022-08-26T15:35:45.437Z"
   },
   {
    "duration": 8,
    "start_time": "2022-08-26T15:35:45.457Z"
   },
   {
    "duration": 9,
    "start_time": "2022-08-26T15:35:45.467Z"
   },
   {
    "duration": 6,
    "start_time": "2022-08-26T15:35:45.478Z"
   },
   {
    "duration": 7,
    "start_time": "2022-08-26T15:35:45.485Z"
   },
   {
    "duration": 13,
    "start_time": "2022-08-26T15:35:45.493Z"
   },
   {
    "duration": 14,
    "start_time": "2022-08-26T15:35:45.507Z"
   },
   {
    "duration": 9,
    "start_time": "2022-08-26T15:35:45.523Z"
   },
   {
    "duration": 6,
    "start_time": "2022-08-26T15:35:45.534Z"
   },
   {
    "duration": 5,
    "start_time": "2022-08-26T15:35:45.541Z"
   },
   {
    "duration": 782,
    "start_time": "2022-08-26T15:35:45.547Z"
   },
   {
    "duration": 7,
    "start_time": "2022-08-26T15:35:46.331Z"
   },
   {
    "duration": 11,
    "start_time": "2022-08-26T15:35:46.340Z"
   },
   {
    "duration": 6,
    "start_time": "2022-08-26T15:35:46.353Z"
   },
   {
    "duration": 16,
    "start_time": "2022-08-26T15:35:46.360Z"
   },
   {
    "duration": 41,
    "start_time": "2022-08-26T15:35:46.377Z"
   },
   {
    "duration": 8,
    "start_time": "2022-08-26T15:35:46.419Z"
   },
   {
    "duration": 161,
    "start_time": "2022-08-26T15:35:46.428Z"
   },
   {
    "duration": 14,
    "start_time": "2022-08-26T15:35:46.591Z"
   },
   {
    "duration": 138,
    "start_time": "2022-08-26T15:35:46.607Z"
   },
   {
    "duration": 6,
    "start_time": "2022-08-26T15:35:46.747Z"
   },
   {
    "duration": 148,
    "start_time": "2022-08-26T15:35:46.756Z"
   },
   {
    "duration": 7,
    "start_time": "2022-08-26T15:35:46.905Z"
   },
   {
    "duration": 124,
    "start_time": "2022-08-26T15:35:46.913Z"
   },
   {
    "duration": 7,
    "start_time": "2022-08-26T15:35:47.039Z"
   },
   {
    "duration": 129,
    "start_time": "2022-08-26T15:35:47.047Z"
   },
   {
    "duration": 8,
    "start_time": "2022-08-26T15:35:47.178Z"
   },
   {
    "duration": 149,
    "start_time": "2022-08-26T15:35:47.187Z"
   },
   {
    "duration": 7,
    "start_time": "2022-08-26T15:35:47.338Z"
   },
   {
    "duration": 17,
    "start_time": "2022-08-26T15:35:47.347Z"
   },
   {
    "duration": 11,
    "start_time": "2022-08-26T15:35:47.365Z"
   },
   {
    "duration": 47,
    "start_time": "2022-08-26T15:35:47.378Z"
   },
   {
    "duration": 14,
    "start_time": "2022-08-26T15:38:16.642Z"
   },
   {
    "duration": 965,
    "start_time": "2022-08-26T15:56:55.081Z"
   },
   {
    "duration": 3,
    "start_time": "2022-08-26T15:59:59.061Z"
   },
   {
    "duration": 4,
    "start_time": "2022-08-26T16:00:15.741Z"
   },
   {
    "duration": 11,
    "start_time": "2022-08-26T16:00:24.880Z"
   },
   {
    "duration": 10,
    "start_time": "2022-08-26T16:01:04.813Z"
   },
   {
    "duration": 10,
    "start_time": "2022-08-26T16:01:13.709Z"
   },
   {
    "duration": 99,
    "start_time": "2022-08-26T16:01:48.714Z"
   },
   {
    "duration": 1070,
    "start_time": "2022-08-26T16:02:03.040Z"
   },
   {
    "duration": 15,
    "start_time": "2022-08-26T16:02:04.112Z"
   },
   {
    "duration": 15,
    "start_time": "2022-08-26T16:02:04.128Z"
   },
   {
    "duration": 16,
    "start_time": "2022-08-26T16:02:04.145Z"
   },
   {
    "duration": 23,
    "start_time": "2022-08-26T16:02:04.162Z"
   },
   {
    "duration": 15,
    "start_time": "2022-08-26T16:02:04.186Z"
   },
   {
    "duration": 15,
    "start_time": "2022-08-26T16:02:04.203Z"
   },
   {
    "duration": 7,
    "start_time": "2022-08-26T16:02:04.220Z"
   },
   {
    "duration": 4,
    "start_time": "2022-08-26T16:02:04.228Z"
   },
   {
    "duration": 6,
    "start_time": "2022-08-26T16:02:04.234Z"
   },
   {
    "duration": 10,
    "start_time": "2022-08-26T16:02:04.242Z"
   },
   {
    "duration": 9,
    "start_time": "2022-08-26T16:02:04.253Z"
   },
   {
    "duration": 16,
    "start_time": "2022-08-26T16:02:04.263Z"
   },
   {
    "duration": 20,
    "start_time": "2022-08-26T16:02:04.280Z"
   },
   {
    "duration": 3,
    "start_time": "2022-08-26T16:02:04.302Z"
   },
   {
    "duration": 4,
    "start_time": "2022-08-26T16:02:04.307Z"
   },
   {
    "duration": 870,
    "start_time": "2022-08-26T16:02:04.312Z"
   },
   {
    "duration": 17,
    "start_time": "2022-08-26T16:02:05.184Z"
   },
   {
    "duration": 8,
    "start_time": "2022-08-26T16:02:05.203Z"
   },
   {
    "duration": 19,
    "start_time": "2022-08-26T16:02:05.212Z"
   },
   {
    "duration": 29,
    "start_time": "2022-08-26T16:02:05.233Z"
   },
   {
    "duration": 24,
    "start_time": "2022-08-26T16:02:05.263Z"
   },
   {
    "duration": 18,
    "start_time": "2022-08-26T16:02:05.288Z"
   },
   {
    "duration": 143,
    "start_time": "2022-08-26T16:02:05.308Z"
   },
   {
    "duration": 7,
    "start_time": "2022-08-26T16:02:05.453Z"
   },
   {
    "duration": 142,
    "start_time": "2022-08-26T16:02:05.461Z"
   },
   {
    "duration": 6,
    "start_time": "2022-08-26T16:02:05.605Z"
   },
   {
    "duration": 144,
    "start_time": "2022-08-26T16:02:05.614Z"
   },
   {
    "duration": 7,
    "start_time": "2022-08-26T16:02:05.759Z"
   },
   {
    "duration": 158,
    "start_time": "2022-08-26T16:02:05.767Z"
   },
   {
    "duration": 7,
    "start_time": "2022-08-26T16:02:05.926Z"
   },
   {
    "duration": 150,
    "start_time": "2022-08-26T16:02:05.935Z"
   },
   {
    "duration": 12,
    "start_time": "2022-08-26T16:02:06.087Z"
   },
   {
    "duration": 142,
    "start_time": "2022-08-26T16:02:06.101Z"
   },
   {
    "duration": 7,
    "start_time": "2022-08-26T16:02:06.245Z"
   },
   {
    "duration": 19,
    "start_time": "2022-08-26T16:02:06.254Z"
   },
   {
    "duration": 123,
    "start_time": "2022-08-26T16:02:06.275Z"
   },
   {
    "duration": 0,
    "start_time": "2022-08-26T16:02:06.399Z"
   },
   {
    "duration": 0,
    "start_time": "2022-08-26T16:02:06.401Z"
   },
   {
    "duration": 8,
    "start_time": "2022-08-26T16:03:02.186Z"
   },
   {
    "duration": 10,
    "start_time": "2022-08-26T16:03:22.032Z"
   },
   {
    "duration": 12,
    "start_time": "2022-08-26T16:43:47.702Z"
   },
   {
    "duration": 7,
    "start_time": "2022-08-26T16:44:15.867Z"
   },
   {
    "duration": 6,
    "start_time": "2022-08-26T16:44:21.333Z"
   },
   {
    "duration": 9,
    "start_time": "2022-08-26T19:25:05.737Z"
   },
   {
    "duration": 13,
    "start_time": "2022-08-26T19:25:07.348Z"
   },
   {
    "duration": 5,
    "start_time": "2022-08-26T19:31:03.964Z"
   },
   {
    "duration": 37,
    "start_time": "2022-08-26T19:31:11.483Z"
   },
   {
    "duration": 10,
    "start_time": "2022-08-26T19:31:19.978Z"
   },
   {
    "duration": 6,
    "start_time": "2022-08-26T19:32:10.963Z"
   },
   {
    "duration": 8,
    "start_time": "2022-08-26T19:32:36.277Z"
   },
   {
    "duration": 3,
    "start_time": "2022-08-26T19:37:10.234Z"
   },
   {
    "duration": 6,
    "start_time": "2022-08-26T19:37:20.099Z"
   },
   {
    "duration": 7,
    "start_time": "2022-08-26T19:37:28.740Z"
   },
   {
    "duration": 8,
    "start_time": "2022-08-26T19:38:10.393Z"
   },
   {
    "duration": 7,
    "start_time": "2022-08-26T19:39:37.183Z"
   },
   {
    "duration": 12,
    "start_time": "2022-08-26T19:40:52.896Z"
   },
   {
    "duration": 1133,
    "start_time": "2022-08-26T19:41:20.693Z"
   },
   {
    "duration": 15,
    "start_time": "2022-08-26T19:41:21.828Z"
   },
   {
    "duration": 13,
    "start_time": "2022-08-26T19:41:21.844Z"
   },
   {
    "duration": 8,
    "start_time": "2022-08-26T19:41:21.860Z"
   },
   {
    "duration": 5,
    "start_time": "2022-08-26T19:41:21.870Z"
   },
   {
    "duration": 35,
    "start_time": "2022-08-26T19:41:21.877Z"
   },
   {
    "duration": 22,
    "start_time": "2022-08-26T19:41:21.914Z"
   },
   {
    "duration": 9,
    "start_time": "2022-08-26T19:41:21.937Z"
   },
   {
    "duration": 9,
    "start_time": "2022-08-26T19:41:21.948Z"
   },
   {
    "duration": 8,
    "start_time": "2022-08-26T19:41:21.959Z"
   },
   {
    "duration": 7,
    "start_time": "2022-08-26T19:41:21.968Z"
   },
   {
    "duration": 26,
    "start_time": "2022-08-26T19:41:21.976Z"
   },
   {
    "duration": 11,
    "start_time": "2022-08-26T19:41:22.003Z"
   },
   {
    "duration": 9,
    "start_time": "2022-08-26T19:41:22.016Z"
   },
   {
    "duration": 3,
    "start_time": "2022-08-26T19:41:22.027Z"
   },
   {
    "duration": 7,
    "start_time": "2022-08-26T19:41:22.032Z"
   },
   {
    "duration": 839,
    "start_time": "2022-08-26T19:41:22.041Z"
   },
   {
    "duration": 18,
    "start_time": "2022-08-26T19:41:22.881Z"
   },
   {
    "duration": 9,
    "start_time": "2022-08-26T19:41:22.901Z"
   },
   {
    "duration": 9,
    "start_time": "2022-08-26T19:41:22.911Z"
   },
   {
    "duration": 18,
    "start_time": "2022-08-26T19:41:22.921Z"
   },
   {
    "duration": 21,
    "start_time": "2022-08-26T19:41:22.941Z"
   },
   {
    "duration": 40,
    "start_time": "2022-08-26T19:41:22.963Z"
   },
   {
    "duration": 158,
    "start_time": "2022-08-26T19:41:23.004Z"
   },
   {
    "duration": 8,
    "start_time": "2022-08-26T19:41:23.163Z"
   },
   {
    "duration": 138,
    "start_time": "2022-08-26T19:41:23.172Z"
   },
   {
    "duration": 7,
    "start_time": "2022-08-26T19:41:23.312Z"
   },
   {
    "duration": 139,
    "start_time": "2022-08-26T19:41:23.321Z"
   },
   {
    "duration": 8,
    "start_time": "2022-08-26T19:41:23.461Z"
   },
   {
    "duration": 128,
    "start_time": "2022-08-26T19:41:23.470Z"
   },
   {
    "duration": 7,
    "start_time": "2022-08-26T19:41:23.600Z"
   },
   {
    "duration": 137,
    "start_time": "2022-08-26T19:41:23.609Z"
   },
   {
    "duration": 8,
    "start_time": "2022-08-26T19:41:23.747Z"
   },
   {
    "duration": 159,
    "start_time": "2022-08-26T19:41:23.756Z"
   },
   {
    "duration": 7,
    "start_time": "2022-08-26T19:41:23.916Z"
   },
   {
    "duration": 14,
    "start_time": "2022-08-26T19:41:23.924Z"
   },
   {
    "duration": 8,
    "start_time": "2022-08-26T19:41:23.940Z"
   },
   {
    "duration": 8,
    "start_time": "2022-08-26T19:41:23.950Z"
   },
   {
    "duration": 10,
    "start_time": "2022-08-26T19:41:23.960Z"
   },
   {
    "duration": 15,
    "start_time": "2022-08-26T19:41:23.998Z"
   },
   {
    "duration": 7,
    "start_time": "2022-08-26T19:44:36.230Z"
   },
   {
    "duration": 7,
    "start_time": "2022-08-26T19:45:02.739Z"
   },
   {
    "duration": 7,
    "start_time": "2022-08-26T19:45:42.923Z"
   },
   {
    "duration": 9,
    "start_time": "2022-08-26T19:46:54.499Z"
   },
   {
    "duration": 7,
    "start_time": "2022-08-26T20:02:10.802Z"
   },
   {
    "duration": 7,
    "start_time": "2022-08-26T20:02:53.108Z"
   },
   {
    "duration": 7,
    "start_time": "2022-08-26T21:08:18.936Z"
   },
   {
    "duration": 8,
    "start_time": "2022-08-26T21:09:22.308Z"
   },
   {
    "duration": 101,
    "start_time": "2022-08-26T21:10:02.745Z"
   },
   {
    "duration": 7,
    "start_time": "2022-08-26T21:10:11.431Z"
   },
   {
    "duration": 7,
    "start_time": "2022-08-26T21:15:39.104Z"
   },
   {
    "duration": 6,
    "start_time": "2022-08-26T21:18:23.678Z"
   },
   {
    "duration": 7,
    "start_time": "2022-08-26T21:20:37.360Z"
   },
   {
    "duration": 6,
    "start_time": "2022-08-26T21:20:42.207Z"
   },
   {
    "duration": 6,
    "start_time": "2022-08-26T21:30:18.032Z"
   },
   {
    "duration": 6,
    "start_time": "2022-08-26T21:31:23.710Z"
   },
   {
    "duration": 8,
    "start_time": "2022-08-26T21:31:23.842Z"
   },
   {
    "duration": 6,
    "start_time": "2022-08-26T21:32:38.218Z"
   },
   {
    "duration": 7,
    "start_time": "2022-08-26T21:33:01.466Z"
   },
   {
    "duration": 7,
    "start_time": "2022-08-26T21:33:23.038Z"
   },
   {
    "duration": 7,
    "start_time": "2022-08-26T21:33:53.441Z"
   },
   {
    "duration": 1126,
    "start_time": "2022-08-26T21:34:32.310Z"
   },
   {
    "duration": 16,
    "start_time": "2022-08-26T21:34:33.438Z"
   },
   {
    "duration": 12,
    "start_time": "2022-08-26T21:34:33.455Z"
   },
   {
    "duration": 7,
    "start_time": "2022-08-26T21:34:33.469Z"
   },
   {
    "duration": 5,
    "start_time": "2022-08-26T21:34:33.477Z"
   },
   {
    "duration": 22,
    "start_time": "2022-08-26T21:34:33.483Z"
   },
   {
    "duration": 16,
    "start_time": "2022-08-26T21:34:33.507Z"
   },
   {
    "duration": 8,
    "start_time": "2022-08-26T21:34:33.524Z"
   },
   {
    "duration": 14,
    "start_time": "2022-08-26T21:34:33.534Z"
   },
   {
    "duration": 7,
    "start_time": "2022-08-26T21:34:33.550Z"
   },
   {
    "duration": 53,
    "start_time": "2022-08-26T21:34:33.558Z"
   },
   {
    "duration": 6,
    "start_time": "2022-08-26T21:34:33.613Z"
   },
   {
    "duration": 2,
    "start_time": "2022-08-26T21:34:33.620Z"
   },
   {
    "duration": 3,
    "start_time": "2022-08-26T21:34:33.624Z"
   },
   {
    "duration": 4,
    "start_time": "2022-08-26T21:34:33.628Z"
   },
   {
    "duration": 4,
    "start_time": "2022-08-26T21:34:33.633Z"
   },
   {
    "duration": 800,
    "start_time": "2022-08-26T21:34:33.638Z"
   },
   {
    "duration": 8,
    "start_time": "2022-08-26T21:34:34.440Z"
   },
   {
    "duration": 21,
    "start_time": "2022-08-26T21:34:34.450Z"
   },
   {
    "duration": 11,
    "start_time": "2022-08-26T21:34:34.472Z"
   },
   {
    "duration": 29,
    "start_time": "2022-08-26T21:34:34.485Z"
   },
   {
    "duration": 28,
    "start_time": "2022-08-26T21:34:34.516Z"
   },
   {
    "duration": 11,
    "start_time": "2022-08-26T21:34:34.545Z"
   },
   {
    "duration": 179,
    "start_time": "2022-08-26T21:34:34.558Z"
   },
   {
    "duration": 9,
    "start_time": "2022-08-26T21:34:34.739Z"
   },
   {
    "duration": 141,
    "start_time": "2022-08-26T21:34:34.750Z"
   },
   {
    "duration": 9,
    "start_time": "2022-08-26T21:34:34.899Z"
   },
   {
    "duration": 138,
    "start_time": "2022-08-26T21:34:34.911Z"
   },
   {
    "duration": 7,
    "start_time": "2022-08-26T21:34:35.050Z"
   },
   {
    "duration": 123,
    "start_time": "2022-08-26T21:34:35.058Z"
   },
   {
    "duration": 16,
    "start_time": "2022-08-26T21:34:35.183Z"
   },
   {
    "duration": 143,
    "start_time": "2022-08-26T21:34:35.201Z"
   },
   {
    "duration": 7,
    "start_time": "2022-08-26T21:34:35.346Z"
   },
   {
    "duration": 136,
    "start_time": "2022-08-26T21:34:35.354Z"
   },
   {
    "duration": 12,
    "start_time": "2022-08-26T21:34:35.492Z"
   },
   {
    "duration": 10,
    "start_time": "2022-08-26T21:34:35.505Z"
   },
   {
    "duration": 7,
    "start_time": "2022-08-26T21:34:35.516Z"
   },
   {
    "duration": 6,
    "start_time": "2022-08-26T21:34:35.524Z"
   },
   {
    "duration": 18,
    "start_time": "2022-08-26T21:34:35.531Z"
   },
   {
    "duration": 8,
    "start_time": "2022-08-26T21:34:35.551Z"
   },
   {
    "duration": 8,
    "start_time": "2022-08-26T21:34:35.561Z"
   },
   {
    "duration": 34,
    "start_time": "2022-08-26T21:34:35.571Z"
   },
   {
    "duration": 7,
    "start_time": "2022-08-26T21:34:35.606Z"
   },
   {
    "duration": 6,
    "start_time": "2022-08-26T21:34:35.615Z"
   },
   {
    "duration": 88,
    "start_time": "2022-08-26T21:34:35.622Z"
   },
   {
    "duration": 9,
    "start_time": "2022-08-26T21:34:35.712Z"
   },
   {
    "duration": 11,
    "start_time": "2022-08-26T21:34:35.722Z"
   },
   {
    "duration": 7,
    "start_time": "2022-08-26T21:34:35.735Z"
   },
   {
    "duration": 14,
    "start_time": "2022-08-26T21:34:35.743Z"
   },
   {
    "duration": 13,
    "start_time": "2022-08-26T21:34:35.758Z"
   },
   {
    "duration": 6,
    "start_time": "2022-08-26T21:52:25.472Z"
   },
   {
    "duration": 22,
    "start_time": "2022-08-26T21:53:30.886Z"
   },
   {
    "duration": 6,
    "start_time": "2022-08-26T21:53:50.369Z"
   },
   {
    "duration": 7,
    "start_time": "2022-08-26T21:54:58.029Z"
   },
   {
    "duration": 14,
    "start_time": "2022-08-26T22:05:07.750Z"
   },
   {
    "duration": 30,
    "start_time": "2022-08-26T22:05:42.374Z"
   },
   {
    "duration": 111,
    "start_time": "2022-08-26T22:07:01.639Z"
   },
   {
    "duration": 9,
    "start_time": "2022-08-26T22:07:15.567Z"
   },
   {
    "duration": 6,
    "start_time": "2022-08-26T22:10:20.703Z"
   },
   {
    "duration": 5,
    "start_time": "2022-08-26T22:11:47.788Z"
   },
   {
    "duration": 4,
    "start_time": "2022-08-26T22:11:56.808Z"
   },
   {
    "duration": 5,
    "start_time": "2022-08-26T22:11:57.373Z"
   },
   {
    "duration": 7,
    "start_time": "2022-08-26T22:12:25.679Z"
   },
   {
    "duration": 8,
    "start_time": "2022-08-26T22:12:47.108Z"
   },
   {
    "duration": 7,
    "start_time": "2022-08-26T22:21:17.855Z"
   },
   {
    "duration": 6,
    "start_time": "2022-08-26T22:49:01.690Z"
   },
   {
    "duration": 1124,
    "start_time": "2022-08-26T23:11:50.617Z"
   },
   {
    "duration": 16,
    "start_time": "2022-08-26T23:11:51.743Z"
   },
   {
    "duration": 31,
    "start_time": "2022-08-26T23:11:51.760Z"
   },
   {
    "duration": 9,
    "start_time": "2022-08-26T23:11:51.794Z"
   },
   {
    "duration": 17,
    "start_time": "2022-08-26T23:11:51.805Z"
   },
   {
    "duration": 20,
    "start_time": "2022-08-26T23:11:51.824Z"
   },
   {
    "duration": 16,
    "start_time": "2022-08-26T23:11:51.846Z"
   },
   {
    "duration": 7,
    "start_time": "2022-08-26T23:11:51.864Z"
   },
   {
    "duration": 5,
    "start_time": "2022-08-26T23:11:51.872Z"
   },
   {
    "duration": 5,
    "start_time": "2022-08-26T23:11:51.878Z"
   },
   {
    "duration": 4,
    "start_time": "2022-08-26T23:11:51.898Z"
   },
   {
    "duration": 6,
    "start_time": "2022-08-26T23:11:51.903Z"
   },
   {
    "duration": 4,
    "start_time": "2022-08-26T23:11:51.910Z"
   },
   {
    "duration": 4,
    "start_time": "2022-08-26T23:11:51.915Z"
   },
   {
    "duration": 5,
    "start_time": "2022-08-26T23:11:51.920Z"
   },
   {
    "duration": 4,
    "start_time": "2022-08-26T23:11:51.926Z"
   },
   {
    "duration": 780,
    "start_time": "2022-08-26T23:11:51.931Z"
   },
   {
    "duration": 6,
    "start_time": "2022-08-26T23:11:52.713Z"
   },
   {
    "duration": 11,
    "start_time": "2022-08-26T23:11:52.721Z"
   },
   {
    "duration": 9,
    "start_time": "2022-08-26T23:11:52.734Z"
   },
   {
    "duration": 23,
    "start_time": "2022-08-26T23:11:52.744Z"
   },
   {
    "duration": 48,
    "start_time": "2022-08-26T23:11:52.769Z"
   },
   {
    "duration": 7,
    "start_time": "2022-08-26T23:11:52.819Z"
   },
   {
    "duration": 162,
    "start_time": "2022-08-26T23:11:52.827Z"
   },
   {
    "duration": 14,
    "start_time": "2022-08-26T23:11:52.991Z"
   },
   {
    "duration": 146,
    "start_time": "2022-08-26T23:11:53.006Z"
   },
   {
    "duration": 7,
    "start_time": "2022-08-26T23:11:53.154Z"
   },
   {
    "duration": 148,
    "start_time": "2022-08-26T23:11:53.165Z"
   },
   {
    "duration": 8,
    "start_time": "2022-08-26T23:11:53.315Z"
   },
   {
    "duration": 122,
    "start_time": "2022-08-26T23:11:53.324Z"
   },
   {
    "duration": 8,
    "start_time": "2022-08-26T23:11:53.448Z"
   },
   {
    "duration": 140,
    "start_time": "2022-08-26T23:11:53.458Z"
   },
   {
    "duration": 8,
    "start_time": "2022-08-26T23:11:53.600Z"
   },
   {
    "duration": 141,
    "start_time": "2022-08-26T23:11:53.609Z"
   },
   {
    "duration": 6,
    "start_time": "2022-08-26T23:11:53.752Z"
   },
   {
    "duration": 16,
    "start_time": "2022-08-26T23:11:53.760Z"
   },
   {
    "duration": 7,
    "start_time": "2022-08-26T23:11:53.778Z"
   },
   {
    "duration": 16,
    "start_time": "2022-08-26T23:11:53.787Z"
   },
   {
    "duration": 6,
    "start_time": "2022-08-26T23:11:53.804Z"
   },
   {
    "duration": 14,
    "start_time": "2022-08-26T23:11:53.812Z"
   },
   {
    "duration": 8,
    "start_time": "2022-08-26T23:11:53.827Z"
   },
   {
    "duration": 6,
    "start_time": "2022-08-26T23:11:53.836Z"
   },
   {
    "duration": 6,
    "start_time": "2022-08-26T23:11:53.843Z"
   },
   {
    "duration": 7,
    "start_time": "2022-08-26T23:11:53.850Z"
   },
   {
    "duration": 93,
    "start_time": "2022-08-26T23:11:53.858Z"
   },
   {
    "duration": 14,
    "start_time": "2022-08-26T23:11:53.952Z"
   },
   {
    "duration": 8,
    "start_time": "2022-08-26T23:11:53.967Z"
   },
   {
    "duration": 28,
    "start_time": "2022-08-26T23:11:53.976Z"
   },
   {
    "duration": 8,
    "start_time": "2022-08-26T23:11:54.006Z"
   },
   {
    "duration": 17,
    "start_time": "2022-08-26T23:11:54.016Z"
   },
   {
    "duration": 21,
    "start_time": "2022-08-26T23:11:54.035Z"
   },
   {
    "duration": 1098,
    "start_time": "2022-08-27T00:02:43.810Z"
   },
   {
    "duration": 17,
    "start_time": "2022-08-27T00:02:44.910Z"
   },
   {
    "duration": 14,
    "start_time": "2022-08-27T00:02:44.929Z"
   },
   {
    "duration": 10,
    "start_time": "2022-08-27T00:02:44.946Z"
   },
   {
    "duration": 4,
    "start_time": "2022-08-27T00:02:44.957Z"
   },
   {
    "duration": 36,
    "start_time": "2022-08-27T00:02:44.963Z"
   },
   {
    "duration": 17,
    "start_time": "2022-08-27T00:02:45.000Z"
   },
   {
    "duration": 10,
    "start_time": "2022-08-27T00:02:45.019Z"
   },
   {
    "duration": 10,
    "start_time": "2022-08-27T00:02:45.031Z"
   },
   {
    "duration": 20,
    "start_time": "2022-08-27T00:02:45.043Z"
   },
   {
    "duration": 17,
    "start_time": "2022-08-27T00:02:45.065Z"
   },
   {
    "duration": 11,
    "start_time": "2022-08-27T00:02:45.084Z"
   },
   {
    "duration": 8,
    "start_time": "2022-08-27T00:02:45.097Z"
   },
   {
    "duration": 4,
    "start_time": "2022-08-27T00:02:45.106Z"
   },
   {
    "duration": 7,
    "start_time": "2022-08-27T00:02:45.112Z"
   },
   {
    "duration": 4,
    "start_time": "2022-08-27T00:02:45.121Z"
   },
   {
    "duration": 781,
    "start_time": "2022-08-27T00:02:45.127Z"
   },
   {
    "duration": 8,
    "start_time": "2022-08-27T00:02:45.909Z"
   },
   {
    "duration": 11,
    "start_time": "2022-08-27T00:02:45.918Z"
   },
   {
    "duration": 7,
    "start_time": "2022-08-27T00:02:45.930Z"
   },
   {
    "duration": 20,
    "start_time": "2022-08-27T00:02:45.939Z"
   },
   {
    "duration": 53,
    "start_time": "2022-08-27T00:02:45.960Z"
   },
   {
    "duration": 9,
    "start_time": "2022-08-27T00:02:46.014Z"
   },
   {
    "duration": 158,
    "start_time": "2022-08-27T00:02:46.024Z"
   },
   {
    "duration": 16,
    "start_time": "2022-08-27T00:02:46.183Z"
   },
   {
    "duration": 136,
    "start_time": "2022-08-27T00:02:46.200Z"
   },
   {
    "duration": 7,
    "start_time": "2022-08-27T00:02:46.337Z"
   },
   {
    "duration": 133,
    "start_time": "2022-08-27T00:02:46.347Z"
   },
   {
    "duration": 18,
    "start_time": "2022-08-27T00:02:46.481Z"
   },
   {
    "duration": 117,
    "start_time": "2022-08-27T00:02:46.500Z"
   },
   {
    "duration": 7,
    "start_time": "2022-08-27T00:02:46.619Z"
   },
   {
    "duration": 139,
    "start_time": "2022-08-27T00:02:46.627Z"
   },
   {
    "duration": 7,
    "start_time": "2022-08-27T00:02:46.768Z"
   },
   {
    "duration": 132,
    "start_time": "2022-08-27T00:02:46.777Z"
   },
   {
    "duration": 7,
    "start_time": "2022-08-27T00:02:46.910Z"
   },
   {
    "duration": 13,
    "start_time": "2022-08-27T00:02:46.918Z"
   },
   {
    "duration": 6,
    "start_time": "2022-08-27T00:02:46.933Z"
   },
   {
    "duration": 7,
    "start_time": "2022-08-27T00:02:46.941Z"
   },
   {
    "duration": 6,
    "start_time": "2022-08-27T00:02:46.949Z"
   },
   {
    "duration": 42,
    "start_time": "2022-08-27T00:02:46.957Z"
   },
   {
    "duration": 7,
    "start_time": "2022-08-27T00:02:47.000Z"
   },
   {
    "duration": 11,
    "start_time": "2022-08-27T00:02:47.008Z"
   },
   {
    "duration": 8,
    "start_time": "2022-08-27T00:02:47.021Z"
   },
   {
    "duration": 7,
    "start_time": "2022-08-27T00:02:47.031Z"
   },
   {
    "duration": 90,
    "start_time": "2022-08-27T00:02:47.040Z"
   },
   {
    "duration": 7,
    "start_time": "2022-08-27T00:02:47.131Z"
   },
   {
    "duration": 6,
    "start_time": "2022-08-27T00:02:47.139Z"
   },
   {
    "duration": 6,
    "start_time": "2022-08-27T00:02:47.146Z"
   },
   {
    "duration": 6,
    "start_time": "2022-08-27T00:02:47.154Z"
   },
   {
    "duration": 9,
    "start_time": "2022-08-27T00:02:47.161Z"
   },
   {
    "duration": 13,
    "start_time": "2022-08-27T00:02:47.197Z"
   },
   {
    "duration": 1501,
    "start_time": "2022-08-27T14:10:53.889Z"
   },
   {
    "duration": 29,
    "start_time": "2022-08-27T14:10:55.393Z"
   },
   {
    "duration": 16,
    "start_time": "2022-08-27T14:10:55.424Z"
   },
   {
    "duration": 7,
    "start_time": "2022-08-27T14:10:55.442Z"
   },
   {
    "duration": 4,
    "start_time": "2022-08-27T14:10:55.451Z"
   },
   {
    "duration": 15,
    "start_time": "2022-08-27T14:10:55.456Z"
   },
   {
    "duration": 17,
    "start_time": "2022-08-27T14:10:55.472Z"
   },
   {
    "duration": 30,
    "start_time": "2022-08-27T14:10:55.490Z"
   },
   {
    "duration": 30,
    "start_time": "2022-08-27T14:10:55.523Z"
   },
   {
    "duration": 14,
    "start_time": "2022-08-27T14:10:55.556Z"
   },
   {
    "duration": 11,
    "start_time": "2022-08-27T14:10:55.572Z"
   },
   {
    "duration": 13,
    "start_time": "2022-08-27T14:10:55.585Z"
   },
   {
    "duration": 25,
    "start_time": "2022-08-27T14:10:55.599Z"
   },
   {
    "duration": 7,
    "start_time": "2022-08-27T14:10:55.626Z"
   },
   {
    "duration": 6,
    "start_time": "2022-08-27T14:10:55.635Z"
   },
   {
    "duration": 12,
    "start_time": "2022-08-27T14:10:55.643Z"
   },
   {
    "duration": 959,
    "start_time": "2022-08-27T14:10:55.657Z"
   },
   {
    "duration": 8,
    "start_time": "2022-08-27T14:10:56.621Z"
   },
   {
    "duration": 9,
    "start_time": "2022-08-27T14:10:56.630Z"
   },
   {
    "duration": 7,
    "start_time": "2022-08-27T14:10:56.640Z"
   },
   {
    "duration": 16,
    "start_time": "2022-08-27T14:10:56.648Z"
   },
   {
    "duration": 51,
    "start_time": "2022-08-27T14:10:56.666Z"
   },
   {
    "duration": 9,
    "start_time": "2022-08-27T14:10:56.723Z"
   },
   {
    "duration": 160,
    "start_time": "2022-08-27T14:10:56.734Z"
   },
   {
    "duration": 16,
    "start_time": "2022-08-27T14:10:56.896Z"
   },
   {
    "duration": 161,
    "start_time": "2022-08-27T14:10:56.913Z"
   },
   {
    "duration": 7,
    "start_time": "2022-08-27T14:10:57.075Z"
   },
   {
    "duration": 141,
    "start_time": "2022-08-27T14:10:57.086Z"
   },
   {
    "duration": 7,
    "start_time": "2022-08-27T14:10:57.229Z"
   },
   {
    "duration": 127,
    "start_time": "2022-08-27T14:10:57.238Z"
   },
   {
    "duration": 9,
    "start_time": "2022-08-27T14:10:57.366Z"
   },
   {
    "duration": 150,
    "start_time": "2022-08-27T14:10:57.376Z"
   },
   {
    "duration": 7,
    "start_time": "2022-08-27T14:10:57.528Z"
   },
   {
    "duration": 160,
    "start_time": "2022-08-27T14:10:57.537Z"
   },
   {
    "duration": 8,
    "start_time": "2022-08-27T14:10:57.698Z"
   },
   {
    "duration": 35,
    "start_time": "2022-08-27T14:10:57.707Z"
   },
   {
    "duration": 8,
    "start_time": "2022-08-27T14:10:57.744Z"
   },
   {
    "duration": 20,
    "start_time": "2022-08-27T14:10:57.754Z"
   },
   {
    "duration": 9,
    "start_time": "2022-08-27T14:10:57.775Z"
   },
   {
    "duration": 8,
    "start_time": "2022-08-27T14:10:57.786Z"
   },
   {
    "duration": 14,
    "start_time": "2022-08-27T14:10:57.796Z"
   },
   {
    "duration": 20,
    "start_time": "2022-08-27T14:10:57.812Z"
   },
   {
    "duration": 8,
    "start_time": "2022-08-27T14:10:57.833Z"
   },
   {
    "duration": 8,
    "start_time": "2022-08-27T14:10:57.843Z"
   },
   {
    "duration": 112,
    "start_time": "2022-08-27T14:10:57.853Z"
   },
   {
    "duration": 8,
    "start_time": "2022-08-27T14:10:57.967Z"
   },
   {
    "duration": 11,
    "start_time": "2022-08-27T14:10:57.977Z"
   },
   {
    "duration": 22,
    "start_time": "2022-08-27T14:10:57.990Z"
   },
   {
    "duration": 17,
    "start_time": "2022-08-27T14:10:58.021Z"
   },
   {
    "duration": 11,
    "start_time": "2022-08-27T14:10:58.040Z"
   },
   {
    "duration": 20,
    "start_time": "2022-08-27T14:10:58.052Z"
   },
   {
    "duration": 9,
    "start_time": "2022-08-27T20:00:14.825Z"
   },
   {
    "duration": 3,
    "start_time": "2022-08-27T20:00:46.631Z"
   },
   {
    "duration": 5,
    "start_time": "2022-08-27T20:04:00.956Z"
   },
   {
    "duration": 159,
    "start_time": "2022-08-27T20:07:10.577Z"
   },
   {
    "duration": 102,
    "start_time": "2022-08-27T20:09:35.248Z"
   },
   {
    "duration": 6,
    "start_time": "2022-08-27T20:10:12.907Z"
   },
   {
    "duration": 9,
    "start_time": "2022-08-27T20:10:13.398Z"
   },
   {
    "duration": 49,
    "start_time": "2022-08-27T20:10:48.378Z"
   },
   {
    "duration": 89,
    "start_time": "2022-08-27T20:11:02.352Z"
   },
   {
    "duration": 1283,
    "start_time": "2022-08-27T20:11:49.283Z"
   },
   {
    "duration": 6,
    "start_time": "2022-08-27T20:12:06.309Z"
   },
   {
    "duration": 23,
    "start_time": "2022-08-27T20:13:01.801Z"
   },
   {
    "duration": 8,
    "start_time": "2022-08-27T20:13:29.183Z"
   },
   {
    "duration": 5,
    "start_time": "2022-08-27T20:13:41.823Z"
   },
   {
    "duration": 9,
    "start_time": "2022-08-27T20:14:00.763Z"
   },
   {
    "duration": 5,
    "start_time": "2022-08-27T20:14:07.324Z"
   },
   {
    "duration": 84,
    "start_time": "2022-08-27T20:14:10.950Z"
   },
   {
    "duration": 1262,
    "start_time": "2022-08-27T20:14:37.097Z"
   },
   {
    "duration": 17,
    "start_time": "2022-08-27T20:14:38.361Z"
   },
   {
    "duration": 13,
    "start_time": "2022-08-27T20:14:38.380Z"
   },
   {
    "duration": 9,
    "start_time": "2022-08-27T20:14:38.395Z"
   },
   {
    "duration": 5,
    "start_time": "2022-08-27T20:14:38.406Z"
   },
   {
    "duration": 15,
    "start_time": "2022-08-27T20:14:38.413Z"
   },
   {
    "duration": 18,
    "start_time": "2022-08-27T20:14:38.430Z"
   },
   {
    "duration": 9,
    "start_time": "2022-08-27T20:14:38.449Z"
   },
   {
    "duration": 5,
    "start_time": "2022-08-27T20:14:38.460Z"
   },
   {
    "duration": 6,
    "start_time": "2022-08-27T20:14:38.505Z"
   },
   {
    "duration": 11,
    "start_time": "2022-08-27T20:14:38.513Z"
   },
   {
    "duration": 8,
    "start_time": "2022-08-27T20:14:38.525Z"
   },
   {
    "duration": 8,
    "start_time": "2022-08-27T20:14:38.534Z"
   },
   {
    "duration": 5,
    "start_time": "2022-08-27T20:14:38.544Z"
   },
   {
    "duration": 4,
    "start_time": "2022-08-27T20:14:38.551Z"
   },
   {
    "duration": 4,
    "start_time": "2022-08-27T20:14:38.557Z"
   },
   {
    "duration": 931,
    "start_time": "2022-08-27T20:14:38.563Z"
   },
   {
    "duration": 13,
    "start_time": "2022-08-27T20:14:39.496Z"
   },
   {
    "duration": 8,
    "start_time": "2022-08-27T20:14:39.510Z"
   },
   {
    "duration": 7,
    "start_time": "2022-08-27T20:14:39.519Z"
   },
   {
    "duration": 18,
    "start_time": "2022-08-27T20:14:39.528Z"
   },
   {
    "duration": 23,
    "start_time": "2022-08-27T20:14:39.547Z"
   },
   {
    "duration": 8,
    "start_time": "2022-08-27T20:14:39.607Z"
   },
   {
    "duration": 195,
    "start_time": "2022-08-27T20:14:39.616Z"
   },
   {
    "duration": 14,
    "start_time": "2022-08-27T20:14:39.814Z"
   },
   {
    "duration": 171,
    "start_time": "2022-08-27T20:14:39.830Z"
   },
   {
    "duration": 7,
    "start_time": "2022-08-27T20:14:40.006Z"
   },
   {
    "duration": 168,
    "start_time": "2022-08-27T20:14:40.017Z"
   },
   {
    "duration": 9,
    "start_time": "2022-08-27T20:14:40.186Z"
   },
   {
    "duration": 156,
    "start_time": "2022-08-27T20:14:40.207Z"
   },
   {
    "duration": 13,
    "start_time": "2022-08-27T20:14:40.366Z"
   },
   {
    "duration": 192,
    "start_time": "2022-08-27T20:14:40.380Z"
   },
   {
    "duration": 8,
    "start_time": "2022-08-27T20:14:40.574Z"
   },
   {
    "duration": 158,
    "start_time": "2022-08-27T20:14:40.584Z"
   },
   {
    "duration": 8,
    "start_time": "2022-08-27T20:14:40.745Z"
   },
   {
    "duration": 22,
    "start_time": "2022-08-27T20:14:40.755Z"
   },
   {
    "duration": 12,
    "start_time": "2022-08-27T20:14:40.778Z"
   },
   {
    "duration": 19,
    "start_time": "2022-08-27T20:14:40.792Z"
   },
   {
    "duration": 9,
    "start_time": "2022-08-27T20:14:40.812Z"
   },
   {
    "duration": 12,
    "start_time": "2022-08-27T20:14:40.823Z"
   },
   {
    "duration": 9,
    "start_time": "2022-08-27T20:14:40.837Z"
   },
   {
    "duration": 8,
    "start_time": "2022-08-27T20:14:40.848Z"
   },
   {
    "duration": 10,
    "start_time": "2022-08-27T20:14:40.858Z"
   },
   {
    "duration": 40,
    "start_time": "2022-08-27T20:14:40.869Z"
   },
   {
    "duration": 81,
    "start_time": "2022-08-27T20:14:40.911Z"
   },
   {
    "duration": 20,
    "start_time": "2022-08-27T20:14:40.994Z"
   },
   {
    "duration": 11,
    "start_time": "2022-08-27T20:14:41.016Z"
   },
   {
    "duration": 7,
    "start_time": "2022-08-27T20:14:41.029Z"
   },
   {
    "duration": 11,
    "start_time": "2022-08-27T20:14:41.037Z"
   },
   {
    "duration": 10,
    "start_time": "2022-08-27T20:14:41.050Z"
   },
   {
    "duration": 14,
    "start_time": "2022-08-27T20:14:41.062Z"
   },
   {
    "duration": 194,
    "start_time": "2022-08-27T20:21:37.657Z"
   },
   {
    "duration": 371,
    "start_time": "2022-08-27T20:22:31.764Z"
   },
   {
    "duration": 5,
    "start_time": "2022-08-27T20:23:02.071Z"
   },
   {
    "duration": 7,
    "start_time": "2022-08-27T20:23:12.907Z"
   },
   {
    "duration": 5,
    "start_time": "2022-08-27T20:23:13.797Z"
   },
   {
    "duration": 4,
    "start_time": "2022-08-27T20:23:14.578Z"
   },
   {
    "duration": 299,
    "start_time": "2022-08-27T20:23:56.262Z"
   },
   {
    "duration": 1272,
    "start_time": "2022-08-27T20:24:30.878Z"
   },
   {
    "duration": 17,
    "start_time": "2022-08-27T20:24:32.152Z"
   },
   {
    "duration": 14,
    "start_time": "2022-08-27T20:24:32.171Z"
   },
   {
    "duration": 8,
    "start_time": "2022-08-27T20:24:32.188Z"
   },
   {
    "duration": 11,
    "start_time": "2022-08-27T20:24:32.198Z"
   },
   {
    "duration": 24,
    "start_time": "2022-08-27T20:24:32.211Z"
   },
   {
    "duration": 17,
    "start_time": "2022-08-27T20:24:32.237Z"
   },
   {
    "duration": 9,
    "start_time": "2022-08-27T20:24:32.256Z"
   },
   {
    "duration": 6,
    "start_time": "2022-08-27T20:24:32.267Z"
   },
   {
    "duration": 31,
    "start_time": "2022-08-27T20:24:32.275Z"
   },
   {
    "duration": 6,
    "start_time": "2022-08-27T20:24:32.308Z"
   },
   {
    "duration": 24,
    "start_time": "2022-08-27T20:24:32.315Z"
   },
   {
    "duration": 4,
    "start_time": "2022-08-27T20:24:32.341Z"
   },
   {
    "duration": 6,
    "start_time": "2022-08-27T20:24:32.346Z"
   },
   {
    "duration": 5,
    "start_time": "2022-08-27T20:24:32.354Z"
   },
   {
    "duration": 5,
    "start_time": "2022-08-27T20:24:32.360Z"
   },
   {
    "duration": 859,
    "start_time": "2022-08-27T20:24:32.366Z"
   },
   {
    "duration": 8,
    "start_time": "2022-08-27T20:24:33.227Z"
   },
   {
    "duration": 11,
    "start_time": "2022-08-27T20:24:33.237Z"
   },
   {
    "duration": 8,
    "start_time": "2022-08-27T20:24:33.250Z"
   },
   {
    "duration": 17,
    "start_time": "2022-08-27T20:24:33.260Z"
   },
   {
    "duration": 29,
    "start_time": "2022-08-27T20:24:33.307Z"
   },
   {
    "duration": 14,
    "start_time": "2022-08-27T20:24:33.338Z"
   },
   {
    "duration": 209,
    "start_time": "2022-08-27T20:24:33.354Z"
   },
   {
    "duration": 9,
    "start_time": "2022-08-27T20:24:33.565Z"
   },
   {
    "duration": 173,
    "start_time": "2022-08-27T20:24:33.575Z"
   },
   {
    "duration": 9,
    "start_time": "2022-08-27T20:24:33.750Z"
   },
   {
    "duration": 151,
    "start_time": "2022-08-27T20:24:33.764Z"
   },
   {
    "duration": 11,
    "start_time": "2022-08-27T20:24:33.919Z"
   },
   {
    "duration": 163,
    "start_time": "2022-08-27T20:24:33.931Z"
   },
   {
    "duration": 15,
    "start_time": "2022-08-27T20:24:34.096Z"
   },
   {
    "duration": 152,
    "start_time": "2022-08-27T20:24:34.113Z"
   },
   {
    "duration": 8,
    "start_time": "2022-08-27T20:24:34.266Z"
   },
   {
    "duration": 143,
    "start_time": "2022-08-27T20:24:34.275Z"
   },
   {
    "duration": 7,
    "start_time": "2022-08-27T20:24:34.420Z"
   },
   {
    "duration": 59,
    "start_time": "2022-08-27T20:24:34.429Z"
   },
   {
    "duration": 42,
    "start_time": "2022-08-27T20:24:34.490Z"
   },
   {
    "duration": 22,
    "start_time": "2022-08-27T20:24:34.534Z"
   },
   {
    "duration": 16,
    "start_time": "2022-08-27T20:24:34.557Z"
   },
   {
    "duration": 26,
    "start_time": "2022-08-27T20:24:34.574Z"
   },
   {
    "duration": 49,
    "start_time": "2022-08-27T20:24:34.602Z"
   },
   {
    "duration": 26,
    "start_time": "2022-08-27T20:24:34.653Z"
   },
   {
    "duration": 13,
    "start_time": "2022-08-27T20:24:34.680Z"
   },
   {
    "duration": 38,
    "start_time": "2022-08-27T20:24:34.695Z"
   },
   {
    "duration": 105,
    "start_time": "2022-08-27T20:24:34.735Z"
   },
   {
    "duration": 8,
    "start_time": "2022-08-27T20:24:34.842Z"
   },
   {
    "duration": 14,
    "start_time": "2022-08-27T20:24:34.851Z"
   },
   {
    "duration": 10,
    "start_time": "2022-08-27T20:24:34.868Z"
   },
   {
    "duration": 11,
    "start_time": "2022-08-27T20:24:34.879Z"
   },
   {
    "duration": 45,
    "start_time": "2022-08-27T20:24:34.892Z"
   },
   {
    "duration": 28,
    "start_time": "2022-08-27T20:24:34.941Z"
   },
   {
    "duration": 420,
    "start_time": "2022-08-27T20:24:34.970Z"
   },
   {
    "duration": 0,
    "start_time": "2022-08-27T20:24:35.391Z"
   },
   {
    "duration": 0,
    "start_time": "2022-08-27T20:24:35.392Z"
   },
   {
    "duration": 0,
    "start_time": "2022-08-27T20:24:35.394Z"
   },
   {
    "duration": 0,
    "start_time": "2022-08-27T20:24:35.395Z"
   },
   {
    "duration": 372,
    "start_time": "2022-08-27T20:25:08.386Z"
   },
   {
    "duration": 4,
    "start_time": "2022-08-27T20:26:03.458Z"
   },
   {
    "duration": 4,
    "start_time": "2022-08-27T20:26:04.758Z"
   },
   {
    "duration": 392,
    "start_time": "2022-08-27T20:26:45.171Z"
   },
   {
    "duration": 20,
    "start_time": "2022-08-27T20:27:19.713Z"
   },
   {
    "duration": 1171,
    "start_time": "2022-08-27T20:31:12.558Z"
   },
   {
    "duration": 20,
    "start_time": "2022-08-27T20:31:13.732Z"
   },
   {
    "duration": 12,
    "start_time": "2022-08-27T20:31:13.754Z"
   },
   {
    "duration": 8,
    "start_time": "2022-08-27T20:31:13.768Z"
   },
   {
    "duration": 4,
    "start_time": "2022-08-27T20:31:13.778Z"
   },
   {
    "duration": 35,
    "start_time": "2022-08-27T20:31:13.784Z"
   },
   {
    "duration": 27,
    "start_time": "2022-08-27T20:31:13.820Z"
   },
   {
    "duration": 8,
    "start_time": "2022-08-27T20:31:13.848Z"
   },
   {
    "duration": 4,
    "start_time": "2022-08-27T20:31:13.858Z"
   },
   {
    "duration": 5,
    "start_time": "2022-08-27T20:31:13.864Z"
   },
   {
    "duration": 5,
    "start_time": "2022-08-27T20:31:13.870Z"
   },
   {
    "duration": 5,
    "start_time": "2022-08-27T20:31:13.877Z"
   },
   {
    "duration": 3,
    "start_time": "2022-08-27T20:31:13.884Z"
   },
   {
    "duration": 5,
    "start_time": "2022-08-27T20:31:13.907Z"
   },
   {
    "duration": 13,
    "start_time": "2022-08-27T20:31:13.913Z"
   },
   {
    "duration": 7,
    "start_time": "2022-08-27T20:31:13.927Z"
   },
   {
    "duration": 816,
    "start_time": "2022-08-27T20:31:13.936Z"
   },
   {
    "duration": 6,
    "start_time": "2022-08-27T20:31:14.753Z"
   },
   {
    "duration": 9,
    "start_time": "2022-08-27T20:31:14.760Z"
   },
   {
    "duration": 7,
    "start_time": "2022-08-27T20:31:14.771Z"
   },
   {
    "duration": 45,
    "start_time": "2022-08-27T20:31:14.779Z"
   },
   {
    "duration": 21,
    "start_time": "2022-08-27T20:31:14.825Z"
   },
   {
    "duration": 8,
    "start_time": "2022-08-27T20:31:14.847Z"
   },
   {
    "duration": 166,
    "start_time": "2022-08-27T20:31:14.856Z"
   },
   {
    "duration": 9,
    "start_time": "2022-08-27T20:31:15.023Z"
   },
   {
    "duration": 142,
    "start_time": "2022-08-27T20:31:15.033Z"
   },
   {
    "duration": 7,
    "start_time": "2022-08-27T20:31:15.177Z"
   },
   {
    "duration": 139,
    "start_time": "2022-08-27T20:31:15.188Z"
   },
   {
    "duration": 9,
    "start_time": "2022-08-27T20:31:15.328Z"
   },
   {
    "duration": 129,
    "start_time": "2022-08-27T20:31:15.338Z"
   },
   {
    "duration": 7,
    "start_time": "2022-08-27T20:31:15.468Z"
   },
   {
    "duration": 148,
    "start_time": "2022-08-27T20:31:15.477Z"
   },
   {
    "duration": 8,
    "start_time": "2022-08-27T20:31:15.626Z"
   },
   {
    "duration": 137,
    "start_time": "2022-08-27T20:31:15.635Z"
   },
   {
    "duration": 7,
    "start_time": "2022-08-27T20:31:15.774Z"
   },
   {
    "duration": 10,
    "start_time": "2022-08-27T20:31:15.782Z"
   },
   {
    "duration": 27,
    "start_time": "2022-08-27T20:31:15.793Z"
   },
   {
    "duration": 6,
    "start_time": "2022-08-27T20:31:15.821Z"
   },
   {
    "duration": 9,
    "start_time": "2022-08-27T20:31:15.828Z"
   },
   {
    "duration": 6,
    "start_time": "2022-08-27T20:31:15.838Z"
   },
   {
    "duration": 7,
    "start_time": "2022-08-27T20:31:15.845Z"
   },
   {
    "duration": 6,
    "start_time": "2022-08-27T20:31:15.853Z"
   },
   {
    "duration": 7,
    "start_time": "2022-08-27T20:31:15.860Z"
   },
   {
    "duration": 9,
    "start_time": "2022-08-27T20:31:15.868Z"
   },
   {
    "duration": 89,
    "start_time": "2022-08-27T20:31:15.878Z"
   },
   {
    "duration": 6,
    "start_time": "2022-08-27T20:31:15.969Z"
   },
   {
    "duration": 8,
    "start_time": "2022-08-27T20:31:15.977Z"
   },
   {
    "duration": 32,
    "start_time": "2022-08-27T20:31:15.986Z"
   },
   {
    "duration": 12,
    "start_time": "2022-08-27T20:31:16.022Z"
   },
   {
    "duration": 25,
    "start_time": "2022-08-27T20:31:16.036Z"
   },
   {
    "duration": 13,
    "start_time": "2022-08-27T20:31:16.062Z"
   },
   {
    "duration": 42,
    "start_time": "2022-08-27T20:31:16.077Z"
   },
   {
    "duration": 210,
    "start_time": "2022-08-27T20:31:16.123Z"
   },
   {
    "duration": 0,
    "start_time": "2022-08-27T20:31:16.335Z"
   },
   {
    "duration": 0,
    "start_time": "2022-08-27T20:31:16.336Z"
   },
   {
    "duration": 99,
    "start_time": "2022-08-27T20:33:31.722Z"
   },
   {
    "duration": 5,
    "start_time": "2022-08-27T20:36:45.587Z"
   },
   {
    "duration": 6,
    "start_time": "2022-08-27T20:36:47.424Z"
   },
   {
    "duration": 6,
    "start_time": "2022-08-27T20:36:53.452Z"
   },
   {
    "duration": 9,
    "start_time": "2022-08-27T20:46:18.332Z"
   },
   {
    "duration": 113,
    "start_time": "2022-08-27T20:49:47.746Z"
   },
   {
    "duration": 7,
    "start_time": "2022-08-27T20:50:18.744Z"
   },
   {
    "duration": 7,
    "start_time": "2022-08-27T20:51:34.317Z"
   },
   {
    "duration": 7,
    "start_time": "2022-08-27T20:51:42.897Z"
   },
   {
    "duration": 10,
    "start_time": "2022-08-27T20:52:04.335Z"
   },
   {
    "duration": 10,
    "start_time": "2022-08-27T20:52:10.239Z"
   },
   {
    "duration": 9,
    "start_time": "2022-08-27T20:52:15.340Z"
   },
   {
    "duration": 10,
    "start_time": "2022-08-27T20:52:25.511Z"
   },
   {
    "duration": 10,
    "start_time": "2022-08-27T20:52:31.090Z"
   },
   {
    "duration": 7,
    "start_time": "2022-08-27T20:52:47.939Z"
   },
   {
    "duration": 1239,
    "start_time": "2022-08-27T20:53:11.985Z"
   },
   {
    "duration": 17,
    "start_time": "2022-08-27T20:53:13.226Z"
   },
   {
    "duration": 14,
    "start_time": "2022-08-27T20:53:13.245Z"
   },
   {
    "duration": 8,
    "start_time": "2022-08-27T20:53:13.261Z"
   },
   {
    "duration": 6,
    "start_time": "2022-08-27T20:53:13.271Z"
   },
   {
    "duration": 43,
    "start_time": "2022-08-27T20:53:13.278Z"
   },
   {
    "duration": 20,
    "start_time": "2022-08-27T20:53:13.324Z"
   },
   {
    "duration": 9,
    "start_time": "2022-08-27T20:53:13.346Z"
   },
   {
    "duration": 5,
    "start_time": "2022-08-27T20:53:13.357Z"
   },
   {
    "duration": 8,
    "start_time": "2022-08-27T20:53:13.365Z"
   },
   {
    "duration": 8,
    "start_time": "2022-08-27T20:53:13.374Z"
   },
   {
    "duration": 7,
    "start_time": "2022-08-27T20:53:13.407Z"
   },
   {
    "duration": 15,
    "start_time": "2022-08-27T20:53:13.416Z"
   },
   {
    "duration": 5,
    "start_time": "2022-08-27T20:53:13.432Z"
   },
   {
    "duration": 4,
    "start_time": "2022-08-27T20:53:13.439Z"
   },
   {
    "duration": 7,
    "start_time": "2022-08-27T20:53:13.445Z"
   },
   {
    "duration": 856,
    "start_time": "2022-08-27T20:53:13.453Z"
   },
   {
    "duration": 14,
    "start_time": "2022-08-27T20:53:14.311Z"
   },
   {
    "duration": 14,
    "start_time": "2022-08-27T20:53:14.327Z"
   },
   {
    "duration": 9,
    "start_time": "2022-08-27T20:53:14.343Z"
   },
   {
    "duration": 23,
    "start_time": "2022-08-27T20:53:14.354Z"
   },
   {
    "duration": 48,
    "start_time": "2022-08-27T20:53:14.379Z"
   },
   {
    "duration": 12,
    "start_time": "2022-08-27T20:53:14.430Z"
   },
   {
    "duration": 191,
    "start_time": "2022-08-27T20:53:14.444Z"
   },
   {
    "duration": 8,
    "start_time": "2022-08-27T20:53:14.636Z"
   },
   {
    "duration": 153,
    "start_time": "2022-08-27T20:53:14.645Z"
   },
   {
    "duration": 12,
    "start_time": "2022-08-27T20:53:14.800Z"
   },
   {
    "duration": 160,
    "start_time": "2022-08-27T20:53:14.816Z"
   },
   {
    "duration": 9,
    "start_time": "2022-08-27T20:53:14.977Z"
   },
   {
    "duration": 166,
    "start_time": "2022-08-27T20:53:14.987Z"
   },
   {
    "duration": 7,
    "start_time": "2022-08-27T20:53:15.154Z"
   },
   {
    "duration": 145,
    "start_time": "2022-08-27T20:53:15.163Z"
   },
   {
    "duration": 14,
    "start_time": "2022-08-27T20:53:15.309Z"
   },
   {
    "duration": 166,
    "start_time": "2022-08-27T20:53:15.324Z"
   },
   {
    "duration": 15,
    "start_time": "2022-08-27T20:53:15.493Z"
   },
   {
    "duration": 32,
    "start_time": "2022-08-27T20:53:15.510Z"
   },
   {
    "duration": 8,
    "start_time": "2022-08-27T20:53:15.544Z"
   },
   {
    "duration": 8,
    "start_time": "2022-08-27T20:53:15.554Z"
   },
   {
    "duration": 6,
    "start_time": "2022-08-27T20:53:15.564Z"
   },
   {
    "duration": 6,
    "start_time": "2022-08-27T20:53:15.572Z"
   },
   {
    "duration": 8,
    "start_time": "2022-08-27T20:53:15.579Z"
   },
   {
    "duration": 25,
    "start_time": "2022-08-27T20:53:15.588Z"
   },
   {
    "duration": 24,
    "start_time": "2022-08-27T20:53:15.615Z"
   },
   {
    "duration": 8,
    "start_time": "2022-08-27T20:53:15.641Z"
   },
   {
    "duration": 166,
    "start_time": "2022-08-27T20:53:15.651Z"
   },
   {
    "duration": 0,
    "start_time": "2022-08-27T20:53:15.819Z"
   },
   {
    "duration": 0,
    "start_time": "2022-08-27T20:53:15.824Z"
   },
   {
    "duration": 0,
    "start_time": "2022-08-27T20:53:15.825Z"
   },
   {
    "duration": 0,
    "start_time": "2022-08-27T20:53:15.827Z"
   },
   {
    "duration": 0,
    "start_time": "2022-08-27T20:53:15.829Z"
   },
   {
    "duration": 0,
    "start_time": "2022-08-27T20:53:15.830Z"
   },
   {
    "duration": 0,
    "start_time": "2022-08-27T20:53:15.832Z"
   },
   {
    "duration": 0,
    "start_time": "2022-08-27T20:53:15.833Z"
   },
   {
    "duration": 0,
    "start_time": "2022-08-27T20:53:15.835Z"
   },
   {
    "duration": 0,
    "start_time": "2022-08-27T20:53:15.836Z"
   },
   {
    "duration": 0,
    "start_time": "2022-08-27T20:53:15.837Z"
   },
   {
    "duration": 0,
    "start_time": "2022-08-27T20:53:15.838Z"
   },
   {
    "duration": 41,
    "start_time": "2022-08-28T09:28:06.293Z"
   },
   {
    "duration": 1314,
    "start_time": "2022-08-28T09:28:12.047Z"
   },
   {
    "duration": 18,
    "start_time": "2022-08-28T09:28:13.363Z"
   },
   {
    "duration": 13,
    "start_time": "2022-08-28T09:28:13.382Z"
   },
   {
    "duration": 8,
    "start_time": "2022-08-28T09:28:13.396Z"
   },
   {
    "duration": 4,
    "start_time": "2022-08-28T09:28:13.406Z"
   },
   {
    "duration": 14,
    "start_time": "2022-08-28T09:28:13.411Z"
   },
   {
    "duration": 16,
    "start_time": "2022-08-28T09:28:13.426Z"
   },
   {
    "duration": 7,
    "start_time": "2022-08-28T09:28:13.443Z"
   },
   {
    "duration": 4,
    "start_time": "2022-08-28T09:28:13.451Z"
   },
   {
    "duration": 7,
    "start_time": "2022-08-28T09:28:13.456Z"
   },
   {
    "duration": 8,
    "start_time": "2022-08-28T09:28:13.464Z"
   },
   {
    "duration": 6,
    "start_time": "2022-08-28T09:28:13.473Z"
   },
   {
    "duration": 25,
    "start_time": "2022-08-28T09:28:13.481Z"
   },
   {
    "duration": 3,
    "start_time": "2022-08-28T09:28:13.508Z"
   },
   {
    "duration": 5,
    "start_time": "2022-08-28T09:28:13.512Z"
   },
   {
    "duration": 4,
    "start_time": "2022-08-28T09:28:13.518Z"
   },
   {
    "duration": 146,
    "start_time": "2022-08-28T09:28:13.523Z"
   },
   {
    "duration": 7,
    "start_time": "2022-08-28T09:28:13.670Z"
   },
   {
    "duration": 20,
    "start_time": "2022-08-28T09:28:13.678Z"
   },
   {
    "duration": 18,
    "start_time": "2022-08-28T09:28:13.699Z"
   },
   {
    "duration": 28,
    "start_time": "2022-08-28T09:28:13.719Z"
   },
   {
    "duration": 34,
    "start_time": "2022-08-28T09:28:13.749Z"
   },
   {
    "duration": 17,
    "start_time": "2022-08-28T09:28:13.784Z"
   },
   {
    "duration": 171,
    "start_time": "2022-08-28T09:28:13.802Z"
   },
   {
    "duration": 7,
    "start_time": "2022-08-28T09:28:13.975Z"
   },
   {
    "duration": 145,
    "start_time": "2022-08-28T09:28:13.983Z"
   },
   {
    "duration": 6,
    "start_time": "2022-08-28T09:28:14.130Z"
   },
   {
    "duration": 134,
    "start_time": "2022-08-28T09:28:14.137Z"
   },
   {
    "duration": 8,
    "start_time": "2022-08-28T09:28:14.272Z"
   },
   {
    "duration": 127,
    "start_time": "2022-08-28T09:28:14.281Z"
   },
   {
    "duration": 8,
    "start_time": "2022-08-28T09:28:14.410Z"
   },
   {
    "duration": 138,
    "start_time": "2022-08-28T09:28:14.419Z"
   },
   {
    "duration": 8,
    "start_time": "2022-08-28T09:28:14.559Z"
   },
   {
    "duration": 133,
    "start_time": "2022-08-28T09:28:14.568Z"
   },
   {
    "duration": 8,
    "start_time": "2022-08-28T09:28:14.706Z"
   },
   {
    "duration": 7,
    "start_time": "2022-08-28T09:28:14.715Z"
   },
   {
    "duration": 7,
    "start_time": "2022-08-28T09:28:14.724Z"
   },
   {
    "duration": 6,
    "start_time": "2022-08-28T09:28:14.732Z"
   },
   {
    "duration": 6,
    "start_time": "2022-08-28T09:28:14.739Z"
   },
   {
    "duration": 5,
    "start_time": "2022-08-28T09:28:14.746Z"
   },
   {
    "duration": 6,
    "start_time": "2022-08-28T09:28:14.754Z"
   },
   {
    "duration": 49,
    "start_time": "2022-08-28T09:28:14.761Z"
   },
   {
    "duration": 11,
    "start_time": "2022-08-28T09:28:14.812Z"
   },
   {
    "duration": 11,
    "start_time": "2022-08-28T09:28:14.824Z"
   },
   {
    "duration": 98,
    "start_time": "2022-08-28T09:28:14.836Z"
   },
   {
    "duration": 0,
    "start_time": "2022-08-28T09:28:14.936Z"
   },
   {
    "duration": 0,
    "start_time": "2022-08-28T09:28:14.936Z"
   },
   {
    "duration": 0,
    "start_time": "2022-08-28T09:28:14.937Z"
   },
   {
    "duration": 0,
    "start_time": "2022-08-28T09:28:14.939Z"
   },
   {
    "duration": 0,
    "start_time": "2022-08-28T09:28:14.939Z"
   },
   {
    "duration": 0,
    "start_time": "2022-08-28T09:28:14.940Z"
   },
   {
    "duration": 0,
    "start_time": "2022-08-28T09:28:14.941Z"
   },
   {
    "duration": 0,
    "start_time": "2022-08-28T09:28:14.942Z"
   },
   {
    "duration": 0,
    "start_time": "2022-08-28T09:28:14.943Z"
   },
   {
    "duration": 0,
    "start_time": "2022-08-28T09:28:14.944Z"
   },
   {
    "duration": 0,
    "start_time": "2022-08-28T09:28:14.945Z"
   },
   {
    "duration": 0,
    "start_time": "2022-08-28T09:28:14.946Z"
   },
   {
    "duration": 177975,
    "start_time": "2022-08-28T09:29:16.622Z"
   },
   {
    "duration": 777,
    "start_time": "2022-08-28T09:34:01.246Z"
   },
   {
    "duration": 880,
    "start_time": "2022-08-28T09:35:20.255Z"
   },
   {
    "duration": 833,
    "start_time": "2022-08-28T09:35:28.395Z"
   },
   {
    "duration": 744,
    "start_time": "2022-08-28T09:35:47.870Z"
   },
   {
    "duration": 802,
    "start_time": "2022-08-28T09:36:04.020Z"
   },
   {
    "duration": 796,
    "start_time": "2022-08-28T09:36:11.354Z"
   },
   {
    "duration": 757,
    "start_time": "2022-08-28T09:37:15.071Z"
   },
   {
    "duration": 729,
    "start_time": "2022-08-28T09:37:21.684Z"
   },
   {
    "duration": 728,
    "start_time": "2022-08-28T09:41:10.682Z"
   },
   {
    "duration": 768,
    "start_time": "2022-08-28T09:41:17.246Z"
   },
   {
    "duration": 8,
    "start_time": "2022-08-28T09:46:26.757Z"
   },
   {
    "duration": 481,
    "start_time": "2022-08-28T09:46:34.106Z"
   },
   {
    "duration": 6,
    "start_time": "2022-08-28T09:47:51.812Z"
   },
   {
    "duration": 5,
    "start_time": "2022-08-28T09:48:00.349Z"
   },
   {
    "duration": 23,
    "start_time": "2022-08-28T09:49:58.634Z"
   },
   {
    "duration": 77,
    "start_time": "2022-08-28T09:51:08.384Z"
   },
   {
    "duration": 3,
    "start_time": "2022-08-28T09:51:31.693Z"
   },
   {
    "duration": 15,
    "start_time": "2022-08-28T09:51:36.094Z"
   },
   {
    "duration": 600,
    "start_time": "2022-08-28T09:52:02.696Z"
   },
   {
    "duration": 141,
    "start_time": "2022-08-28T10:00:26.919Z"
   },
   {
    "duration": 1065,
    "start_time": "2022-08-28T10:05:49.467Z"
   },
   {
    "duration": 18,
    "start_time": "2022-08-28T10:05:50.535Z"
   },
   {
    "duration": 13,
    "start_time": "2022-08-28T10:05:50.554Z"
   },
   {
    "duration": 8,
    "start_time": "2022-08-28T10:05:50.569Z"
   },
   {
    "duration": 4,
    "start_time": "2022-08-28T10:05:50.579Z"
   },
   {
    "duration": 34,
    "start_time": "2022-08-28T10:05:50.584Z"
   },
   {
    "duration": 18,
    "start_time": "2022-08-28T10:05:50.619Z"
   },
   {
    "duration": 9,
    "start_time": "2022-08-28T10:05:50.639Z"
   },
   {
    "duration": 5,
    "start_time": "2022-08-28T10:05:50.650Z"
   },
   {
    "duration": 6,
    "start_time": "2022-08-28T10:05:50.658Z"
   },
   {
    "duration": 7,
    "start_time": "2022-08-28T10:05:50.665Z"
   },
   {
    "duration": 34,
    "start_time": "2022-08-28T10:05:50.673Z"
   },
   {
    "duration": 5,
    "start_time": "2022-08-28T10:05:50.709Z"
   },
   {
    "duration": 4,
    "start_time": "2022-08-28T10:05:50.716Z"
   },
   {
    "duration": 4,
    "start_time": "2022-08-28T10:05:50.722Z"
   },
   {
    "duration": 4,
    "start_time": "2022-08-28T10:05:50.728Z"
   },
   {
    "duration": 9,
    "start_time": "2022-08-28T10:05:50.734Z"
   },
   {
    "duration": 7,
    "start_time": "2022-08-28T10:05:50.744Z"
   },
   {
    "duration": 7,
    "start_time": "2022-08-28T10:05:50.753Z"
   },
   {
    "duration": 48,
    "start_time": "2022-08-28T10:05:50.761Z"
   },
   {
    "duration": 22,
    "start_time": "2022-08-28T10:05:50.810Z"
   },
   {
    "duration": 7,
    "start_time": "2022-08-28T10:05:50.833Z"
   },
   {
    "duration": 185,
    "start_time": "2022-08-28T10:05:50.842Z"
   },
   {
    "duration": 8,
    "start_time": "2022-08-28T10:05:51.029Z"
   },
   {
    "duration": 155,
    "start_time": "2022-08-28T10:05:51.039Z"
   },
   {
    "duration": 14,
    "start_time": "2022-08-28T10:05:51.195Z"
   },
   {
    "duration": 147,
    "start_time": "2022-08-28T10:05:51.211Z"
   },
   {
    "duration": 7,
    "start_time": "2022-08-28T10:05:51.361Z"
   },
   {
    "duration": 136,
    "start_time": "2022-08-28T10:05:51.370Z"
   },
   {
    "duration": 8,
    "start_time": "2022-08-28T10:05:51.507Z"
   },
   {
    "duration": 148,
    "start_time": "2022-08-28T10:05:51.517Z"
   },
   {
    "duration": 7,
    "start_time": "2022-08-28T10:05:51.667Z"
   },
   {
    "duration": 143,
    "start_time": "2022-08-28T10:05:51.675Z"
   },
   {
    "duration": 7,
    "start_time": "2022-08-28T10:05:51.820Z"
   },
   {
    "duration": 9,
    "start_time": "2022-08-28T10:05:51.828Z"
   },
   {
    "duration": 6,
    "start_time": "2022-08-28T10:05:51.839Z"
   },
   {
    "duration": 5,
    "start_time": "2022-08-28T10:05:51.847Z"
   },
   {
    "duration": 23,
    "start_time": "2022-08-28T10:05:51.854Z"
   },
   {
    "duration": 29,
    "start_time": "2022-08-28T10:05:51.878Z"
   },
   {
    "duration": 7,
    "start_time": "2022-08-28T10:05:51.908Z"
   },
   {
    "duration": 11,
    "start_time": "2022-08-28T10:05:51.916Z"
   },
   {
    "duration": 8,
    "start_time": "2022-08-28T10:05:51.928Z"
   },
   {
    "duration": 8,
    "start_time": "2022-08-28T10:05:51.937Z"
   },
   {
    "duration": 11,
    "start_time": "2022-08-28T10:05:51.947Z"
   },
   {
    "duration": 15,
    "start_time": "2022-08-28T10:05:51.960Z"
   },
   {
    "duration": 8,
    "start_time": "2022-08-28T10:05:51.976Z"
   },
   {
    "duration": 25,
    "start_time": "2022-08-28T10:05:51.987Z"
   },
   {
    "duration": 8,
    "start_time": "2022-08-28T10:05:52.014Z"
   },
   {
    "duration": 7,
    "start_time": "2022-08-28T10:05:52.023Z"
   },
   {
    "duration": 5,
    "start_time": "2022-08-28T10:05:52.032Z"
   },
   {
    "duration": 8,
    "start_time": "2022-08-28T10:05:52.039Z"
   },
   {
    "duration": 9,
    "start_time": "2022-08-28T10:05:52.049Z"
   },
   {
    "duration": 11,
    "start_time": "2022-08-28T10:05:52.060Z"
   },
   {
    "duration": 38,
    "start_time": "2022-08-28T10:05:52.072Z"
   },
   {
    "duration": 14,
    "start_time": "2022-08-28T10:05:52.112Z"
   },
   {
    "duration": 156,
    "start_time": "2022-08-28T11:06:36.228Z"
   },
   {
    "duration": 84,
    "start_time": "2022-08-28T11:14:24.432Z"
   },
   {
    "duration": 913,
    "start_time": "2022-08-28T11:14:34.245Z"
   },
   {
    "duration": 70,
    "start_time": "2022-08-28T11:17:19.450Z"
   },
   {
    "duration": 598,
    "start_time": "2022-08-28T11:17:36.898Z"
   },
   {
    "duration": 627,
    "start_time": "2022-08-28T11:17:57.064Z"
   },
   {
    "duration": 605,
    "start_time": "2022-08-28T11:18:03.298Z"
   },
   {
    "duration": 1126,
    "start_time": "2022-08-28T11:22:07.986Z"
   },
   {
    "duration": 16,
    "start_time": "2022-08-28T11:22:09.114Z"
   },
   {
    "duration": 12,
    "start_time": "2022-08-28T11:22:09.132Z"
   },
   {
    "duration": 8,
    "start_time": "2022-08-28T11:22:09.145Z"
   },
   {
    "duration": 6,
    "start_time": "2022-08-28T11:22:09.154Z"
   },
   {
    "duration": 16,
    "start_time": "2022-08-28T11:22:09.162Z"
   },
   {
    "duration": 37,
    "start_time": "2022-08-28T11:22:09.179Z"
   },
   {
    "duration": 8,
    "start_time": "2022-08-28T11:22:09.217Z"
   },
   {
    "duration": 20,
    "start_time": "2022-08-28T11:22:09.226Z"
   },
   {
    "duration": 14,
    "start_time": "2022-08-28T11:22:09.249Z"
   },
   {
    "duration": 21,
    "start_time": "2022-08-28T11:22:09.265Z"
   },
   {
    "duration": 38,
    "start_time": "2022-08-28T11:22:09.288Z"
   },
   {
    "duration": 863,
    "start_time": "2022-08-28T11:22:09.327Z"
   },
   {
    "duration": 7,
    "start_time": "2022-08-28T11:22:10.191Z"
   },
   {
    "duration": 14,
    "start_time": "2022-08-28T11:22:10.206Z"
   },
   {
    "duration": 16,
    "start_time": "2022-08-28T11:22:10.222Z"
   },
   {
    "duration": 21,
    "start_time": "2022-08-28T11:22:10.240Z"
   },
   {
    "duration": 24,
    "start_time": "2022-08-28T11:22:10.262Z"
   },
   {
    "duration": 23,
    "start_time": "2022-08-28T11:22:10.288Z"
   },
   {
    "duration": 161,
    "start_time": "2022-08-28T11:22:10.313Z"
   },
   {
    "duration": 7,
    "start_time": "2022-08-28T11:22:10.476Z"
   },
   {
    "duration": 144,
    "start_time": "2022-08-28T11:22:10.484Z"
   },
   {
    "duration": 6,
    "start_time": "2022-08-28T11:22:10.630Z"
   },
   {
    "duration": 138,
    "start_time": "2022-08-28T11:22:10.637Z"
   },
   {
    "duration": 7,
    "start_time": "2022-08-28T11:22:10.776Z"
   },
   {
    "duration": 128,
    "start_time": "2022-08-28T11:22:10.784Z"
   },
   {
    "duration": 7,
    "start_time": "2022-08-28T11:22:10.913Z"
   },
   {
    "duration": 137,
    "start_time": "2022-08-28T11:22:10.923Z"
   },
   {
    "duration": 7,
    "start_time": "2022-08-28T11:22:11.061Z"
   },
   {
    "duration": 128,
    "start_time": "2022-08-28T11:22:11.069Z"
   },
   {
    "duration": 11,
    "start_time": "2022-08-28T11:22:11.199Z"
   },
   {
    "duration": 9,
    "start_time": "2022-08-28T11:22:11.212Z"
   },
   {
    "duration": 6,
    "start_time": "2022-08-28T11:22:11.222Z"
   },
   {
    "duration": 6,
    "start_time": "2022-08-28T11:22:11.229Z"
   },
   {
    "duration": 9,
    "start_time": "2022-08-28T11:22:11.237Z"
   },
   {
    "duration": 7,
    "start_time": "2022-08-28T11:22:11.247Z"
   },
   {
    "duration": 8,
    "start_time": "2022-08-28T11:22:11.255Z"
   },
   {
    "duration": 6,
    "start_time": "2022-08-28T11:22:11.264Z"
   },
   {
    "duration": 6,
    "start_time": "2022-08-28T11:22:11.306Z"
   },
   {
    "duration": 6,
    "start_time": "2022-08-28T11:22:11.313Z"
   },
   {
    "duration": 64,
    "start_time": "2022-08-28T11:22:11.321Z"
   },
   {
    "duration": 23,
    "start_time": "2022-08-28T11:22:11.386Z"
   },
   {
    "duration": 5,
    "start_time": "2022-08-28T11:22:11.411Z"
   },
   {
    "duration": 7,
    "start_time": "2022-08-28T11:22:11.418Z"
   },
   {
    "duration": 6,
    "start_time": "2022-08-28T11:22:11.426Z"
   },
   {
    "duration": 5,
    "start_time": "2022-08-28T11:22:11.433Z"
   },
   {
    "duration": 4,
    "start_time": "2022-08-28T11:22:11.439Z"
   },
   {
    "duration": 6,
    "start_time": "2022-08-28T11:22:11.444Z"
   },
   {
    "duration": 7,
    "start_time": "2022-08-28T11:22:11.452Z"
   },
   {
    "duration": 9,
    "start_time": "2022-08-28T11:22:11.460Z"
   },
   {
    "duration": 862,
    "start_time": "2022-08-28T12:08:58.659Z"
   },
   {
    "duration": 909,
    "start_time": "2022-08-28T12:09:16.058Z"
   },
   {
    "duration": 836,
    "start_time": "2022-08-28T12:11:51.001Z"
   },
   {
    "duration": 781,
    "start_time": "2022-08-28T12:11:56.246Z"
   },
   {
    "duration": 779,
    "start_time": "2022-08-28T12:12:00.646Z"
   },
   {
    "duration": 17,
    "start_time": "2022-08-28T12:17:09.771Z"
   },
   {
    "duration": 1099,
    "start_time": "2022-08-28T12:17:15.661Z"
   },
   {
    "duration": 16,
    "start_time": "2022-08-28T12:17:16.762Z"
   },
   {
    "duration": 15,
    "start_time": "2022-08-28T12:17:16.780Z"
   },
   {
    "duration": 9,
    "start_time": "2022-08-28T12:17:16.797Z"
   },
   {
    "duration": 4,
    "start_time": "2022-08-28T12:17:16.807Z"
   },
   {
    "duration": 14,
    "start_time": "2022-08-28T12:17:16.813Z"
   },
   {
    "duration": 15,
    "start_time": "2022-08-28T12:17:16.828Z"
   },
   {
    "duration": 8,
    "start_time": "2022-08-28T12:17:16.844Z"
   },
   {
    "duration": 5,
    "start_time": "2022-08-28T12:17:16.853Z"
   },
   {
    "duration": 5,
    "start_time": "2022-08-28T12:17:16.860Z"
   },
   {
    "duration": 5,
    "start_time": "2022-08-28T12:17:16.867Z"
   },
   {
    "duration": 34,
    "start_time": "2022-08-28T12:17:16.873Z"
   },
   {
    "duration": 769,
    "start_time": "2022-08-28T12:17:16.908Z"
   },
   {
    "duration": 7,
    "start_time": "2022-08-28T12:17:17.679Z"
   },
   {
    "duration": 7,
    "start_time": "2022-08-28T12:17:17.687Z"
   },
   {
    "duration": 7,
    "start_time": "2022-08-28T12:17:17.706Z"
   },
   {
    "duration": 17,
    "start_time": "2022-08-28T12:17:17.715Z"
   },
   {
    "duration": 18,
    "start_time": "2022-08-28T12:17:17.734Z"
   },
   {
    "duration": 7,
    "start_time": "2022-08-28T12:17:17.753Z"
   },
   {
    "duration": 164,
    "start_time": "2022-08-28T12:17:17.761Z"
   },
   {
    "duration": 7,
    "start_time": "2022-08-28T12:17:17.927Z"
   },
   {
    "duration": 143,
    "start_time": "2022-08-28T12:17:17.936Z"
   },
   {
    "duration": 7,
    "start_time": "2022-08-28T12:17:18.080Z"
   },
   {
    "duration": 129,
    "start_time": "2022-08-28T12:17:18.088Z"
   },
   {
    "duration": 7,
    "start_time": "2022-08-28T12:17:18.218Z"
   },
   {
    "duration": 122,
    "start_time": "2022-08-28T12:17:18.227Z"
   },
   {
    "duration": 7,
    "start_time": "2022-08-28T12:17:18.351Z"
   },
   {
    "duration": 136,
    "start_time": "2022-08-28T12:17:18.361Z"
   },
   {
    "duration": 12,
    "start_time": "2022-08-28T12:17:18.498Z"
   },
   {
    "duration": 136,
    "start_time": "2022-08-28T12:17:18.511Z"
   },
   {
    "duration": 6,
    "start_time": "2022-08-28T12:17:18.649Z"
   },
   {
    "duration": 22,
    "start_time": "2022-08-28T12:17:18.656Z"
   },
   {
    "duration": 22,
    "start_time": "2022-08-28T12:17:18.679Z"
   },
   {
    "duration": 25,
    "start_time": "2022-08-28T12:17:18.702Z"
   },
   {
    "duration": 21,
    "start_time": "2022-08-28T12:17:18.728Z"
   },
   {
    "duration": 34,
    "start_time": "2022-08-28T12:17:18.750Z"
   },
   {
    "duration": 16,
    "start_time": "2022-08-28T12:17:18.785Z"
   },
   {
    "duration": 19,
    "start_time": "2022-08-28T12:17:18.803Z"
   },
   {
    "duration": 23,
    "start_time": "2022-08-28T12:17:18.824Z"
   },
   {
    "duration": 26,
    "start_time": "2022-08-28T12:17:18.849Z"
   },
   {
    "duration": 82,
    "start_time": "2022-08-28T12:17:18.877Z"
   },
   {
    "duration": 6,
    "start_time": "2022-08-28T12:17:18.961Z"
   },
   {
    "duration": 11,
    "start_time": "2022-08-28T12:17:18.969Z"
   },
   {
    "duration": 9,
    "start_time": "2022-08-28T12:17:18.982Z"
   },
   {
    "duration": 6,
    "start_time": "2022-08-28T12:17:18.992Z"
   },
   {
    "duration": 12,
    "start_time": "2022-08-28T12:17:19.005Z"
   },
   {
    "duration": 10,
    "start_time": "2022-08-28T12:17:19.019Z"
   },
   {
    "duration": 14,
    "start_time": "2022-08-28T12:17:19.030Z"
   },
   {
    "duration": 8,
    "start_time": "2022-08-28T12:17:19.045Z"
   },
   {
    "duration": 14,
    "start_time": "2022-08-28T12:17:19.055Z"
   },
   {
    "duration": 3,
    "start_time": "2022-08-28T12:17:50.153Z"
   },
   {
    "duration": 18,
    "start_time": "2022-08-28T12:23:28.106Z"
   },
   {
    "duration": 101,
    "start_time": "2022-08-28T12:26:48.383Z"
   },
   {
    "duration": 19,
    "start_time": "2022-08-28T12:27:32.955Z"
   },
   {
    "duration": 132,
    "start_time": "2022-08-28T12:27:49.237Z"
   },
   {
    "duration": 9,
    "start_time": "2022-08-28T12:29:06.179Z"
   },
   {
    "duration": 107,
    "start_time": "2022-08-28T12:32:51.591Z"
   },
   {
    "duration": 6,
    "start_time": "2022-08-28T12:33:48.739Z"
   },
   {
    "duration": 8,
    "start_time": "2022-08-28T12:33:56.028Z"
   },
   {
    "duration": 9,
    "start_time": "2022-08-28T12:34:00.056Z"
   },
   {
    "duration": 90,
    "start_time": "2022-08-28T12:34:08.467Z"
   },
   {
    "duration": 78,
    "start_time": "2022-08-28T12:34:43.156Z"
   },
   {
    "duration": 8,
    "start_time": "2022-08-28T12:34:59.510Z"
   },
   {
    "duration": 7,
    "start_time": "2022-08-28T12:35:01.131Z"
   },
   {
    "duration": 4,
    "start_time": "2022-08-28T12:35:36.356Z"
   },
   {
    "duration": 110,
    "start_time": "2022-08-28T12:35:39.679Z"
   },
   {
    "duration": 1728,
    "start_time": "2022-08-29T08:22:37.148Z"
   },
   {
    "duration": 39,
    "start_time": "2022-08-29T08:22:38.879Z"
   },
   {
    "duration": 26,
    "start_time": "2022-08-29T08:22:38.925Z"
   },
   {
    "duration": 11,
    "start_time": "2022-08-29T08:22:38.954Z"
   },
   {
    "duration": 17,
    "start_time": "2022-08-29T08:22:38.967Z"
   },
   {
    "duration": 43,
    "start_time": "2022-08-29T08:22:38.986Z"
   },
   {
    "duration": 18,
    "start_time": "2022-08-29T08:22:39.031Z"
   },
   {
    "duration": 118,
    "start_time": "2022-08-29T08:22:39.051Z"
   },
   {
    "duration": 0,
    "start_time": "2022-08-29T08:22:39.172Z"
   },
   {
    "duration": 0,
    "start_time": "2022-08-29T08:22:39.174Z"
   },
   {
    "duration": 0,
    "start_time": "2022-08-29T08:22:39.175Z"
   },
   {
    "duration": 0,
    "start_time": "2022-08-29T08:22:39.177Z"
   },
   {
    "duration": 0,
    "start_time": "2022-08-29T08:22:39.178Z"
   },
   {
    "duration": 0,
    "start_time": "2022-08-29T08:22:39.193Z"
   },
   {
    "duration": 0,
    "start_time": "2022-08-29T08:22:39.194Z"
   },
   {
    "duration": 0,
    "start_time": "2022-08-29T08:22:39.195Z"
   },
   {
    "duration": 1,
    "start_time": "2022-08-29T08:22:39.195Z"
   },
   {
    "duration": 0,
    "start_time": "2022-08-29T08:22:39.196Z"
   },
   {
    "duration": 0,
    "start_time": "2022-08-29T08:22:39.197Z"
   },
   {
    "duration": 0,
    "start_time": "2022-08-29T08:22:39.198Z"
   },
   {
    "duration": 0,
    "start_time": "2022-08-29T08:22:39.199Z"
   },
   {
    "duration": 0,
    "start_time": "2022-08-29T08:22:39.200Z"
   },
   {
    "duration": 0,
    "start_time": "2022-08-29T08:22:39.201Z"
   },
   {
    "duration": 0,
    "start_time": "2022-08-29T08:22:39.202Z"
   },
   {
    "duration": 0,
    "start_time": "2022-08-29T08:22:39.203Z"
   },
   {
    "duration": 0,
    "start_time": "2022-08-29T08:22:39.204Z"
   },
   {
    "duration": 0,
    "start_time": "2022-08-29T08:22:39.206Z"
   },
   {
    "duration": 0,
    "start_time": "2022-08-29T08:22:39.207Z"
   },
   {
    "duration": 0,
    "start_time": "2022-08-29T08:22:39.208Z"
   },
   {
    "duration": 0,
    "start_time": "2022-08-29T08:22:39.209Z"
   },
   {
    "duration": 0,
    "start_time": "2022-08-29T08:22:39.210Z"
   },
   {
    "duration": 0,
    "start_time": "2022-08-29T08:22:39.211Z"
   },
   {
    "duration": 0,
    "start_time": "2022-08-29T08:22:39.212Z"
   },
   {
    "duration": 0,
    "start_time": "2022-08-29T08:22:39.216Z"
   },
   {
    "duration": 0,
    "start_time": "2022-08-29T08:22:39.217Z"
   },
   {
    "duration": 0,
    "start_time": "2022-08-29T08:22:39.218Z"
   },
   {
    "duration": 0,
    "start_time": "2022-08-29T08:22:39.219Z"
   },
   {
    "duration": 0,
    "start_time": "2022-08-29T08:22:39.221Z"
   },
   {
    "duration": 0,
    "start_time": "2022-08-29T08:22:39.222Z"
   },
   {
    "duration": 0,
    "start_time": "2022-08-29T08:22:39.223Z"
   },
   {
    "duration": 0,
    "start_time": "2022-08-29T08:22:39.224Z"
   },
   {
    "duration": 0,
    "start_time": "2022-08-29T08:22:39.226Z"
   },
   {
    "duration": 0,
    "start_time": "2022-08-29T08:22:39.227Z"
   },
   {
    "duration": 0,
    "start_time": "2022-08-29T08:22:39.228Z"
   },
   {
    "duration": 0,
    "start_time": "2022-08-29T08:22:39.230Z"
   },
   {
    "duration": 0,
    "start_time": "2022-08-29T08:22:39.231Z"
   },
   {
    "duration": 0,
    "start_time": "2022-08-29T08:22:39.233Z"
   },
   {
    "duration": 0,
    "start_time": "2022-08-29T08:22:39.234Z"
   },
   {
    "duration": 0,
    "start_time": "2022-08-29T08:22:39.236Z"
   },
   {
    "duration": 0,
    "start_time": "2022-08-29T08:22:39.237Z"
   },
   {
    "duration": 10,
    "start_time": "2022-08-29T08:23:19.118Z"
   },
   {
    "duration": 16,
    "start_time": "2022-08-29T08:23:24.235Z"
   },
   {
    "duration": 3,
    "start_time": "2022-08-29T08:23:35.541Z"
   },
   {
    "duration": 18,
    "start_time": "2022-08-29T08:23:37.510Z"
   },
   {
    "duration": 1358,
    "start_time": "2022-08-29T08:24:08.002Z"
   },
   {
    "duration": 20,
    "start_time": "2022-08-29T08:24:09.364Z"
   },
   {
    "duration": 27,
    "start_time": "2022-08-29T08:24:09.386Z"
   },
   {
    "duration": 38,
    "start_time": "2022-08-29T08:24:09.414Z"
   },
   {
    "duration": 6,
    "start_time": "2022-08-29T08:24:09.456Z"
   },
   {
    "duration": 16,
    "start_time": "2022-08-29T08:24:09.464Z"
   },
   {
    "duration": 34,
    "start_time": "2022-08-29T08:24:09.482Z"
   },
   {
    "duration": 20,
    "start_time": "2022-08-29T08:24:09.518Z"
   },
   {
    "duration": 6,
    "start_time": "2022-08-29T08:24:09.540Z"
   },
   {
    "duration": 8,
    "start_time": "2022-08-29T08:24:09.548Z"
   },
   {
    "duration": 7,
    "start_time": "2022-08-29T08:24:09.558Z"
   },
   {
    "duration": 8,
    "start_time": "2022-08-29T08:24:09.566Z"
   },
   {
    "duration": 1120,
    "start_time": "2022-08-29T08:24:09.576Z"
   },
   {
    "duration": 20,
    "start_time": "2022-08-29T08:24:10.707Z"
   },
   {
    "duration": 17,
    "start_time": "2022-08-29T08:24:10.730Z"
   },
   {
    "duration": 13,
    "start_time": "2022-08-29T08:24:10.748Z"
   },
   {
    "duration": 36,
    "start_time": "2022-08-29T08:24:10.763Z"
   },
   {
    "duration": 34,
    "start_time": "2022-08-29T08:24:10.806Z"
   },
   {
    "duration": 22,
    "start_time": "2022-08-29T08:24:10.841Z"
   },
   {
    "duration": 199,
    "start_time": "2022-08-29T08:24:10.864Z"
   },
   {
    "duration": 9,
    "start_time": "2022-08-29T08:24:11.065Z"
   },
   {
    "duration": 209,
    "start_time": "2022-08-29T08:24:11.076Z"
   },
   {
    "duration": 27,
    "start_time": "2022-08-29T08:24:11.287Z"
   },
   {
    "duration": 169,
    "start_time": "2022-08-29T08:24:11.320Z"
   },
   {
    "duration": 16,
    "start_time": "2022-08-29T08:24:11.493Z"
   },
   {
    "duration": 166,
    "start_time": "2022-08-29T08:24:11.511Z"
   },
   {
    "duration": 22,
    "start_time": "2022-08-29T08:24:11.679Z"
   },
   {
    "duration": 220,
    "start_time": "2022-08-29T08:24:11.704Z"
   },
   {
    "duration": 10,
    "start_time": "2022-08-29T08:24:11.929Z"
   },
   {
    "duration": 212,
    "start_time": "2022-08-29T08:24:11.941Z"
   },
   {
    "duration": 9,
    "start_time": "2022-08-29T08:24:12.155Z"
   },
   {
    "duration": 37,
    "start_time": "2022-08-29T08:24:12.167Z"
   },
   {
    "duration": 10,
    "start_time": "2022-08-29T08:24:12.209Z"
   },
   {
    "duration": 23,
    "start_time": "2022-08-29T08:24:12.226Z"
   },
   {
    "duration": 13,
    "start_time": "2022-08-29T08:24:12.251Z"
   },
   {
    "duration": 10,
    "start_time": "2022-08-29T08:24:12.267Z"
   },
   {
    "duration": 35,
    "start_time": "2022-08-29T08:24:12.279Z"
   },
   {
    "duration": 22,
    "start_time": "2022-08-29T08:24:12.321Z"
   },
   {
    "duration": 87,
    "start_time": "2022-08-29T08:24:12.344Z"
   },
   {
    "duration": 16,
    "start_time": "2022-08-29T08:24:12.433Z"
   },
   {
    "duration": 9,
    "start_time": "2022-08-29T08:24:12.453Z"
   },
   {
    "duration": 9,
    "start_time": "2022-08-29T08:24:12.464Z"
   },
   {
    "duration": 51,
    "start_time": "2022-08-29T08:24:12.475Z"
   },
   {
    "duration": 11,
    "start_time": "2022-08-29T08:24:12.528Z"
   },
   {
    "duration": 7,
    "start_time": "2022-08-29T08:24:12.541Z"
   },
   {
    "duration": 13,
    "start_time": "2022-08-29T08:24:12.550Z"
   },
   {
    "duration": 8,
    "start_time": "2022-08-29T08:24:12.565Z"
   },
   {
    "duration": 8,
    "start_time": "2022-08-29T08:24:12.575Z"
   },
   {
    "duration": 35,
    "start_time": "2022-08-29T08:24:12.585Z"
   },
   {
    "duration": 22,
    "start_time": "2022-08-29T08:24:12.624Z"
   },
   {
    "duration": 143,
    "start_time": "2022-08-29T08:56:43.514Z"
   },
   {
    "duration": 10,
    "start_time": "2022-08-29T08:56:49.738Z"
   },
   {
    "duration": 1703,
    "start_time": "2022-08-29T08:57:00.981Z"
   },
   {
    "duration": 55,
    "start_time": "2022-08-29T08:57:02.686Z"
   },
   {
    "duration": 26,
    "start_time": "2022-08-29T08:57:02.743Z"
   },
   {
    "duration": 10,
    "start_time": "2022-08-29T08:57:02.771Z"
   },
   {
    "duration": 145,
    "start_time": "2022-08-29T08:57:02.782Z"
   },
   {
    "duration": 0,
    "start_time": "2022-08-29T08:57:02.931Z"
   },
   {
    "duration": 0,
    "start_time": "2022-08-29T08:57:02.933Z"
   },
   {
    "duration": 0,
    "start_time": "2022-08-29T08:57:02.935Z"
   },
   {
    "duration": 0,
    "start_time": "2022-08-29T08:57:02.937Z"
   },
   {
    "duration": 0,
    "start_time": "2022-08-29T08:57:02.939Z"
   },
   {
    "duration": 0,
    "start_time": "2022-08-29T08:57:02.941Z"
   },
   {
    "duration": 0,
    "start_time": "2022-08-29T08:57:02.943Z"
   },
   {
    "duration": 0,
    "start_time": "2022-08-29T08:57:02.945Z"
   },
   {
    "duration": 0,
    "start_time": "2022-08-29T08:57:02.947Z"
   },
   {
    "duration": 0,
    "start_time": "2022-08-29T08:57:02.950Z"
   },
   {
    "duration": 0,
    "start_time": "2022-08-29T08:57:02.951Z"
   },
   {
    "duration": 0,
    "start_time": "2022-08-29T08:57:02.953Z"
   },
   {
    "duration": 0,
    "start_time": "2022-08-29T08:57:02.955Z"
   },
   {
    "duration": 0,
    "start_time": "2022-08-29T08:57:02.956Z"
   },
   {
    "duration": 0,
    "start_time": "2022-08-29T08:57:02.958Z"
   },
   {
    "duration": 0,
    "start_time": "2022-08-29T08:57:02.959Z"
   },
   {
    "duration": 0,
    "start_time": "2022-08-29T08:57:02.960Z"
   },
   {
    "duration": 0,
    "start_time": "2022-08-29T08:57:02.996Z"
   },
   {
    "duration": 0,
    "start_time": "2022-08-29T08:57:02.997Z"
   },
   {
    "duration": 0,
    "start_time": "2022-08-29T08:57:03.000Z"
   },
   {
    "duration": 0,
    "start_time": "2022-08-29T08:57:03.001Z"
   },
   {
    "duration": 0,
    "start_time": "2022-08-29T08:57:03.003Z"
   },
   {
    "duration": 0,
    "start_time": "2022-08-29T08:57:03.004Z"
   },
   {
    "duration": 0,
    "start_time": "2022-08-29T08:57:03.005Z"
   },
   {
    "duration": 0,
    "start_time": "2022-08-29T08:57:03.009Z"
   },
   {
    "duration": 0,
    "start_time": "2022-08-29T08:57:03.011Z"
   },
   {
    "duration": 0,
    "start_time": "2022-08-29T08:57:03.013Z"
   },
   {
    "duration": 0,
    "start_time": "2022-08-29T08:57:03.015Z"
   },
   {
    "duration": 1,
    "start_time": "2022-08-29T08:57:03.016Z"
   },
   {
    "duration": 0,
    "start_time": "2022-08-29T08:57:03.018Z"
   },
   {
    "duration": 0,
    "start_time": "2022-08-29T08:57:03.020Z"
   },
   {
    "duration": 0,
    "start_time": "2022-08-29T08:57:03.026Z"
   },
   {
    "duration": 0,
    "start_time": "2022-08-29T08:57:03.028Z"
   },
   {
    "duration": 0,
    "start_time": "2022-08-29T08:57:03.030Z"
   },
   {
    "duration": 0,
    "start_time": "2022-08-29T08:57:03.032Z"
   },
   {
    "duration": 0,
    "start_time": "2022-08-29T08:57:03.033Z"
   },
   {
    "duration": 0,
    "start_time": "2022-08-29T08:57:03.039Z"
   },
   {
    "duration": 0,
    "start_time": "2022-08-29T08:57:03.040Z"
   },
   {
    "duration": 0,
    "start_time": "2022-08-29T08:57:03.042Z"
   },
   {
    "duration": 0,
    "start_time": "2022-08-29T08:57:03.044Z"
   },
   {
    "duration": 0,
    "start_time": "2022-08-29T08:57:03.046Z"
   },
   {
    "duration": 0,
    "start_time": "2022-08-29T08:57:03.048Z"
   },
   {
    "duration": 0,
    "start_time": "2022-08-29T08:57:03.049Z"
   },
   {
    "duration": 0,
    "start_time": "2022-08-29T08:57:03.052Z"
   },
   {
    "duration": 0,
    "start_time": "2022-08-29T08:57:03.053Z"
   },
   {
    "duration": 5,
    "start_time": "2022-08-29T08:57:47.121Z"
   },
   {
    "duration": 9,
    "start_time": "2022-08-29T08:57:50.757Z"
   },
   {
    "duration": 62,
    "start_time": "2022-08-29T08:58:01.515Z"
   },
   {
    "duration": 28,
    "start_time": "2022-08-29T08:58:01.886Z"
   },
   {
    "duration": 14,
    "start_time": "2022-08-29T08:58:03.739Z"
   },
   {
    "duration": 9,
    "start_time": "2022-08-29T08:58:04.762Z"
   },
   {
    "duration": 9,
    "start_time": "2022-08-29T08:58:06.730Z"
   },
   {
    "duration": 12,
    "start_time": "2022-08-29T08:58:08.010Z"
   },
   {
    "duration": 1575,
    "start_time": "2022-08-29T09:03:33.605Z"
   },
   {
    "duration": 39,
    "start_time": "2022-08-29T09:03:35.183Z"
   },
   {
    "duration": 39,
    "start_time": "2022-08-29T09:03:35.225Z"
   },
   {
    "duration": 11,
    "start_time": "2022-08-29T09:03:35.266Z"
   },
   {
    "duration": 10,
    "start_time": "2022-08-29T09:03:35.279Z"
   },
   {
    "duration": 72,
    "start_time": "2022-08-29T09:03:35.291Z"
   },
   {
    "duration": 31,
    "start_time": "2022-08-29T09:03:35.365Z"
   },
   {
    "duration": 19,
    "start_time": "2022-08-29T09:03:35.398Z"
   },
   {
    "duration": 18,
    "start_time": "2022-08-29T09:03:35.428Z"
   },
   {
    "duration": 14,
    "start_time": "2022-08-29T09:03:35.448Z"
   },
   {
    "duration": 19,
    "start_time": "2022-08-29T09:03:35.465Z"
   },
   {
    "duration": 62,
    "start_time": "2022-08-29T09:03:35.486Z"
   },
   {
    "duration": 1261,
    "start_time": "2022-08-29T09:03:35.550Z"
   },
   {
    "duration": 25,
    "start_time": "2022-08-29T09:03:36.822Z"
   },
   {
    "duration": 54,
    "start_time": "2022-08-29T09:03:36.850Z"
   },
   {
    "duration": 62,
    "start_time": "2022-08-29T09:03:36.905Z"
   },
   {
    "duration": 49,
    "start_time": "2022-08-29T09:03:36.969Z"
   },
   {
    "duration": 64,
    "start_time": "2022-08-29T09:03:37.021Z"
   },
   {
    "duration": 16,
    "start_time": "2022-08-29T09:03:37.088Z"
   },
   {
    "duration": 342,
    "start_time": "2022-08-29T09:03:37.113Z"
   },
   {
    "duration": 13,
    "start_time": "2022-08-29T09:03:37.457Z"
   },
   {
    "duration": 217,
    "start_time": "2022-08-29T09:03:37.472Z"
   },
   {
    "duration": 10,
    "start_time": "2022-08-29T09:03:37.691Z"
   },
   {
    "duration": 240,
    "start_time": "2022-08-29T09:03:37.711Z"
   },
   {
    "duration": 11,
    "start_time": "2022-08-29T09:03:37.959Z"
   },
   {
    "duration": 214,
    "start_time": "2022-08-29T09:03:37.972Z"
   },
   {
    "duration": 15,
    "start_time": "2022-08-29T09:03:38.188Z"
   },
   {
    "duration": 235,
    "start_time": "2022-08-29T09:03:38.205Z"
   },
   {
    "duration": 12,
    "start_time": "2022-08-29T09:03:38.442Z"
   },
   {
    "duration": 202,
    "start_time": "2022-08-29T09:03:38.456Z"
   },
   {
    "duration": 8,
    "start_time": "2022-08-29T09:03:38.660Z"
   },
   {
    "duration": 25,
    "start_time": "2022-08-29T09:03:38.670Z"
   },
   {
    "duration": 12,
    "start_time": "2022-08-29T09:03:38.697Z"
   },
   {
    "duration": 55,
    "start_time": "2022-08-29T09:03:38.715Z"
   },
   {
    "duration": 18,
    "start_time": "2022-08-29T09:03:38.773Z"
   },
   {
    "duration": 18,
    "start_time": "2022-08-29T09:03:38.794Z"
   },
   {
    "duration": 41,
    "start_time": "2022-08-29T09:03:38.817Z"
   },
   {
    "duration": 9,
    "start_time": "2022-08-29T09:03:38.860Z"
   },
   {
    "duration": 10,
    "start_time": "2022-08-29T09:03:38.871Z"
   },
   {
    "duration": 128,
    "start_time": "2022-08-29T09:03:38.883Z"
   },
   {
    "duration": 42,
    "start_time": "2022-08-29T09:03:39.023Z"
   },
   {
    "duration": 12,
    "start_time": "2022-08-29T09:03:39.066Z"
   },
   {
    "duration": 10,
    "start_time": "2022-08-29T09:03:39.080Z"
   },
   {
    "duration": 61,
    "start_time": "2022-08-29T09:03:39.095Z"
   },
   {
    "duration": 18,
    "start_time": "2022-08-29T09:03:39.158Z"
   },
   {
    "duration": 8,
    "start_time": "2022-08-29T09:03:39.178Z"
   },
   {
    "duration": 35,
    "start_time": "2022-08-29T09:03:39.187Z"
   },
   {
    "duration": 31,
    "start_time": "2022-08-29T09:03:39.224Z"
   },
   {
    "duration": 13,
    "start_time": "2022-08-29T09:03:39.257Z"
   },
   {
    "duration": 9,
    "start_time": "2022-08-29T09:03:39.271Z"
   },
   {
    "duration": 1471,
    "start_time": "2022-08-29T09:13:29.132Z"
   },
   {
    "duration": 21,
    "start_time": "2022-08-29T09:13:30.616Z"
   },
   {
    "duration": 37,
    "start_time": "2022-08-29T09:13:30.639Z"
   },
   {
    "duration": 29,
    "start_time": "2022-08-29T09:13:30.678Z"
   },
   {
    "duration": 33,
    "start_time": "2022-08-29T09:13:30.710Z"
   },
   {
    "duration": 61,
    "start_time": "2022-08-29T09:13:30.745Z"
   },
   {
    "duration": 57,
    "start_time": "2022-08-29T09:13:30.808Z"
   },
   {
    "duration": 22,
    "start_time": "2022-08-29T09:13:30.867Z"
   },
   {
    "duration": 32,
    "start_time": "2022-08-29T09:13:30.898Z"
   },
   {
    "duration": 13,
    "start_time": "2022-08-29T09:13:30.931Z"
   },
   {
    "duration": 24,
    "start_time": "2022-08-29T09:13:30.945Z"
   },
   {
    "duration": 20,
    "start_time": "2022-08-29T09:13:30.970Z"
   },
   {
    "duration": 1160,
    "start_time": "2022-08-29T09:13:30.995Z"
   },
   {
    "duration": 10,
    "start_time": "2022-08-29T09:13:32.160Z"
   },
   {
    "duration": 12,
    "start_time": "2022-08-29T09:13:32.172Z"
   },
   {
    "duration": 53,
    "start_time": "2022-08-29T09:13:32.198Z"
   },
   {
    "duration": 27,
    "start_time": "2022-08-29T09:13:32.253Z"
   },
   {
    "duration": 58,
    "start_time": "2022-08-29T09:13:32.283Z"
   },
   {
    "duration": 24,
    "start_time": "2022-08-29T09:13:32.346Z"
   },
   {
    "duration": 215,
    "start_time": "2022-08-29T09:13:32.373Z"
   },
   {
    "duration": 19,
    "start_time": "2022-08-29T09:13:32.593Z"
   },
   {
    "duration": 187,
    "start_time": "2022-08-29T09:13:32.614Z"
   },
   {
    "duration": 8,
    "start_time": "2022-08-29T09:13:32.803Z"
   },
   {
    "duration": 199,
    "start_time": "2022-08-29T09:13:32.818Z"
   },
   {
    "duration": 9,
    "start_time": "2022-08-29T09:13:33.023Z"
   },
   {
    "duration": 155,
    "start_time": "2022-08-29T09:13:33.034Z"
   },
   {
    "duration": 10,
    "start_time": "2022-08-29T09:13:33.192Z"
   },
   {
    "duration": 179,
    "start_time": "2022-08-29T09:13:33.211Z"
   },
   {
    "duration": 16,
    "start_time": "2022-08-29T09:13:33.394Z"
   },
   {
    "duration": 170,
    "start_time": "2022-08-29T09:13:33.419Z"
   },
   {
    "duration": 9,
    "start_time": "2022-08-29T09:13:33.591Z"
   },
   {
    "duration": 47,
    "start_time": "2022-08-29T09:13:33.608Z"
   },
   {
    "duration": 9,
    "start_time": "2022-08-29T09:13:33.656Z"
   },
   {
    "duration": 8,
    "start_time": "2022-08-29T09:13:33.667Z"
   },
   {
    "duration": 10,
    "start_time": "2022-08-29T09:13:33.678Z"
   },
   {
    "duration": 19,
    "start_time": "2022-08-29T09:13:33.690Z"
   },
   {
    "duration": 36,
    "start_time": "2022-08-29T09:13:33.711Z"
   },
   {
    "duration": 11,
    "start_time": "2022-08-29T09:13:33.749Z"
   },
   {
    "duration": 9,
    "start_time": "2022-08-29T09:13:33.762Z"
   },
   {
    "duration": 106,
    "start_time": "2022-08-29T09:13:33.773Z"
   },
   {
    "duration": 30,
    "start_time": "2022-08-29T09:13:33.883Z"
   },
   {
    "duration": 17,
    "start_time": "2022-08-29T09:13:33.924Z"
   },
   {
    "duration": 8,
    "start_time": "2022-08-29T09:13:33.943Z"
   },
   {
    "duration": 14,
    "start_time": "2022-08-29T09:13:33.953Z"
   },
   {
    "duration": 17,
    "start_time": "2022-08-29T09:13:33.969Z"
   },
   {
    "duration": 54,
    "start_time": "2022-08-29T09:13:33.988Z"
   },
   {
    "duration": 5,
    "start_time": "2022-08-29T09:13:34.044Z"
   },
   {
    "duration": 6,
    "start_time": "2022-08-29T09:13:34.051Z"
   },
   {
    "duration": 12,
    "start_time": "2022-08-29T09:13:34.058Z"
   },
   {
    "duration": 8,
    "start_time": "2022-08-29T09:13:34.071Z"
   },
   {
    "duration": 10,
    "start_time": "2022-08-29T09:38:12.345Z"
   },
   {
    "duration": 6,
    "start_time": "2022-08-29T09:38:26.427Z"
   },
   {
    "duration": 149,
    "start_time": "2022-08-29T09:43:31.787Z"
   },
   {
    "duration": 140,
    "start_time": "2022-08-29T09:45:19.478Z"
   },
   {
    "duration": 23,
    "start_time": "2022-08-29T09:45:38.489Z"
   },
   {
    "duration": 12,
    "start_time": "2022-08-29T10:21:30.240Z"
   },
   {
    "duration": 6,
    "start_time": "2022-08-29T10:21:50.749Z"
   },
   {
    "duration": 21,
    "start_time": "2022-08-29T10:23:12.971Z"
   },
   {
    "duration": 11,
    "start_time": "2022-08-29T10:23:45.449Z"
   },
   {
    "duration": 16,
    "start_time": "2022-08-29T10:23:55.112Z"
   },
   {
    "duration": 15,
    "start_time": "2022-08-29T10:50:11.268Z"
   },
   {
    "duration": 16,
    "start_time": "2022-08-29T10:50:25.532Z"
   },
   {
    "duration": 15,
    "start_time": "2022-08-29T10:56:35.820Z"
   },
   {
    "duration": 15,
    "start_time": "2022-08-29T10:56:56.348Z"
   },
   {
    "duration": 18,
    "start_time": "2022-08-29T10:57:17.964Z"
   },
   {
    "duration": 14,
    "start_time": "2022-08-29T10:57:23.556Z"
   },
   {
    "duration": 1679,
    "start_time": "2022-08-29T10:57:58.728Z"
   },
   {
    "duration": 34,
    "start_time": "2022-08-29T10:58:00.420Z"
   },
   {
    "duration": 50,
    "start_time": "2022-08-29T10:58:00.457Z"
   },
   {
    "duration": 34,
    "start_time": "2022-08-29T10:58:00.511Z"
   },
   {
    "duration": 24,
    "start_time": "2022-08-29T10:58:00.550Z"
   },
   {
    "duration": 75,
    "start_time": "2022-08-29T10:58:00.576Z"
   },
   {
    "duration": 50,
    "start_time": "2022-08-29T10:58:00.654Z"
   },
   {
    "duration": 47,
    "start_time": "2022-08-29T10:58:00.711Z"
   },
   {
    "duration": 38,
    "start_time": "2022-08-29T10:58:00.760Z"
   },
   {
    "duration": 54,
    "start_time": "2022-08-29T10:58:00.801Z"
   },
   {
    "duration": 32,
    "start_time": "2022-08-29T10:58:00.858Z"
   },
   {
    "duration": 52,
    "start_time": "2022-08-29T10:58:00.893Z"
   },
   {
    "duration": 22,
    "start_time": "2022-08-29T10:58:00.948Z"
   },
   {
    "duration": 52,
    "start_time": "2022-08-29T10:58:00.973Z"
   },
   {
    "duration": 1396,
    "start_time": "2022-08-29T10:58:01.027Z"
   },
   {
    "duration": 17,
    "start_time": "2022-08-29T10:58:02.426Z"
   },
   {
    "duration": 96,
    "start_time": "2022-08-29T10:58:02.448Z"
   },
   {
    "duration": 52,
    "start_time": "2022-08-29T10:58:02.546Z"
   },
   {
    "duration": 92,
    "start_time": "2022-08-29T10:58:02.608Z"
   },
   {
    "duration": 60,
    "start_time": "2022-08-29T10:58:02.707Z"
   },
   {
    "duration": 13,
    "start_time": "2022-08-29T10:58:02.770Z"
   },
   {
    "duration": 258,
    "start_time": "2022-08-29T10:58:02.786Z"
   },
   {
    "duration": 14,
    "start_time": "2022-08-29T10:58:03.048Z"
   },
   {
    "duration": 199,
    "start_time": "2022-08-29T10:58:03.067Z"
   },
   {
    "duration": 31,
    "start_time": "2022-08-29T10:58:03.268Z"
   },
   {
    "duration": 245,
    "start_time": "2022-08-29T10:58:03.301Z"
   },
   {
    "duration": 10,
    "start_time": "2022-08-29T10:58:03.548Z"
   },
   {
    "duration": 180,
    "start_time": "2022-08-29T10:58:03.562Z"
   },
   {
    "duration": 12,
    "start_time": "2022-08-29T10:58:03.745Z"
   },
   {
    "duration": 321,
    "start_time": "2022-08-29T10:58:03.760Z"
   },
   {
    "duration": 15,
    "start_time": "2022-08-29T10:58:04.087Z"
   },
   {
    "duration": 267,
    "start_time": "2022-08-29T10:58:04.103Z"
   },
   {
    "duration": 34,
    "start_time": "2022-08-29T10:58:04.373Z"
   },
   {
    "duration": 42,
    "start_time": "2022-08-29T10:58:04.412Z"
   },
   {
    "duration": 46,
    "start_time": "2022-08-29T10:58:04.456Z"
   },
   {
    "duration": 50,
    "start_time": "2022-08-29T10:58:04.504Z"
   },
   {
    "duration": 28,
    "start_time": "2022-08-29T10:58:04.557Z"
   },
   {
    "duration": 45,
    "start_time": "2022-08-29T10:58:04.588Z"
   },
   {
    "duration": 36,
    "start_time": "2022-08-29T10:58:04.635Z"
   },
   {
    "duration": 13,
    "start_time": "2022-08-29T10:58:04.674Z"
   },
   {
    "duration": 42,
    "start_time": "2022-08-29T10:58:04.689Z"
   },
   {
    "duration": 19,
    "start_time": "2022-08-29T10:58:04.734Z"
   },
   {
    "duration": 140,
    "start_time": "2022-08-29T10:58:04.755Z"
   },
   {
    "duration": 27,
    "start_time": "2022-08-29T10:58:04.899Z"
   },
   {
    "duration": 41,
    "start_time": "2022-08-29T10:58:04.929Z"
   },
   {
    "duration": 50,
    "start_time": "2022-08-29T10:58:04.972Z"
   },
   {
    "duration": 39,
    "start_time": "2022-08-29T10:58:05.025Z"
   },
   {
    "duration": 32,
    "start_time": "2022-08-29T10:58:05.068Z"
   },
   {
    "duration": 46,
    "start_time": "2022-08-29T10:58:05.102Z"
   },
   {
    "duration": 27,
    "start_time": "2022-08-29T10:58:05.151Z"
   },
   {
    "duration": 29,
    "start_time": "2022-08-29T10:58:05.181Z"
   },
   {
    "duration": 39,
    "start_time": "2022-08-29T10:58:05.213Z"
   },
   {
    "duration": 6,
    "start_time": "2022-08-29T11:59:44.520Z"
   },
   {
    "duration": 8,
    "start_time": "2022-08-29T11:59:45.057Z"
   },
   {
    "duration": 1634,
    "start_time": "2022-08-29T12:00:17.446Z"
   },
   {
    "duration": 32,
    "start_time": "2022-08-29T12:00:19.083Z"
   },
   {
    "duration": 30,
    "start_time": "2022-08-29T12:00:19.117Z"
   },
   {
    "duration": 15,
    "start_time": "2022-08-29T12:00:19.150Z"
   },
   {
    "duration": 6,
    "start_time": "2022-08-29T12:00:19.167Z"
   },
   {
    "duration": 37,
    "start_time": "2022-08-29T12:00:19.175Z"
   },
   {
    "duration": 23,
    "start_time": "2022-08-29T12:00:19.215Z"
   },
   {
    "duration": 13,
    "start_time": "2022-08-29T12:00:19.241Z"
   },
   {
    "duration": 7,
    "start_time": "2022-08-29T12:00:19.256Z"
   },
   {
    "duration": 9,
    "start_time": "2022-08-29T12:00:19.291Z"
   },
   {
    "duration": 30,
    "start_time": "2022-08-29T12:00:19.302Z"
   },
   {
    "duration": 18,
    "start_time": "2022-08-29T12:00:19.334Z"
   },
   {
    "duration": 11,
    "start_time": "2022-08-29T12:00:19.354Z"
   },
   {
    "duration": 9,
    "start_time": "2022-08-29T12:00:19.368Z"
   },
   {
    "duration": 1066,
    "start_time": "2022-08-29T12:00:19.379Z"
   },
   {
    "duration": 11,
    "start_time": "2022-08-29T12:00:20.448Z"
   },
   {
    "duration": 38,
    "start_time": "2022-08-29T12:00:20.461Z"
   },
   {
    "duration": 11,
    "start_time": "2022-08-29T12:00:20.501Z"
   },
   {
    "duration": 31,
    "start_time": "2022-08-29T12:00:20.514Z"
   },
   {
    "duration": 23,
    "start_time": "2022-08-29T12:00:20.547Z"
   },
   {
    "duration": 39,
    "start_time": "2022-08-29T12:00:20.573Z"
   },
   {
    "duration": 204,
    "start_time": "2022-08-29T12:00:20.615Z"
   },
   {
    "duration": 10,
    "start_time": "2022-08-29T12:00:20.821Z"
   },
   {
    "duration": 238,
    "start_time": "2022-08-29T12:00:20.832Z"
   },
   {
    "duration": 8,
    "start_time": "2022-08-29T12:00:21.072Z"
   },
   {
    "duration": 202,
    "start_time": "2022-08-29T12:00:21.098Z"
   },
   {
    "duration": 14,
    "start_time": "2022-08-29T12:00:21.305Z"
   },
   {
    "duration": 149,
    "start_time": "2022-08-29T12:00:21.323Z"
   },
   {
    "duration": 27,
    "start_time": "2022-08-29T12:00:21.474Z"
   },
   {
    "duration": 211,
    "start_time": "2022-08-29T12:00:21.505Z"
   },
   {
    "duration": 10,
    "start_time": "2022-08-29T12:00:21.719Z"
   },
   {
    "duration": 241,
    "start_time": "2022-08-29T12:00:21.731Z"
   },
   {
    "duration": 13,
    "start_time": "2022-08-29T12:00:21.977Z"
   },
   {
    "duration": 31,
    "start_time": "2022-08-29T12:00:21.998Z"
   },
   {
    "duration": 31,
    "start_time": "2022-08-29T12:00:22.031Z"
   },
   {
    "duration": 51,
    "start_time": "2022-08-29T12:00:22.065Z"
   },
   {
    "duration": 29,
    "start_time": "2022-08-29T12:00:22.121Z"
   },
   {
    "duration": 47,
    "start_time": "2022-08-29T12:00:22.152Z"
   },
   {
    "duration": 53,
    "start_time": "2022-08-29T12:00:22.201Z"
   },
   {
    "duration": 45,
    "start_time": "2022-08-29T12:00:22.257Z"
   },
   {
    "duration": 28,
    "start_time": "2022-08-29T12:00:22.308Z"
   },
   {
    "duration": 12,
    "start_time": "2022-08-29T12:00:22.339Z"
   },
   {
    "duration": 118,
    "start_time": "2022-08-29T12:00:22.354Z"
   },
   {
    "duration": 20,
    "start_time": "2022-08-29T12:00:22.474Z"
   },
   {
    "duration": 39,
    "start_time": "2022-08-29T12:00:22.502Z"
   },
   {
    "duration": 12,
    "start_time": "2022-08-29T12:00:22.544Z"
   },
   {
    "duration": 11,
    "start_time": "2022-08-29T12:00:22.559Z"
   },
   {
    "duration": 11,
    "start_time": "2022-08-29T12:00:22.572Z"
   },
   {
    "duration": 12,
    "start_time": "2022-08-29T12:00:22.586Z"
   },
   {
    "duration": 19,
    "start_time": "2022-08-29T12:00:22.606Z"
   },
   {
    "duration": 12,
    "start_time": "2022-08-29T12:00:22.627Z"
   },
   {
    "duration": 9,
    "start_time": "2022-08-29T12:00:22.641Z"
   },
   {
    "duration": 186,
    "start_time": "2022-08-29T12:06:49.110Z"
   },
   {
    "duration": 6,
    "start_time": "2022-08-29T12:07:24.406Z"
   },
   {
    "duration": 6,
    "start_time": "2022-08-29T12:07:56.712Z"
   },
   {
    "duration": 7,
    "start_time": "2022-08-29T12:09:37.351Z"
   },
   {
    "duration": 21,
    "start_time": "2022-08-29T12:25:45.508Z"
   },
   {
    "duration": 1576,
    "start_time": "2022-08-29T12:26:09.782Z"
   },
   {
    "duration": 28,
    "start_time": "2022-08-29T12:26:11.361Z"
   },
   {
    "duration": 54,
    "start_time": "2022-08-29T12:26:11.391Z"
   },
   {
    "duration": 14,
    "start_time": "2022-08-29T12:26:11.448Z"
   },
   {
    "duration": 5,
    "start_time": "2022-08-29T12:26:11.463Z"
   },
   {
    "duration": 19,
    "start_time": "2022-08-29T12:26:11.470Z"
   },
   {
    "duration": 52,
    "start_time": "2022-08-29T12:26:11.498Z"
   },
   {
    "duration": 9,
    "start_time": "2022-08-29T12:26:11.552Z"
   },
   {
    "duration": 6,
    "start_time": "2022-08-29T12:26:11.563Z"
   },
   {
    "duration": 7,
    "start_time": "2022-08-29T12:26:11.572Z"
   },
   {
    "duration": 16,
    "start_time": "2022-08-29T12:26:11.581Z"
   },
   {
    "duration": 26,
    "start_time": "2022-08-29T12:26:11.601Z"
   },
   {
    "duration": 10,
    "start_time": "2022-08-29T12:26:11.630Z"
   },
   {
    "duration": 9,
    "start_time": "2022-08-29T12:26:11.642Z"
   },
   {
    "duration": 178,
    "start_time": "2022-08-29T12:26:11.653Z"
   },
   {
    "duration": 1,
    "start_time": "2022-08-29T12:26:11.834Z"
   },
   {
    "duration": 0,
    "start_time": "2022-08-29T12:26:11.836Z"
   },
   {
    "duration": 0,
    "start_time": "2022-08-29T12:26:11.837Z"
   },
   {
    "duration": 0,
    "start_time": "2022-08-29T12:26:11.839Z"
   },
   {
    "duration": 0,
    "start_time": "2022-08-29T12:26:11.840Z"
   },
   {
    "duration": 0,
    "start_time": "2022-08-29T12:26:11.842Z"
   },
   {
    "duration": 0,
    "start_time": "2022-08-29T12:26:11.843Z"
   },
   {
    "duration": 0,
    "start_time": "2022-08-29T12:26:11.844Z"
   },
   {
    "duration": 0,
    "start_time": "2022-08-29T12:26:11.846Z"
   },
   {
    "duration": 0,
    "start_time": "2022-08-29T12:26:11.848Z"
   },
   {
    "duration": 0,
    "start_time": "2022-08-29T12:26:11.849Z"
   },
   {
    "duration": 0,
    "start_time": "2022-08-29T12:26:11.851Z"
   },
   {
    "duration": 0,
    "start_time": "2022-08-29T12:26:11.853Z"
   },
   {
    "duration": 0,
    "start_time": "2022-08-29T12:26:11.856Z"
   },
   {
    "duration": 0,
    "start_time": "2022-08-29T12:26:11.858Z"
   },
   {
    "duration": 0,
    "start_time": "2022-08-29T12:26:11.897Z"
   },
   {
    "duration": 0,
    "start_time": "2022-08-29T12:26:11.899Z"
   },
   {
    "duration": 0,
    "start_time": "2022-08-29T12:26:11.900Z"
   },
   {
    "duration": 0,
    "start_time": "2022-08-29T12:26:11.901Z"
   },
   {
    "duration": 0,
    "start_time": "2022-08-29T12:26:11.905Z"
   },
   {
    "duration": 0,
    "start_time": "2022-08-29T12:26:11.906Z"
   },
   {
    "duration": 0,
    "start_time": "2022-08-29T12:26:11.908Z"
   },
   {
    "duration": 0,
    "start_time": "2022-08-29T12:26:11.909Z"
   },
   {
    "duration": 0,
    "start_time": "2022-08-29T12:26:11.910Z"
   },
   {
    "duration": 0,
    "start_time": "2022-08-29T12:26:11.911Z"
   },
   {
    "duration": 0,
    "start_time": "2022-08-29T12:26:11.912Z"
   },
   {
    "duration": 0,
    "start_time": "2022-08-29T12:26:11.913Z"
   },
   {
    "duration": 0,
    "start_time": "2022-08-29T12:26:11.917Z"
   },
   {
    "duration": 0,
    "start_time": "2022-08-29T12:26:11.918Z"
   },
   {
    "duration": 0,
    "start_time": "2022-08-29T12:26:11.919Z"
   },
   {
    "duration": 0,
    "start_time": "2022-08-29T12:26:11.920Z"
   },
   {
    "duration": 0,
    "start_time": "2022-08-29T12:26:11.927Z"
   },
   {
    "duration": 0,
    "start_time": "2022-08-29T12:26:11.928Z"
   },
   {
    "duration": 0,
    "start_time": "2022-08-29T12:26:11.929Z"
   },
   {
    "duration": 0,
    "start_time": "2022-08-29T12:26:11.932Z"
   },
   {
    "duration": 0,
    "start_time": "2022-08-29T12:26:11.934Z"
   },
   {
    "duration": 0,
    "start_time": "2022-08-29T12:26:11.935Z"
   },
   {
    "duration": 0,
    "start_time": "2022-08-29T12:26:11.936Z"
   },
   {
    "duration": 0,
    "start_time": "2022-08-29T12:26:11.937Z"
   },
   {
    "duration": 5,
    "start_time": "2022-08-29T12:26:54.751Z"
   },
   {
    "duration": 19,
    "start_time": "2022-08-29T12:27:05.955Z"
   },
   {
    "duration": 17,
    "start_time": "2022-08-29T12:27:36.061Z"
   },
   {
    "duration": 6,
    "start_time": "2022-08-29T12:28:02.366Z"
   },
   {
    "duration": 5,
    "start_time": "2022-08-29T12:28:18.982Z"
   },
   {
    "duration": 4,
    "start_time": "2022-08-29T12:28:19.494Z"
   },
   {
    "duration": 25,
    "start_time": "2022-08-29T12:28:20.029Z"
   },
   {
    "duration": 12,
    "start_time": "2022-08-29T12:28:29.808Z"
   },
   {
    "duration": 1519,
    "start_time": "2022-08-29T12:28:37.259Z"
   },
   {
    "duration": 34,
    "start_time": "2022-08-29T12:28:38.780Z"
   },
   {
    "duration": 22,
    "start_time": "2022-08-29T12:28:38.816Z"
   },
   {
    "duration": 11,
    "start_time": "2022-08-29T12:28:38.841Z"
   },
   {
    "duration": 8,
    "start_time": "2022-08-29T12:28:38.854Z"
   },
   {
    "duration": 38,
    "start_time": "2022-08-29T12:28:38.864Z"
   },
   {
    "duration": 46,
    "start_time": "2022-08-29T12:28:38.904Z"
   },
   {
    "duration": 13,
    "start_time": "2022-08-29T12:28:38.952Z"
   },
   {
    "duration": 8,
    "start_time": "2022-08-29T12:28:38.967Z"
   },
   {
    "duration": 22,
    "start_time": "2022-08-29T12:28:38.980Z"
   },
   {
    "duration": 22,
    "start_time": "2022-08-29T12:28:39.004Z"
   },
   {
    "duration": 9,
    "start_time": "2022-08-29T12:28:39.028Z"
   },
   {
    "duration": 12,
    "start_time": "2022-08-29T12:28:39.039Z"
   },
   {
    "duration": 12,
    "start_time": "2022-08-29T12:28:39.052Z"
   },
   {
    "duration": 6,
    "start_time": "2022-08-29T12:28:39.066Z"
   },
   {
    "duration": 28,
    "start_time": "2022-08-29T12:28:39.074Z"
   },
   {
    "duration": 32,
    "start_time": "2022-08-29T12:28:39.104Z"
   },
   {
    "duration": 9,
    "start_time": "2022-08-29T12:28:39.138Z"
   },
   {
    "duration": 1221,
    "start_time": "2022-08-29T12:28:39.149Z"
   },
   {
    "duration": 27,
    "start_time": "2022-08-29T12:28:40.372Z"
   },
   {
    "duration": 38,
    "start_time": "2022-08-29T12:28:40.403Z"
   },
   {
    "duration": 17,
    "start_time": "2022-08-29T12:28:40.443Z"
   },
   {
    "duration": 48,
    "start_time": "2022-08-29T12:28:40.462Z"
   },
   {
    "duration": 33,
    "start_time": "2022-08-29T12:28:40.512Z"
   },
   {
    "duration": 13,
    "start_time": "2022-08-29T12:28:40.548Z"
   },
   {
    "duration": 218,
    "start_time": "2022-08-29T12:28:40.563Z"
   },
   {
    "duration": 447,
    "start_time": "2022-08-29T12:28:40.784Z"
   },
   {
    "duration": 0,
    "start_time": "2022-08-29T12:28:41.236Z"
   },
   {
    "duration": 0,
    "start_time": "2022-08-29T12:28:41.238Z"
   },
   {
    "duration": 0,
    "start_time": "2022-08-29T12:28:41.240Z"
   },
   {
    "duration": 0,
    "start_time": "2022-08-29T12:28:41.241Z"
   },
   {
    "duration": 0,
    "start_time": "2022-08-29T12:28:41.243Z"
   },
   {
    "duration": 0,
    "start_time": "2022-08-29T12:28:41.245Z"
   },
   {
    "duration": 0,
    "start_time": "2022-08-29T12:28:41.246Z"
   },
   {
    "duration": 0,
    "start_time": "2022-08-29T12:28:41.248Z"
   },
   {
    "duration": 0,
    "start_time": "2022-08-29T12:28:41.250Z"
   },
   {
    "duration": 0,
    "start_time": "2022-08-29T12:28:41.251Z"
   },
   {
    "duration": 0,
    "start_time": "2022-08-29T12:28:41.253Z"
   },
   {
    "duration": 0,
    "start_time": "2022-08-29T12:28:41.254Z"
   },
   {
    "duration": 0,
    "start_time": "2022-08-29T12:28:41.255Z"
   },
   {
    "duration": 0,
    "start_time": "2022-08-29T12:28:41.256Z"
   },
   {
    "duration": 0,
    "start_time": "2022-08-29T12:28:41.257Z"
   },
   {
    "duration": 0,
    "start_time": "2022-08-29T12:28:41.258Z"
   },
   {
    "duration": 0,
    "start_time": "2022-08-29T12:28:41.260Z"
   },
   {
    "duration": 0,
    "start_time": "2022-08-29T12:28:41.261Z"
   },
   {
    "duration": 0,
    "start_time": "2022-08-29T12:28:41.263Z"
   },
   {
    "duration": 0,
    "start_time": "2022-08-29T12:28:41.264Z"
   },
   {
    "duration": 0,
    "start_time": "2022-08-29T12:28:41.294Z"
   },
   {
    "duration": 0,
    "start_time": "2022-08-29T12:28:41.295Z"
   },
   {
    "duration": 0,
    "start_time": "2022-08-29T12:28:41.295Z"
   },
   {
    "duration": 0,
    "start_time": "2022-08-29T12:28:41.296Z"
   },
   {
    "duration": 0,
    "start_time": "2022-08-29T12:28:41.297Z"
   },
   {
    "duration": 0,
    "start_time": "2022-08-29T12:28:41.298Z"
   },
   {
    "duration": 0,
    "start_time": "2022-08-29T12:28:41.299Z"
   },
   {
    "duration": 0,
    "start_time": "2022-08-29T12:28:41.300Z"
   },
   {
    "duration": 1562,
    "start_time": "2022-08-29T12:35:56.768Z"
   },
   {
    "duration": 28,
    "start_time": "2022-08-29T12:35:58.332Z"
   },
   {
    "duration": 32,
    "start_time": "2022-08-29T12:35:58.363Z"
   },
   {
    "duration": 14,
    "start_time": "2022-08-29T12:35:58.407Z"
   },
   {
    "duration": 4,
    "start_time": "2022-08-29T12:35:58.423Z"
   },
   {
    "duration": 35,
    "start_time": "2022-08-29T12:35:58.429Z"
   },
   {
    "duration": 73,
    "start_time": "2022-08-29T12:35:58.467Z"
   },
   {
    "duration": 13,
    "start_time": "2022-08-29T12:35:58.542Z"
   },
   {
    "duration": 9,
    "start_time": "2022-08-29T12:35:58.558Z"
   },
   {
    "duration": 25,
    "start_time": "2022-08-29T12:35:58.570Z"
   },
   {
    "duration": 32,
    "start_time": "2022-08-29T12:35:58.596Z"
   },
   {
    "duration": 11,
    "start_time": "2022-08-29T12:35:58.630Z"
   },
   {
    "duration": 12,
    "start_time": "2022-08-29T12:35:58.643Z"
   },
   {
    "duration": 27,
    "start_time": "2022-08-29T12:35:58.657Z"
   },
   {
    "duration": 26,
    "start_time": "2022-08-29T12:35:58.686Z"
   },
   {
    "duration": 21,
    "start_time": "2022-08-29T12:35:58.714Z"
   },
   {
    "duration": 12,
    "start_time": "2022-08-29T12:35:58.737Z"
   },
   {
    "duration": 9,
    "start_time": "2022-08-29T12:35:58.751Z"
   },
   {
    "duration": 1008,
    "start_time": "2022-08-29T12:35:58.763Z"
   },
   {
    "duration": 24,
    "start_time": "2022-08-29T12:35:59.773Z"
   },
   {
    "duration": 12,
    "start_time": "2022-08-29T12:35:59.807Z"
   },
   {
    "duration": 27,
    "start_time": "2022-08-29T12:35:59.821Z"
   },
   {
    "duration": 24,
    "start_time": "2022-08-29T12:35:59.850Z"
   },
   {
    "duration": 32,
    "start_time": "2022-08-29T12:35:59.876Z"
   },
   {
    "duration": 13,
    "start_time": "2022-08-29T12:35:59.909Z"
   },
   {
    "duration": 207,
    "start_time": "2022-08-29T12:35:59.924Z"
   },
   {
    "duration": 997,
    "start_time": "2022-08-29T12:36:00.133Z"
   },
   {
    "duration": 0,
    "start_time": "2022-08-29T12:36:01.133Z"
   },
   {
    "duration": 0,
    "start_time": "2022-08-29T12:36:01.135Z"
   },
   {
    "duration": 0,
    "start_time": "2022-08-29T12:36:01.136Z"
   },
   {
    "duration": 0,
    "start_time": "2022-08-29T12:36:01.138Z"
   },
   {
    "duration": 0,
    "start_time": "2022-08-29T12:36:01.139Z"
   },
   {
    "duration": 0,
    "start_time": "2022-08-29T12:36:01.140Z"
   },
   {
    "duration": 0,
    "start_time": "2022-08-29T12:36:01.142Z"
   },
   {
    "duration": 0,
    "start_time": "2022-08-29T12:36:01.143Z"
   },
   {
    "duration": 0,
    "start_time": "2022-08-29T12:36:01.143Z"
   },
   {
    "duration": 0,
    "start_time": "2022-08-29T12:36:01.145Z"
   },
   {
    "duration": 0,
    "start_time": "2022-08-29T12:36:01.146Z"
   },
   {
    "duration": 0,
    "start_time": "2022-08-29T12:36:01.147Z"
   },
   {
    "duration": 0,
    "start_time": "2022-08-29T12:36:01.148Z"
   },
   {
    "duration": 0,
    "start_time": "2022-08-29T12:36:01.149Z"
   },
   {
    "duration": 1,
    "start_time": "2022-08-29T12:36:01.150Z"
   },
   {
    "duration": 0,
    "start_time": "2022-08-29T12:36:01.152Z"
   },
   {
    "duration": 0,
    "start_time": "2022-08-29T12:36:01.153Z"
   },
   {
    "duration": 0,
    "start_time": "2022-08-29T12:36:01.154Z"
   },
   {
    "duration": 0,
    "start_time": "2022-08-29T12:36:01.155Z"
   },
   {
    "duration": 0,
    "start_time": "2022-08-29T12:36:01.156Z"
   },
   {
    "duration": 0,
    "start_time": "2022-08-29T12:36:01.157Z"
   },
   {
    "duration": 0,
    "start_time": "2022-08-29T12:36:01.159Z"
   },
   {
    "duration": 0,
    "start_time": "2022-08-29T12:36:01.160Z"
   },
   {
    "duration": 0,
    "start_time": "2022-08-29T12:36:01.161Z"
   },
   {
    "duration": 0,
    "start_time": "2022-08-29T12:36:01.163Z"
   },
   {
    "duration": 0,
    "start_time": "2022-08-29T12:36:01.164Z"
   },
   {
    "duration": 0,
    "start_time": "2022-08-29T12:36:01.165Z"
   },
   {
    "duration": 0,
    "start_time": "2022-08-29T12:36:01.166Z"
   },
   {
    "duration": 103,
    "start_time": "2022-08-29T12:38:50.819Z"
   },
   {
    "duration": 5,
    "start_time": "2022-08-29T12:38:55.929Z"
   },
   {
    "duration": 6,
    "start_time": "2022-08-29T12:38:57.064Z"
   },
   {
    "duration": 28,
    "start_time": "2022-08-29T12:38:59.602Z"
   },
   {
    "duration": 1381,
    "start_time": "2022-08-29T12:39:24.933Z"
   },
   {
    "duration": 21,
    "start_time": "2022-08-29T12:39:26.320Z"
   },
   {
    "duration": 24,
    "start_time": "2022-08-29T12:39:26.342Z"
   },
   {
    "duration": 11,
    "start_time": "2022-08-29T12:39:26.368Z"
   },
   {
    "duration": 10,
    "start_time": "2022-08-29T12:39:26.382Z"
   },
   {
    "duration": 24,
    "start_time": "2022-08-29T12:39:26.393Z"
   },
   {
    "duration": 35,
    "start_time": "2022-08-29T12:39:26.419Z"
   },
   {
    "duration": 13,
    "start_time": "2022-08-29T12:39:26.457Z"
   },
   {
    "duration": 7,
    "start_time": "2022-08-29T12:39:26.472Z"
   },
   {
    "duration": 49,
    "start_time": "2022-08-29T12:39:26.481Z"
   },
   {
    "duration": 8,
    "start_time": "2022-08-29T12:39:26.532Z"
   },
   {
    "duration": 8,
    "start_time": "2022-08-29T12:39:26.542Z"
   },
   {
    "duration": 10,
    "start_time": "2022-08-29T12:39:26.552Z"
   },
   {
    "duration": 7,
    "start_time": "2022-08-29T12:39:26.567Z"
   },
   {
    "duration": 6,
    "start_time": "2022-08-29T12:39:26.575Z"
   },
   {
    "duration": 34,
    "start_time": "2022-08-29T12:39:26.583Z"
   },
   {
    "duration": 26,
    "start_time": "2022-08-29T12:39:26.620Z"
   },
   {
    "duration": 7,
    "start_time": "2022-08-29T12:39:26.648Z"
   },
   {
    "duration": 1140,
    "start_time": "2022-08-29T12:39:26.656Z"
   },
   {
    "duration": 13,
    "start_time": "2022-08-29T12:39:27.798Z"
   },
   {
    "duration": 29,
    "start_time": "2022-08-29T12:39:27.815Z"
   },
   {
    "duration": 23,
    "start_time": "2022-08-29T12:39:27.846Z"
   },
   {
    "duration": 38,
    "start_time": "2022-08-29T12:39:27.872Z"
   },
   {
    "duration": 29,
    "start_time": "2022-08-29T12:39:27.918Z"
   },
   {
    "duration": 11,
    "start_time": "2022-08-29T12:39:27.951Z"
   },
   {
    "duration": 213,
    "start_time": "2022-08-29T12:39:27.965Z"
   },
   {
    "duration": 33,
    "start_time": "2022-08-29T12:39:28.180Z"
   },
   {
    "duration": 217,
    "start_time": "2022-08-29T12:39:28.219Z"
   },
   {
    "duration": 8,
    "start_time": "2022-08-29T12:39:28.439Z"
   },
   {
    "duration": 194,
    "start_time": "2022-08-29T12:39:28.449Z"
   },
   {
    "duration": 9,
    "start_time": "2022-08-29T12:39:28.645Z"
   },
   {
    "duration": 185,
    "start_time": "2022-08-29T12:39:28.656Z"
   },
   {
    "duration": 9,
    "start_time": "2022-08-29T12:39:28.843Z"
   },
   {
    "duration": 185,
    "start_time": "2022-08-29T12:39:28.854Z"
   },
   {
    "duration": 9,
    "start_time": "2022-08-29T12:39:29.041Z"
   },
   {
    "duration": 189,
    "start_time": "2022-08-29T12:39:29.051Z"
   },
   {
    "duration": 8,
    "start_time": "2022-08-29T12:39:29.242Z"
   },
   {
    "duration": 11,
    "start_time": "2022-08-29T12:39:29.252Z"
   },
   {
    "duration": 44,
    "start_time": "2022-08-29T12:39:29.265Z"
   },
   {
    "duration": 34,
    "start_time": "2022-08-29T12:39:29.311Z"
   },
   {
    "duration": 11,
    "start_time": "2022-08-29T12:39:29.351Z"
   },
   {
    "duration": 35,
    "start_time": "2022-08-29T12:39:29.364Z"
   },
   {
    "duration": 38,
    "start_time": "2022-08-29T12:39:29.407Z"
   },
   {
    "duration": 21,
    "start_time": "2022-08-29T12:39:29.447Z"
   },
   {
    "duration": 11,
    "start_time": "2022-08-29T12:39:29.471Z"
   },
   {
    "duration": 16,
    "start_time": "2022-08-29T12:39:29.485Z"
   },
   {
    "duration": 36,
    "start_time": "2022-08-29T12:39:29.504Z"
   },
   {
    "duration": 11,
    "start_time": "2022-08-29T12:39:29.542Z"
   },
   {
    "duration": 11,
    "start_time": "2022-08-29T12:39:29.555Z"
   },
   {
    "duration": 10,
    "start_time": "2022-08-29T12:39:29.568Z"
   },
   {
    "duration": 7,
    "start_time": "2022-08-29T12:39:29.581Z"
   },
   {
    "duration": 50,
    "start_time": "2022-08-29T12:39:29.590Z"
   },
   {
    "duration": 11,
    "start_time": "2022-08-29T12:39:29.642Z"
   },
   {
    "duration": 107,
    "start_time": "2022-08-29T12:39:29.655Z"
   },
   {
    "duration": 16,
    "start_time": "2022-08-29T12:39:29.763Z"
   },
   {
    "duration": 16,
    "start_time": "2022-08-29T12:43:20.475Z"
   },
   {
    "duration": 26,
    "start_time": "2022-08-29T12:48:45.223Z"
   },
   {
    "duration": 38,
    "start_time": "2022-08-29T12:49:41.957Z"
   },
   {
    "duration": 4,
    "start_time": "2022-08-29T12:50:08.044Z"
   },
   {
    "duration": 20,
    "start_time": "2022-08-29T12:51:09.844Z"
   },
   {
    "duration": 20,
    "start_time": "2022-08-29T12:51:29.627Z"
   },
   {
    "duration": 1634,
    "start_time": "2022-08-29T12:51:40.388Z"
   },
   {
    "duration": 39,
    "start_time": "2022-08-29T12:51:42.024Z"
   },
   {
    "duration": 55,
    "start_time": "2022-08-29T12:51:42.066Z"
   },
   {
    "duration": 29,
    "start_time": "2022-08-29T12:51:42.124Z"
   },
   {
    "duration": 13,
    "start_time": "2022-08-29T12:51:42.156Z"
   },
   {
    "duration": 35,
    "start_time": "2022-08-29T12:51:42.171Z"
   },
   {
    "duration": 44,
    "start_time": "2022-08-29T12:51:42.211Z"
   },
   {
    "duration": 17,
    "start_time": "2022-08-29T12:51:42.257Z"
   },
   {
    "duration": 8,
    "start_time": "2022-08-29T12:51:42.278Z"
   },
   {
    "duration": 49,
    "start_time": "2022-08-29T12:51:42.290Z"
   },
   {
    "duration": 14,
    "start_time": "2022-08-29T12:51:42.348Z"
   },
   {
    "duration": 16,
    "start_time": "2022-08-29T12:51:42.364Z"
   },
   {
    "duration": 55,
    "start_time": "2022-08-29T12:51:42.383Z"
   },
   {
    "duration": 25,
    "start_time": "2022-08-29T12:51:42.441Z"
   },
   {
    "duration": 17,
    "start_time": "2022-08-29T12:51:42.468Z"
   },
   {
    "duration": 38,
    "start_time": "2022-08-29T12:51:42.489Z"
   },
   {
    "duration": 1289,
    "start_time": "2022-08-29T12:51:42.529Z"
   },
   {
    "duration": 31,
    "start_time": "2022-08-29T12:51:43.823Z"
   },
   {
    "duration": 22,
    "start_time": "2022-08-29T12:51:43.856Z"
   },
   {
    "duration": 10,
    "start_time": "2022-08-29T12:51:43.880Z"
   },
   {
    "duration": 71,
    "start_time": "2022-08-29T12:51:43.896Z"
   },
   {
    "duration": 4,
    "start_time": "2022-08-29T12:51:43.969Z"
   },
   {
    "duration": 132,
    "start_time": "2022-08-29T12:51:43.975Z"
   },
   {
    "duration": 24,
    "start_time": "2022-08-29T12:51:44.109Z"
   },
   {
    "duration": 308,
    "start_time": "2022-08-29T12:51:44.135Z"
   },
   {
    "duration": 10,
    "start_time": "2022-08-29T12:51:44.445Z"
   },
   {
    "duration": 280,
    "start_time": "2022-08-29T12:51:44.457Z"
   },
   {
    "duration": 12,
    "start_time": "2022-08-29T12:51:44.745Z"
   },
   {
    "duration": 259,
    "start_time": "2022-08-29T12:51:44.758Z"
   },
   {
    "duration": 15,
    "start_time": "2022-08-29T12:51:45.031Z"
   },
   {
    "duration": 238,
    "start_time": "2022-08-29T12:51:45.048Z"
   },
   {
    "duration": 10,
    "start_time": "2022-08-29T12:51:45.289Z"
   },
   {
    "duration": 253,
    "start_time": "2022-08-29T12:51:45.301Z"
   },
   {
    "duration": 12,
    "start_time": "2022-08-29T12:51:45.560Z"
   },
   {
    "duration": 218,
    "start_time": "2022-08-29T12:51:45.574Z"
   },
   {
    "duration": 9,
    "start_time": "2022-08-29T12:51:45.798Z"
   },
   {
    "duration": 61,
    "start_time": "2022-08-29T12:51:45.809Z"
   },
   {
    "duration": 12,
    "start_time": "2022-08-29T12:51:45.872Z"
   },
   {
    "duration": 30,
    "start_time": "2022-08-29T12:51:45.886Z"
   },
   {
    "duration": 57,
    "start_time": "2022-08-29T12:51:45.919Z"
   },
   {
    "duration": 51,
    "start_time": "2022-08-29T12:51:45.979Z"
   },
   {
    "duration": 42,
    "start_time": "2022-08-29T12:51:46.033Z"
   },
   {
    "duration": 12,
    "start_time": "2022-08-29T12:51:46.077Z"
   },
   {
    "duration": 60,
    "start_time": "2022-08-29T12:51:46.091Z"
   },
   {
    "duration": 9,
    "start_time": "2022-08-29T12:51:46.154Z"
   },
   {
    "duration": 117,
    "start_time": "2022-08-29T12:51:46.164Z"
   },
   {
    "duration": 22,
    "start_time": "2022-08-29T12:51:46.283Z"
   },
   {
    "duration": 52,
    "start_time": "2022-08-29T12:51:46.310Z"
   },
   {
    "duration": 18,
    "start_time": "2022-08-29T12:51:46.365Z"
   },
   {
    "duration": 19,
    "start_time": "2022-08-29T12:51:46.386Z"
   },
   {
    "duration": 58,
    "start_time": "2022-08-29T12:51:46.408Z"
   },
   {
    "duration": 8,
    "start_time": "2022-08-29T12:51:46.468Z"
   },
   {
    "duration": 17,
    "start_time": "2022-08-29T12:51:46.479Z"
   },
   {
    "duration": 61,
    "start_time": "2022-08-29T12:51:46.498Z"
   },
   {
    "duration": 24,
    "start_time": "2022-08-29T12:55:29.319Z"
   },
   {
    "duration": 7,
    "start_time": "2022-08-29T12:55:30.766Z"
   },
   {
    "duration": 1803,
    "start_time": "2022-08-29T12:56:04.638Z"
   },
   {
    "duration": 26,
    "start_time": "2022-08-29T12:56:06.444Z"
   },
   {
    "duration": 42,
    "start_time": "2022-08-29T12:56:06.472Z"
   },
   {
    "duration": 90,
    "start_time": "2022-08-29T12:56:06.521Z"
   },
   {
    "duration": 42,
    "start_time": "2022-08-29T12:56:06.622Z"
   },
   {
    "duration": 48,
    "start_time": "2022-08-29T12:56:06.666Z"
   },
   {
    "duration": 62,
    "start_time": "2022-08-29T12:56:06.724Z"
   },
   {
    "duration": 26,
    "start_time": "2022-08-29T12:56:06.788Z"
   },
   {
    "duration": 53,
    "start_time": "2022-08-29T12:56:06.828Z"
   },
   {
    "duration": 50,
    "start_time": "2022-08-29T12:56:06.884Z"
   },
   {
    "duration": 40,
    "start_time": "2022-08-29T12:56:06.937Z"
   },
   {
    "duration": 90,
    "start_time": "2022-08-29T12:56:06.984Z"
   },
   {
    "duration": 11,
    "start_time": "2022-08-29T12:56:07.077Z"
   },
   {
    "duration": 58,
    "start_time": "2022-08-29T12:56:07.090Z"
   },
   {
    "duration": 22,
    "start_time": "2022-08-29T12:56:07.150Z"
   },
   {
    "duration": 10,
    "start_time": "2022-08-29T12:56:07.175Z"
   },
   {
    "duration": 1403,
    "start_time": "2022-08-29T12:56:07.187Z"
   },
   {
    "duration": 15,
    "start_time": "2022-08-29T12:56:08.595Z"
   },
   {
    "duration": 58,
    "start_time": "2022-08-29T12:56:08.612Z"
   },
   {
    "duration": 101,
    "start_time": "2022-08-29T12:56:08.673Z"
   },
   {
    "duration": 60,
    "start_time": "2022-08-29T12:56:08.776Z"
   },
   {
    "duration": 50,
    "start_time": "2022-08-29T12:56:08.839Z"
   },
   {
    "duration": 110,
    "start_time": "2022-08-29T12:56:08.896Z"
   },
   {
    "duration": 14,
    "start_time": "2022-08-29T12:56:09.008Z"
   },
   {
    "duration": 324,
    "start_time": "2022-08-29T12:56:09.024Z"
   },
   {
    "duration": 18,
    "start_time": "2022-08-29T12:56:09.353Z"
   },
   {
    "duration": 344,
    "start_time": "2022-08-29T12:56:09.375Z"
   },
   {
    "duration": 13,
    "start_time": "2022-08-29T12:56:09.724Z"
   },
   {
    "duration": 287,
    "start_time": "2022-08-29T12:56:09.739Z"
   },
   {
    "duration": 14,
    "start_time": "2022-08-29T12:56:10.040Z"
   },
   {
    "duration": 280,
    "start_time": "2022-08-29T12:56:10.062Z"
   },
   {
    "duration": 18,
    "start_time": "2022-08-29T12:56:10.345Z"
   },
   {
    "duration": 310,
    "start_time": "2022-08-29T12:56:10.370Z"
   },
   {
    "duration": 20,
    "start_time": "2022-08-29T12:56:10.687Z"
   },
   {
    "duration": 318,
    "start_time": "2022-08-29T12:56:10.709Z"
   },
   {
    "duration": 23,
    "start_time": "2022-08-29T12:56:11.031Z"
   },
   {
    "duration": 19,
    "start_time": "2022-08-29T12:56:11.058Z"
   },
   {
    "duration": 9,
    "start_time": "2022-08-29T12:56:11.080Z"
   },
   {
    "duration": 29,
    "start_time": "2022-08-29T12:56:11.095Z"
   },
   {
    "duration": 46,
    "start_time": "2022-08-29T12:56:11.125Z"
   },
   {
    "duration": 9,
    "start_time": "2022-08-29T12:56:11.173Z"
   },
   {
    "duration": 13,
    "start_time": "2022-08-29T12:56:11.184Z"
   },
   {
    "duration": 69,
    "start_time": "2022-08-29T12:56:11.199Z"
   },
   {
    "duration": 26,
    "start_time": "2022-08-29T12:56:11.270Z"
   },
   {
    "duration": 59,
    "start_time": "2022-08-29T12:56:11.298Z"
   },
   {
    "duration": 140,
    "start_time": "2022-08-29T12:56:11.359Z"
   },
   {
    "duration": 12,
    "start_time": "2022-08-29T12:56:11.510Z"
   },
   {
    "duration": 52,
    "start_time": "2022-08-29T12:56:11.526Z"
   },
   {
    "duration": 9,
    "start_time": "2022-08-29T12:56:11.580Z"
   },
   {
    "duration": 14,
    "start_time": "2022-08-29T12:56:11.591Z"
   },
   {
    "duration": 66,
    "start_time": "2022-08-29T12:56:11.608Z"
   },
   {
    "duration": 7,
    "start_time": "2022-08-29T12:56:11.676Z"
   },
   {
    "duration": 19,
    "start_time": "2022-08-29T12:56:11.685Z"
   },
   {
    "duration": 77,
    "start_time": "2022-08-29T12:56:11.707Z"
   },
   {
    "duration": 18,
    "start_time": "2022-08-29T13:12:06.540Z"
   },
   {
    "duration": 1474,
    "start_time": "2022-08-29T13:12:13.183Z"
   },
   {
    "duration": 20,
    "start_time": "2022-08-29T13:12:14.659Z"
   },
   {
    "duration": 35,
    "start_time": "2022-08-29T13:12:14.681Z"
   },
   {
    "duration": 46,
    "start_time": "2022-08-29T13:12:14.719Z"
   },
   {
    "duration": 7,
    "start_time": "2022-08-29T13:12:14.766Z"
   },
   {
    "duration": 19,
    "start_time": "2022-08-29T13:12:14.774Z"
   },
   {
    "duration": 62,
    "start_time": "2022-08-29T13:12:14.796Z"
   },
   {
    "duration": 9,
    "start_time": "2022-08-29T13:12:14.859Z"
   },
   {
    "duration": 5,
    "start_time": "2022-08-29T13:12:14.870Z"
   },
   {
    "duration": 7,
    "start_time": "2022-08-29T13:12:14.878Z"
   },
   {
    "duration": 10,
    "start_time": "2022-08-29T13:12:14.887Z"
   },
   {
    "duration": 59,
    "start_time": "2022-08-29T13:12:14.898Z"
   },
   {
    "duration": 7,
    "start_time": "2022-08-29T13:12:14.958Z"
   },
   {
    "duration": 7,
    "start_time": "2022-08-29T13:12:14.967Z"
   },
   {
    "duration": 6,
    "start_time": "2022-08-29T13:12:14.975Z"
   },
   {
    "duration": 5,
    "start_time": "2022-08-29T13:12:14.982Z"
   },
   {
    "duration": 1292,
    "start_time": "2022-08-29T13:12:14.988Z"
   },
   {
    "duration": 8,
    "start_time": "2022-08-29T13:12:16.282Z"
   },
   {
    "duration": 58,
    "start_time": "2022-08-29T13:12:16.294Z"
   },
   {
    "duration": 30,
    "start_time": "2022-08-29T13:12:16.353Z"
   },
   {
    "duration": 69,
    "start_time": "2022-08-29T13:12:16.385Z"
   },
   {
    "duration": 30,
    "start_time": "2022-08-29T13:12:16.456Z"
   },
   {
    "duration": 76,
    "start_time": "2022-08-29T13:12:16.487Z"
   },
   {
    "duration": 6,
    "start_time": "2022-08-29T13:12:16.565Z"
   },
   {
    "duration": 236,
    "start_time": "2022-08-29T13:12:16.573Z"
   },
   {
    "duration": 17,
    "start_time": "2022-08-29T13:12:16.814Z"
   },
   {
    "duration": 211,
    "start_time": "2022-08-29T13:12:16.833Z"
   },
   {
    "duration": 7,
    "start_time": "2022-08-29T13:12:17.051Z"
   },
   {
    "duration": 214,
    "start_time": "2022-08-29T13:12:17.060Z"
   },
   {
    "duration": 8,
    "start_time": "2022-08-29T13:12:17.276Z"
   },
   {
    "duration": 194,
    "start_time": "2022-08-29T13:12:17.286Z"
   },
   {
    "duration": 7,
    "start_time": "2022-08-29T13:12:17.482Z"
   },
   {
    "duration": 257,
    "start_time": "2022-08-29T13:12:17.497Z"
   },
   {
    "duration": 8,
    "start_time": "2022-08-29T13:12:17.755Z"
   },
   {
    "duration": 228,
    "start_time": "2022-08-29T13:12:17.765Z"
   },
   {
    "duration": 10,
    "start_time": "2022-08-29T13:12:17.994Z"
   },
   {
    "duration": 59,
    "start_time": "2022-08-29T13:12:18.005Z"
   },
   {
    "duration": 7,
    "start_time": "2022-08-29T13:12:18.066Z"
   },
   {
    "duration": 13,
    "start_time": "2022-08-29T13:12:18.075Z"
   },
   {
    "duration": 62,
    "start_time": "2022-08-29T13:12:18.090Z"
   },
   {
    "duration": 8,
    "start_time": "2022-08-29T13:12:18.153Z"
   },
   {
    "duration": 8,
    "start_time": "2022-08-29T13:12:18.162Z"
   },
   {
    "duration": 8,
    "start_time": "2022-08-29T13:12:18.171Z"
   },
   {
    "duration": 8,
    "start_time": "2022-08-29T13:12:18.181Z"
   },
   {
    "duration": 48,
    "start_time": "2022-08-29T13:12:18.190Z"
   },
   {
    "duration": 98,
    "start_time": "2022-08-29T13:12:18.241Z"
   },
   {
    "duration": 13,
    "start_time": "2022-08-29T13:12:18.346Z"
   },
   {
    "duration": 8,
    "start_time": "2022-08-29T13:12:18.361Z"
   },
   {
    "duration": 7,
    "start_time": "2022-08-29T13:12:18.371Z"
   },
   {
    "duration": 7,
    "start_time": "2022-08-29T13:12:18.380Z"
   },
   {
    "duration": 58,
    "start_time": "2022-08-29T13:12:18.388Z"
   },
   {
    "duration": 7,
    "start_time": "2022-08-29T13:12:18.448Z"
   },
   {
    "duration": 8,
    "start_time": "2022-08-29T13:12:18.456Z"
   },
   {
    "duration": 8,
    "start_time": "2022-08-29T13:12:18.466Z"
   },
   {
    "duration": 45,
    "start_time": "2022-08-29T13:13:14.286Z"
   },
   {
    "duration": 35,
    "start_time": "2022-08-29T13:13:51.909Z"
   },
   {
    "duration": 17,
    "start_time": "2022-08-29T13:14:42.839Z"
   },
   {
    "duration": 7,
    "start_time": "2022-08-29T13:14:45.060Z"
   },
   {
    "duration": 203,
    "start_time": "2022-08-29T13:14:46.019Z"
   },
   {
    "duration": 14,
    "start_time": "2022-08-29T13:14:56.015Z"
   },
   {
    "duration": 161,
    "start_time": "2022-08-29T13:14:57.320Z"
   },
   {
    "duration": 8,
    "start_time": "2022-08-29T13:14:58.176Z"
   },
   {
    "duration": 155,
    "start_time": "2022-08-29T13:15:26.319Z"
   },
   {
    "duration": 31,
    "start_time": "2022-08-29T13:30:35.277Z"
   },
   {
    "duration": 4,
    "start_time": "2022-08-29T13:30:36.070Z"
   },
   {
    "duration": 23,
    "start_time": "2022-08-29T13:30:54.634Z"
   },
   {
    "duration": 34,
    "start_time": "2022-08-29T13:31:21.318Z"
   },
   {
    "duration": 8,
    "start_time": "2022-08-29T13:31:52.366Z"
   },
   {
    "duration": 213,
    "start_time": "2022-08-29T13:31:54.668Z"
   },
   {
    "duration": 21,
    "start_time": "2022-08-29T13:35:22.554Z"
   },
   {
    "duration": 20,
    "start_time": "2022-08-29T13:35:52.543Z"
   },
   {
    "duration": 27,
    "start_time": "2022-08-29T13:36:44.612Z"
   },
   {
    "duration": 14,
    "start_time": "2022-08-29T13:37:16.188Z"
   },
   {
    "duration": 220,
    "start_time": "2022-08-29T13:37:16.954Z"
   },
   {
    "duration": 9,
    "start_time": "2022-08-29T13:37:20.031Z"
   },
   {
    "duration": 189,
    "start_time": "2022-08-29T13:37:20.748Z"
   },
   {
    "duration": 9,
    "start_time": "2022-08-29T13:37:23.055Z"
   },
   {
    "duration": 203,
    "start_time": "2022-08-29T13:37:24.487Z"
   },
   {
    "duration": 11,
    "start_time": "2022-08-29T13:37:24.984Z"
   },
   {
    "duration": 186,
    "start_time": "2022-08-29T13:37:25.974Z"
   },
   {
    "duration": 9,
    "start_time": "2022-08-29T13:37:26.639Z"
   },
   {
    "duration": 237,
    "start_time": "2022-08-29T13:37:29.323Z"
   },
   {
    "duration": 9,
    "start_time": "2022-08-29T13:37:30.331Z"
   },
   {
    "duration": 170,
    "start_time": "2022-08-29T13:37:32.720Z"
   },
   {
    "duration": 7,
    "start_time": "2022-08-29T13:37:39.743Z"
   },
   {
    "duration": 12,
    "start_time": "2022-08-29T13:37:42.990Z"
   },
   {
    "duration": 10,
    "start_time": "2022-08-29T13:37:58.711Z"
   },
   {
    "duration": 13,
    "start_time": "2022-08-29T13:38:05.907Z"
   },
   {
    "duration": 8,
    "start_time": "2022-08-29T13:38:07.257Z"
   },
   {
    "duration": 8,
    "start_time": "2022-08-29T13:38:08.776Z"
   },
   {
    "duration": 19,
    "start_time": "2022-08-29T13:38:47.176Z"
   },
   {
    "duration": 4,
    "start_time": "2022-08-29T13:43:01.277Z"
   },
   {
    "duration": 7,
    "start_time": "2022-08-29T13:43:16.255Z"
   },
   {
    "duration": 25,
    "start_time": "2022-08-29T13:43:24.282Z"
   },
   {
    "duration": 8,
    "start_time": "2022-08-29T13:43:25.247Z"
   },
   {
    "duration": 53,
    "start_time": "2022-08-29T13:44:01.478Z"
   },
   {
    "duration": 9,
    "start_time": "2022-08-29T13:44:19.319Z"
   },
   {
    "duration": 7,
    "start_time": "2022-08-29T13:44:38.640Z"
   },
   {
    "duration": 23,
    "start_time": "2022-08-29T13:54:34.034Z"
   },
   {
    "duration": 7,
    "start_time": "2022-08-29T13:58:49.259Z"
   },
   {
    "duration": 226,
    "start_time": "2022-08-29T13:58:49.944Z"
   },
   {
    "duration": 20,
    "start_time": "2022-08-29T13:59:44.292Z"
   },
   {
    "duration": 311,
    "start_time": "2022-08-29T13:59:47.378Z"
   },
   {
    "duration": 12,
    "start_time": "2022-08-29T13:59:48.489Z"
   },
   {
    "duration": 7,
    "start_time": "2022-08-29T14:01:16.163Z"
   },
   {
    "duration": 177,
    "start_time": "2022-08-29T14:01:46.047Z"
   },
   {
    "duration": 16,
    "start_time": "2022-08-29T14:03:32.690Z"
   },
   {
    "duration": 11,
    "start_time": "2022-08-29T14:06:26.110Z"
   },
   {
    "duration": 9,
    "start_time": "2022-08-29T14:07:14.634Z"
   },
   {
    "duration": 1545,
    "start_time": "2022-08-29T14:07:41.924Z"
   },
   {
    "duration": 22,
    "start_time": "2022-08-29T14:07:43.471Z"
   },
   {
    "duration": 24,
    "start_time": "2022-08-29T14:07:43.495Z"
   },
   {
    "duration": 30,
    "start_time": "2022-08-29T14:07:43.521Z"
   },
   {
    "duration": 3,
    "start_time": "2022-08-29T14:07:43.554Z"
   },
   {
    "duration": 19,
    "start_time": "2022-08-29T14:07:43.559Z"
   },
   {
    "duration": 41,
    "start_time": "2022-08-29T14:07:43.580Z"
   },
   {
    "duration": 32,
    "start_time": "2022-08-29T14:07:43.624Z"
   },
   {
    "duration": 5,
    "start_time": "2022-08-29T14:07:43.658Z"
   },
   {
    "duration": 6,
    "start_time": "2022-08-29T14:07:43.665Z"
   },
   {
    "duration": 8,
    "start_time": "2022-08-29T14:07:43.672Z"
   },
   {
    "duration": 12,
    "start_time": "2022-08-29T14:07:43.682Z"
   },
   {
    "duration": 56,
    "start_time": "2022-08-29T14:07:43.696Z"
   },
   {
    "duration": 5,
    "start_time": "2022-08-29T14:07:43.755Z"
   },
   {
    "duration": 6,
    "start_time": "2022-08-29T14:07:43.762Z"
   },
   {
    "duration": 7,
    "start_time": "2022-08-29T14:07:43.770Z"
   },
   {
    "duration": 1234,
    "start_time": "2022-08-29T14:07:43.779Z"
   },
   {
    "duration": 9,
    "start_time": "2022-08-29T14:07:45.015Z"
   },
   {
    "duration": 26,
    "start_time": "2022-08-29T14:07:45.027Z"
   },
   {
    "duration": 8,
    "start_time": "2022-08-29T14:07:45.055Z"
   },
   {
    "duration": 17,
    "start_time": "2022-08-29T14:07:45.065Z"
   },
   {
    "duration": 14,
    "start_time": "2022-08-29T14:07:45.083Z"
   },
   {
    "duration": 51,
    "start_time": "2022-08-29T14:07:45.099Z"
   },
   {
    "duration": 19,
    "start_time": "2022-08-29T14:07:45.152Z"
   },
   {
    "duration": 8,
    "start_time": "2022-08-29T14:07:45.173Z"
   },
   {
    "duration": 242,
    "start_time": "2022-08-29T14:07:45.183Z"
   },
   {
    "duration": 12,
    "start_time": "2022-08-29T14:07:45.427Z"
   },
   {
    "duration": 228,
    "start_time": "2022-08-29T14:07:45.441Z"
   },
   {
    "duration": 8,
    "start_time": "2022-08-29T14:07:45.670Z"
   },
   {
    "duration": 200,
    "start_time": "2022-08-29T14:07:45.680Z"
   },
   {
    "duration": 7,
    "start_time": "2022-08-29T14:07:45.882Z"
   },
   {
    "duration": 219,
    "start_time": "2022-08-29T14:07:45.892Z"
   },
   {
    "duration": 14,
    "start_time": "2022-08-29T14:07:46.113Z"
   },
   {
    "duration": 226,
    "start_time": "2022-08-29T14:07:46.129Z"
   },
   {
    "duration": 7,
    "start_time": "2022-08-29T14:07:46.357Z"
   },
   {
    "duration": 184,
    "start_time": "2022-08-29T14:07:46.366Z"
   },
   {
    "duration": 8,
    "start_time": "2022-08-29T14:07:46.551Z"
   },
   {
    "duration": 300,
    "start_time": "2022-08-29T14:07:46.561Z"
   },
   {
    "duration": 7,
    "start_time": "2022-08-29T14:07:46.863Z"
   },
   {
    "duration": 11,
    "start_time": "2022-08-29T14:07:46.872Z"
   },
   {
    "duration": 17,
    "start_time": "2022-08-29T14:07:46.888Z"
   },
   {
    "duration": 55,
    "start_time": "2022-08-29T14:07:46.907Z"
   },
   {
    "duration": 7,
    "start_time": "2022-08-29T14:07:46.964Z"
   },
   {
    "duration": 7,
    "start_time": "2022-08-29T14:07:46.973Z"
   },
   {
    "duration": 10,
    "start_time": "2022-08-29T14:07:46.982Z"
   },
   {
    "duration": 55,
    "start_time": "2022-08-29T14:07:46.994Z"
   },
   {
    "duration": 10,
    "start_time": "2022-08-29T14:07:47.050Z"
   },
   {
    "duration": 10,
    "start_time": "2022-08-29T14:07:47.061Z"
   },
   {
    "duration": 7,
    "start_time": "2022-08-29T14:07:47.073Z"
   },
   {
    "duration": 11,
    "start_time": "2022-08-29T14:07:47.081Z"
   },
   {
    "duration": 53,
    "start_time": "2022-08-29T14:07:47.094Z"
   },
   {
    "duration": 13,
    "start_time": "2022-08-29T14:07:47.150Z"
   },
   {
    "duration": 12,
    "start_time": "2022-08-29T14:07:47.165Z"
   },
   {
    "duration": 6,
    "start_time": "2022-08-29T14:07:47.179Z"
   },
   {
    "duration": 7,
    "start_time": "2022-08-29T14:07:47.187Z"
   },
   {
    "duration": 69,
    "start_time": "2022-08-29T14:07:47.195Z"
   },
   {
    "duration": 12,
    "start_time": "2022-08-29T14:07:47.266Z"
   },
   {
    "duration": 10,
    "start_time": "2022-08-29T14:12:31.927Z"
   },
   {
    "duration": 331,
    "start_time": "2022-08-29T14:13:18.749Z"
   },
   {
    "duration": 11,
    "start_time": "2022-08-29T14:13:25.718Z"
   },
   {
    "duration": 239,
    "start_time": "2022-08-29T14:13:27.230Z"
   },
   {
    "duration": 7,
    "start_time": "2022-08-29T14:14:23.567Z"
   },
   {
    "duration": 18,
    "start_time": "2022-08-29T14:14:25.940Z"
   },
   {
    "duration": 17,
    "start_time": "2022-08-29T14:14:32.632Z"
   },
   {
    "duration": 11,
    "start_time": "2022-08-29T14:14:36.988Z"
   },
   {
    "duration": 21,
    "start_time": "2022-08-29T14:14:38.346Z"
   },
   {
    "duration": 11,
    "start_time": "2022-08-29T14:14:40.822Z"
   },
   {
    "duration": 8,
    "start_time": "2022-08-29T14:14:45.923Z"
   },
   {
    "duration": 13,
    "start_time": "2022-08-29T14:14:49.463Z"
   },
   {
    "duration": 8,
    "start_time": "2022-08-29T14:14:53.882Z"
   },
   {
    "duration": 15,
    "start_time": "2022-08-29T14:14:57.407Z"
   },
   {
    "duration": 9,
    "start_time": "2022-08-29T14:15:02.262Z"
   },
   {
    "duration": 17,
    "start_time": "2022-08-29T14:15:05.618Z"
   },
   {
    "duration": 13,
    "start_time": "2022-08-29T14:15:06.092Z"
   },
   {
    "duration": 14,
    "start_time": "2022-08-29T14:15:07.089Z"
   },
   {
    "duration": 7,
    "start_time": "2022-08-29T14:15:08.870Z"
   },
   {
    "duration": 1507,
    "start_time": "2022-08-29T14:15:26.134Z"
   },
   {
    "duration": 25,
    "start_time": "2022-08-29T14:15:27.644Z"
   },
   {
    "duration": 47,
    "start_time": "2022-08-29T14:15:27.671Z"
   },
   {
    "duration": 46,
    "start_time": "2022-08-29T14:15:27.720Z"
   },
   {
    "duration": 13,
    "start_time": "2022-08-29T14:15:27.768Z"
   },
   {
    "duration": 80,
    "start_time": "2022-08-29T14:15:27.783Z"
   },
   {
    "duration": 39,
    "start_time": "2022-08-29T14:15:27.865Z"
   },
   {
    "duration": 53,
    "start_time": "2022-08-29T14:15:27.906Z"
   },
   {
    "duration": 9,
    "start_time": "2022-08-29T14:15:27.961Z"
   },
   {
    "duration": 18,
    "start_time": "2022-08-29T14:15:27.971Z"
   },
   {
    "duration": 62,
    "start_time": "2022-08-29T14:15:27.991Z"
   },
   {
    "duration": 35,
    "start_time": "2022-08-29T14:15:28.055Z"
   },
   {
    "duration": 63,
    "start_time": "2022-08-29T14:15:28.093Z"
   },
   {
    "duration": 13,
    "start_time": "2022-08-29T14:15:28.159Z"
   },
   {
    "duration": 22,
    "start_time": "2022-08-29T14:15:28.174Z"
   },
   {
    "duration": 70,
    "start_time": "2022-08-29T14:15:28.201Z"
   },
   {
    "duration": 1282,
    "start_time": "2022-08-29T14:15:28.273Z"
   },
   {
    "duration": 10,
    "start_time": "2022-08-29T14:15:29.559Z"
   },
   {
    "duration": 9,
    "start_time": "2022-08-29T14:15:29.572Z"
   },
   {
    "duration": 16,
    "start_time": "2022-08-29T14:15:29.583Z"
   },
   {
    "duration": 69,
    "start_time": "2022-08-29T14:15:29.600Z"
   },
   {
    "duration": 8,
    "start_time": "2022-08-29T14:15:29.671Z"
   },
   {
    "duration": 7,
    "start_time": "2022-08-29T14:15:29.681Z"
   },
   {
    "duration": 76,
    "start_time": "2022-08-29T14:15:29.690Z"
   },
   {
    "duration": 7,
    "start_time": "2022-08-29T14:15:29.768Z"
   },
   {
    "duration": 237,
    "start_time": "2022-08-29T14:15:29.777Z"
   },
   {
    "duration": 20,
    "start_time": "2022-08-29T14:15:30.035Z"
   },
   {
    "duration": 217,
    "start_time": "2022-08-29T14:15:30.058Z"
   },
   {
    "duration": 18,
    "start_time": "2022-08-29T14:15:30.277Z"
   },
   {
    "duration": 245,
    "start_time": "2022-08-29T14:15:30.299Z"
   },
   {
    "duration": 9,
    "start_time": "2022-08-29T14:15:30.546Z"
   },
   {
    "duration": 214,
    "start_time": "2022-08-29T14:15:30.558Z"
   },
   {
    "duration": 8,
    "start_time": "2022-08-29T14:15:30.774Z"
   },
   {
    "duration": 257,
    "start_time": "2022-08-29T14:15:30.793Z"
   },
   {
    "duration": 12,
    "start_time": "2022-08-29T14:15:31.051Z"
   },
   {
    "duration": 225,
    "start_time": "2022-08-29T14:15:31.066Z"
   },
   {
    "duration": 13,
    "start_time": "2022-08-29T14:15:31.297Z"
   },
   {
    "duration": 344,
    "start_time": "2022-08-29T14:15:31.315Z"
   },
   {
    "duration": 8,
    "start_time": "2022-08-29T14:15:31.661Z"
   },
   {
    "duration": 36,
    "start_time": "2022-08-29T14:15:31.670Z"
   },
   {
    "duration": 49,
    "start_time": "2022-08-29T14:15:31.712Z"
   },
   {
    "duration": 20,
    "start_time": "2022-08-29T14:15:31.763Z"
   },
   {
    "duration": 51,
    "start_time": "2022-08-29T14:15:31.785Z"
   },
   {
    "duration": 38,
    "start_time": "2022-08-29T14:15:31.838Z"
   },
   {
    "duration": 81,
    "start_time": "2022-08-29T14:15:31.879Z"
   },
   {
    "duration": 28,
    "start_time": "2022-08-29T14:15:31.962Z"
   },
   {
    "duration": 78,
    "start_time": "2022-08-29T14:15:31.995Z"
   },
   {
    "duration": 23,
    "start_time": "2022-08-29T14:15:32.075Z"
   },
   {
    "duration": 63,
    "start_time": "2022-08-29T14:15:32.101Z"
   },
   {
    "duration": 32,
    "start_time": "2022-08-29T14:15:32.167Z"
   },
   {
    "duration": 70,
    "start_time": "2022-08-29T14:15:32.201Z"
   },
   {
    "duration": 80,
    "start_time": "2022-08-29T14:15:32.273Z"
   },
   {
    "duration": 24,
    "start_time": "2022-08-29T14:15:32.355Z"
   },
   {
    "duration": 80,
    "start_time": "2022-08-29T14:15:32.382Z"
   },
   {
    "duration": 50,
    "start_time": "2022-08-29T14:15:32.465Z"
   },
   {
    "duration": 54,
    "start_time": "2022-08-29T14:15:32.518Z"
   },
   {
    "duration": 71,
    "start_time": "2022-08-29T14:15:32.574Z"
   },
   {
    "duration": 17,
    "start_time": "2022-08-29T14:27:30.819Z"
   },
   {
    "duration": 156,
    "start_time": "2022-08-29T14:32:38.620Z"
   },
   {
    "duration": 19,
    "start_time": "2022-08-29T14:35:01.908Z"
   },
   {
    "duration": 21,
    "start_time": "2022-08-29T14:35:08.493Z"
   },
   {
    "duration": 7,
    "start_time": "2022-08-29T14:35:24.454Z"
   },
   {
    "duration": 9,
    "start_time": "2022-08-29T14:37:22.746Z"
   },
   {
    "duration": 8,
    "start_time": "2022-08-29T14:37:33.270Z"
   },
   {
    "duration": 17,
    "start_time": "2022-08-29T14:37:53.530Z"
   },
   {
    "duration": 7,
    "start_time": "2022-08-29T14:37:55.754Z"
   },
   {
    "duration": 214,
    "start_time": "2022-08-29T14:37:56.130Z"
   },
   {
    "duration": 10,
    "start_time": "2022-08-29T14:38:00.680Z"
   },
   {
    "duration": 196,
    "start_time": "2022-08-29T14:38:01.068Z"
   },
   {
    "duration": 8,
    "start_time": "2022-08-29T14:38:01.446Z"
   },
   {
    "duration": 204,
    "start_time": "2022-08-29T14:38:01.842Z"
   },
   {
    "duration": 12,
    "start_time": "2022-08-29T14:38:02.234Z"
   },
   {
    "duration": 154,
    "start_time": "2022-08-29T14:38:03.441Z"
   },
   {
    "duration": 9,
    "start_time": "2022-08-29T14:38:03.835Z"
   },
   {
    "duration": 195,
    "start_time": "2022-08-29T14:38:04.254Z"
   },
   {
    "duration": 8,
    "start_time": "2022-08-29T14:38:04.680Z"
   },
   {
    "duration": 164,
    "start_time": "2022-08-29T14:38:05.119Z"
   },
   {
    "duration": 9,
    "start_time": "2022-08-29T14:38:07.541Z"
   },
   {
    "duration": 162,
    "start_time": "2022-08-29T14:38:08.042Z"
   },
   {
    "duration": 8,
    "start_time": "2022-08-29T14:38:10.743Z"
   },
   {
    "duration": 19,
    "start_time": "2022-08-29T14:38:12.106Z"
   },
   {
    "duration": 17,
    "start_time": "2022-08-29T14:38:14.922Z"
   },
   {
    "duration": 1427,
    "start_time": "2022-08-29T14:39:24.328Z"
   },
   {
    "duration": 19,
    "start_time": "2022-08-29T14:39:25.757Z"
   },
   {
    "duration": 27,
    "start_time": "2022-08-29T14:39:25.777Z"
   },
   {
    "duration": 24,
    "start_time": "2022-08-29T14:39:25.809Z"
   },
   {
    "duration": 6,
    "start_time": "2022-08-29T14:39:25.842Z"
   },
   {
    "duration": 19,
    "start_time": "2022-08-29T14:39:25.849Z"
   },
   {
    "duration": 19,
    "start_time": "2022-08-29T14:39:25.870Z"
   },
   {
    "duration": 12,
    "start_time": "2022-08-29T14:39:25.891Z"
   },
   {
    "duration": 45,
    "start_time": "2022-08-29T14:39:25.905Z"
   },
   {
    "duration": 8,
    "start_time": "2022-08-29T14:39:25.954Z"
   },
   {
    "duration": 10,
    "start_time": "2022-08-29T14:39:25.964Z"
   },
   {
    "duration": 11,
    "start_time": "2022-08-29T14:39:25.976Z"
   },
   {
    "duration": 66,
    "start_time": "2022-08-29T14:39:25.989Z"
   },
   {
    "duration": 7,
    "start_time": "2022-08-29T14:39:26.057Z"
   },
   {
    "duration": 8,
    "start_time": "2022-08-29T14:39:26.066Z"
   },
   {
    "duration": 5,
    "start_time": "2022-08-29T14:39:26.075Z"
   },
   {
    "duration": 1171,
    "start_time": "2022-08-29T14:39:26.082Z"
   },
   {
    "duration": 8,
    "start_time": "2022-08-29T14:39:27.255Z"
   },
   {
    "duration": 13,
    "start_time": "2022-08-29T14:39:27.265Z"
   },
   {
    "duration": 29,
    "start_time": "2022-08-29T14:39:27.280Z"
   },
   {
    "duration": 52,
    "start_time": "2022-08-29T14:39:27.315Z"
   },
   {
    "duration": 7,
    "start_time": "2022-08-29T14:39:27.369Z"
   },
   {
    "duration": 25,
    "start_time": "2022-08-29T14:39:27.378Z"
   },
   {
    "duration": 65,
    "start_time": "2022-08-29T14:39:27.404Z"
   },
   {
    "duration": 12,
    "start_time": "2022-08-29T14:39:27.471Z"
   },
   {
    "duration": 70,
    "start_time": "2022-08-29T14:39:27.485Z"
   },
   {
    "duration": 329,
    "start_time": "2022-08-29T14:39:27.557Z"
   },
   {
    "duration": 21,
    "start_time": "2022-08-29T14:39:27.892Z"
   },
   {
    "duration": 231,
    "start_time": "2022-08-29T14:39:27.915Z"
   },
   {
    "duration": 9,
    "start_time": "2022-08-29T14:39:28.151Z"
   },
   {
    "duration": 195,
    "start_time": "2022-08-29T14:39:28.162Z"
   },
   {
    "duration": 9,
    "start_time": "2022-08-29T14:39:28.361Z"
   },
   {
    "duration": 187,
    "start_time": "2022-08-29T14:39:28.372Z"
   },
   {
    "duration": 8,
    "start_time": "2022-08-29T14:39:28.560Z"
   },
   {
    "duration": 216,
    "start_time": "2022-08-29T14:39:28.570Z"
   },
   {
    "duration": 22,
    "start_time": "2022-08-29T14:39:28.788Z"
   },
   {
    "duration": 272,
    "start_time": "2022-08-29T14:39:28.812Z"
   },
   {
    "duration": 44,
    "start_time": "2022-08-29T14:39:29.086Z"
   },
   {
    "duration": 204,
    "start_time": "2022-08-29T14:39:29.131Z"
   },
   {
    "duration": 8,
    "start_time": "2022-08-29T14:39:29.337Z"
   },
   {
    "duration": 14,
    "start_time": "2022-08-29T14:39:29.349Z"
   },
   {
    "duration": 14,
    "start_time": "2022-08-29T14:39:29.365Z"
   },
   {
    "duration": 14,
    "start_time": "2022-08-29T14:39:29.399Z"
   },
   {
    "duration": 39,
    "start_time": "2022-08-29T14:39:29.417Z"
   },
   {
    "duration": 17,
    "start_time": "2022-08-29T14:39:29.458Z"
   },
   {
    "duration": 11,
    "start_time": "2022-08-29T14:39:29.476Z"
   },
   {
    "duration": 60,
    "start_time": "2022-08-29T14:39:29.489Z"
   },
   {
    "duration": 12,
    "start_time": "2022-08-29T14:39:29.550Z"
   },
   {
    "duration": 8,
    "start_time": "2022-08-29T14:39:29.564Z"
   },
   {
    "duration": 8,
    "start_time": "2022-08-29T14:39:29.574Z"
   },
   {
    "duration": 11,
    "start_time": "2022-08-29T14:39:29.583Z"
   },
   {
    "duration": 59,
    "start_time": "2022-08-29T14:39:29.597Z"
   },
   {
    "duration": 8,
    "start_time": "2022-08-29T14:39:29.658Z"
   },
   {
    "duration": 7,
    "start_time": "2022-08-29T14:39:29.668Z"
   },
   {
    "duration": 11,
    "start_time": "2022-08-29T14:39:29.677Z"
   },
   {
    "duration": 53,
    "start_time": "2022-08-29T14:39:29.690Z"
   },
   {
    "duration": 10,
    "start_time": "2022-08-29T14:40:36.841Z"
   },
   {
    "duration": 214,
    "start_time": "2022-08-29T14:40:39.963Z"
   },
   {
    "duration": 8,
    "start_time": "2022-08-29T14:40:55.574Z"
   },
   {
    "duration": 200,
    "start_time": "2022-08-29T14:40:55.843Z"
   },
   {
    "duration": 8,
    "start_time": "2022-08-29T14:40:56.083Z"
   },
   {
    "duration": 185,
    "start_time": "2022-08-29T14:40:56.338Z"
   },
   {
    "duration": 7,
    "start_time": "2022-08-29T14:40:56.536Z"
   },
   {
    "duration": 170,
    "start_time": "2022-08-29T14:40:56.806Z"
   },
   {
    "duration": 13,
    "start_time": "2022-08-29T14:40:57.019Z"
   },
   {
    "duration": 178,
    "start_time": "2022-08-29T14:40:57.265Z"
   },
   {
    "duration": 7,
    "start_time": "2022-08-29T14:40:57.466Z"
   },
   {
    "duration": 159,
    "start_time": "2022-08-29T14:40:58.115Z"
   },
   {
    "duration": 9,
    "start_time": "2022-08-29T14:41:00.284Z"
   },
   {
    "duration": 189,
    "start_time": "2022-08-29T14:41:00.663Z"
   },
   {
    "duration": 8,
    "start_time": "2022-08-29T14:41:03.030Z"
   },
   {
    "duration": 14,
    "start_time": "2022-08-29T14:41:06.013Z"
   },
   {
    "duration": 8,
    "start_time": "2022-08-29T14:41:12.375Z"
   },
   {
    "duration": 8,
    "start_time": "2022-08-29T14:41:14.077Z"
   },
   {
    "duration": 8,
    "start_time": "2022-08-29T14:41:16.127Z"
   },
   {
    "duration": 7,
    "start_time": "2022-08-29T14:41:17.562Z"
   },
   {
    "duration": 14,
    "start_time": "2022-08-29T14:41:36.319Z"
   },
   {
    "duration": 12,
    "start_time": "2022-08-29T14:41:38.616Z"
   },
   {
    "duration": 9,
    "start_time": "2022-08-29T14:41:39.207Z"
   },
   {
    "duration": 15,
    "start_time": "2022-08-29T14:41:41.121Z"
   },
   {
    "duration": 12,
    "start_time": "2022-08-29T14:41:42.363Z"
   },
   {
    "duration": 7,
    "start_time": "2022-08-29T14:51:50.459Z"
   },
   {
    "duration": 17,
    "start_time": "2022-08-29T14:52:12.492Z"
   },
   {
    "duration": 8,
    "start_time": "2022-08-29T14:52:31.543Z"
   },
   {
    "duration": 7,
    "start_time": "2022-08-29T15:22:25.537Z"
   },
   {
    "duration": 14,
    "start_time": "2022-08-29T15:22:32.111Z"
   },
   {
    "duration": 1432,
    "start_time": "2022-08-29T15:26:52.477Z"
   },
   {
    "duration": 20,
    "start_time": "2022-08-29T15:26:53.916Z"
   },
   {
    "duration": 18,
    "start_time": "2022-08-29T15:26:53.938Z"
   },
   {
    "duration": 11,
    "start_time": "2022-08-29T15:26:53.959Z"
   },
   {
    "duration": 15,
    "start_time": "2022-08-29T15:26:53.972Z"
   },
   {
    "duration": 47,
    "start_time": "2022-08-29T15:26:53.990Z"
   },
   {
    "duration": 21,
    "start_time": "2022-08-29T15:26:54.039Z"
   },
   {
    "duration": 9,
    "start_time": "2022-08-29T15:26:54.062Z"
   },
   {
    "duration": 6,
    "start_time": "2022-08-29T15:26:54.073Z"
   },
   {
    "duration": 12,
    "start_time": "2022-08-29T15:26:54.081Z"
   },
   {
    "duration": 29,
    "start_time": "2022-08-29T15:26:54.095Z"
   },
   {
    "duration": 11,
    "start_time": "2022-08-29T15:26:54.126Z"
   },
   {
    "duration": 7,
    "start_time": "2022-08-29T15:26:54.139Z"
   },
   {
    "duration": 6,
    "start_time": "2022-08-29T15:26:54.148Z"
   },
   {
    "duration": 5,
    "start_time": "2022-08-29T15:26:54.155Z"
   },
   {
    "duration": 8,
    "start_time": "2022-08-29T15:26:54.162Z"
   },
   {
    "duration": 1076,
    "start_time": "2022-08-29T15:26:54.171Z"
   },
   {
    "duration": 8,
    "start_time": "2022-08-29T15:26:55.249Z"
   },
   {
    "duration": 8,
    "start_time": "2022-08-29T15:26:55.259Z"
   },
   {
    "duration": 43,
    "start_time": "2022-08-29T15:26:55.269Z"
   },
   {
    "duration": 21,
    "start_time": "2022-08-29T15:26:55.318Z"
   },
   {
    "duration": 6,
    "start_time": "2022-08-29T15:26:55.341Z"
   },
   {
    "duration": 8,
    "start_time": "2022-08-29T15:26:55.348Z"
   },
   {
    "duration": 21,
    "start_time": "2022-08-29T15:26:55.357Z"
   },
   {
    "duration": 29,
    "start_time": "2022-08-29T15:26:55.380Z"
   },
   {
    "duration": 16,
    "start_time": "2022-08-29T15:26:55.411Z"
   },
   {
    "duration": 196,
    "start_time": "2022-08-29T15:26:55.429Z"
   },
   {
    "duration": 9,
    "start_time": "2022-08-29T15:26:55.629Z"
   },
   {
    "duration": 190,
    "start_time": "2022-08-29T15:26:55.640Z"
   },
   {
    "duration": 8,
    "start_time": "2022-08-29T15:26:55.831Z"
   },
   {
    "duration": 180,
    "start_time": "2022-08-29T15:26:55.841Z"
   },
   {
    "duration": 8,
    "start_time": "2022-08-29T15:26:56.023Z"
   },
   {
    "duration": 167,
    "start_time": "2022-08-29T15:26:56.032Z"
   },
   {
    "duration": 11,
    "start_time": "2022-08-29T15:26:56.208Z"
   },
   {
    "duration": 184,
    "start_time": "2022-08-29T15:26:56.221Z"
   },
   {
    "duration": 10,
    "start_time": "2022-08-29T15:26:56.408Z"
   },
   {
    "duration": 166,
    "start_time": "2022-08-29T15:26:56.419Z"
   },
   {
    "duration": 21,
    "start_time": "2022-08-29T15:26:56.587Z"
   },
   {
    "duration": 248,
    "start_time": "2022-08-29T15:26:56.617Z"
   },
   {
    "duration": 7,
    "start_time": "2022-08-29T15:26:56.867Z"
   },
   {
    "duration": 30,
    "start_time": "2022-08-29T15:26:56.876Z"
   },
   {
    "duration": 33,
    "start_time": "2022-08-29T15:26:56.907Z"
   },
   {
    "duration": 15,
    "start_time": "2022-08-29T15:26:56.942Z"
   },
   {
    "duration": 11,
    "start_time": "2022-08-29T15:26:56.958Z"
   },
   {
    "duration": 10,
    "start_time": "2022-08-29T15:26:56.971Z"
   },
   {
    "duration": 14,
    "start_time": "2022-08-29T15:26:56.983Z"
   },
   {
    "duration": 25,
    "start_time": "2022-08-29T15:26:57.002Z"
   },
   {
    "duration": 9,
    "start_time": "2022-08-29T15:26:57.028Z"
   },
   {
    "duration": 7,
    "start_time": "2022-08-29T15:26:57.039Z"
   },
   {
    "duration": 14,
    "start_time": "2022-08-29T15:26:57.048Z"
   },
   {
    "duration": 12,
    "start_time": "2022-08-29T15:26:57.063Z"
   },
   {
    "duration": 6,
    "start_time": "2022-08-29T15:26:57.076Z"
   },
   {
    "duration": 14,
    "start_time": "2022-08-29T15:26:57.084Z"
   },
   {
    "duration": 28,
    "start_time": "2022-08-29T15:26:57.100Z"
   },
   {
    "duration": 7,
    "start_time": "2022-08-29T15:26:57.130Z"
   },
   {
    "duration": 12,
    "start_time": "2022-08-29T15:26:57.139Z"
   },
   {
    "duration": 16,
    "start_time": "2022-08-29T15:28:55.088Z"
   },
   {
    "duration": 6,
    "start_time": "2022-08-29T15:30:21.321Z"
   },
   {
    "duration": 6,
    "start_time": "2022-08-29T15:30:34.662Z"
   },
   {
    "duration": 6,
    "start_time": "2022-08-29T15:31:26.728Z"
   },
   {
    "duration": 8,
    "start_time": "2022-08-29T15:31:29.452Z"
   },
   {
    "duration": 7,
    "start_time": "2022-08-29T15:43:23.453Z"
   },
   {
    "duration": 7,
    "start_time": "2022-08-29T15:46:06.140Z"
   },
   {
    "duration": 7,
    "start_time": "2022-08-29T16:15:46.441Z"
   },
   {
    "duration": 118,
    "start_time": "2022-08-29T16:17:04.239Z"
   },
   {
    "duration": 7,
    "start_time": "2022-08-29T16:17:13.856Z"
   },
   {
    "duration": 3878,
    "start_time": "2022-08-29T16:20:12.783Z"
   },
   {
    "duration": 7,
    "start_time": "2022-08-29T16:20:31.059Z"
   },
   {
    "duration": 7,
    "start_time": "2022-08-29T16:22:01.660Z"
   }
  ],
  "kernelspec": {
   "display_name": "Python 3 (ipykernel)",
   "language": "python",
   "name": "python3"
  },
  "language_info": {
   "codemirror_mode": {
    "name": "ipython",
    "version": 3
   },
   "file_extension": ".py",
   "mimetype": "text/x-python",
   "name": "python",
   "nbconvert_exporter": "python",
   "pygments_lexer": "ipython3",
   "version": "3.8.9"
  },
  "toc": {
   "base_numbering": 1,
   "nav_menu": {},
   "number_sections": true,
   "sideBar": true,
   "skip_h1_title": true,
   "title_cell": "Table of Contents",
   "title_sidebar": "Contents",
   "toc_cell": false,
   "toc_position": {},
   "toc_section_display": true,
   "toc_window_display": false
  }
 },
 "nbformat": 4,
 "nbformat_minor": 2
}
